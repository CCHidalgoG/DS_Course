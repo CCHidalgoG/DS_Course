{
 "cells": [
  {
   "metadata": {},
   "cell_type": "markdown",
   "source": [
    "# Titulo principal\n",
    "\n",
    "Este documento es una prueba de documentación. Si quiero **resaltar**, _italic_, __*italic-bold*__.\n",
    "\n",
    "1. Item uno\n",
    "    * Viñeta\n",
    "    * Viñeta 2\n",
    "2. Item 2\n",
    "3. Item 3\n",
    "\n",
    "## Segunto título principal\n",
    "\n",
    "[Excalidraw](https://excalidraw.com/) Es una herramienta interactiva para conectar ideas.\n",
    "\n",
    "### Tercer título principal"
   ],
   "id": "26fa3a957452f89"
  },
  {
   "metadata": {
    "ExecuteTime": {
     "end_time": "2024-03-13T01:20:51.159041Z",
     "start_time": "2024-03-13T01:20:51.141478Z"
    }
   },
   "cell_type": "code",
   "source": "3+3",
   "id": "initial_id",
   "outputs": [
    {
     "data": {
      "text/plain": [
       "6"
      ]
     },
     "execution_count": 1,
     "metadata": {},
     "output_type": "execute_result"
    }
   ],
   "execution_count": 1
  },
  {
   "metadata": {
    "ExecuteTime": {
     "end_time": "2024-03-13T01:21:18.894064Z",
     "start_time": "2024-03-13T01:21:18.776215Z"
    }
   },
   "cell_type": "code",
   "source": [
    "import numpy as np\n",
    "\n",
    "np.sqrt(4)== 2"
   ],
   "id": "5af1aa361a7a6ca1",
   "outputs": [
    {
     "data": {
      "text/plain": [
       "True"
      ]
     },
     "execution_count": 2,
     "metadata": {},
     "output_type": "execute_result"
    }
   ],
   "execution_count": 2
  },
  {
   "metadata": {},
   "cell_type": "code",
   "outputs": [],
   "execution_count": null,
   "source": "",
   "id": "6c464c0305a55253"
  }
 ],
 "metadata": {
  "kernelspec": {
   "display_name": "Python 3",
   "language": "python",
   "name": "python3"
  },
  "language_info": {
   "codemirror_mode": {
    "name": "ipython",
    "version": 2
   },
   "file_extension": ".py",
   "mimetype": "text/x-python",
   "name": "python",
   "nbconvert_exporter": "python",
   "pygments_lexer": "ipython2",
   "version": "2.7.6"
  }
 },
 "nbformat": 4,
 "nbformat_minor": 5
}
