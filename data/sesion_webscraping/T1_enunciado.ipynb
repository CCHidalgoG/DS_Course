{
 "cells": [
  {
   "cell_type": "code",
   "execution_count": 1,
   "metadata": {
    "ExecuteTime": {
     "end_time": "2022-10-21T02:08:16.700000Z",
     "start_time": "2022-10-21T02:08:16.365522Z"
    },
    "id": "Fl7zUUWBV6mS"
   },
   "outputs": [],
   "source": [
    "#código de inicio\n",
    "import requests\n",
    "from bs4 import BeautifulSoup\n",
    "import pandas as pd"
   ]
  },
  {
   "cell_type": "markdown",
   "metadata": {
    "id": "QyhlZPUEwufO"
   },
   "source": [
    "# <img style=\"float: left; padding-right: 20px; width: 100px\" src=\"https://upload.wikimedia.org/wikipedia/commons/thumb/8/84/Escudo_de_la_Pontificia_Universidad_Cat%C3%B3lica_de_Chile.svg/1920px-Escudo_de_la_Pontificia_Universidad_Cat%C3%B3lica_de_Chile.svg.png\"> MCD3020 - Introducción a Ciencia de Datos\n",
    "**Pontificia Universidad Católica de Chile**<br>\n",
    "**Magíster en Ciencia de Datos**<br>\n",
    "**2022**<br>\n",
    "\n",
    "----"
   ]
  },
  {
   "cell_type": "markdown",
   "metadata": {
    "id": "HFn7QeLu3xOO"
   },
   "source": [
    "# Tarea 1: Extracción de datos mediante webscraping.\n",
    "\n",
    "***\n",
    "## Instrucciones Generales:\n",
    "- Esta Tarea debe ser desarrollada completamente en lenguaje de programación Python, en este mismo Notebook.\n",
    "- El Notebook debe estar  ordenado, seguir buenas prácticas de escritura y programación, e incluir comentarios o celdas de markdown suficientes para explicar claramente todos lo códigos computacionales.\n",
    "- El Notebook ya contiene algunas celdas marcadas con el comentario `#código de inicio`. Estas celdas han sido incluidas como ayuda para el desarrollo de la Tarea, y pueden ser ejecutadas tal como están.\n",
    "- Las celdas marcadas como `#completar código` tienen un código parcial que debe ser completado para poder ser ejecutado. Ud debe agregar todas las líneas o bloques de código necesarios para desarrollar correctamente cada punto de la tarea. También puede eliminar estas celdas y partir el código desde cero si le resulta más conveniente.\n",
    "- Para el desarrollo de cada pregunta, se sugiere agregar las celdas de código y/o markdown necesarias bajo el enunciado de la misma.\n",
    "- Asegúrese de guardar los cambios en su Notebook antes de entregarlo.\n",
    "\n",
    "***\n",
    "## Introducción.\n",
    "\n",
    "Hace ya casi 10 años, el trabajo de científico de datos fue catalogado por Harvard Bussiness Review como \"el trabajo más atractivo del siglo XXI\" [(Davenport & Patil 2012)](https://hbr.org/2012/10/data-scientist-the-sexiest-job-of-the-21st-century). Desde entonces, se ha comprobado un aumento constante de la demanda por profesionales expertos datos, y se espera que tanto la creación de puestos trabajos como los salarios sigan al alza en los próximos años. Los siguienes artículos de prensa y difusión ilustran esta situación:\n",
    "\n",
    "https://www.smithhanley.com/2022/01/04/data-science-in-2022/\n",
    "https://www.bbva.com/es/big-data-la-demanda-de-talento-experto-sigue-creciendo/\n",
    "\n",
    "Los estudios citados hacen referencia a mercados laborales en Europa y Estados Unidos. Suponga que ud.está a cargo del desarrollo de un estudio del mercado laboral de científicos de datos en latinoamérica, para lo cual necesita construir una base de datos con las ofertas de trabajo publicadas en distintos países de la región.\n",
    "\n",
    "El objetivo de esta tarea es usar técnicas de webscrapping para extraer datos de ofertas para científicos de datos publicadas en un portal abierto de empleos (www.linkedin.com/jobs).\n",
    "\n",
    "NOTA: Este trabajo fue inspirado de [Tutorial](https://www.youtube.com/watch?v=eN_3d4JrL_w&ab_channel=IzzyAnalytics)\n",
    "\n",
    "\n",
    "\n"
   ]
  },
  {
   "cell_type": "markdown",
   "metadata": {},
   "source": [
    "#### 1. Ingrese a la página web de www.linkedin.com/jobs, haga click en el botón `Buscar Empleos` y realice una búsqueda de empleos para *data scientist* en la capital de su país (u otra ciudad de su interés). Inspeccione y analice el código fuente de la página de resultados, para entender la estructura de su código HTML. [1 punto]\n",
    "\n",
    "En base a su inspección del código HTML, responda: ¿Qué elemento del código le permite llegar exactamente a la lista de anuncios de empleo?"
   ]
  },
  {
   "cell_type": "markdown",
   "metadata": {},
   "source": [
    "Luego de inspeccionar la estructura del sitio, se pueden observar varios elementos que permiten llegar a la lista de anuncios. Lo primero en el `body` se debe navegar hasta la class  `div.application-outlet` luego pasar por `authentication-outlet` y así irnos hasta `#main > div > section.scaffold-layout__list > div` donde encontramos la lista de los empleos en las clases `li`. La clase `base-search-card__info` contiene la información de cada empleo."
   ]
  },
  {
   "cell_type": "markdown",
   "metadata": {},
   "source": [
    "#### 2. Extraiga la lista de anuncios de trabajo arrojados por su búsqueda en Linkedin.  [1 punto]"
   ]
  },
  {
   "cell_type": "code",
   "execution_count": 9,
   "metadata": {
    "ExecuteTime": {
     "end_time": "2022-10-21T02:24:51.477854Z",
     "start_time": "2022-10-21T02:24:51.458860Z"
    }
   },
   "outputs": [],
   "source": [
    "#complete este código\n",
    "position = 'data scientist'\n",
    "location = 'medellín colombia'###completar\n",
    "url_search = 'https://www.linkedin.com/jobs/search/?keywords=%s&location=%s'%(position, location)"
   ]
  },
  {
   "cell_type": "code",
   "execution_count": 12,
   "metadata": {
    "ExecuteTime": {
     "end_time": "2022-10-21T02:38:47.462963Z",
     "start_time": "2022-10-21T02:38:47.456940Z"
    },
    "colab": {
     "base_uri": "https://localhost:8080/"
    },
    "executionInfo": {
     "elapsed": 1201,
     "status": "ok",
     "timestamp": 1663750896239,
     "user": {
      "displayName": "Constanza MOLINA CATRICHEO",
      "userId": "11792009633930116914"
     },
     "user_tz": -120
    },
    "id": "6jJqLmYP3Ux5",
    "outputId": "9aae26a0-53de-4193-be82-4f376900f754"
   },
   "outputs": [],
   "source": [
    "#Para evitar que la página web piense que usted es un bot, al realizar el request utilice algunos de los siguientes encabezados: \n",
    "head = {'User-Agent': 'Mozilla/5.0'}\n",
    "#head = {'User-Agent': 'Mozilla/5.0 (Macintosh; Intel Mac OS X 10_14_6) AppleWebKit/537.36 (KHTML, like Gecko) Chrome/99.0.4844.84 Safari/537.36'}\n",
    "#head = {'user-agent':'Mozilla/5.0 (Linux; Android 6.0; Nexus 5 Build/MRA58N) AppleWebKit/537.36 (KHTML, like Gecko) Chrome/104.0.0.0 Mobile Safari/537.36'}\n",
    "#head = {'user-agent':'Mozilla/5.0 (Linux; Android 6.0; Nexus 5 Build/MRA58N) AppleWebKit/537.36 (KHTML, like Gecko) Chrome/104.0.0.0 Mobile Safari/537.36'}\n",
    "#head = {'User-Agent': 'Mozilla/5.0 (Macintosh; Intel Mac OS X 10_14_6) AppleWebKit/537.36 (KHTML, like Gecko) Chrome/99.0.4844.84 Safari/537.36',}"
   ]
  },
  {
   "cell_type": "code",
   "execution_count": 82,
   "metadata": {
    "ExecuteTime": {
     "end_time": "2022-10-21T03:31:11.262732Z",
     "start_time": "2022-10-21T03:31:10.407689Z"
    }
   },
   "outputs": [],
   "source": [
    "#complete este código\n",
    "response = requests.get(url_search,head)\n",
    "soup = BeautifulSoup(response.text)"
   ]
  },
  {
   "cell_type": "code",
   "execution_count": 83,
   "metadata": {
    "ExecuteTime": {
     "end_time": "2022-10-21T03:31:11.278684Z",
     "start_time": "2022-10-21T03:31:11.265687Z"
    }
   },
   "outputs": [],
   "source": [
    "joblist = soup.find(class_=\"base-search-card__info\")"
   ]
  },
  {
   "cell_type": "code",
   "execution_count": 86,
   "metadata": {
    "ExecuteTime": {
     "end_time": "2022-10-21T03:31:24.016786Z",
     "start_time": "2022-10-21T03:31:23.991651Z"
    }
   },
   "outputs": [],
   "source": [
    "alljobs=soup.find_all(class_=\"base-search-card__info\")"
   ]
  },
  {
   "cell_type": "code",
   "execution_count": 100,
   "metadata": {
    "ExecuteTime": {
     "end_time": "2022-10-21T03:33:08.113759Z",
     "start_time": "2022-10-21T03:33:08.104761Z"
    }
   },
   "outputs": [
    {
     "data": {
      "text/plain": [
       "<div class=\"base-search-card__info\">\n",
       "<h3 class=\"base-search-card__title\">\n",
       "            \n",
       "        Senior Data Scientist - Remote Work / Ref. 0960E (RD)\n",
       "      \n",
       "          </h3>\n",
       "<h4 class=\"base-search-card__subtitle\">\n",
       "<a class=\"hidden-nested-link\" data-tracking-client-ingraph=\"\" data-tracking-control-name=\"public_jobs_jserp-result_job-search-card-subtitle\" data-tracking-will-navigate=\"\" href=\"https://www.linkedin.com/company/abbatangelo-lionel?trk=public_jobs_jserp-result_job-search-card-subtitle\">\n",
       "            ABBATANGELO LIONEL\n",
       "          </a>\n",
       "</h4>\n",
       "<!-- -->\n",
       "<div class=\"base-search-card__metadata\">\n",
       "<span class=\"job-search-card__location\">\n",
       "            Medellín, Antioquia, Colombia\n",
       "          </span>\n",
       "<!-- -->\n",
       "<div class=\"job-search-card__benefits\">\n",
       "<div class=\"result-benefits\">\n",
       "<icon class=\"result-benefits__icon\" data-delayed-url=\"https://static-exp1.licdn.com/sc/h/ee2elqv6ktdjhlrxiyhac6py6\" data-svg-class-name=\"result-benefits__icon-svg\"></icon>\n",
       "<span class=\"result-benefits__text\">\n",
       "         Be an early applicant\n",
       "<!-- --> </span>\n",
       "</div>\n",
       "</div>\n",
       "<!-- -->\n",
       "<time class=\"job-search-card__listdate\" datetime=\"2022-10-19\">\n",
       "            \n",
       "\n",
       "    \n",
       "    \n",
       "    \n",
       "    \n",
       "    \n",
       "    \n",
       "    \n",
       "    \n",
       "    \n",
       "    \n",
       "    \n",
       "    \n",
       "    \n",
       "    \n",
       "    \n",
       "    \n",
       "\n",
       "    \n",
       "    \n",
       "    \n",
       "    \n",
       "    \n",
       "    \n",
       "    \n",
       "    \n",
       "    \n",
       "    \n",
       "    \n",
       "    \n",
       "    \n",
       "    \n",
       "\n",
       "    1 day ago\n",
       "  \n",
       "          </time>\n",
       "<!-- -->\n",
       "</div>\n",
       "</div>"
      ]
     },
     "execution_count": 100,
     "metadata": {},
     "output_type": "execute_result"
    }
   ],
   "source": [
    "alljobs[17]"
   ]
  },
  {
   "cell_type": "markdown",
   "metadata": {},
   "source": [
    "#### 3. Seleccione por ahora sólo el primer anuncio de la lista, y extraiga la información de:  título del trabajo, nombre de la compañía, localización, y URL del anuncio  [2 puntos].\n",
    "\n",
    "Nota: Por localización se entiende la ciudad, comuna o municipio indicado en el anuncio."
   ]
  },
  {
   "cell_type": "code",
   "execution_count": 101,
   "metadata": {
    "ExecuteTime": {
     "end_time": "2022-10-21T03:33:42.756207Z",
     "start_time": "2022-10-21T03:33:42.738186Z"
    }
   },
   "outputs": [
    {
     "data": {
      "text/plain": [
       "'Trabajo Joven Sí Hay'"
      ]
     },
     "execution_count": 101,
     "metadata": {},
     "output_type": "execute_result"
    }
   ],
   "source": [
    "joblist.find('a').text.strip()"
   ]
  },
  {
   "cell_type": "code",
   "execution_count": 103,
   "metadata": {
    "ExecuteTime": {
     "end_time": "2022-10-21T03:34:13.241177Z",
     "start_time": "2022-10-21T03:34:13.231176Z"
    }
   },
   "outputs": [],
   "source": [
    "#complete este código\n",
    "\n",
    "job=alljobs[0]\n",
    "\n",
    "location= job.find('span',class_=\"job-search-card__location\").text.strip()\n",
    "title= job.find('h3',class_=\"base-search-card__title\").text.strip()\n",
    "company= job.find('a').text.strip()\n",
    "joburl= job.find('a',class_=\"hidden-nested-link\")['href']  "
   ]
  },
  {
   "cell_type": "markdown",
   "metadata": {},
   "source": [
    "#### 4. En base a los puntos anteriores, programe una rutina para extraer la información de localización,  título del trabajo, nombre de la compañía, localización, y URL del anuncio para todos los trabajos arrojados por su búsqueda de Linkedin, y almacenar los datos en un dataframe de pandas  [3 puntos]."
   ]
  },
  {
   "cell_type": "code",
   "execution_count": 126,
   "metadata": {
    "ExecuteTime": {
     "end_time": "2022-10-21T03:48:08.468776Z",
     "start_time": "2022-10-21T03:48:08.439764Z"
    }
   },
   "outputs": [],
   "source": [
    "#complete este código\n",
    "df_jobs= pd.DataFrame(columns = ['Location', 'Title', 'Company', 'Url'])\n",
    "\n",
    "for raw in alljobs:\n",
    "    location= raw.find('span',class_=\"job-search-card__location\").text.strip()\n",
    "    title= raw.find('h3',class_=\"base-search-card__title\").text.strip()\n",
    "    company= raw.find('a').text.strip()\n",
    "    joburl= raw.find('a',class_=\"hidden-nested-link\")['href']\n",
    "    dict_tmp = {'Location': [location], 'Title': [title],'Company': [company], 'Url': [joburl]}\n",
    "    df_tmp = pd.DataFrame(dict_tmp)\n",
    "    df_jobs = pd.concat([df_jobs, df_tmp])\n",
    "###"
   ]
  },
  {
   "cell_type": "code",
   "execution_count": 130,
   "metadata": {
    "ExecuteTime": {
     "end_time": "2022-10-21T03:49:18.377422Z",
     "start_time": "2022-10-21T03:49:18.371448Z"
    }
   },
   "outputs": [],
   "source": [
    "df_jobs = df_jobs.reset_index().drop('index', axis =1)"
   ]
  },
  {
   "cell_type": "code",
   "execution_count": 131,
   "metadata": {
    "ExecuteTime": {
     "end_time": "2022-10-21T03:49:27.166347Z",
     "start_time": "2022-10-21T03:49:27.143310Z"
    }
   },
   "outputs": [
    {
     "data": {
      "text/html": [
       "<div><div id=e359f186-b1b3-43a2-9ead-287bc9b42560 style=\"display:none; background-color:#9D6CFF; color:white; width:200px; height:30px; padding-left:5px; border-radius:4px; flex-direction:row; justify-content:space-around; align-items:center;\" onmouseover=\"this.style.backgroundColor='#BA9BF8'\" onmouseout=\"this.style.backgroundColor='#9D6CFF'\" onclick=\"window.commands?.execute('create-mitosheet-from-dataframe-output');\">See Full Dataframe in Mito</div> <script> if (window.commands.hasCommand('create-mitosheet-from-dataframe-output')) document.getElementById('e359f186-b1b3-43a2-9ead-287bc9b42560').style.display = 'flex' </script> <table border=\"1\" class=\"dataframe\">\n",
       "  <thead>\n",
       "    <tr style=\"text-align: right;\">\n",
       "      <th></th>\n",
       "      <th>Location</th>\n",
       "      <th>Title</th>\n",
       "      <th>Company</th>\n",
       "      <th>Url</th>\n",
       "    </tr>\n",
       "  </thead>\n",
       "  <tbody>\n",
       "    <tr>\n",
       "      <th>22</th>\n",
       "      <td>Medellín, Antioquia, Colombia</td>\n",
       "      <td>PL-PRACTICANTE CIENTIFICO DE DATOS</td>\n",
       "      <td>Trabajo Joven Sí Hay</td>\n",
       "      <td>https://co.linkedin.com/company/trabajo-s%C3%AD-hay-colombia?trk=public_jobs_jserp-result_job-search-card-subtitle</td>\n",
       "    </tr>\n",
       "    <tr>\n",
       "      <th>7</th>\n",
       "      <td>Medellín, Antioquia, Colombia</td>\n",
       "      <td>Data scientist</td>\n",
       "      <td>Trabajo Joven Sí Hay</td>\n",
       "      <td>https://co.linkedin.com/company/trabajo-s%C3%AD-hay-colombia?trk=public_jobs_jserp-result_job-search-card-subtitle</td>\n",
       "    </tr>\n",
       "    <tr>\n",
       "      <th>24</th>\n",
       "      <td>Medellín, Antioquia, Colombia</td>\n",
       "      <td>PL-PRACTICANTE CIENTIFICO DE DATOS</td>\n",
       "      <td>Trabajo Joven Sí Hay</td>\n",
       "      <td>https://co.linkedin.com/company/trabajo-s%C3%AD-hay-colombia?trk=public_jobs_jserp-result_job-search-card-subtitle</td>\n",
       "    </tr>\n",
       "    <tr>\n",
       "      <th>2</th>\n",
       "      <td>Medellín, Antioquia, Colombia</td>\n",
       "      <td>Científico de datos para proyectos de Inteligencia Artificial</td>\n",
       "      <td>Trabajo Joven Sí Hay</td>\n",
       "      <td>https://co.linkedin.com/company/trabajo-s%C3%AD-hay-colombia?trk=public_jobs_jserp-result_job-search-card-subtitle</td>\n",
       "    </tr>\n",
       "    <tr>\n",
       "      <th>14</th>\n",
       "      <td>Medellín, Antioquia, Colombia</td>\n",
       "      <td>Programador en Python</td>\n",
       "      <td>Trabajo Joven Sí Hay</td>\n",
       "      <td>https://co.linkedin.com/company/trabajo-s%C3%AD-hay-colombia?trk=public_jobs_jserp-result_job-search-card-subtitle</td>\n",
       "    </tr>\n",
       "    <tr>\n",
       "      <th>0</th>\n",
       "      <td>Medellín, Antioquia, Colombia</td>\n",
       "      <td>Científico de datos</td>\n",
       "      <td>Trabajo Joven Sí Hay</td>\n",
       "      <td>https://co.linkedin.com/company/trabajo-s%C3%AD-hay-colombia?trk=public_jobs_jserp-result_job-search-card-subtitle</td>\n",
       "    </tr>\n",
       "    <tr>\n",
       "      <th>11</th>\n",
       "      <td>Medellín, Antioquia, Colombia</td>\n",
       "      <td>Programador en Python</td>\n",
       "      <td>Trabajo Joven Sí Hay</td>\n",
       "      <td>https://co.linkedin.com/company/trabajo-s%C3%AD-hay-colombia?trk=public_jobs_jserp-result_job-search-card-subtitle</td>\n",
       "    </tr>\n",
       "    <tr>\n",
       "      <th>10</th>\n",
       "      <td>Medellín, Antioquia, Colombia</td>\n",
       "      <td>Programador en Python</td>\n",
       "      <td>Trabajo Joven Sí Hay</td>\n",
       "      <td>https://co.linkedin.com/company/trabajo-s%C3%AD-hay-colombia?trk=public_jobs_jserp-result_job-search-card-subtitle</td>\n",
       "    </tr>\n",
       "  </tbody>\n",
       "</table></div>"
      ],
      "text/plain": [
       "                         Location  \\\n",
       "22  Medellín, Antioquia, Colombia   \n",
       "7   Medellín, Antioquia, Colombia   \n",
       "24  Medellín, Antioquia, Colombia   \n",
       "2   Medellín, Antioquia, Colombia   \n",
       "14  Medellín, Antioquia, Colombia   \n",
       "0   Medellín, Antioquia, Colombia   \n",
       "11  Medellín, Antioquia, Colombia   \n",
       "10  Medellín, Antioquia, Colombia   \n",
       "\n",
       "                                                Title               Company  \\\n",
       "22                 PL-PRACTICANTE CIENTIFICO DE DATOS  Trabajo Joven Sí Hay   \n",
       "7                                      Data scientist  Trabajo Joven Sí Hay   \n",
       "24                 PL-PRACTICANTE CIENTIFICO DE DATOS  Trabajo Joven Sí Hay   \n",
       "2   Científico de datos para proyectos de Intelige...  Trabajo Joven Sí Hay   \n",
       "14                              Programador en Python  Trabajo Joven Sí Hay   \n",
       "0                                 Científico de datos  Trabajo Joven Sí Hay   \n",
       "11                              Programador en Python  Trabajo Joven Sí Hay   \n",
       "10                              Programador en Python  Trabajo Joven Sí Hay   \n",
       "\n",
       "                                                  Url  \n",
       "22  https://co.linkedin.com/company/trabajo-s%C3%A...  \n",
       "7   https://co.linkedin.com/company/trabajo-s%C3%A...  \n",
       "24  https://co.linkedin.com/company/trabajo-s%C3%A...  \n",
       "2   https://co.linkedin.com/company/trabajo-s%C3%A...  \n",
       "14  https://co.linkedin.com/company/trabajo-s%C3%A...  \n",
       "0   https://co.linkedin.com/company/trabajo-s%C3%A...  \n",
       "11  https://co.linkedin.com/company/trabajo-s%C3%A...  \n",
       "10  https://co.linkedin.com/company/trabajo-s%C3%A...  "
      ]
     },
     "execution_count": 131,
     "metadata": {},
     "output_type": "execute_result"
    }
   ],
   "source": [
    "df_jobs.sample(8)"
   ]
  },
  {
   "cell_type": "markdown",
   "metadata": {},
   "source": [
    "#### 5. Exporte su dataframe a un archivo en formato .csv.  [1 punto]\n"
   ]
  },
  {
   "cell_type": "code",
   "execution_count": 136,
   "metadata": {
    "ExecuteTime": {
     "end_time": "2022-10-21T03:54:47.321415Z",
     "start_time": "2022-10-21T03:54:47.302393Z"
    }
   },
   "outputs": [],
   "source": [
    "df_jobs.to_csv(\"jobs_linkedin.csv\", index=False, encoding='utf-8-sig')"
   ]
  },
  {
   "cell_type": "markdown",
   "metadata": {},
   "source": [
    "#### 6. ¿Cuántas ofertas de empleo contiene su dataframe, y cuántos resultados hay en total en la búsqueda de Linkedin? Comente sobre las diferencias o coincidencias, y explique qué debería hacer para extraer todos los resultados disponibles en Linkedin (en palabras, no es necesario implementarlo)  [1 punto]\n",
    "\n",
    "Hint: Verifique el número de páginas de resultados, y la URL correspondiente a cada una de ellas."
   ]
  },
  {
   "cell_type": "code",
   "execution_count": 137,
   "metadata": {
    "ExecuteTime": {
     "end_time": "2022-10-21T03:55:33.689083Z",
     "start_time": "2022-10-21T03:55:33.675097Z"
    }
   },
   "outputs": [
    {
     "data": {
      "text/plain": [
       "(25, 4)"
      ]
     },
     "execution_count": 137,
     "metadata": {},
     "output_type": "execute_result"
    }
   ],
   "source": [
    "df_jobs.shape"
   ]
  },
  {
   "cell_type": "markdown",
   "metadata": {},
   "source": [
    "La base de datos descargada contiene 25 ofertas de empleo, al final de la url aparece un argumento `&start` que se refiere a la página de los empleos, es decir, que tendríamos que iterar sobre ese parámetro para conseguir más empleos. Por ejemplo:"
   ]
  },
  {
   "cell_type": "code",
   "execution_count": 142,
   "metadata": {
    "ExecuteTime": {
     "end_time": "2022-10-21T04:08:23.934143Z",
     "start_time": "2022-10-21T04:08:23.917153Z"
    }
   },
   "outputs": [],
   "source": [
    "number = 0\n",
    "position = 'data scientist'\n",
    "location = 'medellín colombia'###completar\n",
    "\n",
    "def get_n_jobs_linkedin(number, position, location, max_jobs = 1000):\n",
    "    head = {'User-Agent': 'Mozilla/5.0'}\n",
    "    df_jobs= pd.DataFrame(columns = ['Location', 'Title', 'Company', 'Url'])\n",
    "    while number <= max_jobs-25:\n",
    "        url_search = 'https://www.linkedin.com/jobs/search/?keywords=%s&location=%s&start=%s'%(position, location, number)\n",
    "        response = requests.get(url_search, head)\n",
    "        soup = BeautifulSoup(response.text)\n",
    "        alljobs=soup.find_all(class_=\"base-search-card__info\")\n",
    "        for raw in alljobs:\n",
    "            location= raw.find('span',class_=\"job-search-card__location\").text.strip()\n",
    "            title= raw.find('h3',class_=\"base-search-card__title\").text.strip()\n",
    "            company= raw.find('a').text.strip()\n",
    "            joburl= raw.find('a',class_=\"hidden-nested-link\")['href']\n",
    "            dict_tmp = {'Location': [location], 'Title': [title],'Company': [company], 'Url': [joburl]}\n",
    "            df_tmp = pd.DataFrame(dict_tmp)\n",
    "            df_jobs = pd.concat([df_jobs, df_tmp])\n",
    "        number += 25\n",
    "    df_jobs = df_jobs.reset_index().drop('index', axis =1)\n",
    "    return df_jobs"
   ]
  },
  {
   "cell_type": "code",
   "execution_count": 143,
   "metadata": {
    "ExecuteTime": {
     "end_time": "2022-10-21T04:08:33.019859Z",
     "start_time": "2022-10-21T04:08:24.704917Z"
    }
   },
   "outputs": [],
   "source": [
    "test_200_jobs = get_n_jobs_linkedin(number, position, location, max_jobs = 200)"
   ]
  },
  {
   "cell_type": "code",
   "execution_count": 146,
   "metadata": {
    "ExecuteTime": {
     "end_time": "2022-10-21T04:08:49.374641Z",
     "start_time": "2022-10-21T04:08:49.365640Z"
    }
   },
   "outputs": [
    {
     "data": {
      "text/html": [
       "<div><div id=785f69d5-de97-4fb5-83dc-e4ca05c814d7 style=\"display:none; background-color:#9D6CFF; color:white; width:200px; height:30px; padding-left:5px; border-radius:4px; flex-direction:row; justify-content:space-around; align-items:center;\" onmouseover=\"this.style.backgroundColor='#BA9BF8'\" onmouseout=\"this.style.backgroundColor='#9D6CFF'\" onclick=\"window.commands?.execute('create-mitosheet-from-dataframe-output');\">See Full Dataframe in Mito</div> <script> if (window.commands.hasCommand('create-mitosheet-from-dataframe-output')) document.getElementById('785f69d5-de97-4fb5-83dc-e4ca05c814d7').style.display = 'flex' </script> <table border=\"1\" class=\"dataframe\">\n",
       "  <thead>\n",
       "    <tr style=\"text-align: right;\">\n",
       "      <th></th>\n",
       "      <th>Location</th>\n",
       "      <th>Title</th>\n",
       "      <th>Company</th>\n",
       "      <th>Url</th>\n",
       "    </tr>\n",
       "  </thead>\n",
       "  <tbody>\n",
       "    <tr>\n",
       "      <th>0</th>\n",
       "      <td>Medellín, Antioquia, Colombia</td>\n",
       "      <td>Ingeniero de datos (cientifico de datos)</td>\n",
       "      <td>Trabajo Joven Sí Hay</td>\n",
       "      <td>https://co.linkedin.com/company/trabajo-s%C3%AD-hay-colombia?trk=public_jobs_jserp-result_job-search-card-subtitle</td>\n",
       "    </tr>\n",
       "    <tr>\n",
       "      <th>1</th>\n",
       "      <td>Medellín, Antioquia, Colombia</td>\n",
       "      <td>Desarrollador Python Backend / Investigación y Desarrollo - Trabajo Remoto / Ref. 0071S (RD)</td>\n",
       "      <td>Trabajo Joven Sí Hay</td>\n",
       "      <td>https://co.linkedin.com/company/trabajo-s%C3%AD-hay-colombia?trk=public_jobs_jserp-result_job-search-card-subtitle</td>\n",
       "    </tr>\n",
       "    <tr>\n",
       "      <th>2</th>\n",
       "      <td>Medellín, Antioquia, Colombia</td>\n",
       "      <td>Ingeniero de datos (cientifico de datos)</td>\n",
       "      <td>Trabajo Joven Sí Hay</td>\n",
       "      <td>https://co.linkedin.com/company/trabajo-s%C3%AD-hay-colombia?trk=public_jobs_jserp-result_job-search-card-subtitle</td>\n",
       "    </tr>\n",
       "    <tr>\n",
       "      <th>3</th>\n",
       "      <td>Medellín, Antioquia, Colombia</td>\n",
       "      <td>Python Developer - Remote Work / Ref. 0071E</td>\n",
       "      <td>ABBATANGELO LIONEL</td>\n",
       "      <td>https://www.linkedin.com/company/abbatangelo-lionel?trk=public_jobs_jserp-result_job-search-card-subtitle</td>\n",
       "    </tr>\n",
       "    <tr>\n",
       "      <th>4</th>\n",
       "      <td>Medellín, Antioquia, Colombia</td>\n",
       "      <td>Científico(a) de Datos</td>\n",
       "      <td>Trabajo Joven Sí Hay</td>\n",
       "      <td>https://co.linkedin.com/company/trabajo-s%C3%AD-hay-colombia?trk=public_jobs_jserp-result_job-search-card-subtitle</td>\n",
       "    </tr>\n",
       "    <tr>\n",
       "      <th>5</th>\n",
       "      <td>Medellín, Antioquia, Colombia</td>\n",
       "      <td>Analista De Datos - Python</td>\n",
       "      <td>United Latino Students Association</td>\n",
       "      <td>https://www.linkedin.com/company/united-latino-students-association?trk=public_jobs_jserp-result_job-search-card-subtitle</td>\n",
       "    </tr>\n",
       "    <tr>\n",
       "      <th>6</th>\n",
       "      <td>Medellín, Antioquia, Colombia</td>\n",
       "      <td>Senior Data Scientist - Remote Work / Ref. 0960E (RD)</td>\n",
       "      <td>Trabajo Joven Sí Hay</td>\n",
       "      <td>https://co.linkedin.com/company/trabajo-s%C3%AD-hay-colombia?trk=public_jobs_jserp-result_job-search-card-subtitle</td>\n",
       "    </tr>\n",
       "    <tr>\n",
       "      <th>7</th>\n",
       "      <td>Medellín, Antioquia, Colombia</td>\n",
       "      <td>Junior Python Backend Developer / Research + Development - Remote Work / Ref. 0071E (RD)</td>\n",
       "      <td>ABBATANGELO LIONEL</td>\n",
       "      <td>https://www.linkedin.com/company/abbatangelo-lionel?trk=public_jobs_jserp-result_job-search-card-subtitle</td>\n",
       "    </tr>\n",
       "    <tr>\n",
       "      <th>8</th>\n",
       "      <td>Medellín, Antioquia, Colombia</td>\n",
       "      <td>Líder de desarrollo de software</td>\n",
       "      <td>United Latino Students Association</td>\n",
       "      <td>https://www.linkedin.com/company/united-latino-students-association?trk=public_jobs_jserp-result_job-search-card-subtitle</td>\n",
       "    </tr>\n",
       "    <tr>\n",
       "      <th>9</th>\n",
       "      <td>Medellín, Antioquia, Colombia</td>\n",
       "      <td>Practicante de Desarrollador de Software/MED</td>\n",
       "      <td>United Latino Students Association</td>\n",
       "      <td>https://www.linkedin.com/company/united-latino-students-association?trk=public_jobs_jserp-result_job-search-card-subtitle</td>\n",
       "    </tr>\n",
       "  </tbody>\n",
       "</table></div>"
      ],
      "text/plain": [
       "                        Location  \\\n",
       "0  Medellín, Antioquia, Colombia   \n",
       "1  Medellín, Antioquia, Colombia   \n",
       "2  Medellín, Antioquia, Colombia   \n",
       "3  Medellín, Antioquia, Colombia   \n",
       "4  Medellín, Antioquia, Colombia   \n",
       "5  Medellín, Antioquia, Colombia   \n",
       "6  Medellín, Antioquia, Colombia   \n",
       "7  Medellín, Antioquia, Colombia   \n",
       "8  Medellín, Antioquia, Colombia   \n",
       "9  Medellín, Antioquia, Colombia   \n",
       "\n",
       "                                               Title  \\\n",
       "0           Ingeniero de datos (cientifico de datos)   \n",
       "1  Desarrollador Python Backend / Investigación y...   \n",
       "2           Ingeniero de datos (cientifico de datos)   \n",
       "3        Python Developer - Remote Work / Ref. 0071E   \n",
       "4                             Científico(a) de Datos   \n",
       "5                         Analista De Datos - Python   \n",
       "6  Senior Data Scientist - Remote Work / Ref. 096...   \n",
       "7  Junior Python Backend Developer / Research + D...   \n",
       "8                   Líder de desarrollo de software   \n",
       "9       Practicante de Desarrollador de Software/MED   \n",
       "\n",
       "                              Company  \\\n",
       "0                Trabajo Joven Sí Hay   \n",
       "1                Trabajo Joven Sí Hay   \n",
       "2                Trabajo Joven Sí Hay   \n",
       "3                  ABBATANGELO LIONEL   \n",
       "4                Trabajo Joven Sí Hay   \n",
       "5  United Latino Students Association   \n",
       "6                Trabajo Joven Sí Hay   \n",
       "7                  ABBATANGELO LIONEL   \n",
       "8  United Latino Students Association   \n",
       "9  United Latino Students Association   \n",
       "\n",
       "                                                 Url  \n",
       "0  https://co.linkedin.com/company/trabajo-s%C3%A...  \n",
       "1  https://co.linkedin.com/company/trabajo-s%C3%A...  \n",
       "2  https://co.linkedin.com/company/trabajo-s%C3%A...  \n",
       "3  https://www.linkedin.com/company/abbatangelo-l...  \n",
       "4  https://co.linkedin.com/company/trabajo-s%C3%A...  \n",
       "5  https://www.linkedin.com/company/united-latino...  \n",
       "6  https://co.linkedin.com/company/trabajo-s%C3%A...  \n",
       "7  https://www.linkedin.com/company/abbatangelo-l...  \n",
       "8  https://www.linkedin.com/company/united-latino...  \n",
       "9  https://www.linkedin.com/company/united-latino...  "
      ]
     },
     "execution_count": 146,
     "metadata": {},
     "output_type": "execute_result"
    }
   ],
   "source": [
    "test_200_jobs.head(10)"
   ]
  },
  {
   "cell_type": "code",
   "execution_count": 147,
   "metadata": {
    "ExecuteTime": {
     "end_time": "2022-10-21T04:08:55.456238Z",
     "start_time": "2022-10-21T04:08:55.443252Z"
    }
   },
   "outputs": [
    {
     "data": {
      "text/html": [
       "<div><div id=88975b23-8d30-4bb1-b597-4e4c5f66c004 style=\"display:none; background-color:#9D6CFF; color:white; width:200px; height:30px; padding-left:5px; border-radius:4px; flex-direction:row; justify-content:space-around; align-items:center;\" onmouseover=\"this.style.backgroundColor='#BA9BF8'\" onmouseout=\"this.style.backgroundColor='#9D6CFF'\" onclick=\"window.commands?.execute('create-mitosheet-from-dataframe-output');\">See Full Dataframe in Mito</div> <script> if (window.commands.hasCommand('create-mitosheet-from-dataframe-output')) document.getElementById('88975b23-8d30-4bb1-b597-4e4c5f66c004').style.display = 'flex' </script> <table border=\"1\" class=\"dataframe\">\n",
       "  <thead>\n",
       "    <tr style=\"text-align: right;\">\n",
       "      <th></th>\n",
       "      <th>Location</th>\n",
       "      <th>Title</th>\n",
       "      <th>Company</th>\n",
       "      <th>Url</th>\n",
       "    </tr>\n",
       "  </thead>\n",
       "  <tbody>\n",
       "    <tr>\n",
       "      <th>190</th>\n",
       "      <td>Medellín, Antioquia, Colombia</td>\n",
       "      <td>Programador en Python</td>\n",
       "      <td>Trabajo Joven Sí Hay</td>\n",
       "      <td>https://co.linkedin.com/company/trabajo-s%C3%AD-hay-colombia?trk=public_jobs_jserp-result_job-search-card-subtitle</td>\n",
       "    </tr>\n",
       "    <tr>\n",
       "      <th>191</th>\n",
       "      <td>Medellín, Antioquia, Colombia</td>\n",
       "      <td>Programador en Python</td>\n",
       "      <td>Trabajo Joven Sí Hay</td>\n",
       "      <td>https://co.linkedin.com/company/trabajo-s%C3%AD-hay-colombia?trk=public_jobs_jserp-result_job-search-card-subtitle</td>\n",
       "    </tr>\n",
       "    <tr>\n",
       "      <th>192</th>\n",
       "      <td>Medellín, Antioquia, Colombia</td>\n",
       "      <td>PL-PRACTICANTE CIENTIFICO DE DATOS</td>\n",
       "      <td>Trabajo Joven Sí Hay</td>\n",
       "      <td>https://co.linkedin.com/company/trabajo-s%C3%AD-hay-colombia?trk=public_jobs_jserp-result_job-search-card-subtitle</td>\n",
       "    </tr>\n",
       "    <tr>\n",
       "      <th>193</th>\n",
       "      <td>Medellín, Antioquia, Colombia</td>\n",
       "      <td>Programador en Python</td>\n",
       "      <td>Trabajo Joven Sí Hay</td>\n",
       "      <td>https://co.linkedin.com/company/trabajo-s%C3%AD-hay-colombia?trk=public_jobs_jserp-result_job-search-card-subtitle</td>\n",
       "    </tr>\n",
       "    <tr>\n",
       "      <th>194</th>\n",
       "      <td>Medellín, Antioquia, Colombia</td>\n",
       "      <td>Programador en Python</td>\n",
       "      <td>Trabajo Joven Sí Hay</td>\n",
       "      <td>https://co.linkedin.com/company/trabajo-s%C3%AD-hay-colombia?trk=public_jobs_jserp-result_job-search-card-subtitle</td>\n",
       "    </tr>\n",
       "    <tr>\n",
       "      <th>195</th>\n",
       "      <td>Medellín, Antioquia, Colombia</td>\n",
       "      <td>PL-PRACTICANTE CIENTIFICO DE DATOS</td>\n",
       "      <td>Trabajo Joven Sí Hay</td>\n",
       "      <td>https://co.linkedin.com/company/trabajo-s%C3%AD-hay-colombia?trk=public_jobs_jserp-result_job-search-card-subtitle</td>\n",
       "    </tr>\n",
       "    <tr>\n",
       "      <th>196</th>\n",
       "      <td>Medellín, Antioquia, Colombia</td>\n",
       "      <td>PL-PRACTICANTE CIENTIFICO DE DATOS</td>\n",
       "      <td>Trabajo Joven Sí Hay</td>\n",
       "      <td>https://co.linkedin.com/company/trabajo-s%C3%AD-hay-colombia?trk=public_jobs_jserp-result_job-search-card-subtitle</td>\n",
       "    </tr>\n",
       "    <tr>\n",
       "      <th>197</th>\n",
       "      <td>Medellín, Antioquia, Colombia</td>\n",
       "      <td>PL-PRACTICANTE CIENTIFICO DE DATOS</td>\n",
       "      <td>Trabajo Joven Sí Hay</td>\n",
       "      <td>https://co.linkedin.com/company/trabajo-s%C3%AD-hay-colombia?trk=public_jobs_jserp-result_job-search-card-subtitle</td>\n",
       "    </tr>\n",
       "    <tr>\n",
       "      <th>198</th>\n",
       "      <td>Medellín, Antioquia, Colombia</td>\n",
       "      <td>PL-PRACTICANTE CIENTIFICO DE DATOS</td>\n",
       "      <td>Trabajo Joven Sí Hay</td>\n",
       "      <td>https://co.linkedin.com/company/trabajo-s%C3%AD-hay-colombia?trk=public_jobs_jserp-result_job-search-card-subtitle</td>\n",
       "    </tr>\n",
       "    <tr>\n",
       "      <th>199</th>\n",
       "      <td>Medellín, Antioquia, Colombia</td>\n",
       "      <td>PL-PRACTICANTE CIENTIFICO DE DATOS</td>\n",
       "      <td>Trabajo Joven Sí Hay</td>\n",
       "      <td>https://co.linkedin.com/company/trabajo-s%C3%AD-hay-colombia?trk=public_jobs_jserp-result_job-search-card-subtitle</td>\n",
       "    </tr>\n",
       "  </tbody>\n",
       "</table></div>"
      ],
      "text/plain": [
       "                          Location                               Title  \\\n",
       "190  Medellín, Antioquia, Colombia               Programador en Python   \n",
       "191  Medellín, Antioquia, Colombia               Programador en Python   \n",
       "192  Medellín, Antioquia, Colombia  PL-PRACTICANTE CIENTIFICO DE DATOS   \n",
       "193  Medellín, Antioquia, Colombia               Programador en Python   \n",
       "194  Medellín, Antioquia, Colombia               Programador en Python   \n",
       "195  Medellín, Antioquia, Colombia  PL-PRACTICANTE CIENTIFICO DE DATOS   \n",
       "196  Medellín, Antioquia, Colombia  PL-PRACTICANTE CIENTIFICO DE DATOS   \n",
       "197  Medellín, Antioquia, Colombia  PL-PRACTICANTE CIENTIFICO DE DATOS   \n",
       "198  Medellín, Antioquia, Colombia  PL-PRACTICANTE CIENTIFICO DE DATOS   \n",
       "199  Medellín, Antioquia, Colombia  PL-PRACTICANTE CIENTIFICO DE DATOS   \n",
       "\n",
       "                  Company                                                Url  \n",
       "190  Trabajo Joven Sí Hay  https://co.linkedin.com/company/trabajo-s%C3%A...  \n",
       "191  Trabajo Joven Sí Hay  https://co.linkedin.com/company/trabajo-s%C3%A...  \n",
       "192  Trabajo Joven Sí Hay  https://co.linkedin.com/company/trabajo-s%C3%A...  \n",
       "193  Trabajo Joven Sí Hay  https://co.linkedin.com/company/trabajo-s%C3%A...  \n",
       "194  Trabajo Joven Sí Hay  https://co.linkedin.com/company/trabajo-s%C3%A...  \n",
       "195  Trabajo Joven Sí Hay  https://co.linkedin.com/company/trabajo-s%C3%A...  \n",
       "196  Trabajo Joven Sí Hay  https://co.linkedin.com/company/trabajo-s%C3%A...  \n",
       "197  Trabajo Joven Sí Hay  https://co.linkedin.com/company/trabajo-s%C3%A...  \n",
       "198  Trabajo Joven Sí Hay  https://co.linkedin.com/company/trabajo-s%C3%A...  \n",
       "199  Trabajo Joven Sí Hay  https://co.linkedin.com/company/trabajo-s%C3%A...  "
      ]
     },
     "execution_count": 147,
     "metadata": {},
     "output_type": "execute_result"
    }
   ],
   "source": [
    "test_200_jobs.tail(10)"
   ]
  },
  {
   "cell_type": "code",
   "execution_count": null,
   "metadata": {},
   "outputs": [],
   "source": []
  }
 ],
 "metadata": {
  "colab": {
   "collapsed_sections": [],
   "provenance": []
  },
  "kernelspec": {
   "display_name": "Python 3 (ipykernel)",
   "language": "python",
   "name": "python3"
  },
  "language_info": {
   "codemirror_mode": {
    "name": "ipython",
    "version": 3
   },
   "file_extension": ".py",
   "mimetype": "text/x-python",
   "name": "python",
   "nbconvert_exporter": "python",
   "pygments_lexer": "ipython3",
   "version": "3.10.12"
  }
 },
 "nbformat": 4,
 "nbformat_minor": 4
}
