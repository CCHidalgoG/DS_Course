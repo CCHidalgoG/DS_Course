{
 "cells": [
  {
   "cell_type": "code",
   "execution_count": 1,
   "id": "27158536-61e1-457a-886d-63307b8d36f5",
   "metadata": {},
   "outputs": [],
   "source": [
    "#código de inicio\n",
    "import requests\n",
    "from bs4 import BeautifulSoup\n",
    "import pandas as pd"
   ]
  },
  {
   "cell_type": "code",
   "execution_count": 2,
   "id": "93442ac6-16e9-472b-9569-49b9c3605127",
   "metadata": {},
   "outputs": [],
   "source": [
    "#complete este código\n",
    "position = 'customer experience'\n",
    "location = 'bogotá colombia'###completar\n",
    "url_search = 'https://www.linkedin.com/jobs/search/?keywords=%s&location=%s'%(position, location)"
   ]
  },
  {
   "cell_type": "code",
   "execution_count": 4,
   "id": "87855d76-0db2-4264-8491-9bd7c8845275",
   "metadata": {},
   "outputs": [],
   "source": [
    "head = {'User-Agent': 'Mozilla/5.0'}"
   ]
  },
  {
   "cell_type": "code",
   "execution_count": 5,
   "id": "dc0b270b-445f-4915-b708-15c013d24d39",
   "metadata": {},
   "outputs": [],
   "source": [
    "#complete este código\n",
    "response = requests.get(url_search,head)\n",
    "soup = BeautifulSoup(response.text)"
   ]
  },
  {
   "cell_type": "code",
   "execution_count": 12,
   "id": "df10bcac-7227-4c91-949a-92feb94f8aa8",
   "metadata": {},
   "outputs": [],
   "source": [
    "# soup"
   ]
  },
  {
   "cell_type": "code",
   "execution_count": 13,
   "id": "3e5357f9-346a-4ab8-9716-504f4e139b9f",
   "metadata": {},
   "outputs": [
    {
     "data": {
      "text/plain": [
       "<div class=\"base-search-card__info\">\n",
       "<h3 class=\"base-search-card__title\">\n",
       "            \n",
       "        Customer Services- Bogotá\n",
       "      \n",
       "          </h3>\n",
       "<h4 class=\"base-search-card__subtitle\">\n",
       "<a class=\"hidden-nested-link\" data-tracking-client-ingraph=\"\" data-tracking-control-name=\"public_jobs_jserp-result_job-search-card-subtitle\" data-tracking-will-navigate=\"\" href=\"https://co.linkedin.com/company/mahe-neutral-shipping?trk=public_jobs_jserp-result_job-search-card-subtitle\">\n",
       "            Mahe Neutral Shipping\n",
       "          </a>\n",
       "</h4>\n",
       "<!-- -->\n",
       "<div class=\"base-search-card__metadata\">\n",
       "<span class=\"job-search-card__location\">\n",
       "            Bogota, D.C., Capital District, Colombia\n",
       "          </span>\n",
       "<!-- -->\n",
       "<time class=\"job-search-card__listdate\" datetime=\"2024-06-17\">\n",
       "            \n",
       "\n",
       "    \n",
       "    \n",
       "    \n",
       "    \n",
       "    \n",
       "    \n",
       "    \n",
       "    \n",
       "    \n",
       "    \n",
       "    \n",
       "    \n",
       "    \n",
       "    \n",
       "    \n",
       "    \n",
       "\n",
       "    \n",
       "    \n",
       "    \n",
       "    \n",
       "    \n",
       "    \n",
       "    \n",
       "    \n",
       "    \n",
       "    \n",
       "    \n",
       "    \n",
       "    \n",
       "    \n",
       "\n",
       "      3 weeks ago\n",
       "  \n",
       "          </time>\n",
       "<!-- -->\n",
       "</div>\n",
       "</div>"
      ]
     },
     "execution_count": 13,
     "metadata": {},
     "output_type": "execute_result"
    }
   ],
   "source": [
    "joblist = soup.find(class_=\"base-search-card__info\")\n",
    "joblist"
   ]
  },
  {
   "cell_type": "code",
   "execution_count": 14,
   "id": "b2f76f88-c330-4664-b402-3cc4fd2d34bc",
   "metadata": {},
   "outputs": [],
   "source": [
    "alljobs=soup.find_all(class_=\"base-search-card__info\")"
   ]
  },
  {
   "cell_type": "code",
   "execution_count": 18,
   "id": "8c7bb056-641c-43db-b344-db0b8bdb8a0b",
   "metadata": {},
   "outputs": [
    {
     "data": {
      "text/plain": [
       "<a class=\"hidden-nested-link\" data-tracking-client-ingraph=\"\" data-tracking-control-name=\"public_jobs_jserp-result_job-search-card-subtitle\" data-tracking-will-navigate=\"\" href=\"https://co.linkedin.com/company/mahe-neutral-shipping?trk=public_jobs_jserp-result_job-search-card-subtitle\">\n",
       "            Mahe Neutral Shipping\n",
       "          </a>"
      ]
     },
     "execution_count": 18,
     "metadata": {},
     "output_type": "execute_result"
    }
   ],
   "source": [
    "joblist.find('a')"
   ]
  },
  {
   "cell_type": "code",
   "execution_count": 19,
   "id": "ddbd4cc0-d179-474a-9075-7426188db75a",
   "metadata": {},
   "outputs": [
    {
     "data": {
      "text/plain": [
       "'https://co.linkedin.com/company/mahe-neutral-shipping?trk=public_jobs_jserp-result_job-search-card-subtitle'"
      ]
     },
     "execution_count": 19,
     "metadata": {},
     "output_type": "execute_result"
    }
   ],
   "source": [
    "joblist.find('a')['href']"
   ]
  },
  {
   "cell_type": "code",
   "execution_count": 23,
   "id": "b97ea44c-518f-4a80-b04b-3306de31bb40",
   "metadata": {},
   "outputs": [
    {
     "data": {
      "text/plain": [
       "'Bogota, D.C., Capital District, Colombia'"
      ]
     },
     "execution_count": 23,
     "metadata": {},
     "output_type": "execute_result"
    }
   ],
   "source": [
    "joblist.find('span', class_='job-search-card__location').text.strip()"
   ]
  },
  {
   "cell_type": "code",
   "execution_count": 24,
   "id": "b12bb1c4-f2b5-43df-8309-c7feb32b27c8",
   "metadata": {},
   "outputs": [
    {
     "data": {
      "text/plain": [
       "'Customer Services- Bogotá'"
      ]
     },
     "execution_count": 24,
     "metadata": {},
     "output_type": "execute_result"
    }
   ],
   "source": [
    "joblist.find('h3',class_=\"base-search-card__title\").text.strip()"
   ]
  },
  {
   "cell_type": "code",
   "execution_count": 25,
   "id": "f6a4960e-1d8a-4e8b-b396-a33ddd5c88fc",
   "metadata": {},
   "outputs": [
    {
     "data": {
      "text/plain": [
       "'Mahe Neutral Shipping'"
      ]
     },
     "execution_count": 25,
     "metadata": {},
     "output_type": "execute_result"
    }
   ],
   "source": [
    "joblist.find('a').text.strip()"
   ]
  },
  {
   "cell_type": "code",
   "execution_count": 26,
   "id": "f8839595-1a92-46db-8db1-4e535f9293b5",
   "metadata": {},
   "outputs": [
    {
     "data": {
      "text/plain": [
       "60"
      ]
     },
     "execution_count": 26,
     "metadata": {},
     "output_type": "execute_result"
    }
   ],
   "source": [
    "len(alljobs)"
   ]
  },
  {
   "cell_type": "code",
   "execution_count": null,
   "id": "5a83924f-1e43-4086-b2b7-47d522f26737",
   "metadata": {},
   "outputs": [],
   "source": []
  }
 ],
 "metadata": {
  "kernelspec": {
   "display_name": "Python 3 (ipykernel)",
   "language": "python",
   "name": "python3"
  },
  "language_info": {
   "codemirror_mode": {
    "name": "ipython",
    "version": 3
   },
   "file_extension": ".py",
   "mimetype": "text/x-python",
   "name": "python",
   "nbconvert_exporter": "python",
   "pygments_lexer": "ipython3",
   "version": "3.10.12"
  }
 },
 "nbformat": 4,
 "nbformat_minor": 5
}
