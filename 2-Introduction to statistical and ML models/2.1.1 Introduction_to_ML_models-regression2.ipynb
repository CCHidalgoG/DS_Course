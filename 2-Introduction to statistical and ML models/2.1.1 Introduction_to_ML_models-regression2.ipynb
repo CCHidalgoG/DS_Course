{
 "cells": [
  {
   "metadata": {},
   "cell_type": "markdown",
   "source": "# Introducción a los modelos de ML - Regresión",
   "id": "d738ade63345db05"
  },
  {
   "metadata": {
    "ExecuteTime": {
     "end_time": "2024-05-25T02:48:40.113401Z",
     "start_time": "2024-05-25T02:48:39.579373Z"
    }
   },
   "cell_type": "code",
   "source": [
    "import numpy as np\n",
    "import pandas as pd\n",
    "import global_vars as gv"
   ],
   "id": "af52c226e2b1455b",
   "outputs": [],
   "execution_count": 1
  },
  {
   "metadata": {
    "ExecuteTime": {
     "end_time": "2024-05-01T00:48:45.432202Z",
     "start_time": "2024-05-01T00:48:45.400369Z"
    }
   },
   "cell_type": "code",
   "source": [
    "# Cargamos el dataset\n",
    "cars = pd.read_csv(f'{gv.GLOBAL_PATH}/data/cars.csv')"
   ],
   "id": "9b351bef2d7c08bc",
   "outputs": [],
   "execution_count": 2
  }
 ],
 "metadata": {
  "kernelspec": {
   "display_name": "Python 3",
   "language": "python",
   "name": "python3"
  },
  "language_info": {
   "codemirror_mode": {
    "name": "ipython",
    "version": 2
   },
   "file_extension": ".py",
   "mimetype": "text/x-python",
   "name": "python",
   "nbconvert_exporter": "python",
   "pygments_lexer": "ipython2",
   "version": "2.7.6"
  }
 },
 "nbformat": 4,
 "nbformat_minor": 5
}
