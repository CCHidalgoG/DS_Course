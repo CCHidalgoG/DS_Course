{
 "cells": [
  {
   "metadata": {},
   "cell_type": "markdown",
   "source": "# Introducción al aprendizaje estadístico y de máquinas",
   "id": "3f70ace7a4555ba3"
  },
  {
   "metadata": {},
   "cell_type": "markdown",
   "source": [
    "## Qué es el aprendizaje estadístico y de máquinas\n",
    "\n",
    "El aprendizaje estadístico y de máquinas es un campo de estudio que permite a las computadoras aprender sin ser explícitamente programadas. Se trata de un subcampo de la inteligencia artificial. El aprendizaje estadístico y de máquinas se basa en la idea de que los sistemas pueden aprender de los datos, identificar patrones y tomar decisiones con un mínimo de intervención humana. El aprendizaje estadístico y de máquinas se utiliza en una amplia gama de aplicaciones, desde la detección de fraudes en tarjetas de crédito hasta la clasificación de correos electrónicos no deseados."
   ],
   "id": "52dc310754f0dbcf"
  },
  {
   "metadata": {},
   "cell_type": "markdown",
   "source": "## Tipos de aprendizaje",
   "id": "b9fbfef999300d75"
  },
  {
   "metadata": {},
   "cell_type": "markdown",
   "source": [
    "### Aprendizaje supervisado\n",
    "\n",
    "El aprendizaje supervisado es un tipo de aprendizaje en el que el algoritmo aprende a partir de un conjunto de datos de entrenamiento etiquetados. En el aprendizaje supervisado, el algoritmo recibe un conjunto de datos de entrenamiento que incluye ejemplos de entrada y salida. El algoritmo aprende a partir de estos ejemplos y luego se utiliza para predecir la salida para nuevos ejemplos. El aprendizaje supervisado se utiliza en una amplia gama de aplicaciones, desde la clasificación de imágenes hasta la predicción de precios de acciones.\n",
    "\n",
    "### Aprendizaje no supervisado\n",
    "\n",
    "El aprendizaje no supervisado es un tipo de aprendizaje en el que el algoritmo aprende a partir de un conjunto de datos de entrenamiento no etiquetados. En el aprendizaje no supervisado, el algoritmo recibe un conjunto de datos de entrenamiento que no incluye ejemplos de salida. El algoritmo aprende a partir de estos ejemplos y luego se utiliza para identificar patrones en los datos. El aprendizaje no supervisado se utiliza en una amplia gama de aplicaciones, desde la segmentación de clientes hasta la detección de anomalías.\n",
    "\n",
    "### Aprendizaje por refuerzo\n",
    "\n",
    "El aprendizaje por refuerzo es un tipo de aprendizaje en el que el algoritmo aprende a partir de la interacción con un entorno. En el aprendizaje por refuerzo, el algoritmo recibe una recompensa o una penalización en función de sus acciones. El algoritmo aprende a partir de estas recompensas y penalizaciones y luego se utiliza para tomar decisiones en el futuro. El aprendizaje por refuerzo se utiliza en una amplia gama de aplicaciones, desde la conducción autónoma hasta los juegos de mesa."
   ],
   "id": "9c53212d49b43bad"
  },
  {
   "metadata": {},
   "cell_type": "markdown",
   "source": "# Aprendizaje supervisado",
   "id": "5d487eb7e8e76d6b"
  },
  {
   "metadata": {},
   "cell_type": "markdown",
   "source": [
    "## Regresión\n",
    "\n",
    "La regresión es un tipo de aprendizaje supervisado en el que el algoritmo aprende a partir de un conjunto de datos de entrenamiento etiquetados. En la regresión, el algoritmo aprende a partir de ejemplos de entrada y salida y luego se utiliza para predecir la salida para nuevos ejemplos. La regresión se utiliza en una amplia gama de aplicaciones, desde la predicción de precios de acciones hasta la predicción de la temperatura.\n",
    "\n",
    "## Clasificación\n",
    "\n",
    "La clasificación es un tipo de aprendizaje supervisado en el que el algoritmo aprende a partir de un conjunto de datos de entrenamiento etiquetados. En la clasificación, el algoritmo aprende a partir de ejemplos de entrada y salida y luego se utiliza para predecir la clase de un nuevo ejemplo. La clasificación se utiliza en una amplia gama de aplicaciones, desde la detección de fraudes en tarjetas de crédito hasta la clasificación de imágenes."
   ],
   "id": "764ddcc4423e2b27"
  },
  {
   "metadata": {},
   "cell_type": "markdown",
   "source": "## Regresión lineal",
   "id": "2dc35fe074ae52f6"
  },
  {
   "metadata": {},
   "cell_type": "markdown",
   "source": "La regresión lineal es un método estadístico que se utiliza para modelar la relación entre una variable dependiente y una o más variables independientes. La regresión lineal se utiliza para predecir el valor de la variable dependiente en función de los valores de las variables independientes. La regresión lineal es un método simple pero potente que se utiliza en una amplia gama de aplicaciones, desde la predicción de precios de acciones hasta la predicción de la temperatura.",
   "id": "104ba791d66ff38"
  },
  {
   "metadata": {
    "ExecuteTime": {
     "end_time": "2024-04-13T20:17:32.928120Z",
     "start_time": "2024-04-13T20:17:32.576010Z"
    }
   },
   "cell_type": "code",
   "source": [
    "import numpy as np\n",
    "import pandas as pd\n",
    "import global_vars as gv\n",
    "import statsmodels.api as sm\n",
    "import matplotlib.pyplot as plt\n",
    "import seaborn as sns"
   ],
   "id": "ae73d230de6ceaa2",
   "outputs": [],
   "execution_count": 2
  },
  {
   "metadata": {
    "ExecuteTime": {
     "end_time": "2024-04-13T20:17:33.214371Z",
     "start_time": "2024-04-13T20:17:33.170572Z"
    }
   },
   "cell_type": "code",
   "source": [
    "# Cargamos el dataset\n",
    "cars = pd.read_csv(f'{gv.GLOBAL_PATH}/data/cars.csv')"
   ],
   "id": "e1d5ef55007199ae",
   "outputs": [],
   "execution_count": 3
  },
  {
   "metadata": {
    "ExecuteTime": {
     "end_time": "2024-04-13T20:17:33.823766Z",
     "start_time": "2024-04-13T20:17:33.798218Z"
    }
   },
   "cell_type": "code",
   "source": [
    "# Mostramos las primeras filas del dataset\n",
    "cars.head()"
   ],
   "id": "cfbd392af5096586",
   "outputs": [
    {
     "data": {
      "text/plain": [
       "  Make       Model  Year             Engine Fuel Type  Engine HP  \\\n",
       "0  BMW  1 Series M  2011  premium unleaded (required)      335.0   \n",
       "1  BMW    1 Series  2011  premium unleaded (required)      300.0   \n",
       "2  BMW    1 Series  2011  premium unleaded (required)      300.0   \n",
       "3  BMW    1 Series  2011  premium unleaded (required)      230.0   \n",
       "4  BMW    1 Series  2011  premium unleaded (required)      230.0   \n",
       "\n",
       "   Engine Cylinders Transmission Type     Driven_Wheels  Number of Doors  \\\n",
       "0               6.0            MANUAL  rear wheel drive              2.0   \n",
       "1               6.0            MANUAL  rear wheel drive              2.0   \n",
       "2               6.0            MANUAL  rear wheel drive              2.0   \n",
       "3               6.0            MANUAL  rear wheel drive              2.0   \n",
       "4               6.0            MANUAL  rear wheel drive              2.0   \n",
       "\n",
       "                         Market Category Vehicle Size Vehicle Style  \\\n",
       "0  Factory Tuner,Luxury,High-Performance      Compact         Coupe   \n",
       "1                     Luxury,Performance      Compact   Convertible   \n",
       "2                Luxury,High-Performance      Compact         Coupe   \n",
       "3                     Luxury,Performance      Compact         Coupe   \n",
       "4                                 Luxury      Compact   Convertible   \n",
       "\n",
       "   highway MPG  city mpg  Popularity   MSRP  \n",
       "0           26        19        3916  46135  \n",
       "1           28        19        3916  40650  \n",
       "2           28        20        3916  36350  \n",
       "3           28        18        3916  29450  \n",
       "4           28        18        3916  34500  "
      ],
      "text/html": [
       "<div>\n",
       "<style scoped>\n",
       "    .dataframe tbody tr th:only-of-type {\n",
       "        vertical-align: middle;\n",
       "    }\n",
       "\n",
       "    .dataframe tbody tr th {\n",
       "        vertical-align: top;\n",
       "    }\n",
       "\n",
       "    .dataframe thead th {\n",
       "        text-align: right;\n",
       "    }\n",
       "</style>\n",
       "<table border=\"1\" class=\"dataframe\">\n",
       "  <thead>\n",
       "    <tr style=\"text-align: right;\">\n",
       "      <th></th>\n",
       "      <th>Make</th>\n",
       "      <th>Model</th>\n",
       "      <th>Year</th>\n",
       "      <th>Engine Fuel Type</th>\n",
       "      <th>Engine HP</th>\n",
       "      <th>Engine Cylinders</th>\n",
       "      <th>Transmission Type</th>\n",
       "      <th>Driven_Wheels</th>\n",
       "      <th>Number of Doors</th>\n",
       "      <th>Market Category</th>\n",
       "      <th>Vehicle Size</th>\n",
       "      <th>Vehicle Style</th>\n",
       "      <th>highway MPG</th>\n",
       "      <th>city mpg</th>\n",
       "      <th>Popularity</th>\n",
       "      <th>MSRP</th>\n",
       "    </tr>\n",
       "  </thead>\n",
       "  <tbody>\n",
       "    <tr>\n",
       "      <th>0</th>\n",
       "      <td>BMW</td>\n",
       "      <td>1 Series M</td>\n",
       "      <td>2011</td>\n",
       "      <td>premium unleaded (required)</td>\n",
       "      <td>335.0</td>\n",
       "      <td>6.0</td>\n",
       "      <td>MANUAL</td>\n",
       "      <td>rear wheel drive</td>\n",
       "      <td>2.0</td>\n",
       "      <td>Factory Tuner,Luxury,High-Performance</td>\n",
       "      <td>Compact</td>\n",
       "      <td>Coupe</td>\n",
       "      <td>26</td>\n",
       "      <td>19</td>\n",
       "      <td>3916</td>\n",
       "      <td>46135</td>\n",
       "    </tr>\n",
       "    <tr>\n",
       "      <th>1</th>\n",
       "      <td>BMW</td>\n",
       "      <td>1 Series</td>\n",
       "      <td>2011</td>\n",
       "      <td>premium unleaded (required)</td>\n",
       "      <td>300.0</td>\n",
       "      <td>6.0</td>\n",
       "      <td>MANUAL</td>\n",
       "      <td>rear wheel drive</td>\n",
       "      <td>2.0</td>\n",
       "      <td>Luxury,Performance</td>\n",
       "      <td>Compact</td>\n",
       "      <td>Convertible</td>\n",
       "      <td>28</td>\n",
       "      <td>19</td>\n",
       "      <td>3916</td>\n",
       "      <td>40650</td>\n",
       "    </tr>\n",
       "    <tr>\n",
       "      <th>2</th>\n",
       "      <td>BMW</td>\n",
       "      <td>1 Series</td>\n",
       "      <td>2011</td>\n",
       "      <td>premium unleaded (required)</td>\n",
       "      <td>300.0</td>\n",
       "      <td>6.0</td>\n",
       "      <td>MANUAL</td>\n",
       "      <td>rear wheel drive</td>\n",
       "      <td>2.0</td>\n",
       "      <td>Luxury,High-Performance</td>\n",
       "      <td>Compact</td>\n",
       "      <td>Coupe</td>\n",
       "      <td>28</td>\n",
       "      <td>20</td>\n",
       "      <td>3916</td>\n",
       "      <td>36350</td>\n",
       "    </tr>\n",
       "    <tr>\n",
       "      <th>3</th>\n",
       "      <td>BMW</td>\n",
       "      <td>1 Series</td>\n",
       "      <td>2011</td>\n",
       "      <td>premium unleaded (required)</td>\n",
       "      <td>230.0</td>\n",
       "      <td>6.0</td>\n",
       "      <td>MANUAL</td>\n",
       "      <td>rear wheel drive</td>\n",
       "      <td>2.0</td>\n",
       "      <td>Luxury,Performance</td>\n",
       "      <td>Compact</td>\n",
       "      <td>Coupe</td>\n",
       "      <td>28</td>\n",
       "      <td>18</td>\n",
       "      <td>3916</td>\n",
       "      <td>29450</td>\n",
       "    </tr>\n",
       "    <tr>\n",
       "      <th>4</th>\n",
       "      <td>BMW</td>\n",
       "      <td>1 Series</td>\n",
       "      <td>2011</td>\n",
       "      <td>premium unleaded (required)</td>\n",
       "      <td>230.0</td>\n",
       "      <td>6.0</td>\n",
       "      <td>MANUAL</td>\n",
       "      <td>rear wheel drive</td>\n",
       "      <td>2.0</td>\n",
       "      <td>Luxury</td>\n",
       "      <td>Compact</td>\n",
       "      <td>Convertible</td>\n",
       "      <td>28</td>\n",
       "      <td>18</td>\n",
       "      <td>3916</td>\n",
       "      <td>34500</td>\n",
       "    </tr>\n",
       "  </tbody>\n",
       "</table>\n",
       "</div>"
      ]
     },
     "execution_count": 4,
     "metadata": {},
     "output_type": "execute_result"
    }
   ],
   "execution_count": 4
  },
  {
   "metadata": {
    "ExecuteTime": {
     "end_time": "2024-04-10T23:57:37.012961Z",
     "start_time": "2024-04-10T23:57:36.984972Z"
    }
   },
   "cell_type": "code",
   "source": "cars.info()",
   "id": "1d5e37af71fabccd",
   "outputs": [
    {
     "name": "stdout",
     "output_type": "stream",
     "text": [
      "<class 'pandas.core.frame.DataFrame'>\n",
      "RangeIndex: 11914 entries, 0 to 11913\n",
      "Data columns (total 16 columns):\n",
      " #   Column             Non-Null Count  Dtype  \n",
      "---  ------             --------------  -----  \n",
      " 0   Make               11914 non-null  object \n",
      " 1   Model              11914 non-null  object \n",
      " 2   Year               11914 non-null  int64  \n",
      " 3   Engine Fuel Type   11911 non-null  object \n",
      " 4   Engine HP          11845 non-null  float64\n",
      " 5   Engine Cylinders   11884 non-null  float64\n",
      " 6   Transmission Type  11914 non-null  object \n",
      " 7   Driven_Wheels      11914 non-null  object \n",
      " 8   Number of Doors    11908 non-null  float64\n",
      " 9   Market Category    8172 non-null   object \n",
      " 10  Vehicle Size       11914 non-null  object \n",
      " 11  Vehicle Style      11914 non-null  object \n",
      " 12  highway MPG        11914 non-null  int64  \n",
      " 13  city mpg           11914 non-null  int64  \n",
      " 14  Popularity         11914 non-null  int64  \n",
      " 15  MSRP               11914 non-null  int64  \n",
      "dtypes: float64(3), int64(5), object(8)\n",
      "memory usage: 1.5+ MB\n"
     ]
    }
   ],
   "execution_count": 4
  },
  {
   "metadata": {},
   "cell_type": "markdown",
   "source": "### Ejemplo con variable Engine HP",
   "id": "91b9632b34092e8"
  },
  {
   "metadata": {
    "ExecuteTime": {
     "end_time": "2024-04-13T20:17:49.685576Z",
     "start_time": "2024-04-13T20:17:49.679248Z"
    }
   },
   "cell_type": "code",
   "source": [
    "# Creamos un modelo de regresión lineal\n",
    "cars_example = cars[['Engine HP', 'MSRP']].dropna()\n",
    "X = cars_example['Engine HP']\n",
    "y = cars_example['MSRP']"
   ],
   "id": "3c219ab67c835e86",
   "outputs": [],
   "execution_count": 5
  },
  {
   "metadata": {
    "ExecuteTime": {
     "end_time": "2024-04-13T20:17:50.295078Z",
     "start_time": "2024-04-13T20:17:50.283603Z"
    }
   },
   "cell_type": "code",
   "source": [
    "# creamos el modelo\n",
    "X = sm.add_constant(X)\n",
    "model = sm.OLS(y, X).fit()"
   ],
   "id": "fa97e54a142efc35",
   "outputs": [],
   "execution_count": 6
  },
  {
   "metadata": {
    "ExecuteTime": {
     "end_time": "2024-04-13T20:17:51.680275Z",
     "start_time": "2024-04-13T20:17:51.638944Z"
    }
   },
   "cell_type": "code",
   "source": [
    "# Mostramos el resumen del modelo\n",
    "model.summary()"
   ],
   "id": "ed78398fd7930bc0",
   "outputs": [
    {
     "data": {
      "text/plain": [
       "<class 'statsmodels.iolib.summary.Summary'>\n",
       "\"\"\"\n",
       "                            OLS Regression Results                            \n",
       "==============================================================================\n",
       "Dep. Variable:                   MSRP   R-squared:                       0.438\n",
       "Model:                            OLS   Adj. R-squared:                  0.438\n",
       "Method:                 Least Squares   F-statistic:                     9239.\n",
       "Date:                Sat, 13 Apr 2024   Prob (F-statistic):               0.00\n",
       "Time:                        15:17:51   Log-Likelihood:            -1.4376e+05\n",
       "No. Observations:               11845   AIC:                         2.875e+05\n",
       "Df Residuals:                   11843   BIC:                         2.875e+05\n",
       "Df Model:                           1                                         \n",
       "Covariance Type:            nonrobust                                         \n",
       "==============================================================================\n",
       "                 coef    std err          t      P>|t|      [0.025      0.975]\n",
       "------------------------------------------------------------------------------\n",
       "const      -5.055e+04   1034.584    -48.861      0.000   -5.26e+04   -4.85e+04\n",
       "Engine HP    365.2884      3.800     96.122      0.000     357.839     372.737\n",
       "==============================================================================\n",
       "Omnibus:                    23384.991   Durbin-Watson:                   0.713\n",
       "Prob(Omnibus):                  0.000   Jarque-Bera (JB):        104894451.425\n",
       "Skew:                          15.630   Prob(JB):                         0.00\n",
       "Kurtosis:                     462.953   Cond. No.                         679.\n",
       "==============================================================================\n",
       "\n",
       "Notes:\n",
       "[1] Standard Errors assume that the covariance matrix of the errors is correctly specified.\n",
       "\"\"\""
      ],
      "text/html": [
       "<table class=\"simpletable\">\n",
       "<caption>OLS Regression Results</caption>\n",
       "<tr>\n",
       "  <th>Dep. Variable:</th>          <td>MSRP</td>       <th>  R-squared:         </th>  <td>   0.438</td>  \n",
       "</tr>\n",
       "<tr>\n",
       "  <th>Model:</th>                   <td>OLS</td>       <th>  Adj. R-squared:    </th>  <td>   0.438</td>  \n",
       "</tr>\n",
       "<tr>\n",
       "  <th>Method:</th>             <td>Least Squares</td>  <th>  F-statistic:       </th>  <td>   9239.</td>  \n",
       "</tr>\n",
       "<tr>\n",
       "  <th>Date:</th>             <td>Sat, 13 Apr 2024</td> <th>  Prob (F-statistic):</th>   <td>  0.00</td>   \n",
       "</tr>\n",
       "<tr>\n",
       "  <th>Time:</th>                 <td>15:17:51</td>     <th>  Log-Likelihood:    </th> <td>-1.4376e+05</td>\n",
       "</tr>\n",
       "<tr>\n",
       "  <th>No. Observations:</th>      <td> 11845</td>      <th>  AIC:               </th>  <td>2.875e+05</td> \n",
       "</tr>\n",
       "<tr>\n",
       "  <th>Df Residuals:</th>          <td> 11843</td>      <th>  BIC:               </th>  <td>2.875e+05</td> \n",
       "</tr>\n",
       "<tr>\n",
       "  <th>Df Model:</th>              <td>     1</td>      <th>                     </th>      <td> </td>     \n",
       "</tr>\n",
       "<tr>\n",
       "  <th>Covariance Type:</th>      <td>nonrobust</td>    <th>                     </th>      <td> </td>     \n",
       "</tr>\n",
       "</table>\n",
       "<table class=\"simpletable\">\n",
       "<tr>\n",
       "      <td></td>         <th>coef</th>     <th>std err</th>      <th>t</th>      <th>P>|t|</th>  <th>[0.025</th>    <th>0.975]</th>  \n",
       "</tr>\n",
       "<tr>\n",
       "  <th>const</th>     <td>-5.055e+04</td> <td> 1034.584</td> <td>  -48.861</td> <td> 0.000</td> <td>-5.26e+04</td> <td>-4.85e+04</td>\n",
       "</tr>\n",
       "<tr>\n",
       "  <th>Engine HP</th> <td>  365.2884</td> <td>    3.800</td> <td>   96.122</td> <td> 0.000</td> <td>  357.839</td> <td>  372.737</td>\n",
       "</tr>\n",
       "</table>\n",
       "<table class=\"simpletable\">\n",
       "<tr>\n",
       "  <th>Omnibus:</th>       <td>23384.991</td> <th>  Durbin-Watson:     </th>   <td>   0.713</td>   \n",
       "</tr>\n",
       "<tr>\n",
       "  <th>Prob(Omnibus):</th>  <td> 0.000</td>   <th>  Jarque-Bera (JB):  </th> <td>104894451.425</td>\n",
       "</tr>\n",
       "<tr>\n",
       "  <th>Skew:</th>           <td>15.630</td>   <th>  Prob(JB):          </th>   <td>    0.00</td>   \n",
       "</tr>\n",
       "<tr>\n",
       "  <th>Kurtosis:</th>       <td>462.953</td>  <th>  Cond. No.          </th>   <td>    679.</td>   \n",
       "</tr>\n",
       "</table><br/><br/>Notes:<br/>[1] Standard Errors assume that the covariance matrix of the errors is correctly specified."
      ],
      "text/latex": "\\begin{center}\n\\begin{tabular}{lclc}\n\\toprule\n\\textbf{Dep. Variable:}    &       MSRP       & \\textbf{  R-squared:         } &       0.438    \\\\\n\\textbf{Model:}            &       OLS        & \\textbf{  Adj. R-squared:    } &       0.438    \\\\\n\\textbf{Method:}           &  Least Squares   & \\textbf{  F-statistic:       } &       9239.    \\\\\n\\textbf{Date:}             & Sat, 13 Apr 2024 & \\textbf{  Prob (F-statistic):} &       0.00     \\\\\n\\textbf{Time:}             &     15:17:51     & \\textbf{  Log-Likelihood:    } &  -1.4376e+05   \\\\\n\\textbf{No. Observations:} &       11845      & \\textbf{  AIC:               } &   2.875e+05    \\\\\n\\textbf{Df Residuals:}     &       11843      & \\textbf{  BIC:               } &   2.875e+05    \\\\\n\\textbf{Df Model:}         &           1      & \\textbf{                     } &                \\\\\n\\textbf{Covariance Type:}  &    nonrobust     & \\textbf{                     } &                \\\\\n\\bottomrule\n\\end{tabular}\n\\begin{tabular}{lcccccc}\n                   & \\textbf{coef} & \\textbf{std err} & \\textbf{t} & \\textbf{P$> |$t$|$} & \\textbf{[0.025} & \\textbf{0.975]}  \\\\\n\\midrule\n\\textbf{const}     &   -5.055e+04  &     1034.584     &   -48.861  &         0.000        &    -5.26e+04    &    -4.85e+04     \\\\\n\\textbf{Engine HP} &     365.2884  &        3.800     &    96.122  &         0.000        &      357.839    &      372.737     \\\\\n\\bottomrule\n\\end{tabular}\n\\begin{tabular}{lclc}\n\\textbf{Omnibus:}       & 23384.991 & \\textbf{  Durbin-Watson:     } &       0.713    \\\\\n\\textbf{Prob(Omnibus):} &    0.000  & \\textbf{  Jarque-Bera (JB):  } & 104894451.425  \\\\\n\\textbf{Skew:}          &   15.630  & \\textbf{  Prob(JB):          } &        0.00    \\\\\n\\textbf{Kurtosis:}      &  462.953  & \\textbf{  Cond. No.          } &        679.    \\\\\n\\bottomrule\n\\end{tabular}\n%\\caption{OLS Regression Results}\n\\end{center}\n\nNotes: \\newline\n [1] Standard Errors assume that the covariance matrix of the errors is correctly specified."
     },
     "execution_count": 7,
     "metadata": {},
     "output_type": "execute_result"
    }
   ],
   "execution_count": 7
  },
  {
   "metadata": {
    "ExecuteTime": {
     "end_time": "2024-04-13T20:17:54.273239Z",
     "start_time": "2024-04-13T20:17:54.266577Z"
    }
   },
   "cell_type": "code",
   "source": [
    "# Hacemos una predicción\n",
    "X_new = pd.DataFrame({'const': [1], 'Engine HP': [200]})\n",
    "X_new"
   ],
   "id": "9fd44afabcff570c",
   "outputs": [
    {
     "data": {
      "text/plain": [
       "   const  Engine HP\n",
       "0      1        200"
      ],
      "text/html": [
       "<div>\n",
       "<style scoped>\n",
       "    .dataframe tbody tr th:only-of-type {\n",
       "        vertical-align: middle;\n",
       "    }\n",
       "\n",
       "    .dataframe tbody tr th {\n",
       "        vertical-align: top;\n",
       "    }\n",
       "\n",
       "    .dataframe thead th {\n",
       "        text-align: right;\n",
       "    }\n",
       "</style>\n",
       "<table border=\"1\" class=\"dataframe\">\n",
       "  <thead>\n",
       "    <tr style=\"text-align: right;\">\n",
       "      <th></th>\n",
       "      <th>const</th>\n",
       "      <th>Engine HP</th>\n",
       "    </tr>\n",
       "  </thead>\n",
       "  <tbody>\n",
       "    <tr>\n",
       "      <th>0</th>\n",
       "      <td>1</td>\n",
       "      <td>200</td>\n",
       "    </tr>\n",
       "  </tbody>\n",
       "</table>\n",
       "</div>"
      ]
     },
     "execution_count": 8,
     "metadata": {},
     "output_type": "execute_result"
    }
   ],
   "execution_count": 8
  },
  {
   "metadata": {
    "ExecuteTime": {
     "end_time": "2024-04-13T20:17:55.913808Z",
     "start_time": "2024-04-13T20:17:55.905833Z"
    }
   },
   "cell_type": "code",
   "source": [
    "# Hacemos la predicción\n",
    "X_new = sm.add_constant(X_new)"
   ],
   "id": "bcb1692461970e82",
   "outputs": [],
   "execution_count": 9
  },
  {
   "metadata": {
    "ExecuteTime": {
     "end_time": "2024-04-13T20:17:56.139359Z",
     "start_time": "2024-04-13T20:17:56.131797Z"
    }
   },
   "cell_type": "code",
   "source": "model.predict(X_new)",
   "id": "5c3463b1554e13ce",
   "outputs": [
    {
     "data": {
      "text/plain": [
       "0    22507.039255\n",
       "dtype: float64"
      ]
     },
     "execution_count": 10,
     "metadata": {},
     "output_type": "execute_result"
    }
   ],
   "execution_count": 10
  },
  {
   "metadata": {
    "ExecuteTime": {
     "end_time": "2024-04-13T20:17:56.881020Z",
     "start_time": "2024-04-13T20:17:56.389008Z"
    }
   },
   "cell_type": "code",
   "source": [
    "# Grafiacamos reales vs predicciones\n",
    "predictions = model.predict(X)\n",
    "sns.scatterplot(x=predictions, y=y , alpha=0.5)\n",
    "plt.show()"
   ],
   "id": "66363ee28315343b",
   "outputs": [
    {
     "data": {
      "text/plain": [
       "<Figure size 640x480 with 1 Axes>"
      ],
      "image/png": "[encoded data removed]"
     },
     "metadata": {},
     "output_type": "display_data"
    }
   ],
   "execution_count": 11
  },
  {
   "metadata": {
    "ExecuteTime": {
     "end_time": "2024-04-13T20:17:57.282435Z",
     "start_time": "2024-04-13T20:17:56.942651Z"
    }
   },
   "cell_type": "code",
   "source": [
    "# Graficamos los residuos\n",
    "sns.scatterplot(x=y, y=model.resid)\n",
    "plt.show()"
   ],
   "id": "a1248a46f4453c46",
   "outputs": [
    {
     "data": {
      "text/plain": [
       "<Figure size 640x480 with 1 Axes>"
      ],
      "image/png": "[encoded data removed]"
     },
     "metadata": {},
     "output_type": "display_data"
    }
   ],
   "execution_count": 12
  },
  {
   "metadata": {
    "ExecuteTime": {
     "end_time": "2024-04-13T20:17:57.864477Z",
     "start_time": "2024-04-13T20:17:57.854990Z"
    }
   },
   "cell_type": "code",
   "source": [
    "# Forzar la intersección en 0\n",
    "X = cars_example['Engine HP']\n",
    "y = cars_example['MSRP']\n",
    "model = sm.OLS(y, X).fit()"
   ],
   "id": "577e2bf055110af4",
   "outputs": [],
   "execution_count": 13
  },
  {
   "metadata": {
    "ExecuteTime": {
     "end_time": "2024-04-13T20:17:58.127162Z",
     "start_time": "2024-04-13T20:17:58.073852Z"
    }
   },
   "cell_type": "code",
   "source": "model.summary()",
   "id": "2ec0450ca09d0c91",
   "outputs": [
    {
     "data": {
      "text/plain": [
       "<class 'statsmodels.iolib.summary.Summary'>\n",
       "\"\"\"\n",
       "                                 OLS Regression Results                                \n",
       "=======================================================================================\n",
       "Dep. Variable:                   MSRP   R-squared (uncentered):                   0.535\n",
       "Model:                            OLS   Adj. R-squared (uncentered):              0.535\n",
       "Method:                 Least Squares   F-statistic:                          1.365e+04\n",
       "Date:                Sat, 13 Apr 2024   Prob (F-statistic):                        0.00\n",
       "Time:                        15:17:58   Log-Likelihood:                     -1.4485e+05\n",
       "No. Observations:               11845   AIC:                                  2.897e+05\n",
       "Df Residuals:                   11844   BIC:                                  2.897e+05\n",
       "Df Model:                           1                                                  \n",
       "Covariance Type:            nonrobust                                                  \n",
       "==============================================================================\n",
       "                 coef    std err          t      P>|t|      [0.025      0.975]\n",
       "------------------------------------------------------------------------------\n",
       "Engine HP    195.1935      1.671    116.836      0.000     191.919     198.468\n",
       "==============================================================================\n",
       "Omnibus:                    23742.659   Durbin-Watson:                   0.653\n",
       "Prob(Omnibus):                  0.000   Jarque-Bera (JB):        100923956.873\n",
       "Skew:                          16.240   Prob(JB):                         0.00\n",
       "Kurtosis:                     454.037   Cond. No.                         1.00\n",
       "==============================================================================\n",
       "\n",
       "Notes:\n",
       "[1] R² is computed without centering (uncentered) since the model does not contain a constant.\n",
       "[2] Standard Errors assume that the covariance matrix of the errors is correctly specified.\n",
       "\"\"\""
      ],
      "text/html": [
       "<table class=\"simpletable\">\n",
       "<caption>OLS Regression Results</caption>\n",
       "<tr>\n",
       "  <th>Dep. Variable:</th>          <td>MSRP</td>       <th>  R-squared (uncentered):</th>       <td>   0.535</td>  \n",
       "</tr>\n",
       "<tr>\n",
       "  <th>Model:</th>                   <td>OLS</td>       <th>  Adj. R-squared (uncentered):</th>  <td>   0.535</td>  \n",
       "</tr>\n",
       "<tr>\n",
       "  <th>Method:</th>             <td>Least Squares</td>  <th>  F-statistic:       </th>           <td>1.365e+04</td> \n",
       "</tr>\n",
       "<tr>\n",
       "  <th>Date:</th>             <td>Sat, 13 Apr 2024</td> <th>  Prob (F-statistic):</th>            <td>  0.00</td>   \n",
       "</tr>\n",
       "<tr>\n",
       "  <th>Time:</th>                 <td>15:17:58</td>     <th>  Log-Likelihood:    </th>          <td>-1.4485e+05</td>\n",
       "</tr>\n",
       "<tr>\n",
       "  <th>No. Observations:</th>      <td> 11845</td>      <th>  AIC:               </th>           <td>2.897e+05</td> \n",
       "</tr>\n",
       "<tr>\n",
       "  <th>Df Residuals:</th>          <td> 11844</td>      <th>  BIC:               </th>           <td>2.897e+05</td> \n",
       "</tr>\n",
       "<tr>\n",
       "  <th>Df Model:</th>              <td>     1</td>      <th>                     </th>               <td> </td>     \n",
       "</tr>\n",
       "<tr>\n",
       "  <th>Covariance Type:</th>      <td>nonrobust</td>    <th>                     </th>               <td> </td>     \n",
       "</tr>\n",
       "</table>\n",
       "<table class=\"simpletable\">\n",
       "<tr>\n",
       "      <td></td>         <th>coef</th>     <th>std err</th>      <th>t</th>      <th>P>|t|</th>  <th>[0.025</th>    <th>0.975]</th>  \n",
       "</tr>\n",
       "<tr>\n",
       "  <th>Engine HP</th> <td>  195.1935</td> <td>    1.671</td> <td>  116.836</td> <td> 0.000</td> <td>  191.919</td> <td>  198.468</td>\n",
       "</tr>\n",
       "</table>\n",
       "<table class=\"simpletable\">\n",
       "<tr>\n",
       "  <th>Omnibus:</th>       <td>23742.659</td> <th>  Durbin-Watson:     </th>   <td>   0.653</td>   \n",
       "</tr>\n",
       "<tr>\n",
       "  <th>Prob(Omnibus):</th>  <td> 0.000</td>   <th>  Jarque-Bera (JB):  </th> <td>100923956.873</td>\n",
       "</tr>\n",
       "<tr>\n",
       "  <th>Skew:</th>           <td>16.240</td>   <th>  Prob(JB):          </th>   <td>    0.00</td>   \n",
       "</tr>\n",
       "<tr>\n",
       "  <th>Kurtosis:</th>       <td>454.037</td>  <th>  Cond. No.          </th>   <td>    1.00</td>   \n",
       "</tr>\n",
       "</table><br/><br/>Notes:<br/>[1] R² is computed without centering (uncentered) since the model does not contain a constant.<br/>[2] Standard Errors assume that the covariance matrix of the errors is correctly specified."
      ],
      "text/latex": "\\begin{center}\n\\begin{tabular}{lclc}\n\\toprule\n\\textbf{Dep. Variable:}    &       MSRP       & \\textbf{  R-squared (uncentered):}      &       0.535    \\\\\n\\textbf{Model:}            &       OLS        & \\textbf{  Adj. R-squared (uncentered):} &       0.535    \\\\\n\\textbf{Method:}           &  Least Squares   & \\textbf{  F-statistic:       }          &   1.365e+04    \\\\\n\\textbf{Date:}             & Sat, 13 Apr 2024 & \\textbf{  Prob (F-statistic):}          &       0.00     \\\\\n\\textbf{Time:}             &     15:17:58     & \\textbf{  Log-Likelihood:    }          &  -1.4485e+05   \\\\\n\\textbf{No. Observations:} &       11845      & \\textbf{  AIC:               }          &   2.897e+05    \\\\\n\\textbf{Df Residuals:}     &       11844      & \\textbf{  BIC:               }          &   2.897e+05    \\\\\n\\textbf{Df Model:}         &           1      & \\textbf{                     }          &                \\\\\n\\textbf{Covariance Type:}  &    nonrobust     & \\textbf{                     }          &                \\\\\n\\bottomrule\n\\end{tabular}\n\\begin{tabular}{lcccccc}\n                   & \\textbf{coef} & \\textbf{std err} & \\textbf{t} & \\textbf{P$> |$t$|$} & \\textbf{[0.025} & \\textbf{0.975]}  \\\\\n\\midrule\n\\textbf{Engine HP} &     195.1935  &        1.671     &   116.836  &         0.000        &      191.919    &      198.468     \\\\\n\\bottomrule\n\\end{tabular}\n\\begin{tabular}{lclc}\n\\textbf{Omnibus:}       & 23742.659 & \\textbf{  Durbin-Watson:     } &       0.653    \\\\\n\\textbf{Prob(Omnibus):} &    0.000  & \\textbf{  Jarque-Bera (JB):  } & 100923956.873  \\\\\n\\textbf{Skew:}          &   16.240  & \\textbf{  Prob(JB):          } &        0.00    \\\\\n\\textbf{Kurtosis:}      &  454.037  & \\textbf{  Cond. No.          } &        1.00    \\\\\n\\bottomrule\n\\end{tabular}\n%\\caption{OLS Regression Results}\n\\end{center}\n\nNotes: \\newline\n [1] R² is computed without centering (uncentered) since the model does not contain a constant. \\newline\n [2] Standard Errors assume that the covariance matrix of the errors is correctly specified."
     },
     "execution_count": 14,
     "metadata": {},
     "output_type": "execute_result"
    }
   ],
   "execution_count": 14
  },
  {
   "metadata": {
    "ExecuteTime": {
     "end_time": "2024-04-13T20:17:59.717980Z",
     "start_time": "2024-04-13T20:17:59.711579Z"
    }
   },
   "cell_type": "code",
   "source": [
    "# Hacemos una predicción\n",
    "X_new = pd.DataFrame({'Engine HP': [200]})\n",
    "X_new"
   ],
   "id": "6caff6d7f16ea86c",
   "outputs": [
    {
     "data": {
      "text/plain": [
       "   Engine HP\n",
       "0        200"
      ],
      "text/html": [
       "<div>\n",
       "<style scoped>\n",
       "    .dataframe tbody tr th:only-of-type {\n",
       "        vertical-align: middle;\n",
       "    }\n",
       "\n",
       "    .dataframe tbody tr th {\n",
       "        vertical-align: top;\n",
       "    }\n",
       "\n",
       "    .dataframe thead th {\n",
       "        text-align: right;\n",
       "    }\n",
       "</style>\n",
       "<table border=\"1\" class=\"dataframe\">\n",
       "  <thead>\n",
       "    <tr style=\"text-align: right;\">\n",
       "      <th></th>\n",
       "      <th>Engine HP</th>\n",
       "    </tr>\n",
       "  </thead>\n",
       "  <tbody>\n",
       "    <tr>\n",
       "      <th>0</th>\n",
       "      <td>200</td>\n",
       "    </tr>\n",
       "  </tbody>\n",
       "</table>\n",
       "</div>"
      ]
     },
     "execution_count": 15,
     "metadata": {},
     "output_type": "execute_result"
    }
   ],
   "execution_count": 15
  },
  {
   "metadata": {
    "ExecuteTime": {
     "end_time": "2024-04-13T20:18:01.613863Z",
     "start_time": "2024-04-13T20:18:01.604086Z"
    }
   },
   "cell_type": "code",
   "source": [
    "# Hacemos la predicción\n",
    "model.predict(X_new)"
   ],
   "id": "627dcf4993055215",
   "outputs": [
    {
     "data": {
      "text/plain": [
       "0    39038.707355\n",
       "dtype: float64"
      ]
     },
     "execution_count": 16,
     "metadata": {},
     "output_type": "execute_result"
    }
   ],
   "execution_count": 16
  },
  {
   "metadata": {
    "ExecuteTime": {
     "end_time": "2024-04-13T20:18:02.247387Z",
     "start_time": "2024-04-13T20:18:01.930412Z"
    }
   },
   "cell_type": "code",
   "source": [
    "# Grafiacamos reales vs predicciones\n",
    "predictions = model.predict(X)\n",
    "sns.scatterplot(x=predictions, y=y , alpha=0.5)\n",
    "plt.show()"
   ],
   "id": "66de214f9b14cc9",
   "outputs": [
    {
     "data": {
      "text/plain": [
       "<Figure size 640x480 with 1 Axes>"
      ],
      "image/png": "[encoded data removed]"
     },
     "metadata": {},
     "output_type": "display_data"
    }
   ],
   "execution_count": 17
  },
  {
   "metadata": {},
   "cell_type": "markdown",
   "source": "## Modelo con más de una covariable",
   "id": "a2075f7dcd1b3ea1"
  },
  {
   "metadata": {},
   "cell_type": "markdown",
   "source": "",
   "id": "4ca7601f356b9553"
  },
  {
   "metadata": {
    "ExecuteTime": {
     "end_time": "2024-04-13T20:18:05.152273Z",
     "start_time": "2024-04-13T20:18:05.144299Z"
    }
   },
   "cell_type": "code",
   "source": [
    "cars_example = cars[['Engine HP', 'Engine Cylinders', 'MSRP']].dropna()\n",
    "X = cars_example[['Engine HP', 'Engine Cylinders']]\n",
    "y = cars_example['MSRP']"
   ],
   "id": "87db8deb0e91c446",
   "outputs": [],
   "execution_count": 18
  },
  {
   "metadata": {
    "ExecuteTime": {
     "end_time": "2024-04-13T20:18:06.205102Z",
     "start_time": "2024-04-13T20:18:06.199579Z"
    }
   },
   "cell_type": "code",
   "source": "model = sm.OLS(y, X).fit()",
   "id": "d6d2e25b99e0869",
   "outputs": [],
   "execution_count": 19
  },
  {
   "metadata": {
    "ExecuteTime": {
     "end_time": "2024-04-11T01:31:51.287457Z",
     "start_time": "2024-04-11T01:31:51.260170Z"
    }
   },
   "cell_type": "code",
   "source": "model.summary()",
   "id": "90b8ea9afc173434",
   "outputs": [
    {
     "data": {
      "text/plain": [
       "<class 'statsmodels.iolib.summary.Summary'>\n",
       "\"\"\"\n",
       "                                 OLS Regression Results                                \n",
       "=======================================================================================\n",
       "Dep. Variable:                   MSRP   R-squared (uncentered):                   0.562\n",
       "Model:                            OLS   Adj. R-squared (uncentered):              0.562\n",
       "Method:                 Least Squares   F-statistic:                              7573.\n",
       "Date:                Wed, 10 Apr 2024   Prob (F-statistic):                        0.00\n",
       "Time:                        20:31:51   Log-Likelihood:                     -1.4416e+05\n",
       "No. Observations:               11816   AIC:                                  2.883e+05\n",
       "Df Residuals:                   11814   BIC:                                  2.883e+05\n",
       "Df Model:                           2                                                  \n",
       "Covariance Type:            nonrobust                                                  \n",
       "====================================================================================\n",
       "                       coef    std err          t      P>|t|      [0.025      0.975]\n",
       "------------------------------------------------------------------------------------\n",
       "Engine HP          361.4975      6.437     56.160      0.000     348.880     374.115\n",
       "Engine Cylinders -7909.9849    296.392    -26.688      0.000   -8490.962   -7329.007\n",
       "==============================================================================\n",
       "Omnibus:                    23606.089   Durbin-Watson:                   0.682\n",
       "Prob(Omnibus):                  0.000   Jarque-Bera (JB):         99943510.583\n",
       "Skew:                          16.113   Prob(JB):                         0.00\n",
       "Kurtosis:                     452.401   Cond. No.                         182.\n",
       "==============================================================================\n",
       "\n",
       "Notes:\n",
       "[1] R² is computed without centering (uncentered) since the model does not contain a constant.\n",
       "[2] Standard Errors assume that the covariance matrix of the errors is correctly specified.\n",
       "\"\"\""
      ],
      "text/html": [
       "<table class=\"simpletable\">\n",
       "<caption>OLS Regression Results</caption>\n",
       "<tr>\n",
       "  <th>Dep. Variable:</th>          <td>MSRP</td>       <th>  R-squared (uncentered):</th>       <td>   0.562</td>  \n",
       "</tr>\n",
       "<tr>\n",
       "  <th>Model:</th>                   <td>OLS</td>       <th>  Adj. R-squared (uncentered):</th>  <td>   0.562</td>  \n",
       "</tr>\n",
       "<tr>\n",
       "  <th>Method:</th>             <td>Least Squares</td>  <th>  F-statistic:       </th>           <td>   7573.</td>  \n",
       "</tr>\n",
       "<tr>\n",
       "  <th>Date:</th>             <td>Wed, 10 Apr 2024</td> <th>  Prob (F-statistic):</th>            <td>  0.00</td>   \n",
       "</tr>\n",
       "<tr>\n",
       "  <th>Time:</th>                 <td>20:31:51</td>     <th>  Log-Likelihood:    </th>          <td>-1.4416e+05</td>\n",
       "</tr>\n",
       "<tr>\n",
       "  <th>No. Observations:</th>      <td> 11816</td>      <th>  AIC:               </th>           <td>2.883e+05</td> \n",
       "</tr>\n",
       "<tr>\n",
       "  <th>Df Residuals:</th>          <td> 11814</td>      <th>  BIC:               </th>           <td>2.883e+05</td> \n",
       "</tr>\n",
       "<tr>\n",
       "  <th>Df Model:</th>              <td>     2</td>      <th>                     </th>               <td> </td>     \n",
       "</tr>\n",
       "<tr>\n",
       "  <th>Covariance Type:</th>      <td>nonrobust</td>    <th>                     </th>               <td> </td>     \n",
       "</tr>\n",
       "</table>\n",
       "<table class=\"simpletable\">\n",
       "<tr>\n",
       "          <td></td>            <th>coef</th>     <th>std err</th>      <th>t</th>      <th>P>|t|</th>  <th>[0.025</th>    <th>0.975]</th>  \n",
       "</tr>\n",
       "<tr>\n",
       "  <th>Engine HP</th>        <td>  361.4975</td> <td>    6.437</td> <td>   56.160</td> <td> 0.000</td> <td>  348.880</td> <td>  374.115</td>\n",
       "</tr>\n",
       "<tr>\n",
       "  <th>Engine Cylinders</th> <td>-7909.9849</td> <td>  296.392</td> <td>  -26.688</td> <td> 0.000</td> <td>-8490.962</td> <td>-7329.007</td>\n",
       "</tr>\n",
       "</table>\n",
       "<table class=\"simpletable\">\n",
       "<tr>\n",
       "  <th>Omnibus:</th>       <td>23606.089</td> <th>  Durbin-Watson:     </th>   <td>   0.682</td>  \n",
       "</tr>\n",
       "<tr>\n",
       "  <th>Prob(Omnibus):</th>  <td> 0.000</td>   <th>  Jarque-Bera (JB):  </th> <td>99943510.583</td>\n",
       "</tr>\n",
       "<tr>\n",
       "  <th>Skew:</th>           <td>16.113</td>   <th>  Prob(JB):          </th>   <td>    0.00</td>  \n",
       "</tr>\n",
       "<tr>\n",
       "  <th>Kurtosis:</th>       <td>452.401</td>  <th>  Cond. No.          </th>   <td>    182.</td>  \n",
       "</tr>\n",
       "</table><br/><br/>Notes:<br/>[1] R² is computed without centering (uncentered) since the model does not contain a constant.<br/>[2] Standard Errors assume that the covariance matrix of the errors is correctly specified."
      ],
      "text/latex": "\\begin{center}\n\\begin{tabular}{lclc}\n\\toprule\n\\textbf{Dep. Variable:}    &       MSRP       & \\textbf{  R-squared (uncentered):}      &      0.562    \\\\\n\\textbf{Model:}            &       OLS        & \\textbf{  Adj. R-squared (uncentered):} &      0.562    \\\\\n\\textbf{Method:}           &  Least Squares   & \\textbf{  F-statistic:       }          &      7573.    \\\\\n\\textbf{Date:}             & Wed, 10 Apr 2024 & \\textbf{  Prob (F-statistic):}          &      0.00     \\\\\n\\textbf{Time:}             &     20:31:51     & \\textbf{  Log-Likelihood:    }          & -1.4416e+05   \\\\\n\\textbf{No. Observations:} &       11816      & \\textbf{  AIC:               }          &  2.883e+05    \\\\\n\\textbf{Df Residuals:}     &       11814      & \\textbf{  BIC:               }          &  2.883e+05    \\\\\n\\textbf{Df Model:}         &           2      & \\textbf{                     }          &               \\\\\n\\textbf{Covariance Type:}  &    nonrobust     & \\textbf{                     }          &               \\\\\n\\bottomrule\n\\end{tabular}\n\\begin{tabular}{lcccccc}\n                          & \\textbf{coef} & \\textbf{std err} & \\textbf{t} & \\textbf{P$> |$t$|$} & \\textbf{[0.025} & \\textbf{0.975]}  \\\\\n\\midrule\n\\textbf{Engine HP}        &     361.4975  &        6.437     &    56.160  &         0.000        &      348.880    &      374.115     \\\\\n\\textbf{Engine Cylinders} &   -7909.9849  &      296.392     &   -26.688  &         0.000        &    -8490.962    &    -7329.007     \\\\\n\\bottomrule\n\\end{tabular}\n\\begin{tabular}{lclc}\n\\textbf{Omnibus:}       & 23606.089 & \\textbf{  Durbin-Watson:     } &      0.682    \\\\\n\\textbf{Prob(Omnibus):} &    0.000  & \\textbf{  Jarque-Bera (JB):  } & 99943510.583  \\\\\n\\textbf{Skew:}          &   16.113  & \\textbf{  Prob(JB):          } &       0.00    \\\\\n\\textbf{Kurtosis:}      &  452.401  & \\textbf{  Cond. No.          } &       182.    \\\\\n\\bottomrule\n\\end{tabular}\n%\\caption{OLS Regression Results}\n\\end{center}\n\nNotes: \\newline\n [1] R² is computed without centering (uncentered) since the model does not contain a constant. \\newline\n [2] Standard Errors assume that the covariance matrix of the errors is correctly specified."
     },
     "execution_count": 35,
     "metadata": {},
     "output_type": "execute_result"
    }
   ],
   "execution_count": 35
  },
  {
   "metadata": {},
   "cell_type": "markdown",
   "source": "## Modelo con más de dos variables",
   "id": "cb806417c50f0bc8"
  },
  {
   "metadata": {
    "ExecuteTime": {
     "end_time": "2024-04-13T20:18:09.630038Z",
     "start_time": "2024-04-13T20:18:09.621950Z"
    }
   },
   "cell_type": "code",
   "source": [
    "cars_example = cars[['Engine HP', 'highway MPG', 'city mpg', 'Popularity', 'Number of Doors', 'Engine Cylinders', 'MSRP']].dropna()\n",
    "X = cars_example[['Engine HP', 'highway MPG', 'city mpg', 'Popularity']]\n",
    "y = cars_example['MSRP']"
   ],
   "id": "3a654eaf21241544",
   "outputs": [],
   "execution_count": 20
  },
  {
   "metadata": {
    "ExecuteTime": {
     "end_time": "2024-04-13T20:18:10.074341Z",
     "start_time": "2024-04-13T20:18:10.066084Z"
    }
   },
   "cell_type": "code",
   "source": "model = sm.OLS(y, X).fit()",
   "id": "70916d2bf9a9084e",
   "outputs": [],
   "execution_count": 21
  },
  {
   "metadata": {
    "ExecuteTime": {
     "end_time": "2024-04-13T20:18:10.491413Z",
     "start_time": "2024-04-13T20:18:10.459462Z"
    }
   },
   "cell_type": "code",
   "source": "model.summary()",
   "id": "8856ec144814776b",
   "outputs": [
    {
     "data": {
      "text/plain": [
       "<class 'statsmodels.iolib.summary.Summary'>\n",
       "\"\"\"\n",
       "                                 OLS Regression Results                                \n",
       "=======================================================================================\n",
       "Dep. Variable:                   MSRP   R-squared (uncentered):                   0.592\n",
       "Model:                            OLS   Adj. R-squared (uncentered):              0.592\n",
       "Method:                 Least Squares   F-statistic:                              4280.\n",
       "Date:                Sat, 13 Apr 2024   Prob (F-statistic):                        0.00\n",
       "Time:                        15:18:10   Log-Likelihood:                     -1.4372e+05\n",
       "No. Observations:               11815   AIC:                                  2.875e+05\n",
       "Df Residuals:                   11811   BIC:                                  2.875e+05\n",
       "Df Model:                           4                                                  \n",
       "Covariance Type:            nonrobust                                                  \n",
       "===============================================================================\n",
       "                  coef    std err          t      P>|t|      [0.025      0.975]\n",
       "-------------------------------------------------------------------------------\n",
       "Engine HP     296.6496      3.001     98.840      0.000     290.766     302.533\n",
       "highway MPG -1098.5349    100.169    -10.967      0.000   -1294.883    -902.187\n",
       "city mpg      259.3460    125.203      2.071      0.038      13.928     504.764\n",
       "Popularity     -4.6985      0.292    -16.089      0.000      -5.271      -4.126\n",
       "==============================================================================\n",
       "Omnibus:                    23255.378   Durbin-Watson:                   0.699\n",
       "Prob(Omnibus):                  0.000   Jarque-Bera (JB):         99676665.998\n",
       "Skew:                          15.540   Prob(JB):                         0.00\n",
       "Kurtosis:                     451.897   Cond. No.                         789.\n",
       "==============================================================================\n",
       "\n",
       "Notes:\n",
       "[1] R² is computed without centering (uncentered) since the model does not contain a constant.\n",
       "[2] Standard Errors assume that the covariance matrix of the errors is correctly specified.\n",
       "\"\"\""
      ],
      "text/html": [
       "<table class=\"simpletable\">\n",
       "<caption>OLS Regression Results</caption>\n",
       "<tr>\n",
       "  <th>Dep. Variable:</th>          <td>MSRP</td>       <th>  R-squared (uncentered):</th>       <td>   0.592</td>  \n",
       "</tr>\n",
       "<tr>\n",
       "  <th>Model:</th>                   <td>OLS</td>       <th>  Adj. R-squared (uncentered):</th>  <td>   0.592</td>  \n",
       "</tr>\n",
       "<tr>\n",
       "  <th>Method:</th>             <td>Least Squares</td>  <th>  F-statistic:       </th>           <td>   4280.</td>  \n",
       "</tr>\n",
       "<tr>\n",
       "  <th>Date:</th>             <td>Sat, 13 Apr 2024</td> <th>  Prob (F-statistic):</th>            <td>  0.00</td>   \n",
       "</tr>\n",
       "<tr>\n",
       "  <th>Time:</th>                 <td>15:18:10</td>     <th>  Log-Likelihood:    </th>          <td>-1.4372e+05</td>\n",
       "</tr>\n",
       "<tr>\n",
       "  <th>No. Observations:</th>      <td> 11815</td>      <th>  AIC:               </th>           <td>2.875e+05</td> \n",
       "</tr>\n",
       "<tr>\n",
       "  <th>Df Residuals:</th>          <td> 11811</td>      <th>  BIC:               </th>           <td>2.875e+05</td> \n",
       "</tr>\n",
       "<tr>\n",
       "  <th>Df Model:</th>              <td>     4</td>      <th>                     </th>               <td> </td>     \n",
       "</tr>\n",
       "<tr>\n",
       "  <th>Covariance Type:</th>      <td>nonrobust</td>    <th>                     </th>               <td> </td>     \n",
       "</tr>\n",
       "</table>\n",
       "<table class=\"simpletable\">\n",
       "<tr>\n",
       "       <td></td>          <th>coef</th>     <th>std err</th>      <th>t</th>      <th>P>|t|</th>  <th>[0.025</th>    <th>0.975]</th>  \n",
       "</tr>\n",
       "<tr>\n",
       "  <th>Engine HP</th>   <td>  296.6496</td> <td>    3.001</td> <td>   98.840</td> <td> 0.000</td> <td>  290.766</td> <td>  302.533</td>\n",
       "</tr>\n",
       "<tr>\n",
       "  <th>highway MPG</th> <td>-1098.5349</td> <td>  100.169</td> <td>  -10.967</td> <td> 0.000</td> <td>-1294.883</td> <td> -902.187</td>\n",
       "</tr>\n",
       "<tr>\n",
       "  <th>city mpg</th>    <td>  259.3460</td> <td>  125.203</td> <td>    2.071</td> <td> 0.038</td> <td>   13.928</td> <td>  504.764</td>\n",
       "</tr>\n",
       "<tr>\n",
       "  <th>Popularity</th>  <td>   -4.6985</td> <td>    0.292</td> <td>  -16.089</td> <td> 0.000</td> <td>   -5.271</td> <td>   -4.126</td>\n",
       "</tr>\n",
       "</table>\n",
       "<table class=\"simpletable\">\n",
       "<tr>\n",
       "  <th>Omnibus:</th>       <td>23255.378</td> <th>  Durbin-Watson:     </th>   <td>   0.699</td>  \n",
       "</tr>\n",
       "<tr>\n",
       "  <th>Prob(Omnibus):</th>  <td> 0.000</td>   <th>  Jarque-Bera (JB):  </th> <td>99676665.998</td>\n",
       "</tr>\n",
       "<tr>\n",
       "  <th>Skew:</th>           <td>15.540</td>   <th>  Prob(JB):          </th>   <td>    0.00</td>  \n",
       "</tr>\n",
       "<tr>\n",
       "  <th>Kurtosis:</th>       <td>451.897</td>  <th>  Cond. No.          </th>   <td>    789.</td>  \n",
       "</tr>\n",
       "</table><br/><br/>Notes:<br/>[1] R² is computed without centering (uncentered) since the model does not contain a constant.<br/>[2] Standard Errors assume that the covariance matrix of the errors is correctly specified."
      ],
      "text/latex": "\\begin{center}\n\\begin{tabular}{lclc}\n\\toprule\n\\textbf{Dep. Variable:}    &       MSRP       & \\textbf{  R-squared (uncentered):}      &      0.592    \\\\\n\\textbf{Model:}            &       OLS        & \\textbf{  Adj. R-squared (uncentered):} &      0.592    \\\\\n\\textbf{Method:}           &  Least Squares   & \\textbf{  F-statistic:       }          &      4280.    \\\\\n\\textbf{Date:}             & Sat, 13 Apr 2024 & \\textbf{  Prob (F-statistic):}          &      0.00     \\\\\n\\textbf{Time:}             &     15:18:10     & \\textbf{  Log-Likelihood:    }          & -1.4372e+05   \\\\\n\\textbf{No. Observations:} &       11815      & \\textbf{  AIC:               }          &  2.875e+05    \\\\\n\\textbf{Df Residuals:}     &       11811      & \\textbf{  BIC:               }          &  2.875e+05    \\\\\n\\textbf{Df Model:}         &           4      & \\textbf{                     }          &               \\\\\n\\textbf{Covariance Type:}  &    nonrobust     & \\textbf{                     }          &               \\\\\n\\bottomrule\n\\end{tabular}\n\\begin{tabular}{lcccccc}\n                     & \\textbf{coef} & \\textbf{std err} & \\textbf{t} & \\textbf{P$> |$t$|$} & \\textbf{[0.025} & \\textbf{0.975]}  \\\\\n\\midrule\n\\textbf{Engine HP}   &     296.6496  &        3.001     &    98.840  &         0.000        &      290.766    &      302.533     \\\\\n\\textbf{highway MPG} &   -1098.5349  &      100.169     &   -10.967  &         0.000        &    -1294.883    &     -902.187     \\\\\n\\textbf{city mpg}    &     259.3460  &      125.203     &     2.071  &         0.038        &       13.928    &      504.764     \\\\\n\\textbf{Popularity}  &      -4.6985  &        0.292     &   -16.089  &         0.000        &       -5.271    &       -4.126     \\\\\n\\bottomrule\n\\end{tabular}\n\\begin{tabular}{lclc}\n\\textbf{Omnibus:}       & 23255.378 & \\textbf{  Durbin-Watson:     } &      0.699    \\\\\n\\textbf{Prob(Omnibus):} &    0.000  & \\textbf{  Jarque-Bera (JB):  } & 99676665.998  \\\\\n\\textbf{Skew:}          &   15.540  & \\textbf{  Prob(JB):          } &       0.00    \\\\\n\\textbf{Kurtosis:}      &  451.897  & \\textbf{  Cond. No.          } &       789.    \\\\\n\\bottomrule\n\\end{tabular}\n%\\caption{OLS Regression Results}\n\\end{center}\n\nNotes: \\newline\n [1] R² is computed without centering (uncentered) since the model does not contain a constant. \\newline\n [2] Standard Errors assume that the covariance matrix of the errors is correctly specified."
     },
     "execution_count": 22,
     "metadata": {},
     "output_type": "execute_result"
    }
   ],
   "execution_count": 22
  },
  {
   "metadata": {
    "ExecuteTime": {
     "end_time": "2024-04-13T20:18:13.022256Z",
     "start_time": "2024-04-13T20:18:13.010374Z"
    }
   },
   "cell_type": "code",
   "source": [
    "X_new = pd.DataFrame({'Engine HP': [200], 'highway MPG': [30], 'city mpg': [20], 'Popularity': [1000]})\n",
    "X_new"
   ],
   "id": "90dbe6d2146b0742",
   "outputs": [
    {
     "data": {
      "text/plain": [
       "   Engine HP  highway MPG  city mpg  Popularity\n",
       "0        200           30        20        1000"
      ],
      "text/html": [
       "<div>\n",
       "<style scoped>\n",
       "    .dataframe tbody tr th:only-of-type {\n",
       "        vertical-align: middle;\n",
       "    }\n",
       "\n",
       "    .dataframe tbody tr th {\n",
       "        vertical-align: top;\n",
       "    }\n",
       "\n",
       "    .dataframe thead th {\n",
       "        text-align: right;\n",
       "    }\n",
       "</style>\n",
       "<table border=\"1\" class=\"dataframe\">\n",
       "  <thead>\n",
       "    <tr style=\"text-align: right;\">\n",
       "      <th></th>\n",
       "      <th>Engine HP</th>\n",
       "      <th>highway MPG</th>\n",
       "      <th>city mpg</th>\n",
       "      <th>Popularity</th>\n",
       "    </tr>\n",
       "  </thead>\n",
       "  <tbody>\n",
       "    <tr>\n",
       "      <th>0</th>\n",
       "      <td>200</td>\n",
       "      <td>30</td>\n",
       "      <td>20</td>\n",
       "      <td>1000</td>\n",
       "    </tr>\n",
       "  </tbody>\n",
       "</table>\n",
       "</div>"
      ]
     },
     "execution_count": 23,
     "metadata": {},
     "output_type": "execute_result"
    }
   ],
   "execution_count": 23
  },
  {
   "metadata": {
    "ExecuteTime": {
     "end_time": "2024-04-13T20:18:15.401814Z",
     "start_time": "2024-04-13T20:18:15.395656Z"
    }
   },
   "cell_type": "code",
   "source": "model.predict(X_new)",
   "id": "bab9862fb087714c",
   "outputs": [
    {
     "data": {
      "text/plain": [
       "0    26862.271406\n",
       "dtype: float64"
      ]
     },
     "execution_count": 24,
     "metadata": {},
     "output_type": "execute_result"
    }
   ],
   "execution_count": 24
  },
  {
   "metadata": {
    "ExecuteTime": {
     "end_time": "2024-04-13T20:18:17.229942Z",
     "start_time": "2024-04-13T20:18:17.222234Z"
    }
   },
   "cell_type": "code",
   "source": "cars_example['predicted'] = model.predict(X)",
   "id": "e9b6026af2a15726",
   "outputs": [],
   "execution_count": 25
  },
  {
   "metadata": {
    "ExecuteTime": {
     "end_time": "2024-04-13T20:18:18.198277Z",
     "start_time": "2024-04-13T20:18:17.820437Z"
    }
   },
   "cell_type": "code",
   "source": "sns.scatterplot(x='predicted', y='MSRP', data=cars_example, alpha=0.5)",
   "id": "fa4f60c20c805a07",
   "outputs": [
    {
     "data": {
      "text/plain": [
       "<Axes: xlabel='predicted', ylabel='MSRP'>"
      ]
     },
     "execution_count": 26,
     "metadata": {},
     "output_type": "execute_result"
    },
    {
     "data": {
      "text/plain": [
       "<Figure size 640x480 with 1 Axes>"
      ],
      "image/png": "[encoded data removed]"
     },
     "metadata": {},
     "output_type": "display_data"
    }
   ],
   "execution_count": 26
  },
  {
   "metadata": {},
   "cell_type": "markdown",
   "source": "Con sklearn se estandarizan los datos a cambio de mayor velocidad de cómputo.",
   "id": "162d9fbf80a7b452"
  },
  {
   "metadata": {
    "ExecuteTime": {
     "end_time": "2024-04-13T20:18:21.888424Z",
     "start_time": "2024-04-13T20:18:21.714616Z"
    }
   },
   "cell_type": "code",
   "source": [
    "from sklearn.linear_model import LinearRegression\n",
    "from sklearn.preprocessing import StandardScaler"
   ],
   "id": "879908bb97720dae",
   "outputs": [],
   "execution_count": 27
  },
  {
   "metadata": {
    "ExecuteTime": {
     "end_time": "2024-04-13T20:18:21.928848Z",
     "start_time": "2024-04-13T20:18:21.919344Z"
    }
   },
   "cell_type": "code",
   "source": [
    "# Estandarizamos los datos\n",
    "scaler = StandardScaler()\n",
    "X_scaled = scaler.fit_transform(X)"
   ],
   "id": "47aa4dc9746bf09a",
   "outputs": [],
   "execution_count": 28
  },
  {
   "metadata": {
    "ExecuteTime": {
     "end_time": "2024-04-13T20:18:22.148770Z",
     "start_time": "2024-04-13T20:18:22.133029Z"
    }
   },
   "cell_type": "code",
   "source": "X.agg(['mean', 'std'])",
   "id": "bcff8b0685ddaba4",
   "outputs": [
    {
     "data": {
      "text/plain": [
       "       Engine HP  highway MPG  city mpg   Popularity\n",
       "mean  249.480491    26.320609  19.32755  1553.407533\n",
       "std   109.203463     7.442674   6.52701  1439.986399"
      ],
      "text/html": [
       "<div>\n",
       "<style scoped>\n",
       "    .dataframe tbody tr th:only-of-type {\n",
       "        vertical-align: middle;\n",
       "    }\n",
       "\n",
       "    .dataframe tbody tr th {\n",
       "        vertical-align: top;\n",
       "    }\n",
       "\n",
       "    .dataframe thead th {\n",
       "        text-align: right;\n",
       "    }\n",
       "</style>\n",
       "<table border=\"1\" class=\"dataframe\">\n",
       "  <thead>\n",
       "    <tr style=\"text-align: right;\">\n",
       "      <th></th>\n",
       "      <th>Engine HP</th>\n",
       "      <th>highway MPG</th>\n",
       "      <th>city mpg</th>\n",
       "      <th>Popularity</th>\n",
       "    </tr>\n",
       "  </thead>\n",
       "  <tbody>\n",
       "    <tr>\n",
       "      <th>mean</th>\n",
       "      <td>249.480491</td>\n",
       "      <td>26.320609</td>\n",
       "      <td>19.32755</td>\n",
       "      <td>1553.407533</td>\n",
       "    </tr>\n",
       "    <tr>\n",
       "      <th>std</th>\n",
       "      <td>109.203463</td>\n",
       "      <td>7.442674</td>\n",
       "      <td>6.52701</td>\n",
       "      <td>1439.986399</td>\n",
       "    </tr>\n",
       "  </tbody>\n",
       "</table>\n",
       "</div>"
      ]
     },
     "execution_count": 29,
     "metadata": {},
     "output_type": "execute_result"
    }
   ],
   "execution_count": 29
  },
  {
   "metadata": {
    "ExecuteTime": {
     "end_time": "2024-04-13T20:18:22.371937Z",
     "start_time": "2024-04-13T20:18:22.369285Z"
    }
   },
   "cell_type": "code",
   "source": "",
   "id": "17e838aa63ce0895",
   "outputs": [],
   "execution_count": 29
  },
  {
   "metadata": {
    "ExecuteTime": {
     "end_time": "2024-04-13T20:18:22.587004Z",
     "start_time": "2024-04-13T20:18:22.574180Z"
    }
   },
   "cell_type": "code",
   "source": [
    "# Creamos el modelo\n",
    "model = LinearRegression()\n",
    "model.fit(X_scaled, y)"
   ],
   "id": "8b127eb4180cb557",
   "outputs": [
    {
     "data": {
      "text/plain": [
       "LinearRegression()"
      ],
      "text/html": [
       "<style>#sk-container-id-1 {\n",
       "  /* Definition of color scheme common for light and dark mode */\n",
       "  --sklearn-color-text: black;\n",
       "  --sklearn-color-line: gray;\n",
       "  /* Definition of color scheme for unfitted estimators */\n",
       "  --sklearn-color-unfitted-level-0: #fff5e6;\n",
       "  --sklearn-color-unfitted-level-1: #f6e4d2;\n",
       "  --sklearn-color-unfitted-level-2: #ffe0b3;\n",
       "  --sklearn-color-unfitted-level-3: chocolate;\n",
       "  /* Definition of color scheme for fitted estimators */\n",
       "  --sklearn-color-fitted-level-0: #f0f8ff;\n",
       "  --sklearn-color-fitted-level-1: #d4ebff;\n",
       "  --sklearn-color-fitted-level-2: #b3dbfd;\n",
       "  --sklearn-color-fitted-level-3: cornflowerblue;\n",
       "\n",
       "  /* Specific color for light theme */\n",
       "  --sklearn-color-text-on-default-background: var(--sg-text-color, var(--theme-code-foreground, var(--jp-content-font-color1, black)));\n",
       "  --sklearn-color-background: var(--sg-background-color, var(--theme-background, var(--jp-layout-color0, white)));\n",
       "  --sklearn-color-border-box: var(--sg-text-color, var(--theme-code-foreground, var(--jp-content-font-color1, black)));\n",
       "  --sklearn-color-icon: #696969;\n",
       "\n",
       "  @media (prefers-color-scheme: dark) {\n",
       "    /* Redefinition of color scheme for dark theme */\n",
       "    --sklearn-color-text-on-default-background: var(--sg-text-color, var(--theme-code-foreground, var(--jp-content-font-color1, white)));\n",
       "    --sklearn-color-background: var(--sg-background-color, var(--theme-background, var(--jp-layout-color0, #111)));\n",
       "    --sklearn-color-border-box: var(--sg-text-color, var(--theme-code-foreground, var(--jp-content-font-color1, white)));\n",
       "    --sklearn-color-icon: #878787;\n",
       "  }\n",
       "}\n",
       "\n",
       "#sk-container-id-1 {\n",
       "  color: var(--sklearn-color-text);\n",
       "}\n",
       "\n",
       "#sk-container-id-1 pre {\n",
       "  padding: 0;\n",
       "}\n",
       "\n",
       "#sk-container-id-1 input.sk-hidden--visually {\n",
       "  border: 0;\n",
       "  clip: rect(1px 1px 1px 1px);\n",
       "  clip: rect(1px, 1px, 1px, 1px);\n",
       "  height: 1px;\n",
       "  margin: -1px;\n",
       "  overflow: hidden;\n",
       "  padding: 0;\n",
       "  position: absolute;\n",
       "  width: 1px;\n",
       "}\n",
       "\n",
       "#sk-container-id-1 div.sk-dashed-wrapped {\n",
       "  border: 1px dashed var(--sklearn-color-line);\n",
       "  margin: 0 0.4em 0.5em 0.4em;\n",
       "  box-sizing: border-box;\n",
       "  padding-bottom: 0.4em;\n",
       "  background-color: var(--sklearn-color-background);\n",
       "}\n",
       "\n",
       "#sk-container-id-1 div.sk-container {\n",
       "  /* jupyter's `normalize.less` sets `[hidden] { display: none; }`\n",
       "     but bootstrap.min.css set `[hidden] { display: none !important; }`\n",
       "     so we also need the `!important` here to be able to override the\n",
       "     default hidden behavior on the sphinx rendered scikit-learn.org.\n",
       "     See: https://github.com/scikit-learn/scikit-learn/issues/21755 */\n",
       "  display: inline-block !important;\n",
       "  position: relative;\n",
       "}\n",
       "\n",
       "#sk-container-id-1 div.sk-text-repr-fallback {\n",
       "  display: none;\n",
       "}\n",
       "\n",
       "div.sk-parallel-item,\n",
       "div.sk-serial,\n",
       "div.sk-item {\n",
       "  /* draw centered vertical line to link estimators */\n",
       "  background-image: linear-gradient(var(--sklearn-color-text-on-default-background), var(--sklearn-color-text-on-default-background));\n",
       "  background-size: 2px 100%;\n",
       "  background-repeat: no-repeat;\n",
       "  background-position: center center;\n",
       "}\n",
       "\n",
       "/* Parallel-specific style estimator block */\n",
       "\n",
       "#sk-container-id-1 div.sk-parallel-item::after {\n",
       "  content: \"\";\n",
       "  width: 100%;\n",
       "  border-bottom: 2px solid var(--sklearn-color-text-on-default-background);\n",
       "  flex-grow: 1;\n",
       "}\n",
       "\n",
       "#sk-container-id-1 div.sk-parallel {\n",
       "  display: flex;\n",
       "  align-items: stretch;\n",
       "  justify-content: center;\n",
       "  background-color: var(--sklearn-color-background);\n",
       "  position: relative;\n",
       "}\n",
       "\n",
       "#sk-container-id-1 div.sk-parallel-item {\n",
       "  display: flex;\n",
       "  flex-direction: column;\n",
       "}\n",
       "\n",
       "#sk-container-id-1 div.sk-parallel-item:first-child::after {\n",
       "  align-self: flex-end;\n",
       "  width: 50%;\n",
       "}\n",
       "\n",
       "#sk-container-id-1 div.sk-parallel-item:last-child::after {\n",
       "  align-self: flex-start;\n",
       "  width: 50%;\n",
       "}\n",
       "\n",
       "#sk-container-id-1 div.sk-parallel-item:only-child::after {\n",
       "  width: 0;\n",
       "}\n",
       "\n",
       "/* Serial-specific style estimator block */\n",
       "\n",
       "#sk-container-id-1 div.sk-serial {\n",
       "  display: flex;\n",
       "  flex-direction: column;\n",
       "  align-items: center;\n",
       "  background-color: var(--sklearn-color-background);\n",
       "  padding-right: 1em;\n",
       "  padding-left: 1em;\n",
       "}\n",
       "\n",
       "\n",
       "/* Toggleable style: style used for estimator/Pipeline/ColumnTransformer box that is\n",
       "clickable and can be expanded/collapsed.\n",
       "- Pipeline and ColumnTransformer use this feature and define the default style\n",
       "- Estimators will overwrite some part of the style using the `sk-estimator` class\n",
       "*/\n",
       "\n",
       "/* Pipeline and ColumnTransformer style (default) */\n",
       "\n",
       "#sk-container-id-1 div.sk-toggleable {\n",
       "  /* Default theme specific background. It is overwritten whether we have a\n",
       "  specific estimator or a Pipeline/ColumnTransformer */\n",
       "  background-color: var(--sklearn-color-background);\n",
       "}\n",
       "\n",
       "/* Toggleable label */\n",
       "#sk-container-id-1 label.sk-toggleable__label {\n",
       "  cursor: pointer;\n",
       "  display: block;\n",
       "  width: 100%;\n",
       "  margin-bottom: 0;\n",
       "  padding: 0.5em;\n",
       "  box-sizing: border-box;\n",
       "  text-align: center;\n",
       "}\n",
       "\n",
       "#sk-container-id-1 label.sk-toggleable__label-arrow:before {\n",
       "  /* Arrow on the left of the label */\n",
       "  content: \"▸\";\n",
       "  float: left;\n",
       "  margin-right: 0.25em;\n",
       "  color: var(--sklearn-color-icon);\n",
       "}\n",
       "\n",
       "#sk-container-id-1 label.sk-toggleable__label-arrow:hover:before {\n",
       "  color: var(--sklearn-color-text);\n",
       "}\n",
       "\n",
       "/* Toggleable content - dropdown */\n",
       "\n",
       "#sk-container-id-1 div.sk-toggleable__content {\n",
       "  max-height: 0;\n",
       "  max-width: 0;\n",
       "  overflow: hidden;\n",
       "  text-align: left;\n",
       "  /* unfitted */\n",
       "  background-color: var(--sklearn-color-unfitted-level-0);\n",
       "}\n",
       "\n",
       "#sk-container-id-1 div.sk-toggleable__content.fitted {\n",
       "  /* fitted */\n",
       "  background-color: var(--sklearn-color-fitted-level-0);\n",
       "}\n",
       "\n",
       "#sk-container-id-1 div.sk-toggleable__content pre {\n",
       "  margin: 0.2em;\n",
       "  border-radius: 0.25em;\n",
       "  color: var(--sklearn-color-text);\n",
       "  /* unfitted */\n",
       "  background-color: var(--sklearn-color-unfitted-level-0);\n",
       "}\n",
       "\n",
       "#sk-container-id-1 div.sk-toggleable__content.fitted pre {\n",
       "  /* unfitted */\n",
       "  background-color: var(--sklearn-color-fitted-level-0);\n",
       "}\n",
       "\n",
       "#sk-container-id-1 input.sk-toggleable__control:checked~div.sk-toggleable__content {\n",
       "  /* Expand drop-down */\n",
       "  max-height: 200px;\n",
       "  max-width: 100%;\n",
       "  overflow: auto;\n",
       "}\n",
       "\n",
       "#sk-container-id-1 input.sk-toggleable__control:checked~label.sk-toggleable__label-arrow:before {\n",
       "  content: \"▾\";\n",
       "}\n",
       "\n",
       "/* Pipeline/ColumnTransformer-specific style */\n",
       "\n",
       "#sk-container-id-1 div.sk-label input.sk-toggleable__control:checked~label.sk-toggleable__label {\n",
       "  color: var(--sklearn-color-text);\n",
       "  background-color: var(--sklearn-color-unfitted-level-2);\n",
       "}\n",
       "\n",
       "#sk-container-id-1 div.sk-label.fitted input.sk-toggleable__control:checked~label.sk-toggleable__label {\n",
       "  background-color: var(--sklearn-color-fitted-level-2);\n",
       "}\n",
       "\n",
       "/* Estimator-specific style */\n",
       "\n",
       "/* Colorize estimator box */\n",
       "#sk-container-id-1 div.sk-estimator input.sk-toggleable__control:checked~label.sk-toggleable__label {\n",
       "  /* unfitted */\n",
       "  background-color: var(--sklearn-color-unfitted-level-2);\n",
       "}\n",
       "\n",
       "#sk-container-id-1 div.sk-estimator.fitted input.sk-toggleable__control:checked~label.sk-toggleable__label {\n",
       "  /* fitted */\n",
       "  background-color: var(--sklearn-color-fitted-level-2);\n",
       "}\n",
       "\n",
       "#sk-container-id-1 div.sk-label label.sk-toggleable__label,\n",
       "#sk-container-id-1 div.sk-label label {\n",
       "  /* The background is the default theme color */\n",
       "  color: var(--sklearn-color-text-on-default-background);\n",
       "}\n",
       "\n",
       "/* On hover, darken the color of the background */\n",
       "#sk-container-id-1 div.sk-label:hover label.sk-toggleable__label {\n",
       "  color: var(--sklearn-color-text);\n",
       "  background-color: var(--sklearn-color-unfitted-level-2);\n",
       "}\n",
       "\n",
       "/* Label box, darken color on hover, fitted */\n",
       "#sk-container-id-1 div.sk-label.fitted:hover label.sk-toggleable__label.fitted {\n",
       "  color: var(--sklearn-color-text);\n",
       "  background-color: var(--sklearn-color-fitted-level-2);\n",
       "}\n",
       "\n",
       "/* Estimator label */\n",
       "\n",
       "#sk-container-id-1 div.sk-label label {\n",
       "  font-family: monospace;\n",
       "  font-weight: bold;\n",
       "  display: inline-block;\n",
       "  line-height: 1.2em;\n",
       "}\n",
       "\n",
       "#sk-container-id-1 div.sk-label-container {\n",
       "  text-align: center;\n",
       "}\n",
       "\n",
       "/* Estimator-specific */\n",
       "#sk-container-id-1 div.sk-estimator {\n",
       "  font-family: monospace;\n",
       "  border: 1px dotted var(--sklearn-color-border-box);\n",
       "  border-radius: 0.25em;\n",
       "  box-sizing: border-box;\n",
       "  margin-bottom: 0.5em;\n",
       "  /* unfitted */\n",
       "  background-color: var(--sklearn-color-unfitted-level-0);\n",
       "}\n",
       "\n",
       "#sk-container-id-1 div.sk-estimator.fitted {\n",
       "  /* fitted */\n",
       "  background-color: var(--sklearn-color-fitted-level-0);\n",
       "}\n",
       "\n",
       "/* on hover */\n",
       "#sk-container-id-1 div.sk-estimator:hover {\n",
       "  /* unfitted */\n",
       "  background-color: var(--sklearn-color-unfitted-level-2);\n",
       "}\n",
       "\n",
       "#sk-container-id-1 div.sk-estimator.fitted:hover {\n",
       "  /* fitted */\n",
       "  background-color: var(--sklearn-color-fitted-level-2);\n",
       "}\n",
       "\n",
       "/* Specification for estimator info (e.g. \"i\" and \"?\") */\n",
       "\n",
       "/* Common style for \"i\" and \"?\" */\n",
       "\n",
       ".sk-estimator-doc-link,\n",
       "a:link.sk-estimator-doc-link,\n",
       "a:visited.sk-estimator-doc-link {\n",
       "  float: right;\n",
       "  font-size: smaller;\n",
       "  line-height: 1em;\n",
       "  font-family: monospace;\n",
       "  background-color: var(--sklearn-color-background);\n",
       "  border-radius: 1em;\n",
       "  height: 1em;\n",
       "  width: 1em;\n",
       "  text-decoration: none !important;\n",
       "  margin-left: 1ex;\n",
       "  /* unfitted */\n",
       "  border: var(--sklearn-color-unfitted-level-1) 1pt solid;\n",
       "  color: var(--sklearn-color-unfitted-level-1);\n",
       "}\n",
       "\n",
       ".sk-estimator-doc-link.fitted,\n",
       "a:link.sk-estimator-doc-link.fitted,\n",
       "a:visited.sk-estimator-doc-link.fitted {\n",
       "  /* fitted */\n",
       "  border: var(--sklearn-color-fitted-level-1) 1pt solid;\n",
       "  color: var(--sklearn-color-fitted-level-1);\n",
       "}\n",
       "\n",
       "/* On hover */\n",
       "div.sk-estimator:hover .sk-estimator-doc-link:hover,\n",
       ".sk-estimator-doc-link:hover,\n",
       "div.sk-label-container:hover .sk-estimator-doc-link:hover,\n",
       ".sk-estimator-doc-link:hover {\n",
       "  /* unfitted */\n",
       "  background-color: var(--sklearn-color-unfitted-level-3);\n",
       "  color: var(--sklearn-color-background);\n",
       "  text-decoration: none;\n",
       "}\n",
       "\n",
       "div.sk-estimator.fitted:hover .sk-estimator-doc-link.fitted:hover,\n",
       ".sk-estimator-doc-link.fitted:hover,\n",
       "div.sk-label-container:hover .sk-estimator-doc-link.fitted:hover,\n",
       ".sk-estimator-doc-link.fitted:hover {\n",
       "  /* fitted */\n",
       "  background-color: var(--sklearn-color-fitted-level-3);\n",
       "  color: var(--sklearn-color-background);\n",
       "  text-decoration: none;\n",
       "}\n",
       "\n",
       "/* Span, style for the box shown on hovering the info icon */\n",
       ".sk-estimator-doc-link span {\n",
       "  display: none;\n",
       "  z-index: 9999;\n",
       "  position: relative;\n",
       "  font-weight: normal;\n",
       "  right: .2ex;\n",
       "  padding: .5ex;\n",
       "  margin: .5ex;\n",
       "  width: min-content;\n",
       "  min-width: 20ex;\n",
       "  max-width: 50ex;\n",
       "  color: var(--sklearn-color-text);\n",
       "  box-shadow: 2pt 2pt 4pt #999;\n",
       "  /* unfitted */\n",
       "  background: var(--sklearn-color-unfitted-level-0);\n",
       "  border: .5pt solid var(--sklearn-color-unfitted-level-3);\n",
       "}\n",
       "\n",
       ".sk-estimator-doc-link.fitted span {\n",
       "  /* fitted */\n",
       "  background: var(--sklearn-color-fitted-level-0);\n",
       "  border: var(--sklearn-color-fitted-level-3);\n",
       "}\n",
       "\n",
       ".sk-estimator-doc-link:hover span {\n",
       "  display: block;\n",
       "}\n",
       "\n",
       "/* \"?\"-specific style due to the `<a>` HTML tag */\n",
       "\n",
       "#sk-container-id-1 a.estimator_doc_link {\n",
       "  float: right;\n",
       "  font-size: 1rem;\n",
       "  line-height: 1em;\n",
       "  font-family: monospace;\n",
       "  background-color: var(--sklearn-color-background);\n",
       "  border-radius: 1rem;\n",
       "  height: 1rem;\n",
       "  width: 1rem;\n",
       "  text-decoration: none;\n",
       "  /* unfitted */\n",
       "  color: var(--sklearn-color-unfitted-level-1);\n",
       "  border: var(--sklearn-color-unfitted-level-1) 1pt solid;\n",
       "}\n",
       "\n",
       "#sk-container-id-1 a.estimator_doc_link.fitted {\n",
       "  /* fitted */\n",
       "  border: var(--sklearn-color-fitted-level-1) 1pt solid;\n",
       "  color: var(--sklearn-color-fitted-level-1);\n",
       "}\n",
       "\n",
       "/* On hover */\n",
       "#sk-container-id-1 a.estimator_doc_link:hover {\n",
       "  /* unfitted */\n",
       "  background-color: var(--sklearn-color-unfitted-level-3);\n",
       "  color: var(--sklearn-color-background);\n",
       "  text-decoration: none;\n",
       "}\n",
       "\n",
       "#sk-container-id-1 a.estimator_doc_link.fitted:hover {\n",
       "  /* fitted */\n",
       "  background-color: var(--sklearn-color-fitted-level-3);\n",
       "}\n",
       "</style><div id=\"sk-container-id-1\" class=\"sk-top-container\"><div class=\"sk-text-repr-fallback\"><pre>LinearRegression()</pre><b>In a Jupyter environment, please rerun this cell to show the HTML representation or trust the notebook. <br />On GitHub, the HTML representation is unable to render, please try loading this page with nbviewer.org.</b></div><div class=\"sk-container\" hidden><div class=\"sk-item\"><div class=\"sk-estimator fitted sk-toggleable\"><input class=\"sk-toggleable__control sk-hidden--visually\" id=\"sk-estimator-id-1\" type=\"checkbox\" checked><label for=\"sk-estimator-id-1\" class=\"sk-toggleable__label fitted sk-toggleable__label-arrow fitted\">&nbsp;&nbsp;LinearRegression<a class=\"sk-estimator-doc-link fitted\" rel=\"noreferrer\" target=\"_blank\" href=\"https://scikit-learn.org/1.4/modules/generated/sklearn.linear_model.LinearRegression.html\">?<span>Documentation for LinearRegression</span></a><span class=\"sk-estimator-doc-link fitted\">i<span>Fitted</span></span></label><div class=\"sk-toggleable__content fitted\"><pre>LinearRegression()</pre></div> </div></div></div></div>"
      ]
     },
     "execution_count": 30,
     "metadata": {},
     "output_type": "execute_result"
    }
   ],
   "execution_count": 30
  },
  {
   "metadata": {
    "ExecuteTime": {
     "end_time": "2024-04-13T20:18:22.970410Z",
     "start_time": "2024-04-13T20:18:22.966154Z"
    }
   },
   "cell_type": "code",
   "source": [
    "# Coeficientes del modelo\n",
    "model.coef_"
   ],
   "id": "693650b2be140471",
   "outputs": [
    {
     "data": {
      "text/plain": [
       "array([43073.70455388,   932.34088861,  5652.57382125, -4417.5851355 ])"
      ]
     },
     "execution_count": 31,
     "metadata": {},
     "output_type": "execute_result"
    }
   ],
   "execution_count": 31
  },
  {
   "metadata": {
    "ExecuteTime": {
     "end_time": "2024-04-13T20:18:23.323406Z",
     "start_time": "2024-04-13T20:18:23.315101Z"
    }
   },
   "cell_type": "code",
   "source": [
    "# Hacemos una predicción\n",
    "X_new = pd.DataFrame({'Engine HP': [200], 'highway MPG': [30], 'city mpg': [20], 'Popularity': [1000]})\n",
    "X_new_scaled = scaler.transform(X_new)\n",
    "X_new_scaled"
   ],
   "id": "3ea25b5ac6ab4f26",
   "outputs": [
    {
     "data": {
      "text/plain": [
       "array([[-0.45312286,  0.49438501,  0.10303014, -0.38433068]])"
      ]
     },
     "execution_count": 32,
     "metadata": {},
     "output_type": "execute_result"
    }
   ],
   "execution_count": 32
  },
  {
   "metadata": {},
   "cell_type": "markdown",
   "source": " ## Modelo lineal con todas las variables",
   "id": "efc8b57f7f731c29"
  },
  {
   "metadata": {
    "ExecuteTime": {
     "end_time": "2024-04-13T20:19:37.831695Z",
     "start_time": "2024-04-13T20:19:37.828222Z"
    }
   },
   "cell_type": "code",
   "source": "variables_numericas = cars.select_dtypes(include=[np.number]).columns",
   "id": "d83cc6d152c661e8",
   "outputs": [],
   "execution_count": 34
  },
  {
   "metadata": {
    "ExecuteTime": {
     "end_time": "2024-04-13T20:19:44.648109Z",
     "start_time": "2024-04-13T20:19:44.644365Z"
    }
   },
   "cell_type": "code",
   "source": "print(variables_numericas)",
   "id": "57a26dbc7f84958b",
   "outputs": [
    {
     "name": "stdout",
     "output_type": "stream",
     "text": [
      "Index(['Year', 'Engine HP', 'Engine Cylinders', 'Number of Doors',\n",
      "       'highway MPG', 'city mpg', 'Popularity', 'MSRP'],\n",
      "      dtype='object')\n"
     ]
    }
   ],
   "execution_count": 35
  },
  {
   "metadata": {
    "ExecuteTime": {
     "end_time": "2024-04-13T20:21:08.572042Z",
     "start_time": "2024-04-13T20:21:08.568695Z"
    }
   },
   "cell_type": "code",
   "source": "variables_categoricals =   [x for x in cars.columns if x not in variables_numericas]",
   "id": "8f5713a037ab163e",
   "outputs": [],
   "execution_count": 37
  },
  {
   "metadata": {
    "ExecuteTime": {
     "end_time": "2024-04-13T20:21:15.480023Z",
     "start_time": "2024-04-13T20:21:15.475959Z"
    }
   },
   "cell_type": "code",
   "source": "print(variables_categoricals)",
   "id": "648d43171ed7f4b7",
   "outputs": [
    {
     "name": "stdout",
     "output_type": "stream",
     "text": [
      "['Make', 'Model', 'Engine Fuel Type', 'Transmission Type', 'Driven_Wheels', 'Market Category', 'Vehicle Size', 'Vehicle Style']\n"
     ]
    }
   ],
   "execution_count": 38
  },
  {
   "metadata": {
    "ExecuteTime": {
     "end_time": "2024-04-13T20:23:11.392116Z",
     "start_time": "2024-04-13T20:23:11.387806Z"
    }
   },
   "cell_type": "code",
   "source": [
    "def count_var_categ(sample: pd.Series) -> pd.DataFrame:\n",
    "    conteo = sample.value_counts().reset_index()\n",
    "    total = float(np.sum(conteo['count']))\n",
    "    conteo['Porc %'] = np.round(conteo['count']/total*100,2)\n",
    "    return conteo"
   ],
   "id": "8d629b3d9ebd14bc",
   "outputs": [],
   "execution_count": 39
  },
  {
   "metadata": {
    "ExecuteTime": {
     "end_time": "2024-04-13T20:24:04.358338Z",
     "start_time": "2024-04-13T20:24:04.327863Z"
    }
   },
   "cell_type": "code",
   "source": [
    "for var in variables_categoricals:\n",
    "    print(f\"Los valores únicos de la variable {var} son:\\n{count_var_categ(cars[var])} \\n\")"
   ],
   "id": "1d6de113b8b502ff",
   "outputs": [
    {
     "name": "stdout",
     "output_type": "stream",
     "text": [
      "Los valores únicos de la variable Make son:\n",
      "             Make  count  Porc %\n",
      "0       Chevrolet   1123    9.43\n",
      "1            Ford    881    7.39\n",
      "2      Volkswagen    809    6.79\n",
      "3          Toyota    746    6.26\n",
      "4           Dodge    626    5.25\n",
      "5          Nissan    558    4.68\n",
      "6             GMC    515    4.32\n",
      "7           Honda    449    3.77\n",
      "8           Mazda    423    3.55\n",
      "9        Cadillac    397    3.33\n",
      "10  Mercedes-Benz    353    2.96\n",
      "11         Suzuki    351    2.95\n",
      "12            BMW    334    2.80\n",
      "13       Infiniti    330    2.77\n",
      "14           Audi    328    2.75\n",
      "15        Hyundai    303    2.54\n",
      "16          Volvo    281    2.36\n",
      "17         Subaru    256    2.15\n",
      "18          Acura    252    2.12\n",
      "19            Kia    231    1.94\n",
      "20     Mitsubishi    213    1.79\n",
      "21          Lexus    202    1.70\n",
      "22          Buick    196    1.65\n",
      "23       Chrysler    187    1.57\n",
      "24        Pontiac    186    1.56\n",
      "25        Lincoln    164    1.38\n",
      "26     Oldsmobile    150    1.26\n",
      "27     Land Rover    143    1.20\n",
      "28        Porsche    136    1.14\n",
      "29           Saab    111    0.93\n",
      "30   Aston Martin     93    0.78\n",
      "31       Plymouth     82    0.69\n",
      "32        Bentley     74    0.62\n",
      "33        Ferrari     69    0.58\n",
      "34           FIAT     62    0.52\n",
      "35          Scion     60    0.50\n",
      "36       Maserati     58    0.49\n",
      "37    Lamborghini     52    0.44\n",
      "38    Rolls-Royce     31    0.26\n",
      "39          Lotus     29    0.24\n",
      "40          Tesla     18    0.15\n",
      "41         HUMMER     17    0.14\n",
      "42        Maybach     16    0.13\n",
      "43     Alfa Romeo      5    0.04\n",
      "44        McLaren      5    0.04\n",
      "45         Spyker      3    0.03\n",
      "46        Genesis      3    0.03\n",
      "47        Bugatti      3    0.03 \n",
      "\n",
      "Los valores únicos de la variable Model son:\n",
      "                  Model  count  Porc %\n",
      "0        Silverado 1500    156    1.31\n",
      "1                Tundra    140    1.18\n",
      "2                 F-150    126    1.06\n",
      "3           Sierra 1500     90    0.76\n",
      "4    Beetle Convertible     89    0.75\n",
      "..                  ...    ...     ...\n",
      "910          MKZ Hybrid      1    0.01\n",
      "911              M4 GTS      1    0.01\n",
      "912                 LFA      1    0.01\n",
      "913             Horizon      1    0.01\n",
      "914              Zephyr      1    0.01\n",
      "\n",
      "[915 rows x 3 columns] \n",
      "\n",
      "Los valores únicos de la variable Engine Fuel Type son:\n",
      "                               Engine Fuel Type  count  Porc %\n",
      "0                              regular unleaded   7172   60.21\n",
      "1                   premium unleaded (required)   2009   16.87\n",
      "2                premium unleaded (recommended)   1523   12.79\n",
      "3                      flex-fuel (unleaded/E85)    899    7.55\n",
      "4                                        diesel    154    1.29\n",
      "5                                      electric     66    0.55\n",
      "6     flex-fuel (premium unleaded required/E85)     54    0.45\n",
      "7  flex-fuel (premium unleaded recommended/E85)     26    0.22\n",
      "8              flex-fuel (unleaded/natural gas)      6    0.05\n",
      "9                                   natural gas      2    0.02 \n",
      "\n",
      "Los valores únicos de la variable Transmission Type son:\n",
      "  Transmission Type  count  Porc %\n",
      "0         AUTOMATIC   8266   69.38\n",
      "1            MANUAL   2935   24.63\n",
      "2  AUTOMATED_MANUAL    626    5.25\n",
      "3      DIRECT_DRIVE     68    0.57\n",
      "4           UNKNOWN     19    0.16 \n",
      "\n",
      "Los valores únicos de la variable Driven_Wheels son:\n",
      "       Driven_Wheels  count  Porc %\n",
      "0  front wheel drive   4787   40.18\n",
      "1   rear wheel drive   3371   28.29\n",
      "2    all wheel drive   2353   19.75\n",
      "3   four wheel drive   1403   11.78 \n",
      "\n",
      "Los valores únicos de la variable Market Category son:\n",
      "                                    Market Category  count  Porc %\n",
      "0                                         Crossover   1110   13.58\n",
      "1                                         Flex Fuel    872   10.67\n",
      "2                                            Luxury    855   10.46\n",
      "3                                Luxury,Performance    673    8.24\n",
      "4                                         Hatchback    641    7.84\n",
      "..                                              ...    ...     ...\n",
      "66              Crossover,Exotic,Luxury,Performance      1    0.01\n",
      "67            Exotic,Luxury,High-Performance,Hybrid      1    0.01\n",
      "68         Crossover,Exotic,Luxury,High-Performance      1    0.01\n",
      "69  Flex Fuel,Factory Tuner,Luxury,High-Performance      1    0.01\n",
      "70                               Performance,Hybrid      1    0.01\n",
      "\n",
      "[71 rows x 3 columns] \n",
      "\n",
      "Los valores únicos de la variable Vehicle Size son:\n",
      "  Vehicle Size  count  Porc %\n",
      "0      Compact   4764   39.99\n",
      "1      Midsize   4373   36.70\n",
      "2        Large   2777   23.31 \n",
      "\n",
      "Los valores únicos de la variable Vehicle Style son:\n",
      "          Vehicle Style  count  Porc %\n",
      "0                 Sedan   3048   25.58\n",
      "1               4dr SUV   2488   20.88\n",
      "2                 Coupe   1211   10.16\n",
      "3           Convertible    793    6.66\n",
      "4         4dr Hatchback    702    5.89\n",
      "5       Crew Cab Pickup    681    5.72\n",
      "6   Extended Cab Pickup    623    5.23\n",
      "7                 Wagon    592    4.97\n",
      "8         2dr Hatchback    506    4.25\n",
      "9     Passenger Minivan    417    3.50\n",
      "10   Regular Cab Pickup    392    3.29\n",
      "11              2dr SUV    138    1.16\n",
      "12        Passenger Van    128    1.07\n",
      "13            Cargo Van     95    0.80\n",
      "14        Cargo Minivan     71    0.60\n",
      "15      Convertible SUV     29    0.24 \n",
      "\n"
     ]
    }
   ],
   "execution_count": 40
  },
  {
   "metadata": {
    "ExecuteTime": {
     "end_time": "2024-04-13T20:32:02.970951Z",
     "start_time": "2024-04-13T20:32:02.961158Z"
    }
   },
   "cell_type": "code",
   "source": [
    "# Generar una heurística para agrupar Make por precio MRSP con segmentación\n",
    "cars['Make_segment'] = cars['Make']\n",
    "\n",
    "cars.loc[cars['Make'].isin(['Chevrolet', 'Ford', 'Dodge', 'GMC', 'Chrysler', 'Jeep', 'Ram', 'Buick', 'Cadillac', 'Lincoln']), 'Make_segment'] = 'American'\n",
    "cars.loc[cars['Make'].isin(['Toyota', 'Nissan', 'Honda', 'Mazda', 'Mitsubishi', 'Subaru', 'Suzuki', 'Hyundai', 'Kia']), 'Make_segment'] = 'Japanese'\n",
    "cars.loc[cars['Make'].isin(['Mercedes-Benz', 'BMW', 'Audi', 'Volkswagen', 'Volvo', 'Porsche', 'Jaguar', 'Land Rover', 'MINI', 'Maserati', 'Alfa Romeo', 'Genesis', 'Tesla', 'Fiat', 'Bentley', 'Rolls-Royce', 'Lamborghini', 'Lotus', 'McLaren', 'Bugatti']), 'Make_segment'] = 'European'\n",
    "cars.loc[cars['Make'].isin(['Acura', 'Infiniti', 'Lexus', 'Aston Martin', 'Ferrari']), 'Make_segment'] = 'Luxury'\n",
    "cars.loc[cars['Make'].isin(['Pontiac', 'Oldsmobile', 'Saab', 'GMC', 'Chrysler', 'Jeep', 'Plymouth', 'FIAT', 'Scion', 'HUMMER',\n",
    "                            'Maybach', 'Spyker']), 'Make_segment'] = 'Others'"
   ],
   "id": "2765f20a7f6b561a",
   "outputs": [],
   "execution_count": 45
  },
  {
   "metadata": {
    "ExecuteTime": {
     "end_time": "2024-04-13T20:32:03.648734Z",
     "start_time": "2024-04-13T20:32:03.639005Z"
    }
   },
   "cell_type": "code",
   "source": "cars['Make_segment'].value_counts()",
   "id": "3e0864a93fce77c7",
   "outputs": [
    {
     "data": {
      "text/plain": [
       "Make_segment\n",
       "Japanese    3530\n",
       "American    3387\n",
       "European    2662\n",
       "Others      1389\n",
       "Luxury       946\n",
       "Name: count, dtype: int64"
      ]
     },
     "execution_count": 46,
     "metadata": {},
     "output_type": "execute_result"
    }
   ],
   "execution_count": 46
  },
  {
   "metadata": {
    "ExecuteTime": {
     "end_time": "2024-04-13T20:40:21.616175Z",
     "start_time": "2024-04-13T20:40:21.612989Z"
    }
   },
   "cell_type": "code",
   "source": "variables_categoricas = ['Make_segment',  'Engine Fuel Type', 'Transmission Type', 'Driven_Wheels', 'Vehicle Size']",
   "id": "aa1a2f5855b76341",
   "outputs": [],
   "execution_count": 58
  },
  {
   "metadata": {
    "ExecuteTime": {
     "end_time": "2024-04-13T20:40:23.752710Z",
     "start_time": "2024-04-13T20:40:23.728320Z"
    }
   },
   "cell_type": "code",
   "source": [
    "for var in variables_categoricas:\n",
    "    print(f\"Los valores únicos de la variable {var} son:\\n{count_var_categ(cars[var])} \\n\")"
   ],
   "id": "8ca9481a57cbbd3c",
   "outputs": [
    {
     "name": "stdout",
     "output_type": "stream",
     "text": [
      "Los valores únicos de la variable Make_segment son:\n",
      "  Make_segment  count  Porc %\n",
      "0     Japanese   3530   29.63\n",
      "1     American   3387   28.43\n",
      "2     European   2662   22.34\n",
      "3       Others   1389   11.66\n",
      "4       Luxury    946    7.94 \n",
      "\n",
      "Los valores únicos de la variable Engine Fuel Type son:\n",
      "                               Engine Fuel Type  count  Porc %\n",
      "0                              regular unleaded   7172   60.21\n",
      "1                   premium unleaded (required)   2009   16.87\n",
      "2                premium unleaded (recommended)   1523   12.79\n",
      "3                      flex-fuel (unleaded/E85)    899    7.55\n",
      "4                                        diesel    154    1.29\n",
      "5                                      electric     66    0.55\n",
      "6     flex-fuel (premium unleaded required/E85)     54    0.45\n",
      "7  flex-fuel (premium unleaded recommended/E85)     26    0.22\n",
      "8              flex-fuel (unleaded/natural gas)      6    0.05\n",
      "9                                   natural gas      2    0.02 \n",
      "\n",
      "Los valores únicos de la variable Transmission Type son:\n",
      "  Transmission Type  count  Porc %\n",
      "0         AUTOMATIC   8266   69.38\n",
      "1            MANUAL   2935   24.63\n",
      "2  AUTOMATED_MANUAL    626    5.25\n",
      "3      DIRECT_DRIVE     68    0.57\n",
      "4           UNKNOWN     19    0.16 \n",
      "\n",
      "Los valores únicos de la variable Driven_Wheels son:\n",
      "       Driven_Wheels  count  Porc %\n",
      "0  front wheel drive   4787   40.18\n",
      "1   rear wheel drive   3371   28.29\n",
      "2    all wheel drive   2353   19.75\n",
      "3   four wheel drive   1403   11.78 \n",
      "\n",
      "Los valores únicos de la variable Vehicle Size son:\n",
      "  Vehicle Size  count  Porc %\n",
      "0      Compact   4764   39.99\n",
      "1      Midsize   4373   36.70\n",
      "2        Large   2777   23.31 \n",
      "\n"
     ]
    }
   ],
   "execution_count": 59
  },
  {
   "metadata": {
    "ExecuteTime": {
     "end_time": "2024-04-13T20:44:32.950688Z",
     "start_time": "2024-04-13T20:44:32.927281Z"
    }
   },
   "cell_type": "code",
   "source": [
    "for var in variables_categoricas:\n",
    "    tmp = count_var_categ(cars[var])\n",
    "    cars[var] = np.where(cars[var].isin(tmp[f'{var}'].loc[tmp['Porc %'] < 5]), 'Other', cars[var])"
   ],
   "id": "bf8979528421b344",
   "outputs": [],
   "execution_count": 63
  },
  {
   "metadata": {
    "ExecuteTime": {
     "end_time": "2024-04-13T20:44:35.411130Z",
     "start_time": "2024-04-13T20:44:35.390094Z"
    }
   },
   "cell_type": "code",
   "source": [
    "for var in variables_categoricas:\n",
    "    print(f\"Los valores únicos de la variable {var} son:\\n{count_var_categ(cars[var])} \\n\")"
   ],
   "id": "8108df3576d7f7cb",
   "outputs": [
    {
     "name": "stdout",
     "output_type": "stream",
     "text": [
      "Los valores únicos de la variable Make_segment son:\n",
      "  Make_segment  count  Porc %\n",
      "0     Japanese   3530   29.63\n",
      "1     American   3387   28.43\n",
      "2     European   2662   22.34\n",
      "3       Others   1389   11.66\n",
      "4       Luxury    946    7.94 \n",
      "\n",
      "Los valores únicos de la variable Engine Fuel Type son:\n",
      "                 Engine Fuel Type  count  Porc %\n",
      "0                regular unleaded   7172   60.21\n",
      "1     premium unleaded (required)   2009   16.87\n",
      "2  premium unleaded (recommended)   1523   12.79\n",
      "3        flex-fuel (unleaded/E85)    899    7.55\n",
      "4                           Other    308    2.59 \n",
      "\n",
      "Los valores únicos de la variable Transmission Type son:\n",
      "  Transmission Type  count  Porc %\n",
      "0         AUTOMATIC   8266   69.38\n",
      "1            MANUAL   2935   24.63\n",
      "2  AUTOMATED_MANUAL    626    5.25\n",
      "3             Other     87    0.73 \n",
      "\n",
      "Los valores únicos de la variable Driven_Wheels son:\n",
      "       Driven_Wheels  count  Porc %\n",
      "0  front wheel drive   4787   40.18\n",
      "1   rear wheel drive   3371   28.29\n",
      "2    all wheel drive   2353   19.75\n",
      "3   four wheel drive   1403   11.78 \n",
      "\n",
      "Los valores únicos de la variable Vehicle Size son:\n",
      "  Vehicle Size  count  Porc %\n",
      "0      Compact   4764   39.99\n",
      "1      Midsize   4373   36.70\n",
      "2        Large   2777   23.31 \n",
      "\n"
     ]
    }
   ],
   "execution_count": 64
  },
  {
   "metadata": {
    "ExecuteTime": {
     "end_time": "2024-04-13T20:44:57.039346Z",
     "start_time": "2024-04-13T20:44:57.035866Z"
    }
   },
   "cell_type": "code",
   "source": "variables_modelo = list(variables_numericas) + variables_categoricas",
   "id": "b25834cfa36543fd",
   "outputs": [],
   "execution_count": 65
  },
  {
   "metadata": {
    "ExecuteTime": {
     "end_time": "2024-04-13T20:44:58.649776Z",
     "start_time": "2024-04-13T20:44:58.646523Z"
    }
   },
   "cell_type": "code",
   "source": "print(variables_modelo)",
   "id": "ad5e20beaa5fca4b",
   "outputs": [
    {
     "name": "stdout",
     "output_type": "stream",
     "text": [
      "['Year', 'Engine HP', 'Engine Cylinders', 'Number of Doors', 'highway MPG', 'city mpg', 'Popularity', 'MSRP', 'Make_segment', 'Engine Fuel Type', 'Transmission Type', 'Driven_Wheels', 'Vehicle Size']\n"
     ]
    }
   ],
   "execution_count": 66
  },
  {
   "metadata": {
    "ExecuteTime": {
     "end_time": "2024-04-13T20:54:40.014604Z",
     "start_time": "2024-04-13T20:54:40.007190Z"
    }
   },
   "cell_type": "code",
   "source": "datos_modelo = cars[variables_modelo].dropna()",
   "id": "aea011a4fb80d281",
   "outputs": [],
   "execution_count": 67
  },
  {
   "metadata": {
    "ExecuteTime": {
     "end_time": "2024-04-13T20:54:45.131705Z",
     "start_time": "2024-04-13T20:54:45.118963Z"
    }
   },
   "cell_type": "code",
   "source": "datos_modelo.head()",
   "id": "4e0753f0ee224473",
   "outputs": [
    {
     "data": {
      "text/plain": [
       "   Year  Engine HP  Engine Cylinders  Number of Doors  highway MPG  city mpg  \\\n",
       "0  2011      335.0               6.0              2.0           26        19   \n",
       "1  2011      300.0               6.0              2.0           28        19   \n",
       "2  2011      300.0               6.0              2.0           28        20   \n",
       "3  2011      230.0               6.0              2.0           28        18   \n",
       "4  2011      230.0               6.0              2.0           28        18   \n",
       "\n",
       "   Popularity   MSRP Make_segment             Engine Fuel Type  \\\n",
       "0        3916  46135     European  premium unleaded (required)   \n",
       "1        3916  40650     European  premium unleaded (required)   \n",
       "2        3916  36350     European  premium unleaded (required)   \n",
       "3        3916  29450     European  premium unleaded (required)   \n",
       "4        3916  34500     European  premium unleaded (required)   \n",
       "\n",
       "  Transmission Type     Driven_Wheels Vehicle Size  \n",
       "0            MANUAL  rear wheel drive      Compact  \n",
       "1            MANUAL  rear wheel drive      Compact  \n",
       "2            MANUAL  rear wheel drive      Compact  \n",
       "3            MANUAL  rear wheel drive      Compact  \n",
       "4            MANUAL  rear wheel drive      Compact  "
      ],
      "text/html": [
       "<div>\n",
       "<style scoped>\n",
       "    .dataframe tbody tr th:only-of-type {\n",
       "        vertical-align: middle;\n",
       "    }\n",
       "\n",
       "    .dataframe tbody tr th {\n",
       "        vertical-align: top;\n",
       "    }\n",
       "\n",
       "    .dataframe thead th {\n",
       "        text-align: right;\n",
       "    }\n",
       "</style>\n",
       "<table border=\"1\" class=\"dataframe\">\n",
       "  <thead>\n",
       "    <tr style=\"text-align: right;\">\n",
       "      <th></th>\n",
       "      <th>Year</th>\n",
       "      <th>Engine HP</th>\n",
       "      <th>Engine Cylinders</th>\n",
       "      <th>Number of Doors</th>\n",
       "      <th>highway MPG</th>\n",
       "      <th>city mpg</th>\n",
       "      <th>Popularity</th>\n",
       "      <th>MSRP</th>\n",
       "      <th>Make_segment</th>\n",
       "      <th>Engine Fuel Type</th>\n",
       "      <th>Transmission Type</th>\n",
       "      <th>Driven_Wheels</th>\n",
       "      <th>Vehicle Size</th>\n",
       "    </tr>\n",
       "  </thead>\n",
       "  <tbody>\n",
       "    <tr>\n",
       "      <th>0</th>\n",
       "      <td>2011</td>\n",
       "      <td>335.0</td>\n",
       "      <td>6.0</td>\n",
       "      <td>2.0</td>\n",
       "      <td>26</td>\n",
       "      <td>19</td>\n",
       "      <td>3916</td>\n",
       "      <td>46135</td>\n",
       "      <td>European</td>\n",
       "      <td>premium unleaded (required)</td>\n",
       "      <td>MANUAL</td>\n",
       "      <td>rear wheel drive</td>\n",
       "      <td>Compact</td>\n",
       "    </tr>\n",
       "    <tr>\n",
       "      <th>1</th>\n",
       "      <td>2011</td>\n",
       "      <td>300.0</td>\n",
       "      <td>6.0</td>\n",
       "      <td>2.0</td>\n",
       "      <td>28</td>\n",
       "      <td>19</td>\n",
       "      <td>3916</td>\n",
       "      <td>40650</td>\n",
       "      <td>European</td>\n",
       "      <td>premium unleaded (required)</td>\n",
       "      <td>MANUAL</td>\n",
       "      <td>rear wheel drive</td>\n",
       "      <td>Compact</td>\n",
       "    </tr>\n",
       "    <tr>\n",
       "      <th>2</th>\n",
       "      <td>2011</td>\n",
       "      <td>300.0</td>\n",
       "      <td>6.0</td>\n",
       "      <td>2.0</td>\n",
       "      <td>28</td>\n",
       "      <td>20</td>\n",
       "      <td>3916</td>\n",
       "      <td>36350</td>\n",
       "      <td>European</td>\n",
       "      <td>premium unleaded (required)</td>\n",
       "      <td>MANUAL</td>\n",
       "      <td>rear wheel drive</td>\n",
       "      <td>Compact</td>\n",
       "    </tr>\n",
       "    <tr>\n",
       "      <th>3</th>\n",
       "      <td>2011</td>\n",
       "      <td>230.0</td>\n",
       "      <td>6.0</td>\n",
       "      <td>2.0</td>\n",
       "      <td>28</td>\n",
       "      <td>18</td>\n",
       "      <td>3916</td>\n",
       "      <td>29450</td>\n",
       "      <td>European</td>\n",
       "      <td>premium unleaded (required)</td>\n",
       "      <td>MANUAL</td>\n",
       "      <td>rear wheel drive</td>\n",
       "      <td>Compact</td>\n",
       "    </tr>\n",
       "    <tr>\n",
       "      <th>4</th>\n",
       "      <td>2011</td>\n",
       "      <td>230.0</td>\n",
       "      <td>6.0</td>\n",
       "      <td>2.0</td>\n",
       "      <td>28</td>\n",
       "      <td>18</td>\n",
       "      <td>3916</td>\n",
       "      <td>34500</td>\n",
       "      <td>European</td>\n",
       "      <td>premium unleaded (required)</td>\n",
       "      <td>MANUAL</td>\n",
       "      <td>rear wheel drive</td>\n",
       "      <td>Compact</td>\n",
       "    </tr>\n",
       "  </tbody>\n",
       "</table>\n",
       "</div>"
      ]
     },
     "execution_count": 68,
     "metadata": {},
     "output_type": "execute_result"
    }
   ],
   "execution_count": 68
  },
  {
   "metadata": {
    "ExecuteTime": {
     "end_time": "2024-04-13T20:58:16.534998Z",
     "start_time": "2024-04-13T20:58:16.519330Z"
    }
   },
   "cell_type": "code",
   "source": "datos_dummy_modelo = pd.get_dummies(datos_modelo, drop_first=True, dtype='int')",
   "id": "631068a08ef9a1c3",
   "outputs": [],
   "execution_count": 71
  },
  {
   "metadata": {
    "ExecuteTime": {
     "end_time": "2024-04-13T20:58:17.664868Z",
     "start_time": "2024-04-13T20:58:17.644616Z"
    }
   },
   "cell_type": "code",
   "source": "datos_dummy_modelo.head()",
   "id": "8ba38c1fbc4446cc",
   "outputs": [
    {
     "data": {
      "text/plain": [
       "   Year  Engine HP  Engine Cylinders  Number of Doors  highway MPG  city mpg  \\\n",
       "0  2011      335.0               6.0              2.0           26        19   \n",
       "1  2011      300.0               6.0              2.0           28        19   \n",
       "2  2011      300.0               6.0              2.0           28        20   \n",
       "3  2011      230.0               6.0              2.0           28        18   \n",
       "4  2011      230.0               6.0              2.0           28        18   \n",
       "\n",
       "   Popularity   MSRP  Make_segment_European  Make_segment_Japanese  ...  \\\n",
       "0        3916  46135                      1                      0  ...   \n",
       "1        3916  40650                      1                      0  ...   \n",
       "2        3916  36350                      1                      0  ...   \n",
       "3        3916  29450                      1                      0  ...   \n",
       "4        3916  34500                      1                      0  ...   \n",
       "\n",
       "   Engine Fuel Type_premium unleaded (required)  \\\n",
       "0                                             1   \n",
       "1                                             1   \n",
       "2                                             1   \n",
       "3                                             1   \n",
       "4                                             1   \n",
       "\n",
       "   Engine Fuel Type_regular unleaded  Transmission Type_AUTOMATIC  \\\n",
       "0                                  0                            0   \n",
       "1                                  0                            0   \n",
       "2                                  0                            0   \n",
       "3                                  0                            0   \n",
       "4                                  0                            0   \n",
       "\n",
       "   Transmission Type_MANUAL  Transmission Type_Other  \\\n",
       "0                         1                        0   \n",
       "1                         1                        0   \n",
       "2                         1                        0   \n",
       "3                         1                        0   \n",
       "4                         1                        0   \n",
       "\n",
       "   Driven_Wheels_four wheel drive  Driven_Wheels_front wheel drive  \\\n",
       "0                               0                                0   \n",
       "1                               0                                0   \n",
       "2                               0                                0   \n",
       "3                               0                                0   \n",
       "4                               0                                0   \n",
       "\n",
       "   Driven_Wheels_rear wheel drive  Vehicle Size_Large  Vehicle Size_Midsize  \n",
       "0                               1                   0                     0  \n",
       "1                               1                   0                     0  \n",
       "2                               1                   0                     0  \n",
       "3                               1                   0                     0  \n",
       "4                               1                   0                     0  \n",
       "\n",
       "[5 rows x 24 columns]"
      ],
      "text/html": [
       "<div>\n",
       "<style scoped>\n",
       "    .dataframe tbody tr th:only-of-type {\n",
       "        vertical-align: middle;\n",
       "    }\n",
       "\n",
       "    .dataframe tbody tr th {\n",
       "        vertical-align: top;\n",
       "    }\n",
       "\n",
       "    .dataframe thead th {\n",
       "        text-align: right;\n",
       "    }\n",
       "</style>\n",
       "<table border=\"1\" class=\"dataframe\">\n",
       "  <thead>\n",
       "    <tr style=\"text-align: right;\">\n",
       "      <th></th>\n",
       "      <th>Year</th>\n",
       "      <th>Engine HP</th>\n",
       "      <th>Engine Cylinders</th>\n",
       "      <th>Number of Doors</th>\n",
       "      <th>highway MPG</th>\n",
       "      <th>city mpg</th>\n",
       "      <th>Popularity</th>\n",
       "      <th>MSRP</th>\n",
       "      <th>Make_segment_European</th>\n",
       "      <th>Make_segment_Japanese</th>\n",
       "      <th>...</th>\n",
       "      <th>Engine Fuel Type_premium unleaded (required)</th>\n",
       "      <th>Engine Fuel Type_regular unleaded</th>\n",
       "      <th>Transmission Type_AUTOMATIC</th>\n",
       "      <th>Transmission Type_MANUAL</th>\n",
       "      <th>Transmission Type_Other</th>\n",
       "      <th>Driven_Wheels_four wheel drive</th>\n",
       "      <th>Driven_Wheels_front wheel drive</th>\n",
       "      <th>Driven_Wheels_rear wheel drive</th>\n",
       "      <th>Vehicle Size_Large</th>\n",
       "      <th>Vehicle Size_Midsize</th>\n",
       "    </tr>\n",
       "  </thead>\n",
       "  <tbody>\n",
       "    <tr>\n",
       "      <th>0</th>\n",
       "      <td>2011</td>\n",
       "      <td>335.0</td>\n",
       "      <td>6.0</td>\n",
       "      <td>2.0</td>\n",
       "      <td>26</td>\n",
       "      <td>19</td>\n",
       "      <td>3916</td>\n",
       "      <td>46135</td>\n",
       "      <td>1</td>\n",
       "      <td>0</td>\n",
       "      <td>...</td>\n",
       "      <td>1</td>\n",
       "      <td>0</td>\n",
       "      <td>0</td>\n",
       "      <td>1</td>\n",
       "      <td>0</td>\n",
       "      <td>0</td>\n",
       "      <td>0</td>\n",
       "      <td>1</td>\n",
       "      <td>0</td>\n",
       "      <td>0</td>\n",
       "    </tr>\n",
       "    <tr>\n",
       "      <th>1</th>\n",
       "      <td>2011</td>\n",
       "      <td>300.0</td>\n",
       "      <td>6.0</td>\n",
       "      <td>2.0</td>\n",
       "      <td>28</td>\n",
       "      <td>19</td>\n",
       "      <td>3916</td>\n",
       "      <td>40650</td>\n",
       "      <td>1</td>\n",
       "      <td>0</td>\n",
       "      <td>...</td>\n",
       "      <td>1</td>\n",
       "      <td>0</td>\n",
       "      <td>0</td>\n",
       "      <td>1</td>\n",
       "      <td>0</td>\n",
       "      <td>0</td>\n",
       "      <td>0</td>\n",
       "      <td>1</td>\n",
       "      <td>0</td>\n",
       "      <td>0</td>\n",
       "    </tr>\n",
       "    <tr>\n",
       "      <th>2</th>\n",
       "      <td>2011</td>\n",
       "      <td>300.0</td>\n",
       "      <td>6.0</td>\n",
       "      <td>2.0</td>\n",
       "      <td>28</td>\n",
       "      <td>20</td>\n",
       "      <td>3916</td>\n",
       "      <td>36350</td>\n",
       "      <td>1</td>\n",
       "      <td>0</td>\n",
       "      <td>...</td>\n",
       "      <td>1</td>\n",
       "      <td>0</td>\n",
       "      <td>0</td>\n",
       "      <td>1</td>\n",
       "      <td>0</td>\n",
       "      <td>0</td>\n",
       "      <td>0</td>\n",
       "      <td>1</td>\n",
       "      <td>0</td>\n",
       "      <td>0</td>\n",
       "    </tr>\n",
       "    <tr>\n",
       "      <th>3</th>\n",
       "      <td>2011</td>\n",
       "      <td>230.0</td>\n",
       "      <td>6.0</td>\n",
       "      <td>2.0</td>\n",
       "      <td>28</td>\n",
       "      <td>18</td>\n",
       "      <td>3916</td>\n",
       "      <td>29450</td>\n",
       "      <td>1</td>\n",
       "      <td>0</td>\n",
       "      <td>...</td>\n",
       "      <td>1</td>\n",
       "      <td>0</td>\n",
       "      <td>0</td>\n",
       "      <td>1</td>\n",
       "      <td>0</td>\n",
       "      <td>0</td>\n",
       "      <td>0</td>\n",
       "      <td>1</td>\n",
       "      <td>0</td>\n",
       "      <td>0</td>\n",
       "    </tr>\n",
       "    <tr>\n",
       "      <th>4</th>\n",
       "      <td>2011</td>\n",
       "      <td>230.0</td>\n",
       "      <td>6.0</td>\n",
       "      <td>2.0</td>\n",
       "      <td>28</td>\n",
       "      <td>18</td>\n",
       "      <td>3916</td>\n",
       "      <td>34500</td>\n",
       "      <td>1</td>\n",
       "      <td>0</td>\n",
       "      <td>...</td>\n",
       "      <td>1</td>\n",
       "      <td>0</td>\n",
       "      <td>0</td>\n",
       "      <td>1</td>\n",
       "      <td>0</td>\n",
       "      <td>0</td>\n",
       "      <td>0</td>\n",
       "      <td>1</td>\n",
       "      <td>0</td>\n",
       "      <td>0</td>\n",
       "    </tr>\n",
       "  </tbody>\n",
       "</table>\n",
       "<p>5 rows × 24 columns</p>\n",
       "</div>"
      ]
     },
     "execution_count": 72,
     "metadata": {},
     "output_type": "execute_result"
    }
   ],
   "execution_count": 72
  },
  {
   "metadata": {
    "ExecuteTime": {
     "end_time": "2024-04-13T20:59:00.631431Z",
     "start_time": "2024-04-13T20:59:00.626195Z"
    }
   },
   "cell_type": "code",
   "source": [
    "Y = datos_dummy_modelo['MSRP']\n",
    "X = datos_dummy_modelo.drop(columns='MSRP')"
   ],
   "id": "5184a2271939829",
   "outputs": [],
   "execution_count": 73
  },
  {
   "metadata": {
    "ExecuteTime": {
     "end_time": "2024-04-13T21:00:08.019287Z",
     "start_time": "2024-04-13T21:00:08.016195Z"
    }
   },
   "cell_type": "code",
   "source": "print(X.shape)",
   "id": "266bd7e6361289a3",
   "outputs": [
    {
     "name": "stdout",
     "output_type": "stream",
     "text": [
      "(11812, 23)\n"
     ]
    }
   ],
   "execution_count": 76
  },
  {
   "metadata": {
    "ExecuteTime": {
     "end_time": "2024-04-13T20:59:16.476227Z",
     "start_time": "2024-04-13T20:59:16.473640Z"
    }
   },
   "cell_type": "code",
   "source": [
    " # hacemos split de los datos\n",
    "from sklearn.model_selection import train_test_split"
   ],
   "id": "5fb507ae530497b3",
   "outputs": [],
   "execution_count": 74
  },
  {
   "metadata": {
    "ExecuteTime": {
     "end_time": "2024-04-13T21:00:31.730401Z",
     "start_time": "2024-04-13T21:00:31.723493Z"
    }
   },
   "cell_type": "code",
   "source": "X_train, X_test, y_train, y_test = train_test_split(X, Y, test_size=0.25, random_state=42)",
   "id": "e7181738a94c3e15",
   "outputs": [],
   "execution_count": 77
  },
  {
   "metadata": {},
   "cell_type": "markdown",
   "source": "### Entremaniento del modelo",
   "id": "f47a0e0350530a38"
  },
  {
   "metadata": {
    "ExecuteTime": {
     "end_time": "2024-04-13T21:02:42.752687Z",
     "start_time": "2024-04-13T21:02:42.730259Z"
    }
   },
   "cell_type": "code",
   "source": [
    "X_train = sm.add_constant(X_train)\n",
    "model = sm.OLS(y_train, X_train).fit()"
   ],
   "id": "3b933fdcad6cacee",
   "outputs": [],
   "execution_count": 81
  },
  {
   "metadata": {
    "ExecuteTime": {
     "end_time": "2024-04-13T21:02:44.351412Z",
     "start_time": "2024-04-13T21:02:44.232585Z"
    }
   },
   "cell_type": "code",
   "source": "model.summary()",
   "id": "b2a57cb1161143c",
   "outputs": [
    {
     "data": {
      "text/plain": [
       "<class 'statsmodels.iolib.summary.Summary'>\n",
       "\"\"\"\n",
       "                            OLS Regression Results                            \n",
       "==============================================================================\n",
       "Dep. Variable:                   MSRP   R-squared:                       0.504\n",
       "Model:                            OLS   Adj. R-squared:                  0.503\n",
       "Method:                 Least Squares   F-statistic:                     391.0\n",
       "Date:                Sat, 13 Apr 2024   Prob (F-statistic):               0.00\n",
       "Time:                        16:02:44   Log-Likelihood:            -1.0752e+05\n",
       "No. Observations:                8859   AIC:                         2.151e+05\n",
       "Df Residuals:                    8835   BIC:                         2.153e+05\n",
       "Df Model:                          23                                         \n",
       "Covariance Type:            nonrobust                                         \n",
       "===================================================================================================================\n",
       "                                                      coef    std err          t      P>|t|      [0.025      0.975]\n",
       "-------------------------------------------------------------------------------------------------------------------\n",
       "const                                           -3.043e+05   1.99e+05     -1.529      0.126   -6.94e+05    8.59e+04\n",
       "Year                                              113.4182     99.810      1.136      0.256     -82.232     309.068\n",
       "Engine HP                                         284.5111     10.847     26.229      0.000     263.248     305.774\n",
       "Engine Cylinders                                 1.216e+04    625.198     19.450      0.000    1.09e+04    1.34e+04\n",
       "Number of Doors                                 -1159.6469    673.955     -1.721      0.085   -2480.756     161.462\n",
       "highway MPG                                       -34.1890    122.316     -0.280      0.780    -273.958     205.580\n",
       "city mpg                                         1221.9431    150.957      8.095      0.000     926.032    1517.854\n",
       "Popularity                                         -2.0597      0.386     -5.336      0.000      -2.816      -1.303\n",
       "Make_segment_European                            9481.7432   1719.701      5.514      0.000    6110.730    1.29e+04\n",
       "Make_segment_Japanese                            2450.5363   1446.809      1.694      0.090    -385.546    5286.619\n",
       "Make_segment_Luxury                              -648.9497   2357.406     -0.275      0.783   -5270.014    3972.114\n",
       "Make_segment_Others                              4768.1835   1859.754      2.564      0.010    1122.633    8413.734\n",
       "Engine Fuel Type_flex-fuel (unleaded/E85)       -1.216e+04   4076.206     -2.983      0.003   -2.01e+04   -4167.107\n",
       "Engine Fuel Type_premium unleaded (recommended) -1.136e+04   3715.721     -3.057      0.002   -1.86e+04   -4074.530\n",
       "Engine Fuel Type_premium unleaded (required)     7764.4533   3676.912      2.112      0.035     556.851     1.5e+04\n",
       "Engine Fuel Type_regular unleaded               -5838.9848   3618.559     -1.614      0.107   -1.29e+04    1254.232\n",
       "Transmission Type_AUTOMATIC                     -2.169e+04   2416.792     -8.975      0.000   -2.64e+04    -1.7e+04\n",
       "Transmission Type_MANUAL                        -2.478e+04   2499.779     -9.912      0.000   -2.97e+04   -1.99e+04\n",
       "Transmission Type_Other                         -4.488e+04   1.02e+04     -4.402      0.000   -6.49e+04   -2.49e+04\n",
       "Driven_Wheels_four wheel drive                  -1.544e+04   1985.238     -7.779      0.000   -1.93e+04   -1.16e+04\n",
       "Driven_Wheels_front wheel drive                  3187.4006   1521.505      2.095      0.036     204.898    6169.904\n",
       "Driven_Wheels_rear wheel drive                  -1.179e+04   1571.585     -7.499      0.000   -1.49e+04   -8705.238\n",
       "Vehicle Size_Large                              -2.211e+04   1684.087    -13.131      0.000   -2.54e+04   -1.88e+04\n",
       "Vehicle Size_Midsize                            -1.701e+04   1288.976    -13.196      0.000   -1.95e+04   -1.45e+04\n",
       "==============================================================================\n",
       "Omnibus:                    17950.804   Durbin-Watson:                   1.971\n",
       "Prob(Omnibus):                  0.000   Jarque-Bera (JB):         82503731.640\n",
       "Skew:                          16.578   Prob(JB):                         0.00\n",
       "Kurtosis:                     474.606   Cond. No.                     1.14e+06\n",
       "==============================================================================\n",
       "\n",
       "Notes:\n",
       "[1] Standard Errors assume that the covariance matrix of the errors is correctly specified.\n",
       "[2] The condition number is large, 1.14e+06. This might indicate that there are\n",
       "strong multicollinearity or other numerical problems.\n",
       "\"\"\""
      ],
      "text/html": [
       "<table class=\"simpletable\">\n",
       "<caption>OLS Regression Results</caption>\n",
       "<tr>\n",
       "  <th>Dep. Variable:</th>          <td>MSRP</td>       <th>  R-squared:         </th>  <td>   0.504</td>  \n",
       "</tr>\n",
       "<tr>\n",
       "  <th>Model:</th>                   <td>OLS</td>       <th>  Adj. R-squared:    </th>  <td>   0.503</td>  \n",
       "</tr>\n",
       "<tr>\n",
       "  <th>Method:</th>             <td>Least Squares</td>  <th>  F-statistic:       </th>  <td>   391.0</td>  \n",
       "</tr>\n",
       "<tr>\n",
       "  <th>Date:</th>             <td>Sat, 13 Apr 2024</td> <th>  Prob (F-statistic):</th>   <td>  0.00</td>   \n",
       "</tr>\n",
       "<tr>\n",
       "  <th>Time:</th>                 <td>16:02:44</td>     <th>  Log-Likelihood:    </th> <td>-1.0752e+05</td>\n",
       "</tr>\n",
       "<tr>\n",
       "  <th>No. Observations:</th>      <td>  8859</td>      <th>  AIC:               </th>  <td>2.151e+05</td> \n",
       "</tr>\n",
       "<tr>\n",
       "  <th>Df Residuals:</th>          <td>  8835</td>      <th>  BIC:               </th>  <td>2.153e+05</td> \n",
       "</tr>\n",
       "<tr>\n",
       "  <th>Df Model:</th>              <td>    23</td>      <th>                     </th>      <td> </td>     \n",
       "</tr>\n",
       "<tr>\n",
       "  <th>Covariance Type:</th>      <td>nonrobust</td>    <th>                     </th>      <td> </td>     \n",
       "</tr>\n",
       "</table>\n",
       "<table class=\"simpletable\">\n",
       "<tr>\n",
       "                         <td></td>                            <th>coef</th>     <th>std err</th>      <th>t</th>      <th>P>|t|</th>  <th>[0.025</th>    <th>0.975]</th>  \n",
       "</tr>\n",
       "<tr>\n",
       "  <th>const</th>                                           <td>-3.043e+05</td> <td> 1.99e+05</td> <td>   -1.529</td> <td> 0.126</td> <td>-6.94e+05</td> <td> 8.59e+04</td>\n",
       "</tr>\n",
       "<tr>\n",
       "  <th>Year</th>                                            <td>  113.4182</td> <td>   99.810</td> <td>    1.136</td> <td> 0.256</td> <td>  -82.232</td> <td>  309.068</td>\n",
       "</tr>\n",
       "<tr>\n",
       "  <th>Engine HP</th>                                       <td>  284.5111</td> <td>   10.847</td> <td>   26.229</td> <td> 0.000</td> <td>  263.248</td> <td>  305.774</td>\n",
       "</tr>\n",
       "<tr>\n",
       "  <th>Engine Cylinders</th>                                <td> 1.216e+04</td> <td>  625.198</td> <td>   19.450</td> <td> 0.000</td> <td> 1.09e+04</td> <td> 1.34e+04</td>\n",
       "</tr>\n",
       "<tr>\n",
       "  <th>Number of Doors</th>                                 <td>-1159.6469</td> <td>  673.955</td> <td>   -1.721</td> <td> 0.085</td> <td>-2480.756</td> <td>  161.462</td>\n",
       "</tr>\n",
       "<tr>\n",
       "  <th>highway MPG</th>                                     <td>  -34.1890</td> <td>  122.316</td> <td>   -0.280</td> <td> 0.780</td> <td> -273.958</td> <td>  205.580</td>\n",
       "</tr>\n",
       "<tr>\n",
       "  <th>city mpg</th>                                        <td> 1221.9431</td> <td>  150.957</td> <td>    8.095</td> <td> 0.000</td> <td>  926.032</td> <td> 1517.854</td>\n",
       "</tr>\n",
       "<tr>\n",
       "  <th>Popularity</th>                                      <td>   -2.0597</td> <td>    0.386</td> <td>   -5.336</td> <td> 0.000</td> <td>   -2.816</td> <td>   -1.303</td>\n",
       "</tr>\n",
       "<tr>\n",
       "  <th>Make_segment_European</th>                           <td> 9481.7432</td> <td> 1719.701</td> <td>    5.514</td> <td> 0.000</td> <td> 6110.730</td> <td> 1.29e+04</td>\n",
       "</tr>\n",
       "<tr>\n",
       "  <th>Make_segment_Japanese</th>                           <td> 2450.5363</td> <td> 1446.809</td> <td>    1.694</td> <td> 0.090</td> <td> -385.546</td> <td> 5286.619</td>\n",
       "</tr>\n",
       "<tr>\n",
       "  <th>Make_segment_Luxury</th>                             <td> -648.9497</td> <td> 2357.406</td> <td>   -0.275</td> <td> 0.783</td> <td>-5270.014</td> <td> 3972.114</td>\n",
       "</tr>\n",
       "<tr>\n",
       "  <th>Make_segment_Others</th>                             <td> 4768.1835</td> <td> 1859.754</td> <td>    2.564</td> <td> 0.010</td> <td> 1122.633</td> <td> 8413.734</td>\n",
       "</tr>\n",
       "<tr>\n",
       "  <th>Engine Fuel Type_flex-fuel (unleaded/E85)</th>       <td>-1.216e+04</td> <td> 4076.206</td> <td>   -2.983</td> <td> 0.003</td> <td>-2.01e+04</td> <td>-4167.107</td>\n",
       "</tr>\n",
       "<tr>\n",
       "  <th>Engine Fuel Type_premium unleaded (recommended)</th> <td>-1.136e+04</td> <td> 3715.721</td> <td>   -3.057</td> <td> 0.002</td> <td>-1.86e+04</td> <td>-4074.530</td>\n",
       "</tr>\n",
       "<tr>\n",
       "  <th>Engine Fuel Type_premium unleaded (required)</th>    <td> 7764.4533</td> <td> 3676.912</td> <td>    2.112</td> <td> 0.035</td> <td>  556.851</td> <td>  1.5e+04</td>\n",
       "</tr>\n",
       "<tr>\n",
       "  <th>Engine Fuel Type_regular unleaded</th>               <td>-5838.9848</td> <td> 3618.559</td> <td>   -1.614</td> <td> 0.107</td> <td>-1.29e+04</td> <td> 1254.232</td>\n",
       "</tr>\n",
       "<tr>\n",
       "  <th>Transmission Type_AUTOMATIC</th>                     <td>-2.169e+04</td> <td> 2416.792</td> <td>   -8.975</td> <td> 0.000</td> <td>-2.64e+04</td> <td> -1.7e+04</td>\n",
       "</tr>\n",
       "<tr>\n",
       "  <th>Transmission Type_MANUAL</th>                        <td>-2.478e+04</td> <td> 2499.779</td> <td>   -9.912</td> <td> 0.000</td> <td>-2.97e+04</td> <td>-1.99e+04</td>\n",
       "</tr>\n",
       "<tr>\n",
       "  <th>Transmission Type_Other</th>                         <td>-4.488e+04</td> <td> 1.02e+04</td> <td>   -4.402</td> <td> 0.000</td> <td>-6.49e+04</td> <td>-2.49e+04</td>\n",
       "</tr>\n",
       "<tr>\n",
       "  <th>Driven_Wheels_four wheel drive</th>                  <td>-1.544e+04</td> <td> 1985.238</td> <td>   -7.779</td> <td> 0.000</td> <td>-1.93e+04</td> <td>-1.16e+04</td>\n",
       "</tr>\n",
       "<tr>\n",
       "  <th>Driven_Wheels_front wheel drive</th>                 <td> 3187.4006</td> <td> 1521.505</td> <td>    2.095</td> <td> 0.036</td> <td>  204.898</td> <td> 6169.904</td>\n",
       "</tr>\n",
       "<tr>\n",
       "  <th>Driven_Wheels_rear wheel drive</th>                  <td>-1.179e+04</td> <td> 1571.585</td> <td>   -7.499</td> <td> 0.000</td> <td>-1.49e+04</td> <td>-8705.238</td>\n",
       "</tr>\n",
       "<tr>\n",
       "  <th>Vehicle Size_Large</th>                              <td>-2.211e+04</td> <td> 1684.087</td> <td>  -13.131</td> <td> 0.000</td> <td>-2.54e+04</td> <td>-1.88e+04</td>\n",
       "</tr>\n",
       "<tr>\n",
       "  <th>Vehicle Size_Midsize</th>                            <td>-1.701e+04</td> <td> 1288.976</td> <td>  -13.196</td> <td> 0.000</td> <td>-1.95e+04</td> <td>-1.45e+04</td>\n",
       "</tr>\n",
       "</table>\n",
       "<table class=\"simpletable\">\n",
       "<tr>\n",
       "  <th>Omnibus:</th>       <td>17950.804</td> <th>  Durbin-Watson:     </th>   <td>   1.971</td>  \n",
       "</tr>\n",
       "<tr>\n",
       "  <th>Prob(Omnibus):</th>  <td> 0.000</td>   <th>  Jarque-Bera (JB):  </th> <td>82503731.640</td>\n",
       "</tr>\n",
       "<tr>\n",
       "  <th>Skew:</th>           <td>16.578</td>   <th>  Prob(JB):          </th>   <td>    0.00</td>  \n",
       "</tr>\n",
       "<tr>\n",
       "  <th>Kurtosis:</th>       <td>474.606</td>  <th>  Cond. No.          </th>   <td>1.14e+06</td>  \n",
       "</tr>\n",
       "</table><br/><br/>Notes:<br/>[1] Standard Errors assume that the covariance matrix of the errors is correctly specified.<br/>[2] The condition number is large, 1.14e+06. This might indicate that there are<br/>strong multicollinearity or other numerical problems."
      ],
      "text/latex": "\\begin{center}\n\\begin{tabular}{lclc}\n\\toprule\n\\textbf{Dep. Variable:}                                   &       MSRP       & \\textbf{  R-squared:         } &      0.504    \\\\\n\\textbf{Model:}                                           &       OLS        & \\textbf{  Adj. R-squared:    } &      0.503    \\\\\n\\textbf{Method:}                                          &  Least Squares   & \\textbf{  F-statistic:       } &      391.0    \\\\\n\\textbf{Date:}                                            & Sat, 13 Apr 2024 & \\textbf{  Prob (F-statistic):} &      0.00     \\\\\n\\textbf{Time:}                                            &     16:02:44     & \\textbf{  Log-Likelihood:    } & -1.0752e+05   \\\\\n\\textbf{No. Observations:}                                &        8859      & \\textbf{  AIC:               } &  2.151e+05    \\\\\n\\textbf{Df Residuals:}                                    &        8835      & \\textbf{  BIC:               } &  2.153e+05    \\\\\n\\textbf{Df Model:}                                        &          23      & \\textbf{                     } &               \\\\\n\\textbf{Covariance Type:}                                 &    nonrobust     & \\textbf{                     } &               \\\\\n\\bottomrule\n\\end{tabular}\n\\begin{tabular}{lcccccc}\n                                                          & \\textbf{coef} & \\textbf{std err} & \\textbf{t} & \\textbf{P$> |$t$|$} & \\textbf{[0.025} & \\textbf{0.975]}  \\\\\n\\midrule\n\\textbf{const}                                            &   -3.043e+05  &     1.99e+05     &    -1.529  &         0.126        &    -6.94e+05    &     8.59e+04     \\\\\n\\textbf{Year}                                             &     113.4182  &       99.810     &     1.136  &         0.256        &      -82.232    &      309.068     \\\\\n\\textbf{Engine HP}                                        &     284.5111  &       10.847     &    26.229  &         0.000        &      263.248    &      305.774     \\\\\n\\textbf{Engine Cylinders}                                 &    1.216e+04  &      625.198     &    19.450  &         0.000        &     1.09e+04    &     1.34e+04     \\\\\n\\textbf{Number of Doors}                                  &   -1159.6469  &      673.955     &    -1.721  &         0.085        &    -2480.756    &      161.462     \\\\\n\\textbf{highway MPG}                                      &     -34.1890  &      122.316     &    -0.280  &         0.780        &     -273.958    &      205.580     \\\\\n\\textbf{city mpg}                                         &    1221.9431  &      150.957     &     8.095  &         0.000        &      926.032    &     1517.854     \\\\\n\\textbf{Popularity}                                       &      -2.0597  &        0.386     &    -5.336  &         0.000        &       -2.816    &       -1.303     \\\\\n\\textbf{Make\\_segment\\_European}                          &    9481.7432  &     1719.701     &     5.514  &         0.000        &     6110.730    &     1.29e+04     \\\\\n\\textbf{Make\\_segment\\_Japanese}                          &    2450.5363  &     1446.809     &     1.694  &         0.090        &     -385.546    &     5286.619     \\\\\n\\textbf{Make\\_segment\\_Luxury}                            &    -648.9497  &     2357.406     &    -0.275  &         0.783        &    -5270.014    &     3972.114     \\\\\n\\textbf{Make\\_segment\\_Others}                            &    4768.1835  &     1859.754     &     2.564  &         0.010        &     1122.633    &     8413.734     \\\\\n\\textbf{Engine Fuel Type\\_flex-fuel (unleaded/E85)}       &   -1.216e+04  &     4076.206     &    -2.983  &         0.003        &    -2.01e+04    &    -4167.107     \\\\\n\\textbf{Engine Fuel Type\\_premium unleaded (recommended)} &   -1.136e+04  &     3715.721     &    -3.057  &         0.002        &    -1.86e+04    &    -4074.530     \\\\\n\\textbf{Engine Fuel Type\\_premium unleaded (required)}    &    7764.4533  &     3676.912     &     2.112  &         0.035        &      556.851    &      1.5e+04     \\\\\n\\textbf{Engine Fuel Type\\_regular unleaded}               &   -5838.9848  &     3618.559     &    -1.614  &         0.107        &    -1.29e+04    &     1254.232     \\\\\n\\textbf{Transmission Type\\_AUTOMATIC}                     &   -2.169e+04  &     2416.792     &    -8.975  &         0.000        &    -2.64e+04    &     -1.7e+04     \\\\\n\\textbf{Transmission Type\\_MANUAL}                        &   -2.478e+04  &     2499.779     &    -9.912  &         0.000        &    -2.97e+04    &    -1.99e+04     \\\\\n\\textbf{Transmission Type\\_Other}                         &   -4.488e+04  &     1.02e+04     &    -4.402  &         0.000        &    -6.49e+04    &    -2.49e+04     \\\\\n\\textbf{Driven\\_Wheels\\_four wheel drive}                 &   -1.544e+04  &     1985.238     &    -7.779  &         0.000        &    -1.93e+04    &    -1.16e+04     \\\\\n\\textbf{Driven\\_Wheels\\_front wheel drive}                &    3187.4006  &     1521.505     &     2.095  &         0.036        &      204.898    &     6169.904     \\\\\n\\textbf{Driven\\_Wheels\\_rear wheel drive}                 &   -1.179e+04  &     1571.585     &    -7.499  &         0.000        &    -1.49e+04    &    -8705.238     \\\\\n\\textbf{Vehicle Size\\_Large}                              &   -2.211e+04  &     1684.087     &   -13.131  &         0.000        &    -2.54e+04    &    -1.88e+04     \\\\\n\\textbf{Vehicle Size\\_Midsize}                            &   -1.701e+04  &     1288.976     &   -13.196  &         0.000        &    -1.95e+04    &    -1.45e+04     \\\\\n\\bottomrule\n\\end{tabular}\n\\begin{tabular}{lclc}\n\\textbf{Omnibus:}       & 17950.804 & \\textbf{  Durbin-Watson:     } &      1.971    \\\\\n\\textbf{Prob(Omnibus):} &    0.000  & \\textbf{  Jarque-Bera (JB):  } & 82503731.640  \\\\\n\\textbf{Skew:}          &   16.578  & \\textbf{  Prob(JB):          } &       0.00    \\\\\n\\textbf{Kurtosis:}      &  474.606  & \\textbf{  Cond. No.          } &   1.14e+06    \\\\\n\\bottomrule\n\\end{tabular}\n%\\caption{OLS Regression Results}\n\\end{center}\n\nNotes: \\newline\n [1] Standard Errors assume that the covariance matrix of the errors is correctly specified. \\newline\n [2] The condition number is large, 1.14e+06. This might indicate that there are \\newline\n strong multicollinearity or other numerical problems."
     },
     "execution_count": 82,
     "metadata": {},
     "output_type": "execute_result"
    }
   ],
   "execution_count": 82
  },
  {
   "metadata": {},
   "cell_type": "markdown",
   "source": "### Stepwise para selección de variables",
   "id": "b199b97c3feefae7"
  },
  {
   "metadata": {
    "ExecuteTime": {
     "end_time": "2024-04-13T21:05:26.013587Z",
     "start_time": "2024-04-13T21:05:26.008067Z"
    }
   },
   "cell_type": "code",
   "source": [
    "def stepwise_selection(X, y, \n",
    "                       initial_list=[], \n",
    "                       threshold_in=0.01, \n",
    "                       threshold_out = 0.05, \n",
    "                       verbose=True):\n",
    "    included = list(initial_list)\n",
    "    while True:\n",
    "        changed=False\n",
    "        # forward step\n",
    "        excluded = list(set(X.columns)-set(included))\n",
    "        new_pval = pd.Series(index=excluded)\n",
    "        for new_column in excluded:\n",
    "            model = sm.OLS(y, sm.add_constant(pd.DataFrame(X[included+[new_column]]))).fit()\n",
    "            new_pval[new_column] = model.pvalues[new_column]\n",
    "        best_pval = new_pval.min()\n",
    "        if best_pval < threshold_in:\n",
    "            best_feature = new_pval.idxmin()\n",
    "            included.append(best_feature)\n",
    "            changed=True\n",
    "            if verbose:\n",
    "                print('Add  {:30} with p-value {:.6}'.format(best_feature, best_pval))\n",
    "\n",
    "        # backward step\n",
    "        model = sm.OLS(y, sm.add_constant(pd.DataFrame(X[included]))).fit()\n",
    "        # use all coefs except intercept\n",
    "        pvalues = model.pvalues.iloc[1:]\n",
    "        worst_pval = pvalues.max() # null if pvalues is empty\n",
    "        if worst_pval > threshold_out:\n",
    "            changed=True\n",
    "            worst_feature = pvalues.idxmax()\n",
    "            included.remove(worst_feature)\n",
    "            if verbose:\n",
    "                print('Drop {:30} with p-value {:.6}'.format(worst_feature, worst_pval))\n",
    "        if not changed:\n",
    "            break\n",
    "    return included"
   ],
   "id": "4f6a7439dcda26e4",
   "outputs": [],
   "execution_count": 83
  },
  {
   "metadata": {
    "ExecuteTime": {
     "end_time": "2024-04-13T21:05:33.167330Z",
     "start_time": "2024-04-13T21:05:28.635403Z"
    }
   },
   "cell_type": "code",
   "source": "result = stepwise_selection(X_train, y_train)",
   "id": "f079f3b36e5f49f6",
   "outputs": [
    {
     "name": "stdout",
     "output_type": "stream",
     "text": [
      "Add  Engine HP                      with p-value 0.0\n",
      "Add  const                          with p-value 0.0\n",
      "Add  Engine Fuel Type_premium unleaded (required) with p-value 6.53211e-54\n",
      "Add  Driven_Wheels_front wheel drive with p-value 3.65736e-43\n",
      "Add  Engine Cylinders               with p-value 2.86236e-27\n",
      "Add  city mpg                       with p-value 1.23811e-39\n",
      "Add  Vehicle Size_Large             with p-value 6.15423e-32\n",
      "Add  Vehicle Size_Midsize           with p-value 5.90178e-46\n",
      "Add  Make_segment_European          with p-value 2.28756e-23\n",
      "Add  Popularity                     with p-value 5.8067e-12\n",
      "Add  Transmission Type_MANUAL       with p-value 6.90939e-08\n",
      "Add  Transmission Type_AUTOMATIC    with p-value 1.26471e-14\n",
      "Add  Transmission Type_Other        with p-value 1.29465e-06\n",
      "Add  Driven_Wheels_rear wheel drive with p-value 4.69672e-06\n",
      "Add  Driven_Wheels_four wheel drive with p-value 6.63054e-15\n",
      "Add  Engine Fuel Type_regular unleaded with p-value 0.000170682\n",
      "Drop Driven_Wheels_front wheel drive with p-value 0.0558411\n"
     ]
    }
   ],
   "execution_count": 84
  },
  {
   "metadata": {
    "ExecuteTime": {
     "end_time": "2024-04-13T21:06:13.839365Z",
     "start_time": "2024-04-13T21:06:13.832997Z"
    }
   },
   "cell_type": "code",
   "source": "print(f'resulting features:\\n{result}')",
   "id": "4992a54b63216377",
   "outputs": [
    {
     "name": "stdout",
     "output_type": "stream",
     "text": [
      "resulting features:\n",
      "['Engine HP', 'const', 'Engine Fuel Type_premium unleaded (required)', 'Engine Cylinders', 'city mpg', 'Vehicle Size_Large', 'Vehicle Size_Midsize', 'Make_segment_European', 'Popularity', 'Transmission Type_MANUAL', 'Transmission Type_AUTOMATIC', 'Transmission Type_Other', 'Driven_Wheels_rear wheel drive', 'Driven_Wheels_four wheel drive', 'Engine Fuel Type_regular unleaded']\n"
     ]
    }
   ],
   "execution_count": 88
  },
  {
   "metadata": {
    "ExecuteTime": {
     "end_time": "2024-04-13T21:07:15.649975Z",
     "start_time": "2024-04-13T21:07:15.636719Z"
    }
   },
   "cell_type": "code",
   "source": "model = sm.OLS(y_train, X_train[result]).fit()",
   "id": "f747ec7500d3255f",
   "outputs": [],
   "execution_count": 89
  },
  {
   "metadata": {
    "ExecuteTime": {
     "end_time": "2024-04-13T21:07:18.012304Z",
     "start_time": "2024-04-13T21:07:17.952720Z"
    }
   },
   "cell_type": "code",
   "source": "model.summary()",
   "id": "5db32c25ec917794",
   "outputs": [
    {
     "data": {
      "text/plain": [
       "<class 'statsmodels.iolib.summary.Summary'>\n",
       "\"\"\"\n",
       "                            OLS Regression Results                            \n",
       "==============================================================================\n",
       "Dep. Variable:                   MSRP   R-squared:                       0.503\n",
       "Model:                            OLS   Adj. R-squared:                  0.502\n",
       "Method:                 Least Squares   F-statistic:                     639.2\n",
       "Date:                Sat, 13 Apr 2024   Prob (F-statistic):               0.00\n",
       "Time:                        16:07:17   Log-Likelihood:            -1.0754e+05\n",
       "No. Observations:                8859   AIC:                         2.151e+05\n",
       "Df Residuals:                    8844   BIC:                         2.152e+05\n",
       "Df Model:                          14                                         \n",
       "Covariance Type:            nonrobust                                         \n",
       "================================================================================================================\n",
       "                                                   coef    std err          t      P>|t|      [0.025      0.975]\n",
       "----------------------------------------------------------------------------------------------------------------\n",
       "Engine HP                                      284.8527      8.589     33.165      0.000     268.016     301.689\n",
       "const                                        -9.045e+04   4659.934    -19.409      0.000   -9.96e+04   -8.13e+04\n",
       "Engine Fuel Type_premium unleaded (required)   1.75e+04   1732.018     10.106      0.000    1.41e+04    2.09e+04\n",
       "Engine Cylinders                              1.236e+04    556.590     22.206      0.000    1.13e+04    1.35e+04\n",
       "city mpg                                      1329.6419    105.991     12.545      0.000    1121.874    1537.410\n",
       "Vehicle Size_Large                           -2.314e+04   1605.378    -14.416      0.000   -2.63e+04      -2e+04\n",
       "Vehicle Size_Midsize                         -1.795e+04   1239.650    -14.477      0.000   -2.04e+04   -1.55e+04\n",
       "Make_segment_European                         9063.0720   1319.247      6.870      0.000    6477.042    1.16e+04\n",
       "Popularity                                      -2.3694      0.336     -7.049      0.000      -3.028      -1.710\n",
       "Transmission Type_MANUAL                     -2.474e+04   2477.887     -9.986      0.000   -2.96e+04   -1.99e+04\n",
       "Transmission Type_AUTOMATIC                  -2.212e+04   2369.285     -9.335      0.000   -2.68e+04   -1.75e+04\n",
       "Transmission Type_Other                      -4.508e+04   9887.935     -4.560      0.000   -6.45e+04   -2.57e+04\n",
       "Driven_Wheels_rear wheel drive               -1.345e+04   1298.304    -10.357      0.000    -1.6e+04   -1.09e+04\n",
       "Driven_Wheels_four wheel drive               -1.694e+04   1737.151     -9.750      0.000   -2.03e+04   -1.35e+04\n",
       "Engine Fuel Type_regular unleaded             5069.3195   1327.572      3.818      0.000    2466.969    7671.670\n",
       "==============================================================================\n",
       "Omnibus:                    17913.125   Durbin-Watson:                   1.971\n",
       "Prob(Omnibus):                  0.000   Jarque-Bera (JB):         81233328.421\n",
       "Skew:                          16.502   Prob(JB):                         0.00\n",
       "Kurtosis:                     470.954   Cond. No.                     4.43e+04\n",
       "==============================================================================\n",
       "\n",
       "Notes:\n",
       "[1] Standard Errors assume that the covariance matrix of the errors is correctly specified.\n",
       "[2] The condition number is large, 4.43e+04. This might indicate that there are\n",
       "strong multicollinearity or other numerical problems.\n",
       "\"\"\""
      ],
      "text/html": [
       "<table class=\"simpletable\">\n",
       "<caption>OLS Regression Results</caption>\n",
       "<tr>\n",
       "  <th>Dep. Variable:</th>          <td>MSRP</td>       <th>  R-squared:         </th>  <td>   0.503</td>  \n",
       "</tr>\n",
       "<tr>\n",
       "  <th>Model:</th>                   <td>OLS</td>       <th>  Adj. R-squared:    </th>  <td>   0.502</td>  \n",
       "</tr>\n",
       "<tr>\n",
       "  <th>Method:</th>             <td>Least Squares</td>  <th>  F-statistic:       </th>  <td>   639.2</td>  \n",
       "</tr>\n",
       "<tr>\n",
       "  <th>Date:</th>             <td>Sat, 13 Apr 2024</td> <th>  Prob (F-statistic):</th>   <td>  0.00</td>   \n",
       "</tr>\n",
       "<tr>\n",
       "  <th>Time:</th>                 <td>16:07:17</td>     <th>  Log-Likelihood:    </th> <td>-1.0754e+05</td>\n",
       "</tr>\n",
       "<tr>\n",
       "  <th>No. Observations:</th>      <td>  8859</td>      <th>  AIC:               </th>  <td>2.151e+05</td> \n",
       "</tr>\n",
       "<tr>\n",
       "  <th>Df Residuals:</th>          <td>  8844</td>      <th>  BIC:               </th>  <td>2.152e+05</td> \n",
       "</tr>\n",
       "<tr>\n",
       "  <th>Df Model:</th>              <td>    14</td>      <th>                     </th>      <td> </td>     \n",
       "</tr>\n",
       "<tr>\n",
       "  <th>Covariance Type:</th>      <td>nonrobust</td>    <th>                     </th>      <td> </td>     \n",
       "</tr>\n",
       "</table>\n",
       "<table class=\"simpletable\">\n",
       "<tr>\n",
       "                        <td></td>                          <th>coef</th>     <th>std err</th>      <th>t</th>      <th>P>|t|</th>  <th>[0.025</th>    <th>0.975]</th>  \n",
       "</tr>\n",
       "<tr>\n",
       "  <th>Engine HP</th>                                    <td>  284.8527</td> <td>    8.589</td> <td>   33.165</td> <td> 0.000</td> <td>  268.016</td> <td>  301.689</td>\n",
       "</tr>\n",
       "<tr>\n",
       "  <th>const</th>                                        <td>-9.045e+04</td> <td> 4659.934</td> <td>  -19.409</td> <td> 0.000</td> <td>-9.96e+04</td> <td>-8.13e+04</td>\n",
       "</tr>\n",
       "<tr>\n",
       "  <th>Engine Fuel Type_premium unleaded (required)</th> <td>  1.75e+04</td> <td> 1732.018</td> <td>   10.106</td> <td> 0.000</td> <td> 1.41e+04</td> <td> 2.09e+04</td>\n",
       "</tr>\n",
       "<tr>\n",
       "  <th>Engine Cylinders</th>                             <td> 1.236e+04</td> <td>  556.590</td> <td>   22.206</td> <td> 0.000</td> <td> 1.13e+04</td> <td> 1.35e+04</td>\n",
       "</tr>\n",
       "<tr>\n",
       "  <th>city mpg</th>                                     <td> 1329.6419</td> <td>  105.991</td> <td>   12.545</td> <td> 0.000</td> <td> 1121.874</td> <td> 1537.410</td>\n",
       "</tr>\n",
       "<tr>\n",
       "  <th>Vehicle Size_Large</th>                           <td>-2.314e+04</td> <td> 1605.378</td> <td>  -14.416</td> <td> 0.000</td> <td>-2.63e+04</td> <td>   -2e+04</td>\n",
       "</tr>\n",
       "<tr>\n",
       "  <th>Vehicle Size_Midsize</th>                         <td>-1.795e+04</td> <td> 1239.650</td> <td>  -14.477</td> <td> 0.000</td> <td>-2.04e+04</td> <td>-1.55e+04</td>\n",
       "</tr>\n",
       "<tr>\n",
       "  <th>Make_segment_European</th>                        <td> 9063.0720</td> <td> 1319.247</td> <td>    6.870</td> <td> 0.000</td> <td> 6477.042</td> <td> 1.16e+04</td>\n",
       "</tr>\n",
       "<tr>\n",
       "  <th>Popularity</th>                                   <td>   -2.3694</td> <td>    0.336</td> <td>   -7.049</td> <td> 0.000</td> <td>   -3.028</td> <td>   -1.710</td>\n",
       "</tr>\n",
       "<tr>\n",
       "  <th>Transmission Type_MANUAL</th>                     <td>-2.474e+04</td> <td> 2477.887</td> <td>   -9.986</td> <td> 0.000</td> <td>-2.96e+04</td> <td>-1.99e+04</td>\n",
       "</tr>\n",
       "<tr>\n",
       "  <th>Transmission Type_AUTOMATIC</th>                  <td>-2.212e+04</td> <td> 2369.285</td> <td>   -9.335</td> <td> 0.000</td> <td>-2.68e+04</td> <td>-1.75e+04</td>\n",
       "</tr>\n",
       "<tr>\n",
       "  <th>Transmission Type_Other</th>                      <td>-4.508e+04</td> <td> 9887.935</td> <td>   -4.560</td> <td> 0.000</td> <td>-6.45e+04</td> <td>-2.57e+04</td>\n",
       "</tr>\n",
       "<tr>\n",
       "  <th>Driven_Wheels_rear wheel drive</th>               <td>-1.345e+04</td> <td> 1298.304</td> <td>  -10.357</td> <td> 0.000</td> <td> -1.6e+04</td> <td>-1.09e+04</td>\n",
       "</tr>\n",
       "<tr>\n",
       "  <th>Driven_Wheels_four wheel drive</th>               <td>-1.694e+04</td> <td> 1737.151</td> <td>   -9.750</td> <td> 0.000</td> <td>-2.03e+04</td> <td>-1.35e+04</td>\n",
       "</tr>\n",
       "<tr>\n",
       "  <th>Engine Fuel Type_regular unleaded</th>            <td> 5069.3195</td> <td> 1327.572</td> <td>    3.818</td> <td> 0.000</td> <td> 2466.969</td> <td> 7671.670</td>\n",
       "</tr>\n",
       "</table>\n",
       "<table class=\"simpletable\">\n",
       "<tr>\n",
       "  <th>Omnibus:</th>       <td>17913.125</td> <th>  Durbin-Watson:     </th>   <td>   1.971</td>  \n",
       "</tr>\n",
       "<tr>\n",
       "  <th>Prob(Omnibus):</th>  <td> 0.000</td>   <th>  Jarque-Bera (JB):  </th> <td>81233328.421</td>\n",
       "</tr>\n",
       "<tr>\n",
       "  <th>Skew:</th>           <td>16.502</td>   <th>  Prob(JB):          </th>   <td>    0.00</td>  \n",
       "</tr>\n",
       "<tr>\n",
       "  <th>Kurtosis:</th>       <td>470.954</td>  <th>  Cond. No.          </th>   <td>4.43e+04</td>  \n",
       "</tr>\n",
       "</table><br/><br/>Notes:<br/>[1] Standard Errors assume that the covariance matrix of the errors is correctly specified.<br/>[2] The condition number is large, 4.43e+04. This might indicate that there are<br/>strong multicollinearity or other numerical problems."
      ],
      "text/latex": "\\begin{center}\n\\begin{tabular}{lclc}\n\\toprule\n\\textbf{Dep. Variable:}                                &       MSRP       & \\textbf{  R-squared:         } &      0.503    \\\\\n\\textbf{Model:}                                        &       OLS        & \\textbf{  Adj. R-squared:    } &      0.502    \\\\\n\\textbf{Method:}                                       &  Least Squares   & \\textbf{  F-statistic:       } &      639.2    \\\\\n\\textbf{Date:}                                         & Sat, 13 Apr 2024 & \\textbf{  Prob (F-statistic):} &      0.00     \\\\\n\\textbf{Time:}                                         &     16:07:17     & \\textbf{  Log-Likelihood:    } & -1.0754e+05   \\\\\n\\textbf{No. Observations:}                             &        8859      & \\textbf{  AIC:               } &  2.151e+05    \\\\\n\\textbf{Df Residuals:}                                 &        8844      & \\textbf{  BIC:               } &  2.152e+05    \\\\\n\\textbf{Df Model:}                                     &          14      & \\textbf{                     } &               \\\\\n\\textbf{Covariance Type:}                              &    nonrobust     & \\textbf{                     } &               \\\\\n\\bottomrule\n\\end{tabular}\n\\begin{tabular}{lcccccc}\n                                                       & \\textbf{coef} & \\textbf{std err} & \\textbf{t} & \\textbf{P$> |$t$|$} & \\textbf{[0.025} & \\textbf{0.975]}  \\\\\n\\midrule\n\\textbf{Engine HP}                                     &     284.8527  &        8.589     &    33.165  &         0.000        &      268.016    &      301.689     \\\\\n\\textbf{const}                                         &   -9.045e+04  &     4659.934     &   -19.409  &         0.000        &    -9.96e+04    &    -8.13e+04     \\\\\n\\textbf{Engine Fuel Type\\_premium unleaded (required)} &     1.75e+04  &     1732.018     &    10.106  &         0.000        &     1.41e+04    &     2.09e+04     \\\\\n\\textbf{Engine Cylinders}                              &    1.236e+04  &      556.590     &    22.206  &         0.000        &     1.13e+04    &     1.35e+04     \\\\\n\\textbf{city mpg}                                      &    1329.6419  &      105.991     &    12.545  &         0.000        &     1121.874    &     1537.410     \\\\\n\\textbf{Vehicle Size\\_Large}                           &   -2.314e+04  &     1605.378     &   -14.416  &         0.000        &    -2.63e+04    &       -2e+04     \\\\\n\\textbf{Vehicle Size\\_Midsize}                         &   -1.795e+04  &     1239.650     &   -14.477  &         0.000        &    -2.04e+04    &    -1.55e+04     \\\\\n\\textbf{Make\\_segment\\_European}                       &    9063.0720  &     1319.247     &     6.870  &         0.000        &     6477.042    &     1.16e+04     \\\\\n\\textbf{Popularity}                                    &      -2.3694  &        0.336     &    -7.049  &         0.000        &       -3.028    &       -1.710     \\\\\n\\textbf{Transmission Type\\_MANUAL}                     &   -2.474e+04  &     2477.887     &    -9.986  &         0.000        &    -2.96e+04    &    -1.99e+04     \\\\\n\\textbf{Transmission Type\\_AUTOMATIC}                  &   -2.212e+04  &     2369.285     &    -9.335  &         0.000        &    -2.68e+04    &    -1.75e+04     \\\\\n\\textbf{Transmission Type\\_Other}                      &   -4.508e+04  &     9887.935     &    -4.560  &         0.000        &    -6.45e+04    &    -2.57e+04     \\\\\n\\textbf{Driven\\_Wheels\\_rear wheel drive}              &   -1.345e+04  &     1298.304     &   -10.357  &         0.000        &     -1.6e+04    &    -1.09e+04     \\\\\n\\textbf{Driven\\_Wheels\\_four wheel drive}              &   -1.694e+04  &     1737.151     &    -9.750  &         0.000        &    -2.03e+04    &    -1.35e+04     \\\\\n\\textbf{Engine Fuel Type\\_regular unleaded}            &    5069.3195  &     1327.572     &     3.818  &         0.000        &     2466.969    &     7671.670     \\\\\n\\bottomrule\n\\end{tabular}\n\\begin{tabular}{lclc}\n\\textbf{Omnibus:}       & 17913.125 & \\textbf{  Durbin-Watson:     } &      1.971    \\\\\n\\textbf{Prob(Omnibus):} &    0.000  & \\textbf{  Jarque-Bera (JB):  } & 81233328.421  \\\\\n\\textbf{Skew:}          &   16.502  & \\textbf{  Prob(JB):          } &       0.00    \\\\\n\\textbf{Kurtosis:}      &  470.954  & \\textbf{  Cond. No.          } &   4.43e+04    \\\\\n\\bottomrule\n\\end{tabular}\n%\\caption{OLS Regression Results}\n\\end{center}\n\nNotes: \\newline\n [1] Standard Errors assume that the covariance matrix of the errors is correctly specified. \\newline\n [2] The condition number is large, 4.43e+04. This might indicate that there are \\newline\n strong multicollinearity or other numerical problems."
     },
     "execution_count": 90,
     "metadata": {},
     "output_type": "execute_result"
    }
   ],
   "execution_count": 90
  },
  {
   "metadata": {
    "ExecuteTime": {
     "end_time": "2024-04-13T21:10:23.843238Z",
     "start_time": "2024-04-13T21:10:23.836272Z"
    }
   },
   "cell_type": "code",
   "source": [
    "from sklearn.metrics import mean_squared_error, r2_score, mean_absolute_error\n",
    "y_pred_train = model.predict(X_train[result])"
   ],
   "id": "bce0c8ae17bf0459",
   "outputs": [],
   "execution_count": 94
  },
  {
   "metadata": {
    "ExecuteTime": {
     "end_time": "2024-04-13T21:10:24.178816Z",
     "start_time": "2024-04-13T21:10:24.172697Z"
    }
   },
   "cell_type": "code",
   "source": "print(f'MAE: {mean_absolute_error(y_train, y_pred_train)}\\nR2: {r2_score(y_train, y_pred_train)}')",
   "id": "d176111a8847b009",
   "outputs": [
    {
     "name": "stdout",
     "output_type": "stream",
     "text": [
      "MAE: 20169.45283135836\n",
      "R2: 0.5029309193686502\n"
     ]
    }
   ],
   "execution_count": 95
  },
  {
   "metadata": {
    "ExecuteTime": {
     "end_time": "2024-04-13T21:11:04.258171Z",
     "start_time": "2024-04-13T21:11:04.237206Z"
    }
   },
   "cell_type": "code",
   "source": [
    "# Calculamos las métricas de evaluación\n",
    "X_test = sm.add_constant(X_test)\n",
    "y_pred_test = model.predict(X_test[result])"
   ],
   "id": "34fd8509429641b7",
   "outputs": [],
   "execution_count": 97
  },
  {
   "metadata": {
    "ExecuteTime": {
     "end_time": "2024-04-13T21:11:05.170638Z",
     "start_time": "2024-04-13T21:11:05.163511Z"
    }
   },
   "cell_type": "code",
   "source": "print(f'MAE: {mean_absolute_error(y_test, y_pred_test)}\\nR2: {r2_score(y_test, y_pred_test)}')",
   "id": "56dfa218daf5be2",
   "outputs": [
    {
     "name": "stdout",
     "output_type": "stream",
     "text": [
      "MAE: 18814.333836252044\n",
      "R2: 0.6514731665310896\n"
     ]
    }
   ],
   "execution_count": 98
  },
  {
   "metadata": {},
   "cell_type": "code",
   "outputs": [],
   "execution_count": null,
   "source": "",
   "id": "14dd7cf14fee70cf"
  }
 ],
 "metadata": {
  "kernelspec": {
   "display_name": "Python 3",
   "language": "python",
   "name": "python3"
  },
  "language_info": {
   "codemirror_mode": {
    "name": "ipython",
    "version": 2
   },
   "file_extension": ".py",
   "mimetype": "text/x-python",
   "name": "python",
   "nbconvert_exporter": "python",
   "pygments_lexer": "ipython2",
   "version": "2.7.6"
  }
 },
 "nbformat": 4,
 "nbformat_minor": 5
}
