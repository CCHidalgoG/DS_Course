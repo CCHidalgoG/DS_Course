{
 "cells": [
  {
   "cell_type": "code",
   "id": "initial_id",
   "metadata": {
    "collapsed": true,
    "ExecuteTime": {
     "end_time": "2024-07-10T02:10:50.071Z",
     "start_time": "2024-07-10T02:10:50.067439Z"
    }
   },
   "source": [
    "import pandas as pd\n",
    "from sodapy import Socrata\n",
    "import numpy as np\n",
    "import json"
   ],
   "outputs": [],
   "execution_count": 39
  },
  {
   "metadata": {
    "ExecuteTime": {
     "end_time": "2024-07-10T02:13:41.869611Z",
     "start_time": "2024-07-10T02:13:41.865282Z"
    }
   },
   "cell_type": "code",
   "source": [
    "# in place of application token, and no username or password:\n",
    "client = Socrata(\"www.datos.gov.co\", None)"
   ],
   "id": "e000460a37be3754",
   "outputs": [
    {
     "name": "stderr",
     "output_type": "stream",
     "text": [
      "WARNING:root:Requests made without an app_token will be subject to strict throttling limits.\n"
     ]
    }
   ],
   "execution_count": 43
  },
  {
   "metadata": {
    "ExecuteTime": {
     "end_time": "2024-07-10T02:13:57.076470Z",
     "start_time": "2024-07-10T02:13:56.394656Z"
    }
   },
   "cell_type": "code",
   "source": [
    "metadata = client.get_metadata(\"jqjy-rhzv\")\n",
    "# Convertir metadata dict to JSON, analizar en: \n",
    "output_json = json.dumps(metadata, indent = 4)\n",
    "# Total de datos\n",
    "N = int(metadata['columns'][0]['cachedContents']['count'])"
   ],
   "id": "7f965c5913e5d076",
   "outputs": [],
   "execution_count": 45
  },
  {
   "metadata": {
    "ExecuteTime": {
     "end_time": "2024-07-10T02:14:31.560383Z",
     "start_time": "2024-07-10T02:14:31.029061Z"
    }
   },
   "cell_type": "code",
   "source": [
    "# ejemplo de los datos\n",
    "results = client.get(\"jqjy-rhzv\", limit=2000, offset=0)\n",
    "results_df = pd.DataFrame.from_records(results)"
   ],
   "id": "89a45c20eeb80f63",
   "outputs": [],
   "execution_count": 47
  },
  {
   "metadata": {
    "ExecuteTime": {
     "end_time": "2024-07-10T02:14:37.784686Z",
     "start_time": "2024-07-10T02:14:37.771246Z"
    }
   },
   "cell_type": "code",
   "source": "results_df.head()",
   "id": "b4419d2a83e4980e",
   "outputs": [
    {
     "data": {
      "text/plain": [
       "    a_o rnt  estado                             categoria  \\\n",
       "0  2005   1  ACTIVO                     AGENCIA DE VIAJES   \n",
       "1  2005   2  ACTIVO                     AGENCIA DE VIAJES   \n",
       "2  2005  11  ACTIVO                     AGENCIA DE VIAJES   \n",
       "3  2005  20  ACTIVO  OFICINAS DE REPRESENTACION TURISTICA   \n",
       "4  2005  26  ACTIVO  OFICINAS DE REPRESENTACION TURISTICA   \n",
       "\n",
       "                          subcategoria                    nomdep nombre_muni  \\\n",
       "0      AGENCIAS DE VIAJES Y DE TURISMO                    BOGOTA      BOGOTA   \n",
       "1      AGENCIAS DE VIAJES Y DE TURISMO  SAN ANDRES Y PROVIDENCIA  SAN ANDRES   \n",
       "2      AGENCIAS DE VIAJES Y DE TURISMO                    BOGOTA      BOGOTA   \n",
       "3  OFICINA DE REPRESENTACION TURISTICA                    BOGOTA      BOGOTA   \n",
       "4  OFICINA DE REPRESENTACION TURISTICA                    BOGOTA      BOGOTA   \n",
       "\n",
       "                                 razon_social habitaciones camas empleados  \n",
       "0           VIAJES Y TURISMO DON QUIJOTE LTDA            0     0         6  \n",
       "1                   ISLATUR LALIANXA LIMITADA            0     0        10  \n",
       "2                             TRAVEL CLUB SAS            0     0       300  \n",
       "3  LUHRS BELTRAN LUBEL REPRESENTACIONES S.A.S            0     0         6  \n",
       "4                 PENTA REPRESENTACIONES LTDA            0     0         1  "
      ],
      "text/html": [
       "<div>\n",
       "<style scoped>\n",
       "    .dataframe tbody tr th:only-of-type {\n",
       "        vertical-align: middle;\n",
       "    }\n",
       "\n",
       "    .dataframe tbody tr th {\n",
       "        vertical-align: top;\n",
       "    }\n",
       "\n",
       "    .dataframe thead th {\n",
       "        text-align: right;\n",
       "    }\n",
       "</style>\n",
       "<table border=\"1\" class=\"dataframe\">\n",
       "  <thead>\n",
       "    <tr style=\"text-align: right;\">\n",
       "      <th></th>\n",
       "      <th>a_o</th>\n",
       "      <th>rnt</th>\n",
       "      <th>estado</th>\n",
       "      <th>categoria</th>\n",
       "      <th>subcategoria</th>\n",
       "      <th>nomdep</th>\n",
       "      <th>nombre_muni</th>\n",
       "      <th>razon_social</th>\n",
       "      <th>habitaciones</th>\n",
       "      <th>camas</th>\n",
       "      <th>empleados</th>\n",
       "    </tr>\n",
       "  </thead>\n",
       "  <tbody>\n",
       "    <tr>\n",
       "      <th>0</th>\n",
       "      <td>2005</td>\n",
       "      <td>1</td>\n",
       "      <td>ACTIVO</td>\n",
       "      <td>AGENCIA DE VIAJES</td>\n",
       "      <td>AGENCIAS DE VIAJES Y DE TURISMO</td>\n",
       "      <td>BOGOTA</td>\n",
       "      <td>BOGOTA</td>\n",
       "      <td>VIAJES Y TURISMO DON QUIJOTE LTDA</td>\n",
       "      <td>0</td>\n",
       "      <td>0</td>\n",
       "      <td>6</td>\n",
       "    </tr>\n",
       "    <tr>\n",
       "      <th>1</th>\n",
       "      <td>2005</td>\n",
       "      <td>2</td>\n",
       "      <td>ACTIVO</td>\n",
       "      <td>AGENCIA DE VIAJES</td>\n",
       "      <td>AGENCIAS DE VIAJES Y DE TURISMO</td>\n",
       "      <td>SAN ANDRES Y PROVIDENCIA</td>\n",
       "      <td>SAN ANDRES</td>\n",
       "      <td>ISLATUR LALIANXA LIMITADA</td>\n",
       "      <td>0</td>\n",
       "      <td>0</td>\n",
       "      <td>10</td>\n",
       "    </tr>\n",
       "    <tr>\n",
       "      <th>2</th>\n",
       "      <td>2005</td>\n",
       "      <td>11</td>\n",
       "      <td>ACTIVO</td>\n",
       "      <td>AGENCIA DE VIAJES</td>\n",
       "      <td>AGENCIAS DE VIAJES Y DE TURISMO</td>\n",
       "      <td>BOGOTA</td>\n",
       "      <td>BOGOTA</td>\n",
       "      <td>TRAVEL CLUB SAS</td>\n",
       "      <td>0</td>\n",
       "      <td>0</td>\n",
       "      <td>300</td>\n",
       "    </tr>\n",
       "    <tr>\n",
       "      <th>3</th>\n",
       "      <td>2005</td>\n",
       "      <td>20</td>\n",
       "      <td>ACTIVO</td>\n",
       "      <td>OFICINAS DE REPRESENTACION TURISTICA</td>\n",
       "      <td>OFICINA DE REPRESENTACION TURISTICA</td>\n",
       "      <td>BOGOTA</td>\n",
       "      <td>BOGOTA</td>\n",
       "      <td>LUHRS BELTRAN LUBEL REPRESENTACIONES S.A.S</td>\n",
       "      <td>0</td>\n",
       "      <td>0</td>\n",
       "      <td>6</td>\n",
       "    </tr>\n",
       "    <tr>\n",
       "      <th>4</th>\n",
       "      <td>2005</td>\n",
       "      <td>26</td>\n",
       "      <td>ACTIVO</td>\n",
       "      <td>OFICINAS DE REPRESENTACION TURISTICA</td>\n",
       "      <td>OFICINA DE REPRESENTACION TURISTICA</td>\n",
       "      <td>BOGOTA</td>\n",
       "      <td>BOGOTA</td>\n",
       "      <td>PENTA REPRESENTACIONES LTDA</td>\n",
       "      <td>0</td>\n",
       "      <td>0</td>\n",
       "      <td>1</td>\n",
       "    </tr>\n",
       "  </tbody>\n",
       "</table>\n",
       "</div>"
      ]
     },
     "execution_count": 48,
     "metadata": {},
     "output_type": "execute_result"
    }
   ],
   "execution_count": 48
  },
  {
   "metadata": {
    "ExecuteTime": {
     "end_time": "2024-07-10T02:20:07.362462Z",
     "start_time": "2024-07-10T02:18:29.394492Z"
    }
   },
   "cell_type": "code",
   "source": [
    "offset = 2000\n",
    "for batch in range(1, int(np.ceil(N / 2000))+1):\n",
    "    results_tmp = client.get(\"jqjy-rhzv\", limit=2000, offset=offset)\n",
    "    results_df_tmp = pd.DataFrame.from_records(results_tmp)\n",
    "    results_df = pd.concat([results_df, results_df_tmp], axis=0)\n",
    "    offset += 2000"
   ],
   "id": "fc40e4804f9a2ec4",
   "outputs": [],
   "execution_count": 50
  },
  {
   "metadata": {
    "ExecuteTime": {
     "end_time": "2024-07-10T02:20:07.403119Z",
     "start_time": "2024-07-10T02:20:07.368400Z"
    }
   },
   "cell_type": "code",
   "source": "results_df.head()",
   "id": "a3edddcecdca7d08",
   "outputs": [
    {
     "data": {
      "text/plain": [
       "    a_o rnt  estado                             categoria  \\\n",
       "0  2005   1  ACTIVO                     AGENCIA DE VIAJES   \n",
       "1  2005   2  ACTIVO                     AGENCIA DE VIAJES   \n",
       "2  2005  11  ACTIVO                     AGENCIA DE VIAJES   \n",
       "3  2005  20  ACTIVO  OFICINAS DE REPRESENTACION TURISTICA   \n",
       "4  2005  26  ACTIVO  OFICINAS DE REPRESENTACION TURISTICA   \n",
       "\n",
       "                          subcategoria                    nomdep nombre_muni  \\\n",
       "0      AGENCIAS DE VIAJES Y DE TURISMO                    BOGOTA      BOGOTA   \n",
       "1      AGENCIAS DE VIAJES Y DE TURISMO  SAN ANDRES Y PROVIDENCIA  SAN ANDRES   \n",
       "2      AGENCIAS DE VIAJES Y DE TURISMO                    BOGOTA      BOGOTA   \n",
       "3  OFICINA DE REPRESENTACION TURISTICA                    BOGOTA      BOGOTA   \n",
       "4  OFICINA DE REPRESENTACION TURISTICA                    BOGOTA      BOGOTA   \n",
       "\n",
       "                                 razon_social habitaciones camas empleados  \n",
       "0           VIAJES Y TURISMO DON QUIJOTE LTDA            0     0         6  \n",
       "1                   ISLATUR LALIANXA LIMITADA            0     0        10  \n",
       "2                             TRAVEL CLUB SAS            0     0       300  \n",
       "3  LUHRS BELTRAN LUBEL REPRESENTACIONES S.A.S            0     0         6  \n",
       "4                 PENTA REPRESENTACIONES LTDA            0     0         1  "
      ],
      "text/html": [
       "<div>\n",
       "<style scoped>\n",
       "    .dataframe tbody tr th:only-of-type {\n",
       "        vertical-align: middle;\n",
       "    }\n",
       "\n",
       "    .dataframe tbody tr th {\n",
       "        vertical-align: top;\n",
       "    }\n",
       "\n",
       "    .dataframe thead th {\n",
       "        text-align: right;\n",
       "    }\n",
       "</style>\n",
       "<table border=\"1\" class=\"dataframe\">\n",
       "  <thead>\n",
       "    <tr style=\"text-align: right;\">\n",
       "      <th></th>\n",
       "      <th>a_o</th>\n",
       "      <th>rnt</th>\n",
       "      <th>estado</th>\n",
       "      <th>categoria</th>\n",
       "      <th>subcategoria</th>\n",
       "      <th>nomdep</th>\n",
       "      <th>nombre_muni</th>\n",
       "      <th>razon_social</th>\n",
       "      <th>habitaciones</th>\n",
       "      <th>camas</th>\n",
       "      <th>empleados</th>\n",
       "    </tr>\n",
       "  </thead>\n",
       "  <tbody>\n",
       "    <tr>\n",
       "      <th>0</th>\n",
       "      <td>2005</td>\n",
       "      <td>1</td>\n",
       "      <td>ACTIVO</td>\n",
       "      <td>AGENCIA DE VIAJES</td>\n",
       "      <td>AGENCIAS DE VIAJES Y DE TURISMO</td>\n",
       "      <td>BOGOTA</td>\n",
       "      <td>BOGOTA</td>\n",
       "      <td>VIAJES Y TURISMO DON QUIJOTE LTDA</td>\n",
       "      <td>0</td>\n",
       "      <td>0</td>\n",
       "      <td>6</td>\n",
       "    </tr>\n",
       "    <tr>\n",
       "      <th>1</th>\n",
       "      <td>2005</td>\n",
       "      <td>2</td>\n",
       "      <td>ACTIVO</td>\n",
       "      <td>AGENCIA DE VIAJES</td>\n",
       "      <td>AGENCIAS DE VIAJES Y DE TURISMO</td>\n",
       "      <td>SAN ANDRES Y PROVIDENCIA</td>\n",
       "      <td>SAN ANDRES</td>\n",
       "      <td>ISLATUR LALIANXA LIMITADA</td>\n",
       "      <td>0</td>\n",
       "      <td>0</td>\n",
       "      <td>10</td>\n",
       "    </tr>\n",
       "    <tr>\n",
       "      <th>2</th>\n",
       "      <td>2005</td>\n",
       "      <td>11</td>\n",
       "      <td>ACTIVO</td>\n",
       "      <td>AGENCIA DE VIAJES</td>\n",
       "      <td>AGENCIAS DE VIAJES Y DE TURISMO</td>\n",
       "      <td>BOGOTA</td>\n",
       "      <td>BOGOTA</td>\n",
       "      <td>TRAVEL CLUB SAS</td>\n",
       "      <td>0</td>\n",
       "      <td>0</td>\n",
       "      <td>300</td>\n",
       "    </tr>\n",
       "    <tr>\n",
       "      <th>3</th>\n",
       "      <td>2005</td>\n",
       "      <td>20</td>\n",
       "      <td>ACTIVO</td>\n",
       "      <td>OFICINAS DE REPRESENTACION TURISTICA</td>\n",
       "      <td>OFICINA DE REPRESENTACION TURISTICA</td>\n",
       "      <td>BOGOTA</td>\n",
       "      <td>BOGOTA</td>\n",
       "      <td>LUHRS BELTRAN LUBEL REPRESENTACIONES S.A.S</td>\n",
       "      <td>0</td>\n",
       "      <td>0</td>\n",
       "      <td>6</td>\n",
       "    </tr>\n",
       "    <tr>\n",
       "      <th>4</th>\n",
       "      <td>2005</td>\n",
       "      <td>26</td>\n",
       "      <td>ACTIVO</td>\n",
       "      <td>OFICINAS DE REPRESENTACION TURISTICA</td>\n",
       "      <td>OFICINA DE REPRESENTACION TURISTICA</td>\n",
       "      <td>BOGOTA</td>\n",
       "      <td>BOGOTA</td>\n",
       "      <td>PENTA REPRESENTACIONES LTDA</td>\n",
       "      <td>0</td>\n",
       "      <td>0</td>\n",
       "      <td>1</td>\n",
       "    </tr>\n",
       "  </tbody>\n",
       "</table>\n",
       "</div>"
      ]
     },
     "execution_count": 51,
     "metadata": {},
     "output_type": "execute_result"
    }
   ],
   "execution_count": 51
  },
  {
   "metadata": {
    "ExecuteTime": {
     "end_time": "2024-07-10T03:50:15.619275Z",
     "start_time": "2024-07-10T03:50:14.256937Z"
    }
   },
   "cell_type": "code",
   "source": "results_df.to_csv('datos_abiertos.csv', index=False)",
   "id": "f239ee4498c46742",
   "outputs": [],
   "execution_count": 52
  },
  {
   "metadata": {},
   "cell_type": "code",
   "outputs": [],
   "execution_count": null,
   "source": "",
   "id": "56a0bfb49b3995aa"
  }
 ],
 "metadata": {
  "kernelspec": {
   "display_name": "Python 3",
   "language": "python",
   "name": "python3"
  },
  "language_info": {
   "codemirror_mode": {
    "name": "ipython",
    "version": 2
   },
   "file_extension": ".py",
   "mimetype": "text/x-python",
   "name": "python",
   "nbconvert_exporter": "python",
   "pygments_lexer": "ipython2",
   "version": "2.7.6"
  }
 },
 "nbformat": 4,
 "nbformat_minor": 5
}
