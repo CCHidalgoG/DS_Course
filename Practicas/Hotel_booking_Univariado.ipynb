{
 "cells": [
  {
   "cell_type": "code",
   "outputs": [],
   "source": [
    "from global_vars import GLOBAL_PATH"
   ],
   "metadata": {
    "collapsed": false
   },
   "id": "b7474ca6215dfe22",
   "execution_count": null
  },
  {
   "cell_type": "code",
   "outputs": [],
   "source": [
    "import pandas as pd"
   ],
   "metadata": {
    "collapsed": false,
    "ExecuteTime": {
     "end_time": "2024-03-27T23:06:18.386411Z",
     "start_time": "2024-03-27T23:06:18.155098Z"
    }
   },
   "id": "93392e0447f191dc",
   "execution_count": 8
  },
  {
   "cell_type": "code",
   "outputs": [],
   "source": [
    "import numpy as np"
   ],
   "metadata": {
    "collapsed": false,
    "ExecuteTime": {
     "end_time": "2024-03-27T23:06:18.391394Z",
     "start_time": "2024-03-27T23:06:18.389463Z"
    }
   },
   "id": "b1d3f6e67acbd64f",
   "execution_count": 9
  },
  {
   "cell_type": "markdown",
   "source": [],
   "metadata": {
    "collapsed": false
   },
   "id": "ed3ac7d32c62aebc"
  },
  {
   "cell_type": "code",
   "outputs": [],
   "source": [
    "hotel = pd.read_csv('/Users/Tomas/Documents/Git/DS_Course/data/hotel_bookings.csv')"
   ],
   "metadata": {
    "collapsed": false,
    "ExecuteTime": {
     "end_time": "2024-03-27T23:06:18.813247Z",
     "start_time": "2024-03-27T23:06:18.670920Z"
    }
   },
   "id": "3f5888882f574684",
   "execution_count": 10
  },
  {
   "cell_type": "code",
   "outputs": [
    {
     "data": {
      "text/plain": "               hotel  is_canceled  lead_time  arrival_date_year  \\\n12567   Resort Hotel            1         55               2017   \n49657     City Hotel            1        275               2016   \n14135   Resort Hotel            0        335               2016   \n90062     City Hotel            0         33               2016   \n99449     City Hotel            0        182               2016   \n64688     City Hotel            1         37               2017   \n108606    City Hotel            0        211               2017   \n15335   Resort Hotel            0        149               2015   \n115360    City Hotel            0        462               2017   \n118354    City Hotel            0        135               2017   \n13403   Resort Hotel            1          0               2017   \n49366     City Hotel            1         19               2016   \n94792     City Hotel            0          7               2016   \n47982     City Hotel            0         87               2016   \n55912     City Hotel            1        106               2016   \n76195     City Hotel            0        260               2015   \n40932     City Hotel            0        142               2015   \n16991   Resort Hotel            0        258               2015   \n79558     City Hotel            0         13               2015   \n49532     City Hotel            1        126               2016   \n81605     City Hotel            0         12               2016   \n787     Resort Hotel            1        118               2015   \n81986     City Hotel            1        115               2016   \n22445   Resort Hotel            0         35               2016   \n28123   Resort Hotel            0          1               2016   \n\n       arrival_date_month  arrival_date_week_number  \\\n12567                July                        27   \n49657               April                        17   \n14135           September                        38   \n90062                 May                        23   \n99449             October                        42   \n64688               March                        11   \n108606              March                        12   \n15335                July                        27   \n115360               July                        26   \n118354             August                        33   \n13403              August                        33   \n49366               April                        16   \n94792              August                        33   \n47982               March                        11   \n55912              August                        35   \n76195                July                        27   \n40932              August                        33   \n16991           September                        38   \n79558             October                        43   \n49532               April                        16   \n81605                June                        26   \n787                  July                        31   \n81986               March                        13   \n22445               March                        13   \n28123           September                        39   \n\n        arrival_date_day_of_month  stays_in_weekend_nights  \\\n12567                           4                        2   \n49657                          17                        2   \n14135                          14                        1   \n90062                          29                        2   \n99449                          12                        0   \n64688                          15                        0   \n108606                         25                        2   \n15335                           1                        2   \n115360                          1                        2   \n118354                         17                        0   \n13403                          14                        1   \n49366                          11                        1   \n94792                           9                        0   \n47982                          11                        1   \n55912                          24                        0   \n76195                           4                        2   \n40932                           9                        2   \n16991                          17                        1   \n79558                          22                        2   \n49532                          14                        0   \n81605                          20                        1   \n787                            29                        1   \n81986                          20                        2   \n22445                          22                        0   \n28123                          19                        1   \n\n        stays_in_week_nights  adults  ...  deposit_type  agent company  \\\n12567                      8       2  ...    No Deposit  531.0     NaN   \n49657                      0       2  ...    Non Refund   12.0     NaN   \n14135                      4       1  ...    No Deposit    NaN   223.0   \n90062                      1       2  ...    No Deposit   42.0     NaN   \n99449                      1       1  ...    No Deposit  234.0     NaN   \n64688                      2       2  ...    Non Refund  378.0     NaN   \n108606                     3       2  ...    No Deposit    9.0     NaN   \n15335                      5       2  ...    No Deposit  156.0     NaN   \n115360                     2       2  ...    No Deposit  229.0     NaN   \n118354                     2       3  ...    No Deposit    9.0     NaN   \n13403                      0       2  ...    No Deposit  240.0     NaN   \n49366                      4       2  ...    No Deposit    9.0     NaN   \n94792                      1       1  ...    No Deposit    NaN    40.0   \n47982                      2       2  ...    No Deposit    7.0     NaN   \n55912                      4       3  ...    No Deposit    9.0     NaN   \n76195                      2       2  ...    No Deposit    1.0     NaN   \n40932                      1       2  ...    No Deposit    NaN     NaN   \n16991                      3       2  ...    No Deposit  156.0     NaN   \n79558                      5       2  ...    No Deposit   83.0     NaN   \n49532                      3       2  ...    Non Refund    1.0     NaN   \n81605                      0       1  ...    No Deposit    NaN    40.0   \n787                        4       2  ...    No Deposit  240.0     NaN   \n81986                      0       1  ...    Non Refund   41.0     NaN   \n22445                      4       2  ...    No Deposit  250.0     NaN   \n28123                      1       2  ...    No Deposit  250.0     NaN   \n\n       days_in_waiting_list    customer_type     adr  \\\n12567                     0        Transient   92.00   \n49657                     0        Transient  110.00   \n14135                     0  Transient-Party   72.00   \n90062                     0        Transient   85.50   \n99449                     0  Transient-Party  120.00   \n64688                     0        Transient  110.00   \n108606                    0        Transient   88.40   \n15335                     0         Contract   69.60   \n115360                    0  Transient-Party  107.00   \n118354                    0        Transient  199.50   \n13403                     0        Transient  230.00   \n49366                     0        Transient  111.40   \n94792                     0        Transient   65.00   \n47982                     0        Transient   51.97   \n55912                     0        Transient  152.10   \n76195                     0  Transient-Party   62.00   \n40932                     0        Transient   76.50   \n16991                     0         Contract   50.15   \n79558                     0            Group  131.97   \n49532                    39        Transient   65.00   \n81605                     0        Transient   65.00   \n787                       0        Transient  186.00   \n81986                    22        Transient   70.00   \n22445                     0        Transient   95.50   \n28123                     0        Transient  110.00   \n\n        required_car_parking_spaces  total_of_special_requests  \\\n12567                             0                          0   \n49657                             0                          0   \n14135                             1                          0   \n90062                             0                          0   \n99449                             0                          0   \n64688                             0                          0   \n108606                            0                          1   \n15335                             0                          1   \n115360                            0                          1   \n118354                            0                          1   \n13403                             0                          0   \n49366                             0                          0   \n94792                             0                          0   \n47982                             0                          1   \n55912                             0                          0   \n76195                             0                          0   \n40932                             0                          1   \n16991                             0                          2   \n79558                             0                          0   \n49532                             0                          0   \n81605                             0                          1   \n787                               0                          2   \n81986                             0                          0   \n22445                             1                          0   \n28123                             0                          0   \n\n        reservation_status reservation_status_date  \n12567             Canceled              2017-05-12  \n49657             Canceled              2015-08-04  \n14135            Check-Out              2016-09-19  \n90062            Check-Out              2016-06-01  \n99449            Check-Out              2016-10-13  \n64688             Canceled              2017-02-06  \n108606           Check-Out              2017-03-30  \n15335            Check-Out              2015-07-08  \n115360           Check-Out              2017-07-05  \n118354           Check-Out              2017-08-19  \n13403             Canceled              2017-08-14  \n49366             Canceled              2016-03-28  \n94792            Check-Out              2016-08-10  \n47982            Check-Out              2016-03-14  \n55912             Canceled              2016-05-16  \n76195            Check-Out              2015-07-08  \n40932            Check-Out              2015-08-12  \n16991            Check-Out              2015-09-21  \n79558            Check-Out              2015-10-29  \n49532             Canceled              2016-01-18  \n81605            Check-Out              2016-06-21  \n787               Canceled              2015-07-10  \n81986             Canceled              2015-12-18  \n22445            Check-Out              2016-03-26  \n28123            Check-Out              2016-09-21  \n\n[25 rows x 32 columns]",
      "text/html": "<div>\n<style scoped>\n    .dataframe tbody tr th:only-of-type {\n        vertical-align: middle;\n    }\n\n    .dataframe tbody tr th {\n        vertical-align: top;\n    }\n\n    .dataframe thead th {\n        text-align: right;\n    }\n</style>\n<table border=\"1\" class=\"dataframe\">\n  <thead>\n    <tr style=\"text-align: right;\">\n      <th></th>\n      <th>hotel</th>\n      <th>is_canceled</th>\n      <th>lead_time</th>\n      <th>arrival_date_year</th>\n      <th>arrival_date_month</th>\n      <th>arrival_date_week_number</th>\n      <th>arrival_date_day_of_month</th>\n      <th>stays_in_weekend_nights</th>\n      <th>stays_in_week_nights</th>\n      <th>adults</th>\n      <th>...</th>\n      <th>deposit_type</th>\n      <th>agent</th>\n      <th>company</th>\n      <th>days_in_waiting_list</th>\n      <th>customer_type</th>\n      <th>adr</th>\n      <th>required_car_parking_spaces</th>\n      <th>total_of_special_requests</th>\n      <th>reservation_status</th>\n      <th>reservation_status_date</th>\n    </tr>\n  </thead>\n  <tbody>\n    <tr>\n      <th>12567</th>\n      <td>Resort Hotel</td>\n      <td>1</td>\n      <td>55</td>\n      <td>2017</td>\n      <td>July</td>\n      <td>27</td>\n      <td>4</td>\n      <td>2</td>\n      <td>8</td>\n      <td>2</td>\n      <td>...</td>\n      <td>No Deposit</td>\n      <td>531.0</td>\n      <td>NaN</td>\n      <td>0</td>\n      <td>Transient</td>\n      <td>92.00</td>\n      <td>0</td>\n      <td>0</td>\n      <td>Canceled</td>\n      <td>2017-05-12</td>\n    </tr>\n    <tr>\n      <th>49657</th>\n      <td>City Hotel</td>\n      <td>1</td>\n      <td>275</td>\n      <td>2016</td>\n      <td>April</td>\n      <td>17</td>\n      <td>17</td>\n      <td>2</td>\n      <td>0</td>\n      <td>2</td>\n      <td>...</td>\n      <td>Non Refund</td>\n      <td>12.0</td>\n      <td>NaN</td>\n      <td>0</td>\n      <td>Transient</td>\n      <td>110.00</td>\n      <td>0</td>\n      <td>0</td>\n      <td>Canceled</td>\n      <td>2015-08-04</td>\n    </tr>\n    <tr>\n      <th>14135</th>\n      <td>Resort Hotel</td>\n      <td>0</td>\n      <td>335</td>\n      <td>2016</td>\n      <td>September</td>\n      <td>38</td>\n      <td>14</td>\n      <td>1</td>\n      <td>4</td>\n      <td>1</td>\n      <td>...</td>\n      <td>No Deposit</td>\n      <td>NaN</td>\n      <td>223.0</td>\n      <td>0</td>\n      <td>Transient-Party</td>\n      <td>72.00</td>\n      <td>1</td>\n      <td>0</td>\n      <td>Check-Out</td>\n      <td>2016-09-19</td>\n    </tr>\n    <tr>\n      <th>90062</th>\n      <td>City Hotel</td>\n      <td>0</td>\n      <td>33</td>\n      <td>2016</td>\n      <td>May</td>\n      <td>23</td>\n      <td>29</td>\n      <td>2</td>\n      <td>1</td>\n      <td>2</td>\n      <td>...</td>\n      <td>No Deposit</td>\n      <td>42.0</td>\n      <td>NaN</td>\n      <td>0</td>\n      <td>Transient</td>\n      <td>85.50</td>\n      <td>0</td>\n      <td>0</td>\n      <td>Check-Out</td>\n      <td>2016-06-01</td>\n    </tr>\n    <tr>\n      <th>99449</th>\n      <td>City Hotel</td>\n      <td>0</td>\n      <td>182</td>\n      <td>2016</td>\n      <td>October</td>\n      <td>42</td>\n      <td>12</td>\n      <td>0</td>\n      <td>1</td>\n      <td>1</td>\n      <td>...</td>\n      <td>No Deposit</td>\n      <td>234.0</td>\n      <td>NaN</td>\n      <td>0</td>\n      <td>Transient-Party</td>\n      <td>120.00</td>\n      <td>0</td>\n      <td>0</td>\n      <td>Check-Out</td>\n      <td>2016-10-13</td>\n    </tr>\n    <tr>\n      <th>64688</th>\n      <td>City Hotel</td>\n      <td>1</td>\n      <td>37</td>\n      <td>2017</td>\n      <td>March</td>\n      <td>11</td>\n      <td>15</td>\n      <td>0</td>\n      <td>2</td>\n      <td>2</td>\n      <td>...</td>\n      <td>Non Refund</td>\n      <td>378.0</td>\n      <td>NaN</td>\n      <td>0</td>\n      <td>Transient</td>\n      <td>110.00</td>\n      <td>0</td>\n      <td>0</td>\n      <td>Canceled</td>\n      <td>2017-02-06</td>\n    </tr>\n    <tr>\n      <th>108606</th>\n      <td>City Hotel</td>\n      <td>0</td>\n      <td>211</td>\n      <td>2017</td>\n      <td>March</td>\n      <td>12</td>\n      <td>25</td>\n      <td>2</td>\n      <td>3</td>\n      <td>2</td>\n      <td>...</td>\n      <td>No Deposit</td>\n      <td>9.0</td>\n      <td>NaN</td>\n      <td>0</td>\n      <td>Transient</td>\n      <td>88.40</td>\n      <td>0</td>\n      <td>1</td>\n      <td>Check-Out</td>\n      <td>2017-03-30</td>\n    </tr>\n    <tr>\n      <th>15335</th>\n      <td>Resort Hotel</td>\n      <td>0</td>\n      <td>149</td>\n      <td>2015</td>\n      <td>July</td>\n      <td>27</td>\n      <td>1</td>\n      <td>2</td>\n      <td>5</td>\n      <td>2</td>\n      <td>...</td>\n      <td>No Deposit</td>\n      <td>156.0</td>\n      <td>NaN</td>\n      <td>0</td>\n      <td>Contract</td>\n      <td>69.60</td>\n      <td>0</td>\n      <td>1</td>\n      <td>Check-Out</td>\n      <td>2015-07-08</td>\n    </tr>\n    <tr>\n      <th>115360</th>\n      <td>City Hotel</td>\n      <td>0</td>\n      <td>462</td>\n      <td>2017</td>\n      <td>July</td>\n      <td>26</td>\n      <td>1</td>\n      <td>2</td>\n      <td>2</td>\n      <td>2</td>\n      <td>...</td>\n      <td>No Deposit</td>\n      <td>229.0</td>\n      <td>NaN</td>\n      <td>0</td>\n      <td>Transient-Party</td>\n      <td>107.00</td>\n      <td>0</td>\n      <td>1</td>\n      <td>Check-Out</td>\n      <td>2017-07-05</td>\n    </tr>\n    <tr>\n      <th>118354</th>\n      <td>City Hotel</td>\n      <td>0</td>\n      <td>135</td>\n      <td>2017</td>\n      <td>August</td>\n      <td>33</td>\n      <td>17</td>\n      <td>0</td>\n      <td>2</td>\n      <td>3</td>\n      <td>...</td>\n      <td>No Deposit</td>\n      <td>9.0</td>\n      <td>NaN</td>\n      <td>0</td>\n      <td>Transient</td>\n      <td>199.50</td>\n      <td>0</td>\n      <td>1</td>\n      <td>Check-Out</td>\n      <td>2017-08-19</td>\n    </tr>\n    <tr>\n      <th>13403</th>\n      <td>Resort Hotel</td>\n      <td>1</td>\n      <td>0</td>\n      <td>2017</td>\n      <td>August</td>\n      <td>33</td>\n      <td>14</td>\n      <td>1</td>\n      <td>0</td>\n      <td>2</td>\n      <td>...</td>\n      <td>No Deposit</td>\n      <td>240.0</td>\n      <td>NaN</td>\n      <td>0</td>\n      <td>Transient</td>\n      <td>230.00</td>\n      <td>0</td>\n      <td>0</td>\n      <td>Canceled</td>\n      <td>2017-08-14</td>\n    </tr>\n    <tr>\n      <th>49366</th>\n      <td>City Hotel</td>\n      <td>1</td>\n      <td>19</td>\n      <td>2016</td>\n      <td>April</td>\n      <td>16</td>\n      <td>11</td>\n      <td>1</td>\n      <td>4</td>\n      <td>2</td>\n      <td>...</td>\n      <td>No Deposit</td>\n      <td>9.0</td>\n      <td>NaN</td>\n      <td>0</td>\n      <td>Transient</td>\n      <td>111.40</td>\n      <td>0</td>\n      <td>0</td>\n      <td>Canceled</td>\n      <td>2016-03-28</td>\n    </tr>\n    <tr>\n      <th>94792</th>\n      <td>City Hotel</td>\n      <td>0</td>\n      <td>7</td>\n      <td>2016</td>\n      <td>August</td>\n      <td>33</td>\n      <td>9</td>\n      <td>0</td>\n      <td>1</td>\n      <td>1</td>\n      <td>...</td>\n      <td>No Deposit</td>\n      <td>NaN</td>\n      <td>40.0</td>\n      <td>0</td>\n      <td>Transient</td>\n      <td>65.00</td>\n      <td>0</td>\n      <td>0</td>\n      <td>Check-Out</td>\n      <td>2016-08-10</td>\n    </tr>\n    <tr>\n      <th>47982</th>\n      <td>City Hotel</td>\n      <td>0</td>\n      <td>87</td>\n      <td>2016</td>\n      <td>March</td>\n      <td>11</td>\n      <td>11</td>\n      <td>1</td>\n      <td>2</td>\n      <td>2</td>\n      <td>...</td>\n      <td>No Deposit</td>\n      <td>7.0</td>\n      <td>NaN</td>\n      <td>0</td>\n      <td>Transient</td>\n      <td>51.97</td>\n      <td>0</td>\n      <td>1</td>\n      <td>Check-Out</td>\n      <td>2016-03-14</td>\n    </tr>\n    <tr>\n      <th>55912</th>\n      <td>City Hotel</td>\n      <td>1</td>\n      <td>106</td>\n      <td>2016</td>\n      <td>August</td>\n      <td>35</td>\n      <td>24</td>\n      <td>0</td>\n      <td>4</td>\n      <td>3</td>\n      <td>...</td>\n      <td>No Deposit</td>\n      <td>9.0</td>\n      <td>NaN</td>\n      <td>0</td>\n      <td>Transient</td>\n      <td>152.10</td>\n      <td>0</td>\n      <td>0</td>\n      <td>Canceled</td>\n      <td>2016-05-16</td>\n    </tr>\n    <tr>\n      <th>76195</th>\n      <td>City Hotel</td>\n      <td>0</td>\n      <td>260</td>\n      <td>2015</td>\n      <td>July</td>\n      <td>27</td>\n      <td>4</td>\n      <td>2</td>\n      <td>2</td>\n      <td>2</td>\n      <td>...</td>\n      <td>No Deposit</td>\n      <td>1.0</td>\n      <td>NaN</td>\n      <td>0</td>\n      <td>Transient-Party</td>\n      <td>62.00</td>\n      <td>0</td>\n      <td>0</td>\n      <td>Check-Out</td>\n      <td>2015-07-08</td>\n    </tr>\n    <tr>\n      <th>40932</th>\n      <td>City Hotel</td>\n      <td>0</td>\n      <td>142</td>\n      <td>2015</td>\n      <td>August</td>\n      <td>33</td>\n      <td>9</td>\n      <td>2</td>\n      <td>1</td>\n      <td>2</td>\n      <td>...</td>\n      <td>No Deposit</td>\n      <td>NaN</td>\n      <td>NaN</td>\n      <td>0</td>\n      <td>Transient</td>\n      <td>76.50</td>\n      <td>0</td>\n      <td>1</td>\n      <td>Check-Out</td>\n      <td>2015-08-12</td>\n    </tr>\n    <tr>\n      <th>16991</th>\n      <td>Resort Hotel</td>\n      <td>0</td>\n      <td>258</td>\n      <td>2015</td>\n      <td>September</td>\n      <td>38</td>\n      <td>17</td>\n      <td>1</td>\n      <td>3</td>\n      <td>2</td>\n      <td>...</td>\n      <td>No Deposit</td>\n      <td>156.0</td>\n      <td>NaN</td>\n      <td>0</td>\n      <td>Contract</td>\n      <td>50.15</td>\n      <td>0</td>\n      <td>2</td>\n      <td>Check-Out</td>\n      <td>2015-09-21</td>\n    </tr>\n    <tr>\n      <th>79558</th>\n      <td>City Hotel</td>\n      <td>0</td>\n      <td>13</td>\n      <td>2015</td>\n      <td>October</td>\n      <td>43</td>\n      <td>22</td>\n      <td>2</td>\n      <td>5</td>\n      <td>2</td>\n      <td>...</td>\n      <td>No Deposit</td>\n      <td>83.0</td>\n      <td>NaN</td>\n      <td>0</td>\n      <td>Group</td>\n      <td>131.97</td>\n      <td>0</td>\n      <td>0</td>\n      <td>Check-Out</td>\n      <td>2015-10-29</td>\n    </tr>\n    <tr>\n      <th>49532</th>\n      <td>City Hotel</td>\n      <td>1</td>\n      <td>126</td>\n      <td>2016</td>\n      <td>April</td>\n      <td>16</td>\n      <td>14</td>\n      <td>0</td>\n      <td>3</td>\n      <td>2</td>\n      <td>...</td>\n      <td>Non Refund</td>\n      <td>1.0</td>\n      <td>NaN</td>\n      <td>39</td>\n      <td>Transient</td>\n      <td>65.00</td>\n      <td>0</td>\n      <td>0</td>\n      <td>Canceled</td>\n      <td>2016-01-18</td>\n    </tr>\n    <tr>\n      <th>81605</th>\n      <td>City Hotel</td>\n      <td>0</td>\n      <td>12</td>\n      <td>2016</td>\n      <td>June</td>\n      <td>26</td>\n      <td>20</td>\n      <td>1</td>\n      <td>0</td>\n      <td>1</td>\n      <td>...</td>\n      <td>No Deposit</td>\n      <td>NaN</td>\n      <td>40.0</td>\n      <td>0</td>\n      <td>Transient</td>\n      <td>65.00</td>\n      <td>0</td>\n      <td>1</td>\n      <td>Check-Out</td>\n      <td>2016-06-21</td>\n    </tr>\n    <tr>\n      <th>787</th>\n      <td>Resort Hotel</td>\n      <td>1</td>\n      <td>118</td>\n      <td>2015</td>\n      <td>July</td>\n      <td>31</td>\n      <td>29</td>\n      <td>1</td>\n      <td>4</td>\n      <td>2</td>\n      <td>...</td>\n      <td>No Deposit</td>\n      <td>240.0</td>\n      <td>NaN</td>\n      <td>0</td>\n      <td>Transient</td>\n      <td>186.00</td>\n      <td>0</td>\n      <td>2</td>\n      <td>Canceled</td>\n      <td>2015-07-10</td>\n    </tr>\n    <tr>\n      <th>81986</th>\n      <td>City Hotel</td>\n      <td>1</td>\n      <td>115</td>\n      <td>2016</td>\n      <td>March</td>\n      <td>13</td>\n      <td>20</td>\n      <td>2</td>\n      <td>0</td>\n      <td>1</td>\n      <td>...</td>\n      <td>Non Refund</td>\n      <td>41.0</td>\n      <td>NaN</td>\n      <td>22</td>\n      <td>Transient</td>\n      <td>70.00</td>\n      <td>0</td>\n      <td>0</td>\n      <td>Canceled</td>\n      <td>2015-12-18</td>\n    </tr>\n    <tr>\n      <th>22445</th>\n      <td>Resort Hotel</td>\n      <td>0</td>\n      <td>35</td>\n      <td>2016</td>\n      <td>March</td>\n      <td>13</td>\n      <td>22</td>\n      <td>0</td>\n      <td>4</td>\n      <td>2</td>\n      <td>...</td>\n      <td>No Deposit</td>\n      <td>250.0</td>\n      <td>NaN</td>\n      <td>0</td>\n      <td>Transient</td>\n      <td>95.50</td>\n      <td>1</td>\n      <td>0</td>\n      <td>Check-Out</td>\n      <td>2016-03-26</td>\n    </tr>\n    <tr>\n      <th>28123</th>\n      <td>Resort Hotel</td>\n      <td>0</td>\n      <td>1</td>\n      <td>2016</td>\n      <td>September</td>\n      <td>39</td>\n      <td>19</td>\n      <td>1</td>\n      <td>1</td>\n      <td>2</td>\n      <td>...</td>\n      <td>No Deposit</td>\n      <td>250.0</td>\n      <td>NaN</td>\n      <td>0</td>\n      <td>Transient</td>\n      <td>110.00</td>\n      <td>0</td>\n      <td>0</td>\n      <td>Check-Out</td>\n      <td>2016-09-21</td>\n    </tr>\n  </tbody>\n</table>\n<p>25 rows × 32 columns</p>\n</div>"
     },
     "execution_count": 11,
     "metadata": {},
     "output_type": "execute_result"
    }
   ],
   "source": [
    "hotel.sample(25)"
   ],
   "metadata": {
    "collapsed": false,
    "ExecuteTime": {
     "end_time": "2024-03-27T23:06:18.859442Z",
     "start_time": "2024-03-27T23:06:18.843688Z"
    }
   },
   "id": "61551bd370176683",
   "execution_count": 11
  },
  {
   "cell_type": "code",
   "outputs": [
    {
     "data": {
      "text/plain": "hotel                              object\nis_canceled                         int64\nlead_time                           int64\narrival_date_year                   int64\narrival_date_month                 object\narrival_date_week_number            int64\narrival_date_day_of_month           int64\nstays_in_weekend_nights             int64\nstays_in_week_nights                int64\nadults                              int64\nchildren                          float64\nbabies                              int64\nmeal                               object\ncountry                            object\nmarket_segment                     object\ndistribution_channel               object\nis_repeated_guest                   int64\nprevious_cancellations              int64\nprevious_bookings_not_canceled      int64\nreserved_room_type                 object\nassigned_room_type                 object\nbooking_changes                     int64\ndeposit_type                       object\nagent                             float64\ncompany                           float64\ndays_in_waiting_list                int64\ncustomer_type                      object\nadr                               float64\nrequired_car_parking_spaces         int64\ntotal_of_special_requests           int64\nreservation_status                 object\nreservation_status_date            object\ndtype: object"
     },
     "execution_count": 12,
     "metadata": {},
     "output_type": "execute_result"
    }
   ],
   "source": [
    "hotel.dtypes"
   ],
   "metadata": {
    "collapsed": false,
    "ExecuteTime": {
     "end_time": "2024-03-27T23:06:19.035910Z",
     "start_time": "2024-03-27T23:06:19.032454Z"
    }
   },
   "id": "3444dabc6782fd7b",
   "execution_count": 12
  },
  {
   "cell_type": "code",
   "outputs": [],
   "source": [
    "hotel_copy = hotel.copy()[['lead_time', 'adr', 'arrival_date_day_of_month', 'stays_in_week_nights', 'stays_in_weekend_nights', ]]"
   ],
   "metadata": {
    "collapsed": false,
    "ExecuteTime": {
     "end_time": "2024-03-27T23:06:19.170654Z",
     "start_time": "2024-03-27T23:06:19.157446Z"
    }
   },
   "id": "5897511778732bc",
   "execution_count": 13
  },
  {
   "cell_type": "code",
   "outputs": [
    {
     "data": {
      "text/plain": "       lead_time   adr  arrival_date_day_of_month  stays_in_week_nights  \\\n89987        102  65.0                          5                     0   \n\n       stays_in_weekend_nights  \n89987                        1  ",
      "text/html": "<div>\n<style scoped>\n    .dataframe tbody tr th:only-of-type {\n        vertical-align: middle;\n    }\n\n    .dataframe tbody tr th {\n        vertical-align: top;\n    }\n\n    .dataframe thead th {\n        text-align: right;\n    }\n</style>\n<table border=\"1\" class=\"dataframe\">\n  <thead>\n    <tr style=\"text-align: right;\">\n      <th></th>\n      <th>lead_time</th>\n      <th>adr</th>\n      <th>arrival_date_day_of_month</th>\n      <th>stays_in_week_nights</th>\n      <th>stays_in_weekend_nights</th>\n    </tr>\n  </thead>\n  <tbody>\n    <tr>\n      <th>89987</th>\n      <td>102</td>\n      <td>65.0</td>\n      <td>5</td>\n      <td>0</td>\n      <td>1</td>\n    </tr>\n  </tbody>\n</table>\n</div>"
     },
     "execution_count": 14,
     "metadata": {},
     "output_type": "execute_result"
    }
   ],
   "source": [
    "hotel_copy.sample()"
   ],
   "metadata": {
    "collapsed": false,
    "ExecuteTime": {
     "end_time": "2024-03-27T23:06:19.323768Z",
     "start_time": "2024-03-27T23:06:19.318180Z"
    }
   },
   "id": "35f4f5b577797de4",
   "execution_count": 14
  },
  {
   "cell_type": "code",
   "outputs": [],
   "source": [
    "from collections import Counter\n",
    "def my_mode(sample):\n",
    "    c = Counter(sample).most_common(1)[0][0]\n",
    "    return c"
   ],
   "metadata": {
    "collapsed": false,
    "ExecuteTime": {
     "end_time": "2024-03-27T23:06:19.469530Z",
     "start_time": "2024-03-27T23:06:19.467406Z"
    }
   },
   "id": "e19840ec983183d4",
   "execution_count": 15
  },
  {
   "cell_type": "code",
   "outputs": [
    {
     "data": {
      "text/plain": "17"
     },
     "execution_count": 16,
     "metadata": {},
     "output_type": "execute_result"
    }
   ],
   "source": [
    "my_mode(hotel_copy['arrival_date_day_of_month'])"
   ],
   "metadata": {
    "collapsed": false,
    "ExecuteTime": {
     "end_time": "2024-03-27T23:06:19.666463Z",
     "start_time": "2024-03-27T23:06:19.654710Z"
    }
   },
   "id": "116645b661acaed9",
   "execution_count": 16
  },
  {
   "cell_type": "code",
   "outputs": [],
   "source": [
    "def mtc(data):\n",
    "    data_mtc = round(data.agg({'mean', 'median', my_mode, 'max', 'min'}), 2)\n",
    "    return data_mtc"
   ],
   "metadata": {
    "collapsed": false,
    "ExecuteTime": {
     "end_time": "2024-03-27T23:06:19.854567Z",
     "start_time": "2024-03-27T23:06:19.851969Z"
    }
   },
   "id": "40087ca4d7e455d0",
   "execution_count": 17
  },
  {
   "cell_type": "code",
   "outputs": [
    {
     "data": {
      "text/plain": "         lead_time      adr  arrival_date_day_of_month  stays_in_week_nights  \\\nmy_mode       0.00    62.00                       17.0                   2.0   \nmean        104.01   101.83                       15.8                   2.5   \nmin           0.00    -6.38                        1.0                   0.0   \nmax         737.00  5400.00                       31.0                  50.0   \nmedian       69.00    94.58                       16.0                   2.0   \n\n         stays_in_weekend_nights  \nmy_mode                     0.00  \nmean                        0.93  \nmin                         0.00  \nmax                        19.00  \nmedian                      1.00  ",
      "text/html": "<div>\n<style scoped>\n    .dataframe tbody tr th:only-of-type {\n        vertical-align: middle;\n    }\n\n    .dataframe tbody tr th {\n        vertical-align: top;\n    }\n\n    .dataframe thead th {\n        text-align: right;\n    }\n</style>\n<table border=\"1\" class=\"dataframe\">\n  <thead>\n    <tr style=\"text-align: right;\">\n      <th></th>\n      <th>lead_time</th>\n      <th>adr</th>\n      <th>arrival_date_day_of_month</th>\n      <th>stays_in_week_nights</th>\n      <th>stays_in_weekend_nights</th>\n    </tr>\n  </thead>\n  <tbody>\n    <tr>\n      <th>my_mode</th>\n      <td>0.00</td>\n      <td>62.00</td>\n      <td>17.0</td>\n      <td>2.0</td>\n      <td>0.00</td>\n    </tr>\n    <tr>\n      <th>mean</th>\n      <td>104.01</td>\n      <td>101.83</td>\n      <td>15.8</td>\n      <td>2.5</td>\n      <td>0.93</td>\n    </tr>\n    <tr>\n      <th>min</th>\n      <td>0.00</td>\n      <td>-6.38</td>\n      <td>1.0</td>\n      <td>0.0</td>\n      <td>0.00</td>\n    </tr>\n    <tr>\n      <th>max</th>\n      <td>737.00</td>\n      <td>5400.00</td>\n      <td>31.0</td>\n      <td>50.0</td>\n      <td>19.00</td>\n    </tr>\n    <tr>\n      <th>median</th>\n      <td>69.00</td>\n      <td>94.58</td>\n      <td>16.0</td>\n      <td>2.0</td>\n      <td>1.00</td>\n    </tr>\n  </tbody>\n</table>\n</div>"
     },
     "execution_count": 18,
     "metadata": {},
     "output_type": "execute_result"
    }
   ],
   "source": [
    "mtc(hotel_copy)"
   ],
   "metadata": {
    "collapsed": false,
    "ExecuteTime": {
     "end_time": "2024-03-27T23:06:20.052333Z",
     "start_time": "2024-03-27T23:06:19.989288Z"
    }
   },
   "id": "bce9c309221689d5",
   "execution_count": 18
  },
  {
   "cell_type": "code",
   "outputs": [],
   "source": [
    "group_by_month = hotel.copy()[['hotel', 'lead_time', 'adr', 'arrival_date_day_of_month', 'stays_in_week_nights', 'stays_in_weekend_nights']].groupby('hotel').mean()"
   ],
   "metadata": {
    "collapsed": false,
    "ExecuteTime": {
     "end_time": "2024-03-27T23:06:20.195313Z",
     "start_time": "2024-03-27T23:06:20.173041Z"
    }
   },
   "id": "16e80b2f727e1d43",
   "execution_count": 19
  },
  {
   "cell_type": "code",
   "outputs": [
    {
     "data": {
      "text/plain": "               lead_time         adr  arrival_date_day_of_month  \\\nhotel                                                             \nCity Hotel    109.735724  105.304465                  15.786625   \nResort Hotel   92.675686   94.952930                  15.821243   \n\n              stays_in_week_nights  stays_in_weekend_nights  \nhotel                                                        \nCity Hotel                2.182957                 0.795185  \nResort Hotel              3.128732                 1.189815  ",
      "text/html": "<div>\n<style scoped>\n    .dataframe tbody tr th:only-of-type {\n        vertical-align: middle;\n    }\n\n    .dataframe tbody tr th {\n        vertical-align: top;\n    }\n\n    .dataframe thead th {\n        text-align: right;\n    }\n</style>\n<table border=\"1\" class=\"dataframe\">\n  <thead>\n    <tr style=\"text-align: right;\">\n      <th></th>\n      <th>lead_time</th>\n      <th>adr</th>\n      <th>arrival_date_day_of_month</th>\n      <th>stays_in_week_nights</th>\n      <th>stays_in_weekend_nights</th>\n    </tr>\n    <tr>\n      <th>hotel</th>\n      <th></th>\n      <th></th>\n      <th></th>\n      <th></th>\n      <th></th>\n    </tr>\n  </thead>\n  <tbody>\n    <tr>\n      <th>City Hotel</th>\n      <td>109.735724</td>\n      <td>105.304465</td>\n      <td>15.786625</td>\n      <td>2.182957</td>\n      <td>0.795185</td>\n    </tr>\n    <tr>\n      <th>Resort Hotel</th>\n      <td>92.675686</td>\n      <td>94.952930</td>\n      <td>15.821243</td>\n      <td>3.128732</td>\n      <td>1.189815</td>\n    </tr>\n  </tbody>\n</table>\n</div>"
     },
     "execution_count": 20,
     "metadata": {},
     "output_type": "execute_result"
    }
   ],
   "source": [
    "group_by_month\n"
   ],
   "metadata": {
    "collapsed": false,
    "ExecuteTime": {
     "end_time": "2024-03-27T23:06:20.353070Z",
     "start_time": "2024-03-27T23:06:20.348841Z"
    }
   },
   "id": "faa2684fae0bc320",
   "execution_count": 20
  },
  {
   "cell_type": "code",
   "outputs": [],
   "source": [
    "hotel2 = hotel.copy()"
   ],
   "metadata": {
    "collapsed": false,
    "ExecuteTime": {
     "end_time": "2024-03-27T23:06:20.548217Z",
     "start_time": "2024-03-27T23:06:20.540097Z"
    }
   },
   "id": "af6f1fffe753f753",
   "execution_count": 21
  },
  {
   "cell_type": "code",
   "outputs": [
    {
     "data": {
      "text/plain": "0          True\n1          True\n2          True\n3          True\n4          True\n          ...  \n119385    False\n119386    False\n119387    False\n119388    False\n119389    False\nName: hotel, Length: 119390, dtype: bool"
     },
     "execution_count": 22,
     "metadata": {},
     "output_type": "execute_result"
    }
   ],
   "source": [
    "hotel2['hotel'] == 'Resort Hotel'"
   ],
   "metadata": {
    "collapsed": false,
    "ExecuteTime": {
     "end_time": "2024-03-27T23:06:20.754212Z",
     "start_time": "2024-03-27T23:06:20.744939Z"
    }
   },
   "id": "9b81e509a3274449",
   "execution_count": 22
  },
  {
   "cell_type": "code",
   "outputs": [
    {
     "data": {
      "text/plain": "                     adr\nhotel                   \nResort Hotel  165.748965",
      "text/html": "<div>\n<style scoped>\n    .dataframe tbody tr th:only-of-type {\n        vertical-align: middle;\n    }\n\n    .dataframe tbody tr th {\n        vertical-align: top;\n    }\n\n    .dataframe thead th {\n        text-align: right;\n    }\n</style>\n<table border=\"1\" class=\"dataframe\">\n  <thead>\n    <tr style=\"text-align: right;\">\n      <th></th>\n      <th>adr</th>\n    </tr>\n    <tr>\n      <th>hotel</th>\n      <th></th>\n    </tr>\n  </thead>\n  <tbody>\n    <tr>\n      <th>Resort Hotel</th>\n      <td>165.748965</td>\n    </tr>\n  </tbody>\n</table>\n</div>"
     },
     "execution_count": 23,
     "metadata": {},
     "output_type": "execute_result"
    }
   ],
   "source": [
    "hotel2.loc[(hotel2['hotel']=='Resort Hotel') & (hotel2['adr'] > 100)][['hotel', 'adr']].groupby('hotel').mean()"
   ],
   "metadata": {
    "collapsed": false,
    "ExecuteTime": {
     "end_time": "2024-03-27T23:06:20.949531Z",
     "start_time": "2024-03-27T23:06:20.937215Z"
    }
   },
   "id": "f866770b309e8f6e",
   "execution_count": 23
  },
  {
   "cell_type": "code",
   "outputs": [
    {
     "data": {
      "text/plain": "                                        adr\nhotel        arrival_date_month            \nCity Hotel   April               111.251838\n             August              114.680455\n             December             88.826307\n             February             85.088278\n             January              82.628986\n             July                110.734292\n             June                119.074341\n             March                92.643116\n             May                 121.638560\n             November             88.069601\n             October              99.974498\n             September           110.004661\nResort Hotel April                77.849496\n             August              186.790574\n             December             68.984230\n             February             55.171930\n             January              49.461883\n             July                155.181299\n             June                110.444749\n             March                57.520147\n             May                  78.758134\n             November             48.273993\n             October              62.097617\n             September            93.252030",
      "text/html": "<div>\n<style scoped>\n    .dataframe tbody tr th:only-of-type {\n        vertical-align: middle;\n    }\n\n    .dataframe tbody tr th {\n        vertical-align: top;\n    }\n\n    .dataframe thead th {\n        text-align: right;\n    }\n</style>\n<table border=\"1\" class=\"dataframe\">\n  <thead>\n    <tr style=\"text-align: right;\">\n      <th></th>\n      <th></th>\n      <th>adr</th>\n    </tr>\n    <tr>\n      <th>hotel</th>\n      <th>arrival_date_month</th>\n      <th></th>\n    </tr>\n  </thead>\n  <tbody>\n    <tr>\n      <th rowspan=\"12\" valign=\"top\">City Hotel</th>\n      <th>April</th>\n      <td>111.251838</td>\n    </tr>\n    <tr>\n      <th>August</th>\n      <td>114.680455</td>\n    </tr>\n    <tr>\n      <th>December</th>\n      <td>88.826307</td>\n    </tr>\n    <tr>\n      <th>February</th>\n      <td>85.088278</td>\n    </tr>\n    <tr>\n      <th>January</th>\n      <td>82.628986</td>\n    </tr>\n    <tr>\n      <th>July</th>\n      <td>110.734292</td>\n    </tr>\n    <tr>\n      <th>June</th>\n      <td>119.074341</td>\n    </tr>\n    <tr>\n      <th>March</th>\n      <td>92.643116</td>\n    </tr>\n    <tr>\n      <th>May</th>\n      <td>121.638560</td>\n    </tr>\n    <tr>\n      <th>November</th>\n      <td>88.069601</td>\n    </tr>\n    <tr>\n      <th>October</th>\n      <td>99.974498</td>\n    </tr>\n    <tr>\n      <th>September</th>\n      <td>110.004661</td>\n    </tr>\n    <tr>\n      <th rowspan=\"12\" valign=\"top\">Resort Hotel</th>\n      <th>April</th>\n      <td>77.849496</td>\n    </tr>\n    <tr>\n      <th>August</th>\n      <td>186.790574</td>\n    </tr>\n    <tr>\n      <th>December</th>\n      <td>68.984230</td>\n    </tr>\n    <tr>\n      <th>February</th>\n      <td>55.171930</td>\n    </tr>\n    <tr>\n      <th>January</th>\n      <td>49.461883</td>\n    </tr>\n    <tr>\n      <th>July</th>\n      <td>155.181299</td>\n    </tr>\n    <tr>\n      <th>June</th>\n      <td>110.444749</td>\n    </tr>\n    <tr>\n      <th>March</th>\n      <td>57.520147</td>\n    </tr>\n    <tr>\n      <th>May</th>\n      <td>78.758134</td>\n    </tr>\n    <tr>\n      <th>November</th>\n      <td>48.273993</td>\n    </tr>\n    <tr>\n      <th>October</th>\n      <td>62.097617</td>\n    </tr>\n    <tr>\n      <th>September</th>\n      <td>93.252030</td>\n    </tr>\n  </tbody>\n</table>\n</div>"
     },
     "execution_count": 24,
     "metadata": {},
     "output_type": "execute_result"
    }
   ],
   "source": [
    "hotel2[['hotel', 'adr', 'arrival_date_month']].groupby(['hotel', 'arrival_date_month']).mean()"
   ],
   "metadata": {
    "collapsed": false,
    "ExecuteTime": {
     "end_time": "2024-03-27T23:06:21.131813Z",
     "start_time": "2024-03-27T23:06:21.115267Z"
    }
   },
   "id": "170ca2bbd9a3d5d3",
   "execution_count": 24
  },
  {
   "cell_type": "code",
   "outputs": [
    {
     "data": {
      "text/plain": "               hotel  is_canceled  lead_time  arrival_date_year  \\\n0       Resort Hotel            0        342               2015   \n1       Resort Hotel            0        737               2015   \n2       Resort Hotel            0          7               2015   \n3       Resort Hotel            0         13               2015   \n4       Resort Hotel            0         14               2015   \n...              ...          ...        ...                ...   \n119385    City Hotel            0         23               2017   \n119386    City Hotel            0        102               2017   \n119387    City Hotel            0         34               2017   \n119388    City Hotel            0        109               2017   \n119389    City Hotel            0        205               2017   \n\n       arrival_date_month  arrival_date_week_number  \\\n0                    July                        27   \n1                    July                        27   \n2                    July                        27   \n3                    July                        27   \n4                    July                        27   \n...                   ...                       ...   \n119385             August                        35   \n119386             August                        35   \n119387             August                        35   \n119388             August                        35   \n119389             August                        35   \n\n        arrival_date_day_of_month  stays_in_weekend_nights  \\\n0                               1                        0   \n1                               1                        0   \n2                               1                        0   \n3                               1                        0   \n4                               1                        0   \n...                           ...                      ...   \n119385                         30                        2   \n119386                         31                        2   \n119387                         31                        2   \n119388                         31                        2   \n119389                         29                        2   \n\n        stays_in_week_nights  adults  ...  deposit_type  agent company  \\\n0                          0       2  ...    No Deposit    NaN     NaN   \n1                          0       2  ...    No Deposit    NaN     NaN   \n2                          1       1  ...    No Deposit    NaN     NaN   \n3                          1       1  ...    No Deposit  304.0     NaN   \n4                          2       2  ...    No Deposit  240.0     NaN   \n...                      ...     ...  ...           ...    ...     ...   \n119385                     5       2  ...    No Deposit  394.0     NaN   \n119386                     5       3  ...    No Deposit    9.0     NaN   \n119387                     5       2  ...    No Deposit    9.0     NaN   \n119388                     5       2  ...    No Deposit   89.0     NaN   \n119389                     7       2  ...    No Deposit    9.0     NaN   \n\n       days_in_waiting_list customer_type     adr  \\\n0                         0     Transient    0.00   \n1                         0     Transient    0.00   \n2                         0     Transient   75.00   \n3                         0     Transient   75.00   \n4                         0     Transient   98.00   \n...                     ...           ...     ...   \n119385                    0     Transient   96.14   \n119386                    0     Transient  225.43   \n119387                    0     Transient  157.71   \n119388                    0     Transient  104.40   \n119389                    0     Transient  151.20   \n\n        required_car_parking_spaces  total_of_special_requests  \\\n0                                 0                          0   \n1                                 0                          0   \n2                                 0                          0   \n3                                 0                          0   \n4                                 0                          1   \n...                             ...                        ...   \n119385                            0                          0   \n119386                            0                          2   \n119387                            0                          4   \n119388                            0                          0   \n119389                            0                          2   \n\n        reservation_status reservation_status_date  \n0                Check-Out              2015-07-01  \n1                Check-Out              2015-07-01  \n2                Check-Out              2015-07-02  \n3                Check-Out              2015-07-02  \n4                Check-Out              2015-07-03  \n...                    ...                     ...  \n119385           Check-Out              2017-09-06  \n119386           Check-Out              2017-09-07  \n119387           Check-Out              2017-09-07  \n119388           Check-Out              2017-09-07  \n119389           Check-Out              2017-09-07  \n\n[119390 rows x 32 columns]",
      "text/html": "<div>\n<style scoped>\n    .dataframe tbody tr th:only-of-type {\n        vertical-align: middle;\n    }\n\n    .dataframe tbody tr th {\n        vertical-align: top;\n    }\n\n    .dataframe thead th {\n        text-align: right;\n    }\n</style>\n<table border=\"1\" class=\"dataframe\">\n  <thead>\n    <tr style=\"text-align: right;\">\n      <th></th>\n      <th>hotel</th>\n      <th>is_canceled</th>\n      <th>lead_time</th>\n      <th>arrival_date_year</th>\n      <th>arrival_date_month</th>\n      <th>arrival_date_week_number</th>\n      <th>arrival_date_day_of_month</th>\n      <th>stays_in_weekend_nights</th>\n      <th>stays_in_week_nights</th>\n      <th>adults</th>\n      <th>...</th>\n      <th>deposit_type</th>\n      <th>agent</th>\n      <th>company</th>\n      <th>days_in_waiting_list</th>\n      <th>customer_type</th>\n      <th>adr</th>\n      <th>required_car_parking_spaces</th>\n      <th>total_of_special_requests</th>\n      <th>reservation_status</th>\n      <th>reservation_status_date</th>\n    </tr>\n  </thead>\n  <tbody>\n    <tr>\n      <th>0</th>\n      <td>Resort Hotel</td>\n      <td>0</td>\n      <td>342</td>\n      <td>2015</td>\n      <td>July</td>\n      <td>27</td>\n      <td>1</td>\n      <td>0</td>\n      <td>0</td>\n      <td>2</td>\n      <td>...</td>\n      <td>No Deposit</td>\n      <td>NaN</td>\n      <td>NaN</td>\n      <td>0</td>\n      <td>Transient</td>\n      <td>0.00</td>\n      <td>0</td>\n      <td>0</td>\n      <td>Check-Out</td>\n      <td>2015-07-01</td>\n    </tr>\n    <tr>\n      <th>1</th>\n      <td>Resort Hotel</td>\n      <td>0</td>\n      <td>737</td>\n      <td>2015</td>\n      <td>July</td>\n      <td>27</td>\n      <td>1</td>\n      <td>0</td>\n      <td>0</td>\n      <td>2</td>\n      <td>...</td>\n      <td>No Deposit</td>\n      <td>NaN</td>\n      <td>NaN</td>\n      <td>0</td>\n      <td>Transient</td>\n      <td>0.00</td>\n      <td>0</td>\n      <td>0</td>\n      <td>Check-Out</td>\n      <td>2015-07-01</td>\n    </tr>\n    <tr>\n      <th>2</th>\n      <td>Resort Hotel</td>\n      <td>0</td>\n      <td>7</td>\n      <td>2015</td>\n      <td>July</td>\n      <td>27</td>\n      <td>1</td>\n      <td>0</td>\n      <td>1</td>\n      <td>1</td>\n      <td>...</td>\n      <td>No Deposit</td>\n      <td>NaN</td>\n      <td>NaN</td>\n      <td>0</td>\n      <td>Transient</td>\n      <td>75.00</td>\n      <td>0</td>\n      <td>0</td>\n      <td>Check-Out</td>\n      <td>2015-07-02</td>\n    </tr>\n    <tr>\n      <th>3</th>\n      <td>Resort Hotel</td>\n      <td>0</td>\n      <td>13</td>\n      <td>2015</td>\n      <td>July</td>\n      <td>27</td>\n      <td>1</td>\n      <td>0</td>\n      <td>1</td>\n      <td>1</td>\n      <td>...</td>\n      <td>No Deposit</td>\n      <td>304.0</td>\n      <td>NaN</td>\n      <td>0</td>\n      <td>Transient</td>\n      <td>75.00</td>\n      <td>0</td>\n      <td>0</td>\n      <td>Check-Out</td>\n      <td>2015-07-02</td>\n    </tr>\n    <tr>\n      <th>4</th>\n      <td>Resort Hotel</td>\n      <td>0</td>\n      <td>14</td>\n      <td>2015</td>\n      <td>July</td>\n      <td>27</td>\n      <td>1</td>\n      <td>0</td>\n      <td>2</td>\n      <td>2</td>\n      <td>...</td>\n      <td>No Deposit</td>\n      <td>240.0</td>\n      <td>NaN</td>\n      <td>0</td>\n      <td>Transient</td>\n      <td>98.00</td>\n      <td>0</td>\n      <td>1</td>\n      <td>Check-Out</td>\n      <td>2015-07-03</td>\n    </tr>\n    <tr>\n      <th>...</th>\n      <td>...</td>\n      <td>...</td>\n      <td>...</td>\n      <td>...</td>\n      <td>...</td>\n      <td>...</td>\n      <td>...</td>\n      <td>...</td>\n      <td>...</td>\n      <td>...</td>\n      <td>...</td>\n      <td>...</td>\n      <td>...</td>\n      <td>...</td>\n      <td>...</td>\n      <td>...</td>\n      <td>...</td>\n      <td>...</td>\n      <td>...</td>\n      <td>...</td>\n      <td>...</td>\n    </tr>\n    <tr>\n      <th>119385</th>\n      <td>City Hotel</td>\n      <td>0</td>\n      <td>23</td>\n      <td>2017</td>\n      <td>August</td>\n      <td>35</td>\n      <td>30</td>\n      <td>2</td>\n      <td>5</td>\n      <td>2</td>\n      <td>...</td>\n      <td>No Deposit</td>\n      <td>394.0</td>\n      <td>NaN</td>\n      <td>0</td>\n      <td>Transient</td>\n      <td>96.14</td>\n      <td>0</td>\n      <td>0</td>\n      <td>Check-Out</td>\n      <td>2017-09-06</td>\n    </tr>\n    <tr>\n      <th>119386</th>\n      <td>City Hotel</td>\n      <td>0</td>\n      <td>102</td>\n      <td>2017</td>\n      <td>August</td>\n      <td>35</td>\n      <td>31</td>\n      <td>2</td>\n      <td>5</td>\n      <td>3</td>\n      <td>...</td>\n      <td>No Deposit</td>\n      <td>9.0</td>\n      <td>NaN</td>\n      <td>0</td>\n      <td>Transient</td>\n      <td>225.43</td>\n      <td>0</td>\n      <td>2</td>\n      <td>Check-Out</td>\n      <td>2017-09-07</td>\n    </tr>\n    <tr>\n      <th>119387</th>\n      <td>City Hotel</td>\n      <td>0</td>\n      <td>34</td>\n      <td>2017</td>\n      <td>August</td>\n      <td>35</td>\n      <td>31</td>\n      <td>2</td>\n      <td>5</td>\n      <td>2</td>\n      <td>...</td>\n      <td>No Deposit</td>\n      <td>9.0</td>\n      <td>NaN</td>\n      <td>0</td>\n      <td>Transient</td>\n      <td>157.71</td>\n      <td>0</td>\n      <td>4</td>\n      <td>Check-Out</td>\n      <td>2017-09-07</td>\n    </tr>\n    <tr>\n      <th>119388</th>\n      <td>City Hotel</td>\n      <td>0</td>\n      <td>109</td>\n      <td>2017</td>\n      <td>August</td>\n      <td>35</td>\n      <td>31</td>\n      <td>2</td>\n      <td>5</td>\n      <td>2</td>\n      <td>...</td>\n      <td>No Deposit</td>\n      <td>89.0</td>\n      <td>NaN</td>\n      <td>0</td>\n      <td>Transient</td>\n      <td>104.40</td>\n      <td>0</td>\n      <td>0</td>\n      <td>Check-Out</td>\n      <td>2017-09-07</td>\n    </tr>\n    <tr>\n      <th>119389</th>\n      <td>City Hotel</td>\n      <td>0</td>\n      <td>205</td>\n      <td>2017</td>\n      <td>August</td>\n      <td>35</td>\n      <td>29</td>\n      <td>2</td>\n      <td>7</td>\n      <td>2</td>\n      <td>...</td>\n      <td>No Deposit</td>\n      <td>9.0</td>\n      <td>NaN</td>\n      <td>0</td>\n      <td>Transient</td>\n      <td>151.20</td>\n      <td>0</td>\n      <td>2</td>\n      <td>Check-Out</td>\n      <td>2017-09-07</td>\n    </tr>\n  </tbody>\n</table>\n<p>119390 rows × 32 columns</p>\n</div>"
     },
     "execution_count": 25,
     "metadata": {},
     "output_type": "execute_result"
    }
   ],
   "source": [
    "hotel2\n"
   ],
   "metadata": {
    "collapsed": false,
    "ExecuteTime": {
     "end_time": "2024-03-27T23:06:21.542462Z",
     "start_time": "2024-03-27T23:06:21.503077Z"
    }
   },
   "id": "9763ccaca0e17343",
   "execution_count": 25
  },
  {
   "cell_type": "code",
   "outputs": [],
   "source": [
    "hotel2['total_rooms_nights'] = hotel2['stays_in_week_nights'] + hotel2['stays_in_weekend_nights']"
   ],
   "metadata": {
    "collapsed": false,
    "ExecuteTime": {
     "end_time": "2024-03-27T23:06:21.970594Z",
     "start_time": "2024-03-27T23:06:21.967350Z"
    }
   },
   "id": "77d3462b2908b90f",
   "execution_count": 26
  },
  {
   "cell_type": "code",
   "outputs": [
    {
     "data": {
      "text/plain": "          hotel  is_canceled  lead_time  arrival_date_year arrival_date_month  \\\n0  Resort Hotel            0        342               2015               July   \n1  Resort Hotel            0        737               2015               July   \n2  Resort Hotel            0          7               2015               July   \n3  Resort Hotel            0         13               2015               July   \n4  Resort Hotel            0         14               2015               July   \n\n   arrival_date_week_number  arrival_date_day_of_month  \\\n0                        27                          1   \n1                        27                          1   \n2                        27                          1   \n3                        27                          1   \n4                        27                          1   \n\n   stays_in_weekend_nights  stays_in_week_nights  adults  ...  agent  company  \\\n0                        0                     0       2  ...    NaN      NaN   \n1                        0                     0       2  ...    NaN      NaN   \n2                        0                     1       1  ...    NaN      NaN   \n3                        0                     1       1  ...  304.0      NaN   \n4                        0                     2       2  ...  240.0      NaN   \n\n  days_in_waiting_list customer_type   adr required_car_parking_spaces  \\\n0                    0     Transient   0.0                           0   \n1                    0     Transient   0.0                           0   \n2                    0     Transient  75.0                           0   \n3                    0     Transient  75.0                           0   \n4                    0     Transient  98.0                           0   \n\n   total_of_special_requests  reservation_status  reservation_status_date  \\\n0                          0           Check-Out               2015-07-01   \n1                          0           Check-Out               2015-07-01   \n2                          0           Check-Out               2015-07-02   \n3                          0           Check-Out               2015-07-02   \n4                          1           Check-Out               2015-07-03   \n\n  total_rooms_nights  \n0                  0  \n1                  0  \n2                  1  \n3                  1  \n4                  2  \n\n[5 rows x 33 columns]",
      "text/html": "<div>\n<style scoped>\n    .dataframe tbody tr th:only-of-type {\n        vertical-align: middle;\n    }\n\n    .dataframe tbody tr th {\n        vertical-align: top;\n    }\n\n    .dataframe thead th {\n        text-align: right;\n    }\n</style>\n<table border=\"1\" class=\"dataframe\">\n  <thead>\n    <tr style=\"text-align: right;\">\n      <th></th>\n      <th>hotel</th>\n      <th>is_canceled</th>\n      <th>lead_time</th>\n      <th>arrival_date_year</th>\n      <th>arrival_date_month</th>\n      <th>arrival_date_week_number</th>\n      <th>arrival_date_day_of_month</th>\n      <th>stays_in_weekend_nights</th>\n      <th>stays_in_week_nights</th>\n      <th>adults</th>\n      <th>...</th>\n      <th>agent</th>\n      <th>company</th>\n      <th>days_in_waiting_list</th>\n      <th>customer_type</th>\n      <th>adr</th>\n      <th>required_car_parking_spaces</th>\n      <th>total_of_special_requests</th>\n      <th>reservation_status</th>\n      <th>reservation_status_date</th>\n      <th>total_rooms_nights</th>\n    </tr>\n  </thead>\n  <tbody>\n    <tr>\n      <th>0</th>\n      <td>Resort Hotel</td>\n      <td>0</td>\n      <td>342</td>\n      <td>2015</td>\n      <td>July</td>\n      <td>27</td>\n      <td>1</td>\n      <td>0</td>\n      <td>0</td>\n      <td>2</td>\n      <td>...</td>\n      <td>NaN</td>\n      <td>NaN</td>\n      <td>0</td>\n      <td>Transient</td>\n      <td>0.0</td>\n      <td>0</td>\n      <td>0</td>\n      <td>Check-Out</td>\n      <td>2015-07-01</td>\n      <td>0</td>\n    </tr>\n    <tr>\n      <th>1</th>\n      <td>Resort Hotel</td>\n      <td>0</td>\n      <td>737</td>\n      <td>2015</td>\n      <td>July</td>\n      <td>27</td>\n      <td>1</td>\n      <td>0</td>\n      <td>0</td>\n      <td>2</td>\n      <td>...</td>\n      <td>NaN</td>\n      <td>NaN</td>\n      <td>0</td>\n      <td>Transient</td>\n      <td>0.0</td>\n      <td>0</td>\n      <td>0</td>\n      <td>Check-Out</td>\n      <td>2015-07-01</td>\n      <td>0</td>\n    </tr>\n    <tr>\n      <th>2</th>\n      <td>Resort Hotel</td>\n      <td>0</td>\n      <td>7</td>\n      <td>2015</td>\n      <td>July</td>\n      <td>27</td>\n      <td>1</td>\n      <td>0</td>\n      <td>1</td>\n      <td>1</td>\n      <td>...</td>\n      <td>NaN</td>\n      <td>NaN</td>\n      <td>0</td>\n      <td>Transient</td>\n      <td>75.0</td>\n      <td>0</td>\n      <td>0</td>\n      <td>Check-Out</td>\n      <td>2015-07-02</td>\n      <td>1</td>\n    </tr>\n    <tr>\n      <th>3</th>\n      <td>Resort Hotel</td>\n      <td>0</td>\n      <td>13</td>\n      <td>2015</td>\n      <td>July</td>\n      <td>27</td>\n      <td>1</td>\n      <td>0</td>\n      <td>1</td>\n      <td>1</td>\n      <td>...</td>\n      <td>304.0</td>\n      <td>NaN</td>\n      <td>0</td>\n      <td>Transient</td>\n      <td>75.0</td>\n      <td>0</td>\n      <td>0</td>\n      <td>Check-Out</td>\n      <td>2015-07-02</td>\n      <td>1</td>\n    </tr>\n    <tr>\n      <th>4</th>\n      <td>Resort Hotel</td>\n      <td>0</td>\n      <td>14</td>\n      <td>2015</td>\n      <td>July</td>\n      <td>27</td>\n      <td>1</td>\n      <td>0</td>\n      <td>2</td>\n      <td>2</td>\n      <td>...</td>\n      <td>240.0</td>\n      <td>NaN</td>\n      <td>0</td>\n      <td>Transient</td>\n      <td>98.0</td>\n      <td>0</td>\n      <td>1</td>\n      <td>Check-Out</td>\n      <td>2015-07-03</td>\n      <td>2</td>\n    </tr>\n  </tbody>\n</table>\n<p>5 rows × 33 columns</p>\n</div>"
     },
     "execution_count": 27,
     "metadata": {},
     "output_type": "execute_result"
    }
   ],
   "source": [
    "hotel2.head()"
   ],
   "metadata": {
    "collapsed": false,
    "ExecuteTime": {
     "end_time": "2024-03-27T23:06:22.434456Z",
     "start_time": "2024-03-27T23:06:22.421487Z"
    }
   },
   "id": "e5d60751540a199",
   "execution_count": 27
  },
  {
   "cell_type": "code",
   "outputs": [],
   "source": [
    "hotel2['total_rate'] = hotel2['adr'] * hotel2['total_rooms_nights']"
   ],
   "metadata": {
    "collapsed": false,
    "ExecuteTime": {
     "end_time": "2024-03-27T23:06:22.819918Z",
     "start_time": "2024-03-27T23:06:22.817215Z"
    }
   },
   "id": "23912409bef2b381",
   "execution_count": 28
  },
  {
   "cell_type": "code",
   "outputs": [
    {
     "data": {
      "text/plain": "          hotel  is_canceled  lead_time  arrival_date_year arrival_date_month  \\\n0  Resort Hotel            0        342               2015               July   \n1  Resort Hotel            0        737               2015               July   \n2  Resort Hotel            0          7               2015               July   \n3  Resort Hotel            0         13               2015               July   \n4  Resort Hotel            0         14               2015               July   \n\n   arrival_date_week_number  arrival_date_day_of_month  \\\n0                        27                          1   \n1                        27                          1   \n2                        27                          1   \n3                        27                          1   \n4                        27                          1   \n\n   stays_in_weekend_nights  stays_in_week_nights  adults  ...  company  \\\n0                        0                     0       2  ...      NaN   \n1                        0                     0       2  ...      NaN   \n2                        0                     1       1  ...      NaN   \n3                        0                     1       1  ...      NaN   \n4                        0                     2       2  ...      NaN   \n\n   days_in_waiting_list customer_type   adr required_car_parking_spaces  \\\n0                     0     Transient   0.0                           0   \n1                     0     Transient   0.0                           0   \n2                     0     Transient  75.0                           0   \n3                     0     Transient  75.0                           0   \n4                     0     Transient  98.0                           0   \n\n  total_of_special_requests  reservation_status  reservation_status_date  \\\n0                         0           Check-Out               2015-07-01   \n1                         0           Check-Out               2015-07-01   \n2                         0           Check-Out               2015-07-02   \n3                         0           Check-Out               2015-07-02   \n4                         1           Check-Out               2015-07-03   \n\n   total_rooms_nights total_rate  \n0                   0        0.0  \n1                   0        0.0  \n2                   1       75.0  \n3                   1       75.0  \n4                   2      196.0  \n\n[5 rows x 34 columns]",
      "text/html": "<div>\n<style scoped>\n    .dataframe tbody tr th:only-of-type {\n        vertical-align: middle;\n    }\n\n    .dataframe tbody tr th {\n        vertical-align: top;\n    }\n\n    .dataframe thead th {\n        text-align: right;\n    }\n</style>\n<table border=\"1\" class=\"dataframe\">\n  <thead>\n    <tr style=\"text-align: right;\">\n      <th></th>\n      <th>hotel</th>\n      <th>is_canceled</th>\n      <th>lead_time</th>\n      <th>arrival_date_year</th>\n      <th>arrival_date_month</th>\n      <th>arrival_date_week_number</th>\n      <th>arrival_date_day_of_month</th>\n      <th>stays_in_weekend_nights</th>\n      <th>stays_in_week_nights</th>\n      <th>adults</th>\n      <th>...</th>\n      <th>company</th>\n      <th>days_in_waiting_list</th>\n      <th>customer_type</th>\n      <th>adr</th>\n      <th>required_car_parking_spaces</th>\n      <th>total_of_special_requests</th>\n      <th>reservation_status</th>\n      <th>reservation_status_date</th>\n      <th>total_rooms_nights</th>\n      <th>total_rate</th>\n    </tr>\n  </thead>\n  <tbody>\n    <tr>\n      <th>0</th>\n      <td>Resort Hotel</td>\n      <td>0</td>\n      <td>342</td>\n      <td>2015</td>\n      <td>July</td>\n      <td>27</td>\n      <td>1</td>\n      <td>0</td>\n      <td>0</td>\n      <td>2</td>\n      <td>...</td>\n      <td>NaN</td>\n      <td>0</td>\n      <td>Transient</td>\n      <td>0.0</td>\n      <td>0</td>\n      <td>0</td>\n      <td>Check-Out</td>\n      <td>2015-07-01</td>\n      <td>0</td>\n      <td>0.0</td>\n    </tr>\n    <tr>\n      <th>1</th>\n      <td>Resort Hotel</td>\n      <td>0</td>\n      <td>737</td>\n      <td>2015</td>\n      <td>July</td>\n      <td>27</td>\n      <td>1</td>\n      <td>0</td>\n      <td>0</td>\n      <td>2</td>\n      <td>...</td>\n      <td>NaN</td>\n      <td>0</td>\n      <td>Transient</td>\n      <td>0.0</td>\n      <td>0</td>\n      <td>0</td>\n      <td>Check-Out</td>\n      <td>2015-07-01</td>\n      <td>0</td>\n      <td>0.0</td>\n    </tr>\n    <tr>\n      <th>2</th>\n      <td>Resort Hotel</td>\n      <td>0</td>\n      <td>7</td>\n      <td>2015</td>\n      <td>July</td>\n      <td>27</td>\n      <td>1</td>\n      <td>0</td>\n      <td>1</td>\n      <td>1</td>\n      <td>...</td>\n      <td>NaN</td>\n      <td>0</td>\n      <td>Transient</td>\n      <td>75.0</td>\n      <td>0</td>\n      <td>0</td>\n      <td>Check-Out</td>\n      <td>2015-07-02</td>\n      <td>1</td>\n      <td>75.0</td>\n    </tr>\n    <tr>\n      <th>3</th>\n      <td>Resort Hotel</td>\n      <td>0</td>\n      <td>13</td>\n      <td>2015</td>\n      <td>July</td>\n      <td>27</td>\n      <td>1</td>\n      <td>0</td>\n      <td>1</td>\n      <td>1</td>\n      <td>...</td>\n      <td>NaN</td>\n      <td>0</td>\n      <td>Transient</td>\n      <td>75.0</td>\n      <td>0</td>\n      <td>0</td>\n      <td>Check-Out</td>\n      <td>2015-07-02</td>\n      <td>1</td>\n      <td>75.0</td>\n    </tr>\n    <tr>\n      <th>4</th>\n      <td>Resort Hotel</td>\n      <td>0</td>\n      <td>14</td>\n      <td>2015</td>\n      <td>July</td>\n      <td>27</td>\n      <td>1</td>\n      <td>0</td>\n      <td>2</td>\n      <td>2</td>\n      <td>...</td>\n      <td>NaN</td>\n      <td>0</td>\n      <td>Transient</td>\n      <td>98.0</td>\n      <td>0</td>\n      <td>1</td>\n      <td>Check-Out</td>\n      <td>2015-07-03</td>\n      <td>2</td>\n      <td>196.0</td>\n    </tr>\n  </tbody>\n</table>\n<p>5 rows × 34 columns</p>\n</div>"
     },
     "execution_count": 29,
     "metadata": {},
     "output_type": "execute_result"
    }
   ],
   "source": [
    "hotel2.head()"
   ],
   "metadata": {
    "collapsed": false,
    "ExecuteTime": {
     "end_time": "2024-03-27T23:06:24.683231Z",
     "start_time": "2024-03-27T23:06:24.675140Z"
    }
   },
   "id": "1e28528c45c413ea",
   "execution_count": 29
  },
  {
   "cell_type": "code",
   "outputs": [],
   "source": [
    "total_rooms_nights = hotel2['total_rooms_nights'].sum()"
   ],
   "metadata": {
    "collapsed": false,
    "ExecuteTime": {
     "end_time": "2024-03-27T23:11:17.023987Z",
     "start_time": "2024-03-27T23:11:17.019588Z"
    }
   },
   "id": "37205d3706ec0c48",
   "execution_count": 35
  },
  {
   "cell_type": "code",
   "outputs": [],
   "source": [
    "from collections import Counter\n",
    "total_num_bookings = Counter(hotel2['is_canceled']).most_common(1)[0][1]"
   ],
   "metadata": {
    "collapsed": false,
    "ExecuteTime": {
     "end_time": "2024-03-27T23:11:19.487345Z",
     "start_time": "2024-03-27T23:11:19.472799Z"
    }
   },
   "id": "3315c76f109ca087",
   "execution_count": 36
  },
  {
   "cell_type": "code",
   "outputs": [
    {
     "data": {
      "text/plain": "is_canceled\n0    75166\n1    44224\nName: count, dtype: int64"
     },
     "execution_count": 37,
     "metadata": {},
     "output_type": "execute_result"
    }
   ],
   "source": [
    "hotel['is_canceled'].value_counts()"
   ],
   "metadata": {
    "collapsed": false,
    "ExecuteTime": {
     "end_time": "2024-03-27T23:11:20.720910Z",
     "start_time": "2024-03-27T23:11:20.715723Z"
    }
   },
   "id": "5d006f769fe70312",
   "execution_count": 37
  },
  {
   "cell_type": "code",
   "outputs": [
    {
     "data": {
      "text/plain": "75166"
     },
     "execution_count": 48,
     "metadata": {},
     "output_type": "execute_result"
    }
   ],
   "source": [
    "total_num_bookings"
   ],
   "metadata": {
    "collapsed": false,
    "ExecuteTime": {
     "end_time": "2024-03-27T22:53:46.518298Z",
     "start_time": "2024-03-27T22:53:46.514076Z"
    }
   },
   "id": "1a5c6eb1415d08cf",
   "execution_count": 48
  },
  {
   "cell_type": "code",
   "outputs": [],
   "source": [
    "alos = round(total_rooms_nights / total_num_bookings,2)"
   ],
   "metadata": {
    "collapsed": false,
    "ExecuteTime": {
     "end_time": "2024-03-27T23:12:14.057423Z",
     "start_time": "2024-03-27T23:12:14.054491Z"
    }
   },
   "id": "b15d3843898fb32d",
   "execution_count": 38
  },
  {
   "cell_type": "code",
   "outputs": [
    {
     "data": {
      "text/plain": "568.39"
     },
     "execution_count": 53,
     "metadata": {},
     "output_type": "execute_result"
    }
   ],
   "source": [
    "alos"
   ],
   "metadata": {
    "collapsed": false,
    "ExecuteTime": {
     "end_time": "2024-03-27T22:55:00.870153Z",
     "start_time": "2024-03-27T22:55:00.867422Z"
    }
   },
   "id": "7e99a46f49f826b3",
   "execution_count": 53
  },
  {
   "cell_type": "code",
   "outputs": [
    {
     "data": {
      "text/plain": "           hotel  is_canceled  lead_time  arrival_date_year  \\\n0   Resort Hotel            0        342               2015   \n1   Resort Hotel            0        737               2015   \n2   Resort Hotel            0          7               2015   \n3   Resort Hotel            0         13               2015   \n4   Resort Hotel            0         14               2015   \n5   Resort Hotel            0         14               2015   \n6   Resort Hotel            0          0               2015   \n7   Resort Hotel            0          9               2015   \n8   Resort Hotel            1         85               2015   \n9   Resort Hotel            1         75               2015   \n10  Resort Hotel            1         23               2015   \n11  Resort Hotel            0         35               2015   \n12  Resort Hotel            0         68               2015   \n13  Resort Hotel            0         18               2015   \n14  Resort Hotel            0         37               2015   \n\n   arrival_date_month  arrival_date_week_number  arrival_date_day_of_month  \\\n0                July                        27                          1   \n1                July                        27                          1   \n2                July                        27                          1   \n3                July                        27                          1   \n4                July                        27                          1   \n5                July                        27                          1   \n6                July                        27                          1   \n7                July                        27                          1   \n8                July                        27                          1   \n9                July                        27                          1   \n10               July                        27                          1   \n11               July                        27                          1   \n12               July                        27                          1   \n13               July                        27                          1   \n14               July                        27                          1   \n\n    stays_in_weekend_nights  stays_in_week_nights  adults  ...  deposit_type  \\\n0                         0                     0       2  ...    No Deposit   \n1                         0                     0       2  ...    No Deposit   \n2                         0                     1       1  ...    No Deposit   \n3                         0                     1       1  ...    No Deposit   \n4                         0                     2       2  ...    No Deposit   \n5                         0                     2       2  ...    No Deposit   \n6                         0                     2       2  ...    No Deposit   \n7                         0                     2       2  ...    No Deposit   \n8                         0                     3       2  ...    No Deposit   \n9                         0                     3       2  ...    No Deposit   \n10                        0                     4       2  ...    No Deposit   \n11                        0                     4       2  ...    No Deposit   \n12                        0                     4       2  ...    No Deposit   \n13                        0                     4       2  ...    No Deposit   \n14                        0                     4       2  ...    No Deposit   \n\n    agent company days_in_waiting_list customer_type     adr  \\\n0     NaN     NaN                    0     Transient    0.00   \n1     NaN     NaN                    0     Transient    0.00   \n2     NaN     NaN                    0     Transient   75.00   \n3   304.0     NaN                    0     Transient   75.00   \n4   240.0     NaN                    0     Transient   98.00   \n5   240.0     NaN                    0     Transient   98.00   \n6     NaN     NaN                    0     Transient  107.00   \n7   303.0     NaN                    0     Transient  103.00   \n8   240.0     NaN                    0     Transient   82.00   \n9    15.0     NaN                    0     Transient  105.50   \n10  240.0     NaN                    0     Transient  123.00   \n11  240.0     NaN                    0     Transient  145.00   \n12  240.0     NaN                    0     Transient   97.00   \n13  241.0     NaN                    0     Transient  154.77   \n14  241.0     NaN                    0     Transient   94.71   \n\n    required_car_parking_spaces  total_of_special_requests  \\\n0                             0                          0   \n1                             0                          0   \n2                             0                          0   \n3                             0                          0   \n4                             0                          1   \n5                             0                          1   \n6                             0                          0   \n7                             0                          1   \n8                             0                          1   \n9                             0                          0   \n10                            0                          0   \n11                            0                          0   \n12                            0                          3   \n13                            0                          1   \n14                            0                          0   \n\n    reservation_status reservation_status_date  \n0            Check-Out              2015-07-01  \n1            Check-Out              2015-07-01  \n2            Check-Out              2015-07-02  \n3            Check-Out              2015-07-02  \n4            Check-Out              2015-07-03  \n5            Check-Out              2015-07-03  \n6            Check-Out              2015-07-03  \n7            Check-Out              2015-07-03  \n8             Canceled              2015-05-06  \n9             Canceled              2015-04-22  \n10            Canceled              2015-06-23  \n11           Check-Out              2015-07-05  \n12           Check-Out              2015-07-05  \n13           Check-Out              2015-07-05  \n14           Check-Out              2015-07-05  \n\n[15 rows x 32 columns]",
      "text/html": "<div>\n<style scoped>\n    .dataframe tbody tr th:only-of-type {\n        vertical-align: middle;\n    }\n\n    .dataframe tbody tr th {\n        vertical-align: top;\n    }\n\n    .dataframe thead th {\n        text-align: right;\n    }\n</style>\n<table border=\"1\" class=\"dataframe\">\n  <thead>\n    <tr style=\"text-align: right;\">\n      <th></th>\n      <th>hotel</th>\n      <th>is_canceled</th>\n      <th>lead_time</th>\n      <th>arrival_date_year</th>\n      <th>arrival_date_month</th>\n      <th>arrival_date_week_number</th>\n      <th>arrival_date_day_of_month</th>\n      <th>stays_in_weekend_nights</th>\n      <th>stays_in_week_nights</th>\n      <th>adults</th>\n      <th>...</th>\n      <th>deposit_type</th>\n      <th>agent</th>\n      <th>company</th>\n      <th>days_in_waiting_list</th>\n      <th>customer_type</th>\n      <th>adr</th>\n      <th>required_car_parking_spaces</th>\n      <th>total_of_special_requests</th>\n      <th>reservation_status</th>\n      <th>reservation_status_date</th>\n    </tr>\n  </thead>\n  <tbody>\n    <tr>\n      <th>0</th>\n      <td>Resort Hotel</td>\n      <td>0</td>\n      <td>342</td>\n      <td>2015</td>\n      <td>July</td>\n      <td>27</td>\n      <td>1</td>\n      <td>0</td>\n      <td>0</td>\n      <td>2</td>\n      <td>...</td>\n      <td>No Deposit</td>\n      <td>NaN</td>\n      <td>NaN</td>\n      <td>0</td>\n      <td>Transient</td>\n      <td>0.00</td>\n      <td>0</td>\n      <td>0</td>\n      <td>Check-Out</td>\n      <td>2015-07-01</td>\n    </tr>\n    <tr>\n      <th>1</th>\n      <td>Resort Hotel</td>\n      <td>0</td>\n      <td>737</td>\n      <td>2015</td>\n      <td>July</td>\n      <td>27</td>\n      <td>1</td>\n      <td>0</td>\n      <td>0</td>\n      <td>2</td>\n      <td>...</td>\n      <td>No Deposit</td>\n      <td>NaN</td>\n      <td>NaN</td>\n      <td>0</td>\n      <td>Transient</td>\n      <td>0.00</td>\n      <td>0</td>\n      <td>0</td>\n      <td>Check-Out</td>\n      <td>2015-07-01</td>\n    </tr>\n    <tr>\n      <th>2</th>\n      <td>Resort Hotel</td>\n      <td>0</td>\n      <td>7</td>\n      <td>2015</td>\n      <td>July</td>\n      <td>27</td>\n      <td>1</td>\n      <td>0</td>\n      <td>1</td>\n      <td>1</td>\n      <td>...</td>\n      <td>No Deposit</td>\n      <td>NaN</td>\n      <td>NaN</td>\n      <td>0</td>\n      <td>Transient</td>\n      <td>75.00</td>\n      <td>0</td>\n      <td>0</td>\n      <td>Check-Out</td>\n      <td>2015-07-02</td>\n    </tr>\n    <tr>\n      <th>3</th>\n      <td>Resort Hotel</td>\n      <td>0</td>\n      <td>13</td>\n      <td>2015</td>\n      <td>July</td>\n      <td>27</td>\n      <td>1</td>\n      <td>0</td>\n      <td>1</td>\n      <td>1</td>\n      <td>...</td>\n      <td>No Deposit</td>\n      <td>304.0</td>\n      <td>NaN</td>\n      <td>0</td>\n      <td>Transient</td>\n      <td>75.00</td>\n      <td>0</td>\n      <td>0</td>\n      <td>Check-Out</td>\n      <td>2015-07-02</td>\n    </tr>\n    <tr>\n      <th>4</th>\n      <td>Resort Hotel</td>\n      <td>0</td>\n      <td>14</td>\n      <td>2015</td>\n      <td>July</td>\n      <td>27</td>\n      <td>1</td>\n      <td>0</td>\n      <td>2</td>\n      <td>2</td>\n      <td>...</td>\n      <td>No Deposit</td>\n      <td>240.0</td>\n      <td>NaN</td>\n      <td>0</td>\n      <td>Transient</td>\n      <td>98.00</td>\n      <td>0</td>\n      <td>1</td>\n      <td>Check-Out</td>\n      <td>2015-07-03</td>\n    </tr>\n    <tr>\n      <th>5</th>\n      <td>Resort Hotel</td>\n      <td>0</td>\n      <td>14</td>\n      <td>2015</td>\n      <td>July</td>\n      <td>27</td>\n      <td>1</td>\n      <td>0</td>\n      <td>2</td>\n      <td>2</td>\n      <td>...</td>\n      <td>No Deposit</td>\n      <td>240.0</td>\n      <td>NaN</td>\n      <td>0</td>\n      <td>Transient</td>\n      <td>98.00</td>\n      <td>0</td>\n      <td>1</td>\n      <td>Check-Out</td>\n      <td>2015-07-03</td>\n    </tr>\n    <tr>\n      <th>6</th>\n      <td>Resort Hotel</td>\n      <td>0</td>\n      <td>0</td>\n      <td>2015</td>\n      <td>July</td>\n      <td>27</td>\n      <td>1</td>\n      <td>0</td>\n      <td>2</td>\n      <td>2</td>\n      <td>...</td>\n      <td>No Deposit</td>\n      <td>NaN</td>\n      <td>NaN</td>\n      <td>0</td>\n      <td>Transient</td>\n      <td>107.00</td>\n      <td>0</td>\n      <td>0</td>\n      <td>Check-Out</td>\n      <td>2015-07-03</td>\n    </tr>\n    <tr>\n      <th>7</th>\n      <td>Resort Hotel</td>\n      <td>0</td>\n      <td>9</td>\n      <td>2015</td>\n      <td>July</td>\n      <td>27</td>\n      <td>1</td>\n      <td>0</td>\n      <td>2</td>\n      <td>2</td>\n      <td>...</td>\n      <td>No Deposit</td>\n      <td>303.0</td>\n      <td>NaN</td>\n      <td>0</td>\n      <td>Transient</td>\n      <td>103.00</td>\n      <td>0</td>\n      <td>1</td>\n      <td>Check-Out</td>\n      <td>2015-07-03</td>\n    </tr>\n    <tr>\n      <th>8</th>\n      <td>Resort Hotel</td>\n      <td>1</td>\n      <td>85</td>\n      <td>2015</td>\n      <td>July</td>\n      <td>27</td>\n      <td>1</td>\n      <td>0</td>\n      <td>3</td>\n      <td>2</td>\n      <td>...</td>\n      <td>No Deposit</td>\n      <td>240.0</td>\n      <td>NaN</td>\n      <td>0</td>\n      <td>Transient</td>\n      <td>82.00</td>\n      <td>0</td>\n      <td>1</td>\n      <td>Canceled</td>\n      <td>2015-05-06</td>\n    </tr>\n    <tr>\n      <th>9</th>\n      <td>Resort Hotel</td>\n      <td>1</td>\n      <td>75</td>\n      <td>2015</td>\n      <td>July</td>\n      <td>27</td>\n      <td>1</td>\n      <td>0</td>\n      <td>3</td>\n      <td>2</td>\n      <td>...</td>\n      <td>No Deposit</td>\n      <td>15.0</td>\n      <td>NaN</td>\n      <td>0</td>\n      <td>Transient</td>\n      <td>105.50</td>\n      <td>0</td>\n      <td>0</td>\n      <td>Canceled</td>\n      <td>2015-04-22</td>\n    </tr>\n    <tr>\n      <th>10</th>\n      <td>Resort Hotel</td>\n      <td>1</td>\n      <td>23</td>\n      <td>2015</td>\n      <td>July</td>\n      <td>27</td>\n      <td>1</td>\n      <td>0</td>\n      <td>4</td>\n      <td>2</td>\n      <td>...</td>\n      <td>No Deposit</td>\n      <td>240.0</td>\n      <td>NaN</td>\n      <td>0</td>\n      <td>Transient</td>\n      <td>123.00</td>\n      <td>0</td>\n      <td>0</td>\n      <td>Canceled</td>\n      <td>2015-06-23</td>\n    </tr>\n    <tr>\n      <th>11</th>\n      <td>Resort Hotel</td>\n      <td>0</td>\n      <td>35</td>\n      <td>2015</td>\n      <td>July</td>\n      <td>27</td>\n      <td>1</td>\n      <td>0</td>\n      <td>4</td>\n      <td>2</td>\n      <td>...</td>\n      <td>No Deposit</td>\n      <td>240.0</td>\n      <td>NaN</td>\n      <td>0</td>\n      <td>Transient</td>\n      <td>145.00</td>\n      <td>0</td>\n      <td>0</td>\n      <td>Check-Out</td>\n      <td>2015-07-05</td>\n    </tr>\n    <tr>\n      <th>12</th>\n      <td>Resort Hotel</td>\n      <td>0</td>\n      <td>68</td>\n      <td>2015</td>\n      <td>July</td>\n      <td>27</td>\n      <td>1</td>\n      <td>0</td>\n      <td>4</td>\n      <td>2</td>\n      <td>...</td>\n      <td>No Deposit</td>\n      <td>240.0</td>\n      <td>NaN</td>\n      <td>0</td>\n      <td>Transient</td>\n      <td>97.00</td>\n      <td>0</td>\n      <td>3</td>\n      <td>Check-Out</td>\n      <td>2015-07-05</td>\n    </tr>\n    <tr>\n      <th>13</th>\n      <td>Resort Hotel</td>\n      <td>0</td>\n      <td>18</td>\n      <td>2015</td>\n      <td>July</td>\n      <td>27</td>\n      <td>1</td>\n      <td>0</td>\n      <td>4</td>\n      <td>2</td>\n      <td>...</td>\n      <td>No Deposit</td>\n      <td>241.0</td>\n      <td>NaN</td>\n      <td>0</td>\n      <td>Transient</td>\n      <td>154.77</td>\n      <td>0</td>\n      <td>1</td>\n      <td>Check-Out</td>\n      <td>2015-07-05</td>\n    </tr>\n    <tr>\n      <th>14</th>\n      <td>Resort Hotel</td>\n      <td>0</td>\n      <td>37</td>\n      <td>2015</td>\n      <td>July</td>\n      <td>27</td>\n      <td>1</td>\n      <td>0</td>\n      <td>4</td>\n      <td>2</td>\n      <td>...</td>\n      <td>No Deposit</td>\n      <td>241.0</td>\n      <td>NaN</td>\n      <td>0</td>\n      <td>Transient</td>\n      <td>94.71</td>\n      <td>0</td>\n      <td>0</td>\n      <td>Check-Out</td>\n      <td>2015-07-05</td>\n    </tr>\n  </tbody>\n</table>\n<p>15 rows × 32 columns</p>\n</div>"
     },
     "execution_count": 55,
     "metadata": {},
     "output_type": "execute_result"
    }
   ],
   "source": [
    "hotel.head(15)\n"
   ],
   "metadata": {
    "collapsed": false,
    "ExecuteTime": {
     "end_time": "2024-03-27T22:58:10.892676Z",
     "start_time": "2024-03-27T22:58:10.884407Z"
    }
   },
   "id": "6ecfbab2c9d29766",
   "execution_count": 55
  },
  {
   "cell_type": "code",
   "outputs": [],
   "source": [
    "hotel_numeric= hotel.copy()[['lead_time', 'adr', 'arrival_date_day_of_month', 'stays_in_week_nights', 'stays_in_weekend_nights', ]]\n"
   ],
   "metadata": {
    "collapsed": false,
    "ExecuteTime": {
     "end_time": "2024-03-27T22:46:12.903190Z",
     "start_time": "2024-03-27T22:46:12.889065Z"
    }
   },
   "id": "bb52a1e225c1c29a",
   "execution_count": 30
  },
  {
   "cell_type": "code",
   "outputs": [],
   "source": [
    "def rango(sample):\n",
    "    rango = np.max(sample.dropna().values) - np.min(sample.dropna().values)\n",
    "    return rango"
   ],
   "metadata": {
    "collapsed": false,
    "ExecuteTime": {
     "end_time": "2024-03-27T22:46:13.123386Z",
     "start_time": "2024-03-27T22:46:13.121047Z"
    }
   },
   "id": "20902815f00dd350",
   "execution_count": 31
  },
  {
   "cell_type": "code",
   "outputs": [
    {
     "data": {
      "text/plain": "        lead_time     adr  arrival_date_day_of_month  stays_in_week_nights  \\\n0             342    0.00                          1                     0   \n1             737    0.00                          1                     0   \n2               7   75.00                          1                     1   \n3              13   75.00                          1                     1   \n4              14   98.00                          1                     2   \n...           ...     ...                        ...                   ...   \n119385         23   96.14                         30                     5   \n119386        102  225.43                         31                     5   \n119387         34  157.71                         31                     5   \n119388        109  104.40                         31                     5   \n119389        205  151.20                         29                     7   \n\n        stays_in_weekend_nights  \n0                             0  \n1                             0  \n2                             0  \n3                             0  \n4                             0  \n...                         ...  \n119385                        2  \n119386                        2  \n119387                        2  \n119388                        2  \n119389                        2  \n\n[119390 rows x 5 columns]",
      "text/html": "<div>\n<style scoped>\n    .dataframe tbody tr th:only-of-type {\n        vertical-align: middle;\n    }\n\n    .dataframe tbody tr th {\n        vertical-align: top;\n    }\n\n    .dataframe thead th {\n        text-align: right;\n    }\n</style>\n<table border=\"1\" class=\"dataframe\">\n  <thead>\n    <tr style=\"text-align: right;\">\n      <th></th>\n      <th>lead_time</th>\n      <th>adr</th>\n      <th>arrival_date_day_of_month</th>\n      <th>stays_in_week_nights</th>\n      <th>stays_in_weekend_nights</th>\n    </tr>\n  </thead>\n  <tbody>\n    <tr>\n      <th>0</th>\n      <td>342</td>\n      <td>0.00</td>\n      <td>1</td>\n      <td>0</td>\n      <td>0</td>\n    </tr>\n    <tr>\n      <th>1</th>\n      <td>737</td>\n      <td>0.00</td>\n      <td>1</td>\n      <td>0</td>\n      <td>0</td>\n    </tr>\n    <tr>\n      <th>2</th>\n      <td>7</td>\n      <td>75.00</td>\n      <td>1</td>\n      <td>1</td>\n      <td>0</td>\n    </tr>\n    <tr>\n      <th>3</th>\n      <td>13</td>\n      <td>75.00</td>\n      <td>1</td>\n      <td>1</td>\n      <td>0</td>\n    </tr>\n    <tr>\n      <th>4</th>\n      <td>14</td>\n      <td>98.00</td>\n      <td>1</td>\n      <td>2</td>\n      <td>0</td>\n    </tr>\n    <tr>\n      <th>...</th>\n      <td>...</td>\n      <td>...</td>\n      <td>...</td>\n      <td>...</td>\n      <td>...</td>\n    </tr>\n    <tr>\n      <th>119385</th>\n      <td>23</td>\n      <td>96.14</td>\n      <td>30</td>\n      <td>5</td>\n      <td>2</td>\n    </tr>\n    <tr>\n      <th>119386</th>\n      <td>102</td>\n      <td>225.43</td>\n      <td>31</td>\n      <td>5</td>\n      <td>2</td>\n    </tr>\n    <tr>\n      <th>119387</th>\n      <td>34</td>\n      <td>157.71</td>\n      <td>31</td>\n      <td>5</td>\n      <td>2</td>\n    </tr>\n    <tr>\n      <th>119388</th>\n      <td>109</td>\n      <td>104.40</td>\n      <td>31</td>\n      <td>5</td>\n      <td>2</td>\n    </tr>\n    <tr>\n      <th>119389</th>\n      <td>205</td>\n      <td>151.20</td>\n      <td>29</td>\n      <td>7</td>\n      <td>2</td>\n    </tr>\n  </tbody>\n</table>\n<p>119390 rows × 5 columns</p>\n</div>"
     },
     "execution_count": 32,
     "metadata": {},
     "output_type": "execute_result"
    }
   ],
   "source": [
    "hotel_numeric"
   ],
   "metadata": {
    "collapsed": false,
    "ExecuteTime": {
     "end_time": "2024-03-27T22:46:13.360248Z",
     "start_time": "2024-03-27T22:46:13.353339Z"
    }
   },
   "id": "49151c3bfc4a3b53",
   "execution_count": 32
  },
  {
   "cell_type": "code",
   "outputs": [],
   "source": [
    "rangos = hotel_numeric.apply(rango)"
   ],
   "metadata": {
    "collapsed": false,
    "ExecuteTime": {
     "end_time": "2024-03-27T22:46:13.595879Z",
     "start_time": "2024-03-27T22:46:13.591146Z"
    }
   },
   "id": "9bbfb86fbc7396f5",
   "execution_count": 33
  },
  {
   "cell_type": "markdown",
   "source": [
    "#Rangos"
   ],
   "metadata": {
    "collapsed": false
   },
   "id": "798bc442236620bd"
  },
  {
   "cell_type": "code",
   "outputs": [
    {
     "data": {
      "text/plain": "lead_time                     737.00\nadr                          5406.38\narrival_date_day_of_month      30.00\nstays_in_week_nights           50.00\nstays_in_weekend_nights        19.00\ndtype: float64"
     },
     "execution_count": 34,
     "metadata": {},
     "output_type": "execute_result"
    }
   ],
   "source": [
    "rangos"
   ],
   "metadata": {
    "collapsed": false,
    "ExecuteTime": {
     "end_time": "2024-03-27T22:46:14.764048Z",
     "start_time": "2024-03-27T22:46:14.760889Z"
    }
   },
   "id": "ac7438fbe15809a0",
   "execution_count": 34
  },
  {
   "cell_type": "markdown",
   "source": [
    "#rango interquartil"
   ],
   "metadata": {
    "collapsed": false
   },
   "id": "431a2c095013442f"
  },
  {
   "cell_type": "code",
   "outputs": [],
   "source": [
    "def iqr(sample):\n",
    "    q3, q1 = np.percentile(sample.dropna().values,[75,25])\n",
    "    inqr = q3 - q1\n",
    "    return inqr"
   ],
   "metadata": {
    "collapsed": false,
    "ExecuteTime": {
     "end_time": "2024-03-27T22:46:15.683895Z",
     "start_time": "2024-03-27T22:46:15.681505Z"
    }
   },
   "id": "c8d94a7a86a7da06",
   "execution_count": 35
  },
  {
   "cell_type": "code",
   "outputs": [],
   "source": [
    "r_inqr = hotel_numeric.apply(iqr)"
   ],
   "metadata": {
    "collapsed": false,
    "ExecuteTime": {
     "end_time": "2024-03-27T22:46:16.041472Z",
     "start_time": "2024-03-27T22:46:16.031754Z"
    }
   },
   "id": "ca2ca03982ce4746",
   "execution_count": 36
  },
  {
   "cell_type": "code",
   "outputs": [
    {
     "data": {
      "text/plain": "lead_time                    142.00\nadr                           56.71\narrival_date_day_of_month     15.00\nstays_in_week_nights           2.00\nstays_in_weekend_nights        2.00\ndtype: float64"
     },
     "execution_count": 37,
     "metadata": {},
     "output_type": "execute_result"
    }
   ],
   "source": [
    "r_inqr"
   ],
   "metadata": {
    "collapsed": false,
    "ExecuteTime": {
     "end_time": "2024-03-27T22:46:16.323099Z",
     "start_time": "2024-03-27T22:46:16.319846Z"
    }
   },
   "id": "facec31a131156f3",
   "execution_count": 37
  },
  {
   "cell_type": "markdown",
   "source": [
    "#Desviación estándar"
   ],
   "metadata": {
    "collapsed": false
   },
   "id": "685415b22a3672e1"
  },
  {
   "cell_type": "code",
   "outputs": [
    {
     "data": {
      "text/plain": "lead_time                    106.863097\nadr                           50.535790\narrival_date_day_of_month      8.780829\nstays_in_week_nights           1.908286\nstays_in_weekend_nights        0.998613\ndtype: float64"
     },
     "execution_count": 38,
     "metadata": {},
     "output_type": "execute_result"
    }
   ],
   "source": [
    "hotel_numeric.std()"
   ],
   "metadata": {
    "collapsed": false,
    "ExecuteTime": {
     "end_time": "2024-03-27T22:46:17.526065Z",
     "start_time": "2024-03-27T22:46:17.517251Z"
    }
   },
   "id": "46187ac32e94f358",
   "execution_count": 38
  },
  {
   "cell_type": "code",
   "outputs": [],
   "source": [
    "def coeficiente_variacion(sample):\n",
    "    cve = np.round(sample.std()/sample.mean(),3)\n",
    "    return cve*100"
   ],
   "metadata": {
    "collapsed": false,
    "ExecuteTime": {
     "end_time": "2024-03-27T22:46:17.731857Z",
     "start_time": "2024-03-27T22:46:17.729733Z"
    }
   },
   "id": "f4a05a7115d0d898",
   "execution_count": 39
  },
  {
   "cell_type": "code",
   "outputs": [],
   "source": [
    "coeficiente_variacion = np.round(hotel_numeric.std()/hotel_numeric.mean(), 2)"
   ],
   "metadata": {
    "collapsed": false,
    "ExecuteTime": {
     "end_time": "2024-03-27T22:46:17.952313Z",
     "start_time": "2024-03-27T22:46:17.947307Z"
    }
   },
   "id": "f90d7518167e4cdf",
   "execution_count": 40
  },
  {
   "cell_type": "code",
   "outputs": [],
   "source": [
    "coeficiente_de_variacion = coeficiente_variacion.reset_index().rename(columns={'index':'Variable', 0:'Coeficiente de variación'})"
   ],
   "metadata": {
    "collapsed": false,
    "ExecuteTime": {
     "end_time": "2024-03-27T22:46:18.389057Z",
     "start_time": "2024-03-27T22:46:18.386266Z"
    }
   },
   "id": "d439865d2c1a330d",
   "execution_count": 41
  },
  {
   "cell_type": "code",
   "outputs": [],
   "source": [
    "coeficiente_de_variacion['mediana'] = hotel_numeric.median().values"
   ],
   "metadata": {
    "collapsed": false,
    "ExecuteTime": {
     "end_time": "2024-03-27T22:46:18.589468Z",
     "start_time": "2024-03-27T22:46:18.580084Z"
    }
   },
   "id": "124e76b81fe08e27",
   "execution_count": 42
  },
  {
   "cell_type": "code",
   "outputs": [
    {
     "data": {
      "text/plain": "                    Variable  Coeficiente de variación  mediana\n0                  lead_time                      1.03   69.000\n1                        adr                      0.50   94.575\n2  arrival_date_day_of_month                      0.56   16.000\n3       stays_in_week_nights                      0.76    2.000\n4    stays_in_weekend_nights                      1.08    1.000",
      "text/html": "<div>\n<style scoped>\n    .dataframe tbody tr th:only-of-type {\n        vertical-align: middle;\n    }\n\n    .dataframe tbody tr th {\n        vertical-align: top;\n    }\n\n    .dataframe thead th {\n        text-align: right;\n    }\n</style>\n<table border=\"1\" class=\"dataframe\">\n  <thead>\n    <tr style=\"text-align: right;\">\n      <th></th>\n      <th>Variable</th>\n      <th>Coeficiente de variación</th>\n      <th>mediana</th>\n    </tr>\n  </thead>\n  <tbody>\n    <tr>\n      <th>0</th>\n      <td>lead_time</td>\n      <td>1.03</td>\n      <td>69.000</td>\n    </tr>\n    <tr>\n      <th>1</th>\n      <td>adr</td>\n      <td>0.50</td>\n      <td>94.575</td>\n    </tr>\n    <tr>\n      <th>2</th>\n      <td>arrival_date_day_of_month</td>\n      <td>0.56</td>\n      <td>16.000</td>\n    </tr>\n    <tr>\n      <th>3</th>\n      <td>stays_in_week_nights</td>\n      <td>0.76</td>\n      <td>2.000</td>\n    </tr>\n    <tr>\n      <th>4</th>\n      <td>stays_in_weekend_nights</td>\n      <td>1.08</td>\n      <td>1.000</td>\n    </tr>\n  </tbody>\n</table>\n</div>"
     },
     "execution_count": 43,
     "metadata": {},
     "output_type": "execute_result"
    }
   ],
   "source": [
    "coeficiente_de_variacion\n"
   ],
   "metadata": {
    "collapsed": false,
    "ExecuteTime": {
     "end_time": "2024-03-27T22:46:19.272511Z",
     "start_time": "2024-03-27T22:46:19.264711Z"
    }
   },
   "id": "743c578dec351fa4",
   "execution_count": 43
  },
  {
   "cell_type": "code",
   "outputs": [
    {
     "data": {
      "text/plain": "         is_canceled      lead_time  arrival_date_year  \\\ncount  119390.000000  119390.000000      119390.000000   \nmean        0.370416     104.011416        2016.156554   \nstd         0.482918     106.863097           0.707476   \nmin         0.000000       0.000000        2015.000000   \n25%         0.000000      18.000000        2016.000000   \n50%         0.000000      69.000000        2016.000000   \n75%         1.000000     160.000000        2017.000000   \nmax         1.000000     737.000000        2017.000000   \n\n       arrival_date_week_number  arrival_date_day_of_month  \\\ncount             119390.000000              119390.000000   \nmean                  27.165173                  15.798241   \nstd                   13.605138                   8.780829   \nmin                    1.000000                   1.000000   \n25%                   16.000000                   8.000000   \n50%                   28.000000                  16.000000   \n75%                   38.000000                  23.000000   \nmax                   53.000000                  31.000000   \n\n       stays_in_weekend_nights  stays_in_week_nights         adults  \\\ncount            119390.000000         119390.000000  119390.000000   \nmean                  0.927599              2.500302       1.856403   \nstd                   0.998613              1.908286       0.579261   \nmin                   0.000000              0.000000       0.000000   \n25%                   0.000000              1.000000       2.000000   \n50%                   1.000000              2.000000       2.000000   \n75%                   2.000000              3.000000       2.000000   \nmax                  19.000000             50.000000      55.000000   \n\n            children         babies  ...  previous_bookings_not_canceled  \\\ncount  119386.000000  119390.000000  ...                   119390.000000   \nmean        0.103890       0.007949  ...                        0.137097   \nstd         0.398561       0.097436  ...                        1.497437   \nmin         0.000000       0.000000  ...                        0.000000   \n25%         0.000000       0.000000  ...                        0.000000   \n50%         0.000000       0.000000  ...                        0.000000   \n75%         0.000000       0.000000  ...                        0.000000   \nmax        10.000000      10.000000  ...                       72.000000   \n\n       booking_changes          agent      company  days_in_waiting_list  \\\ncount    119390.000000  103050.000000  6797.000000         119390.000000   \nmean          0.221124      86.693382   189.266735              2.321149   \nstd           0.652306     110.774548   131.655015             17.594721   \nmin           0.000000       1.000000     6.000000              0.000000   \n25%           0.000000       9.000000    62.000000              0.000000   \n50%           0.000000      14.000000   179.000000              0.000000   \n75%           0.000000     229.000000   270.000000              0.000000   \nmax          21.000000     535.000000   543.000000            391.000000   \n\n                 adr  required_car_parking_spaces  total_of_special_requests  \\\ncount  119390.000000                119390.000000              119390.000000   \nmean      101.831122                     0.062518                   0.571363   \nstd        50.535790                     0.245291                   0.792798   \nmin        -6.380000                     0.000000                   0.000000   \n25%        69.290000                     0.000000                   0.000000   \n50%        94.575000                     0.000000                   0.000000   \n75%       126.000000                     0.000000                   1.000000   \nmax      5400.000000                     8.000000                   5.000000   \n\n       total_rooms_nights     total_rate  \ncount       119390.000000  119390.000000  \nmean             3.427900     357.848208  \nstd              2.557439     335.910109  \nmin              0.000000     -63.800000  \n25%              2.000000     146.000000  \n50%              3.000000     267.000000  \n75%              4.000000     446.250000  \nmax             69.000000    7590.000000  \n\n[8 rows x 22 columns]",
      "text/html": "<div>\n<style scoped>\n    .dataframe tbody tr th:only-of-type {\n        vertical-align: middle;\n    }\n\n    .dataframe tbody tr th {\n        vertical-align: top;\n    }\n\n    .dataframe thead th {\n        text-align: right;\n    }\n</style>\n<table border=\"1\" class=\"dataframe\">\n  <thead>\n    <tr style=\"text-align: right;\">\n      <th></th>\n      <th>is_canceled</th>\n      <th>lead_time</th>\n      <th>arrival_date_year</th>\n      <th>arrival_date_week_number</th>\n      <th>arrival_date_day_of_month</th>\n      <th>stays_in_weekend_nights</th>\n      <th>stays_in_week_nights</th>\n      <th>adults</th>\n      <th>children</th>\n      <th>babies</th>\n      <th>...</th>\n      <th>previous_bookings_not_canceled</th>\n      <th>booking_changes</th>\n      <th>agent</th>\n      <th>company</th>\n      <th>days_in_waiting_list</th>\n      <th>adr</th>\n      <th>required_car_parking_spaces</th>\n      <th>total_of_special_requests</th>\n      <th>total_rooms_nights</th>\n      <th>total_rate</th>\n    </tr>\n  </thead>\n  <tbody>\n    <tr>\n      <th>count</th>\n      <td>119390.000000</td>\n      <td>119390.000000</td>\n      <td>119390.000000</td>\n      <td>119390.000000</td>\n      <td>119390.000000</td>\n      <td>119390.000000</td>\n      <td>119390.000000</td>\n      <td>119390.000000</td>\n      <td>119386.000000</td>\n      <td>119390.000000</td>\n      <td>...</td>\n      <td>119390.000000</td>\n      <td>119390.000000</td>\n      <td>103050.000000</td>\n      <td>6797.000000</td>\n      <td>119390.000000</td>\n      <td>119390.000000</td>\n      <td>119390.000000</td>\n      <td>119390.000000</td>\n      <td>119390.000000</td>\n      <td>119390.000000</td>\n    </tr>\n    <tr>\n      <th>mean</th>\n      <td>0.370416</td>\n      <td>104.011416</td>\n      <td>2016.156554</td>\n      <td>27.165173</td>\n      <td>15.798241</td>\n      <td>0.927599</td>\n      <td>2.500302</td>\n      <td>1.856403</td>\n      <td>0.103890</td>\n      <td>0.007949</td>\n      <td>...</td>\n      <td>0.137097</td>\n      <td>0.221124</td>\n      <td>86.693382</td>\n      <td>189.266735</td>\n      <td>2.321149</td>\n      <td>101.831122</td>\n      <td>0.062518</td>\n      <td>0.571363</td>\n      <td>3.427900</td>\n      <td>357.848208</td>\n    </tr>\n    <tr>\n      <th>std</th>\n      <td>0.482918</td>\n      <td>106.863097</td>\n      <td>0.707476</td>\n      <td>13.605138</td>\n      <td>8.780829</td>\n      <td>0.998613</td>\n      <td>1.908286</td>\n      <td>0.579261</td>\n      <td>0.398561</td>\n      <td>0.097436</td>\n      <td>...</td>\n      <td>1.497437</td>\n      <td>0.652306</td>\n      <td>110.774548</td>\n      <td>131.655015</td>\n      <td>17.594721</td>\n      <td>50.535790</td>\n      <td>0.245291</td>\n      <td>0.792798</td>\n      <td>2.557439</td>\n      <td>335.910109</td>\n    </tr>\n    <tr>\n      <th>min</th>\n      <td>0.000000</td>\n      <td>0.000000</td>\n      <td>2015.000000</td>\n      <td>1.000000</td>\n      <td>1.000000</td>\n      <td>0.000000</td>\n      <td>0.000000</td>\n      <td>0.000000</td>\n      <td>0.000000</td>\n      <td>0.000000</td>\n      <td>...</td>\n      <td>0.000000</td>\n      <td>0.000000</td>\n      <td>1.000000</td>\n      <td>6.000000</td>\n      <td>0.000000</td>\n      <td>-6.380000</td>\n      <td>0.000000</td>\n      <td>0.000000</td>\n      <td>0.000000</td>\n      <td>-63.800000</td>\n    </tr>\n    <tr>\n      <th>25%</th>\n      <td>0.000000</td>\n      <td>18.000000</td>\n      <td>2016.000000</td>\n      <td>16.000000</td>\n      <td>8.000000</td>\n      <td>0.000000</td>\n      <td>1.000000</td>\n      <td>2.000000</td>\n      <td>0.000000</td>\n      <td>0.000000</td>\n      <td>...</td>\n      <td>0.000000</td>\n      <td>0.000000</td>\n      <td>9.000000</td>\n      <td>62.000000</td>\n      <td>0.000000</td>\n      <td>69.290000</td>\n      <td>0.000000</td>\n      <td>0.000000</td>\n      <td>2.000000</td>\n      <td>146.000000</td>\n    </tr>\n    <tr>\n      <th>50%</th>\n      <td>0.000000</td>\n      <td>69.000000</td>\n      <td>2016.000000</td>\n      <td>28.000000</td>\n      <td>16.000000</td>\n      <td>1.000000</td>\n      <td>2.000000</td>\n      <td>2.000000</td>\n      <td>0.000000</td>\n      <td>0.000000</td>\n      <td>...</td>\n      <td>0.000000</td>\n      <td>0.000000</td>\n      <td>14.000000</td>\n      <td>179.000000</td>\n      <td>0.000000</td>\n      <td>94.575000</td>\n      <td>0.000000</td>\n      <td>0.000000</td>\n      <td>3.000000</td>\n      <td>267.000000</td>\n    </tr>\n    <tr>\n      <th>75%</th>\n      <td>1.000000</td>\n      <td>160.000000</td>\n      <td>2017.000000</td>\n      <td>38.000000</td>\n      <td>23.000000</td>\n      <td>2.000000</td>\n      <td>3.000000</td>\n      <td>2.000000</td>\n      <td>0.000000</td>\n      <td>0.000000</td>\n      <td>...</td>\n      <td>0.000000</td>\n      <td>0.000000</td>\n      <td>229.000000</td>\n      <td>270.000000</td>\n      <td>0.000000</td>\n      <td>126.000000</td>\n      <td>0.000000</td>\n      <td>1.000000</td>\n      <td>4.000000</td>\n      <td>446.250000</td>\n    </tr>\n    <tr>\n      <th>max</th>\n      <td>1.000000</td>\n      <td>737.000000</td>\n      <td>2017.000000</td>\n      <td>53.000000</td>\n      <td>31.000000</td>\n      <td>19.000000</td>\n      <td>50.000000</td>\n      <td>55.000000</td>\n      <td>10.000000</td>\n      <td>10.000000</td>\n      <td>...</td>\n      <td>72.000000</td>\n      <td>21.000000</td>\n      <td>535.000000</td>\n      <td>543.000000</td>\n      <td>391.000000</td>\n      <td>5400.000000</td>\n      <td>8.000000</td>\n      <td>5.000000</td>\n      <td>69.000000</td>\n      <td>7590.000000</td>\n    </tr>\n  </tbody>\n</table>\n<p>8 rows × 22 columns</p>\n</div>"
     },
     "execution_count": 44,
     "metadata": {},
     "output_type": "execute_result"
    }
   ],
   "source": [
    "hotel2.describe()"
   ],
   "metadata": {
    "collapsed": false,
    "ExecuteTime": {
     "end_time": "2024-03-27T22:46:20.151162Z",
     "start_time": "2024-03-27T22:46:20.092597Z"
    }
   },
   "id": "36e4b9b8d5a90aa9",
   "execution_count": 44
  },
  {
   "cell_type": "code",
   "outputs": [],
   "source": [],
   "metadata": {
    "collapsed": false
   },
   "id": "e86b602f6b75f5cc"
  }
 ],
 "metadata": {
  "kernelspec": {
   "display_name": "Python 3",
   "language": "python",
   "name": "python3"
  },
  "language_info": {
   "codemirror_mode": {
    "name": "ipython",
    "version": 2
   },
   "file_extension": ".py",
   "mimetype": "text/x-python",
   "name": "python",
   "nbconvert_exporter": "python",
   "pygments_lexer": "ipython2",
   "version": "2.7.6"
  }
 },
 "nbformat": 4,
 "nbformat_minor": 5
}
