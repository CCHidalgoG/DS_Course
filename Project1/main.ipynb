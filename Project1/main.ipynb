{
 "cells": [
  {
   "metadata": {},
   "cell_type": "markdown",
   "source": "# Proyecto 1",
   "id": "4d41e7a152912087"
  },
  {
   "metadata": {},
   "cell_type": "markdown",
   "source": [
    "**Dataset Description**\n",
    "\n",
    "The dataset for this competition (both train and test) was generated from a deep learning model trained on the Flood Prediction Factors dataset. Feature distributions are close to, but not exactly the same, as the original. Feel free to use the original dataset as part of this competition, both to explore differences as well as to see whether incorporating the original in training improves model performance.\n",
    "\n",
    "Note: This dataset is particularly well suited for visualizations, clustering, and general EDA. Show off your skills!\n",
    "\n",
    "Files\n",
    "\n",
    "- train.csv - the training dataset; FloodProbability is the target\n",
    "- test.csv - the test dataset; your objective is to predict the FloodProbability for each row\n",
    "- sample_submission.csv - a sample submission file in the correct format\n",
    "\n",
    "Evaluation\n",
    "\n",
    "Submissions are evaluated using the R2 score."
   ],
   "id": "19f4466979785760"
  },
  {
   "metadata": {},
   "cell_type": "markdown",
   "source": "## Exploratory Data Analysis",
   "id": "314bdf4f23f7dbad"
  },
  {
   "metadata": {
    "ExecuteTime": {
     "end_time": "2024-06-18T00:23:58.491971Z",
     "start_time": "2024-06-18T00:23:56.708925Z"
    }
   },
   "cell_type": "code",
   "source": [
    "import pandas as pd\n",
    "import numpy as np\n",
    "from sklearn.model_selection import train_test_split\n",
    "import os\n",
    "# modelos baseline\n",
    "\n",
    "# métodos basados en árboles\n",
    "import xgboost as xgb\n",
    "\n",
    "# metricas\n",
    "from sklearn.metrics import r2_score"
   ],
   "id": "d79a963461f042ea",
   "outputs": [],
   "execution_count": 1
  },
  {
   "metadata": {
    "ExecuteTime": {
     "end_time": "2024-06-18T00:23:58.498992Z",
     "start_time": "2024-06-18T00:23:58.494147Z"
    }
   },
   "cell_type": "code",
   "source": [
    "def load_data():\n",
    "    train = pd.read_csv(\"data/train.csv\")\n",
    "    train.id = train['id'].astype(str)\n",
    "    test = pd.read_csv(\"data/test.csv\")\n",
    "    test.id = test['id'].astype(str)\n",
    "    return train, test"
   ],
   "id": "e8e87ff643d76fc9",
   "outputs": [],
   "execution_count": 2
  },
  {
   "metadata": {
    "ExecuteTime": {
     "end_time": "2024-06-18T00:24:05.085779Z",
     "start_time": "2024-06-18T00:23:58.501092Z"
    }
   },
   "cell_type": "code",
   "source": "train, test = load_data()",
   "id": "3568399ba4aac4d1",
   "outputs": [],
   "execution_count": 3
  },
  {
   "metadata": {
    "ExecuteTime": {
     "end_time": "2024-06-18T00:24:05.095044Z",
     "start_time": "2024-06-18T00:24:05.088258Z"
    }
   },
   "cell_type": "code",
   "source": "initial_cols = [col for col in train.columns if col not in ['id', 'FloodProbability']]",
   "id": "a927a642a3bf2b34",
   "outputs": [],
   "execution_count": 4
  },
  {
   "metadata": {
    "ExecuteTime": {
     "end_time": "2024-06-18T00:24:05.122535Z",
     "start_time": "2024-06-18T00:24:05.097095Z"
    }
   },
   "cell_type": "code",
   "source": "train.head()",
   "id": "f3cb7d25bfdc8d82",
   "outputs": [
    {
     "data": {
      "text/plain": [
       "  id  MonsoonIntensity  TopographyDrainage  RiverManagement  Deforestation  \\\n",
       "0  0                 5                   8                5              8   \n",
       "1  1                 6                   7                4              4   \n",
       "2  2                 6                   5                6              7   \n",
       "3  3                 3                   4                6              5   \n",
       "4  4                 5                   3                2              6   \n",
       "\n",
       "   Urbanization  ClimateChange  DamsQuality  Siltation  AgriculturalPractices  \\\n",
       "0             6              4            4          3                      3   \n",
       "1             8              8            3          5                      4   \n",
       "2             3              7            1          5                      4   \n",
       "3             4              8            4          7                      6   \n",
       "4             4              4            3          3                      3   \n",
       "\n",
       "   ...  DrainageSystems  CoastalVulnerability  Landslides  Watersheds  \\\n",
       "0  ...                5                     3           3           5   \n",
       "1  ...                7                     2           0           3   \n",
       "2  ...                7                     3           7           5   \n",
       "3  ...                2                     4           7           4   \n",
       "4  ...                2                     2           6           6   \n",
       "\n",
       "   DeterioratingInfrastructure  PopulationScore  WetlandLoss  \\\n",
       "0                            4                7            5   \n",
       "1                            5                3            3   \n",
       "2                            6                8            2   \n",
       "3                            4                6            5   \n",
       "4                            4                1            2   \n",
       "\n",
       "   InadequatePlanning  PoliticalFactors  FloodProbability  \n",
       "0                   7                 3             0.445  \n",
       "1                   4                 3             0.450  \n",
       "2                   3                 3             0.530  \n",
       "3                   7                 5             0.535  \n",
       "4                   3                 5             0.415  \n",
       "\n",
       "[5 rows x 22 columns]"
      ],
      "text/html": [
       "<div>\n",
       "<style scoped>\n",
       "    .dataframe tbody tr th:only-of-type {\n",
       "        vertical-align: middle;\n",
       "    }\n",
       "\n",
       "    .dataframe tbody tr th {\n",
       "        vertical-align: top;\n",
       "    }\n",
       "\n",
       "    .dataframe thead th {\n",
       "        text-align: right;\n",
       "    }\n",
       "</style>\n",
       "<table border=\"1\" class=\"dataframe\">\n",
       "  <thead>\n",
       "    <tr style=\"text-align: right;\">\n",
       "      <th></th>\n",
       "      <th>id</th>\n",
       "      <th>MonsoonIntensity</th>\n",
       "      <th>TopographyDrainage</th>\n",
       "      <th>RiverManagement</th>\n",
       "      <th>Deforestation</th>\n",
       "      <th>Urbanization</th>\n",
       "      <th>ClimateChange</th>\n",
       "      <th>DamsQuality</th>\n",
       "      <th>Siltation</th>\n",
       "      <th>AgriculturalPractices</th>\n",
       "      <th>...</th>\n",
       "      <th>DrainageSystems</th>\n",
       "      <th>CoastalVulnerability</th>\n",
       "      <th>Landslides</th>\n",
       "      <th>Watersheds</th>\n",
       "      <th>DeterioratingInfrastructure</th>\n",
       "      <th>PopulationScore</th>\n",
       "      <th>WetlandLoss</th>\n",
       "      <th>InadequatePlanning</th>\n",
       "      <th>PoliticalFactors</th>\n",
       "      <th>FloodProbability</th>\n",
       "    </tr>\n",
       "  </thead>\n",
       "  <tbody>\n",
       "    <tr>\n",
       "      <th>0</th>\n",
       "      <td>0</td>\n",
       "      <td>5</td>\n",
       "      <td>8</td>\n",
       "      <td>5</td>\n",
       "      <td>8</td>\n",
       "      <td>6</td>\n",
       "      <td>4</td>\n",
       "      <td>4</td>\n",
       "      <td>3</td>\n",
       "      <td>3</td>\n",
       "      <td>...</td>\n",
       "      <td>5</td>\n",
       "      <td>3</td>\n",
       "      <td>3</td>\n",
       "      <td>5</td>\n",
       "      <td>4</td>\n",
       "      <td>7</td>\n",
       "      <td>5</td>\n",
       "      <td>7</td>\n",
       "      <td>3</td>\n",
       "      <td>0.445</td>\n",
       "    </tr>\n",
       "    <tr>\n",
       "      <th>1</th>\n",
       "      <td>1</td>\n",
       "      <td>6</td>\n",
       "      <td>7</td>\n",
       "      <td>4</td>\n",
       "      <td>4</td>\n",
       "      <td>8</td>\n",
       "      <td>8</td>\n",
       "      <td>3</td>\n",
       "      <td>5</td>\n",
       "      <td>4</td>\n",
       "      <td>...</td>\n",
       "      <td>7</td>\n",
       "      <td>2</td>\n",
       "      <td>0</td>\n",
       "      <td>3</td>\n",
       "      <td>5</td>\n",
       "      <td>3</td>\n",
       "      <td>3</td>\n",
       "      <td>4</td>\n",
       "      <td>3</td>\n",
       "      <td>0.450</td>\n",
       "    </tr>\n",
       "    <tr>\n",
       "      <th>2</th>\n",
       "      <td>2</td>\n",
       "      <td>6</td>\n",
       "      <td>5</td>\n",
       "      <td>6</td>\n",
       "      <td>7</td>\n",
       "      <td>3</td>\n",
       "      <td>7</td>\n",
       "      <td>1</td>\n",
       "      <td>5</td>\n",
       "      <td>4</td>\n",
       "      <td>...</td>\n",
       "      <td>7</td>\n",
       "      <td>3</td>\n",
       "      <td>7</td>\n",
       "      <td>5</td>\n",
       "      <td>6</td>\n",
       "      <td>8</td>\n",
       "      <td>2</td>\n",
       "      <td>3</td>\n",
       "      <td>3</td>\n",
       "      <td>0.530</td>\n",
       "    </tr>\n",
       "    <tr>\n",
       "      <th>3</th>\n",
       "      <td>3</td>\n",
       "      <td>3</td>\n",
       "      <td>4</td>\n",
       "      <td>6</td>\n",
       "      <td>5</td>\n",
       "      <td>4</td>\n",
       "      <td>8</td>\n",
       "      <td>4</td>\n",
       "      <td>7</td>\n",
       "      <td>6</td>\n",
       "      <td>...</td>\n",
       "      <td>2</td>\n",
       "      <td>4</td>\n",
       "      <td>7</td>\n",
       "      <td>4</td>\n",
       "      <td>4</td>\n",
       "      <td>6</td>\n",
       "      <td>5</td>\n",
       "      <td>7</td>\n",
       "      <td>5</td>\n",
       "      <td>0.535</td>\n",
       "    </tr>\n",
       "    <tr>\n",
       "      <th>4</th>\n",
       "      <td>4</td>\n",
       "      <td>5</td>\n",
       "      <td>3</td>\n",
       "      <td>2</td>\n",
       "      <td>6</td>\n",
       "      <td>4</td>\n",
       "      <td>4</td>\n",
       "      <td>3</td>\n",
       "      <td>3</td>\n",
       "      <td>3</td>\n",
       "      <td>...</td>\n",
       "      <td>2</td>\n",
       "      <td>2</td>\n",
       "      <td>6</td>\n",
       "      <td>6</td>\n",
       "      <td>4</td>\n",
       "      <td>1</td>\n",
       "      <td>2</td>\n",
       "      <td>3</td>\n",
       "      <td>5</td>\n",
       "      <td>0.415</td>\n",
       "    </tr>\n",
       "  </tbody>\n",
       "</table>\n",
       "<p>5 rows × 22 columns</p>\n",
       "</div>"
      ]
     },
     "execution_count": 5,
     "metadata": {},
     "output_type": "execute_result"
    }
   ],
   "execution_count": 5
  },
  {
   "metadata": {
    "ExecuteTime": {
     "end_time": "2024-06-18T00:24:05.904759Z",
     "start_time": "2024-06-18T00:24:05.124751Z"
    }
   },
   "cell_type": "code",
   "source": [
    "for col in initial_cols:\n",
    "    train[col] = train[col].astype(float)\n",
    "for col in test.columns:\n",
    "    test[col] = test[col].astype(float)"
   ],
   "id": "cc4d56f7267925",
   "outputs": [],
   "execution_count": 6
  },
  {
   "metadata": {
    "ExecuteTime": {
     "end_time": "2024-06-18T00:24:42.884794Z",
     "start_time": "2024-06-18T00:24:28.534010Z"
    }
   },
   "cell_type": "code",
   "source": [
    "from sklearn.preprocessing import PolynomialFeatures\n",
    "\n",
    "poly = PolynomialFeatures(degree=2 , interaction_only=False, include_bias=False)\n",
    "\n",
    "train_poly = pd.DataFrame(poly.fit_transform(train[initial_cols]))\n",
    "train_poly.columns = poly.get_feature_names_out()\n",
    "\n",
    "test_poly = pd.DataFrame(poly.transform(test[initial_cols]))\n",
    "test_poly.columns = poly.get_feature_names_out()"
   ],
   "id": "e9053a193bfd648c",
   "outputs": [],
   "execution_count": 7
  },
  {
   "metadata": {
    "ExecuteTime": {
     "end_time": "2024-06-18T00:25:16.063006Z",
     "start_time": "2024-06-18T00:25:16.038032Z"
    }
   },
   "cell_type": "code",
   "source": "train_poly.head()",
   "id": "77f7fbebc7f659e8",
   "outputs": [
    {
     "data": {
      "text/plain": [
       "   MonsoonIntensity  TopographyDrainage  RiverManagement  Deforestation  \\\n",
       "0               5.0                 8.0              5.0            8.0   \n",
       "1               6.0                 7.0              4.0            4.0   \n",
       "2               6.0                 5.0              6.0            7.0   \n",
       "3               3.0                 4.0              6.0            5.0   \n",
       "4               5.0                 3.0              2.0            6.0   \n",
       "\n",
       "   Urbanization  ClimateChange  DamsQuality  Siltation  AgriculturalPractices  \\\n",
       "0           6.0            4.0          4.0        3.0                    3.0   \n",
       "1           8.0            8.0          3.0        5.0                    4.0   \n",
       "2           3.0            7.0          1.0        5.0                    4.0   \n",
       "3           4.0            8.0          4.0        7.0                    6.0   \n",
       "4           4.0            4.0          3.0        3.0                    3.0   \n",
       "\n",
       "   Encroachments  ...  PopulationScore^2  PopulationScore WetlandLoss  \\\n",
       "0            4.0  ...               49.0                         35.0   \n",
       "1            6.0  ...                9.0                          9.0   \n",
       "2            5.0  ...               64.0                         16.0   \n",
       "3            8.0  ...               36.0                         30.0   \n",
       "4            3.0  ...                1.0                          2.0   \n",
       "\n",
       "   PopulationScore InadequatePlanning  PopulationScore PoliticalFactors  \\\n",
       "0                                49.0                              21.0   \n",
       "1                                12.0                               9.0   \n",
       "2                                24.0                              24.0   \n",
       "3                                42.0                              30.0   \n",
       "4                                 3.0                               5.0   \n",
       "\n",
       "   WetlandLoss^2  WetlandLoss InadequatePlanning  \\\n",
       "0           25.0                            35.0   \n",
       "1            9.0                            12.0   \n",
       "2            4.0                             6.0   \n",
       "3           25.0                            35.0   \n",
       "4            4.0                             6.0   \n",
       "\n",
       "   WetlandLoss PoliticalFactors  InadequatePlanning^2  \\\n",
       "0                          15.0                  49.0   \n",
       "1                           9.0                  16.0   \n",
       "2                           6.0                   9.0   \n",
       "3                          25.0                  49.0   \n",
       "4                          10.0                   9.0   \n",
       "\n",
       "   InadequatePlanning PoliticalFactors  PoliticalFactors^2  \n",
       "0                                 21.0                 9.0  \n",
       "1                                 12.0                 9.0  \n",
       "2                                  9.0                 9.0  \n",
       "3                                 35.0                25.0  \n",
       "4                                 15.0                25.0  \n",
       "\n",
       "[5 rows x 230 columns]"
      ],
      "text/html": [
       "<div>\n",
       "<style scoped>\n",
       "    .dataframe tbody tr th:only-of-type {\n",
       "        vertical-align: middle;\n",
       "    }\n",
       "\n",
       "    .dataframe tbody tr th {\n",
       "        vertical-align: top;\n",
       "    }\n",
       "\n",
       "    .dataframe thead th {\n",
       "        text-align: right;\n",
       "    }\n",
       "</style>\n",
       "<table border=\"1\" class=\"dataframe\">\n",
       "  <thead>\n",
       "    <tr style=\"text-align: right;\">\n",
       "      <th></th>\n",
       "      <th>MonsoonIntensity</th>\n",
       "      <th>TopographyDrainage</th>\n",
       "      <th>RiverManagement</th>\n",
       "      <th>Deforestation</th>\n",
       "      <th>Urbanization</th>\n",
       "      <th>ClimateChange</th>\n",
       "      <th>DamsQuality</th>\n",
       "      <th>Siltation</th>\n",
       "      <th>AgriculturalPractices</th>\n",
       "      <th>Encroachments</th>\n",
       "      <th>...</th>\n",
       "      <th>PopulationScore^2</th>\n",
       "      <th>PopulationScore WetlandLoss</th>\n",
       "      <th>PopulationScore InadequatePlanning</th>\n",
       "      <th>PopulationScore PoliticalFactors</th>\n",
       "      <th>WetlandLoss^2</th>\n",
       "      <th>WetlandLoss InadequatePlanning</th>\n",
       "      <th>WetlandLoss PoliticalFactors</th>\n",
       "      <th>InadequatePlanning^2</th>\n",
       "      <th>InadequatePlanning PoliticalFactors</th>\n",
       "      <th>PoliticalFactors^2</th>\n",
       "    </tr>\n",
       "  </thead>\n",
       "  <tbody>\n",
       "    <tr>\n",
       "      <th>0</th>\n",
       "      <td>5.0</td>\n",
       "      <td>8.0</td>\n",
       "      <td>5.0</td>\n",
       "      <td>8.0</td>\n",
       "      <td>6.0</td>\n",
       "      <td>4.0</td>\n",
       "      <td>4.0</td>\n",
       "      <td>3.0</td>\n",
       "      <td>3.0</td>\n",
       "      <td>4.0</td>\n",
       "      <td>...</td>\n",
       "      <td>49.0</td>\n",
       "      <td>35.0</td>\n",
       "      <td>49.0</td>\n",
       "      <td>21.0</td>\n",
       "      <td>25.0</td>\n",
       "      <td>35.0</td>\n",
       "      <td>15.0</td>\n",
       "      <td>49.0</td>\n",
       "      <td>21.0</td>\n",
       "      <td>9.0</td>\n",
       "    </tr>\n",
       "    <tr>\n",
       "      <th>1</th>\n",
       "      <td>6.0</td>\n",
       "      <td>7.0</td>\n",
       "      <td>4.0</td>\n",
       "      <td>4.0</td>\n",
       "      <td>8.0</td>\n",
       "      <td>8.0</td>\n",
       "      <td>3.0</td>\n",
       "      <td>5.0</td>\n",
       "      <td>4.0</td>\n",
       "      <td>6.0</td>\n",
       "      <td>...</td>\n",
       "      <td>9.0</td>\n",
       "      <td>9.0</td>\n",
       "      <td>12.0</td>\n",
       "      <td>9.0</td>\n",
       "      <td>9.0</td>\n",
       "      <td>12.0</td>\n",
       "      <td>9.0</td>\n",
       "      <td>16.0</td>\n",
       "      <td>12.0</td>\n",
       "      <td>9.0</td>\n",
       "    </tr>\n",
       "    <tr>\n",
       "      <th>2</th>\n",
       "      <td>6.0</td>\n",
       "      <td>5.0</td>\n",
       "      <td>6.0</td>\n",
       "      <td>7.0</td>\n",
       "      <td>3.0</td>\n",
       "      <td>7.0</td>\n",
       "      <td>1.0</td>\n",
       "      <td>5.0</td>\n",
       "      <td>4.0</td>\n",
       "      <td>5.0</td>\n",
       "      <td>...</td>\n",
       "      <td>64.0</td>\n",
       "      <td>16.0</td>\n",
       "      <td>24.0</td>\n",
       "      <td>24.0</td>\n",
       "      <td>4.0</td>\n",
       "      <td>6.0</td>\n",
       "      <td>6.0</td>\n",
       "      <td>9.0</td>\n",
       "      <td>9.0</td>\n",
       "      <td>9.0</td>\n",
       "    </tr>\n",
       "    <tr>\n",
       "      <th>3</th>\n",
       "      <td>3.0</td>\n",
       "      <td>4.0</td>\n",
       "      <td>6.0</td>\n",
       "      <td>5.0</td>\n",
       "      <td>4.0</td>\n",
       "      <td>8.0</td>\n",
       "      <td>4.0</td>\n",
       "      <td>7.0</td>\n",
       "      <td>6.0</td>\n",
       "      <td>8.0</td>\n",
       "      <td>...</td>\n",
       "      <td>36.0</td>\n",
       "      <td>30.0</td>\n",
       "      <td>42.0</td>\n",
       "      <td>30.0</td>\n",
       "      <td>25.0</td>\n",
       "      <td>35.0</td>\n",
       "      <td>25.0</td>\n",
       "      <td>49.0</td>\n",
       "      <td>35.0</td>\n",
       "      <td>25.0</td>\n",
       "    </tr>\n",
       "    <tr>\n",
       "      <th>4</th>\n",
       "      <td>5.0</td>\n",
       "      <td>3.0</td>\n",
       "      <td>2.0</td>\n",
       "      <td>6.0</td>\n",
       "      <td>4.0</td>\n",
       "      <td>4.0</td>\n",
       "      <td>3.0</td>\n",
       "      <td>3.0</td>\n",
       "      <td>3.0</td>\n",
       "      <td>3.0</td>\n",
       "      <td>...</td>\n",
       "      <td>1.0</td>\n",
       "      <td>2.0</td>\n",
       "      <td>3.0</td>\n",
       "      <td>5.0</td>\n",
       "      <td>4.0</td>\n",
       "      <td>6.0</td>\n",
       "      <td>10.0</td>\n",
       "      <td>9.0</td>\n",
       "      <td>15.0</td>\n",
       "      <td>25.0</td>\n",
       "    </tr>\n",
       "  </tbody>\n",
       "</table>\n",
       "<p>5 rows × 230 columns</p>\n",
       "</div>"
      ]
     },
     "execution_count": 8,
     "metadata": {},
     "output_type": "execute_result"
    }
   ],
   "execution_count": 8
  },
  {
   "metadata": {
    "ExecuteTime": {
     "end_time": "2024-05-28T14:48:58.678636Z",
     "start_time": "2024-05-28T14:48:34.687466Z"
    }
   },
   "cell_type": "code",
   "source": [
    "# pca poly features\n",
    "from sklearn.decomposition import PCA\n",
    "\n",
    "pca = PCA(n_components=8, random_state=42)\n",
    "\n",
    "pca_train = pd.DataFrame(pca.fit_transform(train_poly))\n",
    "pca_train.columns = [f'pca_{i}' for i in range(pca.n_components_)]\n",
    "pca_test = pd.DataFrame(pca.transform(test_poly))\n",
    "pca_test.columns = [f'pca_{i}' for i in range(pca.n_components_)]\n",
    "train = pd.concat([train, pca_train], axis=1)\n",
    "test = pd.concat([test, pca_test], axis=1)\n",
    "\n",
    "# porcentaje de varianza explicada\n",
    "print(pca.explained_variance_ratio_.sum())"
   ],
   "id": "79bae70b146fdc16",
   "outputs": [
    {
     "name": "stdout",
     "output_type": "stream",
     "text": [
      "0.39159095356802054\n"
     ]
    }
   ],
   "execution_count": 126
  },
  {
   "metadata": {
    "ExecuteTime": {
     "end_time": "2024-05-28T14:48:58.713226Z",
     "start_time": "2024-05-28T14:48:58.680938Z"
    }
   },
   "cell_type": "code",
   "source": "train.head()",
   "id": "1c54f6c30752b5bb",
   "outputs": [
    {
     "data": {
      "text/plain": [
       "  id  MonsoonIntensity  TopographyDrainage  RiverManagement  Deforestation  \\\n",
       "0  0               5.0                 8.0              5.0            8.0   \n",
       "1  1               6.0                 7.0              4.0            4.0   \n",
       "2  2               6.0                 5.0              6.0            7.0   \n",
       "3  3               3.0                 4.0              6.0            5.0   \n",
       "4  4               5.0                 3.0              2.0            6.0   \n",
       "\n",
       "   Urbanization  ClimateChange  DamsQuality  Siltation  AgriculturalPractices  \\\n",
       "0           6.0            4.0          4.0        3.0                    3.0   \n",
       "1           8.0            8.0          3.0        5.0                    4.0   \n",
       "2           3.0            7.0          1.0        5.0                    4.0   \n",
       "3           4.0            8.0          4.0        7.0                    6.0   \n",
       "4           4.0            4.0          3.0        3.0                    3.0   \n",
       "\n",
       "   ...  PoliticalFactors  FloodProbability       pca_0      pca_1      pca_2  \\\n",
       "0  ...               3.0             0.445  -33.044350 -83.956641 -30.967960   \n",
       "1  ...               3.0             0.450  -35.249947 -61.084405 -41.508118   \n",
       "2  ...               3.0             0.530   -0.211053 -19.220556 -15.952179   \n",
       "3  ...               5.0             0.535   34.433909  18.009123 -44.781225   \n",
       "4  ...               5.0             0.415 -158.397635  18.052393 -17.616177   \n",
       "\n",
       "       pca_3      pca_4      pca_5      pca_6      pca_7  \n",
       "0   6.896072 -20.711519  13.254741  38.100631  47.224782  \n",
       "1   8.422374 -18.154838  54.321937  -6.105195  29.289434  \n",
       "2  -9.791212  -6.511861 -46.871394 -93.977399  -3.053915  \n",
       "3 -26.676838 -26.930496 -45.763325 -23.299845  12.118694  \n",
       "4  23.255651  28.844234  27.005023 -15.505706 -27.462001  \n",
       "\n",
       "[5 rows x 30 columns]"
      ],
      "text/html": [
       "<div>\n",
       "<style scoped>\n",
       "    .dataframe tbody tr th:only-of-type {\n",
       "        vertical-align: middle;\n",
       "    }\n",
       "\n",
       "    .dataframe tbody tr th {\n",
       "        vertical-align: top;\n",
       "    }\n",
       "\n",
       "    .dataframe thead th {\n",
       "        text-align: right;\n",
       "    }\n",
       "</style>\n",
       "<table border=\"1\" class=\"dataframe\">\n",
       "  <thead>\n",
       "    <tr style=\"text-align: right;\">\n",
       "      <th></th>\n",
       "      <th>id</th>\n",
       "      <th>MonsoonIntensity</th>\n",
       "      <th>TopographyDrainage</th>\n",
       "      <th>RiverManagement</th>\n",
       "      <th>Deforestation</th>\n",
       "      <th>Urbanization</th>\n",
       "      <th>ClimateChange</th>\n",
       "      <th>DamsQuality</th>\n",
       "      <th>Siltation</th>\n",
       "      <th>AgriculturalPractices</th>\n",
       "      <th>...</th>\n",
       "      <th>PoliticalFactors</th>\n",
       "      <th>FloodProbability</th>\n",
       "      <th>pca_0</th>\n",
       "      <th>pca_1</th>\n",
       "      <th>pca_2</th>\n",
       "      <th>pca_3</th>\n",
       "      <th>pca_4</th>\n",
       "      <th>pca_5</th>\n",
       "      <th>pca_6</th>\n",
       "      <th>pca_7</th>\n",
       "    </tr>\n",
       "  </thead>\n",
       "  <tbody>\n",
       "    <tr>\n",
       "      <th>0</th>\n",
       "      <td>0</td>\n",
       "      <td>5.0</td>\n",
       "      <td>8.0</td>\n",
       "      <td>5.0</td>\n",
       "      <td>8.0</td>\n",
       "      <td>6.0</td>\n",
       "      <td>4.0</td>\n",
       "      <td>4.0</td>\n",
       "      <td>3.0</td>\n",
       "      <td>3.0</td>\n",
       "      <td>...</td>\n",
       "      <td>3.0</td>\n",
       "      <td>0.445</td>\n",
       "      <td>-33.044350</td>\n",
       "      <td>-83.956641</td>\n",
       "      <td>-30.967960</td>\n",
       "      <td>6.896072</td>\n",
       "      <td>-20.711519</td>\n",
       "      <td>13.254741</td>\n",
       "      <td>38.100631</td>\n",
       "      <td>47.224782</td>\n",
       "    </tr>\n",
       "    <tr>\n",
       "      <th>1</th>\n",
       "      <td>1</td>\n",
       "      <td>6.0</td>\n",
       "      <td>7.0</td>\n",
       "      <td>4.0</td>\n",
       "      <td>4.0</td>\n",
       "      <td>8.0</td>\n",
       "      <td>8.0</td>\n",
       "      <td>3.0</td>\n",
       "      <td>5.0</td>\n",
       "      <td>4.0</td>\n",
       "      <td>...</td>\n",
       "      <td>3.0</td>\n",
       "      <td>0.450</td>\n",
       "      <td>-35.249947</td>\n",
       "      <td>-61.084405</td>\n",
       "      <td>-41.508118</td>\n",
       "      <td>8.422374</td>\n",
       "      <td>-18.154838</td>\n",
       "      <td>54.321937</td>\n",
       "      <td>-6.105195</td>\n",
       "      <td>29.289434</td>\n",
       "    </tr>\n",
       "    <tr>\n",
       "      <th>2</th>\n",
       "      <td>2</td>\n",
       "      <td>6.0</td>\n",
       "      <td>5.0</td>\n",
       "      <td>6.0</td>\n",
       "      <td>7.0</td>\n",
       "      <td>3.0</td>\n",
       "      <td>7.0</td>\n",
       "      <td>1.0</td>\n",
       "      <td>5.0</td>\n",
       "      <td>4.0</td>\n",
       "      <td>...</td>\n",
       "      <td>3.0</td>\n",
       "      <td>0.530</td>\n",
       "      <td>-0.211053</td>\n",
       "      <td>-19.220556</td>\n",
       "      <td>-15.952179</td>\n",
       "      <td>-9.791212</td>\n",
       "      <td>-6.511861</td>\n",
       "      <td>-46.871394</td>\n",
       "      <td>-93.977399</td>\n",
       "      <td>-3.053915</td>\n",
       "    </tr>\n",
       "    <tr>\n",
       "      <th>3</th>\n",
       "      <td>3</td>\n",
       "      <td>3.0</td>\n",
       "      <td>4.0</td>\n",
       "      <td>6.0</td>\n",
       "      <td>5.0</td>\n",
       "      <td>4.0</td>\n",
       "      <td>8.0</td>\n",
       "      <td>4.0</td>\n",
       "      <td>7.0</td>\n",
       "      <td>6.0</td>\n",
       "      <td>...</td>\n",
       "      <td>5.0</td>\n",
       "      <td>0.535</td>\n",
       "      <td>34.433909</td>\n",
       "      <td>18.009123</td>\n",
       "      <td>-44.781225</td>\n",
       "      <td>-26.676838</td>\n",
       "      <td>-26.930496</td>\n",
       "      <td>-45.763325</td>\n",
       "      <td>-23.299845</td>\n",
       "      <td>12.118694</td>\n",
       "    </tr>\n",
       "    <tr>\n",
       "      <th>4</th>\n",
       "      <td>4</td>\n",
       "      <td>5.0</td>\n",
       "      <td>3.0</td>\n",
       "      <td>2.0</td>\n",
       "      <td>6.0</td>\n",
       "      <td>4.0</td>\n",
       "      <td>4.0</td>\n",
       "      <td>3.0</td>\n",
       "      <td>3.0</td>\n",
       "      <td>3.0</td>\n",
       "      <td>...</td>\n",
       "      <td>5.0</td>\n",
       "      <td>0.415</td>\n",
       "      <td>-158.397635</td>\n",
       "      <td>18.052393</td>\n",
       "      <td>-17.616177</td>\n",
       "      <td>23.255651</td>\n",
       "      <td>28.844234</td>\n",
       "      <td>27.005023</td>\n",
       "      <td>-15.505706</td>\n",
       "      <td>-27.462001</td>\n",
       "    </tr>\n",
       "  </tbody>\n",
       "</table>\n",
       "<p>5 rows × 30 columns</p>\n",
       "</div>"
      ]
     },
     "execution_count": 127,
     "metadata": {},
     "output_type": "execute_result"
    }
   ],
   "execution_count": 127
  },
  {
   "metadata": {},
   "cell_type": "markdown",
   "source": "### Cluster data",
   "id": "763e8fde137cb336"
  },
  {
   "metadata": {
    "ExecuteTime": {
     "end_time": "2024-05-28T14:48:58.719820Z",
     "start_time": "2024-05-28T14:48:58.714475Z"
    }
   },
   "cell_type": "code",
   "source": "vals_in_common = [x for x in train.columns.intersection(test.columns) if x not in ['id', 'FloodProbability']]",
   "id": "1507a2c4fb680925",
   "outputs": [],
   "execution_count": 128
  },
  {
   "metadata": {
    "ExecuteTime": {
     "end_time": "2024-05-28T14:48:58.756044Z",
     "start_time": "2024-05-28T14:48:58.720880Z"
    }
   },
   "cell_type": "code",
   "source": "from sklearn.cluster import KMeans",
   "id": "232cdaaec3faad66",
   "outputs": [],
   "execution_count": 129
  },
  {
   "metadata": {
    "ExecuteTime": {
     "end_time": "2024-05-28T14:48:59.664981Z",
     "start_time": "2024-05-28T14:48:58.758745Z"
    }
   },
   "cell_type": "code",
   "source": [
    "from sklearn.preprocessing import StandardScaler\n",
    "scaler = StandardScaler()\n",
    "scaler.fit(train[vals_in_common].copy())\n",
    "train_clust = scaler.transform(train[vals_in_common].copy())"
   ],
   "id": "d8779f9d40e7009b",
   "outputs": [],
   "execution_count": 130
  },
  {
   "metadata": {
    "ExecuteTime": {
     "end_time": "2024-05-28T14:49:01.494011Z",
     "start_time": "2024-05-28T14:48:59.666048Z"
    }
   },
   "cell_type": "code",
   "source": [
    "cluster = KMeans(n_clusters=5, random_state=42)\n",
    "cluster.fit(train_clust)"
   ],
   "id": "84c04b977dc84303",
   "outputs": [
    {
     "data": {
      "text/plain": [
       "KMeans(n_clusters=5, random_state=42)"
      ],
      "text/html": [
       "<style>#sk-container-id-1 {\n",
       "  /* Definition of color scheme common for light and dark mode */\n",
       "  --sklearn-color-text: black;\n",
       "  --sklearn-color-line: gray;\n",
       "  /* Definition of color scheme for unfitted estimators */\n",
       "  --sklearn-color-unfitted-level-0: #fff5e6;\n",
       "  --sklearn-color-unfitted-level-1: #f6e4d2;\n",
       "  --sklearn-color-unfitted-level-2: #ffe0b3;\n",
       "  --sklearn-color-unfitted-level-3: chocolate;\n",
       "  /* Definition of color scheme for fitted estimators */\n",
       "  --sklearn-color-fitted-level-0: #f0f8ff;\n",
       "  --sklearn-color-fitted-level-1: #d4ebff;\n",
       "  --sklearn-color-fitted-level-2: #b3dbfd;\n",
       "  --sklearn-color-fitted-level-3: cornflowerblue;\n",
       "\n",
       "  /* Specific color for light theme */\n",
       "  --sklearn-color-text-on-default-background: var(--sg-text-color, var(--theme-code-foreground, var(--jp-content-font-color1, black)));\n",
       "  --sklearn-color-background: var(--sg-background-color, var(--theme-background, var(--jp-layout-color0, white)));\n",
       "  --sklearn-color-border-box: var(--sg-text-color, var(--theme-code-foreground, var(--jp-content-font-color1, black)));\n",
       "  --sklearn-color-icon: #696969;\n",
       "\n",
       "  @media (prefers-color-scheme: dark) {\n",
       "    /* Redefinition of color scheme for dark theme */\n",
       "    --sklearn-color-text-on-default-background: var(--sg-text-color, var(--theme-code-foreground, var(--jp-content-font-color1, white)));\n",
       "    --sklearn-color-background: var(--sg-background-color, var(--theme-background, var(--jp-layout-color0, #111)));\n",
       "    --sklearn-color-border-box: var(--sg-text-color, var(--theme-code-foreground, var(--jp-content-font-color1, white)));\n",
       "    --sklearn-color-icon: #878787;\n",
       "  }\n",
       "}\n",
       "\n",
       "#sk-container-id-1 {\n",
       "  color: var(--sklearn-color-text);\n",
       "}\n",
       "\n",
       "#sk-container-id-1 pre {\n",
       "  padding: 0;\n",
       "}\n",
       "\n",
       "#sk-container-id-1 input.sk-hidden--visually {\n",
       "  border: 0;\n",
       "  clip: rect(1px 1px 1px 1px);\n",
       "  clip: rect(1px, 1px, 1px, 1px);\n",
       "  height: 1px;\n",
       "  margin: -1px;\n",
       "  overflow: hidden;\n",
       "  padding: 0;\n",
       "  position: absolute;\n",
       "  width: 1px;\n",
       "}\n",
       "\n",
       "#sk-container-id-1 div.sk-dashed-wrapped {\n",
       "  border: 1px dashed var(--sklearn-color-line);\n",
       "  margin: 0 0.4em 0.5em 0.4em;\n",
       "  box-sizing: border-box;\n",
       "  padding-bottom: 0.4em;\n",
       "  background-color: var(--sklearn-color-background);\n",
       "}\n",
       "\n",
       "#sk-container-id-1 div.sk-container {\n",
       "  /* jupyter's `normalize.less` sets `[hidden] { display: none; }`\n",
       "     but bootstrap.min.css set `[hidden] { display: none !important; }`\n",
       "     so we also need the `!important` here to be able to override the\n",
       "     default hidden behavior on the sphinx rendered scikit-learn.org.\n",
       "     See: https://github.com/scikit-learn/scikit-learn/issues/21755 */\n",
       "  display: inline-block !important;\n",
       "  position: relative;\n",
       "}\n",
       "\n",
       "#sk-container-id-1 div.sk-text-repr-fallback {\n",
       "  display: none;\n",
       "}\n",
       "\n",
       "div.sk-parallel-item,\n",
       "div.sk-serial,\n",
       "div.sk-item {\n",
       "  /* draw centered vertical line to link estimators */\n",
       "  background-image: linear-gradient(var(--sklearn-color-text-on-default-background), var(--sklearn-color-text-on-default-background));\n",
       "  background-size: 2px 100%;\n",
       "  background-repeat: no-repeat;\n",
       "  background-position: center center;\n",
       "}\n",
       "\n",
       "/* Parallel-specific style estimator block */\n",
       "\n",
       "#sk-container-id-1 div.sk-parallel-item::after {\n",
       "  content: \"\";\n",
       "  width: 100%;\n",
       "  border-bottom: 2px solid var(--sklearn-color-text-on-default-background);\n",
       "  flex-grow: 1;\n",
       "}\n",
       "\n",
       "#sk-container-id-1 div.sk-parallel {\n",
       "  display: flex;\n",
       "  align-items: stretch;\n",
       "  justify-content: center;\n",
       "  background-color: var(--sklearn-color-background);\n",
       "  position: relative;\n",
       "}\n",
       "\n",
       "#sk-container-id-1 div.sk-parallel-item {\n",
       "  display: flex;\n",
       "  flex-direction: column;\n",
       "}\n",
       "\n",
       "#sk-container-id-1 div.sk-parallel-item:first-child::after {\n",
       "  align-self: flex-end;\n",
       "  width: 50%;\n",
       "}\n",
       "\n",
       "#sk-container-id-1 div.sk-parallel-item:last-child::after {\n",
       "  align-self: flex-start;\n",
       "  width: 50%;\n",
       "}\n",
       "\n",
       "#sk-container-id-1 div.sk-parallel-item:only-child::after {\n",
       "  width: 0;\n",
       "}\n",
       "\n",
       "/* Serial-specific style estimator block */\n",
       "\n",
       "#sk-container-id-1 div.sk-serial {\n",
       "  display: flex;\n",
       "  flex-direction: column;\n",
       "  align-items: center;\n",
       "  background-color: var(--sklearn-color-background);\n",
       "  padding-right: 1em;\n",
       "  padding-left: 1em;\n",
       "}\n",
       "\n",
       "\n",
       "/* Toggleable style: style used for estimator/Pipeline/ColumnTransformer box that is\n",
       "clickable and can be expanded/collapsed.\n",
       "- Pipeline and ColumnTransformer use this feature and define the default style\n",
       "- Estimators will overwrite some part of the style using the `sk-estimator` class\n",
       "*/\n",
       "\n",
       "/* Pipeline and ColumnTransformer style (default) */\n",
       "\n",
       "#sk-container-id-1 div.sk-toggleable {\n",
       "  /* Default theme specific background. It is overwritten whether we have a\n",
       "  specific estimator or a Pipeline/ColumnTransformer */\n",
       "  background-color: var(--sklearn-color-background);\n",
       "}\n",
       "\n",
       "/* Toggleable label */\n",
       "#sk-container-id-1 label.sk-toggleable__label {\n",
       "  cursor: pointer;\n",
       "  display: block;\n",
       "  width: 100%;\n",
       "  margin-bottom: 0;\n",
       "  padding: 0.5em;\n",
       "  box-sizing: border-box;\n",
       "  text-align: center;\n",
       "}\n",
       "\n",
       "#sk-container-id-1 label.sk-toggleable__label-arrow:before {\n",
       "  /* Arrow on the left of the label */\n",
       "  content: \"▸\";\n",
       "  float: left;\n",
       "  margin-right: 0.25em;\n",
       "  color: var(--sklearn-color-icon);\n",
       "}\n",
       "\n",
       "#sk-container-id-1 label.sk-toggleable__label-arrow:hover:before {\n",
       "  color: var(--sklearn-color-text);\n",
       "}\n",
       "\n",
       "/* Toggleable content - dropdown */\n",
       "\n",
       "#sk-container-id-1 div.sk-toggleable__content {\n",
       "  max-height: 0;\n",
       "  max-width: 0;\n",
       "  overflow: hidden;\n",
       "  text-align: left;\n",
       "  /* unfitted */\n",
       "  background-color: var(--sklearn-color-unfitted-level-0);\n",
       "}\n",
       "\n",
       "#sk-container-id-1 div.sk-toggleable__content.fitted {\n",
       "  /* fitted */\n",
       "  background-color: var(--sklearn-color-fitted-level-0);\n",
       "}\n",
       "\n",
       "#sk-container-id-1 div.sk-toggleable__content pre {\n",
       "  margin: 0.2em;\n",
       "  border-radius: 0.25em;\n",
       "  color: var(--sklearn-color-text);\n",
       "  /* unfitted */\n",
       "  background-color: var(--sklearn-color-unfitted-level-0);\n",
       "}\n",
       "\n",
       "#sk-container-id-1 div.sk-toggleable__content.fitted pre {\n",
       "  /* unfitted */\n",
       "  background-color: var(--sklearn-color-fitted-level-0);\n",
       "}\n",
       "\n",
       "#sk-container-id-1 input.sk-toggleable__control:checked~div.sk-toggleable__content {\n",
       "  /* Expand drop-down */\n",
       "  max-height: 200px;\n",
       "  max-width: 100%;\n",
       "  overflow: auto;\n",
       "}\n",
       "\n",
       "#sk-container-id-1 input.sk-toggleable__control:checked~label.sk-toggleable__label-arrow:before {\n",
       "  content: \"▾\";\n",
       "}\n",
       "\n",
       "/* Pipeline/ColumnTransformer-specific style */\n",
       "\n",
       "#sk-container-id-1 div.sk-label input.sk-toggleable__control:checked~label.sk-toggleable__label {\n",
       "  color: var(--sklearn-color-text);\n",
       "  background-color: var(--sklearn-color-unfitted-level-2);\n",
       "}\n",
       "\n",
       "#sk-container-id-1 div.sk-label.fitted input.sk-toggleable__control:checked~label.sk-toggleable__label {\n",
       "  background-color: var(--sklearn-color-fitted-level-2);\n",
       "}\n",
       "\n",
       "/* Estimator-specific style */\n",
       "\n",
       "/* Colorize estimator box */\n",
       "#sk-container-id-1 div.sk-estimator input.sk-toggleable__control:checked~label.sk-toggleable__label {\n",
       "  /* unfitted */\n",
       "  background-color: var(--sklearn-color-unfitted-level-2);\n",
       "}\n",
       "\n",
       "#sk-container-id-1 div.sk-estimator.fitted input.sk-toggleable__control:checked~label.sk-toggleable__label {\n",
       "  /* fitted */\n",
       "  background-color: var(--sklearn-color-fitted-level-2);\n",
       "}\n",
       "\n",
       "#sk-container-id-1 div.sk-label label.sk-toggleable__label,\n",
       "#sk-container-id-1 div.sk-label label {\n",
       "  /* The background is the default theme color */\n",
       "  color: var(--sklearn-color-text-on-default-background);\n",
       "}\n",
       "\n",
       "/* On hover, darken the color of the background */\n",
       "#sk-container-id-1 div.sk-label:hover label.sk-toggleable__label {\n",
       "  color: var(--sklearn-color-text);\n",
       "  background-color: var(--sklearn-color-unfitted-level-2);\n",
       "}\n",
       "\n",
       "/* Label box, darken color on hover, fitted */\n",
       "#sk-container-id-1 div.sk-label.fitted:hover label.sk-toggleable__label.fitted {\n",
       "  color: var(--sklearn-color-text);\n",
       "  background-color: var(--sklearn-color-fitted-level-2);\n",
       "}\n",
       "\n",
       "/* Estimator label */\n",
       "\n",
       "#sk-container-id-1 div.sk-label label {\n",
       "  font-family: monospace;\n",
       "  font-weight: bold;\n",
       "  display: inline-block;\n",
       "  line-height: 1.2em;\n",
       "}\n",
       "\n",
       "#sk-container-id-1 div.sk-label-container {\n",
       "  text-align: center;\n",
       "}\n",
       "\n",
       "/* Estimator-specific */\n",
       "#sk-container-id-1 div.sk-estimator {\n",
       "  font-family: monospace;\n",
       "  border: 1px dotted var(--sklearn-color-border-box);\n",
       "  border-radius: 0.25em;\n",
       "  box-sizing: border-box;\n",
       "  margin-bottom: 0.5em;\n",
       "  /* unfitted */\n",
       "  background-color: var(--sklearn-color-unfitted-level-0);\n",
       "}\n",
       "\n",
       "#sk-container-id-1 div.sk-estimator.fitted {\n",
       "  /* fitted */\n",
       "  background-color: var(--sklearn-color-fitted-level-0);\n",
       "}\n",
       "\n",
       "/* on hover */\n",
       "#sk-container-id-1 div.sk-estimator:hover {\n",
       "  /* unfitted */\n",
       "  background-color: var(--sklearn-color-unfitted-level-2);\n",
       "}\n",
       "\n",
       "#sk-container-id-1 div.sk-estimator.fitted:hover {\n",
       "  /* fitted */\n",
       "  background-color: var(--sklearn-color-fitted-level-2);\n",
       "}\n",
       "\n",
       "/* Specification for estimator info (e.g. \"i\" and \"?\") */\n",
       "\n",
       "/* Common style for \"i\" and \"?\" */\n",
       "\n",
       ".sk-estimator-doc-link,\n",
       "a:link.sk-estimator-doc-link,\n",
       "a:visited.sk-estimator-doc-link {\n",
       "  float: right;\n",
       "  font-size: smaller;\n",
       "  line-height: 1em;\n",
       "  font-family: monospace;\n",
       "  background-color: var(--sklearn-color-background);\n",
       "  border-radius: 1em;\n",
       "  height: 1em;\n",
       "  width: 1em;\n",
       "  text-decoration: none !important;\n",
       "  margin-left: 1ex;\n",
       "  /* unfitted */\n",
       "  border: var(--sklearn-color-unfitted-level-1) 1pt solid;\n",
       "  color: var(--sklearn-color-unfitted-level-1);\n",
       "}\n",
       "\n",
       ".sk-estimator-doc-link.fitted,\n",
       "a:link.sk-estimator-doc-link.fitted,\n",
       "a:visited.sk-estimator-doc-link.fitted {\n",
       "  /* fitted */\n",
       "  border: var(--sklearn-color-fitted-level-1) 1pt solid;\n",
       "  color: var(--sklearn-color-fitted-level-1);\n",
       "}\n",
       "\n",
       "/* On hover */\n",
       "div.sk-estimator:hover .sk-estimator-doc-link:hover,\n",
       ".sk-estimator-doc-link:hover,\n",
       "div.sk-label-container:hover .sk-estimator-doc-link:hover,\n",
       ".sk-estimator-doc-link:hover {\n",
       "  /* unfitted */\n",
       "  background-color: var(--sklearn-color-unfitted-level-3);\n",
       "  color: var(--sklearn-color-background);\n",
       "  text-decoration: none;\n",
       "}\n",
       "\n",
       "div.sk-estimator.fitted:hover .sk-estimator-doc-link.fitted:hover,\n",
       ".sk-estimator-doc-link.fitted:hover,\n",
       "div.sk-label-container:hover .sk-estimator-doc-link.fitted:hover,\n",
       ".sk-estimator-doc-link.fitted:hover {\n",
       "  /* fitted */\n",
       "  background-color: var(--sklearn-color-fitted-level-3);\n",
       "  color: var(--sklearn-color-background);\n",
       "  text-decoration: none;\n",
       "}\n",
       "\n",
       "/* Span, style for the box shown on hovering the info icon */\n",
       ".sk-estimator-doc-link span {\n",
       "  display: none;\n",
       "  z-index: 9999;\n",
       "  position: relative;\n",
       "  font-weight: normal;\n",
       "  right: .2ex;\n",
       "  padding: .5ex;\n",
       "  margin: .5ex;\n",
       "  width: min-content;\n",
       "  min-width: 20ex;\n",
       "  max-width: 50ex;\n",
       "  color: var(--sklearn-color-text);\n",
       "  box-shadow: 2pt 2pt 4pt #999;\n",
       "  /* unfitted */\n",
       "  background: var(--sklearn-color-unfitted-level-0);\n",
       "  border: .5pt solid var(--sklearn-color-unfitted-level-3);\n",
       "}\n",
       "\n",
       ".sk-estimator-doc-link.fitted span {\n",
       "  /* fitted */\n",
       "  background: var(--sklearn-color-fitted-level-0);\n",
       "  border: var(--sklearn-color-fitted-level-3);\n",
       "}\n",
       "\n",
       ".sk-estimator-doc-link:hover span {\n",
       "  display: block;\n",
       "}\n",
       "\n",
       "/* \"?\"-specific style due to the `<a>` HTML tag */\n",
       "\n",
       "#sk-container-id-1 a.estimator_doc_link {\n",
       "  float: right;\n",
       "  font-size: 1rem;\n",
       "  line-height: 1em;\n",
       "  font-family: monospace;\n",
       "  background-color: var(--sklearn-color-background);\n",
       "  border-radius: 1rem;\n",
       "  height: 1rem;\n",
       "  width: 1rem;\n",
       "  text-decoration: none;\n",
       "  /* unfitted */\n",
       "  color: var(--sklearn-color-unfitted-level-1);\n",
       "  border: var(--sklearn-color-unfitted-level-1) 1pt solid;\n",
       "}\n",
       "\n",
       "#sk-container-id-1 a.estimator_doc_link.fitted {\n",
       "  /* fitted */\n",
       "  border: var(--sklearn-color-fitted-level-1) 1pt solid;\n",
       "  color: var(--sklearn-color-fitted-level-1);\n",
       "}\n",
       "\n",
       "/* On hover */\n",
       "#sk-container-id-1 a.estimator_doc_link:hover {\n",
       "  /* unfitted */\n",
       "  background-color: var(--sklearn-color-unfitted-level-3);\n",
       "  color: var(--sklearn-color-background);\n",
       "  text-decoration: none;\n",
       "}\n",
       "\n",
       "#sk-container-id-1 a.estimator_doc_link.fitted:hover {\n",
       "  /* fitted */\n",
       "  background-color: var(--sklearn-color-fitted-level-3);\n",
       "}\n",
       "</style><div id=\"sk-container-id-1\" class=\"sk-top-container\"><div class=\"sk-text-repr-fallback\"><pre>KMeans(n_clusters=5, random_state=42)</pre><b>In a Jupyter environment, please rerun this cell to show the HTML representation or trust the notebook. <br />On GitHub, the HTML representation is unable to render, please try loading this page with nbviewer.org.</b></div><div class=\"sk-container\" hidden><div class=\"sk-item\"><div class=\"sk-estimator fitted sk-toggleable\"><input class=\"sk-toggleable__control sk-hidden--visually\" id=\"sk-estimator-id-1\" type=\"checkbox\" checked><label for=\"sk-estimator-id-1\" class=\"sk-toggleable__label fitted sk-toggleable__label-arrow fitted\">&nbsp;&nbsp;KMeans<a class=\"sk-estimator-doc-link fitted\" rel=\"noreferrer\" target=\"_blank\" href=\"https://scikit-learn.org/1.4/modules/generated/sklearn.cluster.KMeans.html\">?<span>Documentation for KMeans</span></a><span class=\"sk-estimator-doc-link fitted\">i<span>Fitted</span></span></label><div class=\"sk-toggleable__content fitted\"><pre>KMeans(n_clusters=5, random_state=42)</pre></div> </div></div></div></div>"
      ]
     },
     "execution_count": 131,
     "metadata": {},
     "output_type": "execute_result"
    }
   ],
   "execution_count": 131
  },
  {
   "metadata": {
    "ExecuteTime": {
     "end_time": "2024-05-28T14:49:02.301470Z",
     "start_time": "2024-05-28T14:49:01.494946Z"
    }
   },
   "cell_type": "code",
   "source": [
    "train['cluster'] = cluster.predict(train_clust).astype(str)\n",
    "test['cluster'] = cluster.predict(scaler.transform(test[vals_in_common].copy())).astype(str)"
   ],
   "id": "2e29f268c1c485a",
   "outputs": [],
   "execution_count": 132
  },
  {
   "metadata": {
    "ExecuteTime": {
     "end_time": "2024-05-28T14:49:03.129529Z",
     "start_time": "2024-05-28T14:49:02.302625Z"
    }
   },
   "cell_type": "code",
   "source": [
    "train = pd.get_dummies(train, columns=['cluster'])\n",
    "test = pd.get_dummies(test, columns=['cluster'])"
   ],
   "id": "b13daec4aa16a574",
   "outputs": [],
   "execution_count": 133
  },
  {
   "metadata": {
    "ExecuteTime": {
     "end_time": "2024-05-28T14:49:03.133126Z",
     "start_time": "2024-05-28T14:49:03.130746Z"
    }
   },
   "cell_type": "code",
   "source": [
    "# add all values prod 2 and exp\n",
    "# for i in range(len(vals_in_common)):\n",
    "#    train[f'{vals_in_common[i]}_{vals_in_common[i]}'] = train[vals_in_common[i]] * train[vals_in_common[i]]\n",
    "#    test[f'{vals_in_common[i]}_{vals_in_common[i]}'] = test[vals_in_common[i]] * test[vals_in_common[i]]"
   ],
   "id": "e1285b34ea2463c9",
   "outputs": [],
   "execution_count": 134
  },
  {
   "metadata": {
    "ExecuteTime": {
     "end_time": "2024-05-28T14:49:10.985642Z",
     "start_time": "2024-05-28T14:49:03.134219Z"
    }
   },
   "cell_type": "code",
   "source": [
    "train['sum_all'] = train[initial_cols].sum(axis=1)\n",
    "test['sum_all'] = test[initial_cols].sum(axis=1)\n",
    "\n",
    "train[\"over_sum\"] = train[\"sum_all\"].isin(np.arange(100,110))\n",
    "test[\"over_sum\"] = test[\"sum_all\"].isin(np.arange(100,110))\n",
    "#new              \n",
    "train[\"under_sum\"] = train[\"sum_all\"].isin(np.arange(72,76))\n",
    "test[\"under_sum\"] = test[\"sum_all\"].isin(np.arange(72,76))#special1 \n",
    "\n",
    "train['mean_all'] = train[initial_cols].mean(axis=1)\n",
    "test['mean_all'] = test[initial_cols].mean(axis=1)\n",
    "\n",
    "train['std_all'] = train[initial_cols].std(axis=1)\n",
    "test['std_all'] = test[initial_cols].std(axis=1)\n",
    "\n",
    "train['kur_all'] = train[initial_cols].kurtosis(axis=1)\n",
    "test['kur_all'] = test[initial_cols].kurtosis(axis=1)\n",
    "\n",
    "train['skew_all'] = train[initial_cols].skew(axis=1)\n",
    "test['skew_all'] = test[initial_cols].skew(axis=1)\n",
    "\n",
    "train['median_all'] = train[initial_cols].median(axis=1)\n",
    "test['median_all'] = test[initial_cols].median(axis=1)\n",
    "\n",
    "train['max_all'] = train[initial_cols].max(axis=1)\n",
    "test['max_all'] = test[initial_cols].max(axis=1)\n",
    "\n",
    "train['min_all'] = train[initial_cols].min(axis=1)\n",
    "test['min_all'] = test[initial_cols].min(axis=1)\n",
    "\n",
    "train['range_all'] = train[initial_cols].max(axis=1) - train[initial_cols].min(axis=1) \n",
    "test['range_all'] = test[initial_cols].max(axis=1) - test[initial_cols].min(axis=1) \n",
    "\n",
    "train['exp2_sum_all'] = train['sum_all'] ** 2\n",
    "test['exp2_sum_all'] = test['sum_all'] ** 2\n",
    "\n",
    "train['log2_sum_all'] = np.log2(train['sum_all']+1)\n",
    "test['log2_sum_all'] = np.log2(test['sum_all']+1)\n",
    "\n",
    "train['exp3_sum_all'] = train['sum_all'] ** 3\n",
    "test['exp3_sum_all'] = test['sum_all'] ** 3\n",
    "\n",
    "train['sqrt_sum_all'] = train['sum_all'] ** (1/2)\n",
    "test['sqrt_sum_all'] = test['sum_all'] ** (1/2)\n",
    "\n",
    "train['cbrt_sum_all'] = train['sum_all'] ** (1/3)\n",
    "test['cbrt_sum_all'] = test['sum_all'] ** (1/3)\n",
    "\n",
    "train['prod_all_over_sum_all'] = train[initial_cols].prod(axis=1) / train['sum_all']\n",
    "test['prod_all_over_sum_all'] = test[initial_cols].prod(axis=1) / test['sum_all']\n",
    "\n",
    "train['prod_all_over_exp2_sum_all'] = train[initial_cols].prod(axis=1) / train['exp2_sum_all']\n",
    "test['prod_all_over_exp2_sum_all'] = test[initial_cols].prod(axis=1) / test['exp2_sum_all']\n",
    "\n",
    "train['prod_all_over_log2_sum_all'] = train[initial_cols].prod(axis=1) / train['log2_sum_all']\n",
    "test['prod_all_over_log2_sum_all'] = test[initial_cols].prod(axis=1) / test['log2_sum_all']"
   ],
   "id": "9dd139dd86302123",
   "outputs": [],
   "execution_count": 135
  },
  {
   "metadata": {
    "ExecuteTime": {
     "end_time": "2024-05-28T14:49:11.621531Z",
     "start_time": "2024-05-28T14:49:10.986756Z"
    }
   },
   "cell_type": "code",
   "source": [
    "for col in initial_cols:\n",
    "    train[col] = np.log1p(train[col]+1)\n",
    "    test[col] = np.log1p(test[col]+1)"
   ],
   "id": "afbb364069324cf0",
   "outputs": [],
   "execution_count": 136
  },
  {
   "metadata": {
    "ExecuteTime": {
     "end_time": "2024-05-28T14:49:11.639968Z",
     "start_time": "2024-05-28T14:49:11.622713Z"
    }
   },
   "cell_type": "code",
   "source": "train.head()",
   "id": "b4203783153a3107",
   "outputs": [
    {
     "data": {
      "text/plain": [
       "  id  MonsoonIntensity  TopographyDrainage  RiverManagement  Deforestation  \\\n",
       "0  0          1.945910            2.302585         1.945910       2.302585   \n",
       "1  1          2.079442            2.197225         1.791759       1.791759   \n",
       "2  2          2.079442            1.945910         2.079442       2.197225   \n",
       "3  3          1.609438            1.791759         2.079442       1.945910   \n",
       "4  4          1.945910            1.609438         1.386294       2.079442   \n",
       "\n",
       "   Urbanization  ClimateChange  DamsQuality  Siltation  AgriculturalPractices  \\\n",
       "0      2.079442       1.791759     1.791759   1.609438               1.609438   \n",
       "1      2.302585       2.302585     1.609438   1.945910               1.791759   \n",
       "2      1.609438       2.197225     1.098612   1.945910               1.791759   \n",
       "3      1.791759       2.302585     1.791759   2.197225               2.079442   \n",
       "4      1.791759       1.791759     1.609438   1.609438               1.609438   \n",
       "\n",
       "   ...  min_all  range_all  exp2_sum_all  log2_sum_all  exp3_sum_all  \\\n",
       "0  ...      2.0        6.0        8836.0      6.569856      830584.0   \n",
       "1  ...      0.0        9.0        8836.0      6.569856      830584.0   \n",
       "2  ...      1.0        7.0        9801.0      6.643856      970299.0   \n",
       "3  ...      2.0        6.0       10816.0      6.714246     1124864.0   \n",
       "4  ...      1.0        5.0        5184.0      6.189825      373248.0   \n",
       "\n",
       "   sqrt_sum_all  cbrt_sum_all  prod_all_over_sum_all  \\\n",
       "0      9.695360      4.546836           7.782618e+10   \n",
       "1      9.695360      4.546836           0.000000e+00   \n",
       "2      9.949874      4.626065           1.018373e+11   \n",
       "3     10.198039      4.702669           7.003026e+11   \n",
       "4      8.485281      4.160168           2.799360e+08   \n",
       "\n",
       "   prod_all_over_exp2_sum_all  prod_all_over_log2_sum_all  \n",
       "0                8.279381e+08                1.113519e+12  \n",
       "1                0.000000e+00                0.000000e+00  \n",
       "2                1.028660e+09                1.517476e+12  \n",
       "3                6.733679e+09                1.084730e+13  \n",
       "4                3.888000e+06                3.256214e+09  \n",
       "\n",
       "[5 rows x 54 columns]"
      ],
      "text/html": [
       "<div>\n",
       "<style scoped>\n",
       "    .dataframe tbody tr th:only-of-type {\n",
       "        vertical-align: middle;\n",
       "    }\n",
       "\n",
       "    .dataframe tbody tr th {\n",
       "        vertical-align: top;\n",
       "    }\n",
       "\n",
       "    .dataframe thead th {\n",
       "        text-align: right;\n",
       "    }\n",
       "</style>\n",
       "<table border=\"1\" class=\"dataframe\">\n",
       "  <thead>\n",
       "    <tr style=\"text-align: right;\">\n",
       "      <th></th>\n",
       "      <th>id</th>\n",
       "      <th>MonsoonIntensity</th>\n",
       "      <th>TopographyDrainage</th>\n",
       "      <th>RiverManagement</th>\n",
       "      <th>Deforestation</th>\n",
       "      <th>Urbanization</th>\n",
       "      <th>ClimateChange</th>\n",
       "      <th>DamsQuality</th>\n",
       "      <th>Siltation</th>\n",
       "      <th>AgriculturalPractices</th>\n",
       "      <th>...</th>\n",
       "      <th>min_all</th>\n",
       "      <th>range_all</th>\n",
       "      <th>exp2_sum_all</th>\n",
       "      <th>log2_sum_all</th>\n",
       "      <th>exp3_sum_all</th>\n",
       "      <th>sqrt_sum_all</th>\n",
       "      <th>cbrt_sum_all</th>\n",
       "      <th>prod_all_over_sum_all</th>\n",
       "      <th>prod_all_over_exp2_sum_all</th>\n",
       "      <th>prod_all_over_log2_sum_all</th>\n",
       "    </tr>\n",
       "  </thead>\n",
       "  <tbody>\n",
       "    <tr>\n",
       "      <th>0</th>\n",
       "      <td>0</td>\n",
       "      <td>1.945910</td>\n",
       "      <td>2.302585</td>\n",
       "      <td>1.945910</td>\n",
       "      <td>2.302585</td>\n",
       "      <td>2.079442</td>\n",
       "      <td>1.791759</td>\n",
       "      <td>1.791759</td>\n",
       "      <td>1.609438</td>\n",
       "      <td>1.609438</td>\n",
       "      <td>...</td>\n",
       "      <td>2.0</td>\n",
       "      <td>6.0</td>\n",
       "      <td>8836.0</td>\n",
       "      <td>6.569856</td>\n",
       "      <td>830584.0</td>\n",
       "      <td>9.695360</td>\n",
       "      <td>4.546836</td>\n",
       "      <td>7.782618e+10</td>\n",
       "      <td>8.279381e+08</td>\n",
       "      <td>1.113519e+12</td>\n",
       "    </tr>\n",
       "    <tr>\n",
       "      <th>1</th>\n",
       "      <td>1</td>\n",
       "      <td>2.079442</td>\n",
       "      <td>2.197225</td>\n",
       "      <td>1.791759</td>\n",
       "      <td>1.791759</td>\n",
       "      <td>2.302585</td>\n",
       "      <td>2.302585</td>\n",
       "      <td>1.609438</td>\n",
       "      <td>1.945910</td>\n",
       "      <td>1.791759</td>\n",
       "      <td>...</td>\n",
       "      <td>0.0</td>\n",
       "      <td>9.0</td>\n",
       "      <td>8836.0</td>\n",
       "      <td>6.569856</td>\n",
       "      <td>830584.0</td>\n",
       "      <td>9.695360</td>\n",
       "      <td>4.546836</td>\n",
       "      <td>0.000000e+00</td>\n",
       "      <td>0.000000e+00</td>\n",
       "      <td>0.000000e+00</td>\n",
       "    </tr>\n",
       "    <tr>\n",
       "      <th>2</th>\n",
       "      <td>2</td>\n",
       "      <td>2.079442</td>\n",
       "      <td>1.945910</td>\n",
       "      <td>2.079442</td>\n",
       "      <td>2.197225</td>\n",
       "      <td>1.609438</td>\n",
       "      <td>2.197225</td>\n",
       "      <td>1.098612</td>\n",
       "      <td>1.945910</td>\n",
       "      <td>1.791759</td>\n",
       "      <td>...</td>\n",
       "      <td>1.0</td>\n",
       "      <td>7.0</td>\n",
       "      <td>9801.0</td>\n",
       "      <td>6.643856</td>\n",
       "      <td>970299.0</td>\n",
       "      <td>9.949874</td>\n",
       "      <td>4.626065</td>\n",
       "      <td>1.018373e+11</td>\n",
       "      <td>1.028660e+09</td>\n",
       "      <td>1.517476e+12</td>\n",
       "    </tr>\n",
       "    <tr>\n",
       "      <th>3</th>\n",
       "      <td>3</td>\n",
       "      <td>1.609438</td>\n",
       "      <td>1.791759</td>\n",
       "      <td>2.079442</td>\n",
       "      <td>1.945910</td>\n",
       "      <td>1.791759</td>\n",
       "      <td>2.302585</td>\n",
       "      <td>1.791759</td>\n",
       "      <td>2.197225</td>\n",
       "      <td>2.079442</td>\n",
       "      <td>...</td>\n",
       "      <td>2.0</td>\n",
       "      <td>6.0</td>\n",
       "      <td>10816.0</td>\n",
       "      <td>6.714246</td>\n",
       "      <td>1124864.0</td>\n",
       "      <td>10.198039</td>\n",
       "      <td>4.702669</td>\n",
       "      <td>7.003026e+11</td>\n",
       "      <td>6.733679e+09</td>\n",
       "      <td>1.084730e+13</td>\n",
       "    </tr>\n",
       "    <tr>\n",
       "      <th>4</th>\n",
       "      <td>4</td>\n",
       "      <td>1.945910</td>\n",
       "      <td>1.609438</td>\n",
       "      <td>1.386294</td>\n",
       "      <td>2.079442</td>\n",
       "      <td>1.791759</td>\n",
       "      <td>1.791759</td>\n",
       "      <td>1.609438</td>\n",
       "      <td>1.609438</td>\n",
       "      <td>1.609438</td>\n",
       "      <td>...</td>\n",
       "      <td>1.0</td>\n",
       "      <td>5.0</td>\n",
       "      <td>5184.0</td>\n",
       "      <td>6.189825</td>\n",
       "      <td>373248.0</td>\n",
       "      <td>8.485281</td>\n",
       "      <td>4.160168</td>\n",
       "      <td>2.799360e+08</td>\n",
       "      <td>3.888000e+06</td>\n",
       "      <td>3.256214e+09</td>\n",
       "    </tr>\n",
       "  </tbody>\n",
       "</table>\n",
       "<p>5 rows × 54 columns</p>\n",
       "</div>"
      ]
     },
     "execution_count": 137,
     "metadata": {},
     "output_type": "execute_result"
    }
   ],
   "execution_count": 137
  },
  {
   "metadata": {
    "ExecuteTime": {
     "end_time": "2024-05-28T14:49:11.643870Z",
     "start_time": "2024-05-28T14:49:11.641042Z"
    }
   },
   "cell_type": "code",
   "source": "cols_numeric = [x for x in train.columns if x not in ['id', 'FloodProbability', 'over_sum', 'under_sum']]",
   "id": "d89f6e46b87ca81b",
   "outputs": [],
   "execution_count": 138
  },
  {
   "metadata": {
    "ExecuteTime": {
     "end_time": "2024-05-28T14:49:21.052820Z",
     "start_time": "2024-05-28T14:49:11.644959Z"
    }
   },
   "cell_type": "code",
   "source": [
    "# Escañar tpdp excepto id y FloodProbability y transformar luego cluser a 0-1\n",
    "scaler = StandardScaler()\n",
    "scaler.fit(train[cols_numeric])\n",
    "train[cols_numeric] = scaler.transform(train[cols_numeric])\n",
    "test[cols_numeric] = scaler.transform(test[cols_numeric])"
   ],
   "id": "9015a38aeb066340",
   "outputs": [],
   "execution_count": 139
  },
  {
   "metadata": {
    "ExecuteTime": {
     "end_time": "2024-05-28T14:49:21.074528Z",
     "start_time": "2024-05-28T14:49:21.054515Z"
    }
   },
   "cell_type": "code",
   "source": [
    "# tranform clust in 0-1\n",
    "for col in train.columns:\n",
    "    if train[col].dtype == 'bool':\n",
    "        train[col] = train[col].astype(int)\n",
    "        test[col] = test[col].astype(int)"
   ],
   "id": "176327c9ad19f23d",
   "outputs": [],
   "execution_count": 140
  },
  {
   "metadata": {},
   "cell_type": "markdown",
   "source": "### Partición del train en train, test y validation",
   "id": "b12ca55889f2605e"
  },
  {
   "metadata": {
    "ExecuteTime": {
     "end_time": "2024-05-28T14:49:21.295172Z",
     "start_time": "2024-05-28T14:49:21.075890Z"
    }
   },
   "cell_type": "code",
   "source": [
    "X = train.drop(columns=['id','FloodProbability'])\n",
    "y = train.FloodProbability\n",
    "print(X.shape, y.shape)"
   ],
   "id": "a7ef31947708e862",
   "outputs": [
    {
     "name": "stdout",
     "output_type": "stream",
     "text": [
      "(1117957, 52) (1117957,)\n"
     ]
    }
   ],
   "execution_count": 141
  },
  {
   "metadata": {
    "ExecuteTime": {
     "end_time": "2024-05-28T14:49:22.237002Z",
     "start_time": "2024-05-28T14:49:21.296362Z"
    }
   },
   "cell_type": "code",
   "source": [
    "train_, val_, y_train_, y_val_ = train_test_split(X, y, test_size=0.2, random_state=42)\n",
    "val_, test_, y_val_, y_test_ = train_test_split(val_, y_val_, test_size=0.5, random_state=42)"
   ],
   "id": "83ba3bf3c55e5cf5",
   "outputs": [],
   "execution_count": 142
  },
  {
   "metadata": {
    "ExecuteTime": {
     "end_time": "2024-05-28T14:49:22.250986Z",
     "start_time": "2024-05-28T14:49:22.243403Z"
    }
   },
   "cell_type": "code",
   "source": "print(f\"Dimensiones de train: {train_.shape}{y_train_.shape}\\nDimensiones de validation: {val_.shape}{y_val_.shape}\\nDimensiones de test: {test_.shape}{y_test_.shape}\")",
   "id": "741dd4e542a74e41",
   "outputs": [
    {
     "name": "stdout",
     "output_type": "stream",
     "text": [
      "Dimensiones de train: (894365, 52)(894365,)\n",
      "Dimensiones de validation: (111796, 52)(111796,)\n",
      "Dimensiones de test: (111796, 52)(111796,)\n"
     ]
    }
   ],
   "execution_count": 144
  },
  {
   "metadata": {},
   "cell_type": "markdown",
   "source": "### Entrenamiento de baseline",
   "id": "988065fa543877e8"
  },
  {
   "metadata": {},
   "cell_type": "markdown",
   "source": "#### Linear Regression",
   "id": "d6c0ed538d1307b6"
  },
  {
   "metadata": {
    "ExecuteTime": {
     "end_time": "2024-05-28T14:49:22.254668Z",
     "start_time": "2024-05-28T14:49:22.252274Z"
    }
   },
   "cell_type": "code",
   "source": [
    "# Generamos una regresión lineal\n",
    "from sklearn.linear_model import LinearRegression"
   ],
   "id": "4d07562e12f51a61",
   "outputs": [],
   "execution_count": 145
  },
  {
   "metadata": {
    "ExecuteTime": {
     "end_time": "2024-05-28T14:49:26.691289Z",
     "start_time": "2024-05-28T14:49:22.255967Z"
    }
   },
   "cell_type": "code",
   "source": [
    "lr = LinearRegression()\n",
    "lr.fit(train_, y_train_)"
   ],
   "id": "6353248662948261",
   "outputs": [
    {
     "data": {
      "text/plain": [
       "LinearRegression()"
      ],
      "text/html": [
       "<style>#sk-container-id-2 {\n",
       "  /* Definition of color scheme common for light and dark mode */\n",
       "  --sklearn-color-text: black;\n",
       "  --sklearn-color-line: gray;\n",
       "  /* Definition of color scheme for unfitted estimators */\n",
       "  --sklearn-color-unfitted-level-0: #fff5e6;\n",
       "  --sklearn-color-unfitted-level-1: #f6e4d2;\n",
       "  --sklearn-color-unfitted-level-2: #ffe0b3;\n",
       "  --sklearn-color-unfitted-level-3: chocolate;\n",
       "  /* Definition of color scheme for fitted estimators */\n",
       "  --sklearn-color-fitted-level-0: #f0f8ff;\n",
       "  --sklearn-color-fitted-level-1: #d4ebff;\n",
       "  --sklearn-color-fitted-level-2: #b3dbfd;\n",
       "  --sklearn-color-fitted-level-3: cornflowerblue;\n",
       "\n",
       "  /* Specific color for light theme */\n",
       "  --sklearn-color-text-on-default-background: var(--sg-text-color, var(--theme-code-foreground, var(--jp-content-font-color1, black)));\n",
       "  --sklearn-color-background: var(--sg-background-color, var(--theme-background, var(--jp-layout-color0, white)));\n",
       "  --sklearn-color-border-box: var(--sg-text-color, var(--theme-code-foreground, var(--jp-content-font-color1, black)));\n",
       "  --sklearn-color-icon: #696969;\n",
       "\n",
       "  @media (prefers-color-scheme: dark) {\n",
       "    /* Redefinition of color scheme for dark theme */\n",
       "    --sklearn-color-text-on-default-background: var(--sg-text-color, var(--theme-code-foreground, var(--jp-content-font-color1, white)));\n",
       "    --sklearn-color-background: var(--sg-background-color, var(--theme-background, var(--jp-layout-color0, #111)));\n",
       "    --sklearn-color-border-box: var(--sg-text-color, var(--theme-code-foreground, var(--jp-content-font-color1, white)));\n",
       "    --sklearn-color-icon: #878787;\n",
       "  }\n",
       "}\n",
       "\n",
       "#sk-container-id-2 {\n",
       "  color: var(--sklearn-color-text);\n",
       "}\n",
       "\n",
       "#sk-container-id-2 pre {\n",
       "  padding: 0;\n",
       "}\n",
       "\n",
       "#sk-container-id-2 input.sk-hidden--visually {\n",
       "  border: 0;\n",
       "  clip: rect(1px 1px 1px 1px);\n",
       "  clip: rect(1px, 1px, 1px, 1px);\n",
       "  height: 1px;\n",
       "  margin: -1px;\n",
       "  overflow: hidden;\n",
       "  padding: 0;\n",
       "  position: absolute;\n",
       "  width: 1px;\n",
       "}\n",
       "\n",
       "#sk-container-id-2 div.sk-dashed-wrapped {\n",
       "  border: 1px dashed var(--sklearn-color-line);\n",
       "  margin: 0 0.4em 0.5em 0.4em;\n",
       "  box-sizing: border-box;\n",
       "  padding-bottom: 0.4em;\n",
       "  background-color: var(--sklearn-color-background);\n",
       "}\n",
       "\n",
       "#sk-container-id-2 div.sk-container {\n",
       "  /* jupyter's `normalize.less` sets `[hidden] { display: none; }`\n",
       "     but bootstrap.min.css set `[hidden] { display: none !important; }`\n",
       "     so we also need the `!important` here to be able to override the\n",
       "     default hidden behavior on the sphinx rendered scikit-learn.org.\n",
       "     See: https://github.com/scikit-learn/scikit-learn/issues/21755 */\n",
       "  display: inline-block !important;\n",
       "  position: relative;\n",
       "}\n",
       "\n",
       "#sk-container-id-2 div.sk-text-repr-fallback {\n",
       "  display: none;\n",
       "}\n",
       "\n",
       "div.sk-parallel-item,\n",
       "div.sk-serial,\n",
       "div.sk-item {\n",
       "  /* draw centered vertical line to link estimators */\n",
       "  background-image: linear-gradient(var(--sklearn-color-text-on-default-background), var(--sklearn-color-text-on-default-background));\n",
       "  background-size: 2px 100%;\n",
       "  background-repeat: no-repeat;\n",
       "  background-position: center center;\n",
       "}\n",
       "\n",
       "/* Parallel-specific style estimator block */\n",
       "\n",
       "#sk-container-id-2 div.sk-parallel-item::after {\n",
       "  content: \"\";\n",
       "  width: 100%;\n",
       "  border-bottom: 2px solid var(--sklearn-color-text-on-default-background);\n",
       "  flex-grow: 1;\n",
       "}\n",
       "\n",
       "#sk-container-id-2 div.sk-parallel {\n",
       "  display: flex;\n",
       "  align-items: stretch;\n",
       "  justify-content: center;\n",
       "  background-color: var(--sklearn-color-background);\n",
       "  position: relative;\n",
       "}\n",
       "\n",
       "#sk-container-id-2 div.sk-parallel-item {\n",
       "  display: flex;\n",
       "  flex-direction: column;\n",
       "}\n",
       "\n",
       "#sk-container-id-2 div.sk-parallel-item:first-child::after {\n",
       "  align-self: flex-end;\n",
       "  width: 50%;\n",
       "}\n",
       "\n",
       "#sk-container-id-2 div.sk-parallel-item:last-child::after {\n",
       "  align-self: flex-start;\n",
       "  width: 50%;\n",
       "}\n",
       "\n",
       "#sk-container-id-2 div.sk-parallel-item:only-child::after {\n",
       "  width: 0;\n",
       "}\n",
       "\n",
       "/* Serial-specific style estimator block */\n",
       "\n",
       "#sk-container-id-2 div.sk-serial {\n",
       "  display: flex;\n",
       "  flex-direction: column;\n",
       "  align-items: center;\n",
       "  background-color: var(--sklearn-color-background);\n",
       "  padding-right: 1em;\n",
       "  padding-left: 1em;\n",
       "}\n",
       "\n",
       "\n",
       "/* Toggleable style: style used for estimator/Pipeline/ColumnTransformer box that is\n",
       "clickable and can be expanded/collapsed.\n",
       "- Pipeline and ColumnTransformer use this feature and define the default style\n",
       "- Estimators will overwrite some part of the style using the `sk-estimator` class\n",
       "*/\n",
       "\n",
       "/* Pipeline and ColumnTransformer style (default) */\n",
       "\n",
       "#sk-container-id-2 div.sk-toggleable {\n",
       "  /* Default theme specific background. It is overwritten whether we have a\n",
       "  specific estimator or a Pipeline/ColumnTransformer */\n",
       "  background-color: var(--sklearn-color-background);\n",
       "}\n",
       "\n",
       "/* Toggleable label */\n",
       "#sk-container-id-2 label.sk-toggleable__label {\n",
       "  cursor: pointer;\n",
       "  display: block;\n",
       "  width: 100%;\n",
       "  margin-bottom: 0;\n",
       "  padding: 0.5em;\n",
       "  box-sizing: border-box;\n",
       "  text-align: center;\n",
       "}\n",
       "\n",
       "#sk-container-id-2 label.sk-toggleable__label-arrow:before {\n",
       "  /* Arrow on the left of the label */\n",
       "  content: \"▸\";\n",
       "  float: left;\n",
       "  margin-right: 0.25em;\n",
       "  color: var(--sklearn-color-icon);\n",
       "}\n",
       "\n",
       "#sk-container-id-2 label.sk-toggleable__label-arrow:hover:before {\n",
       "  color: var(--sklearn-color-text);\n",
       "}\n",
       "\n",
       "/* Toggleable content - dropdown */\n",
       "\n",
       "#sk-container-id-2 div.sk-toggleable__content {\n",
       "  max-height: 0;\n",
       "  max-width: 0;\n",
       "  overflow: hidden;\n",
       "  text-align: left;\n",
       "  /* unfitted */\n",
       "  background-color: var(--sklearn-color-unfitted-level-0);\n",
       "}\n",
       "\n",
       "#sk-container-id-2 div.sk-toggleable__content.fitted {\n",
       "  /* fitted */\n",
       "  background-color: var(--sklearn-color-fitted-level-0);\n",
       "}\n",
       "\n",
       "#sk-container-id-2 div.sk-toggleable__content pre {\n",
       "  margin: 0.2em;\n",
       "  border-radius: 0.25em;\n",
       "  color: var(--sklearn-color-text);\n",
       "  /* unfitted */\n",
       "  background-color: var(--sklearn-color-unfitted-level-0);\n",
       "}\n",
       "\n",
       "#sk-container-id-2 div.sk-toggleable__content.fitted pre {\n",
       "  /* unfitted */\n",
       "  background-color: var(--sklearn-color-fitted-level-0);\n",
       "}\n",
       "\n",
       "#sk-container-id-2 input.sk-toggleable__control:checked~div.sk-toggleable__content {\n",
       "  /* Expand drop-down */\n",
       "  max-height: 200px;\n",
       "  max-width: 100%;\n",
       "  overflow: auto;\n",
       "}\n",
       "\n",
       "#sk-container-id-2 input.sk-toggleable__control:checked~label.sk-toggleable__label-arrow:before {\n",
       "  content: \"▾\";\n",
       "}\n",
       "\n",
       "/* Pipeline/ColumnTransformer-specific style */\n",
       "\n",
       "#sk-container-id-2 div.sk-label input.sk-toggleable__control:checked~label.sk-toggleable__label {\n",
       "  color: var(--sklearn-color-text);\n",
       "  background-color: var(--sklearn-color-unfitted-level-2);\n",
       "}\n",
       "\n",
       "#sk-container-id-2 div.sk-label.fitted input.sk-toggleable__control:checked~label.sk-toggleable__label {\n",
       "  background-color: var(--sklearn-color-fitted-level-2);\n",
       "}\n",
       "\n",
       "/* Estimator-specific style */\n",
       "\n",
       "/* Colorize estimator box */\n",
       "#sk-container-id-2 div.sk-estimator input.sk-toggleable__control:checked~label.sk-toggleable__label {\n",
       "  /* unfitted */\n",
       "  background-color: var(--sklearn-color-unfitted-level-2);\n",
       "}\n",
       "\n",
       "#sk-container-id-2 div.sk-estimator.fitted input.sk-toggleable__control:checked~label.sk-toggleable__label {\n",
       "  /* fitted */\n",
       "  background-color: var(--sklearn-color-fitted-level-2);\n",
       "}\n",
       "\n",
       "#sk-container-id-2 div.sk-label label.sk-toggleable__label,\n",
       "#sk-container-id-2 div.sk-label label {\n",
       "  /* The background is the default theme color */\n",
       "  color: var(--sklearn-color-text-on-default-background);\n",
       "}\n",
       "\n",
       "/* On hover, darken the color of the background */\n",
       "#sk-container-id-2 div.sk-label:hover label.sk-toggleable__label {\n",
       "  color: var(--sklearn-color-text);\n",
       "  background-color: var(--sklearn-color-unfitted-level-2);\n",
       "}\n",
       "\n",
       "/* Label box, darken color on hover, fitted */\n",
       "#sk-container-id-2 div.sk-label.fitted:hover label.sk-toggleable__label.fitted {\n",
       "  color: var(--sklearn-color-text);\n",
       "  background-color: var(--sklearn-color-fitted-level-2);\n",
       "}\n",
       "\n",
       "/* Estimator label */\n",
       "\n",
       "#sk-container-id-2 div.sk-label label {\n",
       "  font-family: monospace;\n",
       "  font-weight: bold;\n",
       "  display: inline-block;\n",
       "  line-height: 1.2em;\n",
       "}\n",
       "\n",
       "#sk-container-id-2 div.sk-label-container {\n",
       "  text-align: center;\n",
       "}\n",
       "\n",
       "/* Estimator-specific */\n",
       "#sk-container-id-2 div.sk-estimator {\n",
       "  font-family: monospace;\n",
       "  border: 1px dotted var(--sklearn-color-border-box);\n",
       "  border-radius: 0.25em;\n",
       "  box-sizing: border-box;\n",
       "  margin-bottom: 0.5em;\n",
       "  /* unfitted */\n",
       "  background-color: var(--sklearn-color-unfitted-level-0);\n",
       "}\n",
       "\n",
       "#sk-container-id-2 div.sk-estimator.fitted {\n",
       "  /* fitted */\n",
       "  background-color: var(--sklearn-color-fitted-level-0);\n",
       "}\n",
       "\n",
       "/* on hover */\n",
       "#sk-container-id-2 div.sk-estimator:hover {\n",
       "  /* unfitted */\n",
       "  background-color: var(--sklearn-color-unfitted-level-2);\n",
       "}\n",
       "\n",
       "#sk-container-id-2 div.sk-estimator.fitted:hover {\n",
       "  /* fitted */\n",
       "  background-color: var(--sklearn-color-fitted-level-2);\n",
       "}\n",
       "\n",
       "/* Specification for estimator info (e.g. \"i\" and \"?\") */\n",
       "\n",
       "/* Common style for \"i\" and \"?\" */\n",
       "\n",
       ".sk-estimator-doc-link,\n",
       "a:link.sk-estimator-doc-link,\n",
       "a:visited.sk-estimator-doc-link {\n",
       "  float: right;\n",
       "  font-size: smaller;\n",
       "  line-height: 1em;\n",
       "  font-family: monospace;\n",
       "  background-color: var(--sklearn-color-background);\n",
       "  border-radius: 1em;\n",
       "  height: 1em;\n",
       "  width: 1em;\n",
       "  text-decoration: none !important;\n",
       "  margin-left: 1ex;\n",
       "  /* unfitted */\n",
       "  border: var(--sklearn-color-unfitted-level-1) 1pt solid;\n",
       "  color: var(--sklearn-color-unfitted-level-1);\n",
       "}\n",
       "\n",
       ".sk-estimator-doc-link.fitted,\n",
       "a:link.sk-estimator-doc-link.fitted,\n",
       "a:visited.sk-estimator-doc-link.fitted {\n",
       "  /* fitted */\n",
       "  border: var(--sklearn-color-fitted-level-1) 1pt solid;\n",
       "  color: var(--sklearn-color-fitted-level-1);\n",
       "}\n",
       "\n",
       "/* On hover */\n",
       "div.sk-estimator:hover .sk-estimator-doc-link:hover,\n",
       ".sk-estimator-doc-link:hover,\n",
       "div.sk-label-container:hover .sk-estimator-doc-link:hover,\n",
       ".sk-estimator-doc-link:hover {\n",
       "  /* unfitted */\n",
       "  background-color: var(--sklearn-color-unfitted-level-3);\n",
       "  color: var(--sklearn-color-background);\n",
       "  text-decoration: none;\n",
       "}\n",
       "\n",
       "div.sk-estimator.fitted:hover .sk-estimator-doc-link.fitted:hover,\n",
       ".sk-estimator-doc-link.fitted:hover,\n",
       "div.sk-label-container:hover .sk-estimator-doc-link.fitted:hover,\n",
       ".sk-estimator-doc-link.fitted:hover {\n",
       "  /* fitted */\n",
       "  background-color: var(--sklearn-color-fitted-level-3);\n",
       "  color: var(--sklearn-color-background);\n",
       "  text-decoration: none;\n",
       "}\n",
       "\n",
       "/* Span, style for the box shown on hovering the info icon */\n",
       ".sk-estimator-doc-link span {\n",
       "  display: none;\n",
       "  z-index: 9999;\n",
       "  position: relative;\n",
       "  font-weight: normal;\n",
       "  right: .2ex;\n",
       "  padding: .5ex;\n",
       "  margin: .5ex;\n",
       "  width: min-content;\n",
       "  min-width: 20ex;\n",
       "  max-width: 50ex;\n",
       "  color: var(--sklearn-color-text);\n",
       "  box-shadow: 2pt 2pt 4pt #999;\n",
       "  /* unfitted */\n",
       "  background: var(--sklearn-color-unfitted-level-0);\n",
       "  border: .5pt solid var(--sklearn-color-unfitted-level-3);\n",
       "}\n",
       "\n",
       ".sk-estimator-doc-link.fitted span {\n",
       "  /* fitted */\n",
       "  background: var(--sklearn-color-fitted-level-0);\n",
       "  border: var(--sklearn-color-fitted-level-3);\n",
       "}\n",
       "\n",
       ".sk-estimator-doc-link:hover span {\n",
       "  display: block;\n",
       "}\n",
       "\n",
       "/* \"?\"-specific style due to the `<a>` HTML tag */\n",
       "\n",
       "#sk-container-id-2 a.estimator_doc_link {\n",
       "  float: right;\n",
       "  font-size: 1rem;\n",
       "  line-height: 1em;\n",
       "  font-family: monospace;\n",
       "  background-color: var(--sklearn-color-background);\n",
       "  border-radius: 1rem;\n",
       "  height: 1rem;\n",
       "  width: 1rem;\n",
       "  text-decoration: none;\n",
       "  /* unfitted */\n",
       "  color: var(--sklearn-color-unfitted-level-1);\n",
       "  border: var(--sklearn-color-unfitted-level-1) 1pt solid;\n",
       "}\n",
       "\n",
       "#sk-container-id-2 a.estimator_doc_link.fitted {\n",
       "  /* fitted */\n",
       "  border: var(--sklearn-color-fitted-level-1) 1pt solid;\n",
       "  color: var(--sklearn-color-fitted-level-1);\n",
       "}\n",
       "\n",
       "/* On hover */\n",
       "#sk-container-id-2 a.estimator_doc_link:hover {\n",
       "  /* unfitted */\n",
       "  background-color: var(--sklearn-color-unfitted-level-3);\n",
       "  color: var(--sklearn-color-background);\n",
       "  text-decoration: none;\n",
       "}\n",
       "\n",
       "#sk-container-id-2 a.estimator_doc_link.fitted:hover {\n",
       "  /* fitted */\n",
       "  background-color: var(--sklearn-color-fitted-level-3);\n",
       "}\n",
       "</style><div id=\"sk-container-id-2\" class=\"sk-top-container\"><div class=\"sk-text-repr-fallback\"><pre>LinearRegression()</pre><b>In a Jupyter environment, please rerun this cell to show the HTML representation or trust the notebook. <br />On GitHub, the HTML representation is unable to render, please try loading this page with nbviewer.org.</b></div><div class=\"sk-container\" hidden><div class=\"sk-item\"><div class=\"sk-estimator fitted sk-toggleable\"><input class=\"sk-toggleable__control sk-hidden--visually\" id=\"sk-estimator-id-2\" type=\"checkbox\" checked><label for=\"sk-estimator-id-2\" class=\"sk-toggleable__label fitted sk-toggleable__label-arrow fitted\">&nbsp;&nbsp;LinearRegression<a class=\"sk-estimator-doc-link fitted\" rel=\"noreferrer\" target=\"_blank\" href=\"https://scikit-learn.org/1.4/modules/generated/sklearn.linear_model.LinearRegression.html\">?<span>Documentation for LinearRegression</span></a><span class=\"sk-estimator-doc-link fitted\">i<span>Fitted</span></span></label><div class=\"sk-toggleable__content fitted\"><pre>LinearRegression()</pre></div> </div></div></div></div>"
      ]
     },
     "execution_count": 146,
     "metadata": {},
     "output_type": "execute_result"
    }
   ],
   "execution_count": 146
  },
  {
   "metadata": {
    "ExecuteTime": {
     "end_time": "2024-05-28T14:49:26.765428Z",
     "start_time": "2024-05-28T14:49:26.692876Z"
    }
   },
   "cell_type": "code",
   "source": [
    "y_val_pred = lr.predict(val_)\n",
    "y_test_pred = lr.predict(test_)"
   ],
   "id": "7330af549770ec82",
   "outputs": [],
   "execution_count": 147
  },
  {
   "metadata": {
    "ExecuteTime": {
     "end_time": "2024-05-28T14:49:26.780629Z",
     "start_time": "2024-05-28T14:49:26.774174Z"
    }
   },
   "cell_type": "code",
   "source": "metricas = pd.DataFrame({'Modelo': ['Linear Regression'], 'r2_val': [r2_score(y_val_, y_val_pred)], 'r2_test': [r2_score(y_test_, y_test_pred)]})",
   "id": "990017e7f5a829dc",
   "outputs": [],
   "execution_count": 148
  },
  {
   "metadata": {
    "ExecuteTime": {
     "end_time": "2024-05-28T14:49:26.789861Z",
     "start_time": "2024-05-28T14:49:26.782275Z"
    }
   },
   "cell_type": "code",
   "source": "metricas",
   "id": "2830b2e61ad4a2c6",
   "outputs": [
    {
     "data": {
      "text/plain": [
       "              Modelo    r2_val   r2_test\n",
       "0  Linear Regression  0.853215  0.855201"
      ],
      "text/html": [
       "<div>\n",
       "<style scoped>\n",
       "    .dataframe tbody tr th:only-of-type {\n",
       "        vertical-align: middle;\n",
       "    }\n",
       "\n",
       "    .dataframe tbody tr th {\n",
       "        vertical-align: top;\n",
       "    }\n",
       "\n",
       "    .dataframe thead th {\n",
       "        text-align: right;\n",
       "    }\n",
       "</style>\n",
       "<table border=\"1\" class=\"dataframe\">\n",
       "  <thead>\n",
       "    <tr style=\"text-align: right;\">\n",
       "      <th></th>\n",
       "      <th>Modelo</th>\n",
       "      <th>r2_val</th>\n",
       "      <th>r2_test</th>\n",
       "    </tr>\n",
       "  </thead>\n",
       "  <tbody>\n",
       "    <tr>\n",
       "      <th>0</th>\n",
       "      <td>Linear Regression</td>\n",
       "      <td>0.853215</td>\n",
       "      <td>0.855201</td>\n",
       "    </tr>\n",
       "  </tbody>\n",
       "</table>\n",
       "</div>"
      ]
     },
     "execution_count": 149,
     "metadata": {},
     "output_type": "execute_result"
    }
   ],
   "execution_count": 149
  },
  {
   "metadata": {
    "ExecuteTime": {
     "end_time": "2024-05-28T14:49:38.620268Z",
     "start_time": "2024-05-28T14:49:36.834296Z"
    }
   },
   "cell_type": "code",
   "source": [
    "pred_test = lr.predict(test.drop(columns='id'))\n",
    "submissions = pd.DataFrame({'id': test.id, 'FloodProbability': pred_test}).to_csv('data/submissions/submissions_lr.csv', index=False)"
   ],
   "id": "b5514dbcd91e7bc3",
   "outputs": [],
   "execution_count": 150
  },
  {
   "metadata": {
    "ExecuteTime": {
     "end_time": "2024-05-28T14:49:38.624746Z",
     "start_time": "2024-05-28T14:49:38.622152Z"
    }
   },
   "cell_type": "code",
   "source": "# os.system('kaggle competitions submit -c playground-series-s4e5 -f data/submissions/submissions_lr.csv -m \"Linear Regression\"')",
   "id": "8d8085e596738d68",
   "outputs": [],
   "execution_count": 151
  },
  {
   "metadata": {},
   "cell_type": "markdown",
   "source": "### Based on Trees",
   "id": "6c7e05e7dc4df759"
  },
  {
   "metadata": {},
   "cell_type": "markdown",
   "source": "#### xgboost",
   "id": "484560705019d205"
  },
  {
   "metadata": {
    "ExecuteTime": {
     "end_time": "2024-05-28T14:49:42.750377Z",
     "start_time": "2024-05-28T14:49:40.043711Z"
    }
   },
   "cell_type": "code",
   "source": [
    "# usar con evallist\n",
    "cols_to_model = [x for x in train_.columns if x not in ['id']]\n",
    "xgtrain = xgb.DMatrix(train_[cols_to_model], label=y_train_)\n",
    "xgval = xgb.DMatrix(val_[cols_to_model], label=y_val_)\n",
    "xgtest = xgb.DMatrix(test_[cols_to_model])\n",
    "xgTEST = xgb.DMatrix(test[cols_to_model])"
   ],
   "id": "65bf279b4096d9ec",
   "outputs": [],
   "execution_count": 152
  },
  {
   "metadata": {
    "ExecuteTime": {
     "end_time": "2024-05-28T14:55:52.787878Z",
     "start_time": "2024-05-28T14:55:52.781511Z"
    }
   },
   "cell_type": "code",
   "source": "params = { 'learning_rate': 0.04, 'booster': 'dart'}",
   "id": "c1498ffd77f8a38",
   "outputs": [],
   "execution_count": 158
  },
  {
   "metadata": {
    "ExecuteTime": {
     "end_time": "2024-05-28T15:11:58.176535Z",
     "start_time": "2024-05-28T14:55:56.584906Z"
    }
   },
   "cell_type": "code",
   "source": "xgb_model = xgb.train( params, dtrain=xgtrain, num_boost_round=1000, evals=[(xgval, 'eval')], early_stopping_rounds=10, verbose_eval=10)",
   "id": "16023bf454f9b404",
   "outputs": [
    {
     "name": "stdout",
     "output_type": "stream",
     "text": [
      "[0]\teval-rmse:0.04916\n",
      "[10]\teval-rmse:0.03553\n",
      "[20]\teval-rmse:0.02740\n",
      "[30]\teval-rmse:0.02291\n",
      "[40]\teval-rmse:0.02060\n",
      "[50]\teval-rmse:0.01949\n",
      "[60]\teval-rmse:0.01897\n",
      "[70]\teval-rmse:0.01873\n",
      "[80]\teval-rmse:0.01862\n",
      "[90]\teval-rmse:0.01857\n",
      "[100]\teval-rmse:0.01854\n",
      "[110]\teval-rmse:0.01853\n",
      "[120]\teval-rmse:0.01852\n",
      "[130]\teval-rmse:0.01852\n",
      "[140]\teval-rmse:0.01851\n",
      "[150]\teval-rmse:0.01851\n",
      "[160]\teval-rmse:0.01851\n",
      "[170]\teval-rmse:0.01851\n",
      "[180]\teval-rmse:0.01851\n",
      "[190]\teval-rmse:0.01851\n",
      "[200]\teval-rmse:0.01851\n",
      "[210]\teval-rmse:0.01851\n",
      "[220]\teval-rmse:0.01851\n",
      "[230]\teval-rmse:0.01851\n",
      "[240]\teval-rmse:0.01850\n",
      "[250]\teval-rmse:0.01850\n",
      "[260]\teval-rmse:0.01850\n",
      "[269]\teval-rmse:0.01850\n"
     ]
    }
   ],
   "execution_count": 159
  },
  {
   "metadata": {
    "ExecuteTime": {
     "end_time": "2024-05-28T15:28:17.861951Z",
     "start_time": "2024-05-28T15:27:59.885211Z"
    }
   },
   "cell_type": "code",
   "source": [
    "y_val_pred = xgb_model.predict(xgval)\n",
    "y_test_pred = xgb_model.predict(xgtest)"
   ],
   "id": "eb45afbe3cabfcf9",
   "outputs": [],
   "execution_count": 160
  },
  {
   "metadata": {
    "ExecuteTime": {
     "end_time": "2024-05-28T15:28:17.895252Z",
     "start_time": "2024-05-28T15:28:17.863397Z"
    }
   },
   "cell_type": "code",
   "source": [
    "metricas_tmp = pd.DataFrame({'Modelo': ['XGBoost'], 'r2_val': [r2_score(y_val_, y_val_pred)], 'r2_test': [r2_score(y_test_, y_test_pred)]})\n",
    "metricas = pd.concat([metricas, metricas_tmp])\n",
    "metricas"
   ],
   "id": "997993280a42d73f",
   "outputs": [
    {
     "data": {
      "text/plain": [
       "              Modelo    r2_val   r2_test\n",
       "0  Linear Regression  0.853215  0.855201\n",
       "0            XGBoost  0.867968  0.869283\n",
       "0            XGBoost  0.867941  0.869284"
      ],
      "text/html": [
       "<div>\n",
       "<style scoped>\n",
       "    .dataframe tbody tr th:only-of-type {\n",
       "        vertical-align: middle;\n",
       "    }\n",
       "\n",
       "    .dataframe tbody tr th {\n",
       "        vertical-align: top;\n",
       "    }\n",
       "\n",
       "    .dataframe thead th {\n",
       "        text-align: right;\n",
       "    }\n",
       "</style>\n",
       "<table border=\"1\" class=\"dataframe\">\n",
       "  <thead>\n",
       "    <tr style=\"text-align: right;\">\n",
       "      <th></th>\n",
       "      <th>Modelo</th>\n",
       "      <th>r2_val</th>\n",
       "      <th>r2_test</th>\n",
       "    </tr>\n",
       "  </thead>\n",
       "  <tbody>\n",
       "    <tr>\n",
       "      <th>0</th>\n",
       "      <td>Linear Regression</td>\n",
       "      <td>0.853215</td>\n",
       "      <td>0.855201</td>\n",
       "    </tr>\n",
       "    <tr>\n",
       "      <th>0</th>\n",
       "      <td>XGBoost</td>\n",
       "      <td>0.867968</td>\n",
       "      <td>0.869283</td>\n",
       "    </tr>\n",
       "    <tr>\n",
       "      <th>0</th>\n",
       "      <td>XGBoost</td>\n",
       "      <td>0.867941</td>\n",
       "      <td>0.869284</td>\n",
       "    </tr>\n",
       "  </tbody>\n",
       "</table>\n",
       "</div>"
      ]
     },
     "execution_count": 161,
     "metadata": {},
     "output_type": "execute_result"
    }
   ],
   "execution_count": 161
  },
  {
   "metadata": {
    "ExecuteTime": {
     "end_time": "2024-05-28T14:50:21.041392Z",
     "start_time": "2024-05-28T14:50:18.630515Z"
    }
   },
   "cell_type": "code",
   "source": [
    "pred_test = xgb_model.predict(xgTEST)\n",
    "submissions = pd.DataFrame({'id': test.id, 'FloodProbability': pred_test}).to_csv('data/submissions/submissions_xgb.csv', index=False)"
   ],
   "id": "56927b91e8bdff8",
   "outputs": [],
   "execution_count": 157
  },
  {
   "metadata": {},
   "cell_type": "code",
   "source": "os.system('kaggle competitions submit -c playground-series-s4e5 -f data/submissions/submissions_xgb.csv -m \"XGBoost\"')",
   "id": "693cd30518c2ac51",
   "outputs": [],
   "execution_count": null
  },
  {
   "metadata": {},
   "cell_type": "markdown",
   "source": "#### XgBoost with hyperparameter tuning",
   "id": "5eb245e2aeb7cc2"
  },
  {
   "metadata": {},
   "cell_type": "code",
   "source": "import optuna",
   "id": "5455b5ea714f4ef7",
   "outputs": [],
   "execution_count": null
  },
  {
   "metadata": {},
   "cell_type": "code",
   "source": [
    "def objective(trial):\n",
    "    params = {\n",
    "        \"objective\": \"reg:squarederror\",\n",
    "        \"eval_metric\": \"rmse\",\n",
    "        \"booster\": trial.suggest_categorical(\"booster\", [\"gbtree\", \"gblinear\"]),\n",
    "        \"learning_rate\": trial.suggest_float(\"learning_rate\", 1e-3, 1, log=True),\n",
    "        \"max_depth\": trial.suggest_int(\"max_depth\", 6, 14),\n",
    "        \"n_estimators\": 1000,\n",
    "        \"gamma\": trial.suggest_float(\"gamma\", 1e-8, 1.0, log=True),\n",
    "        \"seed\": 42,\n",
    "        \"n_jobs\": -1,\n",
    "        \"verbosity\": 1\n",
    "    }\n",
    "\n",
    "    xgb_model = xgb.XGBRegressor(**params, early_stopping_rounds=2)\n",
    "    xgb_model.fit(train_, y_train_, eval_set=[(val_, y_val_)], verbose=50)\n",
    "    predictions = xgb_model.predict(test_)\n",
    "    r2 = r2_score(y_test_, predictions)\n",
    "    return r2"
   ],
   "id": "2c67676b1829b67",
   "outputs": [],
   "execution_count": null
  },
  {
   "metadata": {},
   "cell_type": "code",
   "source": "study = optuna.create_study(direction='maximize')",
   "id": "8072ed7d9bc63948",
   "outputs": [],
   "execution_count": null
  },
  {
   "metadata": {},
   "cell_type": "code",
   "source": "study.optimize(objective, n_trials=40)",
   "id": "3da6c0ea62405f24",
   "outputs": [
    {
     "ename": "NameError",
     "evalue": "name 'study' is not defined",
     "output_type": "error",
     "traceback": [
      "\u001B[0;31m---------------------------------------------------------------------------\u001B[0m",
      "\u001B[0;31mNameError\u001B[0m                                 Traceback (most recent call last)",
      "Cell \u001B[0;32mIn[37], line 1\u001B[0m\n\u001B[0;32m----> 1\u001B[0m \u001B[43mstudy\u001B[49m\u001B[38;5;241m.\u001B[39moptimize(objective, n_trials\u001B[38;5;241m=\u001B[39m\u001B[38;5;241m40\u001B[39m)\n",
      "\u001B[0;31mNameError\u001B[0m: name 'study' is not defined"
     ]
    }
   ],
   "execution_count": 37
  },
  {
   "metadata": {},
   "cell_type": "code",
   "source": [
    "print('Best hyperparameters:', study.best_params)\n",
    "print('Best RMSE:', study.best_value)"
   ],
   "id": "474893bd9034337b",
   "outputs": [],
   "execution_count": null
  },
  {
   "metadata": {
    "ExecuteTime": {
     "end_time": "2024-05-28T12:48:31.172912Z",
     "start_time": "2024-05-28T12:48:31.155381Z"
    }
   },
   "cell_type": "code",
   "source": [
    "params = study.best_params\n",
    "xgb_model = xgb.XGBRegressor(**params)"
   ],
   "id": "3177b2a17984ffb5",
   "outputs": [
    {
     "ename": "NameError",
     "evalue": "name 'study' is not defined",
     "output_type": "error",
     "traceback": [
      "\u001B[0;31m---------------------------------------------------------------------------\u001B[0m",
      "\u001B[0;31mNameError\u001B[0m                                 Traceback (most recent call last)",
      "Cell \u001B[0;32mIn[38], line 1\u001B[0m\n\u001B[0;32m----> 1\u001B[0m params \u001B[38;5;241m=\u001B[39m \u001B[43mstudy\u001B[49m\u001B[38;5;241m.\u001B[39mbest_params\n\u001B[1;32m      2\u001B[0m xgb_model \u001B[38;5;241m=\u001B[39m xgb\u001B[38;5;241m.\u001B[39mXGBRegressor(\u001B[38;5;241m*\u001B[39m\u001B[38;5;241m*\u001B[39mparams)\n",
      "\u001B[0;31mNameError\u001B[0m: name 'study' is not defined"
     ]
    }
   ],
   "execution_count": 38
  },
  {
   "metadata": {
    "ExecuteTime": {
     "end_time": "2024-05-28T12:48:31.244296Z",
     "start_time": "2024-05-28T12:48:31.225654Z"
    }
   },
   "cell_type": "code",
   "source": "xgb_model.fit(train_, y_train_, eval_set=[(val_, y_val_)])",
   "id": "9db7bdc5edb102c7",
   "outputs": [
    {
     "ename": "NameError",
     "evalue": "name 'xgb_model' is not defined",
     "output_type": "error",
     "traceback": [
      "\u001B[0;31m---------------------------------------------------------------------------\u001B[0m",
      "\u001B[0;31mNameError\u001B[0m                                 Traceback (most recent call last)",
      "Cell \u001B[0;32mIn[39], line 1\u001B[0m\n\u001B[0;32m----> 1\u001B[0m \u001B[43mxgb_model\u001B[49m\u001B[38;5;241m.\u001B[39mfit(train_, y_train_, eval_set\u001B[38;5;241m=\u001B[39m[(val_, y_val_)])\n",
      "\u001B[0;31mNameError\u001B[0m: name 'xgb_model' is not defined"
     ]
    }
   ],
   "execution_count": 39
  },
  {
   "metadata": {
    "ExecuteTime": {
     "end_time": "2024-05-28T12:48:31.402533Z",
     "start_time": "2024-05-28T12:48:31.370905Z"
    }
   },
   "cell_type": "code",
   "source": [
    "y_val_pred = xgb_model.predict(val_)\n",
    "y_test_pred = xgb_model.predict(test_)"
   ],
   "id": "e2773c04fa47205b",
   "outputs": [
    {
     "ename": "NameError",
     "evalue": "name 'xgb_model' is not defined",
     "output_type": "error",
     "traceback": [
      "\u001B[0;31m---------------------------------------------------------------------------\u001B[0m",
      "\u001B[0;31mNameError\u001B[0m                                 Traceback (most recent call last)",
      "Cell \u001B[0;32mIn[40], line 1\u001B[0m\n\u001B[0;32m----> 1\u001B[0m y_val_pred \u001B[38;5;241m=\u001B[39m \u001B[43mxgb_model\u001B[49m\u001B[38;5;241m.\u001B[39mpredict(val_)\n\u001B[1;32m      2\u001B[0m y_test_pred \u001B[38;5;241m=\u001B[39m xgb_model\u001B[38;5;241m.\u001B[39mpredict(test_)\n",
      "\u001B[0;31mNameError\u001B[0m: name 'xgb_model' is not defined"
     ]
    }
   ],
   "execution_count": 40
  },
  {
   "metadata": {
    "ExecuteTime": {
     "end_time": "2024-05-28T12:48:31.494236Z",
     "start_time": "2024-05-28T12:48:31.462448Z"
    }
   },
   "cell_type": "code",
   "source": [
    "tmp_metricas = pd.DataFrame({'Modelo': ['XGBoost GridSearch'], 'r2_val': [r2_score(y_val_, y_val_pred)], 'r2_test': [r2_score(y_test_, y_test_pred)]})\n",
    "metricas = pd.concat([metricas, tmp_metricas])\n",
    "metricas"
   ],
   "id": "1e01b737f4316b93",
   "outputs": [
    {
     "ename": "NameError",
     "evalue": "name 'pd' is not defined",
     "output_type": "error",
     "traceback": [
      "\u001B[0;31m---------------------------------------------------------------------------\u001B[0m",
      "\u001B[0;31mNameError\u001B[0m                                 Traceback (most recent call last)",
      "Cell \u001B[0;32mIn[41], line 1\u001B[0m\n\u001B[0;32m----> 1\u001B[0m tmp_metricas \u001B[38;5;241m=\u001B[39m \u001B[43mpd\u001B[49m\u001B[38;5;241m.\u001B[39mDataFrame({\u001B[38;5;124m'\u001B[39m\u001B[38;5;124mModelo\u001B[39m\u001B[38;5;124m'\u001B[39m: [\u001B[38;5;124m'\u001B[39m\u001B[38;5;124mXGBoost GridSearch\u001B[39m\u001B[38;5;124m'\u001B[39m], \u001B[38;5;124m'\u001B[39m\u001B[38;5;124mr2_val\u001B[39m\u001B[38;5;124m'\u001B[39m: [r2_score(y_val_, y_val_pred)], \u001B[38;5;124m'\u001B[39m\u001B[38;5;124mr2_test\u001B[39m\u001B[38;5;124m'\u001B[39m: [r2_score(y_test_, y_test_pred)]})\n\u001B[1;32m      2\u001B[0m metricas \u001B[38;5;241m=\u001B[39m pd\u001B[38;5;241m.\u001B[39mconcat([metricas, tmp_metricas])\n\u001B[1;32m      3\u001B[0m metricas\n",
      "\u001B[0;31mNameError\u001B[0m: name 'pd' is not defined"
     ]
    }
   ],
   "execution_count": 41
  },
  {
   "metadata": {
    "ExecuteTime": {
     "end_time": "2024-05-28T12:48:31.650620Z",
     "start_time": "2024-05-28T12:48:31.619327Z"
    }
   },
   "cell_type": "code",
   "source": [
    "pred_test = xgb_model.predict(test.drop(columns='id'))\n",
    "submissions = pd.DataFrame({'id': test.id, 'FloodProbability': pred_test}).to_csv('data/submissions/submissions_xgb_grid.csv', index=False)"
   ],
   "id": "d82cb7af4e48c94f",
   "outputs": [
    {
     "ename": "NameError",
     "evalue": "name 'xgb_model' is not defined",
     "output_type": "error",
     "traceback": [
      "\u001B[0;31m---------------------------------------------------------------------------\u001B[0m",
      "\u001B[0;31mNameError\u001B[0m                                 Traceback (most recent call last)",
      "Cell \u001B[0;32mIn[42], line 1\u001B[0m\n\u001B[0;32m----> 1\u001B[0m pred_test \u001B[38;5;241m=\u001B[39m \u001B[43mxgb_model\u001B[49m\u001B[38;5;241m.\u001B[39mpredict(test\u001B[38;5;241m.\u001B[39mdrop(columns\u001B[38;5;241m=\u001B[39m\u001B[38;5;124m'\u001B[39m\u001B[38;5;124mid\u001B[39m\u001B[38;5;124m'\u001B[39m))\n\u001B[1;32m      2\u001B[0m submissions \u001B[38;5;241m=\u001B[39m pd\u001B[38;5;241m.\u001B[39mDataFrame({\u001B[38;5;124m'\u001B[39m\u001B[38;5;124mid\u001B[39m\u001B[38;5;124m'\u001B[39m: test\u001B[38;5;241m.\u001B[39mid, \u001B[38;5;124m'\u001B[39m\u001B[38;5;124mFloodProbability\u001B[39m\u001B[38;5;124m'\u001B[39m: pred_test})\u001B[38;5;241m.\u001B[39mto_csv(\u001B[38;5;124m'\u001B[39m\u001B[38;5;124mdata/submissions/submissions_xgb_grid.csv\u001B[39m\u001B[38;5;124m'\u001B[39m, index\u001B[38;5;241m=\u001B[39m\u001B[38;5;28;01mFalse\u001B[39;00m)\n",
      "\u001B[0;31mNameError\u001B[0m: name 'xgb_model' is not defined"
     ]
    }
   ],
   "execution_count": 42
  },
  {
   "metadata": {
    "ExecuteTime": {
     "end_time": "2024-05-28T12:48:31.829893Z",
     "start_time": "2024-05-28T12:48:31.800703Z"
    }
   },
   "cell_type": "code",
   "source": "os.system('kaggle competitions submit -c playground-series-s4e5 -f data/submissions/submissions_xgb_grid.csv -m \"XGBoost GridSearch\"')",
   "id": "a1a0ab7ffd9ea432",
   "outputs": [
    {
     "ename": "NameError",
     "evalue": "name 'os' is not defined",
     "output_type": "error",
     "traceback": [
      "\u001B[0;31m---------------------------------------------------------------------------\u001B[0m",
      "\u001B[0;31mNameError\u001B[0m                                 Traceback (most recent call last)",
      "Cell \u001B[0;32mIn[43], line 1\u001B[0m\n\u001B[0;32m----> 1\u001B[0m \u001B[43mos\u001B[49m\u001B[38;5;241m.\u001B[39msystem(\u001B[38;5;124m'\u001B[39m\u001B[38;5;124mkaggle competitions submit -c playground-series-s4e5 -f data/submissions/submissions_xgb_grid.csv -m \u001B[39m\u001B[38;5;124m\"\u001B[39m\u001B[38;5;124mXGBoost GridSearch\u001B[39m\u001B[38;5;124m\"\u001B[39m\u001B[38;5;124m'\u001B[39m)\n",
      "\u001B[0;31mNameError\u001B[0m: name 'os' is not defined"
     ]
    }
   ],
   "execution_count": 43
  },
  {
   "metadata": {},
   "cell_type": "markdown",
   "source": "#### LightGBM",
   "id": "e411075ac231e421"
  },
  {
   "metadata": {
    "ExecuteTime": {
     "end_time": "2024-05-28T12:48:31.982834Z",
     "start_time": "2024-05-28T12:48:31.903229Z"
    }
   },
   "cell_type": "code",
   "source": "import lightgbm as lgb",
   "id": "268b3f4838fba06f",
   "outputs": [],
   "execution_count": 44
  },
  {
   "metadata": {
    "ExecuteTime": {
     "end_time": "2024-05-28T12:48:32.133030Z",
     "start_time": "2024-05-28T12:48:32.105836Z"
    }
   },
   "cell_type": "code",
   "source": [
    "lgb_train = lgb.Dataset(train_, y_train_)\n",
    "lgb_val = lgb.Dataset(val_, y_val_)\n",
    "lgb_test = lgb.Dataset(test_, y_test_)"
   ],
   "id": "17a773f547e63a95",
   "outputs": [
    {
     "ename": "NameError",
     "evalue": "name 'train_' is not defined",
     "output_type": "error",
     "traceback": [
      "\u001B[0;31m---------------------------------------------------------------------------\u001B[0m",
      "\u001B[0;31mNameError\u001B[0m                                 Traceback (most recent call last)",
      "Cell \u001B[0;32mIn[45], line 1\u001B[0m\n\u001B[0;32m----> 1\u001B[0m lgb_train \u001B[38;5;241m=\u001B[39m lgb\u001B[38;5;241m.\u001B[39mDataset(\u001B[43mtrain_\u001B[49m, y_train_)\n\u001B[1;32m      2\u001B[0m lgb_val \u001B[38;5;241m=\u001B[39m lgb\u001B[38;5;241m.\u001B[39mDataset(val_, y_val_)\n\u001B[1;32m      3\u001B[0m lgb_test \u001B[38;5;241m=\u001B[39m lgb\u001B[38;5;241m.\u001B[39mDataset(test_, y_test_)\n",
      "\u001B[0;31mNameError\u001B[0m: name 'train_' is not defined"
     ]
    }
   ],
   "execution_count": 45
  },
  {
   "metadata": {
    "ExecuteTime": {
     "end_time": "2024-05-28T12:48:32.278886Z",
     "start_time": "2024-05-28T12:48:32.257705Z"
    }
   },
   "cell_type": "code",
   "source": [
    "params = {'objective': 'regression', 'metric': 'r2', 'learning_rate': 0.05, 'booster': 'dart', 'seed': 42, 'boosting_type': 'gbdt', 'n_jobs': -1, 'verbosity': 1, 'n_estimators': 1000}\n",
    "lgb_model = lgb.train(params, lgb_train, num_boost_round=1000, valid_sets=[lgb_val])"
   ],
   "id": "13bb6832ed9fec88",
   "outputs": [
    {
     "ename": "NameError",
     "evalue": "name 'lgb_train' is not defined",
     "output_type": "error",
     "traceback": [
      "\u001B[0;31m---------------------------------------------------------------------------\u001B[0m",
      "\u001B[0;31mNameError\u001B[0m                                 Traceback (most recent call last)",
      "Cell \u001B[0;32mIn[46], line 2\u001B[0m\n\u001B[1;32m      1\u001B[0m params \u001B[38;5;241m=\u001B[39m {\u001B[38;5;124m'\u001B[39m\u001B[38;5;124mobjective\u001B[39m\u001B[38;5;124m'\u001B[39m: \u001B[38;5;124m'\u001B[39m\u001B[38;5;124mregression\u001B[39m\u001B[38;5;124m'\u001B[39m, \u001B[38;5;124m'\u001B[39m\u001B[38;5;124mmetric\u001B[39m\u001B[38;5;124m'\u001B[39m: \u001B[38;5;124m'\u001B[39m\u001B[38;5;124mr2\u001B[39m\u001B[38;5;124m'\u001B[39m, \u001B[38;5;124m'\u001B[39m\u001B[38;5;124mlearning_rate\u001B[39m\u001B[38;5;124m'\u001B[39m: \u001B[38;5;241m0.05\u001B[39m, \u001B[38;5;124m'\u001B[39m\u001B[38;5;124mbooster\u001B[39m\u001B[38;5;124m'\u001B[39m: \u001B[38;5;124m'\u001B[39m\u001B[38;5;124mdart\u001B[39m\u001B[38;5;124m'\u001B[39m, \u001B[38;5;124m'\u001B[39m\u001B[38;5;124mseed\u001B[39m\u001B[38;5;124m'\u001B[39m: \u001B[38;5;241m42\u001B[39m, \u001B[38;5;124m'\u001B[39m\u001B[38;5;124mboosting_type\u001B[39m\u001B[38;5;124m'\u001B[39m: \u001B[38;5;124m'\u001B[39m\u001B[38;5;124mgbdt\u001B[39m\u001B[38;5;124m'\u001B[39m, \u001B[38;5;124m'\u001B[39m\u001B[38;5;124mn_jobs\u001B[39m\u001B[38;5;124m'\u001B[39m: \u001B[38;5;241m-\u001B[39m\u001B[38;5;241m1\u001B[39m, \u001B[38;5;124m'\u001B[39m\u001B[38;5;124mverbosity\u001B[39m\u001B[38;5;124m'\u001B[39m: \u001B[38;5;241m1\u001B[39m, \u001B[38;5;124m'\u001B[39m\u001B[38;5;124mn_estimators\u001B[39m\u001B[38;5;124m'\u001B[39m: \u001B[38;5;241m1000\u001B[39m}\n\u001B[0;32m----> 2\u001B[0m lgb_model \u001B[38;5;241m=\u001B[39m lgb\u001B[38;5;241m.\u001B[39mtrain(params, \u001B[43mlgb_train\u001B[49m, num_boost_round\u001B[38;5;241m=\u001B[39m\u001B[38;5;241m1000\u001B[39m, valid_sets\u001B[38;5;241m=\u001B[39m[lgb_val])\n",
      "\u001B[0;31mNameError\u001B[0m: name 'lgb_train' is not defined"
     ]
    }
   ],
   "execution_count": 46
  },
  {
   "metadata": {
    "ExecuteTime": {
     "end_time": "2024-05-28T12:48:32.343318Z",
     "start_time": "2024-05-28T12:48:32.321462Z"
    }
   },
   "cell_type": "code",
   "source": [
    "y_val_pred = lgb_model.predict(val_)\n",
    "y_test_pred = lgb_model.predict(test_)"
   ],
   "id": "57ebd774d9baa57e",
   "outputs": [
    {
     "ename": "NameError",
     "evalue": "name 'lgb_model' is not defined",
     "output_type": "error",
     "traceback": [
      "\u001B[0;31m---------------------------------------------------------------------------\u001B[0m",
      "\u001B[0;31mNameError\u001B[0m                                 Traceback (most recent call last)",
      "Cell \u001B[0;32mIn[47], line 1\u001B[0m\n\u001B[0;32m----> 1\u001B[0m y_val_pred \u001B[38;5;241m=\u001B[39m \u001B[43mlgb_model\u001B[49m\u001B[38;5;241m.\u001B[39mpredict(val_)\n\u001B[1;32m      2\u001B[0m y_test_pred \u001B[38;5;241m=\u001B[39m lgb_model\u001B[38;5;241m.\u001B[39mpredict(test_)\n",
      "\u001B[0;31mNameError\u001B[0m: name 'lgb_model' is not defined"
     ]
    }
   ],
   "execution_count": 47
  },
  {
   "metadata": {
    "ExecuteTime": {
     "end_time": "2024-05-28T12:48:32.475886Z",
     "start_time": "2024-05-28T12:48:32.457163Z"
    }
   },
   "cell_type": "code",
   "source": "tmp_metricas = pd.DataFrame({'Modelo': ['LightGBM'], 'r2_val': [r2_score(y_val_, y_val_pred)], 'r2_test': [r2_score(y_test_, y_test_pred)]})",
   "id": "2b9984f6b730c8ec",
   "outputs": [
    {
     "ename": "NameError",
     "evalue": "name 'pd' is not defined",
     "output_type": "error",
     "traceback": [
      "\u001B[0;31m---------------------------------------------------------------------------\u001B[0m",
      "\u001B[0;31mNameError\u001B[0m                                 Traceback (most recent call last)",
      "Cell \u001B[0;32mIn[48], line 1\u001B[0m\n\u001B[0;32m----> 1\u001B[0m tmp_metricas \u001B[38;5;241m=\u001B[39m \u001B[43mpd\u001B[49m\u001B[38;5;241m.\u001B[39mDataFrame({\u001B[38;5;124m'\u001B[39m\u001B[38;5;124mModelo\u001B[39m\u001B[38;5;124m'\u001B[39m: [\u001B[38;5;124m'\u001B[39m\u001B[38;5;124mLightGBM\u001B[39m\u001B[38;5;124m'\u001B[39m], \u001B[38;5;124m'\u001B[39m\u001B[38;5;124mr2_val\u001B[39m\u001B[38;5;124m'\u001B[39m: [r2_score(y_val_, y_val_pred)], \u001B[38;5;124m'\u001B[39m\u001B[38;5;124mr2_test\u001B[39m\u001B[38;5;124m'\u001B[39m: [r2_score(y_test_, y_test_pred)]})\n",
      "\u001B[0;31mNameError\u001B[0m: name 'pd' is not defined"
     ]
    }
   ],
   "execution_count": 48
  },
  {
   "metadata": {
    "ExecuteTime": {
     "end_time": "2024-05-28T12:48:32.629576Z",
     "start_time": "2024-05-28T12:48:32.611078Z"
    }
   },
   "cell_type": "code",
   "source": [
    "metricas = pd.concat([metricas, tmp_metricas])\n",
    "metricas"
   ],
   "id": "84f90698d39c25f0",
   "outputs": [
    {
     "ename": "NameError",
     "evalue": "name 'pd' is not defined",
     "output_type": "error",
     "traceback": [
      "\u001B[0;31m---------------------------------------------------------------------------\u001B[0m",
      "\u001B[0;31mNameError\u001B[0m                                 Traceback (most recent call last)",
      "Cell \u001B[0;32mIn[49], line 1\u001B[0m\n\u001B[0;32m----> 1\u001B[0m metricas \u001B[38;5;241m=\u001B[39m \u001B[43mpd\u001B[49m\u001B[38;5;241m.\u001B[39mconcat([metricas, tmp_metricas])\n\u001B[1;32m      2\u001B[0m metricas\n",
      "\u001B[0;31mNameError\u001B[0m: name 'pd' is not defined"
     ]
    }
   ],
   "execution_count": 49
  },
  {
   "metadata": {
    "ExecuteTime": {
     "end_time": "2024-05-28T12:48:32.704576Z",
     "start_time": "2024-05-28T12:48:32.674064Z"
    }
   },
   "cell_type": "code",
   "source": [
    "pred_test = lgb_model.predict(test.drop(columns='id'))\n",
    "submissions = pd.DataFrame({'id': test.id, 'FloodProbability': pred_test}).to_csv('data/submissions/submissions_lgb.csv', index=False)"
   ],
   "id": "cd094285ea19987d",
   "outputs": [
    {
     "ename": "NameError",
     "evalue": "name 'lgb_model' is not defined",
     "output_type": "error",
     "traceback": [
      "\u001B[0;31m---------------------------------------------------------------------------\u001B[0m",
      "\u001B[0;31mNameError\u001B[0m                                 Traceback (most recent call last)",
      "Cell \u001B[0;32mIn[50], line 1\u001B[0m\n\u001B[0;32m----> 1\u001B[0m pred_test \u001B[38;5;241m=\u001B[39m \u001B[43mlgb_model\u001B[49m\u001B[38;5;241m.\u001B[39mpredict(test\u001B[38;5;241m.\u001B[39mdrop(columns\u001B[38;5;241m=\u001B[39m\u001B[38;5;124m'\u001B[39m\u001B[38;5;124mid\u001B[39m\u001B[38;5;124m'\u001B[39m))\n\u001B[1;32m      2\u001B[0m submissions \u001B[38;5;241m=\u001B[39m pd\u001B[38;5;241m.\u001B[39mDataFrame({\u001B[38;5;124m'\u001B[39m\u001B[38;5;124mid\u001B[39m\u001B[38;5;124m'\u001B[39m: test\u001B[38;5;241m.\u001B[39mid, \u001B[38;5;124m'\u001B[39m\u001B[38;5;124mFloodProbability\u001B[39m\u001B[38;5;124m'\u001B[39m: pred_test})\u001B[38;5;241m.\u001B[39mto_csv(\u001B[38;5;124m'\u001B[39m\u001B[38;5;124mdata/submissions/submissions_lgb.csv\u001B[39m\u001B[38;5;124m'\u001B[39m, index\u001B[38;5;241m=\u001B[39m\u001B[38;5;28;01mFalse\u001B[39;00m)\n",
      "\u001B[0;31mNameError\u001B[0m: name 'lgb_model' is not defined"
     ]
    }
   ],
   "execution_count": 50
  },
  {
   "metadata": {
    "ExecuteTime": {
     "end_time": "2024-05-28T12:48:32.864291Z",
     "start_time": "2024-05-28T12:48:32.846926Z"
    }
   },
   "cell_type": "code",
   "source": "os.system('kaggle competitions submit -c playground-series-s4e5 -f data/submissions/submissions_lgb.csv -m \"LightGBM\"')",
   "id": "78975cd75a2b6a3a",
   "outputs": [
    {
     "ename": "NameError",
     "evalue": "name 'os' is not defined",
     "output_type": "error",
     "traceback": [
      "\u001B[0;31m---------------------------------------------------------------------------\u001B[0m",
      "\u001B[0;31mNameError\u001B[0m                                 Traceback (most recent call last)",
      "Cell \u001B[0;32mIn[51], line 1\u001B[0m\n\u001B[0;32m----> 1\u001B[0m \u001B[43mos\u001B[49m\u001B[38;5;241m.\u001B[39msystem(\u001B[38;5;124m'\u001B[39m\u001B[38;5;124mkaggle competitions submit -c playground-series-s4e5 -f data/submissions/submissions_lgb.csv -m \u001B[39m\u001B[38;5;124m\"\u001B[39m\u001B[38;5;124mLightGBM\u001B[39m\u001B[38;5;124m\"\u001B[39m\u001B[38;5;124m'\u001B[39m)\n",
      "\u001B[0;31mNameError\u001B[0m: name 'os' is not defined"
     ]
    }
   ],
   "execution_count": 51
  },
  {
   "metadata": {},
   "cell_type": "markdown",
   "source": "#### LightGBM with hyperparameter tuning",
   "id": "4b28fe58f2de70c2"
  },
  {
   "metadata": {
    "ExecuteTime": {
     "end_time": "2024-05-28T12:48:33.070279Z",
     "start_time": "2024-05-28T12:48:32.984676Z"
    }
   },
   "cell_type": "code",
   "source": "import optuna",
   "id": "6a6765d47102afa0",
   "outputs": [],
   "execution_count": 52
  },
  {
   "metadata": {
    "ExecuteTime": {
     "end_time": "2024-05-28T12:48:33.075989Z",
     "start_time": "2024-05-28T12:48:33.071635Z"
    }
   },
   "cell_type": "code",
   "source": [
    "def objective(trial):\n",
    "    params = {\n",
    "        \"objective\": \"regression\",\n",
    "        \"metric\": \"rmse\",\n",
    "        \"booster\": trial.suggest_categorical(\"booster\", [\"gbtree\", \"gblinear\"]),\n",
    "        \"boosting_type\": \"gbdt\",\n",
    "        \"learning_rate\": trial.suggest_float(\"learning_rate\", 1e-3, 1, log=True),\n",
    "        \"num_leaves\": trial.suggest_int(\"num_leaves\", 20, 256),\n",
    "        \"max_depth\": trial.suggest_int(\"max_depth\", 6, 18),\n",
    "        \"n_estimators\": 1000,\n",
    "        \"seed\": 42,\n",
    "        \"n_jobs\": -1,\n",
    "        \"verbosity\": 1\n",
    "    }\n",
    "\n",
    "    lgb_model = lgb.LGBMRegressor(**params)\n",
    "    lgb_model.fit(train_, y_train_, eval_set=[(val_, y_val_)])\n",
    "    predictions = lgb_model.predict(test_)\n",
    "    r2 = r2_score(y_test_, predictions)\n",
    "    return r2"
   ],
   "id": "e34dd53164f298ff",
   "outputs": [],
   "execution_count": 53
  },
  {
   "metadata": {
    "ExecuteTime": {
     "end_time": "2024-05-28T12:48:33.363663Z",
     "start_time": "2024-05-28T12:48:33.218246Z"
    }
   },
   "cell_type": "code",
   "source": [
    "study2 = optuna.create_study(direction='maximize')\n",
    "study2.optimize(objective, n_trials=40)"
   ],
   "id": "796b0fda74f3a8ec",
   "outputs": [
    {
     "name": "stderr",
     "output_type": "stream",
     "text": [
      "[I 2024-05-28 07:48:33,219] A new study created in memory with name: no-name-fb03d722-2018-44e5-8e50-f417caa3c504\n",
      "[W 2024-05-28 07:48:33,221] Trial 0 failed with parameters: {'booster': 'gblinear', 'learning_rate': 0.007538837502883052, 'num_leaves': 60, 'max_depth': 7} because of the following error: NameError(\"name 'train_' is not defined\").\n",
      "Traceback (most recent call last):\n",
      "  File \"/home/chidalgo/git/DS_Course/venv/lib/python3.10/site-packages/optuna/study/_optimize.py\", line 196, in _run_trial\n",
      "    value_or_values = func(trial)\n",
      "  File \"/tmp/ipykernel_20991/3399334388.py\", line 17, in objective\n",
      "    lgb_model.fit(train_, y_train_, eval_set=[(val_, y_val_)])\n",
      "NameError: name 'train_' is not defined\n",
      "[W 2024-05-28 07:48:33,224] Trial 0 failed with value None.\n"
     ]
    },
    {
     "ename": "NameError",
     "evalue": "name 'train_' is not defined",
     "output_type": "error",
     "traceback": [
      "\u001B[0;31m---------------------------------------------------------------------------\u001B[0m",
      "\u001B[0;31mNameError\u001B[0m                                 Traceback (most recent call last)",
      "Cell \u001B[0;32mIn[54], line 2\u001B[0m\n\u001B[1;32m      1\u001B[0m study2 \u001B[38;5;241m=\u001B[39m optuna\u001B[38;5;241m.\u001B[39mcreate_study(direction\u001B[38;5;241m=\u001B[39m\u001B[38;5;124m'\u001B[39m\u001B[38;5;124mmaximize\u001B[39m\u001B[38;5;124m'\u001B[39m)\n\u001B[0;32m----> 2\u001B[0m \u001B[43mstudy2\u001B[49m\u001B[38;5;241;43m.\u001B[39;49m\u001B[43moptimize\u001B[49m\u001B[43m(\u001B[49m\u001B[43mobjective\u001B[49m\u001B[43m,\u001B[49m\u001B[43m \u001B[49m\u001B[43mn_trials\u001B[49m\u001B[38;5;241;43m=\u001B[39;49m\u001B[38;5;241;43m40\u001B[39;49m\u001B[43m)\u001B[49m\n",
      "File \u001B[0;32m~/git/DS_Course/venv/lib/python3.10/site-packages/optuna/study/study.py:451\u001B[0m, in \u001B[0;36mStudy.optimize\u001B[0;34m(self, func, n_trials, timeout, n_jobs, catch, callbacks, gc_after_trial, show_progress_bar)\u001B[0m\n\u001B[1;32m    348\u001B[0m \u001B[38;5;28;01mdef\u001B[39;00m \u001B[38;5;21moptimize\u001B[39m(\n\u001B[1;32m    349\u001B[0m     \u001B[38;5;28mself\u001B[39m,\n\u001B[1;32m    350\u001B[0m     func: ObjectiveFuncType,\n\u001B[0;32m   (...)\u001B[0m\n\u001B[1;32m    357\u001B[0m     show_progress_bar: \u001B[38;5;28mbool\u001B[39m \u001B[38;5;241m=\u001B[39m \u001B[38;5;28;01mFalse\u001B[39;00m,\n\u001B[1;32m    358\u001B[0m ) \u001B[38;5;241m-\u001B[39m\u001B[38;5;241m>\u001B[39m \u001B[38;5;28;01mNone\u001B[39;00m:\n\u001B[1;32m    359\u001B[0m \u001B[38;5;250m    \u001B[39m\u001B[38;5;124;03m\"\"\"Optimize an objective function.\u001B[39;00m\n\u001B[1;32m    360\u001B[0m \n\u001B[1;32m    361\u001B[0m \u001B[38;5;124;03m    Optimization is done by choosing a suitable set of hyperparameter values from a given\u001B[39;00m\n\u001B[0;32m   (...)\u001B[0m\n\u001B[1;32m    449\u001B[0m \u001B[38;5;124;03m            If nested invocation of this method occurs.\u001B[39;00m\n\u001B[1;32m    450\u001B[0m \u001B[38;5;124;03m    \"\"\"\u001B[39;00m\n\u001B[0;32m--> 451\u001B[0m     \u001B[43m_optimize\u001B[49m\u001B[43m(\u001B[49m\n\u001B[1;32m    452\u001B[0m \u001B[43m        \u001B[49m\u001B[43mstudy\u001B[49m\u001B[38;5;241;43m=\u001B[39;49m\u001B[38;5;28;43mself\u001B[39;49m\u001B[43m,\u001B[49m\n\u001B[1;32m    453\u001B[0m \u001B[43m        \u001B[49m\u001B[43mfunc\u001B[49m\u001B[38;5;241;43m=\u001B[39;49m\u001B[43mfunc\u001B[49m\u001B[43m,\u001B[49m\n\u001B[1;32m    454\u001B[0m \u001B[43m        \u001B[49m\u001B[43mn_trials\u001B[49m\u001B[38;5;241;43m=\u001B[39;49m\u001B[43mn_trials\u001B[49m\u001B[43m,\u001B[49m\n\u001B[1;32m    455\u001B[0m \u001B[43m        \u001B[49m\u001B[43mtimeout\u001B[49m\u001B[38;5;241;43m=\u001B[39;49m\u001B[43mtimeout\u001B[49m\u001B[43m,\u001B[49m\n\u001B[1;32m    456\u001B[0m \u001B[43m        \u001B[49m\u001B[43mn_jobs\u001B[49m\u001B[38;5;241;43m=\u001B[39;49m\u001B[43mn_jobs\u001B[49m\u001B[43m,\u001B[49m\n\u001B[1;32m    457\u001B[0m \u001B[43m        \u001B[49m\u001B[43mcatch\u001B[49m\u001B[38;5;241;43m=\u001B[39;49m\u001B[38;5;28;43mtuple\u001B[39;49m\u001B[43m(\u001B[49m\u001B[43mcatch\u001B[49m\u001B[43m)\u001B[49m\u001B[43m \u001B[49m\u001B[38;5;28;43;01mif\u001B[39;49;00m\u001B[43m \u001B[49m\u001B[38;5;28;43misinstance\u001B[39;49m\u001B[43m(\u001B[49m\u001B[43mcatch\u001B[49m\u001B[43m,\u001B[49m\u001B[43m \u001B[49m\u001B[43mIterable\u001B[49m\u001B[43m)\u001B[49m\u001B[43m \u001B[49m\u001B[38;5;28;43;01melse\u001B[39;49;00m\u001B[43m \u001B[49m\u001B[43m(\u001B[49m\u001B[43mcatch\u001B[49m\u001B[43m,\u001B[49m\u001B[43m)\u001B[49m\u001B[43m,\u001B[49m\n\u001B[1;32m    458\u001B[0m \u001B[43m        \u001B[49m\u001B[43mcallbacks\u001B[49m\u001B[38;5;241;43m=\u001B[39;49m\u001B[43mcallbacks\u001B[49m\u001B[43m,\u001B[49m\n\u001B[1;32m    459\u001B[0m \u001B[43m        \u001B[49m\u001B[43mgc_after_trial\u001B[49m\u001B[38;5;241;43m=\u001B[39;49m\u001B[43mgc_after_trial\u001B[49m\u001B[43m,\u001B[49m\n\u001B[1;32m    460\u001B[0m \u001B[43m        \u001B[49m\u001B[43mshow_progress_bar\u001B[49m\u001B[38;5;241;43m=\u001B[39;49m\u001B[43mshow_progress_bar\u001B[49m\u001B[43m,\u001B[49m\n\u001B[1;32m    461\u001B[0m \u001B[43m    \u001B[49m\u001B[43m)\u001B[49m\n",
      "File \u001B[0;32m~/git/DS_Course/venv/lib/python3.10/site-packages/optuna/study/_optimize.py:62\u001B[0m, in \u001B[0;36m_optimize\u001B[0;34m(study, func, n_trials, timeout, n_jobs, catch, callbacks, gc_after_trial, show_progress_bar)\u001B[0m\n\u001B[1;32m     60\u001B[0m \u001B[38;5;28;01mtry\u001B[39;00m:\n\u001B[1;32m     61\u001B[0m     \u001B[38;5;28;01mif\u001B[39;00m n_jobs \u001B[38;5;241m==\u001B[39m \u001B[38;5;241m1\u001B[39m:\n\u001B[0;32m---> 62\u001B[0m         \u001B[43m_optimize_sequential\u001B[49m\u001B[43m(\u001B[49m\n\u001B[1;32m     63\u001B[0m \u001B[43m            \u001B[49m\u001B[43mstudy\u001B[49m\u001B[43m,\u001B[49m\n\u001B[1;32m     64\u001B[0m \u001B[43m            \u001B[49m\u001B[43mfunc\u001B[49m\u001B[43m,\u001B[49m\n\u001B[1;32m     65\u001B[0m \u001B[43m            \u001B[49m\u001B[43mn_trials\u001B[49m\u001B[43m,\u001B[49m\n\u001B[1;32m     66\u001B[0m \u001B[43m            \u001B[49m\u001B[43mtimeout\u001B[49m\u001B[43m,\u001B[49m\n\u001B[1;32m     67\u001B[0m \u001B[43m            \u001B[49m\u001B[43mcatch\u001B[49m\u001B[43m,\u001B[49m\n\u001B[1;32m     68\u001B[0m \u001B[43m            \u001B[49m\u001B[43mcallbacks\u001B[49m\u001B[43m,\u001B[49m\n\u001B[1;32m     69\u001B[0m \u001B[43m            \u001B[49m\u001B[43mgc_after_trial\u001B[49m\u001B[43m,\u001B[49m\n\u001B[1;32m     70\u001B[0m \u001B[43m            \u001B[49m\u001B[43mreseed_sampler_rng\u001B[49m\u001B[38;5;241;43m=\u001B[39;49m\u001B[38;5;28;43;01mFalse\u001B[39;49;00m\u001B[43m,\u001B[49m\n\u001B[1;32m     71\u001B[0m \u001B[43m            \u001B[49m\u001B[43mtime_start\u001B[49m\u001B[38;5;241;43m=\u001B[39;49m\u001B[38;5;28;43;01mNone\u001B[39;49;00m\u001B[43m,\u001B[49m\n\u001B[1;32m     72\u001B[0m \u001B[43m            \u001B[49m\u001B[43mprogress_bar\u001B[49m\u001B[38;5;241;43m=\u001B[39;49m\u001B[43mprogress_bar\u001B[49m\u001B[43m,\u001B[49m\n\u001B[1;32m     73\u001B[0m \u001B[43m        \u001B[49m\u001B[43m)\u001B[49m\n\u001B[1;32m     74\u001B[0m     \u001B[38;5;28;01melse\u001B[39;00m:\n\u001B[1;32m     75\u001B[0m         \u001B[38;5;28;01mif\u001B[39;00m n_jobs \u001B[38;5;241m==\u001B[39m \u001B[38;5;241m-\u001B[39m\u001B[38;5;241m1\u001B[39m:\n",
      "File \u001B[0;32m~/git/DS_Course/venv/lib/python3.10/site-packages/optuna/study/_optimize.py:159\u001B[0m, in \u001B[0;36m_optimize_sequential\u001B[0;34m(study, func, n_trials, timeout, catch, callbacks, gc_after_trial, reseed_sampler_rng, time_start, progress_bar)\u001B[0m\n\u001B[1;32m    156\u001B[0m         \u001B[38;5;28;01mbreak\u001B[39;00m\n\u001B[1;32m    158\u001B[0m \u001B[38;5;28;01mtry\u001B[39;00m:\n\u001B[0;32m--> 159\u001B[0m     frozen_trial \u001B[38;5;241m=\u001B[39m \u001B[43m_run_trial\u001B[49m\u001B[43m(\u001B[49m\u001B[43mstudy\u001B[49m\u001B[43m,\u001B[49m\u001B[43m \u001B[49m\u001B[43mfunc\u001B[49m\u001B[43m,\u001B[49m\u001B[43m \u001B[49m\u001B[43mcatch\u001B[49m\u001B[43m)\u001B[49m\n\u001B[1;32m    160\u001B[0m \u001B[38;5;28;01mfinally\u001B[39;00m:\n\u001B[1;32m    161\u001B[0m     \u001B[38;5;66;03m# The following line mitigates memory problems that can be occurred in some\u001B[39;00m\n\u001B[1;32m    162\u001B[0m     \u001B[38;5;66;03m# environments (e.g., services that use computing containers such as GitHub Actions).\u001B[39;00m\n\u001B[1;32m    163\u001B[0m     \u001B[38;5;66;03m# Please refer to the following PR for further details:\u001B[39;00m\n\u001B[1;32m    164\u001B[0m     \u001B[38;5;66;03m# https://github.com/optuna/optuna/pull/325.\u001B[39;00m\n\u001B[1;32m    165\u001B[0m     \u001B[38;5;28;01mif\u001B[39;00m gc_after_trial:\n",
      "File \u001B[0;32m~/git/DS_Course/venv/lib/python3.10/site-packages/optuna/study/_optimize.py:247\u001B[0m, in \u001B[0;36m_run_trial\u001B[0;34m(study, func, catch)\u001B[0m\n\u001B[1;32m    240\u001B[0m         \u001B[38;5;28;01massert\u001B[39;00m \u001B[38;5;28;01mFalse\u001B[39;00m, \u001B[38;5;124m\"\u001B[39m\u001B[38;5;124mShould not reach.\u001B[39m\u001B[38;5;124m\"\u001B[39m\n\u001B[1;32m    242\u001B[0m \u001B[38;5;28;01mif\u001B[39;00m (\n\u001B[1;32m    243\u001B[0m     frozen_trial\u001B[38;5;241m.\u001B[39mstate \u001B[38;5;241m==\u001B[39m TrialState\u001B[38;5;241m.\u001B[39mFAIL\n\u001B[1;32m    244\u001B[0m     \u001B[38;5;129;01mand\u001B[39;00m func_err \u001B[38;5;129;01mis\u001B[39;00m \u001B[38;5;129;01mnot\u001B[39;00m \u001B[38;5;28;01mNone\u001B[39;00m\n\u001B[1;32m    245\u001B[0m     \u001B[38;5;129;01mand\u001B[39;00m \u001B[38;5;129;01mnot\u001B[39;00m \u001B[38;5;28misinstance\u001B[39m(func_err, catch)\n\u001B[1;32m    246\u001B[0m ):\n\u001B[0;32m--> 247\u001B[0m     \u001B[38;5;28;01mraise\u001B[39;00m func_err\n\u001B[1;32m    248\u001B[0m \u001B[38;5;28;01mreturn\u001B[39;00m frozen_trial\n",
      "File \u001B[0;32m~/git/DS_Course/venv/lib/python3.10/site-packages/optuna/study/_optimize.py:196\u001B[0m, in \u001B[0;36m_run_trial\u001B[0;34m(study, func, catch)\u001B[0m\n\u001B[1;32m    194\u001B[0m \u001B[38;5;28;01mwith\u001B[39;00m get_heartbeat_thread(trial\u001B[38;5;241m.\u001B[39m_trial_id, study\u001B[38;5;241m.\u001B[39m_storage):\n\u001B[1;32m    195\u001B[0m     \u001B[38;5;28;01mtry\u001B[39;00m:\n\u001B[0;32m--> 196\u001B[0m         value_or_values \u001B[38;5;241m=\u001B[39m \u001B[43mfunc\u001B[49m\u001B[43m(\u001B[49m\u001B[43mtrial\u001B[49m\u001B[43m)\u001B[49m\n\u001B[1;32m    197\u001B[0m     \u001B[38;5;28;01mexcept\u001B[39;00m exceptions\u001B[38;5;241m.\u001B[39mTrialPruned \u001B[38;5;28;01mas\u001B[39;00m e:\n\u001B[1;32m    198\u001B[0m         \u001B[38;5;66;03m# TODO(mamu): Handle multi-objective cases.\u001B[39;00m\n\u001B[1;32m    199\u001B[0m         state \u001B[38;5;241m=\u001B[39m TrialState\u001B[38;5;241m.\u001B[39mPRUNED\n",
      "Cell \u001B[0;32mIn[53], line 17\u001B[0m, in \u001B[0;36mobjective\u001B[0;34m(trial)\u001B[0m\n\u001B[1;32m      2\u001B[0m params \u001B[38;5;241m=\u001B[39m {\n\u001B[1;32m      3\u001B[0m     \u001B[38;5;124m\"\u001B[39m\u001B[38;5;124mobjective\u001B[39m\u001B[38;5;124m\"\u001B[39m: \u001B[38;5;124m\"\u001B[39m\u001B[38;5;124mregression\u001B[39m\u001B[38;5;124m\"\u001B[39m,\n\u001B[1;32m      4\u001B[0m     \u001B[38;5;124m\"\u001B[39m\u001B[38;5;124mmetric\u001B[39m\u001B[38;5;124m\"\u001B[39m: \u001B[38;5;124m\"\u001B[39m\u001B[38;5;124mrmse\u001B[39m\u001B[38;5;124m\"\u001B[39m,\n\u001B[0;32m   (...)\u001B[0m\n\u001B[1;32m     13\u001B[0m     \u001B[38;5;124m\"\u001B[39m\u001B[38;5;124mverbosity\u001B[39m\u001B[38;5;124m\"\u001B[39m: \u001B[38;5;241m1\u001B[39m\n\u001B[1;32m     14\u001B[0m }\n\u001B[1;32m     16\u001B[0m lgb_model \u001B[38;5;241m=\u001B[39m lgb\u001B[38;5;241m.\u001B[39mLGBMRegressor(\u001B[38;5;241m*\u001B[39m\u001B[38;5;241m*\u001B[39mparams)\n\u001B[0;32m---> 17\u001B[0m lgb_model\u001B[38;5;241m.\u001B[39mfit(\u001B[43mtrain_\u001B[49m, y_train_, eval_set\u001B[38;5;241m=\u001B[39m[(val_, y_val_)])\n\u001B[1;32m     18\u001B[0m predictions \u001B[38;5;241m=\u001B[39m lgb_model\u001B[38;5;241m.\u001B[39mpredict(test_)\n\u001B[1;32m     19\u001B[0m r2 \u001B[38;5;241m=\u001B[39m r2_score(y_test_, predictions)\n",
      "\u001B[0;31mNameError\u001B[0m: name 'train_' is not defined"
     ]
    }
   ],
   "execution_count": 54
  },
  {
   "metadata": {},
   "cell_type": "code",
   "source": [
    "print('Best hyperparameters:', study2.best_params)\n",
    "print('Best RMSE:', study2.best_value)"
   ],
   "id": "11585448837fda1a",
   "outputs": [],
   "execution_count": null
  },
  {
   "metadata": {
    "ExecuteTime": {
     "end_time": "2024-05-28T12:48:33.449301Z",
     "start_time": "2024-05-28T12:48:33.388340Z"
    }
   },
   "cell_type": "code",
   "source": "params = study2.best_params",
   "id": "c5ccac5fb635c94e",
   "outputs": [
    {
     "ename": "ValueError",
     "evalue": "No trials are completed yet.",
     "output_type": "error",
     "traceback": [
      "\u001B[0;31m---------------------------------------------------------------------------\u001B[0m",
      "\u001B[0;31mValueError\u001B[0m                                Traceback (most recent call last)",
      "Cell \u001B[0;32mIn[55], line 1\u001B[0m\n\u001B[0;32m----> 1\u001B[0m params \u001B[38;5;241m=\u001B[39m \u001B[43mstudy2\u001B[49m\u001B[38;5;241;43m.\u001B[39;49m\u001B[43mbest_params\u001B[49m\n",
      "File \u001B[0;32m~/git/DS_Course/venv/lib/python3.10/site-packages/optuna/study/study.py:114\u001B[0m, in \u001B[0;36mStudy.best_params\u001B[0;34m(self)\u001B[0m\n\u001B[1;32m    102\u001B[0m \u001B[38;5;129m@property\u001B[39m\n\u001B[1;32m    103\u001B[0m \u001B[38;5;28;01mdef\u001B[39;00m \u001B[38;5;21mbest_params\u001B[39m(\u001B[38;5;28mself\u001B[39m) \u001B[38;5;241m-\u001B[39m\u001B[38;5;241m>\u001B[39m \u001B[38;5;28mdict\u001B[39m[\u001B[38;5;28mstr\u001B[39m, Any]:\n\u001B[1;32m    104\u001B[0m \u001B[38;5;250m    \u001B[39m\u001B[38;5;124;03m\"\"\"Return parameters of the best trial in the study.\u001B[39;00m\n\u001B[1;32m    105\u001B[0m \n\u001B[1;32m    106\u001B[0m \u001B[38;5;124;03m    .. note::\u001B[39;00m\n\u001B[0;32m   (...)\u001B[0m\n\u001B[1;32m    111\u001B[0m \n\u001B[1;32m    112\u001B[0m \u001B[38;5;124;03m    \"\"\"\u001B[39;00m\n\u001B[0;32m--> 114\u001B[0m     \u001B[38;5;28;01mreturn\u001B[39;00m \u001B[38;5;28;43mself\u001B[39;49m\u001B[38;5;241;43m.\u001B[39;49m\u001B[43mbest_trial\u001B[49m\u001B[38;5;241m.\u001B[39mparams\n",
      "File \u001B[0;32m~/git/DS_Course/venv/lib/python3.10/site-packages/optuna/study/study.py:157\u001B[0m, in \u001B[0;36mStudy.best_trial\u001B[0;34m(self)\u001B[0m\n\u001B[1;32m    151\u001B[0m \u001B[38;5;28;01mif\u001B[39;00m \u001B[38;5;28mself\u001B[39m\u001B[38;5;241m.\u001B[39m_is_multi_objective():\n\u001B[1;32m    152\u001B[0m     \u001B[38;5;28;01mraise\u001B[39;00m \u001B[38;5;167;01mRuntimeError\u001B[39;00m(\n\u001B[1;32m    153\u001B[0m         \u001B[38;5;124m\"\u001B[39m\u001B[38;5;124mA single best trial cannot be retrieved from a multi-objective study. Consider \u001B[39m\u001B[38;5;124m\"\u001B[39m\n\u001B[1;32m    154\u001B[0m         \u001B[38;5;124m\"\u001B[39m\u001B[38;5;124musing Study.best_trials to retrieve a list containing the best trials.\u001B[39m\u001B[38;5;124m\"\u001B[39m\n\u001B[1;32m    155\u001B[0m     )\n\u001B[0;32m--> 157\u001B[0m \u001B[38;5;28;01mreturn\u001B[39;00m copy\u001B[38;5;241m.\u001B[39mdeepcopy(\u001B[38;5;28;43mself\u001B[39;49m\u001B[38;5;241;43m.\u001B[39;49m\u001B[43m_storage\u001B[49m\u001B[38;5;241;43m.\u001B[39;49m\u001B[43mget_best_trial\u001B[49m\u001B[43m(\u001B[49m\u001B[38;5;28;43mself\u001B[39;49m\u001B[38;5;241;43m.\u001B[39;49m\u001B[43m_study_id\u001B[49m\u001B[43m)\u001B[49m)\n",
      "File \u001B[0;32m~/git/DS_Course/venv/lib/python3.10/site-packages/optuna/storages/_in_memory.py:234\u001B[0m, in \u001B[0;36mInMemoryStorage.get_best_trial\u001B[0;34m(self, study_id)\u001B[0m\n\u001B[1;32m    231\u001B[0m best_trial_id \u001B[38;5;241m=\u001B[39m \u001B[38;5;28mself\u001B[39m\u001B[38;5;241m.\u001B[39m_studies[study_id]\u001B[38;5;241m.\u001B[39mbest_trial_id\n\u001B[1;32m    233\u001B[0m \u001B[38;5;28;01mif\u001B[39;00m best_trial_id \u001B[38;5;129;01mis\u001B[39;00m \u001B[38;5;28;01mNone\u001B[39;00m:\n\u001B[0;32m--> 234\u001B[0m     \u001B[38;5;28;01mraise\u001B[39;00m \u001B[38;5;167;01mValueError\u001B[39;00m(\u001B[38;5;124m\"\u001B[39m\u001B[38;5;124mNo trials are completed yet.\u001B[39m\u001B[38;5;124m\"\u001B[39m)\n\u001B[1;32m    235\u001B[0m \u001B[38;5;28;01melif\u001B[39;00m \u001B[38;5;28mlen\u001B[39m(\u001B[38;5;28mself\u001B[39m\u001B[38;5;241m.\u001B[39m_studies[study_id]\u001B[38;5;241m.\u001B[39mdirections) \u001B[38;5;241m>\u001B[39m \u001B[38;5;241m1\u001B[39m:\n\u001B[1;32m    236\u001B[0m     \u001B[38;5;28;01mraise\u001B[39;00m \u001B[38;5;167;01mRuntimeError\u001B[39;00m(\n\u001B[1;32m    237\u001B[0m         \u001B[38;5;124m\"\u001B[39m\u001B[38;5;124mBest trial can be obtained only for single-objective optimization.\u001B[39m\u001B[38;5;124m\"\u001B[39m\n\u001B[1;32m    238\u001B[0m     )\n",
      "\u001B[0;31mValueError\u001B[0m: No trials are completed yet."
     ]
    }
   ],
   "execution_count": 55
  },
  {
   "metadata": {
    "ExecuteTime": {
     "end_time": "2024-05-28T12:48:33.495849Z",
     "start_time": "2024-05-28T12:48:33.493282Z"
    }
   },
   "cell_type": "code",
   "source": "lgb_model = lgb.LGBMRegressor(**params)",
   "id": "ae757222f480425",
   "outputs": [],
   "execution_count": 56
  },
  {
   "metadata": {
    "ExecuteTime": {
     "end_time": "2024-05-28T12:48:33.616508Z",
     "start_time": "2024-05-28T12:48:33.597574Z"
    }
   },
   "cell_type": "code",
   "source": "lgb_model.fit(train_, y_train_, eval_set=[(val_, y_val_)])",
   "id": "4f5fe0cc6cf43cdd",
   "outputs": [
    {
     "ename": "NameError",
     "evalue": "name 'train_' is not defined",
     "output_type": "error",
     "traceback": [
      "\u001B[0;31m---------------------------------------------------------------------------\u001B[0m",
      "\u001B[0;31mNameError\u001B[0m                                 Traceback (most recent call last)",
      "Cell \u001B[0;32mIn[57], line 1\u001B[0m\n\u001B[0;32m----> 1\u001B[0m lgb_model\u001B[38;5;241m.\u001B[39mfit(\u001B[43mtrain_\u001B[49m, y_train_, eval_set\u001B[38;5;241m=\u001B[39m[(val_, y_val_)])\n",
      "\u001B[0;31mNameError\u001B[0m: name 'train_' is not defined"
     ]
    }
   ],
   "execution_count": 57
  },
  {
   "metadata": {
    "ExecuteTime": {
     "end_time": "2024-05-28T12:48:33.759830Z",
     "start_time": "2024-05-28T12:48:33.742077Z"
    }
   },
   "cell_type": "code",
   "source": [
    "y_val_pred = lgb_model.predict(val_)\n",
    "y_test_pred = lgb_model.predict(test_)"
   ],
   "id": "4a32c228750b93b9",
   "outputs": [
    {
     "ename": "NameError",
     "evalue": "name 'val_' is not defined",
     "output_type": "error",
     "traceback": [
      "\u001B[0;31m---------------------------------------------------------------------------\u001B[0m",
      "\u001B[0;31mNameError\u001B[0m                                 Traceback (most recent call last)",
      "Cell \u001B[0;32mIn[58], line 1\u001B[0m\n\u001B[0;32m----> 1\u001B[0m y_val_pred \u001B[38;5;241m=\u001B[39m lgb_model\u001B[38;5;241m.\u001B[39mpredict(\u001B[43mval_\u001B[49m)\n\u001B[1;32m      2\u001B[0m y_test_pred \u001B[38;5;241m=\u001B[39m lgb_model\u001B[38;5;241m.\u001B[39mpredict(test_)\n",
      "\u001B[0;31mNameError\u001B[0m: name 'val_' is not defined"
     ]
    }
   ],
   "execution_count": 58
  },
  {
   "metadata": {
    "ExecuteTime": {
     "end_time": "2024-05-28T12:48:33.818836Z",
     "start_time": "2024-05-28T12:48:33.800242Z"
    }
   },
   "cell_type": "code",
   "source": [
    "tmp_metricas = pd.DataFrame({'Modelo': ['LightGBM GridSearch'], 'r2_val': [r2_score(y_val_, y_val_pred)], 'r2_test': [r2_score(y_test_, y_test_pred)]})\n",
    "metricas = pd.concat([metricas, tmp_metricas])\n",
    "metricas"
   ],
   "id": "93aaeb23cb2da9ce",
   "outputs": [
    {
     "ename": "NameError",
     "evalue": "name 'pd' is not defined",
     "output_type": "error",
     "traceback": [
      "\u001B[0;31m---------------------------------------------------------------------------\u001B[0m",
      "\u001B[0;31mNameError\u001B[0m                                 Traceback (most recent call last)",
      "Cell \u001B[0;32mIn[59], line 1\u001B[0m\n\u001B[0;32m----> 1\u001B[0m tmp_metricas \u001B[38;5;241m=\u001B[39m \u001B[43mpd\u001B[49m\u001B[38;5;241m.\u001B[39mDataFrame({\u001B[38;5;124m'\u001B[39m\u001B[38;5;124mModelo\u001B[39m\u001B[38;5;124m'\u001B[39m: [\u001B[38;5;124m'\u001B[39m\u001B[38;5;124mLightGBM GridSearch\u001B[39m\u001B[38;5;124m'\u001B[39m], \u001B[38;5;124m'\u001B[39m\u001B[38;5;124mr2_val\u001B[39m\u001B[38;5;124m'\u001B[39m: [r2_score(y_val_, y_val_pred)], \u001B[38;5;124m'\u001B[39m\u001B[38;5;124mr2_test\u001B[39m\u001B[38;5;124m'\u001B[39m: [r2_score(y_test_, y_test_pred)]})\n\u001B[1;32m      2\u001B[0m metricas \u001B[38;5;241m=\u001B[39m pd\u001B[38;5;241m.\u001B[39mconcat([metricas, tmp_metricas])\n\u001B[1;32m      3\u001B[0m metricas\n",
      "\u001B[0;31mNameError\u001B[0m: name 'pd' is not defined"
     ]
    }
   ],
   "execution_count": 59
  },
  {
   "metadata": {
    "ExecuteTime": {
     "end_time": "2024-05-28T12:48:33.959164Z",
     "start_time": "2024-05-28T12:48:33.939714Z"
    }
   },
   "cell_type": "code",
   "source": [
    "pred_test = lgb_model.predict(test.drop(columns='id'))\n",
    "submissions = pd.DataFrame({'id': test.id, 'FloodProbability': pred_test}).to_csv('data/submissions/submissions_lgb_grid.csv', index=False)"
   ],
   "id": "23c2fed783aeefa9",
   "outputs": [
    {
     "ename": "NameError",
     "evalue": "name 'test' is not defined",
     "output_type": "error",
     "traceback": [
      "\u001B[0;31m---------------------------------------------------------------------------\u001B[0m",
      "\u001B[0;31mNameError\u001B[0m                                 Traceback (most recent call last)",
      "Cell \u001B[0;32mIn[60], line 1\u001B[0m\n\u001B[0;32m----> 1\u001B[0m pred_test \u001B[38;5;241m=\u001B[39m lgb_model\u001B[38;5;241m.\u001B[39mpredict(\u001B[43mtest\u001B[49m\u001B[38;5;241m.\u001B[39mdrop(columns\u001B[38;5;241m=\u001B[39m\u001B[38;5;124m'\u001B[39m\u001B[38;5;124mid\u001B[39m\u001B[38;5;124m'\u001B[39m))\n\u001B[1;32m      2\u001B[0m submissions \u001B[38;5;241m=\u001B[39m pd\u001B[38;5;241m.\u001B[39mDataFrame({\u001B[38;5;124m'\u001B[39m\u001B[38;5;124mid\u001B[39m\u001B[38;5;124m'\u001B[39m: test\u001B[38;5;241m.\u001B[39mid, \u001B[38;5;124m'\u001B[39m\u001B[38;5;124mFloodProbability\u001B[39m\u001B[38;5;124m'\u001B[39m: pred_test})\u001B[38;5;241m.\u001B[39mto_csv(\u001B[38;5;124m'\u001B[39m\u001B[38;5;124mdata/submissions/submissions_lgb_grid.csv\u001B[39m\u001B[38;5;124m'\u001B[39m, index\u001B[38;5;241m=\u001B[39m\u001B[38;5;28;01mFalse\u001B[39;00m)\n",
      "\u001B[0;31mNameError\u001B[0m: name 'test' is not defined"
     ]
    }
   ],
   "execution_count": 60
  },
  {
   "metadata": {
    "ExecuteTime": {
     "end_time": "2024-05-28T12:48:34.097505Z",
     "start_time": "2024-05-28T12:48:34.079014Z"
    }
   },
   "cell_type": "code",
   "source": "os.system('kaggle competitions submit -c playground-series-s4e5 -f data/submissions/submissions_lgb_grid.csv -m \"LightGBM GridSearch\"')",
   "id": "ab7875dc3232866c",
   "outputs": [
    {
     "ename": "NameError",
     "evalue": "name 'os' is not defined",
     "output_type": "error",
     "traceback": [
      "\u001B[0;31m---------------------------------------------------------------------------\u001B[0m",
      "\u001B[0;31mNameError\u001B[0m                                 Traceback (most recent call last)",
      "Cell \u001B[0;32mIn[61], line 1\u001B[0m\n\u001B[0;32m----> 1\u001B[0m \u001B[43mos\u001B[49m\u001B[38;5;241m.\u001B[39msystem(\u001B[38;5;124m'\u001B[39m\u001B[38;5;124mkaggle competitions submit -c playground-series-s4e5 -f data/submissions/submissions_lgb_grid.csv -m \u001B[39m\u001B[38;5;124m\"\u001B[39m\u001B[38;5;124mLightGBM GridSearch\u001B[39m\u001B[38;5;124m\"\u001B[39m\u001B[38;5;124m'\u001B[39m)\n",
      "\u001B[0;31mNameError\u001B[0m: name 'os' is not defined"
     ]
    }
   ],
   "execution_count": 61
  },
  {
   "metadata": {},
   "cell_type": "markdown",
   "source": "#### catboost",
   "id": "6f98c0962bf845be"
  },
  {
   "metadata": {
    "ExecuteTime": {
     "end_time": "2024-05-28T12:48:34.196643Z",
     "start_time": "2024-05-28T12:48:34.166764Z"
    }
   },
   "cell_type": "code",
   "source": "import catboost as cb",
   "id": "f6b5d3b5a345f7da",
   "outputs": [],
   "execution_count": 62
  },
  {
   "metadata": {
    "ExecuteTime": {
     "end_time": "2024-05-28T12:48:34.319762Z",
     "start_time": "2024-05-28T12:48:34.316618Z"
    }
   },
   "cell_type": "code",
   "source": [
    "cb_model = cb.CatBoostRegressor(iterations=800, learning_rate=0.1, depth=7, loss_function='RMSE', verbose=10, random_state=42, \n",
    "                                eval_metric='R2', devices='0:1', early_stopping_rounds=10)"
   ],
   "id": "b4ae8bdfcc634239",
   "outputs": [],
   "execution_count": 63
  },
  {
   "metadata": {
    "ExecuteTime": {
     "end_time": "2024-05-28T12:48:34.462452Z",
     "start_time": "2024-05-28T12:48:34.442396Z"
    }
   },
   "cell_type": "code",
   "source": "cb_model.fit(train_, y_train_, eval_set=(val_, y_val_), verbose=10)",
   "id": "7dc13f223a856563",
   "outputs": [
    {
     "ename": "NameError",
     "evalue": "name 'train_' is not defined",
     "output_type": "error",
     "traceback": [
      "\u001B[0;31m---------------------------------------------------------------------------\u001B[0m",
      "\u001B[0;31mNameError\u001B[0m                                 Traceback (most recent call last)",
      "Cell \u001B[0;32mIn[64], line 1\u001B[0m\n\u001B[0;32m----> 1\u001B[0m cb_model\u001B[38;5;241m.\u001B[39mfit(\u001B[43mtrain_\u001B[49m, y_train_, eval_set\u001B[38;5;241m=\u001B[39m(val_, y_val_), verbose\u001B[38;5;241m=\u001B[39m\u001B[38;5;241m10\u001B[39m)\n",
      "\u001B[0;31mNameError\u001B[0m: name 'train_' is not defined"
     ]
    }
   ],
   "execution_count": 64
  },
  {
   "metadata": {
    "ExecuteTime": {
     "end_time": "2024-05-28T12:48:34.542577Z",
     "start_time": "2024-05-28T12:48:34.525143Z"
    }
   },
   "cell_type": "code",
   "source": [
    "y_val_pred = cb_model.predict(val_)\n",
    "y_test_pred = cb_model.predict(test_)"
   ],
   "id": "f408405cba33b133",
   "outputs": [
    {
     "ename": "NameError",
     "evalue": "name 'val_' is not defined",
     "output_type": "error",
     "traceback": [
      "\u001B[0;31m---------------------------------------------------------------------------\u001B[0m",
      "\u001B[0;31mNameError\u001B[0m                                 Traceback (most recent call last)",
      "Cell \u001B[0;32mIn[65], line 1\u001B[0m\n\u001B[0;32m----> 1\u001B[0m y_val_pred \u001B[38;5;241m=\u001B[39m cb_model\u001B[38;5;241m.\u001B[39mpredict(\u001B[43mval_\u001B[49m)\n\u001B[1;32m      2\u001B[0m y_test_pred \u001B[38;5;241m=\u001B[39m cb_model\u001B[38;5;241m.\u001B[39mpredict(test_)\n",
      "\u001B[0;31mNameError\u001B[0m: name 'val_' is not defined"
     ]
    }
   ],
   "execution_count": 65
  },
  {
   "metadata": {
    "ExecuteTime": {
     "end_time": "2024-05-28T12:48:34.644066Z",
     "start_time": "2024-05-28T12:48:34.624776Z"
    }
   },
   "cell_type": "code",
   "source": [
    "tmp_metricas = pd.DataFrame({'Modelo': ['CatBoost'], 'r2_val': [r2_score(y_val_, y_val_pred)], 'r2_test': [r2_score(y_test_, y_test_pred)]})\n",
    "tmp_metricas\n",
    "metricas = pd.concat([metricas, tmp_metricas])\n",
    "metricas"
   ],
   "id": "b7575bfede410413",
   "outputs": [
    {
     "ename": "NameError",
     "evalue": "name 'pd' is not defined",
     "output_type": "error",
     "traceback": [
      "\u001B[0;31m---------------------------------------------------------------------------\u001B[0m",
      "\u001B[0;31mNameError\u001B[0m                                 Traceback (most recent call last)",
      "Cell \u001B[0;32mIn[66], line 1\u001B[0m\n\u001B[0;32m----> 1\u001B[0m tmp_metricas \u001B[38;5;241m=\u001B[39m \u001B[43mpd\u001B[49m\u001B[38;5;241m.\u001B[39mDataFrame({\u001B[38;5;124m'\u001B[39m\u001B[38;5;124mModelo\u001B[39m\u001B[38;5;124m'\u001B[39m: [\u001B[38;5;124m'\u001B[39m\u001B[38;5;124mCatBoost\u001B[39m\u001B[38;5;124m'\u001B[39m], \u001B[38;5;124m'\u001B[39m\u001B[38;5;124mr2_val\u001B[39m\u001B[38;5;124m'\u001B[39m: [r2_score(y_val_, y_val_pred)], \u001B[38;5;124m'\u001B[39m\u001B[38;5;124mr2_test\u001B[39m\u001B[38;5;124m'\u001B[39m: [r2_score(y_test_, y_test_pred)]})\n\u001B[1;32m      2\u001B[0m tmp_metricas\n\u001B[1;32m      3\u001B[0m metricas \u001B[38;5;241m=\u001B[39m pd\u001B[38;5;241m.\u001B[39mconcat([metricas, tmp_metricas])\n",
      "\u001B[0;31mNameError\u001B[0m: name 'pd' is not defined"
     ]
    }
   ],
   "execution_count": 66
  },
  {
   "metadata": {
    "ExecuteTime": {
     "end_time": "2024-05-28T12:48:34.788542Z",
     "start_time": "2024-05-28T12:48:34.769344Z"
    }
   },
   "cell_type": "code",
   "source": [
    "pred_test = cb_model.predict(test)\n",
    "submissions = pd.DataFrame({'id': test.id, 'FloodProbability': pred_test}).to_csv('data/submissions/submissions_cb.csv', index=False)"
   ],
   "id": "3b4f8e01f9305b23",
   "outputs": [
    {
     "ename": "NameError",
     "evalue": "name 'test' is not defined",
     "output_type": "error",
     "traceback": [
      "\u001B[0;31m---------------------------------------------------------------------------\u001B[0m",
      "\u001B[0;31mNameError\u001B[0m                                 Traceback (most recent call last)",
      "Cell \u001B[0;32mIn[67], line 1\u001B[0m\n\u001B[0;32m----> 1\u001B[0m pred_test \u001B[38;5;241m=\u001B[39m cb_model\u001B[38;5;241m.\u001B[39mpredict(\u001B[43mtest\u001B[49m)\n\u001B[1;32m      2\u001B[0m submissions \u001B[38;5;241m=\u001B[39m pd\u001B[38;5;241m.\u001B[39mDataFrame({\u001B[38;5;124m'\u001B[39m\u001B[38;5;124mid\u001B[39m\u001B[38;5;124m'\u001B[39m: test\u001B[38;5;241m.\u001B[39mid, \u001B[38;5;124m'\u001B[39m\u001B[38;5;124mFloodProbability\u001B[39m\u001B[38;5;124m'\u001B[39m: pred_test})\u001B[38;5;241m.\u001B[39mto_csv(\u001B[38;5;124m'\u001B[39m\u001B[38;5;124mdata/submissions/submissions_cb.csv\u001B[39m\u001B[38;5;124m'\u001B[39m, index\u001B[38;5;241m=\u001B[39m\u001B[38;5;28;01mFalse\u001B[39;00m)\n",
      "\u001B[0;31mNameError\u001B[0m: name 'test' is not defined"
     ]
    }
   ],
   "execution_count": 67
  },
  {
   "metadata": {
    "ExecuteTime": {
     "end_time": "2024-05-28T12:48:34.851912Z",
     "start_time": "2024-05-28T12:48:34.849536Z"
    }
   },
   "cell_type": "code",
   "source": "#os.system('kaggle competitions submit -c playground-series-s4e5 -f data/submissions/submissions_cb.csv -m \"CatBoost\"')",
   "id": "4f34d92a02586aa",
   "outputs": [],
   "execution_count": 68
  },
  {
   "metadata": {},
   "cell_type": "markdown",
   "source": "#### CatBoost with hyperparameter tuning",
   "id": "7866ffa639a38fc4"
  },
  {
   "metadata": {
    "ExecuteTime": {
     "end_time": "2024-05-28T12:48:34.997263Z",
     "start_time": "2024-05-28T12:48:34.994740Z"
    }
   },
   "cell_type": "code",
   "source": [
    "import optuna\n",
    "from sklearn.metrics import mean_squared_error"
   ],
   "id": "5c8fc4d2ed2dfd15",
   "outputs": [],
   "execution_count": 69
  },
  {
   "metadata": {
    "ExecuteTime": {
     "end_time": "2024-05-28T12:48:35.145285Z",
     "start_time": "2024-05-28T12:48:35.141318Z"
    }
   },
   "cell_type": "code",
   "source": [
    "def objective(trial):\n",
    "    params = {\n",
    "        \"iterations\": 1000,\n",
    "        \"learning_rate\": trial.suggest_float(\"learning_rate\", 1e-3, 1, log=True),\n",
    "        \"depth\": trial.suggest_int(\"depth\", 6, 12),\n",
    "        \"subsample\": trial.suggest_float(\"subsample\", 0.5, 1),\n",
    "        \"colsample_bylevel\": trial.suggest_float(\"colsample_bylevel\",0.7, 0.9),\n",
    "        \"min_data_in_leaf\": trial.suggest_int(\"min_data_in_leaf\", 5, 50),\n",
    "    }\n",
    "\n",
    "    model = cb.CatBoostRegressor(**params, silent=True)\n",
    "    model.fit(train_, y_train_, eval_set=(val_, y_val_), verbose=10)\n",
    "    predictions = model.predict(test_)\n",
    "    rmse = mean_squared_error(y_test_, predictions, squared=False)\n",
    "    return rmse"
   ],
   "id": "5d0e996b1f93115",
   "outputs": [],
   "execution_count": 70
  },
  {
   "metadata": {
    "ExecuteTime": {
     "end_time": "2024-05-28T12:48:35.274722Z",
     "start_time": "2024-05-28T12:48:35.198456Z"
    }
   },
   "cell_type": "code",
   "source": [
    "study = optuna.create_study(direction='minimize')\n",
    "study.optimize(objective, n_trials=30)"
   ],
   "id": "faca732f6c5a8786",
   "outputs": [
    {
     "name": "stderr",
     "output_type": "stream",
     "text": [
      "[I 2024-05-28 07:48:35,199] A new study created in memory with name: no-name-039df4bb-e31a-4325-a641-31ac4f52152d\n",
      "[W 2024-05-28 07:48:35,201] Trial 0 failed with parameters: {'learning_rate': 0.03372200446289337, 'depth': 11, 'subsample': 0.9742289558870686, 'colsample_bylevel': 0.7151225845084223, 'min_data_in_leaf': 5} because of the following error: NameError(\"name 'train_' is not defined\").\n",
      "Traceback (most recent call last):\n",
      "  File \"/home/chidalgo/git/DS_Course/venv/lib/python3.10/site-packages/optuna/study/_optimize.py\", line 196, in _run_trial\n",
      "    value_or_values = func(trial)\n",
      "  File \"/tmp/ipykernel_20991/4289174437.py\", line 12, in objective\n",
      "    model.fit(train_, y_train_, eval_set=(val_, y_val_), verbose=10)\n",
      "NameError: name 'train_' is not defined\n",
      "[W 2024-05-28 07:48:35,204] Trial 0 failed with value None.\n"
     ]
    },
    {
     "ename": "NameError",
     "evalue": "name 'train_' is not defined",
     "output_type": "error",
     "traceback": [
      "\u001B[0;31m---------------------------------------------------------------------------\u001B[0m",
      "\u001B[0;31mNameError\u001B[0m                                 Traceback (most recent call last)",
      "Cell \u001B[0;32mIn[71], line 2\u001B[0m\n\u001B[1;32m      1\u001B[0m study \u001B[38;5;241m=\u001B[39m optuna\u001B[38;5;241m.\u001B[39mcreate_study(direction\u001B[38;5;241m=\u001B[39m\u001B[38;5;124m'\u001B[39m\u001B[38;5;124mminimize\u001B[39m\u001B[38;5;124m'\u001B[39m)\n\u001B[0;32m----> 2\u001B[0m \u001B[43mstudy\u001B[49m\u001B[38;5;241;43m.\u001B[39;49m\u001B[43moptimize\u001B[49m\u001B[43m(\u001B[49m\u001B[43mobjective\u001B[49m\u001B[43m,\u001B[49m\u001B[43m \u001B[49m\u001B[43mn_trials\u001B[49m\u001B[38;5;241;43m=\u001B[39;49m\u001B[38;5;241;43m30\u001B[39;49m\u001B[43m)\u001B[49m\n",
      "File \u001B[0;32m~/git/DS_Course/venv/lib/python3.10/site-packages/optuna/study/study.py:451\u001B[0m, in \u001B[0;36mStudy.optimize\u001B[0;34m(self, func, n_trials, timeout, n_jobs, catch, callbacks, gc_after_trial, show_progress_bar)\u001B[0m\n\u001B[1;32m    348\u001B[0m \u001B[38;5;28;01mdef\u001B[39;00m \u001B[38;5;21moptimize\u001B[39m(\n\u001B[1;32m    349\u001B[0m     \u001B[38;5;28mself\u001B[39m,\n\u001B[1;32m    350\u001B[0m     func: ObjectiveFuncType,\n\u001B[0;32m   (...)\u001B[0m\n\u001B[1;32m    357\u001B[0m     show_progress_bar: \u001B[38;5;28mbool\u001B[39m \u001B[38;5;241m=\u001B[39m \u001B[38;5;28;01mFalse\u001B[39;00m,\n\u001B[1;32m    358\u001B[0m ) \u001B[38;5;241m-\u001B[39m\u001B[38;5;241m>\u001B[39m \u001B[38;5;28;01mNone\u001B[39;00m:\n\u001B[1;32m    359\u001B[0m \u001B[38;5;250m    \u001B[39m\u001B[38;5;124;03m\"\"\"Optimize an objective function.\u001B[39;00m\n\u001B[1;32m    360\u001B[0m \n\u001B[1;32m    361\u001B[0m \u001B[38;5;124;03m    Optimization is done by choosing a suitable set of hyperparameter values from a given\u001B[39;00m\n\u001B[0;32m   (...)\u001B[0m\n\u001B[1;32m    449\u001B[0m \u001B[38;5;124;03m            If nested invocation of this method occurs.\u001B[39;00m\n\u001B[1;32m    450\u001B[0m \u001B[38;5;124;03m    \"\"\"\u001B[39;00m\n\u001B[0;32m--> 451\u001B[0m     \u001B[43m_optimize\u001B[49m\u001B[43m(\u001B[49m\n\u001B[1;32m    452\u001B[0m \u001B[43m        \u001B[49m\u001B[43mstudy\u001B[49m\u001B[38;5;241;43m=\u001B[39;49m\u001B[38;5;28;43mself\u001B[39;49m\u001B[43m,\u001B[49m\n\u001B[1;32m    453\u001B[0m \u001B[43m        \u001B[49m\u001B[43mfunc\u001B[49m\u001B[38;5;241;43m=\u001B[39;49m\u001B[43mfunc\u001B[49m\u001B[43m,\u001B[49m\n\u001B[1;32m    454\u001B[0m \u001B[43m        \u001B[49m\u001B[43mn_trials\u001B[49m\u001B[38;5;241;43m=\u001B[39;49m\u001B[43mn_trials\u001B[49m\u001B[43m,\u001B[49m\n\u001B[1;32m    455\u001B[0m \u001B[43m        \u001B[49m\u001B[43mtimeout\u001B[49m\u001B[38;5;241;43m=\u001B[39;49m\u001B[43mtimeout\u001B[49m\u001B[43m,\u001B[49m\n\u001B[1;32m    456\u001B[0m \u001B[43m        \u001B[49m\u001B[43mn_jobs\u001B[49m\u001B[38;5;241;43m=\u001B[39;49m\u001B[43mn_jobs\u001B[49m\u001B[43m,\u001B[49m\n\u001B[1;32m    457\u001B[0m \u001B[43m        \u001B[49m\u001B[43mcatch\u001B[49m\u001B[38;5;241;43m=\u001B[39;49m\u001B[38;5;28;43mtuple\u001B[39;49m\u001B[43m(\u001B[49m\u001B[43mcatch\u001B[49m\u001B[43m)\u001B[49m\u001B[43m \u001B[49m\u001B[38;5;28;43;01mif\u001B[39;49;00m\u001B[43m \u001B[49m\u001B[38;5;28;43misinstance\u001B[39;49m\u001B[43m(\u001B[49m\u001B[43mcatch\u001B[49m\u001B[43m,\u001B[49m\u001B[43m \u001B[49m\u001B[43mIterable\u001B[49m\u001B[43m)\u001B[49m\u001B[43m \u001B[49m\u001B[38;5;28;43;01melse\u001B[39;49;00m\u001B[43m \u001B[49m\u001B[43m(\u001B[49m\u001B[43mcatch\u001B[49m\u001B[43m,\u001B[49m\u001B[43m)\u001B[49m\u001B[43m,\u001B[49m\n\u001B[1;32m    458\u001B[0m \u001B[43m        \u001B[49m\u001B[43mcallbacks\u001B[49m\u001B[38;5;241;43m=\u001B[39;49m\u001B[43mcallbacks\u001B[49m\u001B[43m,\u001B[49m\n\u001B[1;32m    459\u001B[0m \u001B[43m        \u001B[49m\u001B[43mgc_after_trial\u001B[49m\u001B[38;5;241;43m=\u001B[39;49m\u001B[43mgc_after_trial\u001B[49m\u001B[43m,\u001B[49m\n\u001B[1;32m    460\u001B[0m \u001B[43m        \u001B[49m\u001B[43mshow_progress_bar\u001B[49m\u001B[38;5;241;43m=\u001B[39;49m\u001B[43mshow_progress_bar\u001B[49m\u001B[43m,\u001B[49m\n\u001B[1;32m    461\u001B[0m \u001B[43m    \u001B[49m\u001B[43m)\u001B[49m\n",
      "File \u001B[0;32m~/git/DS_Course/venv/lib/python3.10/site-packages/optuna/study/_optimize.py:62\u001B[0m, in \u001B[0;36m_optimize\u001B[0;34m(study, func, n_trials, timeout, n_jobs, catch, callbacks, gc_after_trial, show_progress_bar)\u001B[0m\n\u001B[1;32m     60\u001B[0m \u001B[38;5;28;01mtry\u001B[39;00m:\n\u001B[1;32m     61\u001B[0m     \u001B[38;5;28;01mif\u001B[39;00m n_jobs \u001B[38;5;241m==\u001B[39m \u001B[38;5;241m1\u001B[39m:\n\u001B[0;32m---> 62\u001B[0m         \u001B[43m_optimize_sequential\u001B[49m\u001B[43m(\u001B[49m\n\u001B[1;32m     63\u001B[0m \u001B[43m            \u001B[49m\u001B[43mstudy\u001B[49m\u001B[43m,\u001B[49m\n\u001B[1;32m     64\u001B[0m \u001B[43m            \u001B[49m\u001B[43mfunc\u001B[49m\u001B[43m,\u001B[49m\n\u001B[1;32m     65\u001B[0m \u001B[43m            \u001B[49m\u001B[43mn_trials\u001B[49m\u001B[43m,\u001B[49m\n\u001B[1;32m     66\u001B[0m \u001B[43m            \u001B[49m\u001B[43mtimeout\u001B[49m\u001B[43m,\u001B[49m\n\u001B[1;32m     67\u001B[0m \u001B[43m            \u001B[49m\u001B[43mcatch\u001B[49m\u001B[43m,\u001B[49m\n\u001B[1;32m     68\u001B[0m \u001B[43m            \u001B[49m\u001B[43mcallbacks\u001B[49m\u001B[43m,\u001B[49m\n\u001B[1;32m     69\u001B[0m \u001B[43m            \u001B[49m\u001B[43mgc_after_trial\u001B[49m\u001B[43m,\u001B[49m\n\u001B[1;32m     70\u001B[0m \u001B[43m            \u001B[49m\u001B[43mreseed_sampler_rng\u001B[49m\u001B[38;5;241;43m=\u001B[39;49m\u001B[38;5;28;43;01mFalse\u001B[39;49;00m\u001B[43m,\u001B[49m\n\u001B[1;32m     71\u001B[0m \u001B[43m            \u001B[49m\u001B[43mtime_start\u001B[49m\u001B[38;5;241;43m=\u001B[39;49m\u001B[38;5;28;43;01mNone\u001B[39;49;00m\u001B[43m,\u001B[49m\n\u001B[1;32m     72\u001B[0m \u001B[43m            \u001B[49m\u001B[43mprogress_bar\u001B[49m\u001B[38;5;241;43m=\u001B[39;49m\u001B[43mprogress_bar\u001B[49m\u001B[43m,\u001B[49m\n\u001B[1;32m     73\u001B[0m \u001B[43m        \u001B[49m\u001B[43m)\u001B[49m\n\u001B[1;32m     74\u001B[0m     \u001B[38;5;28;01melse\u001B[39;00m:\n\u001B[1;32m     75\u001B[0m         \u001B[38;5;28;01mif\u001B[39;00m n_jobs \u001B[38;5;241m==\u001B[39m \u001B[38;5;241m-\u001B[39m\u001B[38;5;241m1\u001B[39m:\n",
      "File \u001B[0;32m~/git/DS_Course/venv/lib/python3.10/site-packages/optuna/study/_optimize.py:159\u001B[0m, in \u001B[0;36m_optimize_sequential\u001B[0;34m(study, func, n_trials, timeout, catch, callbacks, gc_after_trial, reseed_sampler_rng, time_start, progress_bar)\u001B[0m\n\u001B[1;32m    156\u001B[0m         \u001B[38;5;28;01mbreak\u001B[39;00m\n\u001B[1;32m    158\u001B[0m \u001B[38;5;28;01mtry\u001B[39;00m:\n\u001B[0;32m--> 159\u001B[0m     frozen_trial \u001B[38;5;241m=\u001B[39m \u001B[43m_run_trial\u001B[49m\u001B[43m(\u001B[49m\u001B[43mstudy\u001B[49m\u001B[43m,\u001B[49m\u001B[43m \u001B[49m\u001B[43mfunc\u001B[49m\u001B[43m,\u001B[49m\u001B[43m \u001B[49m\u001B[43mcatch\u001B[49m\u001B[43m)\u001B[49m\n\u001B[1;32m    160\u001B[0m \u001B[38;5;28;01mfinally\u001B[39;00m:\n\u001B[1;32m    161\u001B[0m     \u001B[38;5;66;03m# The following line mitigates memory problems that can be occurred in some\u001B[39;00m\n\u001B[1;32m    162\u001B[0m     \u001B[38;5;66;03m# environments (e.g., services that use computing containers such as GitHub Actions).\u001B[39;00m\n\u001B[1;32m    163\u001B[0m     \u001B[38;5;66;03m# Please refer to the following PR for further details:\u001B[39;00m\n\u001B[1;32m    164\u001B[0m     \u001B[38;5;66;03m# https://github.com/optuna/optuna/pull/325.\u001B[39;00m\n\u001B[1;32m    165\u001B[0m     \u001B[38;5;28;01mif\u001B[39;00m gc_after_trial:\n",
      "File \u001B[0;32m~/git/DS_Course/venv/lib/python3.10/site-packages/optuna/study/_optimize.py:247\u001B[0m, in \u001B[0;36m_run_trial\u001B[0;34m(study, func, catch)\u001B[0m\n\u001B[1;32m    240\u001B[0m         \u001B[38;5;28;01massert\u001B[39;00m \u001B[38;5;28;01mFalse\u001B[39;00m, \u001B[38;5;124m\"\u001B[39m\u001B[38;5;124mShould not reach.\u001B[39m\u001B[38;5;124m\"\u001B[39m\n\u001B[1;32m    242\u001B[0m \u001B[38;5;28;01mif\u001B[39;00m (\n\u001B[1;32m    243\u001B[0m     frozen_trial\u001B[38;5;241m.\u001B[39mstate \u001B[38;5;241m==\u001B[39m TrialState\u001B[38;5;241m.\u001B[39mFAIL\n\u001B[1;32m    244\u001B[0m     \u001B[38;5;129;01mand\u001B[39;00m func_err \u001B[38;5;129;01mis\u001B[39;00m \u001B[38;5;129;01mnot\u001B[39;00m \u001B[38;5;28;01mNone\u001B[39;00m\n\u001B[1;32m    245\u001B[0m     \u001B[38;5;129;01mand\u001B[39;00m \u001B[38;5;129;01mnot\u001B[39;00m \u001B[38;5;28misinstance\u001B[39m(func_err, catch)\n\u001B[1;32m    246\u001B[0m ):\n\u001B[0;32m--> 247\u001B[0m     \u001B[38;5;28;01mraise\u001B[39;00m func_err\n\u001B[1;32m    248\u001B[0m \u001B[38;5;28;01mreturn\u001B[39;00m frozen_trial\n",
      "File \u001B[0;32m~/git/DS_Course/venv/lib/python3.10/site-packages/optuna/study/_optimize.py:196\u001B[0m, in \u001B[0;36m_run_trial\u001B[0;34m(study, func, catch)\u001B[0m\n\u001B[1;32m    194\u001B[0m \u001B[38;5;28;01mwith\u001B[39;00m get_heartbeat_thread(trial\u001B[38;5;241m.\u001B[39m_trial_id, study\u001B[38;5;241m.\u001B[39m_storage):\n\u001B[1;32m    195\u001B[0m     \u001B[38;5;28;01mtry\u001B[39;00m:\n\u001B[0;32m--> 196\u001B[0m         value_or_values \u001B[38;5;241m=\u001B[39m \u001B[43mfunc\u001B[49m\u001B[43m(\u001B[49m\u001B[43mtrial\u001B[49m\u001B[43m)\u001B[49m\n\u001B[1;32m    197\u001B[0m     \u001B[38;5;28;01mexcept\u001B[39;00m exceptions\u001B[38;5;241m.\u001B[39mTrialPruned \u001B[38;5;28;01mas\u001B[39;00m e:\n\u001B[1;32m    198\u001B[0m         \u001B[38;5;66;03m# TODO(mamu): Handle multi-objective cases.\u001B[39;00m\n\u001B[1;32m    199\u001B[0m         state \u001B[38;5;241m=\u001B[39m TrialState\u001B[38;5;241m.\u001B[39mPRUNED\n",
      "Cell \u001B[0;32mIn[70], line 12\u001B[0m, in \u001B[0;36mobjective\u001B[0;34m(trial)\u001B[0m\n\u001B[1;32m      2\u001B[0m params \u001B[38;5;241m=\u001B[39m {\n\u001B[1;32m      3\u001B[0m     \u001B[38;5;124m\"\u001B[39m\u001B[38;5;124miterations\u001B[39m\u001B[38;5;124m\"\u001B[39m: \u001B[38;5;241m1000\u001B[39m,\n\u001B[1;32m      4\u001B[0m     \u001B[38;5;124m\"\u001B[39m\u001B[38;5;124mlearning_rate\u001B[39m\u001B[38;5;124m\"\u001B[39m: trial\u001B[38;5;241m.\u001B[39msuggest_float(\u001B[38;5;124m\"\u001B[39m\u001B[38;5;124mlearning_rate\u001B[39m\u001B[38;5;124m\"\u001B[39m, \u001B[38;5;241m1e-3\u001B[39m, \u001B[38;5;241m1\u001B[39m, log\u001B[38;5;241m=\u001B[39m\u001B[38;5;28;01mTrue\u001B[39;00m),\n\u001B[0;32m   (...)\u001B[0m\n\u001B[1;32m      8\u001B[0m     \u001B[38;5;124m\"\u001B[39m\u001B[38;5;124mmin_data_in_leaf\u001B[39m\u001B[38;5;124m\"\u001B[39m: trial\u001B[38;5;241m.\u001B[39msuggest_int(\u001B[38;5;124m\"\u001B[39m\u001B[38;5;124mmin_data_in_leaf\u001B[39m\u001B[38;5;124m\"\u001B[39m, \u001B[38;5;241m5\u001B[39m, \u001B[38;5;241m50\u001B[39m),\n\u001B[1;32m      9\u001B[0m }\n\u001B[1;32m     11\u001B[0m model \u001B[38;5;241m=\u001B[39m cb\u001B[38;5;241m.\u001B[39mCatBoostRegressor(\u001B[38;5;241m*\u001B[39m\u001B[38;5;241m*\u001B[39mparams, silent\u001B[38;5;241m=\u001B[39m\u001B[38;5;28;01mTrue\u001B[39;00m)\n\u001B[0;32m---> 12\u001B[0m model\u001B[38;5;241m.\u001B[39mfit(\u001B[43mtrain_\u001B[49m, y_train_, eval_set\u001B[38;5;241m=\u001B[39m(val_, y_val_), verbose\u001B[38;5;241m=\u001B[39m\u001B[38;5;241m10\u001B[39m)\n\u001B[1;32m     13\u001B[0m predictions \u001B[38;5;241m=\u001B[39m model\u001B[38;5;241m.\u001B[39mpredict(test_)\n\u001B[1;32m     14\u001B[0m rmse \u001B[38;5;241m=\u001B[39m mean_squared_error(y_test_, predictions, squared\u001B[38;5;241m=\u001B[39m\u001B[38;5;28;01mFalse\u001B[39;00m)\n",
      "\u001B[0;31mNameError\u001B[0m: name 'train_' is not defined"
     ]
    }
   ],
   "execution_count": 71
  },
  {
   "metadata": {
    "ExecuteTime": {
     "end_time": "2024-05-28T12:48:35.384308Z",
     "start_time": "2024-05-28T12:48:35.352624Z"
    }
   },
   "cell_type": "code",
   "source": [
    "print('Best hyperparameters:', study.best_params)\n",
    "print('Best RMSE:', study.best_value)"
   ],
   "id": "f5386deffe71f90d",
   "outputs": [
    {
     "ename": "ValueError",
     "evalue": "No trials are completed yet.",
     "output_type": "error",
     "traceback": [
      "\u001B[0;31m---------------------------------------------------------------------------\u001B[0m",
      "\u001B[0;31mValueError\u001B[0m                                Traceback (most recent call last)",
      "Cell \u001B[0;32mIn[72], line 1\u001B[0m\n\u001B[0;32m----> 1\u001B[0m \u001B[38;5;28mprint\u001B[39m(\u001B[38;5;124m'\u001B[39m\u001B[38;5;124mBest hyperparameters:\u001B[39m\u001B[38;5;124m'\u001B[39m, \u001B[43mstudy\u001B[49m\u001B[38;5;241;43m.\u001B[39;49m\u001B[43mbest_params\u001B[49m)\n\u001B[1;32m      2\u001B[0m \u001B[38;5;28mprint\u001B[39m(\u001B[38;5;124m'\u001B[39m\u001B[38;5;124mBest RMSE:\u001B[39m\u001B[38;5;124m'\u001B[39m, study\u001B[38;5;241m.\u001B[39mbest_value)\n",
      "File \u001B[0;32m~/git/DS_Course/venv/lib/python3.10/site-packages/optuna/study/study.py:114\u001B[0m, in \u001B[0;36mStudy.best_params\u001B[0;34m(self)\u001B[0m\n\u001B[1;32m    102\u001B[0m \u001B[38;5;129m@property\u001B[39m\n\u001B[1;32m    103\u001B[0m \u001B[38;5;28;01mdef\u001B[39;00m \u001B[38;5;21mbest_params\u001B[39m(\u001B[38;5;28mself\u001B[39m) \u001B[38;5;241m-\u001B[39m\u001B[38;5;241m>\u001B[39m \u001B[38;5;28mdict\u001B[39m[\u001B[38;5;28mstr\u001B[39m, Any]:\n\u001B[1;32m    104\u001B[0m \u001B[38;5;250m    \u001B[39m\u001B[38;5;124;03m\"\"\"Return parameters of the best trial in the study.\u001B[39;00m\n\u001B[1;32m    105\u001B[0m \n\u001B[1;32m    106\u001B[0m \u001B[38;5;124;03m    .. note::\u001B[39;00m\n\u001B[0;32m   (...)\u001B[0m\n\u001B[1;32m    111\u001B[0m \n\u001B[1;32m    112\u001B[0m \u001B[38;5;124;03m    \"\"\"\u001B[39;00m\n\u001B[0;32m--> 114\u001B[0m     \u001B[38;5;28;01mreturn\u001B[39;00m \u001B[38;5;28;43mself\u001B[39;49m\u001B[38;5;241;43m.\u001B[39;49m\u001B[43mbest_trial\u001B[49m\u001B[38;5;241m.\u001B[39mparams\n",
      "File \u001B[0;32m~/git/DS_Course/venv/lib/python3.10/site-packages/optuna/study/study.py:157\u001B[0m, in \u001B[0;36mStudy.best_trial\u001B[0;34m(self)\u001B[0m\n\u001B[1;32m    151\u001B[0m \u001B[38;5;28;01mif\u001B[39;00m \u001B[38;5;28mself\u001B[39m\u001B[38;5;241m.\u001B[39m_is_multi_objective():\n\u001B[1;32m    152\u001B[0m     \u001B[38;5;28;01mraise\u001B[39;00m \u001B[38;5;167;01mRuntimeError\u001B[39;00m(\n\u001B[1;32m    153\u001B[0m         \u001B[38;5;124m\"\u001B[39m\u001B[38;5;124mA single best trial cannot be retrieved from a multi-objective study. Consider \u001B[39m\u001B[38;5;124m\"\u001B[39m\n\u001B[1;32m    154\u001B[0m         \u001B[38;5;124m\"\u001B[39m\u001B[38;5;124musing Study.best_trials to retrieve a list containing the best trials.\u001B[39m\u001B[38;5;124m\"\u001B[39m\n\u001B[1;32m    155\u001B[0m     )\n\u001B[0;32m--> 157\u001B[0m \u001B[38;5;28;01mreturn\u001B[39;00m copy\u001B[38;5;241m.\u001B[39mdeepcopy(\u001B[38;5;28;43mself\u001B[39;49m\u001B[38;5;241;43m.\u001B[39;49m\u001B[43m_storage\u001B[49m\u001B[38;5;241;43m.\u001B[39;49m\u001B[43mget_best_trial\u001B[49m\u001B[43m(\u001B[49m\u001B[38;5;28;43mself\u001B[39;49m\u001B[38;5;241;43m.\u001B[39;49m\u001B[43m_study_id\u001B[49m\u001B[43m)\u001B[49m)\n",
      "File \u001B[0;32m~/git/DS_Course/venv/lib/python3.10/site-packages/optuna/storages/_in_memory.py:234\u001B[0m, in \u001B[0;36mInMemoryStorage.get_best_trial\u001B[0;34m(self, study_id)\u001B[0m\n\u001B[1;32m    231\u001B[0m best_trial_id \u001B[38;5;241m=\u001B[39m \u001B[38;5;28mself\u001B[39m\u001B[38;5;241m.\u001B[39m_studies[study_id]\u001B[38;5;241m.\u001B[39mbest_trial_id\n\u001B[1;32m    233\u001B[0m \u001B[38;5;28;01mif\u001B[39;00m best_trial_id \u001B[38;5;129;01mis\u001B[39;00m \u001B[38;5;28;01mNone\u001B[39;00m:\n\u001B[0;32m--> 234\u001B[0m     \u001B[38;5;28;01mraise\u001B[39;00m \u001B[38;5;167;01mValueError\u001B[39;00m(\u001B[38;5;124m\"\u001B[39m\u001B[38;5;124mNo trials are completed yet.\u001B[39m\u001B[38;5;124m\"\u001B[39m)\n\u001B[1;32m    235\u001B[0m \u001B[38;5;28;01melif\u001B[39;00m \u001B[38;5;28mlen\u001B[39m(\u001B[38;5;28mself\u001B[39m\u001B[38;5;241m.\u001B[39m_studies[study_id]\u001B[38;5;241m.\u001B[39mdirections) \u001B[38;5;241m>\u001B[39m \u001B[38;5;241m1\u001B[39m:\n\u001B[1;32m    236\u001B[0m     \u001B[38;5;28;01mraise\u001B[39;00m \u001B[38;5;167;01mRuntimeError\u001B[39;00m(\n\u001B[1;32m    237\u001B[0m         \u001B[38;5;124m\"\u001B[39m\u001B[38;5;124mBest trial can be obtained only for single-objective optimization.\u001B[39m\u001B[38;5;124m\"\u001B[39m\n\u001B[1;32m    238\u001B[0m     )\n",
      "\u001B[0;31mValueError\u001B[0m: No trials are completed yet."
     ]
    }
   ],
   "execution_count": 72
  },
  {
   "metadata": {
    "ExecuteTime": {
     "end_time": "2024-05-28T12:48:35.461991Z",
     "start_time": "2024-05-28T12:48:35.428951Z"
    }
   },
   "cell_type": "code",
   "source": [
    "cb_model = cb.CatBoostRegressor(iterations=1000, learning_rate=study.best_params['learning_rate'], depth=study.best_params['depth'],\n",
    "                                subsample=study.best_params['subsample'], colsample_bylevel=study.best_params['colsample_bylevel'],\n",
    "                                min_data_in_leaf=study.best_params['min_data_in_leaf'], loss_function='RMSE', verbose=10, random_state=42, \n",
    "                                eval_metric='RMSE' , devices='0:1', early_stopping_rounds=10)"
   ],
   "id": "a50637486b5093ce",
   "outputs": [
    {
     "ename": "ValueError",
     "evalue": "No trials are completed yet.",
     "output_type": "error",
     "traceback": [
      "\u001B[0;31m---------------------------------------------------------------------------\u001B[0m",
      "\u001B[0;31mValueError\u001B[0m                                Traceback (most recent call last)",
      "Cell \u001B[0;32mIn[73], line 1\u001B[0m\n\u001B[0;32m----> 1\u001B[0m cb_model \u001B[38;5;241m=\u001B[39m cb\u001B[38;5;241m.\u001B[39mCatBoostRegressor(iterations\u001B[38;5;241m=\u001B[39m\u001B[38;5;241m1000\u001B[39m, learning_rate\u001B[38;5;241m=\u001B[39m\u001B[43mstudy\u001B[49m\u001B[38;5;241;43m.\u001B[39;49m\u001B[43mbest_params\u001B[49m[\u001B[38;5;124m'\u001B[39m\u001B[38;5;124mlearning_rate\u001B[39m\u001B[38;5;124m'\u001B[39m], depth\u001B[38;5;241m=\u001B[39mstudy\u001B[38;5;241m.\u001B[39mbest_params[\u001B[38;5;124m'\u001B[39m\u001B[38;5;124mdepth\u001B[39m\u001B[38;5;124m'\u001B[39m],\n\u001B[1;32m      2\u001B[0m                                 subsample\u001B[38;5;241m=\u001B[39mstudy\u001B[38;5;241m.\u001B[39mbest_params[\u001B[38;5;124m'\u001B[39m\u001B[38;5;124msubsample\u001B[39m\u001B[38;5;124m'\u001B[39m], colsample_bylevel\u001B[38;5;241m=\u001B[39mstudy\u001B[38;5;241m.\u001B[39mbest_params[\u001B[38;5;124m'\u001B[39m\u001B[38;5;124mcolsample_bylevel\u001B[39m\u001B[38;5;124m'\u001B[39m],\n\u001B[1;32m      3\u001B[0m                                 min_data_in_leaf\u001B[38;5;241m=\u001B[39mstudy\u001B[38;5;241m.\u001B[39mbest_params[\u001B[38;5;124m'\u001B[39m\u001B[38;5;124mmin_data_in_leaf\u001B[39m\u001B[38;5;124m'\u001B[39m], loss_function\u001B[38;5;241m=\u001B[39m\u001B[38;5;124m'\u001B[39m\u001B[38;5;124mRMSE\u001B[39m\u001B[38;5;124m'\u001B[39m, verbose\u001B[38;5;241m=\u001B[39m\u001B[38;5;241m10\u001B[39m, random_state\u001B[38;5;241m=\u001B[39m\u001B[38;5;241m42\u001B[39m, \n\u001B[1;32m      4\u001B[0m                                 eval_metric\u001B[38;5;241m=\u001B[39m\u001B[38;5;124m'\u001B[39m\u001B[38;5;124mRMSE\u001B[39m\u001B[38;5;124m'\u001B[39m , devices\u001B[38;5;241m=\u001B[39m\u001B[38;5;124m'\u001B[39m\u001B[38;5;124m0:1\u001B[39m\u001B[38;5;124m'\u001B[39m, early_stopping_rounds\u001B[38;5;241m=\u001B[39m\u001B[38;5;241m10\u001B[39m)\n",
      "File \u001B[0;32m~/git/DS_Course/venv/lib/python3.10/site-packages/optuna/study/study.py:114\u001B[0m, in \u001B[0;36mStudy.best_params\u001B[0;34m(self)\u001B[0m\n\u001B[1;32m    102\u001B[0m \u001B[38;5;129m@property\u001B[39m\n\u001B[1;32m    103\u001B[0m \u001B[38;5;28;01mdef\u001B[39;00m \u001B[38;5;21mbest_params\u001B[39m(\u001B[38;5;28mself\u001B[39m) \u001B[38;5;241m-\u001B[39m\u001B[38;5;241m>\u001B[39m \u001B[38;5;28mdict\u001B[39m[\u001B[38;5;28mstr\u001B[39m, Any]:\n\u001B[1;32m    104\u001B[0m \u001B[38;5;250m    \u001B[39m\u001B[38;5;124;03m\"\"\"Return parameters of the best trial in the study.\u001B[39;00m\n\u001B[1;32m    105\u001B[0m \n\u001B[1;32m    106\u001B[0m \u001B[38;5;124;03m    .. note::\u001B[39;00m\n\u001B[0;32m   (...)\u001B[0m\n\u001B[1;32m    111\u001B[0m \n\u001B[1;32m    112\u001B[0m \u001B[38;5;124;03m    \"\"\"\u001B[39;00m\n\u001B[0;32m--> 114\u001B[0m     \u001B[38;5;28;01mreturn\u001B[39;00m \u001B[38;5;28;43mself\u001B[39;49m\u001B[38;5;241;43m.\u001B[39;49m\u001B[43mbest_trial\u001B[49m\u001B[38;5;241m.\u001B[39mparams\n",
      "File \u001B[0;32m~/git/DS_Course/venv/lib/python3.10/site-packages/optuna/study/study.py:157\u001B[0m, in \u001B[0;36mStudy.best_trial\u001B[0;34m(self)\u001B[0m\n\u001B[1;32m    151\u001B[0m \u001B[38;5;28;01mif\u001B[39;00m \u001B[38;5;28mself\u001B[39m\u001B[38;5;241m.\u001B[39m_is_multi_objective():\n\u001B[1;32m    152\u001B[0m     \u001B[38;5;28;01mraise\u001B[39;00m \u001B[38;5;167;01mRuntimeError\u001B[39;00m(\n\u001B[1;32m    153\u001B[0m         \u001B[38;5;124m\"\u001B[39m\u001B[38;5;124mA single best trial cannot be retrieved from a multi-objective study. Consider \u001B[39m\u001B[38;5;124m\"\u001B[39m\n\u001B[1;32m    154\u001B[0m         \u001B[38;5;124m\"\u001B[39m\u001B[38;5;124musing Study.best_trials to retrieve a list containing the best trials.\u001B[39m\u001B[38;5;124m\"\u001B[39m\n\u001B[1;32m    155\u001B[0m     )\n\u001B[0;32m--> 157\u001B[0m \u001B[38;5;28;01mreturn\u001B[39;00m copy\u001B[38;5;241m.\u001B[39mdeepcopy(\u001B[38;5;28;43mself\u001B[39;49m\u001B[38;5;241;43m.\u001B[39;49m\u001B[43m_storage\u001B[49m\u001B[38;5;241;43m.\u001B[39;49m\u001B[43mget_best_trial\u001B[49m\u001B[43m(\u001B[49m\u001B[38;5;28;43mself\u001B[39;49m\u001B[38;5;241;43m.\u001B[39;49m\u001B[43m_study_id\u001B[49m\u001B[43m)\u001B[49m)\n",
      "File \u001B[0;32m~/git/DS_Course/venv/lib/python3.10/site-packages/optuna/storages/_in_memory.py:234\u001B[0m, in \u001B[0;36mInMemoryStorage.get_best_trial\u001B[0;34m(self, study_id)\u001B[0m\n\u001B[1;32m    231\u001B[0m best_trial_id \u001B[38;5;241m=\u001B[39m \u001B[38;5;28mself\u001B[39m\u001B[38;5;241m.\u001B[39m_studies[study_id]\u001B[38;5;241m.\u001B[39mbest_trial_id\n\u001B[1;32m    233\u001B[0m \u001B[38;5;28;01mif\u001B[39;00m best_trial_id \u001B[38;5;129;01mis\u001B[39;00m \u001B[38;5;28;01mNone\u001B[39;00m:\n\u001B[0;32m--> 234\u001B[0m     \u001B[38;5;28;01mraise\u001B[39;00m \u001B[38;5;167;01mValueError\u001B[39;00m(\u001B[38;5;124m\"\u001B[39m\u001B[38;5;124mNo trials are completed yet.\u001B[39m\u001B[38;5;124m\"\u001B[39m)\n\u001B[1;32m    235\u001B[0m \u001B[38;5;28;01melif\u001B[39;00m \u001B[38;5;28mlen\u001B[39m(\u001B[38;5;28mself\u001B[39m\u001B[38;5;241m.\u001B[39m_studies[study_id]\u001B[38;5;241m.\u001B[39mdirections) \u001B[38;5;241m>\u001B[39m \u001B[38;5;241m1\u001B[39m:\n\u001B[1;32m    236\u001B[0m     \u001B[38;5;28;01mraise\u001B[39;00m \u001B[38;5;167;01mRuntimeError\u001B[39;00m(\n\u001B[1;32m    237\u001B[0m         \u001B[38;5;124m\"\u001B[39m\u001B[38;5;124mBest trial can be obtained only for single-objective optimization.\u001B[39m\u001B[38;5;124m\"\u001B[39m\n\u001B[1;32m    238\u001B[0m     )\n",
      "\u001B[0;31mValueError\u001B[0m: No trials are completed yet."
     ]
    }
   ],
   "execution_count": 73
  },
  {
   "metadata": {
    "ExecuteTime": {
     "end_time": "2024-05-28T12:48:35.607647Z",
     "start_time": "2024-05-28T12:48:35.589496Z"
    }
   },
   "cell_type": "code",
   "source": "cb_model.fit(train_, y_train_, eval_set=(val_, y_val_), verbose=10)",
   "id": "bb62eb325c82cad8",
   "outputs": [
    {
     "ename": "NameError",
     "evalue": "name 'train_' is not defined",
     "output_type": "error",
     "traceback": [
      "\u001B[0;31m---------------------------------------------------------------------------\u001B[0m",
      "\u001B[0;31mNameError\u001B[0m                                 Traceback (most recent call last)",
      "Cell \u001B[0;32mIn[74], line 1\u001B[0m\n\u001B[0;32m----> 1\u001B[0m cb_model\u001B[38;5;241m.\u001B[39mfit(\u001B[43mtrain_\u001B[49m, y_train_, eval_set\u001B[38;5;241m=\u001B[39m(val_, y_val_), verbose\u001B[38;5;241m=\u001B[39m\u001B[38;5;241m10\u001B[39m)\n",
      "\u001B[0;31mNameError\u001B[0m: name 'train_' is not defined"
     ]
    }
   ],
   "execution_count": 74
  },
  {
   "metadata": {
    "ExecuteTime": {
     "end_time": "2024-05-28T12:48:35.767172Z",
     "start_time": "2024-05-28T12:48:35.749754Z"
    }
   },
   "cell_type": "code",
   "source": [
    "y_val_pred = cb_model.predict(val_)\n",
    "y_test_pred = cb_model.predict(test_)"
   ],
   "id": "200ecc0986681444",
   "outputs": [
    {
     "ename": "NameError",
     "evalue": "name 'val_' is not defined",
     "output_type": "error",
     "traceback": [
      "\u001B[0;31m---------------------------------------------------------------------------\u001B[0m",
      "\u001B[0;31mNameError\u001B[0m                                 Traceback (most recent call last)",
      "Cell \u001B[0;32mIn[75], line 1\u001B[0m\n\u001B[0;32m----> 1\u001B[0m y_val_pred \u001B[38;5;241m=\u001B[39m cb_model\u001B[38;5;241m.\u001B[39mpredict(\u001B[43mval_\u001B[49m)\n\u001B[1;32m      2\u001B[0m y_test_pred \u001B[38;5;241m=\u001B[39m cb_model\u001B[38;5;241m.\u001B[39mpredict(test_)\n",
      "\u001B[0;31mNameError\u001B[0m: name 'val_' is not defined"
     ]
    }
   ],
   "execution_count": 75
  },
  {
   "metadata": {
    "ExecuteTime": {
     "end_time": "2024-05-28T12:48:35.827706Z",
     "start_time": "2024-05-28T12:48:35.807645Z"
    }
   },
   "cell_type": "code",
   "source": [
    "tmp_metricas = pd.DataFrame({'Modelo': ['CatBoost GridSearch'], 'r2_val': [r2_score(y_val_, y_val_pred)], 'r2_test': [r2_score(y_test_, y_test_pred)]})\n",
    "metricas = pd.concat([metricas, tmp_metricas])\n",
    "metricas"
   ],
   "id": "897d9bfd68ec0da2",
   "outputs": [
    {
     "ename": "NameError",
     "evalue": "name 'pd' is not defined",
     "output_type": "error",
     "traceback": [
      "\u001B[0;31m---------------------------------------------------------------------------\u001B[0m",
      "\u001B[0;31mNameError\u001B[0m                                 Traceback (most recent call last)",
      "Cell \u001B[0;32mIn[76], line 1\u001B[0m\n\u001B[0;32m----> 1\u001B[0m tmp_metricas \u001B[38;5;241m=\u001B[39m \u001B[43mpd\u001B[49m\u001B[38;5;241m.\u001B[39mDataFrame({\u001B[38;5;124m'\u001B[39m\u001B[38;5;124mModelo\u001B[39m\u001B[38;5;124m'\u001B[39m: [\u001B[38;5;124m'\u001B[39m\u001B[38;5;124mCatBoost GridSearch\u001B[39m\u001B[38;5;124m'\u001B[39m], \u001B[38;5;124m'\u001B[39m\u001B[38;5;124mr2_val\u001B[39m\u001B[38;5;124m'\u001B[39m: [r2_score(y_val_, y_val_pred)], \u001B[38;5;124m'\u001B[39m\u001B[38;5;124mr2_test\u001B[39m\u001B[38;5;124m'\u001B[39m: [r2_score(y_test_, y_test_pred)]})\n\u001B[1;32m      2\u001B[0m metricas \u001B[38;5;241m=\u001B[39m pd\u001B[38;5;241m.\u001B[39mconcat([metricas, tmp_metricas])\n\u001B[1;32m      3\u001B[0m metricas\n",
      "\u001B[0;31mNameError\u001B[0m: name 'pd' is not defined"
     ]
    }
   ],
   "execution_count": 76
  },
  {
   "metadata": {
    "ExecuteTime": {
     "end_time": "2024-05-28T12:48:35.979064Z",
     "start_time": "2024-05-28T12:48:35.951255Z"
    }
   },
   "cell_type": "code",
   "source": [
    "pred_test = cb_model.predict(test)\n",
    "submissions = pd.DataFrame({'id': test.id, 'FloodProbability': pred_test}).to_csv('data/submissions/submissions_cb_grid.csv', index=False)"
   ],
   "id": "26274d15ec2c4641",
   "outputs": [
    {
     "ename": "NameError",
     "evalue": "name 'test' is not defined",
     "output_type": "error",
     "traceback": [
      "\u001B[0;31m---------------------------------------------------------------------------\u001B[0m",
      "\u001B[0;31mNameError\u001B[0m                                 Traceback (most recent call last)",
      "Cell \u001B[0;32mIn[77], line 1\u001B[0m\n\u001B[0;32m----> 1\u001B[0m pred_test \u001B[38;5;241m=\u001B[39m cb_model\u001B[38;5;241m.\u001B[39mpredict(\u001B[43mtest\u001B[49m)\n\u001B[1;32m      2\u001B[0m submissions \u001B[38;5;241m=\u001B[39m pd\u001B[38;5;241m.\u001B[39mDataFrame({\u001B[38;5;124m'\u001B[39m\u001B[38;5;124mid\u001B[39m\u001B[38;5;124m'\u001B[39m: test\u001B[38;5;241m.\u001B[39mid, \u001B[38;5;124m'\u001B[39m\u001B[38;5;124mFloodProbability\u001B[39m\u001B[38;5;124m'\u001B[39m: pred_test})\u001B[38;5;241m.\u001B[39mto_csv(\u001B[38;5;124m'\u001B[39m\u001B[38;5;124mdata/submissions/submissions_cb_grid.csv\u001B[39m\u001B[38;5;124m'\u001B[39m, index\u001B[38;5;241m=\u001B[39m\u001B[38;5;28;01mFalse\u001B[39;00m)\n",
      "\u001B[0;31mNameError\u001B[0m: name 'test' is not defined"
     ]
    }
   ],
   "execution_count": 77
  },
  {
   "metadata": {
    "ExecuteTime": {
     "end_time": "2024-05-28T12:48:36.019098Z",
     "start_time": "2024-05-28T12:48:36.000987Z"
    }
   },
   "cell_type": "code",
   "source": "os.system('kaggle competitions submit -c playground-series-s4e5 -f data/submissions/submissions_cb_grid.csv -m \"CatBoost GridSearch\"')",
   "id": "8ab260b51540b6e8",
   "outputs": [
    {
     "ename": "NameError",
     "evalue": "name 'os' is not defined",
     "output_type": "error",
     "traceback": [
      "\u001B[0;31m---------------------------------------------------------------------------\u001B[0m",
      "\u001B[0;31mNameError\u001B[0m                                 Traceback (most recent call last)",
      "Cell \u001B[0;32mIn[78], line 1\u001B[0m\n\u001B[0;32m----> 1\u001B[0m \u001B[43mos\u001B[49m\u001B[38;5;241m.\u001B[39msystem(\u001B[38;5;124m'\u001B[39m\u001B[38;5;124mkaggle competitions submit -c playground-series-s4e5 -f data/submissions/submissions_cb_grid.csv -m \u001B[39m\u001B[38;5;124m\"\u001B[39m\u001B[38;5;124mCatBoost GridSearch\u001B[39m\u001B[38;5;124m\"\u001B[39m\u001B[38;5;124m'\u001B[39m)\n",
      "\u001B[0;31mNameError\u001B[0m: name 'os' is not defined"
     ]
    }
   ],
   "execution_count": 78
  },
  {
   "metadata": {},
   "cell_type": "markdown",
   "source": "### Adaboost",
   "id": "9d8c5a6bf5ab9d92"
  },
  {
   "metadata": {
    "ExecuteTime": {
     "end_time": "2024-05-28T12:48:36.159225Z",
     "start_time": "2024-05-28T12:48:36.156538Z"
    }
   },
   "cell_type": "code",
   "source": "from sklearn.ensemble import AdaBoostRegressor",
   "id": "cfe2999a70046961",
   "outputs": [],
   "execution_count": 79
  },
  {
   "metadata": {
    "ExecuteTime": {
     "end_time": "2024-05-28T12:48:36.289561Z",
     "start_time": "2024-05-28T12:48:36.286948Z"
    }
   },
   "cell_type": "code",
   "source": "ada = AdaBoostRegressor(n_estimators=100, learning_rate=0.05)",
   "id": "8aa19edc16878d07",
   "outputs": [],
   "execution_count": 80
  },
  {
   "metadata": {
    "ExecuteTime": {
     "end_time": "2024-05-28T12:48:36.394198Z",
     "start_time": "2024-05-28T12:48:36.376490Z"
    }
   },
   "cell_type": "code",
   "source": "ada.fit(train_, y_train_)",
   "id": "247c29189a3f01c1",
   "outputs": [
    {
     "ename": "NameError",
     "evalue": "name 'train_' is not defined",
     "output_type": "error",
     "traceback": [
      "\u001B[0;31m---------------------------------------------------------------------------\u001B[0m",
      "\u001B[0;31mNameError\u001B[0m                                 Traceback (most recent call last)",
      "Cell \u001B[0;32mIn[81], line 1\u001B[0m\n\u001B[0;32m----> 1\u001B[0m ada\u001B[38;5;241m.\u001B[39mfit(\u001B[43mtrain_\u001B[49m, y_train_)\n",
      "\u001B[0;31mNameError\u001B[0m: name 'train_' is not defined"
     ]
    }
   ],
   "execution_count": 81
  },
  {
   "metadata": {
    "ExecuteTime": {
     "end_time": "2024-05-28T12:48:36.518922Z",
     "start_time": "2024-05-28T12:48:36.500788Z"
    }
   },
   "cell_type": "code",
   "source": [
    "y_val_pred = ada.predict(val_)\n",
    "y_test_pred = ada.predict(test_)"
   ],
   "id": "c13b81b8d2bdd561",
   "outputs": [
    {
     "ename": "NameError",
     "evalue": "name 'val_' is not defined",
     "output_type": "error",
     "traceback": [
      "\u001B[0;31m---------------------------------------------------------------------------\u001B[0m",
      "\u001B[0;31mNameError\u001B[0m                                 Traceback (most recent call last)",
      "Cell \u001B[0;32mIn[82], line 1\u001B[0m\n\u001B[0;32m----> 1\u001B[0m y_val_pred \u001B[38;5;241m=\u001B[39m ada\u001B[38;5;241m.\u001B[39mpredict(\u001B[43mval_\u001B[49m)\n\u001B[1;32m      2\u001B[0m y_test_pred \u001B[38;5;241m=\u001B[39m ada\u001B[38;5;241m.\u001B[39mpredict(test_)\n",
      "\u001B[0;31mNameError\u001B[0m: name 'val_' is not defined"
     ]
    }
   ],
   "execution_count": 82
  },
  {
   "metadata": {
    "ExecuteTime": {
     "end_time": "2024-05-28T12:48:36.644163Z",
     "start_time": "2024-05-28T12:48:36.623946Z"
    }
   },
   "cell_type": "code",
   "source": [
    "tmp_metricas = pd.DataFrame({'Modelo': ['AdaBoost'], 'r2_val': [r2_score(y_val_, y_val_pred)], 'r2_test': [r2_score(y_test_, y_test_pred)]})\n",
    "metricas = pd.concat([metricas, tmp_metricas])\n",
    "metricas"
   ],
   "id": "b34693dd3497ba7d",
   "outputs": [
    {
     "ename": "NameError",
     "evalue": "name 'pd' is not defined",
     "output_type": "error",
     "traceback": [
      "\u001B[0;31m---------------------------------------------------------------------------\u001B[0m",
      "\u001B[0;31mNameError\u001B[0m                                 Traceback (most recent call last)",
      "Cell \u001B[0;32mIn[83], line 1\u001B[0m\n\u001B[0;32m----> 1\u001B[0m tmp_metricas \u001B[38;5;241m=\u001B[39m \u001B[43mpd\u001B[49m\u001B[38;5;241m.\u001B[39mDataFrame({\u001B[38;5;124m'\u001B[39m\u001B[38;5;124mModelo\u001B[39m\u001B[38;5;124m'\u001B[39m: [\u001B[38;5;124m'\u001B[39m\u001B[38;5;124mAdaBoost\u001B[39m\u001B[38;5;124m'\u001B[39m], \u001B[38;5;124m'\u001B[39m\u001B[38;5;124mr2_val\u001B[39m\u001B[38;5;124m'\u001B[39m: [r2_score(y_val_, y_val_pred)], \u001B[38;5;124m'\u001B[39m\u001B[38;5;124mr2_test\u001B[39m\u001B[38;5;124m'\u001B[39m: [r2_score(y_test_, y_test_pred)]})\n\u001B[1;32m      2\u001B[0m metricas \u001B[38;5;241m=\u001B[39m pd\u001B[38;5;241m.\u001B[39mconcat([metricas, tmp_metricas])\n\u001B[1;32m      3\u001B[0m metricas\n",
      "\u001B[0;31mNameError\u001B[0m: name 'pd' is not defined"
     ]
    }
   ],
   "execution_count": 83
  },
  {
   "metadata": {},
   "cell_type": "markdown",
   "source": "#### Random Forest",
   "id": "af37a92fe9c3f333"
  },
  {
   "metadata": {
    "ExecuteTime": {
     "end_time": "2024-05-28T12:48:36.700571Z",
     "start_time": "2024-05-28T12:48:36.697562Z"
    }
   },
   "cell_type": "code",
   "source": "from sklearn.ensemble import RandomForestRegressor",
   "id": "61811876d28189a4",
   "outputs": [],
   "execution_count": 84
  },
  {
   "metadata": {
    "ExecuteTime": {
     "end_time": "2024-05-28T12:48:36.873925Z",
     "start_time": "2024-05-28T12:48:36.855616Z"
    }
   },
   "cell_type": "code",
   "source": [
    "rf = RandomForestRegressor(n_estimators=100, max_depth=8, random_state=42)\n",
    "rf.fit(train_, y_train_)"
   ],
   "id": "b2dea5804bc66b8d",
   "outputs": [
    {
     "ename": "NameError",
     "evalue": "name 'train_' is not defined",
     "output_type": "error",
     "traceback": [
      "\u001B[0;31m---------------------------------------------------------------------------\u001B[0m",
      "\u001B[0;31mNameError\u001B[0m                                 Traceback (most recent call last)",
      "Cell \u001B[0;32mIn[85], line 2\u001B[0m\n\u001B[1;32m      1\u001B[0m rf \u001B[38;5;241m=\u001B[39m RandomForestRegressor(n_estimators\u001B[38;5;241m=\u001B[39m\u001B[38;5;241m100\u001B[39m, max_depth\u001B[38;5;241m=\u001B[39m\u001B[38;5;241m8\u001B[39m, random_state\u001B[38;5;241m=\u001B[39m\u001B[38;5;241m42\u001B[39m)\n\u001B[0;32m----> 2\u001B[0m rf\u001B[38;5;241m.\u001B[39mfit(\u001B[43mtrain_\u001B[49m, y_train_)\n",
      "\u001B[0;31mNameError\u001B[0m: name 'train_' is not defined"
     ]
    }
   ],
   "execution_count": 85
  },
  {
   "metadata": {
    "ExecuteTime": {
     "end_time": "2024-05-28T12:48:37.001450Z",
     "start_time": "2024-05-28T12:48:36.999391Z"
    }
   },
   "cell_type": "code",
   "source": "",
   "id": "1896a79ff0dfbd97",
   "outputs": [],
   "execution_count": 85
  },
  {
   "metadata": {},
   "cell_type": "markdown",
   "source": "### Modelos lineales",
   "id": "d0a8836f8ddd38f8"
  },
  {
   "metadata": {
    "ExecuteTime": {
     "end_time": "2024-05-28T12:48:37.054767Z",
     "start_time": "2024-05-28T12:48:37.052222Z"
    }
   },
   "cell_type": "code",
   "source": "from sklearn.linear_model import Ridge, Lasso",
   "id": "951bf1e2db53a0b1",
   "outputs": [],
   "execution_count": 86
  },
  {
   "metadata": {
    "ExecuteTime": {
     "end_time": "2024-05-28T12:48:37.214624Z",
     "start_time": "2024-05-28T12:48:37.212286Z"
    }
   },
   "cell_type": "code",
   "source": "ridge = Ridge()",
   "id": "410725c169583dda",
   "outputs": [],
   "execution_count": 87
  },
  {
   "metadata": {
    "ExecuteTime": {
     "end_time": "2024-05-28T12:48:37.359880Z",
     "start_time": "2024-05-28T12:48:37.340847Z"
    }
   },
   "cell_type": "code",
   "source": "ridge.fit(train_, y_train_)",
   "id": "7af6f70e2bd63a0d",
   "outputs": [
    {
     "ename": "NameError",
     "evalue": "name 'train_' is not defined",
     "output_type": "error",
     "traceback": [
      "\u001B[0;31m---------------------------------------------------------------------------\u001B[0m",
      "\u001B[0;31mNameError\u001B[0m                                 Traceback (most recent call last)",
      "Cell \u001B[0;32mIn[88], line 1\u001B[0m\n\u001B[0;32m----> 1\u001B[0m ridge\u001B[38;5;241m.\u001B[39mfit(\u001B[43mtrain_\u001B[49m, y_train_)\n",
      "\u001B[0;31mNameError\u001B[0m: name 'train_' is not defined"
     ]
    }
   ],
   "execution_count": 88
  },
  {
   "metadata": {
    "ExecuteTime": {
     "end_time": "2024-05-28T12:48:37.407010Z",
     "start_time": "2024-05-28T12:48:37.389681Z"
    }
   },
   "cell_type": "code",
   "source": "y_val_pred = ridge.predict(val_)",
   "id": "8b27c013d1e19249",
   "outputs": [
    {
     "ename": "NameError",
     "evalue": "name 'val_' is not defined",
     "output_type": "error",
     "traceback": [
      "\u001B[0;31m---------------------------------------------------------------------------\u001B[0m",
      "\u001B[0;31mNameError\u001B[0m                                 Traceback (most recent call last)",
      "Cell \u001B[0;32mIn[89], line 1\u001B[0m\n\u001B[0;32m----> 1\u001B[0m y_val_pred \u001B[38;5;241m=\u001B[39m ridge\u001B[38;5;241m.\u001B[39mpredict(\u001B[43mval_\u001B[49m)\n",
      "\u001B[0;31mNameError\u001B[0m: name 'val_' is not defined"
     ]
    }
   ],
   "execution_count": 89
  },
  {
   "metadata": {
    "ExecuteTime": {
     "end_time": "2024-05-28T12:48:37.535380Z",
     "start_time": "2024-05-28T12:48:37.516631Z"
    }
   },
   "cell_type": "code",
   "source": "y_test_pred = ridge.predict(test_)",
   "id": "896fbde26469b676",
   "outputs": [
    {
     "ename": "NameError",
     "evalue": "name 'test_' is not defined",
     "output_type": "error",
     "traceback": [
      "\u001B[0;31m---------------------------------------------------------------------------\u001B[0m",
      "\u001B[0;31mNameError\u001B[0m                                 Traceback (most recent call last)",
      "Cell \u001B[0;32mIn[90], line 1\u001B[0m\n\u001B[0;32m----> 1\u001B[0m y_test_pred \u001B[38;5;241m=\u001B[39m ridge\u001B[38;5;241m.\u001B[39mpredict(\u001B[43mtest_\u001B[49m)\n",
      "\u001B[0;31mNameError\u001B[0m: name 'test_' is not defined"
     ]
    }
   ],
   "execution_count": 90
  },
  {
   "metadata": {
    "ExecuteTime": {
     "end_time": "2024-05-28T12:48:37.653156Z",
     "start_time": "2024-05-28T12:48:37.634712Z"
    }
   },
   "cell_type": "code",
   "source": "metricas_tmp = pd.DataFrame({'Modelo': ['Ridge'], 'r2_val': [r2_score(y_val_, y_val_pred)], 'r2_test': [r2_score(y_test_, y_test_pred)]})",
   "id": "521b40542b8b9df6",
   "outputs": [
    {
     "ename": "NameError",
     "evalue": "name 'pd' is not defined",
     "output_type": "error",
     "traceback": [
      "\u001B[0;31m---------------------------------------------------------------------------\u001B[0m",
      "\u001B[0;31mNameError\u001B[0m                                 Traceback (most recent call last)",
      "Cell \u001B[0;32mIn[91], line 1\u001B[0m\n\u001B[0;32m----> 1\u001B[0m metricas_tmp \u001B[38;5;241m=\u001B[39m \u001B[43mpd\u001B[49m\u001B[38;5;241m.\u001B[39mDataFrame({\u001B[38;5;124m'\u001B[39m\u001B[38;5;124mModelo\u001B[39m\u001B[38;5;124m'\u001B[39m: [\u001B[38;5;124m'\u001B[39m\u001B[38;5;124mRidge\u001B[39m\u001B[38;5;124m'\u001B[39m], \u001B[38;5;124m'\u001B[39m\u001B[38;5;124mr2_val\u001B[39m\u001B[38;5;124m'\u001B[39m: [r2_score(y_val_, y_val_pred)], \u001B[38;5;124m'\u001B[39m\u001B[38;5;124mr2_test\u001B[39m\u001B[38;5;124m'\u001B[39m: [r2_score(y_test_, y_test_pred)]})\n",
      "\u001B[0;31mNameError\u001B[0m: name 'pd' is not defined"
     ]
    }
   ],
   "execution_count": 91
  },
  {
   "metadata": {
    "ExecuteTime": {
     "end_time": "2024-05-28T12:48:37.739783Z",
     "start_time": "2024-05-28T12:48:37.721492Z"
    }
   },
   "cell_type": "code",
   "source": "metricas = pd.concat([metricas, metricas_tmp])",
   "id": "135468d5c25330ee",
   "outputs": [
    {
     "ename": "NameError",
     "evalue": "name 'pd' is not defined",
     "output_type": "error",
     "traceback": [
      "\u001B[0;31m---------------------------------------------------------------------------\u001B[0m",
      "\u001B[0;31mNameError\u001B[0m                                 Traceback (most recent call last)",
      "Cell \u001B[0;32mIn[92], line 1\u001B[0m\n\u001B[0;32m----> 1\u001B[0m metricas \u001B[38;5;241m=\u001B[39m \u001B[43mpd\u001B[49m\u001B[38;5;241m.\u001B[39mconcat([metricas, metricas_tmp])\n",
      "\u001B[0;31mNameError\u001B[0m: name 'pd' is not defined"
     ]
    }
   ],
   "execution_count": 92
  },
  {
   "metadata": {
    "ExecuteTime": {
     "end_time": "2024-05-28T12:48:37.895263Z",
     "start_time": "2024-05-28T12:48:37.878328Z"
    }
   },
   "cell_type": "code",
   "source": "metricas",
   "id": "1e0529318f08b555",
   "outputs": [
    {
     "ename": "NameError",
     "evalue": "name 'metricas' is not defined",
     "output_type": "error",
     "traceback": [
      "\u001B[0;31m---------------------------------------------------------------------------\u001B[0m",
      "\u001B[0;31mNameError\u001B[0m                                 Traceback (most recent call last)",
      "Cell \u001B[0;32mIn[93], line 1\u001B[0m\n\u001B[0;32m----> 1\u001B[0m \u001B[43mmetricas\u001B[49m\n",
      "\u001B[0;31mNameError\u001B[0m: name 'metricas' is not defined"
     ]
    }
   ],
   "execution_count": 93
  },
  {
   "metadata": {
    "ExecuteTime": {
     "end_time": "2024-05-28T12:48:37.995663Z",
     "start_time": "2024-05-28T12:48:37.993031Z"
    }
   },
   "cell_type": "code",
   "source": "lasso = Lasso()",
   "id": "4f5352fb7363a7cd",
   "outputs": [],
   "execution_count": 94
  },
  {
   "metadata": {
    "ExecuteTime": {
     "end_time": "2024-05-28T12:48:38.090747Z",
     "start_time": "2024-05-28T12:48:38.072523Z"
    }
   },
   "cell_type": "code",
   "source": "lasso.fit(train_, y_train_)",
   "id": "90a61a268b23792e",
   "outputs": [
    {
     "ename": "NameError",
     "evalue": "name 'train_' is not defined",
     "output_type": "error",
     "traceback": [
      "\u001B[0;31m---------------------------------------------------------------------------\u001B[0m",
      "\u001B[0;31mNameError\u001B[0m                                 Traceback (most recent call last)",
      "Cell \u001B[0;32mIn[95], line 1\u001B[0m\n\u001B[0;32m----> 1\u001B[0m lasso\u001B[38;5;241m.\u001B[39mfit(\u001B[43mtrain_\u001B[49m, y_train_)\n",
      "\u001B[0;31mNameError\u001B[0m: name 'train_' is not defined"
     ]
    }
   ],
   "execution_count": 95
  },
  {
   "metadata": {
    "ExecuteTime": {
     "end_time": "2024-05-28T12:48:38.239603Z",
     "start_time": "2024-05-28T12:48:38.221474Z"
    }
   },
   "cell_type": "code",
   "source": "y_val_pred = lasso.predict(val_)",
   "id": "fa743cb9709fa0a1",
   "outputs": [
    {
     "ename": "NameError",
     "evalue": "name 'val_' is not defined",
     "output_type": "error",
     "traceback": [
      "\u001B[0;31m---------------------------------------------------------------------------\u001B[0m",
      "\u001B[0;31mNameError\u001B[0m                                 Traceback (most recent call last)",
      "Cell \u001B[0;32mIn[96], line 1\u001B[0m\n\u001B[0;32m----> 1\u001B[0m y_val_pred \u001B[38;5;241m=\u001B[39m lasso\u001B[38;5;241m.\u001B[39mpredict(\u001B[43mval_\u001B[49m)\n",
      "\u001B[0;31mNameError\u001B[0m: name 'val_' is not defined"
     ]
    }
   ],
   "execution_count": 96
  },
  {
   "metadata": {
    "ExecuteTime": {
     "end_time": "2024-05-28T12:48:38.380675Z",
     "start_time": "2024-05-28T12:48:38.362432Z"
    }
   },
   "cell_type": "code",
   "source": "y_test_pred = lasso.predict(test_)",
   "id": "6f92fa606a930885",
   "outputs": [
    {
     "ename": "NameError",
     "evalue": "name 'test_' is not defined",
     "output_type": "error",
     "traceback": [
      "\u001B[0;31m---------------------------------------------------------------------------\u001B[0m",
      "\u001B[0;31mNameError\u001B[0m                                 Traceback (most recent call last)",
      "Cell \u001B[0;32mIn[97], line 1\u001B[0m\n\u001B[0;32m----> 1\u001B[0m y_test_pred \u001B[38;5;241m=\u001B[39m lasso\u001B[38;5;241m.\u001B[39mpredict(\u001B[43mtest_\u001B[49m)\n",
      "\u001B[0;31mNameError\u001B[0m: name 'test_' is not defined"
     ]
    }
   ],
   "execution_count": 97
  },
  {
   "metadata": {
    "ExecuteTime": {
     "end_time": "2024-05-28T12:48:38.460227Z",
     "start_time": "2024-05-28T12:48:38.439997Z"
    }
   },
   "cell_type": "code",
   "source": "metricas_tmp = pd.DataFrame({'Modelo': ['Lasso'], 'r2_val': [r2_score(y_val_, y_val_pred)], 'r2_test': [r2_score(y_test_, y_test_pred)]})",
   "id": "4746498bbfd7c121",
   "outputs": [
    {
     "ename": "NameError",
     "evalue": "name 'pd' is not defined",
     "output_type": "error",
     "traceback": [
      "\u001B[0;31m---------------------------------------------------------------------------\u001B[0m",
      "\u001B[0;31mNameError\u001B[0m                                 Traceback (most recent call last)",
      "Cell \u001B[0;32mIn[98], line 1\u001B[0m\n\u001B[0;32m----> 1\u001B[0m metricas_tmp \u001B[38;5;241m=\u001B[39m \u001B[43mpd\u001B[49m\u001B[38;5;241m.\u001B[39mDataFrame({\u001B[38;5;124m'\u001B[39m\u001B[38;5;124mModelo\u001B[39m\u001B[38;5;124m'\u001B[39m: [\u001B[38;5;124m'\u001B[39m\u001B[38;5;124mLasso\u001B[39m\u001B[38;5;124m'\u001B[39m], \u001B[38;5;124m'\u001B[39m\u001B[38;5;124mr2_val\u001B[39m\u001B[38;5;124m'\u001B[39m: [r2_score(y_val_, y_val_pred)], \u001B[38;5;124m'\u001B[39m\u001B[38;5;124mr2_test\u001B[39m\u001B[38;5;124m'\u001B[39m: [r2_score(y_test_, y_test_pred)]})\n",
      "\u001B[0;31mNameError\u001B[0m: name 'pd' is not defined"
     ]
    }
   ],
   "execution_count": 98
  },
  {
   "metadata": {
    "ExecuteTime": {
     "end_time": "2024-05-28T12:48:38.592220Z",
     "start_time": "2024-05-28T12:48:38.574932Z"
    }
   },
   "cell_type": "code",
   "source": "metricas = pd.concat([metricas, metricas_tmp])",
   "id": "b64b1d71857b0d3f",
   "outputs": [
    {
     "ename": "NameError",
     "evalue": "name 'pd' is not defined",
     "output_type": "error",
     "traceback": [
      "\u001B[0;31m---------------------------------------------------------------------------\u001B[0m",
      "\u001B[0;31mNameError\u001B[0m                                 Traceback (most recent call last)",
      "Cell \u001B[0;32mIn[99], line 1\u001B[0m\n\u001B[0;32m----> 1\u001B[0m metricas \u001B[38;5;241m=\u001B[39m \u001B[43mpd\u001B[49m\u001B[38;5;241m.\u001B[39mconcat([metricas, metricas_tmp])\n",
      "\u001B[0;31mNameError\u001B[0m: name 'pd' is not defined"
     ]
    }
   ],
   "execution_count": 99
  },
  {
   "metadata": {
    "ExecuteTime": {
     "end_time": "2024-05-28T12:48:38.724825Z",
     "start_time": "2024-05-28T12:48:38.706671Z"
    }
   },
   "cell_type": "code",
   "source": "metricas",
   "id": "bdd46644d942bc5e",
   "outputs": [
    {
     "ename": "NameError",
     "evalue": "name 'metricas' is not defined",
     "output_type": "error",
     "traceback": [
      "\u001B[0;31m---------------------------------------------------------------------------\u001B[0m",
      "\u001B[0;31mNameError\u001B[0m                                 Traceback (most recent call last)",
      "Cell \u001B[0;32mIn[100], line 1\u001B[0m\n\u001B[0;32m----> 1\u001B[0m \u001B[43mmetricas\u001B[49m\n",
      "\u001B[0;31mNameError\u001B[0m: name 'metricas' is not defined"
     ]
    }
   ],
   "execution_count": 100
  },
  {
   "metadata": {
    "ExecuteTime": {
     "end_time": "2024-05-28T12:48:38.789247Z",
     "start_time": "2024-05-28T12:48:38.771552Z"
    }
   },
   "cell_type": "code",
   "source": "pred_test_ridge = ridge.predict(test)",
   "id": "fc9df9b2eb0ebdee",
   "outputs": [
    {
     "ename": "NameError",
     "evalue": "name 'test' is not defined",
     "output_type": "error",
     "traceback": [
      "\u001B[0;31m---------------------------------------------------------------------------\u001B[0m",
      "\u001B[0;31mNameError\u001B[0m                                 Traceback (most recent call last)",
      "Cell \u001B[0;32mIn[101], line 1\u001B[0m\n\u001B[0;32m----> 1\u001B[0m pred_test_ridge \u001B[38;5;241m=\u001B[39m ridge\u001B[38;5;241m.\u001B[39mpredict(\u001B[43mtest\u001B[49m)\n",
      "\u001B[0;31mNameError\u001B[0m: name 'test' is not defined"
     ]
    }
   ],
   "execution_count": 101
  },
  {
   "metadata": {
    "ExecuteTime": {
     "end_time": "2024-05-28T12:48:38.921548Z",
     "start_time": "2024-05-28T12:48:38.902448Z"
    }
   },
   "cell_type": "code",
   "source": "submissions = pd.DataFrame({'id': test.id, 'FloodProbability': pred_test_ridge}).to_csv('data/submissions/submissions_ridge.csv', index=False)",
   "id": "c6b06b2b97eb43c7",
   "outputs": [
    {
     "ename": "NameError",
     "evalue": "name 'pd' is not defined",
     "output_type": "error",
     "traceback": [
      "\u001B[0;31m---------------------------------------------------------------------------\u001B[0m",
      "\u001B[0;31mNameError\u001B[0m                                 Traceback (most recent call last)",
      "Cell \u001B[0;32mIn[102], line 1\u001B[0m\n\u001B[0;32m----> 1\u001B[0m submissions \u001B[38;5;241m=\u001B[39m \u001B[43mpd\u001B[49m\u001B[38;5;241m.\u001B[39mDataFrame({\u001B[38;5;124m'\u001B[39m\u001B[38;5;124mid\u001B[39m\u001B[38;5;124m'\u001B[39m: test\u001B[38;5;241m.\u001B[39mid, \u001B[38;5;124m'\u001B[39m\u001B[38;5;124mFloodProbability\u001B[39m\u001B[38;5;124m'\u001B[39m: pred_test_ridge})\u001B[38;5;241m.\u001B[39mto_csv(\u001B[38;5;124m'\u001B[39m\u001B[38;5;124mdata/submissions/submissions_ridge.csv\u001B[39m\u001B[38;5;124m'\u001B[39m, index\u001B[38;5;241m=\u001B[39m\u001B[38;5;28;01mFalse\u001B[39;00m)\n",
      "\u001B[0;31mNameError\u001B[0m: name 'pd' is not defined"
     ]
    }
   ],
   "execution_count": 102
  },
  {
   "metadata": {
    "ExecuteTime": {
     "end_time": "2024-05-28T12:48:39.044615Z",
     "start_time": "2024-05-28T12:48:39.042262Z"
    }
   },
   "cell_type": "code",
   "source": [
    "# Elastic Net\n",
    "from sklearn.linear_model import ElasticNet"
   ],
   "id": "e38840cc23b12bcc",
   "outputs": [],
   "execution_count": 103
  },
  {
   "metadata": {
    "ExecuteTime": {
     "end_time": "2024-05-28T12:48:39.135140Z",
     "start_time": "2024-05-28T12:48:39.132583Z"
    }
   },
   "cell_type": "code",
   "source": "en = ElasticNet()",
   "id": "854fd30f645d5f3a",
   "outputs": [],
   "execution_count": 104
  },
  {
   "metadata": {
    "ExecuteTime": {
     "end_time": "2024-05-28T12:48:39.273570Z",
     "start_time": "2024-05-28T12:48:39.256282Z"
    }
   },
   "cell_type": "code",
   "source": "en.fit(train_, y_train_)",
   "id": "b0d866212b173352",
   "outputs": [
    {
     "ename": "NameError",
     "evalue": "name 'train_' is not defined",
     "output_type": "error",
     "traceback": [
      "\u001B[0;31m---------------------------------------------------------------------------\u001B[0m",
      "\u001B[0;31mNameError\u001B[0m                                 Traceback (most recent call last)",
      "Cell \u001B[0;32mIn[105], line 1\u001B[0m\n\u001B[0;32m----> 1\u001B[0m en\u001B[38;5;241m.\u001B[39mfit(\u001B[43mtrain_\u001B[49m, y_train_)\n",
      "\u001B[0;31mNameError\u001B[0m: name 'train_' is not defined"
     ]
    }
   ],
   "execution_count": 105
  },
  {
   "metadata": {
    "ExecuteTime": {
     "end_time": "2024-05-28T12:48:39.423069Z",
     "start_time": "2024-05-28T12:48:39.398799Z"
    }
   },
   "cell_type": "code",
   "source": "y_val_pred = en.predict(val_)",
   "id": "bfff25271cc78174",
   "outputs": [
    {
     "ename": "NameError",
     "evalue": "name 'val_' is not defined",
     "output_type": "error",
     "traceback": [
      "\u001B[0;31m---------------------------------------------------------------------------\u001B[0m",
      "\u001B[0;31mNameError\u001B[0m                                 Traceback (most recent call last)",
      "Cell \u001B[0;32mIn[106], line 1\u001B[0m\n\u001B[0;32m----> 1\u001B[0m y_val_pred \u001B[38;5;241m=\u001B[39m en\u001B[38;5;241m.\u001B[39mpredict(\u001B[43mval_\u001B[49m)\n",
      "\u001B[0;31mNameError\u001B[0m: name 'val_' is not defined"
     ]
    }
   ],
   "execution_count": 106
  },
  {
   "metadata": {
    "ExecuteTime": {
     "end_time": "2024-05-28T12:48:39.497300Z",
     "start_time": "2024-05-28T12:48:39.479633Z"
    }
   },
   "cell_type": "code",
   "source": "y_test_pred = en.predict(test_)",
   "id": "a9511b7f29f65f68",
   "outputs": [
    {
     "ename": "NameError",
     "evalue": "name 'test_' is not defined",
     "output_type": "error",
     "traceback": [
      "\u001B[0;31m---------------------------------------------------------------------------\u001B[0m",
      "\u001B[0;31mNameError\u001B[0m                                 Traceback (most recent call last)",
      "Cell \u001B[0;32mIn[107], line 1\u001B[0m\n\u001B[0;32m----> 1\u001B[0m y_test_pred \u001B[38;5;241m=\u001B[39m en\u001B[38;5;241m.\u001B[39mpredict(\u001B[43mtest_\u001B[49m)\n",
      "\u001B[0;31mNameError\u001B[0m: name 'test_' is not defined"
     ]
    }
   ],
   "execution_count": 107
  },
  {
   "metadata": {
    "ExecuteTime": {
     "end_time": "2024-05-28T12:48:39.636672Z",
     "start_time": "2024-05-28T12:48:39.617699Z"
    }
   },
   "cell_type": "code",
   "source": "metricas_tmp = pd.DataFrame({'Modelo': ['Elastic Net'], 'r2_val': [r2_score(y_val_, y_val_pred)], 'r2_test': [r2_score(y_test_, y_test_pred)]})",
   "id": "bba4b0a4317eb8fc",
   "outputs": [
    {
     "ename": "NameError",
     "evalue": "name 'pd' is not defined",
     "output_type": "error",
     "traceback": [
      "\u001B[0;31m---------------------------------------------------------------------------\u001B[0m",
      "\u001B[0;31mNameError\u001B[0m                                 Traceback (most recent call last)",
      "Cell \u001B[0;32mIn[108], line 1\u001B[0m\n\u001B[0;32m----> 1\u001B[0m metricas_tmp \u001B[38;5;241m=\u001B[39m \u001B[43mpd\u001B[49m\u001B[38;5;241m.\u001B[39mDataFrame({\u001B[38;5;124m'\u001B[39m\u001B[38;5;124mModelo\u001B[39m\u001B[38;5;124m'\u001B[39m: [\u001B[38;5;124m'\u001B[39m\u001B[38;5;124mElastic Net\u001B[39m\u001B[38;5;124m'\u001B[39m], \u001B[38;5;124m'\u001B[39m\u001B[38;5;124mr2_val\u001B[39m\u001B[38;5;124m'\u001B[39m: [r2_score(y_val_, y_val_pred)], \u001B[38;5;124m'\u001B[39m\u001B[38;5;124mr2_test\u001B[39m\u001B[38;5;124m'\u001B[39m: [r2_score(y_test_, y_test_pred)]})\n",
      "\u001B[0;31mNameError\u001B[0m: name 'pd' is not defined"
     ]
    }
   ],
   "execution_count": 108
  },
  {
   "metadata": {
    "ExecuteTime": {
     "end_time": "2024-05-28T12:48:39.787016Z",
     "start_time": "2024-05-28T12:48:39.769832Z"
    }
   },
   "cell_type": "code",
   "source": "metricas = pd.concat([metricas, metricas_tmp])",
   "id": "448c63aa567cdaf0",
   "outputs": [
    {
     "ename": "NameError",
     "evalue": "name 'pd' is not defined",
     "output_type": "error",
     "traceback": [
      "\u001B[0;31m---------------------------------------------------------------------------\u001B[0m",
      "\u001B[0;31mNameError\u001B[0m                                 Traceback (most recent call last)",
      "Cell \u001B[0;32mIn[109], line 1\u001B[0m\n\u001B[0;32m----> 1\u001B[0m metricas \u001B[38;5;241m=\u001B[39m \u001B[43mpd\u001B[49m\u001B[38;5;241m.\u001B[39mconcat([metricas, metricas_tmp])\n",
      "\u001B[0;31mNameError\u001B[0m: name 'pd' is not defined"
     ]
    }
   ],
   "execution_count": 109
  },
  {
   "metadata": {
    "ExecuteTime": {
     "end_time": "2024-05-28T12:48:39.863413Z",
     "start_time": "2024-05-28T12:48:39.845499Z"
    }
   },
   "cell_type": "code",
   "source": "metricas",
   "id": "b51783f3617c8105",
   "outputs": [
    {
     "ename": "NameError",
     "evalue": "name 'metricas' is not defined",
     "output_type": "error",
     "traceback": [
      "\u001B[0;31m---------------------------------------------------------------------------\u001B[0m",
      "\u001B[0;31mNameError\u001B[0m                                 Traceback (most recent call last)",
      "Cell \u001B[0;32mIn[110], line 1\u001B[0m\n\u001B[0;32m----> 1\u001B[0m \u001B[43mmetricas\u001B[49m\n",
      "\u001B[0;31mNameError\u001B[0m: name 'metricas' is not defined"
     ]
    }
   ],
   "execution_count": 110
  },
  {
   "metadata": {
    "ExecuteTime": {
     "end_time": "2024-05-28T12:48:40.006305Z",
     "start_time": "2024-05-28T12:48:39.985994Z"
    }
   },
   "cell_type": "code",
   "source": "pred_test_en = en.predict(test)",
   "id": "c302b2ff5c00844f",
   "outputs": [
    {
     "ename": "NameError",
     "evalue": "name 'test' is not defined",
     "output_type": "error",
     "traceback": [
      "\u001B[0;31m---------------------------------------------------------------------------\u001B[0m",
      "\u001B[0;31mNameError\u001B[0m                                 Traceback (most recent call last)",
      "Cell \u001B[0;32mIn[111], line 1\u001B[0m\n\u001B[0;32m----> 1\u001B[0m pred_test_en \u001B[38;5;241m=\u001B[39m en\u001B[38;5;241m.\u001B[39mpredict(\u001B[43mtest\u001B[49m)\n",
      "\u001B[0;31mNameError\u001B[0m: name 'test' is not defined"
     ]
    }
   ],
   "execution_count": 111
  },
  {
   "metadata": {
    "ExecuteTime": {
     "end_time": "2024-05-28T12:48:40.128886Z",
     "start_time": "2024-05-28T12:48:40.110199Z"
    }
   },
   "cell_type": "code",
   "source": "submissions = pd.DataFrame({'id': test.id, 'FloodProbability': pred_test_en}).to_csv('data/submissions/submissions_en.csv', index=False)",
   "id": "7ff008728c32643a",
   "outputs": [
    {
     "ename": "NameError",
     "evalue": "name 'pd' is not defined",
     "output_type": "error",
     "traceback": [
      "\u001B[0;31m---------------------------------------------------------------------------\u001B[0m",
      "\u001B[0;31mNameError\u001B[0m                                 Traceback (most recent call last)",
      "Cell \u001B[0;32mIn[112], line 1\u001B[0m\n\u001B[0;32m----> 1\u001B[0m submissions \u001B[38;5;241m=\u001B[39m \u001B[43mpd\u001B[49m\u001B[38;5;241m.\u001B[39mDataFrame({\u001B[38;5;124m'\u001B[39m\u001B[38;5;124mid\u001B[39m\u001B[38;5;124m'\u001B[39m: test\u001B[38;5;241m.\u001B[39mid, \u001B[38;5;124m'\u001B[39m\u001B[38;5;124mFloodProbability\u001B[39m\u001B[38;5;124m'\u001B[39m: pred_test_en})\u001B[38;5;241m.\u001B[39mto_csv(\u001B[38;5;124m'\u001B[39m\u001B[38;5;124mdata/submissions/submissions_en.csv\u001B[39m\u001B[38;5;124m'\u001B[39m, index\u001B[38;5;241m=\u001B[39m\u001B[38;5;28;01mFalse\u001B[39;00m)\n",
      "\u001B[0;31mNameError\u001B[0m: name 'pd' is not defined"
     ]
    }
   ],
   "execution_count": 112
  },
  {
   "metadata": {
    "ExecuteTime": {
     "end_time": "2024-05-28T12:48:40.209038Z",
     "start_time": "2024-05-28T12:48:40.190370Z"
    }
   },
   "cell_type": "code",
   "source": "os.system('kaggle competitions submit -c playground-series-s4e5 -f data/submissions/submissions_en.csv -m \"Elastic Net\"')",
   "id": "4183930c3c989ebe",
   "outputs": [
    {
     "ename": "NameError",
     "evalue": "name 'os' is not defined",
     "output_type": "error",
     "traceback": [
      "\u001B[0;31m---------------------------------------------------------------------------\u001B[0m",
      "\u001B[0;31mNameError\u001B[0m                                 Traceback (most recent call last)",
      "Cell \u001B[0;32mIn[113], line 1\u001B[0m\n\u001B[0;32m----> 1\u001B[0m \u001B[43mos\u001B[49m\u001B[38;5;241m.\u001B[39msystem(\u001B[38;5;124m'\u001B[39m\u001B[38;5;124mkaggle competitions submit -c playground-series-s4e5 -f data/submissions/submissions_en.csv -m \u001B[39m\u001B[38;5;124m\"\u001B[39m\u001B[38;5;124mElastic Net\u001B[39m\u001B[38;5;124m\"\u001B[39m\u001B[38;5;124m'\u001B[39m)\n",
      "\u001B[0;31mNameError\u001B[0m: name 'os' is not defined"
     ]
    }
   ],
   "execution_count": 113
  },
  {
   "metadata": {},
   "cell_type": "markdown",
   "source": "### Redes Neuronales",
   "id": "dad6fcd2cfd9d11d"
  },
  {
   "metadata": {
    "ExecuteTime": {
     "end_time": "2024-05-28T12:48:40.341962Z",
     "start_time": "2024-05-28T12:48:40.339025Z"
    }
   },
   "cell_type": "code",
   "source": [
    "# Redes neuronales\n",
    "import tensorflow as tf\n",
    "from tensorflow.keras.models import Sequential\n",
    "from tensorflow.keras.layers import Dense\n",
    "from tensorflow.keras.optimizers import Adam\n"
   ],
   "id": "45ce4dc594c1ae8b",
   "outputs": [],
   "execution_count": 114
  },
  {
   "metadata": {
    "ExecuteTime": {
     "end_time": "2024-05-28T12:48:40.499072Z",
     "start_time": "2024-05-28T12:48:40.472652Z"
    }
   },
   "cell_type": "code",
   "source": [
    "model = Sequential()\n",
    "model.add(Dense(64, input_dim=train_.shape[1], activation='elu'))\n",
    "model.add(Dense(32, activation='elu'))\n",
    "model.add(Dense(16, activation='elu'))\n",
    "model.add(Dense(8, activation='elu'))\n",
    "model.add(Dense(4, activation='elu'))\n",
    "model.add(Dense(3, activation='elu'))\n",
    "model.add(Dense(2, activation='elu'))\n",
    "model.add(Dense(1, activation='linear'))"
   ],
   "id": "f184e209b2f154ff",
   "outputs": [
    {
     "ename": "NameError",
     "evalue": "name 'train_' is not defined",
     "output_type": "error",
     "traceback": [
      "\u001B[0;31m---------------------------------------------------------------------------\u001B[0m",
      "\u001B[0;31mNameError\u001B[0m                                 Traceback (most recent call last)",
      "Cell \u001B[0;32mIn[115], line 2\u001B[0m\n\u001B[1;32m      1\u001B[0m model \u001B[38;5;241m=\u001B[39m Sequential()\n\u001B[0;32m----> 2\u001B[0m model\u001B[38;5;241m.\u001B[39madd(Dense(\u001B[38;5;241m64\u001B[39m, input_dim\u001B[38;5;241m=\u001B[39m\u001B[43mtrain_\u001B[49m\u001B[38;5;241m.\u001B[39mshape[\u001B[38;5;241m1\u001B[39m], activation\u001B[38;5;241m=\u001B[39m\u001B[38;5;124m'\u001B[39m\u001B[38;5;124melu\u001B[39m\u001B[38;5;124m'\u001B[39m))\n\u001B[1;32m      3\u001B[0m model\u001B[38;5;241m.\u001B[39madd(Dense(\u001B[38;5;241m32\u001B[39m, activation\u001B[38;5;241m=\u001B[39m\u001B[38;5;124m'\u001B[39m\u001B[38;5;124melu\u001B[39m\u001B[38;5;124m'\u001B[39m))\n\u001B[1;32m      4\u001B[0m model\u001B[38;5;241m.\u001B[39madd(Dense(\u001B[38;5;241m16\u001B[39m, activation\u001B[38;5;241m=\u001B[39m\u001B[38;5;124m'\u001B[39m\u001B[38;5;124melu\u001B[39m\u001B[38;5;124m'\u001B[39m))\n",
      "\u001B[0;31mNameError\u001B[0m: name 'train_' is not defined"
     ]
    }
   ],
   "execution_count": 115
  },
  {
   "metadata": {
    "ExecuteTime": {
     "end_time": "2024-05-28T12:48:40.584543Z",
     "start_time": "2024-05-28T12:48:40.559507Z"
    }
   },
   "cell_type": "code",
   "source": "model.compile(optimizer='adam', loss='mean_squared_error', metrics=['mean_squared_error'])",
   "id": "119474074144dc6d",
   "outputs": [],
   "execution_count": 116
  },
  {
   "metadata": {
    "ExecuteTime": {
     "end_time": "2024-05-28T12:48:40.688302Z",
     "start_time": "2024-05-28T12:48:40.668821Z"
    }
   },
   "cell_type": "code",
   "source": "model.fit(train_, y_train_, epochs=10, batch_size=32, validation_data=(val_, y_val_))",
   "id": "b4d6a3ab53b1d2b0",
   "outputs": [
    {
     "ename": "NameError",
     "evalue": "name 'train_' is not defined",
     "output_type": "error",
     "traceback": [
      "\u001B[0;31m---------------------------------------------------------------------------\u001B[0m",
      "\u001B[0;31mNameError\u001B[0m                                 Traceback (most recent call last)",
      "Cell \u001B[0;32mIn[117], line 1\u001B[0m\n\u001B[0;32m----> 1\u001B[0m model\u001B[38;5;241m.\u001B[39mfit(\u001B[43mtrain_\u001B[49m, y_train_, epochs\u001B[38;5;241m=\u001B[39m\u001B[38;5;241m10\u001B[39m, batch_size\u001B[38;5;241m=\u001B[39m\u001B[38;5;241m32\u001B[39m, validation_data\u001B[38;5;241m=\u001B[39m(val_, y_val_))\n",
      "\u001B[0;31mNameError\u001B[0m: name 'train_' is not defined"
     ]
    }
   ],
   "execution_count": 117
  },
  {
   "metadata": {
    "ExecuteTime": {
     "end_time": "2024-05-28T12:48:40.823449Z",
     "start_time": "2024-05-28T12:48:40.805851Z"
    }
   },
   "cell_type": "code",
   "source": [
    "y_val_pred = model.predict(val_)\n",
    "y_test_pred = model.predict(test_)"
   ],
   "id": "1b703d09084cde4c",
   "outputs": [
    {
     "ename": "NameError",
     "evalue": "name 'val_' is not defined",
     "output_type": "error",
     "traceback": [
      "\u001B[0;31m---------------------------------------------------------------------------\u001B[0m",
      "\u001B[0;31mNameError\u001B[0m                                 Traceback (most recent call last)",
      "Cell \u001B[0;32mIn[118], line 1\u001B[0m\n\u001B[0;32m----> 1\u001B[0m y_val_pred \u001B[38;5;241m=\u001B[39m model\u001B[38;5;241m.\u001B[39mpredict(\u001B[43mval_\u001B[49m)\n\u001B[1;32m      2\u001B[0m y_test_pred \u001B[38;5;241m=\u001B[39m model\u001B[38;5;241m.\u001B[39mpredict(test_)\n",
      "\u001B[0;31mNameError\u001B[0m: name 'val_' is not defined"
     ]
    }
   ],
   "execution_count": 118
  },
  {
   "metadata": {
    "ExecuteTime": {
     "end_time": "2024-05-28T12:48:40.954807Z",
     "start_time": "2024-05-28T12:48:40.934930Z"
    }
   },
   "cell_type": "code",
   "source": [
    "metricas_tmp = pd.DataFrame({'Modelo': ['Redes Neuronales'], 'r2_val': [r2_score(y_val_, y_val_pred)], 'r2_test': [r2_score(y_test_, y_test_pred)]})\n",
    "metricas = pd.concat([metricas, metricas_tmp])\n",
    "metricas"
   ],
   "id": "40b55bc81a5ed228",
   "outputs": [
    {
     "ename": "NameError",
     "evalue": "name 'pd' is not defined",
     "output_type": "error",
     "traceback": [
      "\u001B[0;31m---------------------------------------------------------------------------\u001B[0m",
      "\u001B[0;31mNameError\u001B[0m                                 Traceback (most recent call last)",
      "Cell \u001B[0;32mIn[119], line 1\u001B[0m\n\u001B[0;32m----> 1\u001B[0m metricas_tmp \u001B[38;5;241m=\u001B[39m \u001B[43mpd\u001B[49m\u001B[38;5;241m.\u001B[39mDataFrame({\u001B[38;5;124m'\u001B[39m\u001B[38;5;124mModelo\u001B[39m\u001B[38;5;124m'\u001B[39m: [\u001B[38;5;124m'\u001B[39m\u001B[38;5;124mRedes Neuronales\u001B[39m\u001B[38;5;124m'\u001B[39m], \u001B[38;5;124m'\u001B[39m\u001B[38;5;124mr2_val\u001B[39m\u001B[38;5;124m'\u001B[39m: [r2_score(y_val_, y_val_pred)], \u001B[38;5;124m'\u001B[39m\u001B[38;5;124mr2_test\u001B[39m\u001B[38;5;124m'\u001B[39m: [r2_score(y_test_, y_test_pred)]})\n\u001B[1;32m      2\u001B[0m metricas \u001B[38;5;241m=\u001B[39m pd\u001B[38;5;241m.\u001B[39mconcat([metricas, metricas_tmp])\n\u001B[1;32m      3\u001B[0m metricas\n",
      "\u001B[0;31mNameError\u001B[0m: name 'pd' is not defined"
     ]
    }
   ],
   "execution_count": 119
  },
  {
   "metadata": {
    "ExecuteTime": {
     "end_time": "2024-05-28T12:48:41.004003Z",
     "start_time": "2024-05-28T12:48:41.001846Z"
    }
   },
   "cell_type": "code",
   "source": "",
   "id": "329fae156d6b75f4",
   "outputs": [],
   "execution_count": 119
  }
 ],
 "metadata": {
  "kernelspec": {
   "display_name": "Python 3",
   "language": "python",
   "name": "python3"
  },
  "language_info": {
   "codemirror_mode": {
    "name": "ipython",
    "version": 2
   },
   "file_extension": ".py",
   "mimetype": "text/x-python",
   "name": "python",
   "nbconvert_exporter": "python",
   "pygments_lexer": "ipython2",
   "version": "2.7.6"
  }
 },
 "nbformat": 4,
 "nbformat_minor": 5
}
