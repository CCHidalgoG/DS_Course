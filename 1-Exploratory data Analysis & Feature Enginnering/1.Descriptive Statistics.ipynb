{
 "cells": [
  {
   "metadata": {},
   "cell_type": "markdown",
   "source": "# Estadística descriptiva",
   "id": "9c536491a400ea77"
  },
  {
   "metadata": {},
   "cell_type": "markdown",
   "source": [
    "El análisis exploratorio nos ayuda a entender los datos a través de estadísticos y resúmenes de sus características,generalmente antes de la parte visual. Generalmente, suele ser acompañado de gráficos, aunque en algunos casos, esto suele causar demoras en el análisis. En la estadística descriptiva se conocen tres faces:\n",
    "* Análisis univariado\n",
    "* Análisis bivariado:\n",
    "    - De razon vs ordinal\n",
    "    - De razón vs categórica\n",
    "    - Ordinal vs ordinal etc.\n",
    "* Análisis multivariado (más de tres características):\n",
    "    - Obtener grupos u observaciones parecidas entre sí"
   ],
   "id": "838453ca61816340"
  },
  {
   "metadata": {},
   "cell_type": "markdown",
   "source": [
    "Tipos de variables:\n",
    "\n",
    "    * Cuantitativos: De razon, de intervalo\n",
    "    * Cualitativos: Categórico u ordinal."
   ],
   "id": "e0a2eeca9bc50004"
  },
  {
   "metadata": {},
   "cell_type": "markdown",
   "source": "## Carga de archivos en python",
   "id": "e8910cf3460d66c3"
  },
  {
   "metadata": {},
   "cell_type": "markdown",
   "source": "En python existen algunas dependencias que permiten la carga de archivos en diferentes formatos (csv, txt, xlsx, json, parquet, etc.), algunas de estas se especializan en la carga de grandes volúmenes de datos, generalmente, cuando se abordan los temas teóricos y prácticos de la ciencia de datos, los datasets que se utilizan no suelen ser muy masivos. Por lo que usaremos la famosa librería `pandas` para el tratamiento de la información. Estas librerías (aprovechando la comunidad de python, suelen tener muy buena documentación, por ejemplo, eche un vistazo a la documentación de [`pandas`](https://pandas.pydata.org/docs/getting_started/intro_tutorials/index.html). A continuación, la importamos:",
   "id": "1ea94a0addfb56ca"
  },
  {
   "metadata": {
    "ExecuteTime": {
     "end_time": "2024-03-20T00:00:09.765247Z",
     "start_time": "2024-03-20T00:00:09.515555Z"
    }
   },
   "cell_type": "code",
   "source": [
    "import pandas as pd\n",
    "import numpy as np\n",
    "# from global_vars import GLOBAL_PATH\n",
    "import global_vars as gv"
   ],
   "id": "445871dc4b82b2e9",
   "outputs": [],
   "execution_count": 3
  },
  {
   "metadata": {},
   "cell_type": "markdown",
   "source": [
    "Usaremos para introducir los conceptos de estadística descriptiva, el dataset de _cars_, que contiene información de características de 10 mil vehículos y se puede encontrar en [_kaggle_](https://www.kaggle.com/datasets/CooperUnion/cardataset?resource=download). Y cuya metadata adjuntamos:\n",
    "\n",
    "**Context**\n",
    "\n",
    "Cars dataset with features including make, model, year, engine, and other properties of the car used to predict its price.\n",
    "\n",
    "**Content**\n",
    "\n",
    "Scraped from Edmunds and Twitter.\n",
    "\n",
    "**Acknowledgements**\n",
    "\n",
    "Edmunds and Twitter for providing info\n",
    "Sam Keene\n",
    "\n",
    "**Inspiration**\n",
    "\n",
    "Effects of features on the price\n",
    "How does the brand affect the price?\n",
    "What cars can be consider overpriced?\n",
    "Price VS. popularity?"
   ],
   "id": "48e52ad5242d720d"
  },
  {
   "metadata": {
    "ExecuteTime": {
     "end_time": "2024-03-20T00:00:13.570174Z",
     "start_time": "2024-03-20T00:00:13.521644Z"
    }
   },
   "cell_type": "code",
   "source": "cars = pd.read_csv(f'{gv.GLOBAL_PATH}/data/cars.csv')",
   "id": "56549b837d901484",
   "outputs": [],
   "execution_count": 4
  },
  {
   "metadata": {},
   "cell_type": "markdown",
   "source": "Ahora exploraremos la base de datos cargada.",
   "id": "e40fc3db9c9329fc"
  },
  {
   "metadata": {
    "ExecuteTime": {
     "end_time": "2024-03-18T19:03:16.978156Z",
     "start_time": "2024-03-18T19:03:16.960214Z"
    }
   },
   "cell_type": "code",
   "source": "cars.head()",
   "id": "14c5c6e00c1ebcaa",
   "outputs": [
    {
     "data": {
      "text/plain": [
       "  Make       Model  Year             Engine Fuel Type  Engine HP  \\\n",
       "0  BMW  1 Series M  2011  premium unleaded (required)      335.0   \n",
       "1  BMW    1 Series  2011  premium unleaded (required)      300.0   \n",
       "2  BMW    1 Series  2011  premium unleaded (required)      300.0   \n",
       "3  BMW    1 Series  2011  premium unleaded (required)      230.0   \n",
       "4  BMW    1 Series  2011  premium unleaded (required)      230.0   \n",
       "\n",
       "   Engine Cylinders Transmission Type     Driven_Wheels  Number of Doors  \\\n",
       "0               6.0            MANUAL  rear wheel drive              2.0   \n",
       "1               6.0            MANUAL  rear wheel drive              2.0   \n",
       "2               6.0            MANUAL  rear wheel drive              2.0   \n",
       "3               6.0            MANUAL  rear wheel drive              2.0   \n",
       "4               6.0            MANUAL  rear wheel drive              2.0   \n",
       "\n",
       "                         Market Category Vehicle Size Vehicle Style  \\\n",
       "0  Factory Tuner,Luxury,High-Performance      Compact         Coupe   \n",
       "1                     Luxury,Performance      Compact   Convertible   \n",
       "2                Luxury,High-Performance      Compact         Coupe   \n",
       "3                     Luxury,Performance      Compact         Coupe   \n",
       "4                                 Luxury      Compact   Convertible   \n",
       "\n",
       "   highway MPG  city mpg  Popularity   MSRP  \n",
       "0           26        19        3916  46135  \n",
       "1           28        19        3916  40650  \n",
       "2           28        20        3916  36350  \n",
       "3           28        18        3916  29450  \n",
       "4           28        18        3916  34500  "
      ],
      "text/html": [
       "<div>\n",
       "<style scoped>\n",
       "    .dataframe tbody tr th:only-of-type {\n",
       "        vertical-align: middle;\n",
       "    }\n",
       "\n",
       "    .dataframe tbody tr th {\n",
       "        vertical-align: top;\n",
       "    }\n",
       "\n",
       "    .dataframe thead th {\n",
       "        text-align: right;\n",
       "    }\n",
       "</style>\n",
       "<table border=\"1\" class=\"dataframe\">\n",
       "  <thead>\n",
       "    <tr style=\"text-align: right;\">\n",
       "      <th></th>\n",
       "      <th>Make</th>\n",
       "      <th>Model</th>\n",
       "      <th>Year</th>\n",
       "      <th>Engine Fuel Type</th>\n",
       "      <th>Engine HP</th>\n",
       "      <th>Engine Cylinders</th>\n",
       "      <th>Transmission Type</th>\n",
       "      <th>Driven_Wheels</th>\n",
       "      <th>Number of Doors</th>\n",
       "      <th>Market Category</th>\n",
       "      <th>Vehicle Size</th>\n",
       "      <th>Vehicle Style</th>\n",
       "      <th>highway MPG</th>\n",
       "      <th>city mpg</th>\n",
       "      <th>Popularity</th>\n",
       "      <th>MSRP</th>\n",
       "    </tr>\n",
       "  </thead>\n",
       "  <tbody>\n",
       "    <tr>\n",
       "      <th>0</th>\n",
       "      <td>BMW</td>\n",
       "      <td>1 Series M</td>\n",
       "      <td>2011</td>\n",
       "      <td>premium unleaded (required)</td>\n",
       "      <td>335.0</td>\n",
       "      <td>6.0</td>\n",
       "      <td>MANUAL</td>\n",
       "      <td>rear wheel drive</td>\n",
       "      <td>2.0</td>\n",
       "      <td>Factory Tuner,Luxury,High-Performance</td>\n",
       "      <td>Compact</td>\n",
       "      <td>Coupe</td>\n",
       "      <td>26</td>\n",
       "      <td>19</td>\n",
       "      <td>3916</td>\n",
       "      <td>46135</td>\n",
       "    </tr>\n",
       "    <tr>\n",
       "      <th>1</th>\n",
       "      <td>BMW</td>\n",
       "      <td>1 Series</td>\n",
       "      <td>2011</td>\n",
       "      <td>premium unleaded (required)</td>\n",
       "      <td>300.0</td>\n",
       "      <td>6.0</td>\n",
       "      <td>MANUAL</td>\n",
       "      <td>rear wheel drive</td>\n",
       "      <td>2.0</td>\n",
       "      <td>Luxury,Performance</td>\n",
       "      <td>Compact</td>\n",
       "      <td>Convertible</td>\n",
       "      <td>28</td>\n",
       "      <td>19</td>\n",
       "      <td>3916</td>\n",
       "      <td>40650</td>\n",
       "    </tr>\n",
       "    <tr>\n",
       "      <th>2</th>\n",
       "      <td>BMW</td>\n",
       "      <td>1 Series</td>\n",
       "      <td>2011</td>\n",
       "      <td>premium unleaded (required)</td>\n",
       "      <td>300.0</td>\n",
       "      <td>6.0</td>\n",
       "      <td>MANUAL</td>\n",
       "      <td>rear wheel drive</td>\n",
       "      <td>2.0</td>\n",
       "      <td>Luxury,High-Performance</td>\n",
       "      <td>Compact</td>\n",
       "      <td>Coupe</td>\n",
       "      <td>28</td>\n",
       "      <td>20</td>\n",
       "      <td>3916</td>\n",
       "      <td>36350</td>\n",
       "    </tr>\n",
       "    <tr>\n",
       "      <th>3</th>\n",
       "      <td>BMW</td>\n",
       "      <td>1 Series</td>\n",
       "      <td>2011</td>\n",
       "      <td>premium unleaded (required)</td>\n",
       "      <td>230.0</td>\n",
       "      <td>6.0</td>\n",
       "      <td>MANUAL</td>\n",
       "      <td>rear wheel drive</td>\n",
       "      <td>2.0</td>\n",
       "      <td>Luxury,Performance</td>\n",
       "      <td>Compact</td>\n",
       "      <td>Coupe</td>\n",
       "      <td>28</td>\n",
       "      <td>18</td>\n",
       "      <td>3916</td>\n",
       "      <td>29450</td>\n",
       "    </tr>\n",
       "    <tr>\n",
       "      <th>4</th>\n",
       "      <td>BMW</td>\n",
       "      <td>1 Series</td>\n",
       "      <td>2011</td>\n",
       "      <td>premium unleaded (required)</td>\n",
       "      <td>230.0</td>\n",
       "      <td>6.0</td>\n",
       "      <td>MANUAL</td>\n",
       "      <td>rear wheel drive</td>\n",
       "      <td>2.0</td>\n",
       "      <td>Luxury</td>\n",
       "      <td>Compact</td>\n",
       "      <td>Convertible</td>\n",
       "      <td>28</td>\n",
       "      <td>18</td>\n",
       "      <td>3916</td>\n",
       "      <td>34500</td>\n",
       "    </tr>\n",
       "  </tbody>\n",
       "</table>\n",
       "</div>"
      ]
     },
     "execution_count": 3,
     "metadata": {},
     "output_type": "execute_result"
    }
   ],
   "execution_count": 3
  },
  {
   "metadata": {
    "ExecuteTime": {
     "end_time": "2024-03-18T19:03:16.994081Z",
     "start_time": "2024-03-18T19:03:16.980313Z"
    }
   },
   "cell_type": "code",
   "source": "cars.info()",
   "id": "fecb0fe21f72cba0",
   "outputs": [
    {
     "name": "stdout",
     "output_type": "stream",
     "text": [
      "<class 'pandas.core.frame.DataFrame'>\n",
      "RangeIndex: 11914 entries, 0 to 11913\n",
      "Data columns (total 16 columns):\n",
      " #   Column             Non-Null Count  Dtype  \n",
      "---  ------             --------------  -----  \n",
      " 0   Make               11914 non-null  object \n",
      " 1   Model              11914 non-null  object \n",
      " 2   Year               11914 non-null  int64  \n",
      " 3   Engine Fuel Type   11911 non-null  object \n",
      " 4   Engine HP          11845 non-null  float64\n",
      " 5   Engine Cylinders   11884 non-null  float64\n",
      " 6   Transmission Type  11914 non-null  object \n",
      " 7   Driven_Wheels      11914 non-null  object \n",
      " 8   Number of Doors    11908 non-null  float64\n",
      " 9   Market Category    8172 non-null   object \n",
      " 10  Vehicle Size       11914 non-null  object \n",
      " 11  Vehicle Style      11914 non-null  object \n",
      " 12  highway MPG        11914 non-null  int64  \n",
      " 13  city mpg           11914 non-null  int64  \n",
      " 14  Popularity         11914 non-null  int64  \n",
      " 15  MSRP               11914 non-null  int64  \n",
      "dtypes: float64(3), int64(5), object(8)\n",
      "memory usage: 1.5+ MB\n"
     ]
    }
   ],
   "execution_count": 4
  },
  {
   "metadata": {
    "ExecuteTime": {
     "end_time": "2024-03-18T19:03:16.998428Z",
     "start_time": "2024-03-18T19:03:16.995818Z"
    }
   },
   "cell_type": "code",
   "source": "# cars['Number of Doors'] = cars['Number of Doors'].fillna(0).astype(int)",
   "id": "21469dd08d6280ec",
   "outputs": [],
   "execution_count": 5
  },
  {
   "metadata": {},
   "cell_type": "markdown",
   "source": "## Análisis univariado",
   "id": "db3494c4cbc8fec4"
  },
  {
   "metadata": {},
   "cell_type": "markdown",
   "source": [
    "Para variables cuantitativas:\n",
    "- Medidas de tendencia central\n",
    "- Medidas de posición\n",
    "- Medidas de dispersión\n",
    "- Medidas de forma"
   ],
   "id": "57604816b0f76e7e"
  },
  {
   "metadata": {},
   "cell_type": "markdown",
   "source": "### Medidas de tendencia central",
   "id": "62eec447e9313ba5"
  },
  {
   "metadata": {},
   "cell_type": "markdown",
   "source": "Entre las medidas de tendencia central se encuentra la media, mediana y moda, y algunas variantes de las mismas: media recortada, media ponderada. Calculemos estas funciones para los datos numéricos. La media es sensible a los valores extremos, la mediana no, la moda es el valor que más se repite.",
   "id": "61a4cf22347a5891"
  },
  {
   "metadata": {
    "ExecuteTime": {
     "end_time": "2024-03-18T19:03:17.003870Z",
     "start_time": "2024-03-18T19:03:16.999675Z"
    }
   },
   "cell_type": "code",
   "source": "gv.get_numeric(cars)",
   "id": "1e9d429412da4ce2",
   "outputs": [
    {
     "data": {
      "text/plain": [
       "['Engine HP', 'Engine Cylinders', 'Number of Doors']"
      ]
     },
     "execution_count": 6,
     "metadata": {},
     "output_type": "execute_result"
    }
   ],
   "execution_count": 6
  },
  {
   "metadata": {
    "ExecuteTime": {
     "end_time": "2024-03-18T19:03:17.009792Z",
     "start_time": "2024-03-18T19:03:17.005502Z"
    }
   },
   "cell_type": "code",
   "source": [
    "from collections import Counter\n",
    "def my_mode(sample):\n",
    "    \"\"\"\n",
    "    This function calculates the mode of a given sample.\n",
    "\n",
    "    Parameters:\n",
    "    sample (pandas.Series): The sample for which the mode is to be calculated.\n",
    "\n",
    "    Returns:\n",
    "    float: The mode of the sample.\n",
    "    \"\"\"\n",
    "    c = Counter(sample)\n",
    "    return [k for k, v in c.items() if v == c.most_common(1)[0][1]][0]"
   ],
   "id": "a3edacda5b03e6c1",
   "outputs": [],
   "execution_count": 7
  },
  {
   "metadata": {
    "ExecuteTime": {
     "end_time": "2024-03-18T19:03:17.014372Z",
     "start_time": "2024-03-18T19:03:17.011486Z"
    }
   },
   "cell_type": "code",
   "source": [
    "# Counter(cars['Engine HP']).most_common(1)\n",
    "# Counter(cars['Engine HP']).items()"
   ],
   "id": "82971c313ce617d7",
   "outputs": [],
   "execution_count": 8
  },
  {
   "metadata": {
    "ExecuteTime": {
     "end_time": "2024-03-18T19:03:17.026345Z",
     "start_time": "2024-03-18T19:03:17.015513Z"
    }
   },
   "cell_type": "code",
   "source": "cars.copy()[['MSRP', 'Popularity']].agg({'mean', 'median', 'max', 'min', 'std'})",
   "id": "d471308a4c1713ea",
   "outputs": [
    {
     "data": {
      "text/plain": [
       "                MSRP   Popularity\n",
       "median  2.999500e+04  1385.000000\n",
       "min     2.000000e+03     2.000000\n",
       "mean    4.059474e+04  1554.911197\n",
       "std     6.010910e+04  1441.855347\n",
       "max     2.065902e+06  5657.000000"
      ],
      "text/html": [
       "<div>\n",
       "<style scoped>\n",
       "    .dataframe tbody tr th:only-of-type {\n",
       "        vertical-align: middle;\n",
       "    }\n",
       "\n",
       "    .dataframe tbody tr th {\n",
       "        vertical-align: top;\n",
       "    }\n",
       "\n",
       "    .dataframe thead th {\n",
       "        text-align: right;\n",
       "    }\n",
       "</style>\n",
       "<table border=\"1\" class=\"dataframe\">\n",
       "  <thead>\n",
       "    <tr style=\"text-align: right;\">\n",
       "      <th></th>\n",
       "      <th>MSRP</th>\n",
       "      <th>Popularity</th>\n",
       "    </tr>\n",
       "  </thead>\n",
       "  <tbody>\n",
       "    <tr>\n",
       "      <th>median</th>\n",
       "      <td>2.999500e+04</td>\n",
       "      <td>1385.000000</td>\n",
       "    </tr>\n",
       "    <tr>\n",
       "      <th>min</th>\n",
       "      <td>2.000000e+03</td>\n",
       "      <td>2.000000</td>\n",
       "    </tr>\n",
       "    <tr>\n",
       "      <th>mean</th>\n",
       "      <td>4.059474e+04</td>\n",
       "      <td>1554.911197</td>\n",
       "    </tr>\n",
       "    <tr>\n",
       "      <th>std</th>\n",
       "      <td>6.010910e+04</td>\n",
       "      <td>1441.855347</td>\n",
       "    </tr>\n",
       "    <tr>\n",
       "      <th>max</th>\n",
       "      <td>2.065902e+06</td>\n",
       "      <td>5657.000000</td>\n",
       "    </tr>\n",
       "  </tbody>\n",
       "</table>\n",
       "</div>"
      ]
     },
     "execution_count": 9,
     "metadata": {},
     "output_type": "execute_result"
    }
   ],
   "execution_count": 9
  },
  {
   "metadata": {
    "ExecuteTime": {
     "end_time": "2024-03-18T19:03:17.050558Z",
     "start_time": "2024-03-18T19:03:17.028602Z"
    }
   },
   "cell_type": "code",
   "source": [
    "Ejemplo_group = cars.copy()[['Make', 'MSRP']].groupby('Make').agg({'mean', 'median', 'max', 'min', 'std'})\n",
    "Ejemplo_group['MSRP'] = np.round(Ejemplo_group['MSRP'])\n",
    "Ejemplo_group.head()"
   ],
   "id": "ab291fdd289f5554",
   "outputs": [
    {
     "data": {
      "text/plain": [
       "                  MSRP                                  \n",
       "                median    min      mean      std     max\n",
       "Make                                                    \n",
       "Acura          36262.0   2000   34888.0  19432.0  156000\n",
       "Alfa Romeo     63900.0  53900   61600.0   6360.0   68400\n",
       "Aston Martin  195895.0  98200  197910.0  63759.0  320695\n",
       "Audi           46725.0   2000   53452.0  38612.0  199900\n",
       "BMW            51850.0   4697   61547.0  27983.0  141200"
      ],
      "text/html": [
       "<div>\n",
       "<style scoped>\n",
       "    .dataframe tbody tr th:only-of-type {\n",
       "        vertical-align: middle;\n",
       "    }\n",
       "\n",
       "    .dataframe tbody tr th {\n",
       "        vertical-align: top;\n",
       "    }\n",
       "\n",
       "    .dataframe thead tr th {\n",
       "        text-align: left;\n",
       "    }\n",
       "\n",
       "    .dataframe thead tr:last-of-type th {\n",
       "        text-align: right;\n",
       "    }\n",
       "</style>\n",
       "<table border=\"1\" class=\"dataframe\">\n",
       "  <thead>\n",
       "    <tr>\n",
       "      <th></th>\n",
       "      <th colspan=\"5\" halign=\"left\">MSRP</th>\n",
       "    </tr>\n",
       "    <tr>\n",
       "      <th></th>\n",
       "      <th>median</th>\n",
       "      <th>min</th>\n",
       "      <th>mean</th>\n",
       "      <th>std</th>\n",
       "      <th>max</th>\n",
       "    </tr>\n",
       "    <tr>\n",
       "      <th>Make</th>\n",
       "      <th></th>\n",
       "      <th></th>\n",
       "      <th></th>\n",
       "      <th></th>\n",
       "      <th></th>\n",
       "    </tr>\n",
       "  </thead>\n",
       "  <tbody>\n",
       "    <tr>\n",
       "      <th>Acura</th>\n",
       "      <td>36262.0</td>\n",
       "      <td>2000</td>\n",
       "      <td>34888.0</td>\n",
       "      <td>19432.0</td>\n",
       "      <td>156000</td>\n",
       "    </tr>\n",
       "    <tr>\n",
       "      <th>Alfa Romeo</th>\n",
       "      <td>63900.0</td>\n",
       "      <td>53900</td>\n",
       "      <td>61600.0</td>\n",
       "      <td>6360.0</td>\n",
       "      <td>68400</td>\n",
       "    </tr>\n",
       "    <tr>\n",
       "      <th>Aston Martin</th>\n",
       "      <td>195895.0</td>\n",
       "      <td>98200</td>\n",
       "      <td>197910.0</td>\n",
       "      <td>63759.0</td>\n",
       "      <td>320695</td>\n",
       "    </tr>\n",
       "    <tr>\n",
       "      <th>Audi</th>\n",
       "      <td>46725.0</td>\n",
       "      <td>2000</td>\n",
       "      <td>53452.0</td>\n",
       "      <td>38612.0</td>\n",
       "      <td>199900</td>\n",
       "    </tr>\n",
       "    <tr>\n",
       "      <th>BMW</th>\n",
       "      <td>51850.0</td>\n",
       "      <td>4697</td>\n",
       "      <td>61547.0</td>\n",
       "      <td>27983.0</td>\n",
       "      <td>141200</td>\n",
       "    </tr>\n",
       "  </tbody>\n",
       "</table>\n",
       "</div>"
      ]
     },
     "execution_count": 10,
     "metadata": {},
     "output_type": "execute_result"
    }
   ],
   "execution_count": 10
  },
  {
   "metadata": {
    "ExecuteTime": {
     "end_time": "2024-03-18T19:03:17.054028Z",
     "start_time": "2024-03-18T19:03:17.051556Z"
    }
   },
   "cell_type": "code",
   "source": "Ejemplo_group.columns = ['MSRP_mean', 'MSRP_median', 'MSRP_max', 'MSRP_min', 'MSRP_std']",
   "id": "ec469e419e38819e",
   "outputs": [],
   "execution_count": 11
  },
  {
   "metadata": {
    "ExecuteTime": {
     "end_time": "2024-03-18T19:03:17.057416Z",
     "start_time": "2024-03-18T19:03:17.055051Z"
    }
   },
   "cell_type": "code",
   "source": "#Ejemplo_group.reset_index()",
   "id": "bc65f8dd0d9e07bf",
   "outputs": [],
   "execution_count": 12
  },
  {
   "metadata": {
    "ExecuteTime": {
     "end_time": "2024-03-18T19:03:17.063029Z",
     "start_time": "2024-03-18T19:03:17.058706Z"
    }
   },
   "cell_type": "code",
   "source": [
    "def compute_mtc(data):\n",
    "    \"\"\"\n",
    "    This function calculates the measures of central tendency (mean, median, mode) for the numeric columns in the given DataFrame.\n",
    "\n",
    "    Parameters:\n",
    "    data (pandas.DataFrame): The DataFrame for which the measures of central tendency are to be calculated.\n",
    "\n",
    "    Returns:\n",
    "    pandas.DataFrame: A DataFrame containing the measures of central tendency (mean, median, mode) for each numeric column in the input DataFrame.\n",
    "    \"\"\"\n",
    "    # Get the numeric columns from the data\n",
    "    numeric_cols = gv.get_numeric(data)\n",
    "\n",
    "    # Copy the data and select only the numeric columns\n",
    "    data_mtc = data.copy()[numeric_cols]\n",
    "\n",
    "    # Calculate the measures of central tendency for each numeric column\n",
    "    data_mtc = data_mtc.aggregate({\"mean\", \"median\", my_mode})\n",
    "\n",
    "    return data_mtc"
   ],
   "id": "3f06b30ceb5ea66d",
   "outputs": [],
   "execution_count": 13
  },
  {
   "metadata": {
    "ExecuteTime": {
     "end_time": "2024-03-18T19:03:17.093759Z",
     "start_time": "2024-03-18T19:03:17.065286Z"
    }
   },
   "cell_type": "code",
   "source": "compute_mtc(cars)",
   "id": "389b0670bd0eb25d",
   "outputs": [
    {
     "data": {
      "text/plain": [
       "         Engine HP  Engine Cylinders  Number of Doors\n",
       "median   227.00000          6.000000         4.000000\n",
       "my_mode  200.00000          4.000000         4.000000\n",
       "mean     249.38607          5.628829         3.436093"
      ],
      "text/html": [
       "<div>\n",
       "<style scoped>\n",
       "    .dataframe tbody tr th:only-of-type {\n",
       "        vertical-align: middle;\n",
       "    }\n",
       "\n",
       "    .dataframe tbody tr th {\n",
       "        vertical-align: top;\n",
       "    }\n",
       "\n",
       "    .dataframe thead th {\n",
       "        text-align: right;\n",
       "    }\n",
       "</style>\n",
       "<table border=\"1\" class=\"dataframe\">\n",
       "  <thead>\n",
       "    <tr style=\"text-align: right;\">\n",
       "      <th></th>\n",
       "      <th>Engine HP</th>\n",
       "      <th>Engine Cylinders</th>\n",
       "      <th>Number of Doors</th>\n",
       "    </tr>\n",
       "  </thead>\n",
       "  <tbody>\n",
       "    <tr>\n",
       "      <th>median</th>\n",
       "      <td>227.00000</td>\n",
       "      <td>6.000000</td>\n",
       "      <td>4.000000</td>\n",
       "    </tr>\n",
       "    <tr>\n",
       "      <th>my_mode</th>\n",
       "      <td>200.00000</td>\n",
       "      <td>4.000000</td>\n",
       "      <td>4.000000</td>\n",
       "    </tr>\n",
       "    <tr>\n",
       "      <th>mean</th>\n",
       "      <td>249.38607</td>\n",
       "      <td>5.628829</td>\n",
       "      <td>3.436093</td>\n",
       "    </tr>\n",
       "  </tbody>\n",
       "</table>\n",
       "</div>"
      ]
     },
     "execution_count": 14,
     "metadata": {},
     "output_type": "execute_result"
    }
   ],
   "execution_count": 14
  },
  {
   "metadata": {
    "ExecuteTime": {
     "end_time": "2024-03-18T19:03:17.116246Z",
     "start_time": "2024-03-18T19:03:17.094999Z"
    }
   },
   "cell_type": "code",
   "source": [
    "numeric_cols = gv.get_numeric(cars)\n",
    "data_mtc = cars.copy()[numeric_cols].aggregate({'Engine HP':[\"mean\", \"median\", my_mode], })\n",
    "data_mtc"
   ],
   "id": "ce302705ee972f9c",
   "outputs": [
    {
     "data": {
      "text/plain": [
       "         Engine HP\n",
       "mean     249.38607\n",
       "median   227.00000\n",
       "my_mode  200.00000"
      ],
      "text/html": [
       "<div>\n",
       "<style scoped>\n",
       "    .dataframe tbody tr th:only-of-type {\n",
       "        vertical-align: middle;\n",
       "    }\n",
       "\n",
       "    .dataframe tbody tr th {\n",
       "        vertical-align: top;\n",
       "    }\n",
       "\n",
       "    .dataframe thead th {\n",
       "        text-align: right;\n",
       "    }\n",
       "</style>\n",
       "<table border=\"1\" class=\"dataframe\">\n",
       "  <thead>\n",
       "    <tr style=\"text-align: right;\">\n",
       "      <th></th>\n",
       "      <th>Engine HP</th>\n",
       "    </tr>\n",
       "  </thead>\n",
       "  <tbody>\n",
       "    <tr>\n",
       "      <th>mean</th>\n",
       "      <td>249.38607</td>\n",
       "    </tr>\n",
       "    <tr>\n",
       "      <th>median</th>\n",
       "      <td>227.00000</td>\n",
       "    </tr>\n",
       "    <tr>\n",
       "      <th>my_mode</th>\n",
       "      <td>200.00000</td>\n",
       "    </tr>\n",
       "  </tbody>\n",
       "</table>\n",
       "</div>"
      ]
     },
     "execution_count": 15,
     "metadata": {},
     "output_type": "execute_result"
    }
   ],
   "execution_count": 15
  },
  {
   "metadata": {},
   "cell_type": "markdown",
   "source": "Las medidas de tendencia central nos brindan información sobre cómo se distribuyen los datos, los posibles sesgos que tienen.",
   "id": "aaffb8c8972eea0d"
  },
  {
   "metadata": {},
   "cell_type": "markdown",
   "source": "### Medidas de dispersión",
   "id": "9f8c49fd2b362374"
  },
  {
   "metadata": {},
   "cell_type": "markdown",
   "source": "Las medidas de dispersión nos hablan de qué tan dispersos son las distribuciones, si es confiable representarlas con un parámetro o no. Entre las medidas de dispersión se encuentran la desviación estándar, la varianza, el rango, el rango intercuartílico y el coeficiente de variación. Calculemos estas funciones para los datos numéricos.",
   "id": "c04045480ea21bdf"
  },
  {
   "metadata": {
    "ExecuteTime": {
     "end_time": "2024-03-18T19:03:17.121887Z",
     "start_time": "2024-03-18T19:03:17.117555Z"
    }
   },
   "cell_type": "code",
   "source": [
    "def range_of_list(sample):\n",
    "    \"\"\"\n",
    "    This function calculates the range of a given sample.\n",
    "\n",
    "    Parameters:\n",
    "    sample (pandas.Series): The sample for which the range is to be calculated.\n",
    "\n",
    "    Returns:\n",
    "    float: The range of the sample.\n",
    "    \"\"\"\n",
    "    rango = np.max(sample.dropna().values) - np.min(sample.dropna().values)\n",
    "    return rango\n",
    "\n",
    "def iqr(sample):\n",
    "    \"\"\"\n",
    "    This function calculates the interquartile range of a given sample.\n",
    "\n",
    "    Parameters:\n",
    "    sample (pandas.Series): The sample for which the interquartile range is to be calculated.\n",
    "\n",
    "    Returns:\n",
    "    float: The interquartile range of the sample.\n",
    "    \"\"\"\n",
    "    q3, q1 = np.percentile(sample.dropna().values, [75 ,25])\n",
    "    inqr = q3 - q1\n",
    "    return inqr\n",
    "\n",
    "def cve(sample):\n",
    "    \"\"\"\n",
    "    This function calculates the coefficient of variation of a given sample.\n",
    "\n",
    "    Parameters:\n",
    "    sample (pandas.Series): The sample for which the coefficient of variation is to be calculated.\n",
    "\n",
    "    Returns:\n",
    "    float: The coefficient of variation of the sample.\n",
    "    \"\"\"\n",
    "    cve =  np.round(sample.std()/sample.mean(),3)\n",
    "    return cve*100\n"
   ],
   "id": "e90298de64571760",
   "outputs": [],
   "execution_count": 16
  },
  {
   "metadata": {
    "ExecuteTime": {
     "end_time": "2024-03-18T19:03:17.126933Z",
     "start_time": "2024-03-18T19:03:17.123490Z"
    }
   },
   "cell_type": "code",
   "source": [
    "def compute_mdd(data):\n",
    "    \"\"\"\n",
    "    This function calculates the measures of dispersion for the numeric columns in the given DataFrame.\n",
    "\n",
    "    Parameters:\n",
    "    data (pandas.DataFrame): The DataFrame for which the measures of dispersion are to be calculated.\n",
    "\n",
    "    Returns:\n",
    "    pandas.DataFrame: A DataFrame containing the measures of dispersion (standard deviation, variance, range, interquartile range, and coefficient of variation) for each numeric column in the input DataFrame.\n",
    "\n",
    "    \"\"\"\n",
    "    # Get the numeric columns from the data\n",
    "    numeric_cols = gv.get_numeric(data)\n",
    "    \n",
    "    # Copy the data and select only the numeric columns\n",
    "    data_mdd = data.copy()[numeric_cols]\n",
    "    \n",
    "    # Calculate the measures of dispersion for each numeric column\n",
    "    data_mdd = data_mdd.aggregate({\"std\", \"var\", range_of_list, iqr, cve})\n",
    "    \n",
    "    return data_mdd"
   ],
   "id": "b04a9560f2e2cfa",
   "outputs": [],
   "execution_count": 17
  },
  {
   "metadata": {
    "ExecuteTime": {
     "end_time": "2024-03-18T19:03:17.147600Z",
     "start_time": "2024-03-18T19:03:17.128253Z"
    }
   },
   "cell_type": "code",
   "source": "compute_mdd(cars)",
   "id": "848cd383de5bd9c5",
   "outputs": [
    {
     "data": {
      "text/plain": [
       "                  Engine HP  Engine Cylinders  Number of Doors\n",
       "cve               43.800000         31.600000        25.600000\n",
       "var            11922.864531          3.170392         0.776717\n",
       "range_of_list    946.000000         16.000000         2.000000\n",
       "iqr              130.000000          2.000000         2.000000\n",
       "std              109.191870          1.780559         0.881315"
      ],
      "text/html": [
       "<div>\n",
       "<style scoped>\n",
       "    .dataframe tbody tr th:only-of-type {\n",
       "        vertical-align: middle;\n",
       "    }\n",
       "\n",
       "    .dataframe tbody tr th {\n",
       "        vertical-align: top;\n",
       "    }\n",
       "\n",
       "    .dataframe thead th {\n",
       "        text-align: right;\n",
       "    }\n",
       "</style>\n",
       "<table border=\"1\" class=\"dataframe\">\n",
       "  <thead>\n",
       "    <tr style=\"text-align: right;\">\n",
       "      <th></th>\n",
       "      <th>Engine HP</th>\n",
       "      <th>Engine Cylinders</th>\n",
       "      <th>Number of Doors</th>\n",
       "    </tr>\n",
       "  </thead>\n",
       "  <tbody>\n",
       "    <tr>\n",
       "      <th>cve</th>\n",
       "      <td>43.800000</td>\n",
       "      <td>31.600000</td>\n",
       "      <td>25.600000</td>\n",
       "    </tr>\n",
       "    <tr>\n",
       "      <th>var</th>\n",
       "      <td>11922.864531</td>\n",
       "      <td>3.170392</td>\n",
       "      <td>0.776717</td>\n",
       "    </tr>\n",
       "    <tr>\n",
       "      <th>range_of_list</th>\n",
       "      <td>946.000000</td>\n",
       "      <td>16.000000</td>\n",
       "      <td>2.000000</td>\n",
       "    </tr>\n",
       "    <tr>\n",
       "      <th>iqr</th>\n",
       "      <td>130.000000</td>\n",
       "      <td>2.000000</td>\n",
       "      <td>2.000000</td>\n",
       "    </tr>\n",
       "    <tr>\n",
       "      <th>std</th>\n",
       "      <td>109.191870</td>\n",
       "      <td>1.780559</td>\n",
       "      <td>0.881315</td>\n",
       "    </tr>\n",
       "  </tbody>\n",
       "</table>\n",
       "</div>"
      ]
     },
     "execution_count": 18,
     "metadata": {},
     "output_type": "execute_result"
    }
   ],
   "execution_count": 18
  },
  {
   "metadata": {},
   "cell_type": "markdown",
   "source": "### Medidas de forma",
   "id": "207f8c9191bb0c83"
  },
  {
   "metadata": {},
   "cell_type": "markdown",
   "source": [
    "Las medidas de forma nos hablan de la simetría y la forma de la distribución de los datos. El coeficiente de asimetría de Fisher y el coeficiente de curtosis son las medidas más comunes. Para interpretar estas medidas, se puede usar la siguiente regla:\n",
    "- Si el coeficiente de asimetría es 0, la distribución es simétrica.\n",
    "- Si el coeficiente de asimetría es mayor que 0, la distribución es asimétrica a la derecha.\n",
    "- Si el coeficiente de asimetría es menor que 0, la distribución es asimétrica a la izquierda.\n",
    "- Si el coeficiente de curtosis es 0, la distribución es mesocúrtica.\n",
    "- Si el coeficiente de curtosis es mayor que 0, la distribución es leptocúrtica.\n",
    "- Si el coeficiente de curtosis es menor que 0, la distribución es platicúrtica."
   ],
   "id": "e1afb99176a3a6cd"
  },
  {
   "metadata": {
    "ExecuteTime": {
     "end_time": "2024-03-18T19:06:39.915430Z",
     "start_time": "2024-03-18T19:06:39.911984Z"
    }
   },
   "cell_type": "code",
   "source": [
    "def compute_mdf(data):\n",
    "    \"\"\"\n",
    "    This function calculates the measures of form (kurtosis and skewness) for the numeric columns in the given DataFrame.\n",
    "\n",
    "    Parameters:\n",
    "    data (pandas.DataFrame): The DataFrame for which the measures of form are to be calculated.\n",
    "\n",
    "    Returns:\n",
    "    pandas.DataFrame: A DataFrame containing the measures of form (kurtosis and skewness) for each numeric column in the input DataFrame.\n",
    "    \"\"\"\n",
    "    # Get the numeric columns from the data\n",
    "    numeric_cols = gv.get_numeric(data)\n",
    "\n",
    "    # Copy the data and select only the numeric columns\n",
    "    data_mdd = data.copy()[numeric_cols]\n",
    "\n",
    "    # Calculate the measures of form for each numeric column\n",
    "    data_mdd = data_mdd.aggregate({\"kurt\", \"skew\"})\n",
    "\n",
    "    return data_mdd"
   ],
   "id": "6d0513859a17b5f4",
   "outputs": [],
   "execution_count": 21
  },
  {
   "metadata": {
    "ExecuteTime": {
     "end_time": "2024-03-18T19:06:52.312952Z",
     "start_time": "2024-03-18T19:06:52.299544Z"
    }
   },
   "cell_type": "code",
   "source": "compute_mdf(cars)",
   "id": "9b13a2f75c1327f1",
   "outputs": [
    {
     "data": {
      "text/plain": [
       "      Engine HP  Engine Cylinders  Number of Doors\n",
       "kurt   2.323884          1.974316        -1.009111\n",
       "skew   1.291230          0.964542        -0.968671"
      ],
      "text/html": [
       "<div>\n",
       "<style scoped>\n",
       "    .dataframe tbody tr th:only-of-type {\n",
       "        vertical-align: middle;\n",
       "    }\n",
       "\n",
       "    .dataframe tbody tr th {\n",
       "        vertical-align: top;\n",
       "    }\n",
       "\n",
       "    .dataframe thead th {\n",
       "        text-align: right;\n",
       "    }\n",
       "</style>\n",
       "<table border=\"1\" class=\"dataframe\">\n",
       "  <thead>\n",
       "    <tr style=\"text-align: right;\">\n",
       "      <th></th>\n",
       "      <th>Engine HP</th>\n",
       "      <th>Engine Cylinders</th>\n",
       "      <th>Number of Doors</th>\n",
       "    </tr>\n",
       "  </thead>\n",
       "  <tbody>\n",
       "    <tr>\n",
       "      <th>kurt</th>\n",
       "      <td>2.323884</td>\n",
       "      <td>1.974316</td>\n",
       "      <td>-1.009111</td>\n",
       "    </tr>\n",
       "    <tr>\n",
       "      <th>skew</th>\n",
       "      <td>1.291230</td>\n",
       "      <td>0.964542</td>\n",
       "      <td>-0.968671</td>\n",
       "    </tr>\n",
       "  </tbody>\n",
       "</table>\n",
       "</div>"
      ]
     },
     "execution_count": 23,
     "metadata": {},
     "output_type": "execute_result"
    }
   ],
   "execution_count": 23
  },
  {
   "metadata": {},
   "cell_type": "markdown",
   "source": "## Medidas de posición",
   "id": "daec834949a97e57"
  },
  {
   "metadata": {},
   "cell_type": "markdown",
   "source": [
    "Las medidas de posición nos hablan de la posición de los datos en la distribución. Entre las medidas de posición se encuentran los percentiles, los cuartiles, los deciles y los quintiles. Calculemos estas funciones para los datos numéricos.\n",
    "Los percentiles son los valores que dividen a la distribución en 100 partes iguales, los cuartiles en 4, los deciles en 10 y los quintiles en 5."
   ],
   "id": "d571135d3cb188df"
  },
  {
   "metadata": {
    "ExecuteTime": {
     "end_time": "2024-03-19T23:59:50.897413Z",
     "start_time": "2024-03-19T23:59:50.881105Z"
    }
   },
   "cell_type": "code",
   "source": [
    "def compute_mdp(data):\n",
    "    \"\"\"\n",
    "    This function calculates the measures of position (percentiles, quartiles, deciles, and quintiles) for the numeric columns in the given DataFrame.\n",
    "\n",
    "    Parameters:\n",
    "    data (pandas.DataFrame): The DataFrame for which the measures of position are to be calculated.\n",
    "\n",
    "    Returns:\n",
    "    pandas.DataFrame: A DataFrame containing the measures of position (percentiles, quartiles, deciles, and quintiles) for each numeric column in the input DataFrame.\n",
    "    \"\"\"\n",
    "    # Get the numeric columns from the data\n",
    "    numeric_cols = gv.get_numeric(data)\n",
    "\n",
    "    # Copy the data and select only the numeric columns\n",
    "    data_mdp = data.copy()[numeric_cols]\n",
    "\n",
    "    # Calculate the measures of position for each numeric column\n",
    "    data_mdp = data_mdp.quantile([0.25, 0.5, 0.75, 0.1, 0.2, 0.3, 0.4, 0.6, 0.7, 0.8, 0.9])\n",
    "\n",
    "    return data_mdp"
   ],
   "id": "312e9803d40e4adf",
   "outputs": [],
   "execution_count": 1
  },
  {
   "metadata": {
    "ExecuteTime": {
     "end_time": "2024-03-20T00:00:18.765452Z",
     "start_time": "2024-03-20T00:00:18.749746Z"
    }
   },
   "cell_type": "code",
   "source": "compute_mdp(cars)",
   "id": "4ceb9145a00cc4c",
   "outputs": [
    {
     "data": {
      "text/plain": [
       "      Engine HP  Engine Cylinders  Number of Doors\n",
       "0.25      170.0               4.0              2.0\n",
       "0.50      227.0               6.0              4.0\n",
       "0.75      300.0               6.0              4.0\n",
       "0.10      138.0               4.0              2.0\n",
       "0.20      160.0               4.0              2.0\n",
       "0.30      180.0               4.0              4.0\n",
       "0.40      200.0               4.0              4.0\n",
       "0.60      261.0               6.0              4.0\n",
       "0.70      285.0               6.0              4.0\n",
       "0.80      317.0               6.0              4.0\n",
       "0.90      385.0               8.0              4.0"
      ],
      "text/html": [
       "<div>\n",
       "<style scoped>\n",
       "    .dataframe tbody tr th:only-of-type {\n",
       "        vertical-align: middle;\n",
       "    }\n",
       "\n",
       "    .dataframe tbody tr th {\n",
       "        vertical-align: top;\n",
       "    }\n",
       "\n",
       "    .dataframe thead th {\n",
       "        text-align: right;\n",
       "    }\n",
       "</style>\n",
       "<table border=\"1\" class=\"dataframe\">\n",
       "  <thead>\n",
       "    <tr style=\"text-align: right;\">\n",
       "      <th></th>\n",
       "      <th>Engine HP</th>\n",
       "      <th>Engine Cylinders</th>\n",
       "      <th>Number of Doors</th>\n",
       "    </tr>\n",
       "  </thead>\n",
       "  <tbody>\n",
       "    <tr>\n",
       "      <th>0.25</th>\n",
       "      <td>170.0</td>\n",
       "      <td>4.0</td>\n",
       "      <td>2.0</td>\n",
       "    </tr>\n",
       "    <tr>\n",
       "      <th>0.50</th>\n",
       "      <td>227.0</td>\n",
       "      <td>6.0</td>\n",
       "      <td>4.0</td>\n",
       "    </tr>\n",
       "    <tr>\n",
       "      <th>0.75</th>\n",
       "      <td>300.0</td>\n",
       "      <td>6.0</td>\n",
       "      <td>4.0</td>\n",
       "    </tr>\n",
       "    <tr>\n",
       "      <th>0.10</th>\n",
       "      <td>138.0</td>\n",
       "      <td>4.0</td>\n",
       "      <td>2.0</td>\n",
       "    </tr>\n",
       "    <tr>\n",
       "      <th>0.20</th>\n",
       "      <td>160.0</td>\n",
       "      <td>4.0</td>\n",
       "      <td>2.0</td>\n",
       "    </tr>\n",
       "    <tr>\n",
       "      <th>0.30</th>\n",
       "      <td>180.0</td>\n",
       "      <td>4.0</td>\n",
       "      <td>4.0</td>\n",
       "    </tr>\n",
       "    <tr>\n",
       "      <th>0.40</th>\n",
       "      <td>200.0</td>\n",
       "      <td>4.0</td>\n",
       "      <td>4.0</td>\n",
       "    </tr>\n",
       "    <tr>\n",
       "      <th>0.60</th>\n",
       "      <td>261.0</td>\n",
       "      <td>6.0</td>\n",
       "      <td>4.0</td>\n",
       "    </tr>\n",
       "    <tr>\n",
       "      <th>0.70</th>\n",
       "      <td>285.0</td>\n",
       "      <td>6.0</td>\n",
       "      <td>4.0</td>\n",
       "    </tr>\n",
       "    <tr>\n",
       "      <th>0.80</th>\n",
       "      <td>317.0</td>\n",
       "      <td>6.0</td>\n",
       "      <td>4.0</td>\n",
       "    </tr>\n",
       "    <tr>\n",
       "      <th>0.90</th>\n",
       "      <td>385.0</td>\n",
       "      <td>8.0</td>\n",
       "      <td>4.0</td>\n",
       "    </tr>\n",
       "  </tbody>\n",
       "</table>\n",
       "</div>"
      ]
     },
     "execution_count": 5,
     "metadata": {},
     "output_type": "execute_result"
    }
   ],
   "execution_count": 5
  },
  {
   "metadata": {},
   "cell_type": "markdown",
   "source": "# Reto",
   "id": "255dfa689f1ad498"
  },
  {
   "metadata": {},
   "cell_type": "markdown",
   "source": [
    "En Kaggle hay una base de [datos](https://www.kaggle.com/datasets/jessemostipak/hotel-booking-demand) llamada _hotel-booking-demand_ que contiene información sobre reservaciones de hoteles. Realice un análisis descriptivo de esta base de datos. La cual puede ser descargada con el siguiente comando: \n",
    "```shell\n",
    "kaggle datasets download -d jessemostipak/hotel-booking-demand\n",
    "```\n",
    "Debe de instalar la librería `kaggle` y tener una cuenta en Kaggle para poder descargar la base de datos.\n"
   ],
   "id": "b94f647b2e46ac77"
  }
 ],
 "metadata": {
  "kernelspec": {
   "display_name": "Python 3",
   "language": "python",
   "name": "python3"
  },
  "language_info": {
   "codemirror_mode": {
    "name": "ipython",
    "version": 2
   },
   "file_extension": ".py",
   "mimetype": "text/x-python",
   "name": "python",
   "nbconvert_exporter": "python",
   "pygments_lexer": "ipython2",
   "version": "2.7.6"
  }
 },
 "nbformat": 4,
 "nbformat_minor": 5
}
