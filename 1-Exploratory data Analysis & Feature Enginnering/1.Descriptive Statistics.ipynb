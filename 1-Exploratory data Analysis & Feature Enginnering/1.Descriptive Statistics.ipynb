{
 "cells": [
  {
   "metadata": {},
   "cell_type": "markdown",
   "source": "# Estadística descriptiva",
   "id": "9c536491a400ea77"
  },
  {
   "metadata": {},
   "cell_type": "markdown",
   "source": [
    "El análisis exploratorio nos ayuda a entender los datos a través de estadísticos y resúmenes de sus características,generalmente antes de la parte visual. Generalmente, suele ser acompañado de gráficos, aunque en algunos casos, esto suele causar demoras en el análisis. En la estadística descriptiva se conocen tres faces:\n",
    "* Análisis univariado\n",
    "* Análisis bivariado:\n",
    "    - De razon vs ordinal\n",
    "    - De razón vs categórica\n",
    "    - Ordinal vs ordinal etc.\n",
    "* Análisis multivariado (más de tres características):\n",
    "    - Obtener grupos u observaciones parecidas entre sí"
   ],
   "id": "838453ca61816340"
  },
  {
   "metadata": {},
   "cell_type": "markdown",
   "source": [
    "Tipos de variables:\n",
    "\n",
    "    * Cuantitativos: De razon, de intervalo\n",
    "    * Cualitativos: Categórico u ordinal."
   ],
   "id": "e0a2eeca9bc50004"
  },
  {
   "metadata": {},
   "cell_type": "markdown",
   "source": "## Carga de archivos en python",
   "id": "e8910cf3460d66c3"
  },
  {
   "metadata": {},
   "cell_type": "markdown",
   "source": "En python existen algunas dependencias que permiten la carga de archivos en diferentes formatos (csv, txt, xlsx, json, parquet, etc.), algunas de estas se especializan en la carga de grandes volúmenes de datos, generalmente, cuando se abordan los temas teóricos y prácticos de la ciencia de datos, los datasets que se utilizan no suelen ser muy masivos. Por lo que usaremos la famosa librería `pandas` para el tratamiento de la información. Estas librerías (aprovechando la comunidad de python, suelen tener muy buena documentación, por ejemplo, eche un vistazo a la documentación de [`pandas`](https://pandas.pydata.org/docs/getting_started/intro_tutorials/index.html). A continuación, la importamos:",
   "id": "1ea94a0addfb56ca"
  },
  {
   "metadata": {
    "ExecuteTime": {
     "end_time": "2024-03-13T01:12:52.362388Z",
     "start_time": "2024-03-13T01:12:51.922137Z"
    }
   },
   "cell_type": "code",
   "source": [
    "import pandas as pd\n",
    "import numpy as np"
   ],
   "id": "445871dc4b82b2e9",
   "outputs": [],
   "execution_count": 2
  },
  {
   "metadata": {},
   "cell_type": "markdown",
   "source": [
    "Usaremos para introducir los conceptos de estadística descriptiva, el dataset de _cars_, que contiene información de características de 10 mil vehículos y se puede encontrar en [_kaggle_](https://www.kaggle.com/datasets/CooperUnion/cardataset?resource=download). Y cuya metadata adjuntamos:\n",
    "\n",
    "**Context**\n",
    "\n",
    "Cars dataset with features including make, model, year, engine, and other properties of the car used to predict its price.\n",
    "\n",
    "**Content**\n",
    "\n",
    "Scraped from Edmunds and Twitter.\n",
    "\n",
    "**Acknowledgements**\n",
    "\n",
    "Edmunds and Twitter for providing info\n",
    "Sam Keene\n",
    "\n",
    "**Inspiration**\n",
    "\n",
    "Effects of features on the price\n",
    "How does the brand affect the price?\n",
    "What cars can be consider overpriced?\n",
    "Price VS. popularity?"
   ],
   "id": "48e52ad5242d720d"
  },
  {
   "metadata": {
    "ExecuteTime": {
     "end_time": "2024-03-13T01:51:26.807560Z",
     "start_time": "2024-03-13T01:51:26.781234Z"
    }
   },
   "cell_type": "code",
   "source": "cars = pd.read_csv('cars.csv')",
   "id": "56549b837d901484",
   "outputs": [],
   "execution_count": 28
  },
  {
   "metadata": {},
   "cell_type": "markdown",
   "source": "Ahora exploraremos la base de datos cargada.",
   "id": "e40fc3db9c9329fc"
  },
  {
   "metadata": {
    "ExecuteTime": {
     "end_time": "2024-03-13T01:51:28.444886Z",
     "start_time": "2024-03-13T01:51:28.426349Z"
    }
   },
   "cell_type": "code",
   "source": "cars.head()",
   "id": "14c5c6e00c1ebcaa",
   "outputs": [
    {
     "data": {
      "text/plain": [
       "  Make       Model  Year             Engine Fuel Type  Engine HP  \\\n",
       "0  BMW  1 Series M  2011  premium unleaded (required)      335.0   \n",
       "1  BMW    1 Series  2011  premium unleaded (required)      300.0   \n",
       "2  BMW    1 Series  2011  premium unleaded (required)      300.0   \n",
       "3  BMW    1 Series  2011  premium unleaded (required)      230.0   \n",
       "4  BMW    1 Series  2011  premium unleaded (required)      230.0   \n",
       "\n",
       "   Engine Cylinders Transmission Type     Driven_Wheels  Number of Doors  \\\n",
       "0               6.0            MANUAL  rear wheel drive              2.0   \n",
       "1               6.0            MANUAL  rear wheel drive              2.0   \n",
       "2               6.0            MANUAL  rear wheel drive              2.0   \n",
       "3               6.0            MANUAL  rear wheel drive              2.0   \n",
       "4               6.0            MANUAL  rear wheel drive              2.0   \n",
       "\n",
       "                         Market Category Vehicle Size Vehicle Style  \\\n",
       "0  Factory Tuner,Luxury,High-Performance      Compact         Coupe   \n",
       "1                     Luxury,Performance      Compact   Convertible   \n",
       "2                Luxury,High-Performance      Compact         Coupe   \n",
       "3                     Luxury,Performance      Compact         Coupe   \n",
       "4                                 Luxury      Compact   Convertible   \n",
       "\n",
       "   highway MPG  city mpg  Popularity   MSRP  \n",
       "0           26        19        3916  46135  \n",
       "1           28        19        3916  40650  \n",
       "2           28        20        3916  36350  \n",
       "3           28        18        3916  29450  \n",
       "4           28        18        3916  34500  "
      ],
      "text/html": [
       "<div>\n",
       "<style scoped>\n",
       "    .dataframe tbody tr th:only-of-type {\n",
       "        vertical-align: middle;\n",
       "    }\n",
       "\n",
       "    .dataframe tbody tr th {\n",
       "        vertical-align: top;\n",
       "    }\n",
       "\n",
       "    .dataframe thead th {\n",
       "        text-align: right;\n",
       "    }\n",
       "</style>\n",
       "<table border=\"1\" class=\"dataframe\">\n",
       "  <thead>\n",
       "    <tr style=\"text-align: right;\">\n",
       "      <th></th>\n",
       "      <th>Make</th>\n",
       "      <th>Model</th>\n",
       "      <th>Year</th>\n",
       "      <th>Engine Fuel Type</th>\n",
       "      <th>Engine HP</th>\n",
       "      <th>Engine Cylinders</th>\n",
       "      <th>Transmission Type</th>\n",
       "      <th>Driven_Wheels</th>\n",
       "      <th>Number of Doors</th>\n",
       "      <th>Market Category</th>\n",
       "      <th>Vehicle Size</th>\n",
       "      <th>Vehicle Style</th>\n",
       "      <th>highway MPG</th>\n",
       "      <th>city mpg</th>\n",
       "      <th>Popularity</th>\n",
       "      <th>MSRP</th>\n",
       "    </tr>\n",
       "  </thead>\n",
       "  <tbody>\n",
       "    <tr>\n",
       "      <th>0</th>\n",
       "      <td>BMW</td>\n",
       "      <td>1 Series M</td>\n",
       "      <td>2011</td>\n",
       "      <td>premium unleaded (required)</td>\n",
       "      <td>335.0</td>\n",
       "      <td>6.0</td>\n",
       "      <td>MANUAL</td>\n",
       "      <td>rear wheel drive</td>\n",
       "      <td>2.0</td>\n",
       "      <td>Factory Tuner,Luxury,High-Performance</td>\n",
       "      <td>Compact</td>\n",
       "      <td>Coupe</td>\n",
       "      <td>26</td>\n",
       "      <td>19</td>\n",
       "      <td>3916</td>\n",
       "      <td>46135</td>\n",
       "    </tr>\n",
       "    <tr>\n",
       "      <th>1</th>\n",
       "      <td>BMW</td>\n",
       "      <td>1 Series</td>\n",
       "      <td>2011</td>\n",
       "      <td>premium unleaded (required)</td>\n",
       "      <td>300.0</td>\n",
       "      <td>6.0</td>\n",
       "      <td>MANUAL</td>\n",
       "      <td>rear wheel drive</td>\n",
       "      <td>2.0</td>\n",
       "      <td>Luxury,Performance</td>\n",
       "      <td>Compact</td>\n",
       "      <td>Convertible</td>\n",
       "      <td>28</td>\n",
       "      <td>19</td>\n",
       "      <td>3916</td>\n",
       "      <td>40650</td>\n",
       "    </tr>\n",
       "    <tr>\n",
       "      <th>2</th>\n",
       "      <td>BMW</td>\n",
       "      <td>1 Series</td>\n",
       "      <td>2011</td>\n",
       "      <td>premium unleaded (required)</td>\n",
       "      <td>300.0</td>\n",
       "      <td>6.0</td>\n",
       "      <td>MANUAL</td>\n",
       "      <td>rear wheel drive</td>\n",
       "      <td>2.0</td>\n",
       "      <td>Luxury,High-Performance</td>\n",
       "      <td>Compact</td>\n",
       "      <td>Coupe</td>\n",
       "      <td>28</td>\n",
       "      <td>20</td>\n",
       "      <td>3916</td>\n",
       "      <td>36350</td>\n",
       "    </tr>\n",
       "    <tr>\n",
       "      <th>3</th>\n",
       "      <td>BMW</td>\n",
       "      <td>1 Series</td>\n",
       "      <td>2011</td>\n",
       "      <td>premium unleaded (required)</td>\n",
       "      <td>230.0</td>\n",
       "      <td>6.0</td>\n",
       "      <td>MANUAL</td>\n",
       "      <td>rear wheel drive</td>\n",
       "      <td>2.0</td>\n",
       "      <td>Luxury,Performance</td>\n",
       "      <td>Compact</td>\n",
       "      <td>Coupe</td>\n",
       "      <td>28</td>\n",
       "      <td>18</td>\n",
       "      <td>3916</td>\n",
       "      <td>29450</td>\n",
       "    </tr>\n",
       "    <tr>\n",
       "      <th>4</th>\n",
       "      <td>BMW</td>\n",
       "      <td>1 Series</td>\n",
       "      <td>2011</td>\n",
       "      <td>premium unleaded (required)</td>\n",
       "      <td>230.0</td>\n",
       "      <td>6.0</td>\n",
       "      <td>MANUAL</td>\n",
       "      <td>rear wheel drive</td>\n",
       "      <td>2.0</td>\n",
       "      <td>Luxury</td>\n",
       "      <td>Compact</td>\n",
       "      <td>Convertible</td>\n",
       "      <td>28</td>\n",
       "      <td>18</td>\n",
       "      <td>3916</td>\n",
       "      <td>34500</td>\n",
       "    </tr>\n",
       "  </tbody>\n",
       "</table>\n",
       "</div>"
      ]
     },
     "execution_count": 29,
     "metadata": {},
     "output_type": "execute_result"
    }
   ],
   "execution_count": 29
  },
  {
   "metadata": {
    "ExecuteTime": {
     "end_time": "2024-03-13T01:51:30.435455Z",
     "start_time": "2024-03-13T01:51:30.412139Z"
    }
   },
   "cell_type": "code",
   "source": "cars.info()",
   "id": "fecb0fe21f72cba0",
   "outputs": [
    {
     "name": "stdout",
     "output_type": "stream",
     "text": [
      "<class 'pandas.core.frame.DataFrame'>\n",
      "RangeIndex: 11914 entries, 0 to 11913\n",
      "Data columns (total 16 columns):\n",
      " #   Column             Non-Null Count  Dtype  \n",
      "---  ------             --------------  -----  \n",
      " 0   Make               11914 non-null  object \n",
      " 1   Model              11914 non-null  object \n",
      " 2   Year               11914 non-null  int64  \n",
      " 3   Engine Fuel Type   11911 non-null  object \n",
      " 4   Engine HP          11845 non-null  float64\n",
      " 5   Engine Cylinders   11884 non-null  float64\n",
      " 6   Transmission Type  11914 non-null  object \n",
      " 7   Driven_Wheels      11914 non-null  object \n",
      " 8   Number of Doors    11908 non-null  float64\n",
      " 9   Market Category    8172 non-null   object \n",
      " 10  Vehicle Size       11914 non-null  object \n",
      " 11  Vehicle Style      11914 non-null  object \n",
      " 12  highway MPG        11914 non-null  int64  \n",
      " 13  city mpg           11914 non-null  int64  \n",
      " 14  Popularity         11914 non-null  int64  \n",
      " 15  MSRP               11914 non-null  int64  \n",
      "dtypes: float64(3), int64(5), object(8)\n",
      "memory usage: 1.5+ MB\n"
     ]
    }
   ],
   "execution_count": 30
  },
  {
   "metadata": {
    "ExecuteTime": {
     "end_time": "2024-03-13T01:50:41.680833Z",
     "start_time": "2024-03-13T01:50:41.672991Z"
    }
   },
   "cell_type": "code",
   "source": "# cars['Number of Doors'] = cars['Number of Doors'].fillna(0).astype(int)",
   "id": "21469dd08d6280ec",
   "outputs": [],
   "execution_count": 26
  },
  {
   "metadata": {},
   "cell_type": "markdown",
   "source": "## Análisis univariado",
   "id": "db3494c4cbc8fec4"
  },
  {
   "metadata": {},
   "cell_type": "markdown",
   "source": [
    "Para variables cuantitativas:\n",
    "- Medidas de tendencia central\n",
    "- Medidas de posición\n",
    "- Medidas de dispersión\n",
    "- Medidas de forma"
   ],
   "id": "57604816b0f76e7e"
  },
  {
   "metadata": {},
   "cell_type": "markdown",
   "source": "### Medidas de tendencia central",
   "id": "62eec447e9313ba5"
  },
  {
   "metadata": {},
   "cell_type": "markdown",
   "source": "Entre las medidas de tendencia central se encuentra la media, mediana y moda, y algunas variantes de las mismas: media recortada, media ponderada. Calculemos estas funciones para los datos numéricos.",
   "id": "61a4cf22347a5891"
  },
  {
   "metadata": {
    "ExecuteTime": {
     "end_time": "2024-03-13T02:10:11.052170Z",
     "start_time": "2024-03-13T02:10:11.048301Z"
    }
   },
   "cell_type": "code",
   "source": [
    "def get_numeric_all(data):\n",
    "    return [x for x in data.columns if pd.Series(data.dtypes[x]).isin([np.float64, np.int64]).all()]"
   ],
   "id": "d44dc2c4b6eb0b04",
   "outputs": [],
   "execution_count": 54
  },
  {
   "metadata": {
    "ExecuteTime": {
     "end_time": "2024-03-13T02:11:49.515641Z",
     "start_time": "2024-03-13T02:11:49.511658Z"
    }
   },
   "cell_type": "code",
   "source": [
    "def get_numeric(data):\n",
    "    return [x for x in data.columns if data[x].dtype == np.float64]"
   ],
   "id": "f8c7ab910c33eee3",
   "outputs": [],
   "execution_count": 58
  },
  {
   "metadata": {
    "ExecuteTime": {
     "end_time": "2024-03-13T02:14:13.936412Z",
     "start_time": "2024-03-13T02:14:13.933131Z"
    }
   },
   "cell_type": "code",
   "source": [
    "def get_numeric_2(data):\n",
    "    numericas = list()\n",
    "    for col in data.columns:\n",
    "        if data.dtypes[col] == np.float64:\n",
    "            numericas.append(col)\n",
    "    return numericas"
   ],
   "id": "7032377b4696f5e6",
   "outputs": [],
   "execution_count": 63
  },
  {
   "metadata": {
    "ExecuteTime": {
     "end_time": "2024-03-13T02:14:33.492027Z",
     "start_time": "2024-03-13T02:14:33.487750Z"
    }
   },
   "cell_type": "code",
   "source": "get_numeric(cars)",
   "id": "1e9d429412da4ce2",
   "outputs": [
    {
     "data": {
      "text/plain": [
       "['Engine HP', 'Engine Cylinders', 'Number of Doors']"
      ]
     },
     "execution_count": 65,
     "metadata": {},
     "output_type": "execute_result"
    }
   ],
   "execution_count": 65
  },
  {
   "metadata": {
    "ExecuteTime": {
     "end_time": "2024-03-13T02:38:25.239605Z",
     "start_time": "2024-03-13T02:38:25.235773Z"
    }
   },
   "cell_type": "code",
   "source": [
    "from collections import Counter\n",
    "def my_mode(sample):\n",
    "    c = Counter(sample)\n",
    "    return [k for k, v in c.items() if v == c.most_common(1)[0][1]][0]"
   ],
   "id": "a3edacda5b03e6c1",
   "outputs": [],
   "execution_count": 117
  },
  {
   "metadata": {
    "ExecuteTime": {
     "end_time": "2024-03-13T02:39:15.260220Z",
     "start_time": "2024-03-13T02:39:15.255117Z"
    }
   },
   "cell_type": "code",
   "source": "a, b = (2, 3)",
   "id": "f9fcea6992ce9b23",
   "outputs": [],
   "execution_count": 121
  },
  {
   "metadata": {
    "ExecuteTime": {
     "end_time": "2024-03-13T02:48:03.523656Z",
     "start_time": "2024-03-13T02:48:03.518837Z"
    }
   },
   "cell_type": "code",
   "source": [
    "# Counter(cars['Engine HP']).most_common(1)\n",
    "# Counter(cars['Engine HP']).items()"
   ],
   "id": "82971c313ce617d7",
   "outputs": [],
   "execution_count": 139
  },
  {
   "metadata": {
    "ExecuteTime": {
     "end_time": "2024-03-13T02:38:28.509083Z",
     "start_time": "2024-03-13T02:38:28.505819Z"
    }
   },
   "cell_type": "code",
   "source": [
    "def compute_mtc(data):\n",
    "    numeric_cols = get_numeric(data)\n",
    "    data_mtc = data.copy()[numeric_cols].aggregate({\"mean\", \"median\", my_mode})\n",
    "    return data_mtc"
   ],
   "id": "3f06b30ceb5ea66d",
   "outputs": [],
   "execution_count": 119
  },
  {
   "metadata": {
    "ExecuteTime": {
     "end_time": "2024-03-13T02:38:28.785611Z",
     "start_time": "2024-03-13T02:38:28.751376Z"
    }
   },
   "cell_type": "code",
   "source": "compute_mtc(cars)",
   "id": "389b0670bd0eb25d",
   "outputs": [
    {
     "data": {
      "text/plain": [
       "         Engine HP  Engine Cylinders  Number of Doors\n",
       "my_mode  200.00000          4.000000         4.000000\n",
       "median   227.00000          6.000000         4.000000\n",
       "mean     249.38607          5.628829         3.436093"
      ],
      "text/html": [
       "<div>\n",
       "<style scoped>\n",
       "    .dataframe tbody tr th:only-of-type {\n",
       "        vertical-align: middle;\n",
       "    }\n",
       "\n",
       "    .dataframe tbody tr th {\n",
       "        vertical-align: top;\n",
       "    }\n",
       "\n",
       "    .dataframe thead th {\n",
       "        text-align: right;\n",
       "    }\n",
       "</style>\n",
       "<table border=\"1\" class=\"dataframe\">\n",
       "  <thead>\n",
       "    <tr style=\"text-align: right;\">\n",
       "      <th></th>\n",
       "      <th>Engine HP</th>\n",
       "      <th>Engine Cylinders</th>\n",
       "      <th>Number of Doors</th>\n",
       "    </tr>\n",
       "  </thead>\n",
       "  <tbody>\n",
       "    <tr>\n",
       "      <th>my_mode</th>\n",
       "      <td>200.00000</td>\n",
       "      <td>4.000000</td>\n",
       "      <td>4.000000</td>\n",
       "    </tr>\n",
       "    <tr>\n",
       "      <th>median</th>\n",
       "      <td>227.00000</td>\n",
       "      <td>6.000000</td>\n",
       "      <td>4.000000</td>\n",
       "    </tr>\n",
       "    <tr>\n",
       "      <th>mean</th>\n",
       "      <td>249.38607</td>\n",
       "      <td>5.628829</td>\n",
       "      <td>3.436093</td>\n",
       "    </tr>\n",
       "  </tbody>\n",
       "</table>\n",
       "</div>"
      ]
     },
     "execution_count": 120,
     "metadata": {},
     "output_type": "execute_result"
    }
   ],
   "execution_count": 120
  },
  {
   "metadata": {
    "ExecuteTime": {
     "end_time": "2024-03-13T02:28:38.540088Z",
     "start_time": "2024-03-13T02:28:38.486533Z"
    }
   },
   "cell_type": "code",
   "source": [
    "numeric_cols = get_numeric(cars)\n",
    "data_mtc = cars.copy()[numeric_cols].aggregate({'Engine HP':[\"mean\", \"median\", my_mode], })\n",
    "data_mtc"
   ],
   "id": "ce302705ee972f9c",
   "outputs": [
    {
     "data": {
      "text/plain": [
       "         Engine HP\n",
       "mean     249.38607\n",
       "median   227.00000\n",
       "my_mode  200.00000"
      ],
      "text/html": [
       "<div>\n",
       "<style scoped>\n",
       "    .dataframe tbody tr th:only-of-type {\n",
       "        vertical-align: middle;\n",
       "    }\n",
       "\n",
       "    .dataframe tbody tr th {\n",
       "        vertical-align: top;\n",
       "    }\n",
       "\n",
       "    .dataframe thead th {\n",
       "        text-align: right;\n",
       "    }\n",
       "</style>\n",
       "<table border=\"1\" class=\"dataframe\">\n",
       "  <thead>\n",
       "    <tr style=\"text-align: right;\">\n",
       "      <th></th>\n",
       "      <th>Engine HP</th>\n",
       "    </tr>\n",
       "  </thead>\n",
       "  <tbody>\n",
       "    <tr>\n",
       "      <th>mean</th>\n",
       "      <td>249.38607</td>\n",
       "    </tr>\n",
       "    <tr>\n",
       "      <th>median</th>\n",
       "      <td>227.00000</td>\n",
       "    </tr>\n",
       "    <tr>\n",
       "      <th>my_mode</th>\n",
       "      <td>200.00000</td>\n",
       "    </tr>\n",
       "  </tbody>\n",
       "</table>\n",
       "</div>"
      ]
     },
     "execution_count": 103,
     "metadata": {},
     "output_type": "execute_result"
    }
   ],
   "execution_count": 103
  },
  {
   "metadata": {},
   "cell_type": "markdown",
   "source": "Las medidas de tendencia central nos brindan información sobre cómo se distribuyen los datos, los posibles sesgos que tienen.",
   "id": "aaffb8c8972eea0d"
  },
  {
   "metadata": {},
   "cell_type": "markdown",
   "source": "### Medidas de dispersión",
   "id": "9f8c49fd2b362374"
  },
  {
   "metadata": {},
   "cell_type": "markdown",
   "source": "Las medidas de dispersión nos hablan de qué tan dispersos son las distribuciones, si es confiable representarlas con un parámetro o no.",
   "id": "c04045480ea21bdf"
  },
  {
   "metadata": {
    "ExecuteTime": {
     "end_time": "2024-03-12T23:29:43.545246Z",
     "start_time": "2024-03-12T23:29:43.538694Z"
    }
   },
   "cell_type": "code",
   "source": [
    "def range_of_list(sample):\n",
    "    rango = np.max(sample.dropna().values) - np.min(sample.dropna().values)\n",
    "    return rango\n",
    "\n",
    "def iqr(sample):\n",
    "    q3, q1 = np.percentile(sample.dropna().values, [75 ,25])\n",
    "    inqr = q3 - q1\n",
    "    return inqr\n",
    "\n",
    "def cve(sample):\n",
    "    cve =  np.round(sample.std()/sample.mean(),3)\n",
    "    return cve*100\n"
   ],
   "id": "e90298de64571760",
   "outputs": [],
   "execution_count": 70
  },
  {
   "metadata": {
    "ExecuteTime": {
     "end_time": "2024-03-12T23:29:47.249871Z",
     "start_time": "2024-03-12T23:29:47.245763Z"
    }
   },
   "cell_type": "code",
   "source": [
    "def compute_mdd(data):\n",
    "    numeric_cols = get_numeric(data)\n",
    "    data_mdd = data.copy()[numeric_cols].aggregate({\"std\", \"var\", range_of_list, iqr, cve})\n",
    "    return data_mdd"
   ],
   "id": "b04a9560f2e2cfa",
   "outputs": [],
   "execution_count": 71
  },
  {
   "metadata": {
    "ExecuteTime": {
     "end_time": "2024-03-12T23:29:48.675764Z",
     "start_time": "2024-03-12T23:29:48.652057Z"
    }
   },
   "cell_type": "code",
   "source": "compute_mdd(cars)",
   "id": "848cd383de5bd9c5",
   "outputs": [
    {
     "data": {
      "text/plain": [
       "                  Engine HP  Engine Cylinders  Number of Doors\n",
       "var            11922.864531          3.170392         0.776717\n",
       "iqr              130.000000          2.000000         2.000000\n",
       "std              109.191870          1.780559         0.881315\n",
       "cve               43.800000         31.600000        25.600000\n",
       "range_of_list    946.000000         16.000000         2.000000"
      ],
      "text/html": [
       "<div>\n",
       "<style scoped>\n",
       "    .dataframe tbody tr th:only-of-type {\n",
       "        vertical-align: middle;\n",
       "    }\n",
       "\n",
       "    .dataframe tbody tr th {\n",
       "        vertical-align: top;\n",
       "    }\n",
       "\n",
       "    .dataframe thead th {\n",
       "        text-align: right;\n",
       "    }\n",
       "</style>\n",
       "<table border=\"1\" class=\"dataframe\">\n",
       "  <thead>\n",
       "    <tr style=\"text-align: right;\">\n",
       "      <th></th>\n",
       "      <th>Engine HP</th>\n",
       "      <th>Engine Cylinders</th>\n",
       "      <th>Number of Doors</th>\n",
       "    </tr>\n",
       "  </thead>\n",
       "  <tbody>\n",
       "    <tr>\n",
       "      <th>var</th>\n",
       "      <td>11922.864531</td>\n",
       "      <td>3.170392</td>\n",
       "      <td>0.776717</td>\n",
       "    </tr>\n",
       "    <tr>\n",
       "      <th>iqr</th>\n",
       "      <td>130.000000</td>\n",
       "      <td>2.000000</td>\n",
       "      <td>2.000000</td>\n",
       "    </tr>\n",
       "    <tr>\n",
       "      <th>std</th>\n",
       "      <td>109.191870</td>\n",
       "      <td>1.780559</td>\n",
       "      <td>0.881315</td>\n",
       "    </tr>\n",
       "    <tr>\n",
       "      <th>cve</th>\n",
       "      <td>43.800000</td>\n",
       "      <td>31.600000</td>\n",
       "      <td>25.600000</td>\n",
       "    </tr>\n",
       "    <tr>\n",
       "      <th>range_of_list</th>\n",
       "      <td>946.000000</td>\n",
       "      <td>16.000000</td>\n",
       "      <td>2.000000</td>\n",
       "    </tr>\n",
       "  </tbody>\n",
       "</table>\n",
       "</div>"
      ]
     },
     "execution_count": 72,
     "metadata": {},
     "output_type": "execute_result"
    }
   ],
   "execution_count": 72
  },
  {
   "metadata": {},
   "cell_type": "code",
   "outputs": [],
   "execution_count": null,
   "source": "",
   "id": "6b2a4d7851499a1"
  }
 ],
 "metadata": {
  "kernelspec": {
   "display_name": "Python 3",
   "language": "python",
   "name": "python3"
  },
  "language_info": {
   "codemirror_mode": {
    "name": "ipython",
    "version": 2
   },
   "file_extension": ".py",
   "mimetype": "text/x-python",
   "name": "python",
   "nbconvert_exporter": "python",
   "pygments_lexer": "ipython2",
   "version": "2.7.6"
  }
 },
 "nbformat": 4,
 "nbformat_minor": 5
}
