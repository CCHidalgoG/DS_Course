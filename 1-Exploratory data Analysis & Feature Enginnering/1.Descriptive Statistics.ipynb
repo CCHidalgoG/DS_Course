{
 "cells": [
  {
   "metadata": {},
   "cell_type": "markdown",
   "source": "# Estadística descriptiva",
   "id": "9c536491a400ea77"
  },
  {
   "metadata": {},
   "cell_type": "markdown",
   "source": [
    "El análisis exploratorio nos ayuda a entender los datos a través de estadísticos y resúmenes de sus características,generalmente antes de la parte visual. Generalmente, suele ser acompañado de gráficos, aunque en algunos casos, esto suele causar demoras en el análisis. En la estadística descriptiva se conocen tres faces:\n",
    "* Análisis univariado\n",
    "* Análisis bivariado\n",
    "* Análisis multivariado (más de tres características)"
   ],
   "id": "838453ca61816340"
  },
  {
   "metadata": {},
   "cell_type": "markdown",
   "source": "## Carga de archivos en python",
   "id": "e8910cf3460d66c3"
  },
  {
   "metadata": {},
   "cell_type": "markdown",
   "source": "En python existen algunas dependencias que permiten la carga de archivos en diferentes formatos (csv, txt, xlsx, json, parquet, etc.), algunas de estas se especializan en la carga de grandes volúmenes de datos, generalmente, cuando se abordan los temas teóricos y prácticos de la ciencia de datos, los datasets que se utilizan no suelen ser muy masivos. Por lo que usaremos la famosa librería `pandas` para el tratamiento de la información. Estas librerías (aprovechando la comunidad de python, suelen tener muy buena documentación, por ejemplo, eche un vistazo a la documentación de [`pandas`](https://pandas.pydata.org/docs/getting_started/intro_tutorials/index.html). A continuación, la importamos:",
   "id": "1ea94a0addfb56ca"
  },
  {
   "metadata": {
    "ExecuteTime": {
     "end_time": "2024-03-12T22:22:59.802270Z",
     "start_time": "2024-03-12T22:22:59.799149Z"
    }
   },
   "cell_type": "code",
   "source": [
    "import pandas as pd\n",
    "import numpy as np"
   ],
   "id": "445871dc4b82b2e9",
   "outputs": [],
   "execution_count": 8
  },
  {
   "metadata": {},
   "cell_type": "markdown",
   "source": [
    "Usaremos para introducir los conceptos de estadística descriptiva, el dataset de _cars_, que contiene información de características de 10 mil vehículos y se puede encontrar en [_kaggle_](https://www.kaggle.com/datasets/CooperUnion/cardataset?resource=download). Y cuya metadata adjuntamos:\n",
    "\n",
    "**Context**\n",
    "\n",
    "Cars dataset with features including make, model, year, engine, and other properties of the car used to predict its price.\n",
    "\n",
    "**Content**\n",
    "\n",
    "Scraped from Edmunds and Twitter.\n",
    "\n",
    "**Acknowledgements**\n",
    "\n",
    "Edmunds and Twitter for providing info\n",
    "Sam Keene\n",
    "\n",
    "**Inspiration**\n",
    "\n",
    "Effects of features on the price\n",
    "How does the brand affect the price?\n",
    "What cars can be consider overpriced?\n",
    "Price VS. popularity?"
   ],
   "id": "48e52ad5242d720d"
  },
  {
   "metadata": {
    "ExecuteTime": {
     "end_time": "2024-03-12T20:44:21.600733Z",
     "start_time": "2024-03-12T20:44:21.556417Z"
    }
   },
   "cell_type": "code",
   "source": "cars = pd.read_csv('cars.csv')",
   "id": "56549b837d901484",
   "outputs": [],
   "execution_count": 3
  },
  {
   "metadata": {},
   "cell_type": "markdown",
   "source": "Ahora exploraremos la base de datos cargada.",
   "id": "e40fc3db9c9329fc"
  },
  {
   "metadata": {
    "ExecuteTime": {
     "end_time": "2024-03-12T20:44:46.929777Z",
     "start_time": "2024-03-12T20:44:46.896363Z"
    }
   },
   "cell_type": "code",
   "source": "cars.head()",
   "id": "14c5c6e00c1ebcaa",
   "outputs": [
    {
     "data": {
      "text/plain": [
       "  Make       Model  Year             Engine Fuel Type  Engine HP  \\\n",
       "0  BMW  1 Series M  2011  premium unleaded (required)      335.0   \n",
       "1  BMW    1 Series  2011  premium unleaded (required)      300.0   \n",
       "2  BMW    1 Series  2011  premium unleaded (required)      300.0   \n",
       "3  BMW    1 Series  2011  premium unleaded (required)      230.0   \n",
       "4  BMW    1 Series  2011  premium unleaded (required)      230.0   \n",
       "\n",
       "   Engine Cylinders Transmission Type     Driven_Wheels  Number of Doors  \\\n",
       "0               6.0            MANUAL  rear wheel drive              2.0   \n",
       "1               6.0            MANUAL  rear wheel drive              2.0   \n",
       "2               6.0            MANUAL  rear wheel drive              2.0   \n",
       "3               6.0            MANUAL  rear wheel drive              2.0   \n",
       "4               6.0            MANUAL  rear wheel drive              2.0   \n",
       "\n",
       "                         Market Category Vehicle Size Vehicle Style  \\\n",
       "0  Factory Tuner,Luxury,High-Performance      Compact         Coupe   \n",
       "1                     Luxury,Performance      Compact   Convertible   \n",
       "2                Luxury,High-Performance      Compact         Coupe   \n",
       "3                     Luxury,Performance      Compact         Coupe   \n",
       "4                                 Luxury      Compact   Convertible   \n",
       "\n",
       "   highway MPG  city mpg  Popularity   MSRP  \n",
       "0           26        19        3916  46135  \n",
       "1           28        19        3916  40650  \n",
       "2           28        20        3916  36350  \n",
       "3           28        18        3916  29450  \n",
       "4           28        18        3916  34500  "
      ],
      "text/html": [
       "<div>\n",
       "<style scoped>\n",
       "    .dataframe tbody tr th:only-of-type {\n",
       "        vertical-align: middle;\n",
       "    }\n",
       "\n",
       "    .dataframe tbody tr th {\n",
       "        vertical-align: top;\n",
       "    }\n",
       "\n",
       "    .dataframe thead th {\n",
       "        text-align: right;\n",
       "    }\n",
       "</style>\n",
       "<table border=\"1\" class=\"dataframe\">\n",
       "  <thead>\n",
       "    <tr style=\"text-align: right;\">\n",
       "      <th></th>\n",
       "      <th>Make</th>\n",
       "      <th>Model</th>\n",
       "      <th>Year</th>\n",
       "      <th>Engine Fuel Type</th>\n",
       "      <th>Engine HP</th>\n",
       "      <th>Engine Cylinders</th>\n",
       "      <th>Transmission Type</th>\n",
       "      <th>Driven_Wheels</th>\n",
       "      <th>Number of Doors</th>\n",
       "      <th>Market Category</th>\n",
       "      <th>Vehicle Size</th>\n",
       "      <th>Vehicle Style</th>\n",
       "      <th>highway MPG</th>\n",
       "      <th>city mpg</th>\n",
       "      <th>Popularity</th>\n",
       "      <th>MSRP</th>\n",
       "    </tr>\n",
       "  </thead>\n",
       "  <tbody>\n",
       "    <tr>\n",
       "      <th>0</th>\n",
       "      <td>BMW</td>\n",
       "      <td>1 Series M</td>\n",
       "      <td>2011</td>\n",
       "      <td>premium unleaded (required)</td>\n",
       "      <td>335.0</td>\n",
       "      <td>6.0</td>\n",
       "      <td>MANUAL</td>\n",
       "      <td>rear wheel drive</td>\n",
       "      <td>2.0</td>\n",
       "      <td>Factory Tuner,Luxury,High-Performance</td>\n",
       "      <td>Compact</td>\n",
       "      <td>Coupe</td>\n",
       "      <td>26</td>\n",
       "      <td>19</td>\n",
       "      <td>3916</td>\n",
       "      <td>46135</td>\n",
       "    </tr>\n",
       "    <tr>\n",
       "      <th>1</th>\n",
       "      <td>BMW</td>\n",
       "      <td>1 Series</td>\n",
       "      <td>2011</td>\n",
       "      <td>premium unleaded (required)</td>\n",
       "      <td>300.0</td>\n",
       "      <td>6.0</td>\n",
       "      <td>MANUAL</td>\n",
       "      <td>rear wheel drive</td>\n",
       "      <td>2.0</td>\n",
       "      <td>Luxury,Performance</td>\n",
       "      <td>Compact</td>\n",
       "      <td>Convertible</td>\n",
       "      <td>28</td>\n",
       "      <td>19</td>\n",
       "      <td>3916</td>\n",
       "      <td>40650</td>\n",
       "    </tr>\n",
       "    <tr>\n",
       "      <th>2</th>\n",
       "      <td>BMW</td>\n",
       "      <td>1 Series</td>\n",
       "      <td>2011</td>\n",
       "      <td>premium unleaded (required)</td>\n",
       "      <td>300.0</td>\n",
       "      <td>6.0</td>\n",
       "      <td>MANUAL</td>\n",
       "      <td>rear wheel drive</td>\n",
       "      <td>2.0</td>\n",
       "      <td>Luxury,High-Performance</td>\n",
       "      <td>Compact</td>\n",
       "      <td>Coupe</td>\n",
       "      <td>28</td>\n",
       "      <td>20</td>\n",
       "      <td>3916</td>\n",
       "      <td>36350</td>\n",
       "    </tr>\n",
       "    <tr>\n",
       "      <th>3</th>\n",
       "      <td>BMW</td>\n",
       "      <td>1 Series</td>\n",
       "      <td>2011</td>\n",
       "      <td>premium unleaded (required)</td>\n",
       "      <td>230.0</td>\n",
       "      <td>6.0</td>\n",
       "      <td>MANUAL</td>\n",
       "      <td>rear wheel drive</td>\n",
       "      <td>2.0</td>\n",
       "      <td>Luxury,Performance</td>\n",
       "      <td>Compact</td>\n",
       "      <td>Coupe</td>\n",
       "      <td>28</td>\n",
       "      <td>18</td>\n",
       "      <td>3916</td>\n",
       "      <td>29450</td>\n",
       "    </tr>\n",
       "    <tr>\n",
       "      <th>4</th>\n",
       "      <td>BMW</td>\n",
       "      <td>1 Series</td>\n",
       "      <td>2011</td>\n",
       "      <td>premium unleaded (required)</td>\n",
       "      <td>230.0</td>\n",
       "      <td>6.0</td>\n",
       "      <td>MANUAL</td>\n",
       "      <td>rear wheel drive</td>\n",
       "      <td>2.0</td>\n",
       "      <td>Luxury</td>\n",
       "      <td>Compact</td>\n",
       "      <td>Convertible</td>\n",
       "      <td>28</td>\n",
       "      <td>18</td>\n",
       "      <td>3916</td>\n",
       "      <td>34500</td>\n",
       "    </tr>\n",
       "  </tbody>\n",
       "</table>\n",
       "</div>"
      ]
     },
     "execution_count": 4,
     "metadata": {},
     "output_type": "execute_result"
    }
   ],
   "execution_count": 4
  },
  {
   "metadata": {
    "ExecuteTime": {
     "end_time": "2024-03-12T22:18:27.648281Z",
     "start_time": "2024-03-12T22:18:27.640968Z"
    }
   },
   "cell_type": "code",
   "source": "cars.dtypes",
   "id": "fecb0fe21f72cba0",
   "outputs": [
    {
     "data": {
      "text/plain": [
       "Make                  object\n",
       "Model                 object\n",
       "Year                   int64\n",
       "Engine Fuel Type      object\n",
       "Engine HP            float64\n",
       "Engine Cylinders     float64\n",
       "Transmission Type     object\n",
       "Driven_Wheels         object\n",
       "Number of Doors      float64\n",
       "Market Category       object\n",
       "Vehicle Size          object\n",
       "Vehicle Style         object\n",
       "highway MPG            int64\n",
       "city mpg               int64\n",
       "Popularity             int64\n",
       "MSRP                   int64\n",
       "dtype: object"
      ]
     },
     "execution_count": 5,
     "metadata": {},
     "output_type": "execute_result"
    }
   ],
   "execution_count": 5
  },
  {
   "metadata": {},
   "cell_type": "markdown",
   "source": "## Análisis univariado",
   "id": "db3494c4cbc8fec4"
  },
  {
   "metadata": {},
   "cell_type": "markdown",
   "source": [
    "Para variables cuantitativas:\n",
    "- Medidas de tendencia central\n",
    "- Medidas de posición\n",
    "- Medidas de dispersión\n",
    "- Medidas de forma"
   ],
   "id": "57604816b0f76e7e"
  },
  {
   "metadata": {},
   "cell_type": "markdown",
   "source": "### Medidas de tendencia central",
   "id": "62eec447e9313ba5"
  },
  {
   "metadata": {},
   "cell_type": "markdown",
   "source": "Entre las medidas de tendencia central se encuentra la media, mediana y moda, y algunas variantes de las mismas: media recortada, media ponderada. Calculemos estas funciones para los datos numéricos.",
   "id": "61a4cf22347a5891"
  },
  {
   "metadata": {
    "ExecuteTime": {
     "end_time": "2024-03-12T22:47:19.456731Z",
     "start_time": "2024-03-12T22:47:19.448822Z"
    }
   },
   "cell_type": "code",
   "source": [
    "def get_numeric(data):\n",
    "    return [x for x in data.columns if data.dtypes[x] == np.float64]"
   ],
   "id": "91b3c8aad66ed2b7",
   "outputs": [],
   "execution_count": 33
  },
  {
   "metadata": {
    "ExecuteTime": {
     "end_time": "2024-03-12T22:29:02.300796Z",
     "start_time": "2024-03-12T22:29:02.289154Z"
    }
   },
   "cell_type": "code",
   "source": [
    "from collections import Counter\n",
    "def my_mode(sample):\n",
    "    c = Counter(sample)\n",
    "    return [k for k, v in c.items() if v == c.most_common(1)[0][1]][0]"
   ],
   "id": "a3edacda5b03e6c1",
   "outputs": [],
   "execution_count": 18
  },
  {
   "metadata": {
    "ExecuteTime": {
     "end_time": "2024-03-12T22:29:42.573173Z",
     "start_time": "2024-03-12T22:29:42.569439Z"
    }
   },
   "cell_type": "code",
   "source": [
    "def compute_mtc(data):\n",
    "    numeric_cols = get_numeric(data)\n",
    "    data_mtc = data.copy()[numeric_cols].aggregate({\"mean\", \"median\", my_mode})\n",
    "    return data_mtc"
   ],
   "id": "3f06b30ceb5ea66d",
   "outputs": [],
   "execution_count": 21
  },
  {
   "metadata": {
    "ExecuteTime": {
     "end_time": "2024-03-12T22:29:43.277924Z",
     "start_time": "2024-03-12T22:29:43.249186Z"
    }
   },
   "cell_type": "code",
   "source": "compute_mtc(cars)",
   "id": "ce302705ee972f9c",
   "outputs": [
    {
     "data": {
      "text/plain": [
       "         Engine HP  Engine Cylinders  Number of Doors\n",
       "my_mode  200.00000          4.000000         4.000000\n",
       "mean     249.38607          5.628829         3.436093\n",
       "median   227.00000          6.000000         4.000000"
      ],
      "text/html": [
       "<div>\n",
       "<style scoped>\n",
       "    .dataframe tbody tr th:only-of-type {\n",
       "        vertical-align: middle;\n",
       "    }\n",
       "\n",
       "    .dataframe tbody tr th {\n",
       "        vertical-align: top;\n",
       "    }\n",
       "\n",
       "    .dataframe thead th {\n",
       "        text-align: right;\n",
       "    }\n",
       "</style>\n",
       "<table border=\"1\" class=\"dataframe\">\n",
       "  <thead>\n",
       "    <tr style=\"text-align: right;\">\n",
       "      <th></th>\n",
       "      <th>Engine HP</th>\n",
       "      <th>Engine Cylinders</th>\n",
       "      <th>Number of Doors</th>\n",
       "    </tr>\n",
       "  </thead>\n",
       "  <tbody>\n",
       "    <tr>\n",
       "      <th>my_mode</th>\n",
       "      <td>200.00000</td>\n",
       "      <td>4.000000</td>\n",
       "      <td>4.000000</td>\n",
       "    </tr>\n",
       "    <tr>\n",
       "      <th>mean</th>\n",
       "      <td>249.38607</td>\n",
       "      <td>5.628829</td>\n",
       "      <td>3.436093</td>\n",
       "    </tr>\n",
       "    <tr>\n",
       "      <th>median</th>\n",
       "      <td>227.00000</td>\n",
       "      <td>6.000000</td>\n",
       "      <td>4.000000</td>\n",
       "    </tr>\n",
       "  </tbody>\n",
       "</table>\n",
       "</div>"
      ]
     },
     "execution_count": 22,
     "metadata": {},
     "output_type": "execute_result"
    }
   ],
   "execution_count": 22
  },
  {
   "metadata": {},
   "cell_type": "markdown",
   "source": "Las medidas de tendencia central nos brindan información sobre cómo se distribuyen los datos, los posibles sesgos que tienen.",
   "id": "aaffb8c8972eea0d"
  },
  {
   "metadata": {},
   "cell_type": "markdown",
   "source": "### Medidas de dispersión",
   "id": "9f8c49fd2b362374"
  },
  {
   "metadata": {},
   "cell_type": "markdown",
   "source": "Las medidas de dispersión nos hablan de qué tan dispersos son las distribuciones, si es confiable representarlas con un parámetro o no.",
   "id": "c04045480ea21bdf"
  },
  {
   "metadata": {
    "ExecuteTime": {
     "end_time": "2024-03-12T23:29:43.545246Z",
     "start_time": "2024-03-12T23:29:43.538694Z"
    }
   },
   "cell_type": "code",
   "source": [
    "def range_of_list(sample):\n",
    "    rango = np.max(sample.dropna().values) - np.min(sample.dropna().values)\n",
    "    return rango\n",
    "\n",
    "def iqr(sample):\n",
    "    q3, q1 = np.percentile(sample.dropna().values, [75 ,25])\n",
    "    inqr = q3 - q1\n",
    "    return inqr\n",
    "\n",
    "def cve(sample):\n",
    "    cve =  np.round(sample.std()/sample.mean(),3)\n",
    "    return cve*100\n"
   ],
   "id": "e90298de64571760",
   "outputs": [],
   "execution_count": 70
  },
  {
   "metadata": {
    "ExecuteTime": {
     "end_time": "2024-03-12T23:29:47.249871Z",
     "start_time": "2024-03-12T23:29:47.245763Z"
    }
   },
   "cell_type": "code",
   "source": [
    "def compute_mdd(data):\n",
    "    numeric_cols = get_numeric(data)\n",
    "    data_mdd = data.copy()[numeric_cols].aggregate({\"std\", \"var\", range_of_list, iqr, cve})\n",
    "    return data_mdd"
   ],
   "id": "b04a9560f2e2cfa",
   "outputs": [],
   "execution_count": 71
  },
  {
   "metadata": {
    "ExecuteTime": {
     "end_time": "2024-03-12T23:29:48.675764Z",
     "start_time": "2024-03-12T23:29:48.652057Z"
    }
   },
   "cell_type": "code",
   "source": "compute_mdd(cars)",
   "id": "848cd383de5bd9c5",
   "outputs": [
    {
     "data": {
      "text/plain": [
       "                  Engine HP  Engine Cylinders  Number of Doors\n",
       "var            11922.864531          3.170392         0.776717\n",
       "iqr              130.000000          2.000000         2.000000\n",
       "std              109.191870          1.780559         0.881315\n",
       "cve               43.800000         31.600000        25.600000\n",
       "range_of_list    946.000000         16.000000         2.000000"
      ],
      "text/html": [
       "<div>\n",
       "<style scoped>\n",
       "    .dataframe tbody tr th:only-of-type {\n",
       "        vertical-align: middle;\n",
       "    }\n",
       "\n",
       "    .dataframe tbody tr th {\n",
       "        vertical-align: top;\n",
       "    }\n",
       "\n",
       "    .dataframe thead th {\n",
       "        text-align: right;\n",
       "    }\n",
       "</style>\n",
       "<table border=\"1\" class=\"dataframe\">\n",
       "  <thead>\n",
       "    <tr style=\"text-align: right;\">\n",
       "      <th></th>\n",
       "      <th>Engine HP</th>\n",
       "      <th>Engine Cylinders</th>\n",
       "      <th>Number of Doors</th>\n",
       "    </tr>\n",
       "  </thead>\n",
       "  <tbody>\n",
       "    <tr>\n",
       "      <th>var</th>\n",
       "      <td>11922.864531</td>\n",
       "      <td>3.170392</td>\n",
       "      <td>0.776717</td>\n",
       "    </tr>\n",
       "    <tr>\n",
       "      <th>iqr</th>\n",
       "      <td>130.000000</td>\n",
       "      <td>2.000000</td>\n",
       "      <td>2.000000</td>\n",
       "    </tr>\n",
       "    <tr>\n",
       "      <th>std</th>\n",
       "      <td>109.191870</td>\n",
       "      <td>1.780559</td>\n",
       "      <td>0.881315</td>\n",
       "    </tr>\n",
       "    <tr>\n",
       "      <th>cve</th>\n",
       "      <td>43.800000</td>\n",
       "      <td>31.600000</td>\n",
       "      <td>25.600000</td>\n",
       "    </tr>\n",
       "    <tr>\n",
       "      <th>range_of_list</th>\n",
       "      <td>946.000000</td>\n",
       "      <td>16.000000</td>\n",
       "      <td>2.000000</td>\n",
       "    </tr>\n",
       "  </tbody>\n",
       "</table>\n",
       "</div>"
      ]
     },
     "execution_count": 72,
     "metadata": {},
     "output_type": "execute_result"
    }
   ],
   "execution_count": 72
  },
  {
   "metadata": {},
   "cell_type": "code",
   "outputs": [],
   "execution_count": null,
   "source": "",
   "id": "6b2a4d7851499a1"
  }
 ],
 "metadata": {
  "kernelspec": {
   "display_name": "Python 3",
   "language": "python",
   "name": "python3"
  },
  "language_info": {
   "codemirror_mode": {
    "name": "ipython",
    "version": 2
   },
   "file_extension": ".py",
   "mimetype": "text/x-python",
   "name": "python",
   "nbconvert_exporter": "python",
   "pygments_lexer": "ipython2",
   "version": "2.7.6"
  }
 },
 "nbformat": 4,
 "nbformat_minor": 5
}
