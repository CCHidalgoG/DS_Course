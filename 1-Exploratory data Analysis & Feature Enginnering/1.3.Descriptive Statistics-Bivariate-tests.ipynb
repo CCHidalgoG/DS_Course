{
 "cells": [
  {
   "metadata": {},
   "cell_type": "markdown",
   "source": "# Tests estadísticos",
   "id": "102c9711fcc9e5ee"
  },
  {
   "metadata": {},
   "cell_type": "markdown",
   "source": "## Test de normalidad",
   "id": "97c86f1353bfdce6"
  },
  {
   "metadata": {},
   "cell_type": "markdown",
   "source": [
    "Los test de normalidad son una serie de técnicas estadísticas que se utilizan para determinar si una muestra de datos se ajusta a una distribución normal. Existen varios test de normalidad, entre los más comunes se encuentran:\n",
    "  * Test de Shapiro-Wilk\n",
    "  * Test de Kolmogorov-Smirnov\n",
    "  * Test de Lilliefors\n",
    "  * Test de Anderson-Darling\n",
    "\n",
    "Los test usan la siguiente prueba de hipótesis:\n",
    "  * Hipótesis nula (H0): La muestra de datos proviene de una distribución normal.\n",
    "  * Hipótesis alternativa (H1): La muestra de datos no proviene de una distribución normal."
   ],
   "id": "d43580ad68b97021"
  },
  {
   "metadata": {
    "ExecuteTime": {
     "end_time": "2024-03-26T23:49:39.930826Z",
     "start_time": "2024-03-26T23:49:39.925913Z"
    }
   },
   "cell_type": "code",
   "source": [
    "import numpy as np\n",
    "import pandas as pd\n",
    "import matplotlib.pyplot as plt\n",
    "import seaborn as sns\n",
    "from scipy import stats"
   ],
   "id": "ca2f62d53fbe83d",
   "outputs": [],
   "execution_count": 1
  },
  {
   "metadata": {
    "ExecuteTime": {
     "end_time": "2024-03-26T23:49:40.248314Z",
     "start_time": "2024-03-26T23:49:40.242631Z"
    }
   },
   "cell_type": "code",
   "source": "diabetes = pd.read_csv('../data/Diabetes.csv')",
   "id": "f33f71ba23022324",
   "outputs": [],
   "execution_count": 2
  },
  {
   "metadata": {
    "ExecuteTime": {
     "end_time": "2024-03-26T23:49:40.632221Z",
     "start_time": "2024-03-26T23:49:40.614103Z"
    }
   },
   "cell_type": "code",
   "source": "diabetes.head()",
   "id": "eb2684e19e8fa080",
   "outputs": [
    {
     "data": {
      "text/plain": [
       "   Pregnancies  Glucose  BloodPressure  SkinThickness  Insulin   BMI  \\\n",
       "0            6      148             72             35        0  33.6   \n",
       "1            1       85             66             29        0  26.6   \n",
       "2            8      183             64              0        0  23.3   \n",
       "3            1       89             66             23       94  28.1   \n",
       "4            0      137             40             35      168  43.1   \n",
       "\n",
       "   DiabetesPedigreeFunction  Age  Outcome  \n",
       "0                     0.627   50        1  \n",
       "1                     0.351   31        0  \n",
       "2                     0.672   32        1  \n",
       "3                     0.167   21        0  \n",
       "4                     2.288   33        1  "
      ],
      "text/html": [
       "<div>\n",
       "<style scoped>\n",
       "    .dataframe tbody tr th:only-of-type {\n",
       "        vertical-align: middle;\n",
       "    }\n",
       "\n",
       "    .dataframe tbody tr th {\n",
       "        vertical-align: top;\n",
       "    }\n",
       "\n",
       "    .dataframe thead th {\n",
       "        text-align: right;\n",
       "    }\n",
       "</style>\n",
       "<table border=\"1\" class=\"dataframe\">\n",
       "  <thead>\n",
       "    <tr style=\"text-align: right;\">\n",
       "      <th></th>\n",
       "      <th>Pregnancies</th>\n",
       "      <th>Glucose</th>\n",
       "      <th>BloodPressure</th>\n",
       "      <th>SkinThickness</th>\n",
       "      <th>Insulin</th>\n",
       "      <th>BMI</th>\n",
       "      <th>DiabetesPedigreeFunction</th>\n",
       "      <th>Age</th>\n",
       "      <th>Outcome</th>\n",
       "    </tr>\n",
       "  </thead>\n",
       "  <tbody>\n",
       "    <tr>\n",
       "      <th>0</th>\n",
       "      <td>6</td>\n",
       "      <td>148</td>\n",
       "      <td>72</td>\n",
       "      <td>35</td>\n",
       "      <td>0</td>\n",
       "      <td>33.6</td>\n",
       "      <td>0.627</td>\n",
       "      <td>50</td>\n",
       "      <td>1</td>\n",
       "    </tr>\n",
       "    <tr>\n",
       "      <th>1</th>\n",
       "      <td>1</td>\n",
       "      <td>85</td>\n",
       "      <td>66</td>\n",
       "      <td>29</td>\n",
       "      <td>0</td>\n",
       "      <td>26.6</td>\n",
       "      <td>0.351</td>\n",
       "      <td>31</td>\n",
       "      <td>0</td>\n",
       "    </tr>\n",
       "    <tr>\n",
       "      <th>2</th>\n",
       "      <td>8</td>\n",
       "      <td>183</td>\n",
       "      <td>64</td>\n",
       "      <td>0</td>\n",
       "      <td>0</td>\n",
       "      <td>23.3</td>\n",
       "      <td>0.672</td>\n",
       "      <td>32</td>\n",
       "      <td>1</td>\n",
       "    </tr>\n",
       "    <tr>\n",
       "      <th>3</th>\n",
       "      <td>1</td>\n",
       "      <td>89</td>\n",
       "      <td>66</td>\n",
       "      <td>23</td>\n",
       "      <td>94</td>\n",
       "      <td>28.1</td>\n",
       "      <td>0.167</td>\n",
       "      <td>21</td>\n",
       "      <td>0</td>\n",
       "    </tr>\n",
       "    <tr>\n",
       "      <th>4</th>\n",
       "      <td>0</td>\n",
       "      <td>137</td>\n",
       "      <td>40</td>\n",
       "      <td>35</td>\n",
       "      <td>168</td>\n",
       "      <td>43.1</td>\n",
       "      <td>2.288</td>\n",
       "      <td>33</td>\n",
       "      <td>1</td>\n",
       "    </tr>\n",
       "  </tbody>\n",
       "</table>\n",
       "</div>"
      ]
     },
     "execution_count": 3,
     "metadata": {},
     "output_type": "execute_result"
    }
   ],
   "execution_count": 3
  },
  {
   "metadata": {},
   "cell_type": "markdown",
   "source": "Realizamos una prueba de normalidad para la variable 'Glucose' utilizando el test de Shapiro-Wilk.",
   "id": "764f33926548dbf8"
  },
  {
   "metadata": {
    "ExecuteTime": {
     "end_time": "2024-03-26T23:49:43.574211Z",
     "start_time": "2024-03-26T23:49:43.569324Z"
    }
   },
   "cell_type": "code",
   "source": "stats.shapiro(diabetes['Glucose'])",
   "id": "b88799dcbf678a5",
   "outputs": [
    {
     "data": {
      "text/plain": [
       "ShapiroResult(statistic=0.9701038379391942, pvalue=1.9863474999979633e-11)"
      ]
     },
     "execution_count": 4,
     "metadata": {},
     "output_type": "execute_result"
    }
   ],
   "execution_count": 4
  },
  {
   "metadata": {
    "ExecuteTime": {
     "end_time": "2024-03-26T23:49:45.567073Z",
     "start_time": "2024-03-26T23:49:45.559747Z"
    }
   },
   "cell_type": "code",
   "source": "stats.shapiro(diabetes['Glucose'])[1] < 0.05",
   "id": "ad45a2d2072b01b7",
   "outputs": [
    {
     "data": {
      "text/plain": [
       "True"
      ]
     },
     "execution_count": 5,
     "metadata": {},
     "output_type": "execute_result"
    }
   ],
   "execution_count": 5
  },
  {
   "metadata": {},
   "cell_type": "markdown",
   "source": "Realizamos el test de lilliefors para la variable 'Glucose'.",
   "id": "193ae67517fda0a8"
  },
  {
   "metadata": {
    "ExecuteTime": {
     "end_time": "2024-03-26T23:49:48.103243Z",
     "start_time": "2024-03-26T23:49:48.081843Z"
    }
   },
   "cell_type": "code",
   "source": "from statsmodels.stats.diagnostic import lilliefors",
   "id": "adba0c8c0ee55795",
   "outputs": [],
   "execution_count": 6
  },
  {
   "metadata": {
    "ExecuteTime": {
     "end_time": "2024-03-26T23:49:51.044121Z",
     "start_time": "2024-03-26T23:49:51.038685Z"
    }
   },
   "cell_type": "code",
   "source": [
    "# Perform the Lilliefors test\n",
    "statistic, p_value = lilliefors(diabetes['Glucose'])\n",
    "\n",
    "print(f'Statistic: {statistic}')\n",
    "print(f'p-value: {p_value}')"
   ],
   "id": "e163cf67c1db35fe",
   "outputs": [
    {
     "name": "stdout",
     "output_type": "stream",
     "text": [
      "Statistic: 0.06399847607594411\n",
      "p-value: 0.0009999999999998899\n"
     ]
    }
   ],
   "execution_count": 7
  },
  {
   "metadata": {},
   "cell_type": "markdown",
   "source": "## Test para dos variables numéricas",
   "id": "7ab0d1849be34e8"
  },
  {
   "metadata": {},
   "cell_type": "markdown",
   "source": [
    "Para comparar dos variables numéricas se pueden utilizar los siguientes test:\n",
    "  * Test de correlación de Pearson: Este test mide la fuerza de la relación lineal entre dos variables continuas y normales.\n",
    "  * Test de correlación de Spearman: Este test mide la fuerza de la relación entre dos variables continuas, sin asumir que la relación es lineal.\n",
    "  * Test de correlación de Kendall: Este test mide la fuerza de la relación entre dos variables continuas, sin asumir que la relación es lineal.\n",
    "  * Test de correlación de Point-Biserial: Este test mide la relación entre una variable continua y una variable dicotómica.\n",
    "  * Test de correlación de Biserial: Este test mide la relación entre una variable continua y una variable dicotómica.\n",
    "  * Test de correlación de Tau de Kendall: Este test mide la relación entre dos variables ordinales.\n",
    "  * Test de correlación de Tau de Somers: Este test mide la relación entre dos variables ordinales.\n",
    "  * Test de correlación de Tau de Goodman y Kruskal: Este test mide la relación entre dos variables ordinales.\n",
    "\n",
    "La prueba de hipótesis de un test de correlación se utiliza para determinar si existe una relación significativa entre dos variables. Aquí están las hipótesis para un test de correlación:  \n",
    "\n",
    "Hipótesis nula (H0): No existe una relación significativa entre las dos variables. En términos de correlación, esto significa que la correlación es igual a 0.\n",
    "\n",
    "Hipótesis alternativa (H1): Existe una relación significativa entre las dos variables. En términos de correlación, esto significa que la correlación es diferente de 0.\n",
    "\n",
    "Para realizar la prueba de hipótesis, se calcula un valor p a partir de los datos. Si el valor p es menor que el nivel de significancia (generalmente 0.05), entonces se rechaza la hipótesis nula y se concluye que existe una relación significativa entre las dos variables. Si el valor p es mayor que el nivel de significancia, entonces no se puede rechazar la hipótesis nula y se concluye que no existe una relación significativa entre las dos variables.\n",
    "\n",
    "La forma matemática de la correlación de Pearson es la siguiente:\n",
    "\n",
    "$$r = \\frac{\\sum (X_i - \\bar{X})(Y_i - \\bar{Y})}{\\sqrt{\\sum (X_i - \\bar{X})^2 \\sum (Y_i - \\bar{Y})^2}}$$\n",
    "\n",
    "La forma matemática de la correlación de Spearman es la siguiente:\n",
    "\n",
    "$$r_s = 1 - \\frac{6 \\sum d_i^2}{n(n^2 - 1)}$$"
   ],
   "id": "33da59fdb5ddbb5e"
  },
  {
   "metadata": {},
   "cell_type": "markdown",
   "source": [
    "Para calcular estos test se debe primero hallar la matriz de correlación. Para ello se puede utilizar el método `corr` de pandas. Luego se puede utilizar el método `corr` de scipy para calcular el test de correlación.\n",
    "\n",
    "Donde $d_i$ es la diferencia entre los rangos de las dos variables para la i-ésima observación y n es el número de observaciones."
   ],
   "id": "93477734a32d2adf"
  },
  {
   "metadata": {
    "ExecuteTime": {
     "end_time": "2024-03-26T23:49:57.360399Z",
     "start_time": "2024-03-26T23:49:57.341848Z"
    }
   },
   "cell_type": "code",
   "source": "diabetes.corr()",
   "id": "a8ac18fe294eb370",
   "outputs": [
    {
     "data": {
      "text/plain": [
       "                          Pregnancies   Glucose  BloodPressure  SkinThickness  \\\n",
       "Pregnancies                  1.000000  0.129459       0.141282      -0.081672   \n",
       "Glucose                      0.129459  1.000000       0.152590       0.057328   \n",
       "BloodPressure                0.141282  0.152590       1.000000       0.207371   \n",
       "SkinThickness               -0.081672  0.057328       0.207371       1.000000   \n",
       "Insulin                     -0.073535  0.331357       0.088933       0.436783   \n",
       "BMI                          0.017683  0.221071       0.281805       0.392573   \n",
       "DiabetesPedigreeFunction    -0.033523  0.137337       0.041265       0.183928   \n",
       "Age                          0.544341  0.263514       0.239528      -0.113970   \n",
       "Outcome                      0.221898  0.466581       0.065068       0.074752   \n",
       "\n",
       "                           Insulin       BMI  DiabetesPedigreeFunction  \\\n",
       "Pregnancies              -0.073535  0.017683                 -0.033523   \n",
       "Glucose                   0.331357  0.221071                  0.137337   \n",
       "BloodPressure             0.088933  0.281805                  0.041265   \n",
       "SkinThickness             0.436783  0.392573                  0.183928   \n",
       "Insulin                   1.000000  0.197859                  0.185071   \n",
       "BMI                       0.197859  1.000000                  0.140647   \n",
       "DiabetesPedigreeFunction  0.185071  0.140647                  1.000000   \n",
       "Age                      -0.042163  0.036242                  0.033561   \n",
       "Outcome                   0.130548  0.292695                  0.173844   \n",
       "\n",
       "                               Age   Outcome  \n",
       "Pregnancies               0.544341  0.221898  \n",
       "Glucose                   0.263514  0.466581  \n",
       "BloodPressure             0.239528  0.065068  \n",
       "SkinThickness            -0.113970  0.074752  \n",
       "Insulin                  -0.042163  0.130548  \n",
       "BMI                       0.036242  0.292695  \n",
       "DiabetesPedigreeFunction  0.033561  0.173844  \n",
       "Age                       1.000000  0.238356  \n",
       "Outcome                   0.238356  1.000000  "
      ],
      "text/html": [
       "<div>\n",
       "<style scoped>\n",
       "    .dataframe tbody tr th:only-of-type {\n",
       "        vertical-align: middle;\n",
       "    }\n",
       "\n",
       "    .dataframe tbody tr th {\n",
       "        vertical-align: top;\n",
       "    }\n",
       "\n",
       "    .dataframe thead th {\n",
       "        text-align: right;\n",
       "    }\n",
       "</style>\n",
       "<table border=\"1\" class=\"dataframe\">\n",
       "  <thead>\n",
       "    <tr style=\"text-align: right;\">\n",
       "      <th></th>\n",
       "      <th>Pregnancies</th>\n",
       "      <th>Glucose</th>\n",
       "      <th>BloodPressure</th>\n",
       "      <th>SkinThickness</th>\n",
       "      <th>Insulin</th>\n",
       "      <th>BMI</th>\n",
       "      <th>DiabetesPedigreeFunction</th>\n",
       "      <th>Age</th>\n",
       "      <th>Outcome</th>\n",
       "    </tr>\n",
       "  </thead>\n",
       "  <tbody>\n",
       "    <tr>\n",
       "      <th>Pregnancies</th>\n",
       "      <td>1.000000</td>\n",
       "      <td>0.129459</td>\n",
       "      <td>0.141282</td>\n",
       "      <td>-0.081672</td>\n",
       "      <td>-0.073535</td>\n",
       "      <td>0.017683</td>\n",
       "      <td>-0.033523</td>\n",
       "      <td>0.544341</td>\n",
       "      <td>0.221898</td>\n",
       "    </tr>\n",
       "    <tr>\n",
       "      <th>Glucose</th>\n",
       "      <td>0.129459</td>\n",
       "      <td>1.000000</td>\n",
       "      <td>0.152590</td>\n",
       "      <td>0.057328</td>\n",
       "      <td>0.331357</td>\n",
       "      <td>0.221071</td>\n",
       "      <td>0.137337</td>\n",
       "      <td>0.263514</td>\n",
       "      <td>0.466581</td>\n",
       "    </tr>\n",
       "    <tr>\n",
       "      <th>BloodPressure</th>\n",
       "      <td>0.141282</td>\n",
       "      <td>0.152590</td>\n",
       "      <td>1.000000</td>\n",
       "      <td>0.207371</td>\n",
       "      <td>0.088933</td>\n",
       "      <td>0.281805</td>\n",
       "      <td>0.041265</td>\n",
       "      <td>0.239528</td>\n",
       "      <td>0.065068</td>\n",
       "    </tr>\n",
       "    <tr>\n",
       "      <th>SkinThickness</th>\n",
       "      <td>-0.081672</td>\n",
       "      <td>0.057328</td>\n",
       "      <td>0.207371</td>\n",
       "      <td>1.000000</td>\n",
       "      <td>0.436783</td>\n",
       "      <td>0.392573</td>\n",
       "      <td>0.183928</td>\n",
       "      <td>-0.113970</td>\n",
       "      <td>0.074752</td>\n",
       "    </tr>\n",
       "    <tr>\n",
       "      <th>Insulin</th>\n",
       "      <td>-0.073535</td>\n",
       "      <td>0.331357</td>\n",
       "      <td>0.088933</td>\n",
       "      <td>0.436783</td>\n",
       "      <td>1.000000</td>\n",
       "      <td>0.197859</td>\n",
       "      <td>0.185071</td>\n",
       "      <td>-0.042163</td>\n",
       "      <td>0.130548</td>\n",
       "    </tr>\n",
       "    <tr>\n",
       "      <th>BMI</th>\n",
       "      <td>0.017683</td>\n",
       "      <td>0.221071</td>\n",
       "      <td>0.281805</td>\n",
       "      <td>0.392573</td>\n",
       "      <td>0.197859</td>\n",
       "      <td>1.000000</td>\n",
       "      <td>0.140647</td>\n",
       "      <td>0.036242</td>\n",
       "      <td>0.292695</td>\n",
       "    </tr>\n",
       "    <tr>\n",
       "      <th>DiabetesPedigreeFunction</th>\n",
       "      <td>-0.033523</td>\n",
       "      <td>0.137337</td>\n",
       "      <td>0.041265</td>\n",
       "      <td>0.183928</td>\n",
       "      <td>0.185071</td>\n",
       "      <td>0.140647</td>\n",
       "      <td>1.000000</td>\n",
       "      <td>0.033561</td>\n",
       "      <td>0.173844</td>\n",
       "    </tr>\n",
       "    <tr>\n",
       "      <th>Age</th>\n",
       "      <td>0.544341</td>\n",
       "      <td>0.263514</td>\n",
       "      <td>0.239528</td>\n",
       "      <td>-0.113970</td>\n",
       "      <td>-0.042163</td>\n",
       "      <td>0.036242</td>\n",
       "      <td>0.033561</td>\n",
       "      <td>1.000000</td>\n",
       "      <td>0.238356</td>\n",
       "    </tr>\n",
       "    <tr>\n",
       "      <th>Outcome</th>\n",
       "      <td>0.221898</td>\n",
       "      <td>0.466581</td>\n",
       "      <td>0.065068</td>\n",
       "      <td>0.074752</td>\n",
       "      <td>0.130548</td>\n",
       "      <td>0.292695</td>\n",
       "      <td>0.173844</td>\n",
       "      <td>0.238356</td>\n",
       "      <td>1.000000</td>\n",
       "    </tr>\n",
       "  </tbody>\n",
       "</table>\n",
       "</div>"
      ]
     },
     "execution_count": 8,
     "metadata": {},
     "output_type": "execute_result"
    }
   ],
   "execution_count": 8
  },
  {
   "metadata": {
    "ExecuteTime": {
     "end_time": "2024-03-26T23:50:00.288851Z",
     "start_time": "2024-03-26T23:49:59.782901Z"
    }
   },
   "cell_type": "code",
   "source": "sns.heatmap(diabetes.corr('spearman'), annot=True, cmap='coolwarm', fmt='.2f' )",
   "id": "b1ea70dfb36206b4",
   "outputs": [
    {
     "data": {
      "text/plain": [
       "<Axes: >"
      ]
     },
     "execution_count": 9,
     "metadata": {},
     "output_type": "execute_result"
    },
    {
     "data": {
      "text/plain": [
       "<Figure size 640x480 with 2 Axes>"
      ],
      "image/png": "[encoded data removed]"
     },
     "metadata": {},
     "output_type": "display_data"
    }
   ],
   "execution_count": 9
  },
  {
   "metadata": {
    "ExecuteTime": {
     "end_time": "2024-03-26T23:50:03.737664Z",
     "start_time": "2024-03-26T23:50:03.731389Z"
    }
   },
   "cell_type": "code",
   "source": "stats.spearmanr(diabetes['Glucose'], diabetes['Outcome'])",
   "id": "4e098d80e45adc8e",
   "outputs": [
    {
     "data": {
      "text/plain": [
       "SignificanceResult(statistic=0.4757763064583268, pvalue=1.2305781575825131e-44)"
      ]
     },
     "execution_count": 10,
     "metadata": {},
     "output_type": "execute_result"
    }
   ],
   "execution_count": 10
  },
  {
   "metadata": {
    "ExecuteTime": {
     "end_time": "2024-03-26T23:50:05.606767Z",
     "start_time": "2024-03-26T23:50:05.442662Z"
    }
   },
   "cell_type": "code",
   "source": "sns.boxplot(x='Outcome', y='Glucose', data=diabetes)",
   "id": "c16608a538ecae50",
   "outputs": [
    {
     "data": {
      "text/plain": [
       "<Axes: xlabel='Outcome', ylabel='Glucose'>"
      ]
     },
     "execution_count": 11,
     "metadata": {},
     "output_type": "execute_result"
    },
    {
     "data": {
      "text/plain": [
       "<Figure size 640x480 with 1 Axes>"
      ],
      "image/png": "[encoded data removed]"
     },
     "metadata": {},
     "output_type": "display_data"
    }
   ],
   "execution_count": 11
  },
  {
   "metadata": {},
   "cell_type": "markdown",
   "source": "### Test para una variable numérica y una variable categórica\n",
   "id": "f7e9c7d031fed530"
  },
  {
   "metadata": {},
   "cell_type": "markdown",
   "source": [
    "Para comparar una variable numérica y una variable categórica se pueden utilizar los siguientes test:\n",
    "  * Test t de Student: Este test se utiliza para comparar las medias de dos grupos.\n",
    "  * Test de Welch: Este test se utiliza para comparar las medias de dos grupos cuando las varianzas de los dos grupos no son iguales.\n",
    "  * Test de Mann-Whitney U: Este test se utiliza para comparar las medianas de dos grupos.\n",
    "  * Test de Kruskal-Wallis: Este test se utiliza para comparar las medianas de más de dos grupos.\n",
    "  * Test de ANOVA: Este test se utiliza para comparar las medias de más de dos grupos.\n",
    "  * Test de Friedman: Este test se utiliza para comparar las medianas de más de dos grupos emparejados."
   ],
   "id": "72908779089d1806"
  },
  {
   "metadata": {},
   "cell_type": "markdown",
   "source": "Para realizar estos test se puede utilizar el método `ttest_ind` de scipy.",
   "id": "44ed5af68dd591c6"
  },
  {
   "metadata": {
    "ExecuteTime": {
     "end_time": "2024-03-26T23:50:09.023427Z",
     "start_time": "2024-03-26T23:50:09.015378Z"
    }
   },
   "cell_type": "code",
   "source": "stats.ttest_ind(diabetes[diabetes['Outcome'] == 0]['Glucose'], diabetes[diabetes['Outcome'] == 1]['Glucose'])",
   "id": "9b3b00612eb0b633",
   "outputs": [
    {
     "data": {
      "text/plain": [
       "TtestResult(statistic=-14.600060005973894, pvalue=8.935431645289913e-43, df=766.0)"
      ]
     },
     "execution_count": 12,
     "metadata": {},
     "output_type": "execute_result"
    }
   ],
   "execution_count": 12
  },
  {
   "metadata": {
    "ExecuteTime": {
     "end_time": "2024-03-26T23:50:51.320983Z",
     "start_time": "2024-03-26T23:50:51.312589Z"
    }
   },
   "cell_type": "code",
   "source": "stats.mannwhitneyu(diabetes[diabetes['Outcome'] == 0]['Glucose'], diabetes[diabetes['Outcome'] == 1]['Glucose'])",
   "id": "f6e29f253c3359ac",
   "outputs": [
    {
     "data": {
      "text/plain": [
       "MannwhitneyuResult(statistic=28390.5, pvalue=1.2007268419877137e-39)"
      ]
     },
     "execution_count": 14,
     "metadata": {},
     "output_type": "execute_result"
    }
   ],
   "execution_count": 14
  },
  {
   "metadata": {
    "ExecuteTime": {
     "end_time": "2024-03-26T23:51:00.859216Z",
     "start_time": "2024-03-26T23:51:00.852479Z"
    }
   },
   "cell_type": "code",
   "source": "stats.kruskal(diabetes[diabetes['Outcome'] == 0]['Glucose'], diabetes[diabetes['Outcome'] == 1]['Glucose'])",
   "id": "980a6acd383d685f",
   "outputs": [
    {
     "data": {
      "text/plain": [
       "KruskalResult(statistic=173.62049293472685, pvalue=1.1980148169527536e-39)"
      ]
     },
     "execution_count": 15,
     "metadata": {},
     "output_type": "execute_result"
    }
   ],
   "execution_count": 15
  },
  {
   "metadata": {
    "ExecuteTime": {
     "end_time": "2024-03-26T23:51:06.869304Z",
     "start_time": "2024-03-26T23:51:06.862198Z"
    }
   },
   "cell_type": "code",
   "source": "stats.f_oneway(diabetes[diabetes['Outcome'] == 0]['Glucose'], diabetes[diabetes['Outcome'] == 1]['Glucose'])",
   "id": "10fff684ff93a5f5",
   "outputs": [
    {
     "data": {
      "text/plain": [
       "F_onewayResult(statistic=213.1617521780386, pvalue=8.935431645287658e-43)"
      ]
     },
     "execution_count": 16,
     "metadata": {},
     "output_type": "execute_result"
    }
   ],
   "execution_count": 16
  },
  {
   "metadata": {},
   "cell_type": "markdown",
   "source": "### Test para dos variables categóricas",
   "id": "c4b5de3fedae7897"
  },
  {
   "metadata": {},
   "cell_type": "markdown",
   "source": [
    "Para comparar dos variables categóricas se pueden utilizar los siguientes test:\n",
    "  * Test de Chi-cuadrado: Este test se utiliza para comparar la frecuencia de dos variables categóricas.\n",
    "  * Test exacto de Fisher: Este test se utiliza para comparar la frecuencia de dos variables categóricas cuando el test de Chi-cuadrado no es apropiado.\n",
    "  * Test de McNemar: Este test se utiliza para comparar la frecuencia de dos variables categóricas emparejadas.\n",
    "  * Test de Cochran: Este test se utiliza para comparar la frecuencia de dos variables categóricas emparejadas con más de dos grupos."
   ],
   "id": "36262120adf178d7"
  },
  {
   "metadata": {
    "ExecuteTime": {
     "end_time": "2024-03-26T23:52:08.633855Z",
     "start_time": "2024-03-26T23:52:08.628063Z"
    }
   },
   "cell_type": "code",
   "source": "diabetes['Outcome'].value_counts()",
   "id": "2dd03e90e3744ce3",
   "outputs": [
    {
     "data": {
      "text/plain": [
       "Outcome\n",
       "0    500\n",
       "1    268\n",
       "Name: count, dtype: int64"
      ]
     },
     "execution_count": 17,
     "metadata": {},
     "output_type": "execute_result"
    }
   ],
   "execution_count": 17
  },
  {
   "metadata": {
    "ExecuteTime": {
     "end_time": "2024-03-26T23:52:13.421409Z",
     "start_time": "2024-03-26T23:52:13.416089Z"
    }
   },
   "cell_type": "code",
   "source": "diabetes['Pregnancies'].value_counts()",
   "id": "380abc9fc9258e95",
   "outputs": [
    {
     "data": {
      "text/plain": [
       "Pregnancies\n",
       "1     135\n",
       "0     111\n",
       "2     103\n",
       "3      75\n",
       "4      68\n",
       "5      57\n",
       "6      50\n",
       "7      45\n",
       "8      38\n",
       "9      28\n",
       "10     24\n",
       "11     11\n",
       "13     10\n",
       "12      9\n",
       "14      2\n",
       "15      1\n",
       "17      1\n",
       "Name: count, dtype: int64"
      ]
     },
     "execution_count": 18,
     "metadata": {},
     "output_type": "execute_result"
    }
   ],
   "execution_count": 18
  },
  {
   "metadata": {
    "ExecuteTime": {
     "end_time": "2024-03-26T23:52:18.992137Z",
     "start_time": "2024-03-26T23:52:18.975245Z"
    }
   },
   "cell_type": "code",
   "source": "pd.crosstab(diabetes['Outcome'], diabetes['Pregnancies'])",
   "id": "e2e8e2739dac9173",
   "outputs": [
    {
     "data": {
      "text/plain": [
       "Pregnancies  0    1   2   3   4   5   6   7   8   9   10  11  12  13  14  15  \\\n",
       "Outcome                                                                        \n",
       "0            73  106  84  48  45  36  34  20  16  10  14   4   5   5   0   0   \n",
       "1            38   29  19  27  23  21  16  25  22  18  10   7   4   5   2   1   \n",
       "\n",
       "Pregnancies  17  \n",
       "Outcome          \n",
       "0             0  \n",
       "1             1  "
      ],
      "text/html": [
       "<div>\n",
       "<style scoped>\n",
       "    .dataframe tbody tr th:only-of-type {\n",
       "        vertical-align: middle;\n",
       "    }\n",
       "\n",
       "    .dataframe tbody tr th {\n",
       "        vertical-align: top;\n",
       "    }\n",
       "\n",
       "    .dataframe thead th {\n",
       "        text-align: right;\n",
       "    }\n",
       "</style>\n",
       "<table border=\"1\" class=\"dataframe\">\n",
       "  <thead>\n",
       "    <tr style=\"text-align: right;\">\n",
       "      <th>Pregnancies</th>\n",
       "      <th>0</th>\n",
       "      <th>1</th>\n",
       "      <th>2</th>\n",
       "      <th>3</th>\n",
       "      <th>4</th>\n",
       "      <th>5</th>\n",
       "      <th>6</th>\n",
       "      <th>7</th>\n",
       "      <th>8</th>\n",
       "      <th>9</th>\n",
       "      <th>10</th>\n",
       "      <th>11</th>\n",
       "      <th>12</th>\n",
       "      <th>13</th>\n",
       "      <th>14</th>\n",
       "      <th>15</th>\n",
       "      <th>17</th>\n",
       "    </tr>\n",
       "    <tr>\n",
       "      <th>Outcome</th>\n",
       "      <th></th>\n",
       "      <th></th>\n",
       "      <th></th>\n",
       "      <th></th>\n",
       "      <th></th>\n",
       "      <th></th>\n",
       "      <th></th>\n",
       "      <th></th>\n",
       "      <th></th>\n",
       "      <th></th>\n",
       "      <th></th>\n",
       "      <th></th>\n",
       "      <th></th>\n",
       "      <th></th>\n",
       "      <th></th>\n",
       "      <th></th>\n",
       "      <th></th>\n",
       "    </tr>\n",
       "  </thead>\n",
       "  <tbody>\n",
       "    <tr>\n",
       "      <th>0</th>\n",
       "      <td>73</td>\n",
       "      <td>106</td>\n",
       "      <td>84</td>\n",
       "      <td>48</td>\n",
       "      <td>45</td>\n",
       "      <td>36</td>\n",
       "      <td>34</td>\n",
       "      <td>20</td>\n",
       "      <td>16</td>\n",
       "      <td>10</td>\n",
       "      <td>14</td>\n",
       "      <td>4</td>\n",
       "      <td>5</td>\n",
       "      <td>5</td>\n",
       "      <td>0</td>\n",
       "      <td>0</td>\n",
       "      <td>0</td>\n",
       "    </tr>\n",
       "    <tr>\n",
       "      <th>1</th>\n",
       "      <td>38</td>\n",
       "      <td>29</td>\n",
       "      <td>19</td>\n",
       "      <td>27</td>\n",
       "      <td>23</td>\n",
       "      <td>21</td>\n",
       "      <td>16</td>\n",
       "      <td>25</td>\n",
       "      <td>22</td>\n",
       "      <td>18</td>\n",
       "      <td>10</td>\n",
       "      <td>7</td>\n",
       "      <td>4</td>\n",
       "      <td>5</td>\n",
       "      <td>2</td>\n",
       "      <td>1</td>\n",
       "      <td>1</td>\n",
       "    </tr>\n",
       "  </tbody>\n",
       "</table>\n",
       "</div>"
      ]
     },
     "execution_count": 19,
     "metadata": {},
     "output_type": "execute_result"
    }
   ],
   "execution_count": 19
  },
  {
   "metadata": {
    "ExecuteTime": {
     "end_time": "2024-03-26T23:52:24.774094Z",
     "start_time": "2024-03-26T23:52:24.764221Z"
    }
   },
   "cell_type": "code",
   "source": "stats.chi2_contingency(pd.crosstab(diabetes['Outcome'], diabetes['Pregnancies']))",
   "id": "611d561db9ed4abb",
   "outputs": [
    {
     "data": {
      "text/plain": [
       "Chi2ContingencyResult(statistic=64.59480868723006, pvalue=8.648349123362548e-08, dof=16, expected_freq=array([[72.265625  , 87.890625  , 67.05729167, 48.828125  , 44.27083333,\n",
       "        37.109375  , 32.55208333, 29.296875  , 24.73958333, 18.22916667,\n",
       "        15.625     ,  7.16145833,  5.859375  ,  6.51041667,  1.30208333,\n",
       "         0.65104167,  0.65104167],\n",
       "       [38.734375  , 47.109375  , 35.94270833, 26.171875  , 23.72916667,\n",
       "        19.890625  , 17.44791667, 15.703125  , 13.26041667,  9.77083333,\n",
       "         8.375     ,  3.83854167,  3.140625  ,  3.48958333,  0.69791667,\n",
       "         0.34895833,  0.34895833]]))"
      ]
     },
     "execution_count": 20,
     "metadata": {},
     "output_type": "execute_result"
    }
   ],
   "execution_count": 20
  },
  {
   "metadata": {},
   "cell_type": "markdown",
   "source": "Ahora calculamos el test con una vraible calculada como Age_Group.",
   "id": "3ad559e7b38d2da0"
  },
  {
   "metadata": {
    "ExecuteTime": {
     "end_time": "2024-03-26T23:54:06.955389Z",
     "start_time": "2024-03-26T23:54:06.950730Z"
    }
   },
   "cell_type": "code",
   "source": "diabetes['Age_Group'] = pd.cut(diabetes['Age'], bins=[0, 30, 60, 100], labels=['Young', 'Adult', 'Old'])",
   "id": "ac1dc42dba30b25",
   "outputs": [],
   "execution_count": 22
  },
  {
   "metadata": {
    "ExecuteTime": {
     "end_time": "2024-03-26T23:54:10.901263Z",
     "start_time": "2024-03-26T23:54:10.883950Z"
    }
   },
   "cell_type": "code",
   "source": "pd.crosstab(diabetes['Outcome'], diabetes['Age_Group'])",
   "id": "c93c7b205f64dbef",
   "outputs": [
    {
     "data": {
      "text/plain": [
       "Age_Group  Young  Adult  Old\n",
       "Outcome                     \n",
       "0            327    153   20\n",
       "1             90    171    7"
      ],
      "text/html": [
       "<div>\n",
       "<style scoped>\n",
       "    .dataframe tbody tr th:only-of-type {\n",
       "        vertical-align: middle;\n",
       "    }\n",
       "\n",
       "    .dataframe tbody tr th {\n",
       "        vertical-align: top;\n",
       "    }\n",
       "\n",
       "    .dataframe thead th {\n",
       "        text-align: right;\n",
       "    }\n",
       "</style>\n",
       "<table border=\"1\" class=\"dataframe\">\n",
       "  <thead>\n",
       "    <tr style=\"text-align: right;\">\n",
       "      <th>Age_Group</th>\n",
       "      <th>Young</th>\n",
       "      <th>Adult</th>\n",
       "      <th>Old</th>\n",
       "    </tr>\n",
       "    <tr>\n",
       "      <th>Outcome</th>\n",
       "      <th></th>\n",
       "      <th></th>\n",
       "      <th></th>\n",
       "    </tr>\n",
       "  </thead>\n",
       "  <tbody>\n",
       "    <tr>\n",
       "      <th>0</th>\n",
       "      <td>327</td>\n",
       "      <td>153</td>\n",
       "      <td>20</td>\n",
       "    </tr>\n",
       "    <tr>\n",
       "      <th>1</th>\n",
       "      <td>90</td>\n",
       "      <td>171</td>\n",
       "      <td>7</td>\n",
       "    </tr>\n",
       "  </tbody>\n",
       "</table>\n",
       "</div>"
      ]
     },
     "execution_count": 23,
     "metadata": {},
     "output_type": "execute_result"
    }
   ],
   "execution_count": 23
  },
  {
   "metadata": {
    "ExecuteTime": {
     "end_time": "2024-03-26T23:54:19.019438Z",
     "start_time": "2024-03-26T23:54:19.006245Z"
    }
   },
   "cell_type": "code",
   "source": "stats.chi2_contingency(pd.crosstab(diabetes['Outcome'], diabetes['Age_Group']))",
   "id": "a00a98ab16cf858d",
   "outputs": [
    {
     "data": {
      "text/plain": [
       "Chi2ContingencyResult(statistic=79.09118121622106, pvalue=6.692189270221932e-18, dof=2, expected_freq=array([[271.484375, 210.9375  ,  17.578125],\n",
       "       [145.515625, 113.0625  ,   9.421875]]))"
      ]
     },
     "execution_count": 24,
     "metadata": {},
     "output_type": "execute_result"
    }
   ],
   "execution_count": 24
  },
  {
   "metadata": {
    "ExecuteTime": {
     "end_time": "2024-03-26T23:54:25.441899Z",
     "start_time": "2024-03-26T23:54:25.430466Z"
    }
   },
   "cell_type": "code",
   "source": "stats.chi2_contingency(pd.crosstab(diabetes['Outcome'], diabetes['Age_Group']))[1] < 0.05",
   "id": "7b07807ac98f3c95",
   "outputs": [
    {
     "data": {
      "text/plain": [
       "True"
      ]
     },
     "execution_count": 25,
     "metadata": {},
     "output_type": "execute_result"
    }
   ],
   "execution_count": 25
  },
  {
   "metadata": {
    "ExecuteTime": {
     "end_time": "2024-03-26T23:54:32.095212Z",
     "start_time": "2024-03-26T23:54:31.897772Z"
    }
   },
   "cell_type": "code",
   "source": "sns.countplot(x='Age_Group', hue='Outcome', data=diabetes)",
   "id": "8d13113ba3737ba1",
   "outputs": [
    {
     "data": {
      "text/plain": [
       "<Axes: xlabel='Age_Group', ylabel='count'>"
      ]
     },
     "execution_count": 26,
     "metadata": {},
     "output_type": "execute_result"
    },
    {
     "data": {
      "text/plain": [
       "<Figure size 640x480 with 1 Axes>"
      ],
      "image/png": "[encoded data removed]"
     },
     "metadata": {},
     "output_type": "display_data"
    }
   ],
   "execution_count": 26
  },
  {
   "metadata": {},
   "cell_type": "markdown",
   "source": "## Resúmenes de variables agrupadas en estadística descriptiva bivariada",
   "id": "484ce29351333531"
  },
  {
   "metadata": {},
   "cell_type": "markdown",
   "source": "A continuación se usan algunas variables resumen condicionadas a la variable de interés.",
   "id": "5c2c752e08b1843f"
  },
  {
   "metadata": {
    "ExecuteTime": {
     "end_time": "2024-03-26T23:55:44.149332Z",
     "start_time": "2024-03-26T23:55:44.136963Z"
    }
   },
   "cell_type": "code",
   "source": "diabetes.groupby('Outcome').agg({'Glucose': ['mean', 'std', 'median', 'min', 'max']})",
   "id": "2d4a120398d990c1",
   "outputs": [
    {
     "data": {
      "text/plain": [
       "            Glucose                           \n",
       "               mean        std median min  max\n",
       "Outcome                                       \n",
       "0        109.980000  26.141200  107.0   0  197\n",
       "1        141.257463  31.939622  140.0   0  199"
      ],
      "text/html": [
       "<div>\n",
       "<style scoped>\n",
       "    .dataframe tbody tr th:only-of-type {\n",
       "        vertical-align: middle;\n",
       "    }\n",
       "\n",
       "    .dataframe tbody tr th {\n",
       "        vertical-align: top;\n",
       "    }\n",
       "\n",
       "    .dataframe thead tr th {\n",
       "        text-align: left;\n",
       "    }\n",
       "\n",
       "    .dataframe thead tr:last-of-type th {\n",
       "        text-align: right;\n",
       "    }\n",
       "</style>\n",
       "<table border=\"1\" class=\"dataframe\">\n",
       "  <thead>\n",
       "    <tr>\n",
       "      <th></th>\n",
       "      <th colspan=\"5\" halign=\"left\">Glucose</th>\n",
       "    </tr>\n",
       "    <tr>\n",
       "      <th></th>\n",
       "      <th>mean</th>\n",
       "      <th>std</th>\n",
       "      <th>median</th>\n",
       "      <th>min</th>\n",
       "      <th>max</th>\n",
       "    </tr>\n",
       "    <tr>\n",
       "      <th>Outcome</th>\n",
       "      <th></th>\n",
       "      <th></th>\n",
       "      <th></th>\n",
       "      <th></th>\n",
       "      <th></th>\n",
       "    </tr>\n",
       "  </thead>\n",
       "  <tbody>\n",
       "    <tr>\n",
       "      <th>0</th>\n",
       "      <td>109.980000</td>\n",
       "      <td>26.141200</td>\n",
       "      <td>107.0</td>\n",
       "      <td>0</td>\n",
       "      <td>197</td>\n",
       "    </tr>\n",
       "    <tr>\n",
       "      <th>1</th>\n",
       "      <td>141.257463</td>\n",
       "      <td>31.939622</td>\n",
       "      <td>140.0</td>\n",
       "      <td>0</td>\n",
       "      <td>199</td>\n",
       "    </tr>\n",
       "  </tbody>\n",
       "</table>\n",
       "</div>"
      ]
     },
     "execution_count": 27,
     "metadata": {},
     "output_type": "execute_result"
    }
   ],
   "execution_count": 27
  },
  {
   "metadata": {
    "ExecuteTime": {
     "end_time": "2024-03-26T23:55:47.007206Z",
     "start_time": "2024-03-26T23:55:46.995782Z"
    }
   },
   "cell_type": "code",
   "source": "diabetes.groupby('Outcome').agg({'Glucose': ['mean', 'std', 'median', 'min', 'max']}).T",
   "id": "6a3dd12260463d50",
   "outputs": [
    {
     "data": {
      "text/plain": [
       "Outcome                0           1\n",
       "Glucose mean    109.9800  141.257463\n",
       "        std      26.1412   31.939622\n",
       "        median  107.0000  140.000000\n",
       "        min       0.0000    0.000000\n",
       "        max     197.0000  199.000000"
      ],
      "text/html": [
       "<div>\n",
       "<style scoped>\n",
       "    .dataframe tbody tr th:only-of-type {\n",
       "        vertical-align: middle;\n",
       "    }\n",
       "\n",
       "    .dataframe tbody tr th {\n",
       "        vertical-align: top;\n",
       "    }\n",
       "\n",
       "    .dataframe thead th {\n",
       "        text-align: right;\n",
       "    }\n",
       "</style>\n",
       "<table border=\"1\" class=\"dataframe\">\n",
       "  <thead>\n",
       "    <tr style=\"text-align: right;\">\n",
       "      <th></th>\n",
       "      <th>Outcome</th>\n",
       "      <th>0</th>\n",
       "      <th>1</th>\n",
       "    </tr>\n",
       "  </thead>\n",
       "  <tbody>\n",
       "    <tr>\n",
       "      <th rowspan=\"5\" valign=\"top\">Glucose</th>\n",
       "      <th>mean</th>\n",
       "      <td>109.9800</td>\n",
       "      <td>141.257463</td>\n",
       "    </tr>\n",
       "    <tr>\n",
       "      <th>std</th>\n",
       "      <td>26.1412</td>\n",
       "      <td>31.939622</td>\n",
       "    </tr>\n",
       "    <tr>\n",
       "      <th>median</th>\n",
       "      <td>107.0000</td>\n",
       "      <td>140.000000</td>\n",
       "    </tr>\n",
       "    <tr>\n",
       "      <th>min</th>\n",
       "      <td>0.0000</td>\n",
       "      <td>0.000000</td>\n",
       "    </tr>\n",
       "    <tr>\n",
       "      <th>max</th>\n",
       "      <td>197.0000</td>\n",
       "      <td>199.000000</td>\n",
       "    </tr>\n",
       "  </tbody>\n",
       "</table>\n",
       "</div>"
      ]
     },
     "execution_count": 28,
     "metadata": {},
     "output_type": "execute_result"
    }
   ],
   "execution_count": 28
  },
  {
   "metadata": {
    "ExecuteTime": {
     "end_time": "2024-03-26T23:55:50.137737Z",
     "start_time": "2024-03-26T23:55:50.079980Z"
    }
   },
   "cell_type": "code",
   "source": "diabetes.groupby('Outcome').agg({'Glucose': ['mean', 'std', 'median', 'min', 'max']}).T.style.format('{:.2f}')",
   "id": "85ac730ed87b2df6",
   "outputs": [
    {
     "data": {
      "text/plain": [
       "<pandas.io.formats.style.Styler at 0x79e7175fbca0>"
      ],
      "text/html": [
       "<style type=\"text/css\">\n",
       "</style>\n",
       "<table id=\"T_89640\">\n",
       "  <thead>\n",
       "    <tr>\n",
       "      <th class=\"blank\" >&nbsp;</th>\n",
       "      <th class=\"index_name level0\" >Outcome</th>\n",
       "      <th id=\"T_89640_level0_col0\" class=\"col_heading level0 col0\" >0</th>\n",
       "      <th id=\"T_89640_level0_col1\" class=\"col_heading level0 col1\" >1</th>\n",
       "    </tr>\n",
       "  </thead>\n",
       "  <tbody>\n",
       "    <tr>\n",
       "      <th id=\"T_89640_level0_row0\" class=\"row_heading level0 row0\" rowspan=\"5\">Glucose</th>\n",
       "      <th id=\"T_89640_level1_row0\" class=\"row_heading level1 row0\" >mean</th>\n",
       "      <td id=\"T_89640_row0_col0\" class=\"data row0 col0\" >109.98</td>\n",
       "      <td id=\"T_89640_row0_col1\" class=\"data row0 col1\" >141.26</td>\n",
       "    </tr>\n",
       "    <tr>\n",
       "      <th id=\"T_89640_level1_row1\" class=\"row_heading level1 row1\" >std</th>\n",
       "      <td id=\"T_89640_row1_col0\" class=\"data row1 col0\" >26.14</td>\n",
       "      <td id=\"T_89640_row1_col1\" class=\"data row1 col1\" >31.94</td>\n",
       "    </tr>\n",
       "    <tr>\n",
       "      <th id=\"T_89640_level1_row2\" class=\"row_heading level1 row2\" >median</th>\n",
       "      <td id=\"T_89640_row2_col0\" class=\"data row2 col0\" >107.00</td>\n",
       "      <td id=\"T_89640_row2_col1\" class=\"data row2 col1\" >140.00</td>\n",
       "    </tr>\n",
       "    <tr>\n",
       "      <th id=\"T_89640_level1_row3\" class=\"row_heading level1 row3\" >min</th>\n",
       "      <td id=\"T_89640_row3_col0\" class=\"data row3 col0\" >0.00</td>\n",
       "      <td id=\"T_89640_row3_col1\" class=\"data row3 col1\" >0.00</td>\n",
       "    </tr>\n",
       "    <tr>\n",
       "      <th id=\"T_89640_level1_row4\" class=\"row_heading level1 row4\" >max</th>\n",
       "      <td id=\"T_89640_row4_col0\" class=\"data row4 col0\" >197.00</td>\n",
       "      <td id=\"T_89640_row4_col1\" class=\"data row4 col1\" >199.00</td>\n",
       "    </tr>\n",
       "  </tbody>\n",
       "</table>\n"
      ]
     },
     "execution_count": 29,
     "metadata": {},
     "output_type": "execute_result"
    }
   ],
   "execution_count": 29
  },
  {
   "metadata": {
    "ExecuteTime": {
     "end_time": "2024-03-26T23:55:53.230736Z",
     "start_time": "2024-03-26T23:55:53.217675Z"
    }
   },
   "cell_type": "code",
   "source": "diabetes.groupby('Outcome').agg({'Glucose': ['mean', 'std', 'median', 'min', 'max']}).T.style.format('{:.2f}').background_gradient(cmap='coolwarm')",
   "id": "d8929953bf6f8d28",
   "outputs": [
    {
     "data": {
      "text/plain": [
       "<pandas.io.formats.style.Styler at 0x79e7150cfd60>"
      ],
      "text/html": [
       "<style type=\"text/css\">\n",
       "#T_87fb9_row0_col0 {\n",
       "  background-color: #ead4c8;\n",
       "  color: #000000;\n",
       "}\n",
       "#T_87fb9_row0_col1 {\n",
       "  background-color: #f7a98b;\n",
       "  color: #000000;\n",
       "}\n",
       "#T_87fb9_row1_col0 {\n",
       "  background-color: #6384eb;\n",
       "  color: #f1f1f1;\n",
       "}\n",
       "#T_87fb9_row1_col1 {\n",
       "  background-color: #6e90f2;\n",
       "  color: #f1f1f1;\n",
       "}\n",
       "#T_87fb9_row2_col0 {\n",
       "  background-color: #e8d6cc;\n",
       "  color: #000000;\n",
       "}\n",
       "#T_87fb9_row2_col1 {\n",
       "  background-color: #f7aa8c;\n",
       "  color: #000000;\n",
       "}\n",
       "#T_87fb9_row3_col0, #T_87fb9_row3_col1 {\n",
       "  background-color: #3b4cc0;\n",
       "  color: #f1f1f1;\n",
       "}\n",
       "#T_87fb9_row4_col0, #T_87fb9_row4_col1 {\n",
       "  background-color: #b40426;\n",
       "  color: #f1f1f1;\n",
       "}\n",
       "</style>\n",
       "<table id=\"T_87fb9\">\n",
       "  <thead>\n",
       "    <tr>\n",
       "      <th class=\"blank\" >&nbsp;</th>\n",
       "      <th class=\"index_name level0\" >Outcome</th>\n",
       "      <th id=\"T_87fb9_level0_col0\" class=\"col_heading level0 col0\" >0</th>\n",
       "      <th id=\"T_87fb9_level0_col1\" class=\"col_heading level0 col1\" >1</th>\n",
       "    </tr>\n",
       "  </thead>\n",
       "  <tbody>\n",
       "    <tr>\n",
       "      <th id=\"T_87fb9_level0_row0\" class=\"row_heading level0 row0\" rowspan=\"5\">Glucose</th>\n",
       "      <th id=\"T_87fb9_level1_row0\" class=\"row_heading level1 row0\" >mean</th>\n",
       "      <td id=\"T_87fb9_row0_col0\" class=\"data row0 col0\" >109.98</td>\n",
       "      <td id=\"T_87fb9_row0_col1\" class=\"data row0 col1\" >141.26</td>\n",
       "    </tr>\n",
       "    <tr>\n",
       "      <th id=\"T_87fb9_level1_row1\" class=\"row_heading level1 row1\" >std</th>\n",
       "      <td id=\"T_87fb9_row1_col0\" class=\"data row1 col0\" >26.14</td>\n",
       "      <td id=\"T_87fb9_row1_col1\" class=\"data row1 col1\" >31.94</td>\n",
       "    </tr>\n",
       "    <tr>\n",
       "      <th id=\"T_87fb9_level1_row2\" class=\"row_heading level1 row2\" >median</th>\n",
       "      <td id=\"T_87fb9_row2_col0\" class=\"data row2 col0\" >107.00</td>\n",
       "      <td id=\"T_87fb9_row2_col1\" class=\"data row2 col1\" >140.00</td>\n",
       "    </tr>\n",
       "    <tr>\n",
       "      <th id=\"T_87fb9_level1_row3\" class=\"row_heading level1 row3\" >min</th>\n",
       "      <td id=\"T_87fb9_row3_col0\" class=\"data row3 col0\" >0.00</td>\n",
       "      <td id=\"T_87fb9_row3_col1\" class=\"data row3 col1\" >0.00</td>\n",
       "    </tr>\n",
       "    <tr>\n",
       "      <th id=\"T_87fb9_level1_row4\" class=\"row_heading level1 row4\" >max</th>\n",
       "      <td id=\"T_87fb9_row4_col0\" class=\"data row4 col0\" >197.00</td>\n",
       "      <td id=\"T_87fb9_row4_col1\" class=\"data row4 col1\" >199.00</td>\n",
       "    </tr>\n",
       "  </tbody>\n",
       "</table>\n"
      ]
     },
     "execution_count": 30,
     "metadata": {},
     "output_type": "execute_result"
    }
   ],
   "execution_count": 30
  },
  {
   "metadata": {
    "ExecuteTime": {
     "end_time": "2024-03-26T23:56:10.637087Z",
     "start_time": "2024-03-26T23:56:10.616741Z"
    }
   },
   "cell_type": "code",
   "source": "diabetes.groupby('Outcome').agg({'Glucose': ['mean', 'std', 'median', 'min', 'max']}).T.style.format('{:.2f}').background_gradient(cmap='coolwarm', axis=1)",
   "id": "d0c934336d3ccc94",
   "outputs": [
    {
     "data": {
      "text/plain": [
       "<pandas.io.formats.style.Styler at 0x79e7173ba110>"
      ],
      "text/html": [
       "<style type=\"text/css\">\n",
       "#T_7f16c_row0_col0, #T_7f16c_row1_col0, #T_7f16c_row2_col0, #T_7f16c_row3_col0, #T_7f16c_row3_col1, #T_7f16c_row4_col0 {\n",
       "  background-color: #3b4cc0;\n",
       "  color: #f1f1f1;\n",
       "}\n",
       "#T_7f16c_row0_col1, #T_7f16c_row1_col1, #T_7f16c_row2_col1, #T_7f16c_row4_col1 {\n",
       "  background-color: #b40426;\n",
       "  color: #f1f1f1;\n",
       "}\n",
       "</style>\n",
       "<table id=\"T_7f16c\">\n",
       "  <thead>\n",
       "    <tr>\n",
       "      <th class=\"blank\" >&nbsp;</th>\n",
       "      <th class=\"index_name level0\" >Outcome</th>\n",
       "      <th id=\"T_7f16c_level0_col0\" class=\"col_heading level0 col0\" >0</th>\n",
       "      <th id=\"T_7f16c_level0_col1\" class=\"col_heading level0 col1\" >1</th>\n",
       "    </tr>\n",
       "  </thead>\n",
       "  <tbody>\n",
       "    <tr>\n",
       "      <th id=\"T_7f16c_level0_row0\" class=\"row_heading level0 row0\" rowspan=\"5\">Glucose</th>\n",
       "      <th id=\"T_7f16c_level1_row0\" class=\"row_heading level1 row0\" >mean</th>\n",
       "      <td id=\"T_7f16c_row0_col0\" class=\"data row0 col0\" >109.98</td>\n",
       "      <td id=\"T_7f16c_row0_col1\" class=\"data row0 col1\" >141.26</td>\n",
       "    </tr>\n",
       "    <tr>\n",
       "      <th id=\"T_7f16c_level1_row1\" class=\"row_heading level1 row1\" >std</th>\n",
       "      <td id=\"T_7f16c_row1_col0\" class=\"data row1 col0\" >26.14</td>\n",
       "      <td id=\"T_7f16c_row1_col1\" class=\"data row1 col1\" >31.94</td>\n",
       "    </tr>\n",
       "    <tr>\n",
       "      <th id=\"T_7f16c_level1_row2\" class=\"row_heading level1 row2\" >median</th>\n",
       "      <td id=\"T_7f16c_row2_col0\" class=\"data row2 col0\" >107.00</td>\n",
       "      <td id=\"T_7f16c_row2_col1\" class=\"data row2 col1\" >140.00</td>\n",
       "    </tr>\n",
       "    <tr>\n",
       "      <th id=\"T_7f16c_level1_row3\" class=\"row_heading level1 row3\" >min</th>\n",
       "      <td id=\"T_7f16c_row3_col0\" class=\"data row3 col0\" >0.00</td>\n",
       "      <td id=\"T_7f16c_row3_col1\" class=\"data row3 col1\" >0.00</td>\n",
       "    </tr>\n",
       "    <tr>\n",
       "      <th id=\"T_7f16c_level1_row4\" class=\"row_heading level1 row4\" >max</th>\n",
       "      <td id=\"T_7f16c_row4_col0\" class=\"data row4 col0\" >197.00</td>\n",
       "      <td id=\"T_7f16c_row4_col1\" class=\"data row4 col1\" >199.00</td>\n",
       "    </tr>\n",
       "  </tbody>\n",
       "</table>\n"
      ]
     },
     "execution_count": 31,
     "metadata": {},
     "output_type": "execute_result"
    }
   ],
   "execution_count": 31
  },
  {
   "metadata": {
    "ExecuteTime": {
     "end_time": "2024-03-26T23:56:51.609139Z",
     "start_time": "2024-03-26T23:56:51.596011Z"
    }
   },
   "cell_type": "code",
   "source": "diabetes.groupby('Outcome').agg({'Glucose': ['mean', 'std', 'median', 'min', 'max']}).T.style.format('{:.2f}').background_gradient(cmap='coolwarm', axis=0)",
   "id": "3e336d31bc1e4c73",
   "outputs": [
    {
     "data": {
      "text/plain": [
       "<pandas.io.formats.style.Styler at 0x79e7142d8a30>"
      ],
      "text/html": [
       "<style type=\"text/css\">\n",
       "#T_4ac08_row0_col0 {\n",
       "  background-color: #ead4c8;\n",
       "  color: #000000;\n",
       "}\n",
       "#T_4ac08_row0_col1 {\n",
       "  background-color: #f7a98b;\n",
       "  color: #000000;\n",
       "}\n",
       "#T_4ac08_row1_col0 {\n",
       "  background-color: #6384eb;\n",
       "  color: #f1f1f1;\n",
       "}\n",
       "#T_4ac08_row1_col1 {\n",
       "  background-color: #6e90f2;\n",
       "  color: #f1f1f1;\n",
       "}\n",
       "#T_4ac08_row2_col0 {\n",
       "  background-color: #e8d6cc;\n",
       "  color: #000000;\n",
       "}\n",
       "#T_4ac08_row2_col1 {\n",
       "  background-color: #f7aa8c;\n",
       "  color: #000000;\n",
       "}\n",
       "#T_4ac08_row3_col0, #T_4ac08_row3_col1 {\n",
       "  background-color: #3b4cc0;\n",
       "  color: #f1f1f1;\n",
       "}\n",
       "#T_4ac08_row4_col0, #T_4ac08_row4_col1 {\n",
       "  background-color: #b40426;\n",
       "  color: #f1f1f1;\n",
       "}\n",
       "</style>\n",
       "<table id=\"T_4ac08\">\n",
       "  <thead>\n",
       "    <tr>\n",
       "      <th class=\"blank\" >&nbsp;</th>\n",
       "      <th class=\"index_name level0\" >Outcome</th>\n",
       "      <th id=\"T_4ac08_level0_col0\" class=\"col_heading level0 col0\" >0</th>\n",
       "      <th id=\"T_4ac08_level0_col1\" class=\"col_heading level0 col1\" >1</th>\n",
       "    </tr>\n",
       "  </thead>\n",
       "  <tbody>\n",
       "    <tr>\n",
       "      <th id=\"T_4ac08_level0_row0\" class=\"row_heading level0 row0\" rowspan=\"5\">Glucose</th>\n",
       "      <th id=\"T_4ac08_level1_row0\" class=\"row_heading level1 row0\" >mean</th>\n",
       "      <td id=\"T_4ac08_row0_col0\" class=\"data row0 col0\" >109.98</td>\n",
       "      <td id=\"T_4ac08_row0_col1\" class=\"data row0 col1\" >141.26</td>\n",
       "    </tr>\n",
       "    <tr>\n",
       "      <th id=\"T_4ac08_level1_row1\" class=\"row_heading level1 row1\" >std</th>\n",
       "      <td id=\"T_4ac08_row1_col0\" class=\"data row1 col0\" >26.14</td>\n",
       "      <td id=\"T_4ac08_row1_col1\" class=\"data row1 col1\" >31.94</td>\n",
       "    </tr>\n",
       "    <tr>\n",
       "      <th id=\"T_4ac08_level1_row2\" class=\"row_heading level1 row2\" >median</th>\n",
       "      <td id=\"T_4ac08_row2_col0\" class=\"data row2 col0\" >107.00</td>\n",
       "      <td id=\"T_4ac08_row2_col1\" class=\"data row2 col1\" >140.00</td>\n",
       "    </tr>\n",
       "    <tr>\n",
       "      <th id=\"T_4ac08_level1_row3\" class=\"row_heading level1 row3\" >min</th>\n",
       "      <td id=\"T_4ac08_row3_col0\" class=\"data row3 col0\" >0.00</td>\n",
       "      <td id=\"T_4ac08_row3_col1\" class=\"data row3 col1\" >0.00</td>\n",
       "    </tr>\n",
       "    <tr>\n",
       "      <th id=\"T_4ac08_level1_row4\" class=\"row_heading level1 row4\" >max</th>\n",
       "      <td id=\"T_4ac08_row4_col0\" class=\"data row4 col0\" >197.00</td>\n",
       "      <td id=\"T_4ac08_row4_col1\" class=\"data row4 col1\" >199.00</td>\n",
       "    </tr>\n",
       "  </tbody>\n",
       "</table>\n"
      ]
     },
     "execution_count": 34,
     "metadata": {},
     "output_type": "execute_result"
    }
   ],
   "execution_count": 34
  },
  {
   "metadata": {},
   "cell_type": "markdown",
   "source": "# Estadística descriptiva multivariadaa",
   "id": "97114ea911207870"
  },
  {
   "metadata": {},
   "cell_type": "markdown",
   "source": [
    "La estadística descriptiva multivariada es el estudio de dos o más variables simultáneamente. La estadística descriptiva multivariada se utiliza para resumir y describir las relaciones entre dos o más variables. Algunas técnicas comunes de estadística descriptiva multivariada incluyen:\n",
    "  * Análisis de correlación\n",
    "  * Análisis de regresión\n",
    "  * Análisis de componentes principales\n",
    "  * Análisis de conglomerados\n",
    "  * Análisis de discriminante\n",
    "  * Análisis de factores\n",
    "  * Análisis de correspondencia\n",
    "  * Análisis de escalas multidimensionales\n",
    "  * Análisis de trayectoria\n",
    "  * Análisis de series temporales\n",
    "  * Análisis de supervivencia\n",
    "  * Análisis de varianza multivariante\n",
    "  * Análisis de regresión multivariante\n",
    "  * Análisis de covarianza multivariante\n",
    "  * Análisis de conglomerados multivariante\n",
    "  * Análisis de correspondencia multivariante\n",
    "  * Análisis de escalas multidimensionales multivariante\n",
    "  * Análisis de trayectoria multivariante\n",
    "  * Análisis de series temporales multivariante\n",
    "  * Análisis de supervivencia multivariante\n",
    "  * Análisis de varianza multivariante multivariante\n",
    "  * Análisis de regresión multivariante multivariante\n",
    "  * Análisis de covarianza multivariante multivariante\n",
    "  * Análisis de conglomerados multivariante multivariante\n",
    "  * Análisis de correspondencia multivariante multivariante\n",
    "  * Análisis de escalas multidimensionales multivariante multivariante\n",
    "  * Análisis de trayectoria multivariante multivariante\n",
    "  * Análisis de series temporales multivariante multivariante\n",
    "  * Análisis de supervivencia multivariante multivariante\n",
    "  * Análisis de varianza multivariante multivariante multivariante\n",
    "  * Análisis de regresión multivariante multivariante multivariante"
   ],
   "id": "1de3fef9bb151f09"
  },
  {
   "metadata": {},
   "cell_type": "markdown",
   "source": "## Análisis de conglomerados",
   "id": "7c2c0c051071b7e3"
  },
  {
   "metadata": {},
   "cell_type": "markdown",
   "source": [
    "El análisis de conglomerados es una técnica de estadística descriptiva multivariada que se utiliza para agrupar observaciones en grupos o conglomerados. Los grupos se forman de tal manera que las observaciones dentro de un grupo son más similares entre sí que con las observaciones en otros grupos. El análisis de conglomerados se utiliza para identificar patrones en los datos y para explorar la estructura de los datos. Algunas aplicaciones comunes del análisis de conglomerados incluyen:\n",
    "  * Segmentación de mercado\n",
    "  * Análisis de redes sociales\n",
    "  * Análisis de texto\n",
    "  * Análisis de imágenes\n",
    "  * Análisis de genómica"
   ],
   "id": "de20006176045963"
  },
  {
   "metadata": {},
   "cell_type": "markdown",
   "source": "### Cluster jerárquico",
   "id": "9047d554a99dee"
  },
  {
   "metadata": {},
   "cell_type": "markdown",
   "source": [
    "El análisis de conglomerados jerárquico es una técnica de análisis de conglomerados que se utiliza para agrupar observaciones en grupos o conglomerados de manera jerárquica. Los grupos se forman de tal manera que las observaciones dentro de un grupo son más similares entre sí que con las observaciones en otros grupos. El análisis de conglomerados jerárquico se utiliza para identificar patrones en los datos y para explorar la estructura de los datos. Algunas aplicaciones comunes del análisis de conglomerados jerárquico incluyen:\n",
    "  * Segmentación de mercado\n",
    "  * Análisis de redes sociales\n",
    "  * Análisis de texto\n",
    "  * Análisis de imágenes\n",
    "  * Análisis de genómica"
   ],
   "id": "d94b066106615c7c"
  },
  {
   "metadata": {
    "ExecuteTime": {
     "end_time": "2024-03-27T00:01:37.164204Z",
     "start_time": "2024-03-27T00:01:37.161253Z"
    }
   },
   "cell_type": "code",
   "source": "from scipy.cluster.hierarchy import linkage, dendrogram",
   "id": "3a18c9b6a06984e6",
   "outputs": [],
   "execution_count": 36
  },
  {
   "metadata": {
    "ExecuteTime": {
     "end_time": "2024-03-27T00:01:42.160970Z",
     "start_time": "2024-03-27T00:01:42.138219Z"
    }
   },
   "cell_type": "code",
   "source": "Z = linkage(diabetes[['Glucose', 'BloodPressure', 'SkinThickness', 'Insulin', 'BMI']], 'ward')",
   "id": "e83c9a39dd6a6b3",
   "outputs": [],
   "execution_count": 37
  },
  {
   "metadata": {
    "ExecuteTime": {
     "end_time": "2024-03-27T00:02:42.636418Z",
     "start_time": "2024-03-27T00:02:37.020192Z"
    }
   },
   "cell_type": "code",
   "source": [
    "plt.figure(figsize=(25, 10))\n",
    "dendrogram(Z)\n",
    "plt.show()"
   ],
   "id": "7933c090bbfffd9f",
   "outputs": [
    {
     "data": {
      "text/plain": [
       "<Figure size 2500x1000 with 1 Axes>"
      ],
      "image/png": "[encoded data removed]"
     },
     "metadata": {},
     "output_type": "display_data"
    }
   ],
   "execution_count": 44
  },
  {
   "metadata": {},
   "cell_type": "code",
   "outputs": [],
   "execution_count": null,
   "source": "",
   "id": "f83d2c1051cf3e7b"
  }
 ],
 "metadata": {
  "kernelspec": {
   "display_name": "Python 3",
   "language": "python",
   "name": "python3"
  },
  "language_info": {
   "codemirror_mode": {
    "name": "ipython",
    "version": 2
   },
   "file_extension": ".py",
   "mimetype": "text/x-python",
   "name": "python",
   "nbconvert_exporter": "python",
   "pygments_lexer": "ipython2",
   "version": "2.7.6"
  }
 },
 "nbformat": 4,
 "nbformat_minor": 5
}
