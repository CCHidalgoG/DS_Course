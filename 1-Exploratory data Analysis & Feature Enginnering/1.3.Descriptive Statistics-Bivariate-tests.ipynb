{
 "cells": [
  {
   "metadata": {},
   "cell_type": "markdown",
   "source": "# Tests estadísticos",
   "id": "102c9711fcc9e5ee"
  },
  {
   "metadata": {},
   "cell_type": "markdown",
   "source": "## Test de normalidad",
   "id": "97c86f1353bfdce6"
  },
  {
   "metadata": {},
   "cell_type": "markdown",
   "source": [
    "Los test de normalidad son una serie de técnicas estadísticas que se utilizan para determinar si una muestra de datos se ajusta a una distribución normal. Existen varios test de normalidad, entre los más comunes se encuentran:\n",
    "  * Test de Shapiro-Wilk\n",
    "  * Test de Kolmogorov-Smirnov\n",
    "  * Test de Lilliefors\n",
    "  * Test de Anderson-Darling\n"
   ],
   "id": "d43580ad68b97021"
  },
  {
   "metadata": {
    "ExecuteTime": {
     "end_time": "2024-03-23T14:19:37.498653Z",
     "start_time": "2024-03-23T14:19:37.495281Z"
    }
   },
   "cell_type": "code",
   "source": [
    "import numpy as np\n",
    "import pandas as pd\n",
    "import matplotlib.pyplot as plt\n",
    "import seaborn as sns\n",
    "from scipy import stats"
   ],
   "id": "ca2f62d53fbe83d",
   "outputs": [],
   "execution_count": 1
  },
  {
   "metadata": {
    "ExecuteTime": {
     "end_time": "2024-03-23T14:19:58.255998Z",
     "start_time": "2024-03-23T14:19:58.250282Z"
    }
   },
   "cell_type": "code",
   "source": "diabetes = pd.read_csv('Diabetes.csv')",
   "id": "f33f71ba23022324",
   "outputs": [],
   "execution_count": 3
  },
  {
   "metadata": {
    "ExecuteTime": {
     "end_time": "2024-03-23T14:20:01.028477Z",
     "start_time": "2024-03-23T14:20:01.014287Z"
    }
   },
   "cell_type": "code",
   "source": "diabetes.head()",
   "id": "eb2684e19e8fa080",
   "outputs": [
    {
     "data": {
      "text/plain": [
       "   Pregnancies  Glucose  BloodPressure  SkinThickness  Insulin   BMI  \\\n",
       "0            6      148             72             35        0  33.6   \n",
       "1            1       85             66             29        0  26.6   \n",
       "2            8      183             64              0        0  23.3   \n",
       "3            1       89             66             23       94  28.1   \n",
       "4            0      137             40             35      168  43.1   \n",
       "\n",
       "   DiabetesPedigreeFunction  Age  Outcome  \n",
       "0                     0.627   50        1  \n",
       "1                     0.351   31        0  \n",
       "2                     0.672   32        1  \n",
       "3                     0.167   21        0  \n",
       "4                     2.288   33        1  "
      ],
      "text/html": [
       "<div>\n",
       "<style scoped>\n",
       "    .dataframe tbody tr th:only-of-type {\n",
       "        vertical-align: middle;\n",
       "    }\n",
       "\n",
       "    .dataframe tbody tr th {\n",
       "        vertical-align: top;\n",
       "    }\n",
       "\n",
       "    .dataframe thead th {\n",
       "        text-align: right;\n",
       "    }\n",
       "</style>\n",
       "<table border=\"1\" class=\"dataframe\">\n",
       "  <thead>\n",
       "    <tr style=\"text-align: right;\">\n",
       "      <th></th>\n",
       "      <th>Pregnancies</th>\n",
       "      <th>Glucose</th>\n",
       "      <th>BloodPressure</th>\n",
       "      <th>SkinThickness</th>\n",
       "      <th>Insulin</th>\n",
       "      <th>BMI</th>\n",
       "      <th>DiabetesPedigreeFunction</th>\n",
       "      <th>Age</th>\n",
       "      <th>Outcome</th>\n",
       "    </tr>\n",
       "  </thead>\n",
       "  <tbody>\n",
       "    <tr>\n",
       "      <th>0</th>\n",
       "      <td>6</td>\n",
       "      <td>148</td>\n",
       "      <td>72</td>\n",
       "      <td>35</td>\n",
       "      <td>0</td>\n",
       "      <td>33.6</td>\n",
       "      <td>0.627</td>\n",
       "      <td>50</td>\n",
       "      <td>1</td>\n",
       "    </tr>\n",
       "    <tr>\n",
       "      <th>1</th>\n",
       "      <td>1</td>\n",
       "      <td>85</td>\n",
       "      <td>66</td>\n",
       "      <td>29</td>\n",
       "      <td>0</td>\n",
       "      <td>26.6</td>\n",
       "      <td>0.351</td>\n",
       "      <td>31</td>\n",
       "      <td>0</td>\n",
       "    </tr>\n",
       "    <tr>\n",
       "      <th>2</th>\n",
       "      <td>8</td>\n",
       "      <td>183</td>\n",
       "      <td>64</td>\n",
       "      <td>0</td>\n",
       "      <td>0</td>\n",
       "      <td>23.3</td>\n",
       "      <td>0.672</td>\n",
       "      <td>32</td>\n",
       "      <td>1</td>\n",
       "    </tr>\n",
       "    <tr>\n",
       "      <th>3</th>\n",
       "      <td>1</td>\n",
       "      <td>89</td>\n",
       "      <td>66</td>\n",
       "      <td>23</td>\n",
       "      <td>94</td>\n",
       "      <td>28.1</td>\n",
       "      <td>0.167</td>\n",
       "      <td>21</td>\n",
       "      <td>0</td>\n",
       "    </tr>\n",
       "    <tr>\n",
       "      <th>4</th>\n",
       "      <td>0</td>\n",
       "      <td>137</td>\n",
       "      <td>40</td>\n",
       "      <td>35</td>\n",
       "      <td>168</td>\n",
       "      <td>43.1</td>\n",
       "      <td>2.288</td>\n",
       "      <td>33</td>\n",
       "      <td>1</td>\n",
       "    </tr>\n",
       "  </tbody>\n",
       "</table>\n",
       "</div>"
      ]
     },
     "execution_count": 4,
     "metadata": {},
     "output_type": "execute_result"
    }
   ],
   "execution_count": 4
  },
  {
   "metadata": {},
   "cell_type": "markdown",
   "source": "Realizamos una prueba de normalidad para la variable 'Glucose' utilizando el test de Shapiro-Wilk.",
   "id": "764f33926548dbf8"
  },
  {
   "metadata": {
    "ExecuteTime": {
     "end_time": "2024-03-23T14:20:27.419962Z",
     "start_time": "2024-03-23T14:20:27.413202Z"
    }
   },
   "cell_type": "code",
   "source": "stats.shapiro(diabetes['Glucose'])",
   "id": "b88799dcbf678a5",
   "outputs": [
    {
     "data": {
      "text/plain": [
       "ShapiroResult(statistic=0.9701038379391942, pvalue=1.9863474999979633e-11)"
      ]
     },
     "execution_count": 5,
     "metadata": {},
     "output_type": "execute_result"
    }
   ],
   "execution_count": 5
  },
  {
   "metadata": {
    "ExecuteTime": {
     "end_time": "2024-03-23T14:20:37.413367Z",
     "start_time": "2024-03-23T14:20:37.404879Z"
    }
   },
   "cell_type": "code",
   "source": "stats.shapiro(diabetes['Glucose'])[1] < 0.05",
   "id": "ad45a2d2072b01b7",
   "outputs": [
    {
     "data": {
      "text/plain": [
       "True"
      ]
     },
     "execution_count": 6,
     "metadata": {},
     "output_type": "execute_result"
    }
   ],
   "execution_count": 6
  },
  {
   "metadata": {},
   "cell_type": "markdown",
   "source": "Realizamos el test de lilliefors para la variable 'Glucose'.",
   "id": "193ae67517fda0a8"
  },
  {
   "metadata": {
    "ExecuteTime": {
     "end_time": "2024-03-23T14:53:41.782840Z",
     "start_time": "2024-03-23T14:53:41.759682Z"
    }
   },
   "cell_type": "code",
   "source": "from statsmodels.stats.diagnostic import lilliefors",
   "id": "adba0c8c0ee55795",
   "outputs": [],
   "execution_count": 8
  },
  {
   "metadata": {
    "ExecuteTime": {
     "end_time": "2024-03-23T14:53:42.807424Z",
     "start_time": "2024-03-23T14:53:42.802240Z"
    }
   },
   "cell_type": "code",
   "source": [
    "# Perform the Lilliefors test\n",
    "statistic, p_value = lilliefors(diabetes['Glucose'])\n",
    "\n",
    "print(f'Statistic: {statistic}')\n",
    "print(f'p-value: {p_value}')"
   ],
   "id": "e163cf67c1db35fe",
   "outputs": [
    {
     "name": "stdout",
     "output_type": "stream",
     "text": [
      "Statistic: 0.06399847607594411\n",
      "p-value: 0.0009999999999998899\n"
     ]
    }
   ],
   "execution_count": 9
  },
  {
   "metadata": {},
   "cell_type": "markdown",
   "source": "## Test para dos variables numéricas",
   "id": "7ab0d1849be34e8"
  },
  {
   "metadata": {},
   "cell_type": "markdown",
   "source": [
    "Para comparar dos variables numéricas se pueden utilizar los siguientes test:\n",
    "  * Test de correlación de Pearson: Este test mide la fuerza de la relación lineal entre dos variables continuas.\n",
    "  * Test de correlación de Spearman: Este test mide la fuerza de la relación entre dos variables continuas, sin asumir que la relación es lineal.\n",
    "  * Test de correlación de Kendall: Este test mide la fuerza de la relación entre dos variables continuas, sin asumir que la relación es lineal.\n",
    "  * Test de correlación de Point-Biserial: Este test mide la relación entre una variable continua y una variable dicotómica.\n",
    "  * Test de correlación de Biserial: Este test mide la relación entre una variable continua y una variable dicotómica.\n",
    "  * Test de correlación de Tau de Kendall: Este test mide la relación entre dos variables ordinales.\n",
    "  * Test de correlación de Tau de Somers: Este test mide la relación entre dos variables ordinales.\n",
    "  * Test de correlación de Tau de Goodman y Kruskal: Este test mide la relación entre dos variables ordinales.\n",
    "\n",
    "La prueba de hipótesis de un test de correlación se utiliza para determinar si existe una relación significativa entre dos variables. Aquí están las hipótesis para un test de correlación:  \n",
    "Hipótesis nula (H0): No existe una relación significativa entre las dos variables. En términos de correlación, esto significa que la correlación es igual a 0.\n",
    "Hipótesis alternativa (H1): Existe una relación significativa entre las dos variables. En términos de correlación, esto significa que la correlación es diferente de 0.\n",
    "Para realizar la prueba de hipótesis, se calcula un valor p a partir de los datos. Si el valor p es menor que el nivel de significancia (generalmente 0.05), entonces se rechaza la hipótesis nula y se concluye que existe una relación significativa entre las dos variables. Si el valor p es mayor que el nivel de significancia, entonces no se puede rechazar la hipótesis nula y se concluye que no existe una relación significativa entre las dos variables.\n",
    "\n",
    "La forma matemática de la correlación de Pearson es la siguiente:\n",
    "\n",
    "$$r = \\frac{\\sum (X_i - \\bar{X})(Y_i - \\bar{Y})}{\\sqrt{\\sum (X_i - \\bar{X})^2 \\sum (Y_i - \\bar{Y})^2}}$$\n",
    "\n",
    "La forma matemática de la correlación de Spearman es la siguiente:\n",
    "\n",
    "$$r_s = 1 - \\frac{6 \\sum d_i^2}{n(n^2 - 1)}$$"
   ],
   "id": "33da59fdb5ddbb5e"
  },
  {
   "metadata": {},
   "cell_type": "markdown",
   "source": [
    "Para calcular estos test se debe primero hallar la matriz de correlación. Para ello se puede utilizar el método `corr` de pandas. Luego se puede utilizar el método `corr` de scipy para calcular el test de correlación.\n",
    "\n",
    "Donde $d_i$ es la diferencia entre los rangos de las dos variables para la i-ésima observación y n es el número de observaciones."
   ],
   "id": "93477734a32d2adf"
  },
  {
   "metadata": {
    "ExecuteTime": {
     "end_time": "2024-03-23T14:56:14.092383Z",
     "start_time": "2024-03-23T14:56:14.080441Z"
    }
   },
   "cell_type": "code",
   "source": "diabetes.corr()",
   "id": "a8ac18fe294eb370",
   "outputs": [
    {
     "data": {
      "text/plain": [
       "                          Pregnancies   Glucose  BloodPressure  SkinThickness  \\\n",
       "Pregnancies                  1.000000  0.129459       0.141282      -0.081672   \n",
       "Glucose                      0.129459  1.000000       0.152590       0.057328   \n",
       "BloodPressure                0.141282  0.152590       1.000000       0.207371   \n",
       "SkinThickness               -0.081672  0.057328       0.207371       1.000000   \n",
       "Insulin                     -0.073535  0.331357       0.088933       0.436783   \n",
       "BMI                          0.017683  0.221071       0.281805       0.392573   \n",
       "DiabetesPedigreeFunction    -0.033523  0.137337       0.041265       0.183928   \n",
       "Age                          0.544341  0.263514       0.239528      -0.113970   \n",
       "Outcome                      0.221898  0.466581       0.065068       0.074752   \n",
       "\n",
       "                           Insulin       BMI  DiabetesPedigreeFunction  \\\n",
       "Pregnancies              -0.073535  0.017683                 -0.033523   \n",
       "Glucose                   0.331357  0.221071                  0.137337   \n",
       "BloodPressure             0.088933  0.281805                  0.041265   \n",
       "SkinThickness             0.436783  0.392573                  0.183928   \n",
       "Insulin                   1.000000  0.197859                  0.185071   \n",
       "BMI                       0.197859  1.000000                  0.140647   \n",
       "DiabetesPedigreeFunction  0.185071  0.140647                  1.000000   \n",
       "Age                      -0.042163  0.036242                  0.033561   \n",
       "Outcome                   0.130548  0.292695                  0.173844   \n",
       "\n",
       "                               Age   Outcome  \n",
       "Pregnancies               0.544341  0.221898  \n",
       "Glucose                   0.263514  0.466581  \n",
       "BloodPressure             0.239528  0.065068  \n",
       "SkinThickness            -0.113970  0.074752  \n",
       "Insulin                  -0.042163  0.130548  \n",
       "BMI                       0.036242  0.292695  \n",
       "DiabetesPedigreeFunction  0.033561  0.173844  \n",
       "Age                       1.000000  0.238356  \n",
       "Outcome                   0.238356  1.000000  "
      ],
      "text/html": [
       "<div>\n",
       "<style scoped>\n",
       "    .dataframe tbody tr th:only-of-type {\n",
       "        vertical-align: middle;\n",
       "    }\n",
       "\n",
       "    .dataframe tbody tr th {\n",
       "        vertical-align: top;\n",
       "    }\n",
       "\n",
       "    .dataframe thead th {\n",
       "        text-align: right;\n",
       "    }\n",
       "</style>\n",
       "<table border=\"1\" class=\"dataframe\">\n",
       "  <thead>\n",
       "    <tr style=\"text-align: right;\">\n",
       "      <th></th>\n",
       "      <th>Pregnancies</th>\n",
       "      <th>Glucose</th>\n",
       "      <th>BloodPressure</th>\n",
       "      <th>SkinThickness</th>\n",
       "      <th>Insulin</th>\n",
       "      <th>BMI</th>\n",
       "      <th>DiabetesPedigreeFunction</th>\n",
       "      <th>Age</th>\n",
       "      <th>Outcome</th>\n",
       "    </tr>\n",
       "  </thead>\n",
       "  <tbody>\n",
       "    <tr>\n",
       "      <th>Pregnancies</th>\n",
       "      <td>1.000000</td>\n",
       "      <td>0.129459</td>\n",
       "      <td>0.141282</td>\n",
       "      <td>-0.081672</td>\n",
       "      <td>-0.073535</td>\n",
       "      <td>0.017683</td>\n",
       "      <td>-0.033523</td>\n",
       "      <td>0.544341</td>\n",
       "      <td>0.221898</td>\n",
       "    </tr>\n",
       "    <tr>\n",
       "      <th>Glucose</th>\n",
       "      <td>0.129459</td>\n",
       "      <td>1.000000</td>\n",
       "      <td>0.152590</td>\n",
       "      <td>0.057328</td>\n",
       "      <td>0.331357</td>\n",
       "      <td>0.221071</td>\n",
       "      <td>0.137337</td>\n",
       "      <td>0.263514</td>\n",
       "      <td>0.466581</td>\n",
       "    </tr>\n",
       "    <tr>\n",
       "      <th>BloodPressure</th>\n",
       "      <td>0.141282</td>\n",
       "      <td>0.152590</td>\n",
       "      <td>1.000000</td>\n",
       "      <td>0.207371</td>\n",
       "      <td>0.088933</td>\n",
       "      <td>0.281805</td>\n",
       "      <td>0.041265</td>\n",
       "      <td>0.239528</td>\n",
       "      <td>0.065068</td>\n",
       "    </tr>\n",
       "    <tr>\n",
       "      <th>SkinThickness</th>\n",
       "      <td>-0.081672</td>\n",
       "      <td>0.057328</td>\n",
       "      <td>0.207371</td>\n",
       "      <td>1.000000</td>\n",
       "      <td>0.436783</td>\n",
       "      <td>0.392573</td>\n",
       "      <td>0.183928</td>\n",
       "      <td>-0.113970</td>\n",
       "      <td>0.074752</td>\n",
       "    </tr>\n",
       "    <tr>\n",
       "      <th>Insulin</th>\n",
       "      <td>-0.073535</td>\n",
       "      <td>0.331357</td>\n",
       "      <td>0.088933</td>\n",
       "      <td>0.436783</td>\n",
       "      <td>1.000000</td>\n",
       "      <td>0.197859</td>\n",
       "      <td>0.185071</td>\n",
       "      <td>-0.042163</td>\n",
       "      <td>0.130548</td>\n",
       "    </tr>\n",
       "    <tr>\n",
       "      <th>BMI</th>\n",
       "      <td>0.017683</td>\n",
       "      <td>0.221071</td>\n",
       "      <td>0.281805</td>\n",
       "      <td>0.392573</td>\n",
       "      <td>0.197859</td>\n",
       "      <td>1.000000</td>\n",
       "      <td>0.140647</td>\n",
       "      <td>0.036242</td>\n",
       "      <td>0.292695</td>\n",
       "    </tr>\n",
       "    <tr>\n",
       "      <th>DiabetesPedigreeFunction</th>\n",
       "      <td>-0.033523</td>\n",
       "      <td>0.137337</td>\n",
       "      <td>0.041265</td>\n",
       "      <td>0.183928</td>\n",
       "      <td>0.185071</td>\n",
       "      <td>0.140647</td>\n",
       "      <td>1.000000</td>\n",
       "      <td>0.033561</td>\n",
       "      <td>0.173844</td>\n",
       "    </tr>\n",
       "    <tr>\n",
       "      <th>Age</th>\n",
       "      <td>0.544341</td>\n",
       "      <td>0.263514</td>\n",
       "      <td>0.239528</td>\n",
       "      <td>-0.113970</td>\n",
       "      <td>-0.042163</td>\n",
       "      <td>0.036242</td>\n",
       "      <td>0.033561</td>\n",
       "      <td>1.000000</td>\n",
       "      <td>0.238356</td>\n",
       "    </tr>\n",
       "    <tr>\n",
       "      <th>Outcome</th>\n",
       "      <td>0.221898</td>\n",
       "      <td>0.466581</td>\n",
       "      <td>0.065068</td>\n",
       "      <td>0.074752</td>\n",
       "      <td>0.130548</td>\n",
       "      <td>0.292695</td>\n",
       "      <td>0.173844</td>\n",
       "      <td>0.238356</td>\n",
       "      <td>1.000000</td>\n",
       "    </tr>\n",
       "  </tbody>\n",
       "</table>\n",
       "</div>"
      ]
     },
     "execution_count": 11,
     "metadata": {},
     "output_type": "execute_result"
    }
   ],
   "execution_count": 11
  },
  {
   "metadata": {
    "ExecuteTime": {
     "end_time": "2024-03-23T14:56:23.184083Z",
     "start_time": "2024-03-23T14:56:23.176647Z"
    }
   },
   "cell_type": "code",
   "source": "stats.pearsonr(diabetes['Glucose'], diabetes['BloodPressure'])",
   "id": "81e1be8ba462139e",
   "outputs": [
    {
     "data": {
      "text/plain": [
       "PearsonRResult(statistic=0.15258958656866445, pvalue=2.169507153023399e-05)"
      ]
     },
     "execution_count": 12,
     "metadata": {},
     "output_type": "execute_result"
    }
   ],
   "execution_count": 12
  },
  {
   "metadata": {
    "ExecuteTime": {
     "end_time": "2024-03-23T14:56:33.703217Z",
     "start_time": "2024-03-23T14:56:33.696469Z"
    }
   },
   "cell_type": "code",
   "source": "stats.spearmanr(diabetes['Glucose'], diabetes['BloodPressure'])",
   "id": "4e098d80e45adc8e",
   "outputs": [
    {
     "data": {
      "text/plain": [
       "SignificanceResult(statistic=0.23519061347818354, pvalue=4.1123062430199575e-11)"
      ]
     },
     "execution_count": 13,
     "metadata": {},
     "output_type": "execute_result"
    }
   ],
   "execution_count": 13
  },
  {
   "metadata": {
    "ExecuteTime": {
     "end_time": "2024-03-23T15:02:12.632546Z",
     "start_time": "2024-03-23T15:02:12.358826Z"
    }
   },
   "cell_type": "code",
   "source": [
    "sns.scatterplot(x='Glucose', y='BloodPressure', data=diabetes)\n",
    "plt.show()"
   ],
   "id": "c16608a538ecae50",
   "outputs": [
    {
     "data": {
      "text/plain": [
       "<Figure size 640x480 with 1 Axes>"
      ],
      "image/png": "[encoded data removed]"
     },
     "metadata": {},
     "output_type": "display_data"
    }
   ],
   "execution_count": 15
  },
  {
   "metadata": {},
   "cell_type": "code",
   "outputs": [],
   "execution_count": null,
   "source": "",
   "id": "cf42e18fef45dcbb"
  }
 ],
 "metadata": {
  "kernelspec": {
   "display_name": "Python 3",
   "language": "python",
   "name": "python3"
  },
  "language_info": {
   "codemirror_mode": {
    "name": "ipython",
    "version": 2
   },
   "file_extension": ".py",
   "mimetype": "text/x-python",
   "name": "python",
   "nbconvert_exporter": "python",
   "pygments_lexer": "ipython2",
   "version": "2.7.6"
  }
 },
 "nbformat": 4,
 "nbformat_minor": 5
}
