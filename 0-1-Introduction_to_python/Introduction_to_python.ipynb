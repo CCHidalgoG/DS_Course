{
 "cells": [
  {
   "metadata": {},
   "cell_type": "markdown",
   "source": "# Listas",
   "id": "4479ac943defbb8a"
  },
  {
   "metadata": {
    "ExecuteTime": {
     "end_time": "2024-03-15T01:43:58.441832Z",
     "start_time": "2024-03-15T01:43:58.437326Z"
    }
   },
   "cell_type": "code",
   "source": [
    "import pandas as pd\n",
    "\n",
    "a = [1,2,3,4,5, 5, 5, 5]\n",
    "b = (1, 2, 3, 4, 5)"
   ],
   "id": "8524aad515c3397c",
   "outputs": [],
   "execution_count": 35
  },
  {
   "metadata": {
    "ExecuteTime": {
     "end_time": "2024-03-15T01:41:55.166671Z",
     "start_time": "2024-03-15T01:41:55.160382Z"
    }
   },
   "cell_type": "code",
   "source": "# a.sort(reverse=True)",
   "id": "acfe88ffa8af094c",
   "outputs": [],
   "execution_count": 28
  },
  {
   "metadata": {
    "ExecuteTime": {
     "end_time": "2024-03-15T01:41:55.440629Z",
     "start_time": "2024-03-15T01:41:55.436967Z"
    }
   },
   "cell_type": "code",
   "source": "lista_atend = []",
   "id": "17530322ace36724",
   "outputs": [],
   "execution_count": 29
  },
  {
   "metadata": {
    "ExecuteTime": {
     "end_time": "2024-03-15T01:41:55.793019Z",
     "start_time": "2024-03-15T01:41:55.789646Z"
    }
   },
   "cell_type": "code",
   "source": [
    "b = a.copy()\n",
    "for cliente in range(len(a)):\n",
    "    tmp = b.pop()\n",
    "    lista_atend.append(tmp)"
   ],
   "id": "553dfb384b2e2a3d",
   "outputs": [],
   "execution_count": 30
  },
  {
   "metadata": {
    "ExecuteTime": {
     "end_time": "2024-03-15T01:41:56.213171Z",
     "start_time": "2024-03-15T01:41:56.207773Z"
    }
   },
   "cell_type": "code",
   "source": "lista_atend",
   "id": "5e0222bbd7d4a49c",
   "outputs": [
    {
     "data": {
      "text/plain": [
       "[5, 4, 3, 2, 1]"
      ]
     },
     "execution_count": 31,
     "metadata": {},
     "output_type": "execute_result"
    }
   ],
   "execution_count": 31
  },
  {
   "metadata": {
    "ExecuteTime": {
     "end_time": "2024-03-15T01:42:44.884825Z",
     "start_time": "2024-03-15T01:42:44.875880Z"
    }
   },
   "cell_type": "code",
   "source": "pd.DataFrame({'Col A': [1, 2, 3], 'Col B': [4, 5, 6], 'ColC': 'Unico'})",
   "id": "621e4eff515edd9c",
   "outputs": [
    {
     "data": {
      "text/plain": [
       "   Col A  Col B   ColC\n",
       "0      1      4  Unico\n",
       "1      2      5  Unico\n",
       "2      3      6  Unico"
      ],
      "text/html": [
       "<div>\n",
       "<style scoped>\n",
       "    .dataframe tbody tr th:only-of-type {\n",
       "        vertical-align: middle;\n",
       "    }\n",
       "\n",
       "    .dataframe tbody tr th {\n",
       "        vertical-align: top;\n",
       "    }\n",
       "\n",
       "    .dataframe thead th {\n",
       "        text-align: right;\n",
       "    }\n",
       "</style>\n",
       "<table border=\"1\" class=\"dataframe\">\n",
       "  <thead>\n",
       "    <tr style=\"text-align: right;\">\n",
       "      <th></th>\n",
       "      <th>Col A</th>\n",
       "      <th>Col B</th>\n",
       "      <th>ColC</th>\n",
       "    </tr>\n",
       "  </thead>\n",
       "  <tbody>\n",
       "    <tr>\n",
       "      <th>0</th>\n",
       "      <td>1</td>\n",
       "      <td>4</td>\n",
       "      <td>Unico</td>\n",
       "    </tr>\n",
       "    <tr>\n",
       "      <th>1</th>\n",
       "      <td>2</td>\n",
       "      <td>5</td>\n",
       "      <td>Unico</td>\n",
       "    </tr>\n",
       "    <tr>\n",
       "      <th>2</th>\n",
       "      <td>3</td>\n",
       "      <td>6</td>\n",
       "      <td>Unico</td>\n",
       "    </tr>\n",
       "  </tbody>\n",
       "</table>\n",
       "</div>"
      ]
     },
     "execution_count": 34,
     "metadata": {},
     "output_type": "execute_result"
    }
   ],
   "execution_count": 34
  },
  {
   "metadata": {
    "ExecuteTime": {
     "end_time": "2024-03-15T01:46:42.351346Z",
     "start_time": "2024-03-15T01:46:42.348038Z"
    }
   },
   "cell_type": "code",
   "source": [
    "lista_c = []\n",
    "for i in a:\n",
    "    if i not in lista_c:\n",
    "        lista_c.append(i)\n",
    "print(lista_c)"
   ],
   "id": "501479d3e88a054f",
   "outputs": [
    {
     "name": "stdout",
     "output_type": "stream",
     "text": [
      "[1, 2, 3, 4, 5]\n"
     ]
    }
   ],
   "execution_count": 38
  },
  {
   "metadata": {
    "ExecuteTime": {
     "end_time": "2024-03-15T01:48:37.413589Z",
     "start_time": "2024-03-15T01:48:37.407028Z"
    }
   },
   "cell_type": "code",
   "source": [
    "lista_d = [i for i in a if i not in lista_c]\n",
    "print(lista_d)"
   ],
   "id": "9a22c39e5242bcd4",
   "outputs": [
    {
     "name": "stdout",
     "output_type": "stream",
     "text": [
      "[]\n"
     ]
    }
   ],
   "execution_count": 41
  },
  {
   "metadata": {},
   "cell_type": "code",
   "outputs": [],
   "execution_count": null,
   "source": "",
   "id": "f9c7d65e119f5f7d"
  }
 ],
 "metadata": {
  "kernelspec": {
   "display_name": "Python 3",
   "language": "python",
   "name": "python3"
  },
  "language_info": {
   "codemirror_mode": {
    "name": "ipython",
    "version": 2
   },
   "file_extension": ".py",
   "mimetype": "text/x-python",
   "name": "python",
   "nbconvert_exporter": "python",
   "pygments_lexer": "ipython2",
   "version": "2.7.6"
  }
 },
 "nbformat": 4,
 "nbformat_minor": 5
}
