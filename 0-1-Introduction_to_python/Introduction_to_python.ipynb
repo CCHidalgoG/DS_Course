{
 "cells": [
  {
   "metadata": {
    "ExecuteTime": {
     "end_time": "2024-03-19T16:58:34.714538Z",
     "start_time": "2024-03-19T16:58:34.710570Z"
    }
   },
   "cell_type": "code",
   "source": "from IPython.display import HTML",
   "id": "6991269f5c6d59f",
   "outputs": [],
   "execution_count": 2
  },
  {
   "metadata": {},
   "cell_type": "markdown",
   "source": "# Listas",
   "id": "4479ac943defbb8a"
  },
  {
   "metadata": {
    "ExecuteTime": {
     "end_time": "2024-03-15T01:43:58.441832Z",
     "start_time": "2024-03-15T01:43:58.437326Z"
    }
   },
   "cell_type": "code",
   "source": [
    "import pandas as pd\n",
    "\n",
    "a = [1,2,3,4,5, 5, 5, 5]\n",
    "b = (1, 2, 3, 4, 5)"
   ],
   "id": "8524aad515c3397c",
   "outputs": [],
   "execution_count": 35
  },
  {
   "metadata": {
    "ExecuteTime": {
     "end_time": "2024-03-15T01:41:55.166671Z",
     "start_time": "2024-03-15T01:41:55.160382Z"
    }
   },
   "cell_type": "code",
   "source": "# a.sort(reverse=True)",
   "id": "acfe88ffa8af094c",
   "outputs": [],
   "execution_count": 28
  },
  {
   "metadata": {
    "ExecuteTime": {
     "end_time": "2024-03-15T01:41:55.440629Z",
     "start_time": "2024-03-15T01:41:55.436967Z"
    }
   },
   "cell_type": "code",
   "source": "lista_atend = []",
   "id": "17530322ace36724",
   "outputs": [],
   "execution_count": 29
  },
  {
   "metadata": {
    "ExecuteTime": {
     "end_time": "2024-03-15T01:41:55.793019Z",
     "start_time": "2024-03-15T01:41:55.789646Z"
    }
   },
   "cell_type": "code",
   "source": [
    "b = a.copy()\n",
    "for cliente in range(len(a)):\n",
    "    tmp = b.pop()\n",
    "    lista_atend.append(tmp)"
   ],
   "id": "553dfb384b2e2a3d",
   "outputs": [],
   "execution_count": 30
  },
  {
   "metadata": {
    "ExecuteTime": {
     "end_time": "2024-03-15T01:41:56.213171Z",
     "start_time": "2024-03-15T01:41:56.207773Z"
    }
   },
   "cell_type": "code",
   "source": "lista_atend",
   "id": "5e0222bbd7d4a49c",
   "outputs": [
    {
     "data": {
      "text/plain": [
       "[5, 4, 3, 2, 1]"
      ]
     },
     "execution_count": 31,
     "metadata": {},
     "output_type": "execute_result"
    }
   ],
   "execution_count": 31
  },
  {
   "metadata": {
    "ExecuteTime": {
     "end_time": "2024-03-15T01:42:44.884825Z",
     "start_time": "2024-03-15T01:42:44.875880Z"
    }
   },
   "cell_type": "code",
   "source": "pd.DataFrame({'Col A': [1, 2, 3], 'Col B': [4, 5, 6], 'ColC': 'Unico'})",
   "id": "621e4eff515edd9c",
   "outputs": [
    {
     "data": {
      "text/plain": [
       "   Col A  Col B   ColC\n",
       "0      1      4  Unico\n",
       "1      2      5  Unico\n",
       "2      3      6  Unico"
      ],
      "text/html": [
       "<div>\n",
       "<style scoped>\n",
       "    .dataframe tbody tr th:only-of-type {\n",
       "        vertical-align: middle;\n",
       "    }\n",
       "\n",
       "    .dataframe tbody tr th {\n",
       "        vertical-align: top;\n",
       "    }\n",
       "\n",
       "    .dataframe thead th {\n",
       "        text-align: right;\n",
       "    }\n",
       "</style>\n",
       "<table border=\"1\" class=\"dataframe\">\n",
       "  <thead>\n",
       "    <tr style=\"text-align: right;\">\n",
       "      <th></th>\n",
       "      <th>Col A</th>\n",
       "      <th>Col B</th>\n",
       "      <th>ColC</th>\n",
       "    </tr>\n",
       "  </thead>\n",
       "  <tbody>\n",
       "    <tr>\n",
       "      <th>0</th>\n",
       "      <td>1</td>\n",
       "      <td>4</td>\n",
       "      <td>Unico</td>\n",
       "    </tr>\n",
       "    <tr>\n",
       "      <th>1</th>\n",
       "      <td>2</td>\n",
       "      <td>5</td>\n",
       "      <td>Unico</td>\n",
       "    </tr>\n",
       "    <tr>\n",
       "      <th>2</th>\n",
       "      <td>3</td>\n",
       "      <td>6</td>\n",
       "      <td>Unico</td>\n",
       "    </tr>\n",
       "  </tbody>\n",
       "</table>\n",
       "</div>"
      ]
     },
     "execution_count": 34,
     "metadata": {},
     "output_type": "execute_result"
    }
   ],
   "execution_count": 34
  },
  {
   "metadata": {
    "ExecuteTime": {
     "end_time": "2024-03-15T01:46:42.351346Z",
     "start_time": "2024-03-15T01:46:42.348038Z"
    }
   },
   "cell_type": "code",
   "source": [
    "lista_c = []\n",
    "for i in a:\n",
    "    if i not in lista_c:\n",
    "        lista_c.append(i)\n",
    "print(lista_c)"
   ],
   "id": "501479d3e88a054f",
   "outputs": [
    {
     "name": "stdout",
     "output_type": "stream",
     "text": [
      "[1, 2, 3, 4, 5]\n"
     ]
    }
   ],
   "execution_count": 38
  },
  {
   "metadata": {
    "ExecuteTime": {
     "end_time": "2024-03-15T01:48:37.413589Z",
     "start_time": "2024-03-15T01:48:37.407028Z"
    }
   },
   "cell_type": "code",
   "source": [
    "lista_d = [i for i in a if i not in lista_c]\n",
    "print(lista_d)"
   ],
   "id": "9a22c39e5242bcd4",
   "outputs": [
    {
     "name": "stdout",
     "output_type": "stream",
     "text": [
      "[]\n"
     ]
    }
   ],
   "execution_count": 41
  },
  {
   "metadata": {},
   "cell_type": "markdown",
   "source": "## Prácticas",
   "id": "687fc52d2e05e6e4"
  },
  {
   "metadata": {},
   "cell_type": "markdown",
   "source": "### Práctica 1",
   "id": "47378a4def0b78ec"
  },
  {
   "metadata": {},
   "cell_type": "markdown",
   "source": [
    "\n",
    "Tienes una lista de números enteros. Tu tarea es escribir una función que encuentre el número que aparece más veces en la lista y cuántas veces aparece. Si hay más de un número que aparece el número máximo de veces, la función debe devolver cualquiera de ellos.\n",
    "\n",
    "Por ejemplo, si la lista es `[1, 2, 2, 3, 3, 3]`, la función debe devolver algo como `(3, 3)` porque el número 3 aparece 3 veces, que es más que cualquier otro número.\n",
    "\n",
    "Este problema te ayudará a practicar con listas y a entender cómo usar la biblioteca `collections` para analizar datos en una lista."
   ],
   "id": "f7f38b23bdbe3350"
  },
  {
   "metadata": {},
   "cell_type": "markdown",
   "source": [
    "'''<script>\n",
    "code_show=true; \n",
    "from collections import Counter\n",
    "\n",
    "def most_common(lst):\n",
    "    \"\"\"\n",
    "    This function finds the most common element in a list and its count.\n",
    "\n",
    "    Parameters:\n",
    "    lst (list): The list to be analyzed.\n",
    "\n",
    "    Returns:\n",
    "    tuple: A tuple where the first element is the most common element in the list and the second element is its count.\n",
    "    \"\"\"\n",
    "    data = Counter(lst)\n",
    "    common_data = data.most_common(1)[0]\n",
    "    return common_data\n",
    "# Test the function\n",
    "print(most_common([1, 2, 2, 3, 3, 3]))  # Output: (3, 3)\n",
    "$( document ).ready(code_toggle);\n",
    "</script>\n",
    "Puede encontrar la solución <a href=\"javascript:code_toggle()\">aquí</a>.'''"
   ],
   "id": "ae99a7c21b5bf2a1"
  },
  {
   "metadata": {},
   "cell_type": "markdown",
   "source": "",
   "id": "fb4d9aa3ebef7295"
  },
  {
   "metadata": {},
   "cell_type": "markdown",
   "source": "### Práctica 2",
   "id": "d69e772b461a8e58"
  },
  {
   "metadata": {},
   "cell_type": "markdown",
   "source": "Escriba un programa en python que reciba un número entero y devuelva una lista con los dígitos del número. Por ejemplo, si el número es 1234, la lista debe ser `[1, 2, 3, 4]`.\n",
   "id": "e4941fb13151ea74"
  },
  {
   "metadata": {},
   "cell_type": "markdown",
   "source": [
    "'''<script>\n",
    "code_show=true; \n",
    "def integer_to_list(n):\n",
    "    return [int(digit) for digit in str(n)]\n",
    "$( document ).ready(code_toggle);\n",
    "# Para probar\n",
    "print(integer_to_list(56897))  # Output: [5, 6, 8, 9, 7]\n",
    "</script>\n",
    "Puede encontrar la solución <a href=\"javascript:code_toggle()\">aquí</a>.'''"
   ],
   "id": "e42e70585d9936a0"
  },
  {
   "metadata": {},
   "cell_type": "markdown",
   "source": "### Práctica 3",
   "id": "eae2c9b6bfccec2b"
  },
  {
   "metadata": {},
   "cell_type": "markdown",
   "source": "Escriba una función n_primos que reciba un número entero positivo n>2 y devuelva una lista con los números primos entre 2 y n. Un número primo es un número que solo es divisible por 1 y por sí mismo.",
   "id": "aae352287c2069c3"
  },
  {
   "metadata": {},
   "cell_type": "markdown",
   "source": [
    "'''<script>\n",
    "code_show=true; \n",
    "def n_primos(n):\n",
    "    primes = []\n",
    "    for possiblePrime in range(2, n+1):\n",
    "        isPrime = True\n",
    "        for num in range(2, possiblePrime):\n",
    "            if possiblePrime % num == 0:\n",
    "                isPrime = False\n",
    "        if isPrime:\n",
    "            primes.append(possiblePrime)\n",
    "    return primes\n",
    "$( document ).ready(code_toggle);\n",
    "# Para probar\n",
    "print(n_primos(100))  # Output: [2, 3, 5, 7, 11, 13, 17, 19, 23, 29, 31, 37, 41, 43, 47, 53, 59, 61, 67, 71, 73, 79, 83, 89, 97]\n",
    "</script>\n",
    "Puede encontrar la solución <a href=\"javascript:code_toggle()\">aquí</a>.'''"
   ],
   "id": "768160037542b42b"
  },
  {
   "metadata": {},
   "cell_type": "markdown",
   "source": "# Diccionarios",
   "id": "c17eb56cc6c724f7"
  },
  {
   "metadata": {},
   "cell_type": "markdown",
   "source": "Un diccionario es una colección no ordenada de pares clave: valor. En python, los diccionarios se definen con llaves `{}`. Los elementos del diccionario son accesibles mediante la clave. Los diccionarios son mutables, lo que significa que pueden modificarse después de su creación. Las claves de un diccionario deben ser únicas, pero los valores no. Los valores de un diccionario pueden ser de cualquier tipo, pero las claves deben ser de un tipo de datos inmutable, como cadenas, números o tuplas. Los diccionarios son útiles para almacenar relaciones entre elementos y para buscar rápidamente un valor a partir de su clave.",
   "id": "25d5a976aa1819b3"
  },
  {
   "metadata": {},
   "cell_type": "markdown",
   "source": "## Crear un diccionario",
   "id": "60212d0c5d6ba36d"
  },
  {
   "metadata": {},
   "cell_type": "markdown",
   "source": [
    "Para crear un diccionario, se utilizan llaves `{}` y los elementos se separan por comas. Cada elemento del diccionario es un par clave: valor. La clave y el valor se separan por dos puntos `:`. Por ejemplo:\n",
    "```python\n",
    "my_dict = {'key1': 'value1', 'key2': 'value2', 'key3': 'value3'}\n",
    "```"
   ],
   "id": "8482cb9fad86bc04"
  },
  {
   "metadata": {
    "ExecuteTime": {
     "end_time": "2024-03-19T22:47:33.955497Z",
     "start_time": "2024-03-19T22:47:33.952047Z"
    }
   },
   "cell_type": "code",
   "source": [
    "# Ejercicio\n",
    "# Crea un diccionario con las siguientes claves y valores:\n",
    "# 'nombre': 'Juan', 'edad': 25, 'ciudad': 'Bogotá'\n",
    "my_dict = {'nombre': 'Juan', 'edad': 25, 'ciudad': 'Bogotá'}"
   ],
   "id": "313e152182cb5c3d",
   "outputs": [],
   "execution_count": 3
  },
  {
   "metadata": {},
   "cell_type": "markdown",
   "source": "### Practica 1",
   "id": "53103388e8011ea0"
  },
  {
   "metadata": {},
   "cell_type": "markdown",
   "source": "Ejercicio: Crear una función que reciba una lista de strings y devuelva un diccionario donde las claves sean las palabras únicas en la lista y los valores sean la cantidad de veces que cada palabra aparece en la lista.  Por ejemplo, si la lista es ['manzana', 'banana', 'manzana', 'pera', 'manzana', 'banana', 'pera', 'pera'], la función debe devolver el siguiente diccionario: {'manzana': 3, 'banana': 2, 'pera': 3}.  Para resolver este ejercicio, puedes utilizar el objeto Counter de la biblioteca collections en Python, que crea un diccionario de conteo a partir de un iterable.",
   "id": "73ceff013548fd7f"
  },
  {
   "metadata": {},
   "cell_type": "markdown",
   "source": [
    "Ingrese la siguiente lista:\n",
    "```python\n",
    "['manzana', 'banana', 'manzana', 'pera', 'manzana', 'banana', 'pera', 'pera']\n",
    "```"
   ],
   "id": "2199e12d2775fa16"
  },
  {
   "metadata": {},
   "cell_type": "markdown",
   "source": [
    "'''<script>\n",
    "code_show=true; \n",
    "from collections import Counter\n",
    "\n",
    "def count_words(word_list):\n",
    "    return dict(Counter(word_list))\n",
    "from collections import Counter\n",
    "\n",
    "def count_words(word_list):\n",
    "    return dict(Counter(word_list))\n",
    "\n",
    "# Para probar\n",
    "print(count_words(['manzana', 'banana', 'manzana', 'pera', 'manzana', 'banana', 'pera', 'pera']))\n",
    "# Output: {'manzana': 3, 'banana': 2, 'pera': 3}\n",
    "$( document ).ready(code_toggle);\n",
    "# Para probar\n",
    "\n",
    "</script>\n",
    "Puede encontrar la solución <a href=\"javascript:code_toggle()\">aquí</a>.'''"
   ],
   "id": "7e067cf83a50c8c8"
  }
 ],
 "metadata": {
  "kernelspec": {
   "display_name": "Python 3",
   "language": "python",
   "name": "python3"
  },
  "language_info": {
   "codemirror_mode": {
    "name": "ipython",
    "version": 2
   },
   "file_extension": ".py",
   "mimetype": "text/x-python",
   "name": "python",
   "nbconvert_exporter": "python",
   "pygments_lexer": "ipython2",
   "version": "2.7.6"
  }
 },
 "nbformat": 4,
 "nbformat_minor": 5
}
